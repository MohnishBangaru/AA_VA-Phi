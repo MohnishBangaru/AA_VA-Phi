{
 "cells": [
  {
   "cell_type": "markdown",
   "id": "be7c3c69",
   "metadata": {},
   "source": [
    "\n",
    "Script to convert Python files to Jupyter notebooks.\n",
    "This script will convert all .py files in the AA_VA-Phi repository to .ipynb format."
   ]
  },
  {
   "cell_type": "markdown",
   "id": "20314ef4",
   "metadata": {},
   "source": [
    "#!/usr/bin/env python3"
   ]
  },
  {
   "cell_type": "markdown",
   "id": "7b4b8f1d",
   "metadata": {},
   "source": [
    "\n",
    "    Convert a Python file to a Jupyter notebook.\n",
    "    \n",
    "    Args:\n",
    "        python_file_path: Path to the Python file\n",
    "        output_dir: Output directory for the notebook (defaults to same directory)\n",
    "    \n",
    "    Returns:\n",
    "        Path to the created notebook file"
   ]
  },
  {
   "cell_type": "code",
   "execution_count": null,
   "id": "647afba2",
   "metadata": {},
   "outputs": [],
   "source": [
    "\n",
    "import os\n",
    "import json\n",
    "import re\n",
    "from pathlib import Path\n",
    "from typing import List, Dict, Any\n",
    "\n",
    "def create_notebook_from_python(python_file_path: str, output_dir: str = None) -> str:\n",
    "    python_path = Path(python_file_path)\n",
    "    \n",
    "    if output_dir is None:\n",
    "        output_dir = python_path.parent\n",
    "    else:\n",
    "        output_dir = Path(output_dir)\n",
    "        output_dir.mkdir(parents=True, exist_ok=True)\n",
    "    "
   ]
  },
  {
   "cell_type": "markdown",
   "id": "a7cecb65",
   "metadata": {},
   "source": [
    "    # Read the Python file"
   ]
  },
  {
   "cell_type": "code",
   "execution_count": null,
   "id": "93bbe535",
   "metadata": {},
   "outputs": [],
   "source": [
    "    with open(python_file_path, 'r', encoding='utf-8') as f:\n",
    "        python_content = f.read()\n",
    "    "
   ]
  },
  {
   "cell_type": "markdown",
   "id": "f41b31dc",
   "metadata": {},
   "source": [
    "    # Split content into cells"
   ]
  },
  {
   "cell_type": "code",
   "execution_count": null,
   "id": "0f3dcad7",
   "metadata": {},
   "outputs": [],
   "source": [
    "    cells = split_python_into_cells(python_content)\n",
    "    "
   ]
  },
  {
   "cell_type": "markdown",
   "id": "ed90bc07",
   "metadata": {},
   "source": [
    "    # Create notebook structure"
   ]
  },
  {
   "cell_type": "code",
   "execution_count": null,
   "id": "f8edf12c",
   "metadata": {},
   "outputs": [],
   "source": [
    "    notebook = {\n",
    "        \"cells\": cells,\n",
    "        \"metadata\": {\n",
    "            \"kernelspec\": {\n",
    "                \"display_name\": \"Python 3\",\n",
    "                \"language\": \"python\",\n",
    "                \"name\": \"python3\"\n",
    "            },\n",
    "            \"language_info\": {\n",
    "                \"codemirror_mode\": {\n",
    "                    \"name\": \"ipython\",\n",
    "                    \"version\": 3\n",
    "                },\n",
    "                \"file_extension\": \".py\",\n",
    "                \"mimetype\": \"text/x-python\",\n",
    "                \"name\": \"python\",\n",
    "                \"nbconvert_exporter\": \"python\",\n",
    "                \"pygments_lexer\": \"ipython3\",\n",
    "                \"version\": \"3.10.0\"\n",
    "            }\n",
    "        },\n",
    "        \"nbformat\": 4,\n",
    "        \"nbformat_minor\": 4\n",
    "    }\n",
    "    "
   ]
  },
  {
   "cell_type": "markdown",
   "id": "b515c1e6",
   "metadata": {},
   "source": [
    "    # Write notebook file"
   ]
  },
  {
   "cell_type": "markdown",
   "id": "5a6d30c1",
   "metadata": {},
   "source": [
    "\n",
    "    Split Python content into notebook cells.\n",
    "    \n",
    "    Args:\n",
    "        python_content: The Python file content\n",
    "    \n",
    "    Returns:\n",
    "        List of notebook cells"
   ]
  },
  {
   "cell_type": "code",
   "execution_count": null,
   "id": "7765fe09",
   "metadata": {},
   "outputs": [],
   "source": [
    "    notebook_path = output_dir / f\"{python_path.stem}.ipynb\"\n",
    "    with open(notebook_path, 'w', encoding='utf-8') as f:\n",
    "        json.dump(notebook, f, indent=2, ensure_ascii=False)\n",
    "    \n",
    "    return str(notebook_path)\n",
    "\n",
    "def split_python_into_cells(python_content: str) -> List[Dict[str, Any]]:\n",
    "    cells = []\n",
    "    "
   ]
  },
  {
   "cell_type": "markdown",
   "id": "28008e4c",
   "metadata": {},
   "source": [
    "    # Split by lines"
   ]
  },
  {
   "cell_type": "code",
   "execution_count": null,
   "id": "288b29a3",
   "metadata": {},
   "outputs": [],
   "source": [
    "    lines = python_content.split('\\n')\n",
    "    \n",
    "    current_cell = []\n",
    "    current_cell_type = \"code\"\n",
    "    \n",
    "    for line in lines:"
   ]
  },
  {
   "cell_type": "markdown",
   "id": "440253cd",
   "metadata": {},
   "source": [
    "        # Check for markdown cells (docstrings, comments)"
   ]
  },
  {
   "cell_type": "code",
   "execution_count": null,
   "id": "65f5b416",
   "metadata": {},
   "outputs": [],
   "source": [
    "        if is_markdown_line(line):"
   ]
  },
  {
   "cell_type": "markdown",
   "id": "d6699198",
   "metadata": {},
   "source": [
    "            # If we have code in current cell, save it"
   ]
  },
  {
   "cell_type": "code",
   "execution_count": null,
   "id": "a9f2e7fd",
   "metadata": {},
   "outputs": [],
   "source": [
    "            if current_cell and current_cell_type == \"code\":\n",
    "                cells.append(create_code_cell(current_cell))\n",
    "                current_cell = []\n",
    "            "
   ]
  },
  {
   "cell_type": "markdown",
   "id": "2c848a2a",
   "metadata": {},
   "source": [
    "            # Start or continue markdown cell"
   ]
  },
  {
   "cell_type": "code",
   "execution_count": null,
   "id": "9dc36e22",
   "metadata": {},
   "outputs": [],
   "source": [
    "            if current_cell_type != \"markdown\":\n",
    "                current_cell_type = \"markdown\"\n",
    "                current_cell = []\n",
    "            \n",
    "            current_cell.append(line)\n",
    "        else:"
   ]
  },
  {
   "cell_type": "markdown",
   "id": "4e91dfdf",
   "metadata": {},
   "source": [
    "            # If we have markdown in current cell, save it"
   ]
  },
  {
   "cell_type": "code",
   "execution_count": null,
   "id": "9189ed6d",
   "metadata": {},
   "outputs": [],
   "source": [
    "            if current_cell and current_cell_type == \"markdown\":\n",
    "                cells.append(create_markdown_cell(current_cell))\n",
    "                current_cell = []\n",
    "            "
   ]
  },
  {
   "cell_type": "markdown",
   "id": "65c287bc",
   "metadata": {},
   "source": [
    "            # Start or continue code cell"
   ]
  },
  {
   "cell_type": "code",
   "execution_count": null,
   "id": "334bb545",
   "metadata": {},
   "outputs": [],
   "source": [
    "            if current_cell_type != \"code\":\n",
    "                current_cell_type = \"code\"\n",
    "                current_cell = []\n",
    "            \n",
    "            current_cell.append(line)\n",
    "    "
   ]
  },
  {
   "cell_type": "markdown",
   "id": "af6d87cb",
   "metadata": {},
   "source": [
    "    # Add the last cell"
   ]
  },
  {
   "cell_type": "markdown",
   "id": "93919c07",
   "metadata": {},
   "source": [
    "\n",
    "    Determine if a line should be treated as markdown.\n",
    "    \n",
    "    Args:\n",
    "        line: The line to check\n",
    "    \n",
    "    Returns:\n",
    "        True if the line should be markdown"
   ]
  },
  {
   "cell_type": "code",
   "execution_count": null,
   "id": "9276b093",
   "metadata": {},
   "outputs": [],
   "source": [
    "    if current_cell:\n",
    "        if current_cell_type == \"markdown\":\n",
    "            cells.append(create_markdown_cell(current_cell))\n",
    "        else:\n",
    "            cells.append(create_code_cell(current_cell))\n",
    "    \n",
    "    return cells\n",
    "\n",
    "def is_markdown_line(line: str) -> bool:\n",
    "    stripped = line.strip()\n",
    "    "
   ]
  },
  {
   "cell_type": "markdown",
   "id": "2e7bbdbc",
   "metadata": {},
   "source": [
    "    # Empty lines"
   ]
  },
  {
   "cell_type": "code",
   "execution_count": null,
   "id": "8fe49d2a",
   "metadata": {},
   "outputs": [],
   "source": [
    "    if not stripped:\n",
    "        return False\n",
    "    "
   ]
  },
  {
   "cell_type": "markdown",
   "id": "6d68e478",
   "metadata": {},
   "source": [
    "') or stripped.startswith(\"'''\"):\n",
    "        return True\n",
    "    \n",
    "    # Comments that look like documentation\n",
    "    if stripped.startswith('#'):\n",
    "        # Skip simple comments, keep documentation comments\n",
    "        if len(stripped) > 2 and not stripped.startswith('# '):\n",
    "            return True\n",
    "        if any(keyword in stripped.lower() for keyword in ['note:', 'warning:', 'todo:', 'fixme:', 'important:']):\n",
    "            return True\n",
    "    \n",
    "    return False\n",
    "\n",
    "def create_code_cell(lines: List[str]) -> Dict[str, Any]:"
   ]
  },
  {
   "cell_type": "markdown",
   "id": "82e6afe8",
   "metadata": {},
   "source": [
    "    # Docstring lines"
   ]
  },
  {
   "cell_type": "markdown",
   "id": "24842f99",
   "metadata": {},
   "source": [
    "\n",
    "    # Remove trailing empty lines\n",
    "    while lines and not lines[-1].strip():\n",
    "        lines.pop()\n",
    "    \n",
    "    return {\n",
    "        \"cell_type\": \"code\",\n",
    "        \"execution_count\": None,\n",
    "        \"metadata\": {},\n",
    "        \"outputs\": [],\n",
    "        \"source\": lines\n",
    "    }\n",
    "\n",
    "def create_markdown_cell(lines: List[str]) -> Dict[str, Any]:"
   ]
  },
  {
   "cell_type": "markdown",
   "id": "ff45d7a1",
   "metadata": {},
   "source": [
    "\n",
    "    # Convert Python comments to markdown\n",
    "    markdown_lines = []\n",
    "    for line in lines:\n",
    "        stripped = line.strip()\n",
    "        if stripped.startswith('#'):\n",
    "            # Convert comment to markdown\n",
    "            markdown_lines.append(stripped[1:].lstrip())"
   ]
  },
  {
   "cell_type": "code",
   "execution_count": null,
   "id": "ad8b68b5",
   "metadata": {},
   "outputs": [],
   "source": [
    "    Create a code cell from lines.\n",
    "    \n",
    "    Args:\n",
    "        lines: The lines of code\n",
    "    \n",
    "    Returns:\n",
    "        Notebook cell dictionary\n",
    "    Create a markdown cell from lines.\n",
    "    \n",
    "    Args:\n",
    "        lines: The lines of markdown\n",
    "    \n",
    "    Returns:\n",
    "        Notebook cell dictionary"
   ]
  },
  {
   "cell_type": "markdown",
   "id": "c2ee0b50",
   "metadata": {},
   "source": [
    "') or stripped.endswith(\"'''\"):\n",
    "                # Single line docstring"
   ]
  },
  {
   "cell_type": "markdown",
   "id": "4443e36e",
   "metadata": {},
   "source": [
    "            # Handle docstrings"
   ]
  },
  {
   "cell_type": "code",
   "execution_count": null,
   "id": "74baa7b0",
   "metadata": {},
   "outputs": [],
   "source": [
    "                markdown_lines.append(content)\n",
    "            else:"
   ]
  },
  {
   "cell_type": "markdown",
   "id": "2d7d11cf",
   "metadata": {},
   "source": [
    "') else stripped[3:]\n",
    "                markdown_lines.append(content)\n",
    "        else:\n",
    "            markdown_lines.append(line)\n",
    "    \n",
    "    # Remove trailing empty lines\n",
    "    while markdown_lines and not markdown_lines[-1].strip():\n",
    "        markdown_lines.pop()\n",
    "    \n",
    "    return {\n",
    "        \"cell_type\": \"markdown\",\n",
    "        \"metadata\": {},\n",
    "        \"source\": markdown_lines\n",
    "    }\n",
    "\n",
    "def convert_repository_to_notebooks():"
   ]
  },
  {
   "cell_type": "markdown",
   "id": "c5d7d00e",
   "metadata": {},
   "source": [
    "                # Start of multi-line docstring"
   ]
  },
  {
   "cell_type": "code",
   "execution_count": null,
   "id": "4a406c8c",
   "metadata": {},
   "outputs": [],
   "source": [
    "    Convert all Python files in the repository to notebooks."
   ]
  }
 ],
 "metadata": {
  "kernelspec": {
   "display_name": "Python 3",
   "language": "python",
   "name": "python3"
  },
  "language_info": {
   "codemirror_mode": {
    "name": "ipython",
    "version": 3
   },
   "file_extension": ".py",
   "mimetype": "text/x-python",
   "name": "python",
   "nbconvert_exporter": "python",
   "pygments_lexer": "ipython3",
   "version": "3.10.0"
  }
 },
 "nbformat": 4,
 "nbformat_minor": 5
}
