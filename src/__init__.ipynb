{
 "cells": [
  {
   "cell_type": "markdown",
   "id": "7b4822d8",
   "metadata": {},
   "source": [
    "DroidBot-GPT Framework.\n",
    "\n",
    "An intelligent Android automation framework with AI-powered decision making."
   ]
  },
  {
   "cell_type": "code",
   "execution_count": null,
   "id": "73205bda",
   "metadata": {},
   "outputs": [],
   "source": [
    "\n",
    "__version__ = \"1.0.0\"\n",
    "__author__ = \"DroidNot\"\n",
    "__description__ = \"Intelligent Android automation with GPT integration\" "
   ]
  }
 ],
 "metadata": {
  "kernelspec": {
   "display_name": "Python 3",
   "language": "python",
   "name": "python3"
  },
  "language_info": {
   "codemirror_mode": {
    "name": "ipython",
    "version": 3
   },
   "file_extension": ".py",
   "mimetype": "text/x-python",
   "name": "python",
   "nbconvert_exporter": "python",
   "pygments_lexer": "ipython3",
   "version": "3.10.0"
  }
 },
 "nbformat": 4,
 "nbformat_minor": 5
}
