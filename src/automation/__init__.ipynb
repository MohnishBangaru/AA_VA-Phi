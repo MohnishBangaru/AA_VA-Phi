{
 "cells": [
  {
   "cell_type": "markdown",
   "id": "484f818b",
   "metadata": {},
   "source": [
    "Android automation logic and task execution engine.\n",
    "\n",
    "This sub-package provides the core automation capabilities including:\n",
    "- Task planning and execution\n",
    "- Action sequence management\n",
    "- State tracking and validation\n",
    "- Error recovery and retry logic"
   ]
  },
  {
   "cell_type": "code",
   "execution_count": null,
   "id": "113eda05",
   "metadata": {},
   "outputs": [],
   "source": [
    "\n",
    "from .action_executor import ActionExecutor\n",
    "from .task_planner import TaskPlanner\n",
    "from .state_tracker import StateTracker\n",
    "from .error_handler import ErrorHandler\n",
    "\n",
    "__all__ = [\n",
    "    \"ActionExecutor\",\n",
    "    \"TaskPlanner\", \n",
    "    \"StateTracker\",\n",
    "    \"ErrorHandler\",\n",
    "] "
   ]
  }
 ],
 "metadata": {
  "kernelspec": {
   "display_name": "Python 3",
   "language": "python",
   "name": "python3"
  },
  "language_info": {
   "codemirror_mode": {
    "name": "ipython",
    "version": 3
   },
   "file_extension": ".py",
   "mimetype": "text/x-python",
   "name": "python",
   "nbconvert_exporter": "python",
   "pygments_lexer": "ipython3",
   "version": "3.10.0"
  }
 },
 "nbformat": 4,
 "nbformat_minor": 5
}
