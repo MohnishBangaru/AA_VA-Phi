{
 "cells": [
  {
   "cell_type": "markdown",
   "id": "844f8075",
   "metadata": {},
   "source": [
    "State tracking and monitoring for Android automation."
   ]
  },
  {
   "cell_type": "markdown",
   "id": "458b6a8d",
   "metadata": {},
   "source": [
    "Tracks and monitors device state changes during automation."
   ]
  },
  {
   "cell_type": "markdown",
   "id": "4ad7e0d7",
   "metadata": {},
   "source": [
    "Initialize the state tracker."
   ]
  },
  {
   "cell_type": "markdown",
   "id": "87d99cc4",
   "metadata": {},
   "source": [
    "Update the current state and track changes.\n",
    "        \n",
    "        Args:\n",
    "            new_state: New device state information.\n",
    "            \n",
    "        Returns:\n",
    "            Dict containing state change information."
   ]
  },
  {
   "cell_type": "code",
   "execution_count": null,
   "id": "f88eeff0",
   "metadata": {},
   "outputs": [],
   "source": [
    "\n",
    "from __future__ import annotations\n",
    "\n",
    "import time\n",
    "from typing import Any, Dict, List, Optional\n",
    "\n",
    "from ..core.logger import log\n",
    "\n",
    "\n",
    "class StateTracker:\n",
    "    \n",
    "    def __init__(self):\n",
    "        self.state_history: List[Dict[str, Any]] = []\n",
    "        self.current_state: Optional[Dict[str, Any]] = None\n",
    "        self.state_change_threshold = 0.1  # Minimum change to consider significant\n",
    "        \n",
    "    def update_state(self, new_state: Dict[str, Any]) -> Dict[str, Any]:\n",
    "        timestamp = time.time()\n",
    "        "
   ]
  },
  {
   "cell_type": "markdown",
   "id": "2f367b9a",
   "metadata": {},
   "source": [
    "        # Add timestamp to state"
   ]
  },
  {
   "cell_type": "code",
   "execution_count": null,
   "id": "80bf790b",
   "metadata": {},
   "outputs": [],
   "source": [
    "        new_state['timestamp'] = timestamp\n",
    "        "
   ]
  },
  {
   "cell_type": "markdown",
   "id": "4e8188cd",
   "metadata": {},
   "source": [
    "        # Calculate state changes"
   ]
  },
  {
   "cell_type": "code",
   "execution_count": null,
   "id": "2831dd6a",
   "metadata": {},
   "outputs": [],
   "source": [
    "        state_changes = self._calculate_state_changes(new_state)\n",
    "        "
   ]
  },
  {
   "cell_type": "markdown",
   "id": "40bf8454",
   "metadata": {},
   "source": [
    "        # Update current state"
   ]
  },
  {
   "cell_type": "code",
   "execution_count": null,
   "id": "830e89d9",
   "metadata": {},
   "outputs": [],
   "source": [
    "        self.current_state = new_state.copy()\n",
    "        "
   ]
  },
  {
   "cell_type": "markdown",
   "id": "81e4101c",
   "metadata": {},
   "source": [
    "        # Record in history"
   ]
  },
  {
   "cell_type": "code",
   "execution_count": null,
   "id": "fc4c80ec",
   "metadata": {},
   "outputs": [],
   "source": [
    "        state_record = {\n",
    "            'timestamp': timestamp,\n",
    "            'state': new_state,\n",
    "            'changes': state_changes,\n",
    "            'significant_changes': self._identify_significant_changes(state_changes)\n",
    "        }\n",
    "        \n",
    "        self.state_history.append(state_record)\n",
    "        "
   ]
  },
  {
   "cell_type": "markdown",
   "id": "3be058b0",
   "metadata": {},
   "source": [
    "        # Keep only recent history (last 100 states)"
   ]
  },
  {
   "cell_type": "markdown",
   "id": "24de8785",
   "metadata": {},
   "source": [
    "Get the current device state.\n",
    "        \n",
    "        Returns:\n",
    "            Current state dictionary or None if no state recorded."
   ]
  },
  {
   "cell_type": "markdown",
   "id": "8223e0cf",
   "metadata": {},
   "source": [
    "Get state history.\n",
    "        \n",
    "        Args:\n",
    "            limit: Maximum number of states to return.\n",
    "            \n",
    "        Returns:\n",
    "            List of state records."
   ]
  },
  {
   "cell_type": "markdown",
   "id": "5d84ef7b",
   "metadata": {},
   "source": [
    "Get state changes within a time window.\n",
    "        \n",
    "        Args:\n",
    "            time_window: Time window in seconds.\n",
    "            \n",
    "        Returns:\n",
    "            List of state changes within the window."
   ]
  },
  {
   "cell_type": "markdown",
   "id": "049fde97",
   "metadata": {},
   "source": [
    "Check if the new state represents a significant change.\n",
    "        \n",
    "        Args:\n",
    "            new_state: New state to compare against current state.\n",
    "            \n",
    "        Returns:\n",
    "            True if significant changes detected."
   ]
  },
  {
   "cell_type": "markdown",
   "id": "e152f647",
   "metadata": {},
   "source": [
    "Get a summary of the current state tracking.\n",
    "        \n",
    "        Returns:\n",
    "            Summary dictionary with statistics."
   ]
  },
  {
   "cell_type": "markdown",
   "id": "c8d6b759",
   "metadata": {},
   "source": [
    "Calculate changes between current and new state.\n",
    "        \n",
    "        Args:\n",
    "            new_state: New state to compare.\n",
    "            \n",
    "        Returns:\n",
    "            Dictionary of detected changes."
   ]
  },
  {
   "cell_type": "code",
   "execution_count": null,
   "id": "73ad116a",
   "metadata": {},
   "outputs": [],
   "source": [
    "        if len(self.state_history) > 100:\n",
    "            self.state_history = self.state_history[-100:]\n",
    "            \n",
    "        log.debug(f\"State updated at {timestamp}, {len(state_changes)} changes detected\")\n",
    "        \n",
    "        return state_record\n",
    "    \n",
    "    def get_current_state(self) -> Optional[Dict[str, Any]]:\n",
    "        return self.current_state\n",
    "    \n",
    "    def get_state_history(self, limit: Optional[int] = None) -> List[Dict[str, Any]]:\n",
    "        if limit is None:\n",
    "            return self.state_history.copy()\n",
    "        else:\n",
    "            return self.state_history[-limit:]\n",
    "    \n",
    "    def get_recent_changes(self, time_window: float = 60.0) -> List[Dict[str, Any]]:\n",
    "        current_time = time.time()\n",
    "        recent_changes = []\n",
    "        \n",
    "        for record in reversed(self.state_history):\n",
    "            if current_time - record['timestamp'] <= time_window:\n",
    "                if record['significant_changes']:\n",
    "                    recent_changes.append(record)\n",
    "            else:\n",
    "                break\n",
    "                \n",
    "        return recent_changes\n",
    "    \n",
    "    def has_state_changed_significantly(self, new_state: Dict[str, Any]) -> bool:\n",
    "        if self.current_state is None:\n",
    "            return True\n",
    "            \n",
    "        changes = self._calculate_state_changes(new_state)\n",
    "        significant_changes = self._identify_significant_changes(changes)\n",
    "        \n",
    "        return len(significant_changes) > 0\n",
    "    \n",
    "    def get_state_summary(self) -> Dict[str, Any]:\n",
    "        if not self.state_history:\n",
    "            return {\n",
    "                'total_states': 0,\n",
    "                'total_changes': 0,\n",
    "                'significant_changes': 0,\n",
    "                'last_update': None,\n",
    "                'tracking_duration': 0.0\n",
    "            }\n",
    "            \n",
    "        total_states = len(self.state_history)\n",
    "        total_changes = sum(len(record['changes']) for record in self.state_history)\n",
    "        significant_changes = sum(len(record['significant_changes']) for record in self.state_history)\n",
    "        \n",
    "        first_timestamp = self.state_history[0]['timestamp']\n",
    "        last_timestamp = self.state_history[-1]['timestamp']\n",
    "        tracking_duration = last_timestamp - first_timestamp\n",
    "        \n",
    "        return {\n",
    "            'total_states': total_states,\n",
    "            'total_changes': total_changes,\n",
    "            'significant_changes': significant_changes,\n",
    "            'last_update': last_timestamp,\n",
    "            'tracking_duration': tracking_duration,\n",
    "            'average_changes_per_state': total_changes / total_states if total_states > 0 else 0\n",
    "        }\n",
    "    \n",
    "    def _calculate_state_changes(self, new_state: Dict[str, Any]) -> Dict[str, Any]:\n",
    "        if self.current_state is None:\n",
    "            return {'initial_state': True}\n",
    "            \n",
    "        changes = {}\n",
    "        "
   ]
  },
  {
   "cell_type": "markdown",
   "id": "cd59314a",
   "metadata": {},
   "source": [
    "        # Compare basic state fields"
   ]
  },
  {
   "cell_type": "code",
   "execution_count": null,
   "id": "d920e6bf",
   "metadata": {},
   "outputs": [],
   "source": [
    "        for key in new_state:\n",
    "            if key == 'timestamp':\n",
    "                continue\n",
    "                \n",
    "            if key not in self.current_state:\n",
    "                changes[f'added_{key}'] = new_state[key]\n",
    "            elif new_state[key] != self.current_state[key]:\n",
    "                changes[f'changed_{key}'] = {\n",
    "                    'old': self.current_state[key],\n",
    "                    'new': new_state[key]\n",
    "                }\n",
    "        "
   ]
  },
  {
   "cell_type": "markdown",
   "id": "81c5ef19",
   "metadata": {},
   "source": [
    "        # Check for removed fields"
   ]
  },
  {
   "cell_type": "markdown",
   "id": "137c9bdc",
   "metadata": {},
   "source": [
    "Identify which changes are significant.\n",
    "        \n",
    "        Args:\n",
    "            changes: Dictionary of all changes.\n",
    "            \n",
    "        Returns:\n",
    "            Dictionary of significant changes only."
   ]
  },
  {
   "cell_type": "markdown",
   "id": "59e240ed",
   "metadata": {},
   "source": [
    "Determine if a change is significant.\n",
    "        \n",
    "        Args:\n",
    "            change_key: Key identifying the change.\n",
    "            change_value: Value of the change.\n",
    "            \n",
    "        Returns:\n",
    "            True if the change is considered significant."
   ]
  },
  {
   "cell_type": "code",
   "execution_count": null,
   "id": "ec80ad55",
   "metadata": {},
   "outputs": [],
   "source": [
    "        for key in self.current_state:\n",
    "            if key == 'timestamp':\n",
    "                continue\n",
    "                \n",
    "            if key not in new_state:\n",
    "                changes[f'removed_{key}'] = self.current_state[key]\n",
    "                \n",
    "        return changes\n",
    "    \n",
    "    def _identify_significant_changes(self, changes: Dict[str, Any]) -> Dict[str, Any]:\n",
    "        significant_changes = {}\n",
    "        \n",
    "        for change_key, change_value in changes.items():\n",
    "            if self._is_significant_change(change_key, change_value):\n",
    "                significant_changes[change_key] = change_value\n",
    "                \n",
    "        return significant_changes\n",
    "    \n",
    "    def _is_significant_change(self, change_key: str, change_value: Any) -> bool:"
   ]
  },
  {
   "cell_type": "markdown",
   "id": "1a72b47d",
   "metadata": {},
   "source": [
    "        # Always consider structural changes significant"
   ]
  },
  {
   "cell_type": "code",
   "execution_count": null,
   "id": "7062d4d1",
   "metadata": {},
   "outputs": [],
   "source": [
    "        if change_key.startswith(('added_', 'removed_')):\n",
    "            return True\n",
    "            "
   ]
  },
  {
   "cell_type": "markdown",
   "id": "9129d2dd",
   "metadata": {},
   "source": [
    "        # For numeric changes, check against threshold"
   ]
  },
  {
   "cell_type": "code",
   "execution_count": null,
   "id": "b5390ffe",
   "metadata": {},
   "outputs": [],
   "source": [
    "        if change_key.startswith('changed_'):\n",
    "            if isinstance(change_value, dict) and 'old' in change_value and 'new' in change_value:\n",
    "                old_val = change_value['old']\n",
    "                new_val = change_value['new']\n",
    "                \n",
    "                if isinstance(old_val, (int, float)) and isinstance(new_val, (int, float)):\n",
    "                    if old_val != 0:\n",
    "                        change_ratio = abs(new_val - old_val) / abs(old_val)\n",
    "                        return change_ratio > self.state_change_threshold\n",
    "                    else:\n",
    "                        return new_val != 0\n",
    "                        "
   ]
  },
  {
   "cell_type": "markdown",
   "id": "b5f0bc92",
   "metadata": {},
   "source": [
    "        # For other changes, consider them significant"
   ]
  },
  {
   "cell_type": "markdown",
   "id": "24f837e5",
   "metadata": {},
   "source": [
    "Clear the state history."
   ]
  },
  {
   "cell_type": "markdown",
   "id": "28f3e268",
   "metadata": {},
   "source": [
    "Export state tracking data to a file.\n",
    "        \n",
    "        Args:\n",
    "            filepath: Path to save the data.\n",
    "            \n",
    "        Returns:\n",
    "            True if export successful."
   ]
  },
  {
   "cell_type": "code",
   "execution_count": null,
   "id": "35153b59",
   "metadata": {},
   "outputs": [],
   "source": [
    "        return True\n",
    "    \n",
    "    def clear_history(self) -> None:\n",
    "        self.state_history.clear()\n",
    "        self.current_state = None\n",
    "        \n",
    "    def export_state_data(self, filepath: str) -> bool:\n",
    "        try:\n",
    "            import json\n",
    "            \n",
    "            export_data = {\n",
    "                'summary': self.get_state_summary(),\n",
    "                'history': self.state_history,\n",
    "                'current_state': self.current_state\n",
    "            }\n",
    "            \n",
    "            with open(filepath, 'w') as f:\n",
    "                json.dump(export_data, f, indent=2, default=str)\n",
    "                \n",
    "            log.info(f\"State data exported to {filepath}\")\n",
    "            return True\n",
    "            \n",
    "        except Exception as e:\n",
    "            log.error(f\"Failed to export state data: {e}\")\n",
    "            return False "
   ]
  }
 ],
 "metadata": {
  "kernelspec": {
   "display_name": "Python 3",
   "language": "python",
   "name": "python3"
  },
  "language_info": {
   "codemirror_mode": {
    "name": "ipython",
    "version": 3
   },
   "file_extension": ".py",
   "mimetype": "text/x-python",
   "name": "python",
   "nbconvert_exporter": "python",
   "pygments_lexer": "ipython3",
   "version": "3.10.0"
  }
 },
 "nbformat": 4,
 "nbformat_minor": 5
}
