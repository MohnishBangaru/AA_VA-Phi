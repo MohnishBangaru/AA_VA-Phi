{
 "cells": [
  {
   "cell_type": "markdown",
   "id": "f346b08a",
   "metadata": {},
   "source": [
    "Return mock value matching the semantic *label* of a text field.\n",
    "\n",
    "    Parameters\n",
    "    ----------\n",
    "    label : str\n",
    "        OCR-detected label/placeholder associated with an input field."
   ]
  },
  {
   "cell_type": "markdown",
   "id": "9c4f2b54",
   "metadata": {},
   "source": [
    "Convenience helper. If the soft-keyboard is open, insert a suitable mock value.\n",
    "\n",
    "    Pass the Vision/ADB utility `is_keyboard_visible` so this module stays framework-agnostic."
   ]
  },
  {
   "cell_type": "code",
   "execution_count": null,
   "id": "3b221772",
   "metadata": {},
   "outputs": [],
   "source": [
    "MOCK_DATA = {\n",
    "    \"name\": \"TestUser\",\n",
    "    \"first name\": \"TestUser\",\n",
    "    \"full name\": \"TestUser\",\n",
    "    \"username\": \"TestUser\",\n",
    "    \"mobile\": \"9999999999\",\n",
    "    \"phone\": \"9999999999\",\n",
    "    \"telephone\": \"9999999999\",\n",
    "    \"location\": \"Bangalore\",\n",
    "    \"city\": \"Bangalore\",\n",
    "    \"place\": \"Bangalore\",\n",
    "    \"password\": \"Pass@123\",\n",
    "    \"passcode\": \"Pass@123\",\n",
    "    \"email\": \"test@example.com\"\n",
    "}\n",
    "\n",
    "\n",
    "def get_mock_for(label: str) -> str:\n",
    "    key = label.lower()\n",
    "    for k, v in MOCK_DATA.items():\n",
    "        if k in key:\n",
    "            return v\n",
    "    return \"test\"\n",
    "\n",
    "\n",
    "def autofill_if_keyboard_visible(is_keyboard_visible_func) -> None:  # pragma: no cover\n",
    "    import subprocess, random, time"
   ]
  },
  {
   "cell_type": "markdown",
   "id": "faed8892",
   "metadata": {},
   "source": [
    "    # Debounce: fill only once per keyboard visibility session"
   ]
  },
  {
   "cell_type": "code",
   "execution_count": null,
   "id": "bc3918c4",
   "metadata": {},
   "outputs": [],
   "source": [
    "    if not is_keyboard_visible_func():"
   ]
  },
  {
   "cell_type": "markdown",
   "id": "eed6a312",
   "metadata": {},
   "source": [
    "        # Reset flag when keyboard hidden"
   ]
  },
  {
   "cell_type": "code",
   "execution_count": null,
   "id": "6db5bb9f",
   "metadata": {},
   "outputs": [],
   "source": [
    "        autofill_if_keyboard_visible._filled = False  # type: ignore\n",
    "        return\n",
    "\n",
    "    if getattr(autofill_if_keyboard_visible, \"_filled\", False):  # type: ignore"
   ]
  },
  {
   "cell_type": "markdown",
   "id": "c603e623",
   "metadata": {},
   "source": [
    "        # Extra guard: avoid rapid re-fill if keyboard visibility flickers"
   ]
  },
  {
   "cell_type": "code",
   "execution_count": null,
   "id": "fb1ba8ba",
   "metadata": {},
   "outputs": [],
   "source": [
    "        import time\n",
    "        last_ts = getattr(autofill_if_keyboard_visible, \"_last_ts\", 0)  # type: ignore\n",
    "        if time.time() - last_ts < 3:  # 3-second quiet window\n",
    "            return\n"
   ]
  },
  {
   "cell_type": "markdown",
   "id": "2c584b98",
   "metadata": {},
   "source": [
    "    # Cycle through deterministic but varied keys for successive fills"
   ]
  },
  {
   "cell_type": "code",
   "execution_count": null,
   "id": "2455d26a",
   "metadata": {},
   "outputs": [],
   "source": [
    "    order = [\"name\", \"mobile\", \"email\", \"location\", \"password\"]\n",
    "    autofill_if_keyboard_visible._idx = getattr(autofill_if_keyboard_visible, \"_idx\", 0) + 1  # type: ignore\n",
    "    label = order[autofill_if_keyboard_visible._idx % len(order)]\n",
    "    value = MOCK_DATA[label]\n",
    "\n",
    "    escaped = value.replace(\" \", \"%s\")\n",
    "    subprocess.run([\"adb\", \"shell\", \"input\", \"text\", escaped], capture_output=True, check=False)\n",
    "    time.sleep(0.2)\n"
   ]
  },
  {
   "cell_type": "markdown",
   "id": "c1be9b3d",
   "metadata": {},
   "source": [
    "    # record time"
   ]
  },
  {
   "cell_type": "code",
   "execution_count": null,
   "id": "a4a8d424",
   "metadata": {},
   "outputs": [],
   "source": [
    "    import time as _t\n",
    "    autofill_if_keyboard_visible._last_ts = _t.time()  # type: ignore\n"
   ]
  },
  {
   "cell_type": "markdown",
   "id": "1b5ba492",
   "metadata": {},
   "source": [
    "    # mark filled"
   ]
  },
  {
   "cell_type": "code",
   "execution_count": null,
   "id": "8527bb4d",
   "metadata": {},
   "outputs": [],
   "source": [
    "    autofill_if_keyboard_visible._filled = True  # type: ignore\n"
   ]
  },
  {
   "cell_type": "markdown",
   "id": "9bcf6b1e",
   "metadata": {},
   "source": [
    "# ------------------\n",
    "# Background watcher to call autofill periodically without explicit tester hook\n",
    "# ------------------"
   ]
  },
  {
   "cell_type": "markdown",
   "id": "b7825cdd",
   "metadata": {},
   "source": [
    "Return True if soft keyboard currently shown (uses adb dumpsys)."
   ]
  },
  {
   "cell_type": "code",
   "execution_count": null,
   "id": "c4d38681",
   "metadata": {},
   "outputs": [],
   "source": [
    "\n",
    "\n",
    "def _is_keyboard_visible() -> bool:\n",
    "    result = subprocess.run([\n",
    "        \"adb\",\n",
    "        \"shell\",\n",
    "        \"dumpsys\",\n",
    "        \"input_method\"\n",
    "    ], capture_output=True, text=True, check=False)\n",
    "    return (\"mInputShown=true\" in result.stdout) or (\"mIsInputViewShown=true\" in result.stdout)\n",
    "\n",
    "\n",
    "def _watcher() -> None:  # pragma: no cover\n",
    "    while True:\n",
    "        try:\n",
    "            autofill_if_keyboard_visible(_is_keyboard_visible)\n",
    "        except Exception:\n",
    "            pass\n",
    "        time.sleep(0.7)\n",
    "\n"
   ]
  },
  {
   "cell_type": "markdown",
   "id": "79682f30",
   "metadata": {},
   "source": [
    "# start watcher thread once on import"
   ]
  },
  {
   "cell_type": "code",
   "execution_count": null,
   "id": "4d4a6dc2",
   "metadata": {},
   "outputs": [],
   "source": [
    "import threading as _th\n",
    "\n",
    "_t = _th.Thread(target=_watcher, daemon=True)\n",
    "_t.start() "
   ]
  }
 ],
 "metadata": {
  "kernelspec": {
   "display_name": "Python 3",
   "language": "python",
   "name": "python3"
  },
  "language_info": {
   "codemirror_mode": {
    "name": "ipython",
    "version": 3
   },
   "file_extension": ".py",
   "mimetype": "text/x-python",
   "name": "python",
   "nbconvert_exporter": "python",
   "pygments_lexer": "ipython3",
   "version": "3.10.0"
  }
 },
 "nbformat": 4,
 "nbformat_minor": 5
}
