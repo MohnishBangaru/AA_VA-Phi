{
 "cells": [
  {
   "cell_type": "markdown",
   "id": "1bfdae99",
   "metadata": {},
   "source": [
    "Action execution engine for Android automation."
   ]
  },
  {
   "cell_type": "markdown",
   "id": "cee51152",
   "metadata": {},
   "source": [
    "Executes automation actions with validation and error handling."
   ]
  },
  {
   "cell_type": "markdown",
   "id": "4a3c3a8d",
   "metadata": {},
   "source": [
    "Initialize the action executor.\n",
    "        \n",
    "        Args:\n",
    "            device_manager: The device manager instance for device interactions."
   ]
  },
  {
   "cell_type": "markdown",
   "id": "bc6599a1",
   "metadata": {},
   "source": [
    "Execute a single automation action.\n",
    "        \n",
    "        Args:\n",
    "            action: Action dictionary containing type and parameters.\n",
    "            \n",
    "        Returns:\n",
    "            Dict containing execution result and metadata."
   ]
  },
  {
   "cell_type": "code",
   "execution_count": null,
   "id": "d31b86ec",
   "metadata": {},
   "outputs": [],
   "source": [
    "\n",
    "from __future__ import annotations\n",
    "\n",
    "import asyncio\n",
    "import time\n",
    "from typing import Any, Dict, List, Optional\n",
    "\n",
    "from ..core.logger import log\n",
    "from ..core.device_manager import EnhancedDeviceManager\n",
    "\n",
    "\n",
    "class ActionExecutor:\n",
    "    \n",
    "    def __init__(self, device_manager: EnhancedDeviceManager):\n",
    "        self.device_manager = device_manager\n",
    "        self.action_history: List[Dict[str, Any]] = []\n",
    "        self.retry_count = 0\n",
    "        self.max_retries = 3\n",
    "        \n",
    "    async def execute_action(self, action: Dict[str, Any]) -> Dict[str, Any]:\n",
    "        action_type = action.get(\"type\")\n",
    "        action_id = f\"{action_type}_{int(time.time() * 1000)}\"\n",
    "        \n",
    "        log.info(f\"Executing action {action_id}: {action_type}\")\n",
    "        \n",
    "        start_time = time.time()\n",
    "        result = {\n",
    "            \"action_id\": action_id,\n",
    "            \"action\": action,\n",
    "            \"start_time\": start_time,\n",
    "            \"success\": False,\n",
    "            \"error\": None,\n",
    "            \"retries\": 0\n",
    "        }\n",
    "        \n",
    "        try:"
   ]
  },
  {
   "cell_type": "markdown",
   "id": "5d230c36",
   "metadata": {},
   "source": [
    "            # Validate action before execution"
   ]
  },
  {
   "cell_type": "code",
   "execution_count": null,
   "id": "9a26766d",
   "metadata": {},
   "outputs": [],
   "source": [
    "            if not self._validate_action(action):\n",
    "                raise ValueError(f\"Invalid action: {action}\")\n",
    "            "
   ]
  },
  {
   "cell_type": "markdown",
   "id": "ed531d9f",
   "metadata": {},
   "source": [
    "            # Execute action with retry logic"
   ]
  },
  {
   "cell_type": "code",
   "execution_count": null,
   "id": "aa8b65ce",
   "metadata": {},
   "outputs": [],
   "source": [
    "            success = await self._execute_with_retry(action)\n",
    "            \n",
    "            result[\"success\"] = success\n",
    "            result[\"end_time\"] = time.time()\n",
    "            result[\"duration\"] = result[\"end_time\"] - start_time\n",
    "            \n",
    "            if success:\n",
    "                log.success(f\"Action {action_id} completed successfully\")\n",
    "            else:\n",
    "                log.warning(f\"Action {action_id} failed after {self.max_retries} retries\")\n",
    "                \n",
    "        except Exception as e:\n",
    "            result[\"error\"] = str(e)\n",
    "            result[\"end_time\"] = time.time()\n",
    "            result[\"duration\"] = result[\"end_time\"] - start_time\n",
    "            log.error(f\"Action {action_id} failed: {e}\")\n",
    "            "
   ]
  },
  {
   "cell_type": "markdown",
   "id": "2993ebbe",
   "metadata": {},
   "source": [
    "        # Record action in history"
   ]
  },
  {
   "cell_type": "markdown",
   "id": "4eb5eef0",
   "metadata": {},
   "source": [
    "Execute a sequence of actions.\n",
    "        \n",
    "        Args:\n",
    "            actions: List of action dictionaries to execute in order.\n",
    "            \n",
    "        Returns:\n",
    "            List of execution results for each action."
   ]
  },
  {
   "cell_type": "code",
   "execution_count": null,
   "id": "e8c4ddd8",
   "metadata": {},
   "outputs": [],
   "source": [
    "        self.action_history.append(result)\n",
    "        \n",
    "        return result\n",
    "    \n",
    "    async def execute_sequence(self, actions: List[Dict[str, Any]]) -> List[Dict[str, Any]]:\n",
    "        results = []\n",
    "        \n",
    "        for i, action in enumerate(actions):\n",
    "            log.info(f\"Executing action {i + 1}/{len(actions)}\")\n",
    "            \n",
    "            result = await self.execute_action(action)\n",
    "            results.append(result)\n",
    "            "
   ]
  },
  {
   "cell_type": "markdown",
   "id": "b7a893e9",
   "metadata": {},
   "source": [
    "            # Check if we should continue after failure"
   ]
  },
  {
   "cell_type": "code",
   "execution_count": null,
   "id": "3063e46b",
   "metadata": {},
   "outputs": [],
   "source": [
    "            if not result[\"success\"] and action.get(\"critical\", False):\n",
    "                log.error(f\"Critical action failed, stopping sequence\")\n",
    "                break\n",
    "                "
   ]
  },
  {
   "cell_type": "markdown",
   "id": "112f7c75",
   "metadata": {},
   "source": [
    "            # Brief pause between actions"
   ]
  },
  {
   "cell_type": "markdown",
   "id": "db49c09d",
   "metadata": {},
   "source": [
    "Validate action structure and parameters.\n",
    "        \n",
    "        Args:\n",
    "            action: Action dictionary to validate.\n",
    "            \n",
    "        Returns:\n",
    "            True if action is valid, False otherwise."
   ]
  },
  {
   "cell_type": "code",
   "execution_count": null,
   "id": "d389855b",
   "metadata": {},
   "outputs": [],
   "source": [
    "            await asyncio.sleep(0.5)\n",
    "            \n",
    "        return results\n",
    "    \n",
    "    def _validate_action(self, action: Dict[str, Any]) -> bool:\n",
    "        required_fields = [\"type\"]\n",
    "        action_type = action.get(\"type\")\n",
    "        "
   ]
  },
  {
   "cell_type": "markdown",
   "id": "8b32e5bb",
   "metadata": {},
   "source": [
    "        # Check required fields"
   ]
  },
  {
   "cell_type": "code",
   "execution_count": null,
   "id": "668d3267",
   "metadata": {},
   "outputs": [],
   "source": [
    "        for field in required_fields:\n",
    "            if field not in action:\n",
    "                log.error(f\"Action missing required field: {field}\")\n",
    "                return False\n",
    "        "
   ]
  },
  {
   "cell_type": "markdown",
   "id": "9a4a5ace",
   "metadata": {},
   "source": [
    "        # Validate action type"
   ]
  },
  {
   "cell_type": "code",
   "execution_count": null,
   "id": "a92bd3ac",
   "metadata": {},
   "outputs": [],
   "source": [
    "        valid_types = [\"tap\", \"swipe\", \"input_text\", \"key_event\", \"wait\", \"screenshot\"]\n",
    "        if action_type not in valid_types:\n",
    "            log.error(f\"Invalid action type: {action_type}\")\n",
    "            return False\n",
    "        "
   ]
  },
  {
   "cell_type": "markdown",
   "id": "fd8ffbbd",
   "metadata": {},
   "source": [
    "        # Type-specific validation"
   ]
  },
  {
   "cell_type": "markdown",
   "id": "99e56c5d",
   "metadata": {},
   "source": [
    "Validate tap action parameters."
   ]
  },
  {
   "cell_type": "markdown",
   "id": "987241ff",
   "metadata": {},
   "source": [
    "Validate swipe action parameters."
   ]
  },
  {
   "cell_type": "markdown",
   "id": "0c52c6f3",
   "metadata": {},
   "source": [
    "Validate input text action parameters."
   ]
  },
  {
   "cell_type": "markdown",
   "id": "4a2c5fa0",
   "metadata": {},
   "source": [
    "Validate key event action parameters."
   ]
  },
  {
   "cell_type": "markdown",
   "id": "2fbcac7c",
   "metadata": {},
   "source": [
    "Validate wait action parameters."
   ]
  },
  {
   "cell_type": "markdown",
   "id": "a354fcd2",
   "metadata": {},
   "source": [
    "Execute action with retry logic.\n",
    "        \n",
    "        Args:\n",
    "            action: Action to execute.\n",
    "            \n",
    "        Returns:\n",
    "            True if execution succeeded, False otherwise."
   ]
  },
  {
   "cell_type": "markdown",
   "id": "34578066",
   "metadata": {},
   "source": [
    "Get the history of executed actions.\n",
    "        \n",
    "        Returns:\n",
    "            List of action execution results."
   ]
  },
  {
   "cell_type": "markdown",
   "id": "0307955f",
   "metadata": {},
   "source": [
    "Clear the action execution history."
   ]
  },
  {
   "cell_type": "code",
   "execution_count": null,
   "id": "34688984",
   "metadata": {},
   "outputs": [],
   "source": [
    "        if action_type == \"tap\":\n",
    "            return self._validate_tap_action(action)\n",
    "        elif action_type == \"swipe\":\n",
    "            return self._validate_swipe_action(action)\n",
    "        elif action_type == \"input_text\":\n",
    "            return self._validate_input_action(action)\n",
    "        elif action_type == \"key_event\":\n",
    "            return self._validate_key_action(action)\n",
    "        elif action_type == \"wait\":\n",
    "            return self._validate_wait_action(action)\n",
    "        \n",
    "        return True\n",
    "    \n",
    "    def _validate_tap_action(self, action: Dict[str, Any]) -> bool:\n",
    "        if \"x\" not in action or \"y\" not in action:\n",
    "            log.error(\"Tap action missing x or y coordinates\")\n",
    "            return False\n",
    "        \n",
    "        x, y = action[\"x\"], action[\"y\"]\n",
    "        if not isinstance(x, (int, float)) or not isinstance(y, (int, float)):\n",
    "            log.error(\"Tap coordinates must be numbers\")\n",
    "            return False\n",
    "        \n",
    "        return True\n",
    "    \n",
    "    def _validate_swipe_action(self, action: Dict[str, Any]) -> bool:\n",
    "        required = [\"start_x\", \"start_y\", \"end_x\", \"end_y\"]\n",
    "        for coord in required:\n",
    "            if coord not in action:\n",
    "                log.error(f\"Swipe action missing {coord}\")\n",
    "                return False\n",
    "        \n",
    "        return True\n",
    "    \n",
    "    def _validate_input_action(self, action: Dict[str, Any]) -> bool:\n",
    "        if \"text\" not in action:\n",
    "            log.error(\"Input action missing text\")\n",
    "            return False\n",
    "        \n",
    "        return True\n",
    "    \n",
    "    def _validate_key_action(self, action: Dict[str, Any]) -> bool:\n",
    "        if \"key_code\" not in action:\n",
    "            log.error(\"Key event action missing key_code\")\n",
    "            return False\n",
    "        \n",
    "        return True\n",
    "    \n",
    "    def _validate_wait_action(self, action: Dict[str, Any]) -> bool:\n",
    "        duration = action.get(\"duration\", 1.0)\n",
    "        if not isinstance(duration, (int, float)) or duration < 0:\n",
    "            log.error(\"Wait duration must be a positive number\")\n",
    "            return False\n",
    "        \n",
    "        return True\n",
    "    \n",
    "    async def _execute_with_retry(self, action: Dict[str, Any]) -> bool:\n",
    "        for attempt in range(self.max_retries + 1):\n",
    "            try:\n",
    "                success = await self.device_manager.perform_action(action)\n",
    "                if success:\n",
    "                    return True\n",
    "                    \n",
    "                if attempt < self.max_retries:\n",
    "                    log.warning(f\"Action failed, retrying ({attempt + 1}/{self.max_retries})\")\n",
    "                    await asyncio.sleep(1.0 * (attempt + 1))  # Exponential backoff\n",
    "                    \n",
    "            except Exception as e:\n",
    "                if attempt < self.max_retries:\n",
    "                    log.warning(f\"Action error, retrying ({attempt + 1}/{self.max_retries}): {e}\")\n",
    "                    await asyncio.sleep(1.0 * (attempt + 1))\n",
    "                else:\n",
    "                    log.error(f\"Action failed after {self.max_retries} retries: {e}\")\n",
    "                    \n",
    "        return False\n",
    "    \n",
    "    def get_action_history(self) -> List[Dict[str, Any]]:\n",
    "        return self.action_history.copy()\n",
    "    \n",
    "    def clear_history(self) -> None:\n",
    "        self.action_history.clear() "
   ]
  }
 ],
 "metadata": {
  "kernelspec": {
   "display_name": "Python 3",
   "language": "python",
   "name": "python3"
  },
  "language_info": {
   "codemirror_mode": {
    "name": "ipython",
    "version": 3
   },
   "file_extension": ".py",
   "mimetype": "text/x-python",
   "name": "python",
   "nbconvert_exporter": "python",
   "pygments_lexer": "ipython3",
   "version": "3.10.0"
  }
 },
 "nbformat": 4,
 "nbformat_minor": 5
}
