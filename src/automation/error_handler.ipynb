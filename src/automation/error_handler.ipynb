{
 "cells": [
  {
   "cell_type": "markdown",
   "id": "d3babd30",
   "metadata": {},
   "source": [
    "Error handling and recovery for Android automation."
   ]
  },
  {
   "cell_type": "markdown",
   "id": "5792e512",
   "metadata": {},
   "source": [
    "Handles errors and implements recovery strategies for automation failures."
   ]
  },
  {
   "cell_type": "markdown",
   "id": "2d73a910",
   "metadata": {},
   "source": [
    "Initialize the error handler."
   ]
  },
  {
   "cell_type": "markdown",
   "id": "bfbde000",
   "metadata": {},
   "source": [
    "Handle an automation error and attempt recovery.\n",
    "        \n",
    "        Args:\n",
    "            error: The exception that occurred.\n",
    "            context: Context information about the error.\n",
    "            \n",
    "        Returns:\n",
    "            Dict containing error handling result."
   ]
  },
  {
   "cell_type": "code",
   "execution_count": null,
   "id": "aa71c844",
   "metadata": {},
   "outputs": [],
   "source": [
    "\n",
    "from __future__ import annotations\n",
    "\n",
    "import asyncio\n",
    "import time\n",
    "from typing import Any, Dict, List, Optional, Callable\n",
    "\n",
    "from ..core.logger import log\n",
    "\n",
    "\n",
    "class ErrorHandler:\n",
    "    \n",
    "    def __init__(self):\n",
    "        self.error_history: List[Dict[str, Any]] = []\n",
    "        self.recovery_strategies = self._load_recovery_strategies()\n",
    "        self.max_retries = 3\n",
    "        self.retry_delay = 1.0\n",
    "        \n",
    "    def handle_error(self, error: Exception, context: Dict[str, Any]) -> Dict[str, Any]:\n",
    "        error_id = f\"error_{int(time.time() * 1000)}\"\n",
    "        \n",
    "        error_record = {\n",
    "            'error_id': error_id,\n",
    "            'timestamp': time.time(),\n",
    "            'error_type': type(error).__name__,\n",
    "            'error_message': str(error),\n",
    "            'context': context,\n",
    "            'handled': False,\n",
    "            'recovery_attempted': False,\n",
    "            'recovery_successful': False\n",
    "        }\n",
    "        \n",
    "        log.error(f\"Handling error {error_id}: {error}\")\n",
    "        \n",
    "        try:"
   ]
  },
  {
   "cell_type": "markdown",
   "id": "29b60ad6",
   "metadata": {},
   "source": [
    "            # Attempt to recover from the error"
   ]
  },
  {
   "cell_type": "code",
   "execution_count": null,
   "id": "a3932273",
   "metadata": {},
   "outputs": [],
   "source": [
    "            recovery_result = self._attempt_recovery(error, context)\n",
    "            \n",
    "            error_record['recovery_attempted'] = True\n",
    "            error_record['recovery_successful'] = recovery_result['success']\n",
    "            error_record['recovery_strategy'] = recovery_result['strategy']\n",
    "            error_record['handled'] = recovery_result['success']\n",
    "            \n",
    "            if recovery_result['success']:\n",
    "                log.success(f\"Error {error_id} recovered successfully\")\n",
    "            else:\n",
    "                log.warning(f\"Error {error_id} recovery failed\")\n",
    "                \n",
    "        except Exception as recovery_error:\n",
    "            log.error(f\"Error recovery failed: {recovery_error}\")\n",
    "            error_record['recovery_error'] = str(recovery_error)\n",
    "            "
   ]
  },
  {
   "cell_type": "markdown",
   "id": "c4182a1e",
   "metadata": {},
   "source": [
    "        # Record error in history"
   ]
  },
  {
   "cell_type": "code",
   "execution_count": null,
   "id": "0f23cc90",
   "metadata": {},
   "outputs": [],
   "source": [
    "        self.error_history.append(error_record)\n",
    "        "
   ]
  },
  {
   "cell_type": "markdown",
   "id": "b003ef3e",
   "metadata": {},
   "source": [
    "        # Keep only recent errors (last 50)"
   ]
  },
  {
   "cell_type": "markdown",
   "id": "4ba66e78",
   "metadata": {},
   "source": [
    "Get a summary of error handling statistics.\n",
    "        \n",
    "        Returns:\n",
    "            Summary dictionary with error statistics."
   ]
  },
  {
   "cell_type": "code",
   "execution_count": null,
   "id": "821dcb07",
   "metadata": {},
   "outputs": [],
   "source": [
    "        if len(self.error_history) > 50:\n",
    "            self.error_history = self.error_history[-50:]\n",
    "            \n",
    "        return error_record\n",
    "    \n",
    "    def get_error_summary(self) -> Dict[str, Any]:\n",
    "        if not self.error_history:\n",
    "            return {\n",
    "                'total_errors': 0,\n",
    "                'handled_errors': 0,\n",
    "                'recovery_success_rate': 0.0,\n",
    "                'most_common_error': None,\n",
    "                'last_error': None\n",
    "            }\n",
    "            \n",
    "        total_errors = len(self.error_history)\n",
    "        handled_errors = sum(1 for error in self.error_history if error['handled'])\n",
    "        recovery_attempts = sum(1 for error in self.error_history if error['recovery_attempted'])\n",
    "        successful_recoveries = sum(1 for error in self.error_history if error['recovery_successful'])\n",
    "        "
   ]
  },
  {
   "cell_type": "markdown",
   "id": "9872363e",
   "metadata": {},
   "source": [
    "        # Find most common error type"
   ]
  },
  {
   "cell_type": "markdown",
   "id": "0d7f5e45",
   "metadata": {},
   "source": [
    "Get recent error records.\n",
    "        \n",
    "        Args:\n",
    "            limit: Maximum number of errors to return.\n",
    "            \n",
    "        Returns:\n",
    "            List of recent error records."
   ]
  },
  {
   "cell_type": "markdown",
   "id": "27a54e08",
   "metadata": {},
   "source": [
    "Clear the error history."
   ]
  },
  {
   "cell_type": "markdown",
   "id": "09ba86ea",
   "metadata": {},
   "source": [
    "Attempt to recover from an error.\n",
    "        \n",
    "        Args:\n",
    "            error: The exception that occurred.\n",
    "            context: Context information about the error.\n",
    "            \n",
    "        Returns:\n",
    "            Dict containing recovery result."
   ]
  },
  {
   "cell_type": "code",
   "execution_count": null,
   "id": "1f8ffe20",
   "metadata": {},
   "outputs": [],
   "source": [
    "        error_types = [error['error_type'] for error in self.error_history]\n",
    "        most_common_error = max(set(error_types), key=error_types.count) if error_types else None\n",
    "        \n",
    "        recovery_success_rate = (successful_recoveries / recovery_attempts * 100) if recovery_attempts > 0 else 0\n",
    "        \n",
    "        return {\n",
    "            'total_errors': total_errors,\n",
    "            'handled_errors': handled_errors,\n",
    "            'recovery_attempts': recovery_attempts,\n",
    "            'successful_recoveries': successful_recoveries,\n",
    "            'recovery_success_rate': recovery_success_rate,\n",
    "            'most_common_error': most_common_error,\n",
    "            'last_error': self.error_history[-1] if self.error_history else None\n",
    "        }\n",
    "    \n",
    "    def get_recent_errors(self, limit: int = 10) -> List[Dict[str, Any]]:\n",
    "        return self.error_history[-limit:]\n",
    "    \n",
    "    def clear_error_history(self) -> None:\n",
    "        self.error_history.clear()\n",
    "        \n",
    "    def _attempt_recovery(self, error: Exception, context: Dict[str, Any]) -> Dict[str, Any]:\n",
    "        error_type = type(error).__name__\n",
    "        "
   ]
  },
  {
   "cell_type": "markdown",
   "id": "aca17f33",
   "metadata": {},
   "source": [
    "        # Find appropriate recovery strategy"
   ]
  },
  {
   "cell_type": "code",
   "execution_count": null,
   "id": "0822a015",
   "metadata": {},
   "outputs": [],
   "source": [
    "        strategy = self._find_recovery_strategy(error_type, context)\n",
    "        \n",
    "        if strategy is None:\n",
    "            return {\n",
    "                'success': False,\n",
    "                'strategy': 'none',\n",
    "                'reason': 'No recovery strategy found'\n",
    "            }\n",
    "            \n",
    "        try:"
   ]
  },
  {
   "cell_type": "markdown",
   "id": "9e912526",
   "metadata": {},
   "source": [
    "            # Execute recovery strategy"
   ]
  },
  {
   "cell_type": "markdown",
   "id": "b7a964e5",
   "metadata": {},
   "source": [
    "Find an appropriate recovery strategy for the error.\n",
    "        \n",
    "        Args:\n",
    "            error_type: Type of error that occurred.\n",
    "            context: Context information about the error.\n",
    "            \n",
    "        Returns:\n",
    "            Recovery strategy function or None if no strategy found."
   ]
  },
  {
   "cell_type": "code",
   "execution_count": null,
   "id": "1eb4e501",
   "metadata": {},
   "outputs": [],
   "source": [
    "            recovery_result = strategy(error, context)\n",
    "            \n",
    "            return {\n",
    "                'success': recovery_result,\n",
    "                'strategy': strategy.__name__,\n",
    "                'reason': 'Recovery strategy executed'\n",
    "            }\n",
    "            \n",
    "        except Exception as recovery_error:\n",
    "            log.error(f\"Recovery strategy failed: {recovery_error}\")\n",
    "            return {\n",
    "                'success': False,\n",
    "                'strategy': strategy.__name__,\n",
    "                'reason': f'Recovery strategy failed: {recovery_error}'\n",
    "            }\n",
    "    \n",
    "    def _find_recovery_strategy(self, error_type: str, context: Dict[str, Any]) -> Optional[Callable]:"
   ]
  },
  {
   "cell_type": "markdown",
   "id": "aa4583cc",
   "metadata": {},
   "source": [
    "        # Check for specific error type strategies"
   ]
  },
  {
   "cell_type": "code",
   "execution_count": null,
   "id": "929338ca",
   "metadata": {},
   "outputs": [],
   "source": [
    "        if error_type in self.recovery_strategies:\n",
    "            return self.recovery_strategies[error_type]\n",
    "            "
   ]
  },
  {
   "cell_type": "markdown",
   "id": "a15b5408",
   "metadata": {},
   "source": [
    "        # Check for general strategies"
   ]
  },
  {
   "cell_type": "markdown",
   "id": "39c09f40",
   "metadata": {},
   "source": [
    "Load recovery strategies for different error types.\n",
    "        \n",
    "        Returns:\n",
    "            Dictionary mapping error types to recovery strategies."
   ]
  },
  {
   "cell_type": "markdown",
   "id": "badf2766",
   "metadata": {},
   "source": [
    "Recover from connection errors.\n",
    "        \n",
    "        Args:\n",
    "            error: The connection error.\n",
    "            context: Error context.\n",
    "            \n",
    "        Returns:\n",
    "            True if recovery successful."
   ]
  },
  {
   "cell_type": "code",
   "execution_count": null,
   "id": "552fa973",
   "metadata": {},
   "outputs": [],
   "source": [
    "        if 'general' in self.recovery_strategies:\n",
    "            return self.recovery_strategies['general']\n",
    "            \n",
    "        return None\n",
    "    \n",
    "    def _load_recovery_strategies(self) -> Dict[str, Callable]:\n",
    "        return {\n",
    "            'ConnectionError': self._recover_connection_error,\n",
    "            'TimeoutError': self._recover_timeout_error,\n",
    "            'DeviceNotFoundError': self._recover_device_error,\n",
    "            'PermissionError': self._recover_permission_error,\n",
    "            'ValueError': self._recover_value_error,\n",
    "            'general': self._recover_general_error\n",
    "        }\n",
    "    \n",
    "    async def _recover_connection_error(self, error: Exception, context: Dict[str, Any]) -> bool:\n",
    "        log.info(\"Attempting connection error recovery...\")\n",
    "        \n",
    "        try:"
   ]
  },
  {
   "cell_type": "markdown",
   "id": "eb0b0d9d",
   "metadata": {},
   "source": [
    "            # Wait and retry connection"
   ]
  },
  {
   "cell_type": "code",
   "execution_count": null,
   "id": "176f8fd8",
   "metadata": {},
   "outputs": [],
   "source": [
    "            await asyncio.sleep(self.retry_delay)\n",
    "            "
   ]
  },
  {
   "cell_type": "markdown",
   "id": "229e6931",
   "metadata": {},
   "source": [
    "            # Attempt to reconnect device"
   ]
  },
  {
   "cell_type": "markdown",
   "id": "dbde3862",
   "metadata": {},
   "source": [
    "Recover from timeout errors.\n",
    "        \n",
    "        Args:\n",
    "            error: The timeout error.\n",
    "            context: Error context.\n",
    "            \n",
    "        Returns:\n",
    "            True if recovery successful."
   ]
  },
  {
   "cell_type": "code",
   "execution_count": null,
   "id": "9da7ed84",
   "metadata": {},
   "outputs": [],
   "source": [
    "            device_manager = context.get('device_manager')\n",
    "            if device_manager:\n",
    "                success = await device_manager.connect_device()\n",
    "                if success:\n",
    "                    log.success(\"Connection recovered successfully\")\n",
    "                    return True\n",
    "                    \n",
    "            log.warning(\"Connection recovery failed\")\n",
    "            return False\n",
    "            \n",
    "        except Exception as e:\n",
    "            log.error(f\"Connection recovery error: {e}\")\n",
    "            return False\n",
    "    \n",
    "    async def _recover_timeout_error(self, error: Exception, context: Dict[str, Any]) -> bool:\n",
    "        log.info(\"Attempting timeout error recovery...\")\n",
    "        \n",
    "        try:"
   ]
  },
  {
   "cell_type": "markdown",
   "id": "d90b8445",
   "metadata": {},
   "source": [
    "            # Increase wait time and retry"
   ]
  },
  {
   "cell_type": "code",
   "execution_count": null,
   "id": "eb49992a",
   "metadata": {},
   "outputs": [],
   "source": [
    "            await asyncio.sleep(self.retry_delay * 2)\n",
    "            "
   ]
  },
  {
   "cell_type": "markdown",
   "id": "b93c601f",
   "metadata": {},
   "source": [
    "            # Retry the action with increased timeout"
   ]
  },
  {
   "cell_type": "code",
   "execution_count": null,
   "id": "d1a1cbba",
   "metadata": {},
   "outputs": [],
   "source": [
    "            action = context.get('action')\n",
    "            if action:"
   ]
  },
  {
   "cell_type": "markdown",
   "id": "605ea246",
   "metadata": {},
   "source": [
    "                # Modify action to have longer timeout"
   ]
  },
  {
   "cell_type": "markdown",
   "id": "51bbbd25",
   "metadata": {},
   "source": [
    "Recover from device-related errors.\n",
    "        \n",
    "        Args:\n",
    "            error: The device error.\n",
    "            context: Error context.\n",
    "            \n",
    "        Returns:\n",
    "            True if recovery successful."
   ]
  },
  {
   "cell_type": "code",
   "execution_count": null,
   "id": "a05254a7",
   "metadata": {},
   "outputs": [],
   "source": [
    "                action['timeout'] = action.get('timeout', 10) * 2\n",
    "                \n",
    "            log.success(\"Timeout recovery strategy applied\")\n",
    "            return True\n",
    "            \n",
    "        except Exception as e:\n",
    "            log.error(f\"Timeout recovery error: {e}\")\n",
    "            return False\n",
    "    \n",
    "    async def _recover_device_error(self, error: Exception, context: Dict[str, Any]) -> bool:\n",
    "        log.info(\"Attempting device error recovery...\")\n",
    "        \n",
    "        try:"
   ]
  },
  {
   "cell_type": "markdown",
   "id": "034fddf5",
   "metadata": {},
   "source": [
    "            # Wait for device to become available"
   ]
  },
  {
   "cell_type": "code",
   "execution_count": null,
   "id": "c9c55bfb",
   "metadata": {},
   "outputs": [],
   "source": [
    "            await asyncio.sleep(self.retry_delay)\n",
    "            "
   ]
  },
  {
   "cell_type": "markdown",
   "id": "8b39adbd",
   "metadata": {},
   "source": [
    "            # Check device status"
   ]
  },
  {
   "cell_type": "markdown",
   "id": "f112b6fb",
   "metadata": {},
   "source": [
    "Recover from permission errors.\n",
    "        \n",
    "        Args:\n",
    "            error: The permission error.\n",
    "            context: Error context.\n",
    "            \n",
    "        Returns:\n",
    "            True if recovery successful."
   ]
  },
  {
   "cell_type": "code",
   "execution_count": null,
   "id": "fc830f7b",
   "metadata": {},
   "outputs": [],
   "source": [
    "            device_manager = context.get('device_manager')\n",
    "            if device_manager and device_manager.is_connected():\n",
    "                log.success(\"Device error recovered\")\n",
    "                return True\n",
    "                \n",
    "            log.warning(\"Device error recovery failed\")\n",
    "            return False\n",
    "            \n",
    "        except Exception as e:\n",
    "            log.error(f\"Device recovery error: {e}\")\n",
    "            return False\n",
    "    \n",
    "    async def _recover_permission_error(self, error: Exception, context: Dict[str, Any]) -> bool:\n",
    "        log.info(\"Attempting permission error recovery...\")\n",
    "        \n",
    "        try:"
   ]
  },
  {
   "cell_type": "markdown",
   "id": "fdc2b946",
   "metadata": {},
   "source": [
    "            # Wait and retry with different approach"
   ]
  },
  {
   "cell_type": "code",
   "execution_count": null,
   "id": "7cc2d57e",
   "metadata": {},
   "outputs": [],
   "source": [
    "            await asyncio.sleep(self.retry_delay)\n",
    "            "
   ]
  },
  {
   "cell_type": "markdown",
   "id": "469c6e76",
   "metadata": {},
   "source": [
    "            # Try alternative action or method"
   ]
  },
  {
   "cell_type": "markdown",
   "id": "91198606",
   "metadata": {},
   "source": [
    "Recover from value errors.\n",
    "        \n",
    "        Args:\n",
    "            error: The value error.\n",
    "            context: Error context.\n",
    "            \n",
    "        Returns:\n",
    "            True if recovery successful."
   ]
  },
  {
   "cell_type": "code",
   "execution_count": null,
   "id": "ea9ca9fa",
   "metadata": {},
   "outputs": [],
   "source": [
    "            log.info(\"Permission error - trying alternative approach\")\n",
    "            return True\n",
    "            \n",
    "        except Exception as e:\n",
    "            log.error(f\"Permission recovery error: {e}\")\n",
    "            return False\n",
    "    \n",
    "    async def _recover_value_error(self, error: Exception, context: Dict[str, Any]) -> bool:\n",
    "        log.info(\"Attempting value error recovery...\")\n",
    "        \n",
    "        try:"
   ]
  },
  {
   "cell_type": "markdown",
   "id": "ea474977",
   "metadata": {},
   "source": [
    "            # Validate and correct action parameters"
   ]
  },
  {
   "cell_type": "code",
   "execution_count": null,
   "id": "51b3ec69",
   "metadata": {},
   "outputs": [],
   "source": [
    "            action = context.get('action')\n",
    "            if action:"
   ]
  },
  {
   "cell_type": "markdown",
   "id": "39beba40",
   "metadata": {},
   "source": [
    "                # Try to fix common value issues"
   ]
  },
  {
   "cell_type": "code",
   "execution_count": null,
   "id": "392e6265",
   "metadata": {},
   "outputs": [],
   "source": [
    "                if 'x' in action and 'y' in action:"
   ]
  },
  {
   "cell_type": "markdown",
   "id": "b5cec4d8",
   "metadata": {},
   "source": [
    "                    # Ensure coordinates are within bounds"
   ]
  },
  {
   "cell_type": "markdown",
   "id": "3141279e",
   "metadata": {},
   "source": [
    "General error recovery strategy.\n",
    "        \n",
    "        Args:\n",
    "            error: The general error.\n",
    "            context: Error context.\n",
    "            \n",
    "        Returns:\n",
    "            True if recovery successful."
   ]
  },
  {
   "cell_type": "code",
   "execution_count": null,
   "id": "abc6c98f",
   "metadata": {},
   "outputs": [],
   "source": [
    "                    action['x'] = max(0, min(1080, action['x']))\n",
    "                    action['y'] = max(0, min(1920, action['y']))\n",
    "                    \n",
    "            log.success(\"Value error corrected\")\n",
    "            return True\n",
    "            \n",
    "        except Exception as e:\n",
    "            log.error(f\"Value recovery error: {e}\")\n",
    "            return False\n",
    "    \n",
    "    async def _recover_general_error(self, error: Exception, context: Dict[str, Any]) -> bool:\n",
    "        log.info(\"Attempting general error recovery...\")\n",
    "        \n",
    "        try:"
   ]
  },
  {
   "cell_type": "markdown",
   "id": "92dd1413",
   "metadata": {},
   "source": [
    "            # Simple wait and retry"
   ]
  },
  {
   "cell_type": "markdown",
   "id": "3ebe19bf",
   "metadata": {},
   "source": [
    "Add a custom recovery strategy.\n",
    "        \n",
    "        Args:\n",
    "            error_type: Type of error to handle.\n",
    "            strategy: Recovery strategy function."
   ]
  },
  {
   "cell_type": "markdown",
   "id": "4b2bfe45",
   "metadata": {},
   "source": [
    "Export error handling data to a file.\n",
    "        \n",
    "        Args:\n",
    "            filepath: Path to save the data.\n",
    "            \n",
    "        Returns:\n",
    "            True if export successful."
   ]
  },
  {
   "cell_type": "code",
   "execution_count": null,
   "id": "2c6adbbb",
   "metadata": {},
   "outputs": [],
   "source": [
    "            await asyncio.sleep(self.retry_delay)\n",
    "            \n",
    "            log.info(\"General error recovery applied\")\n",
    "            return True\n",
    "            \n",
    "        except Exception as e:\n",
    "            log.error(f\"General recovery error: {e}\")\n",
    "            return False\n",
    "    \n",
    "    def add_custom_recovery_strategy(self, error_type: str, strategy: Callable) -> None:\n",
    "        self.recovery_strategies[error_type] = strategy\n",
    "        log.info(f\"Added custom recovery strategy for {error_type}\")\n",
    "    \n",
    "    def export_error_data(self, filepath: str) -> bool:\n",
    "        try:\n",
    "            import json\n",
    "            \n",
    "            export_data = {\n",
    "                'summary': self.get_error_summary(),\n",
    "                'history': self.error_history,\n",
    "                'recovery_strategies': list(self.recovery_strategies.keys())\n",
    "            }\n",
    "            \n",
    "            with open(filepath, 'w') as f:\n",
    "                json.dump(export_data, f, indent=2, default=str)\n",
    "                \n",
    "            log.info(f\"Error data exported to {filepath}\")\n",
    "            return True\n",
    "            \n",
    "        except Exception as e:\n",
    "            log.error(f\"Failed to export error data: {e}\")\n",
    "            return False "
   ]
  }
 ],
 "metadata": {
  "kernelspec": {
   "display_name": "Python 3",
   "language": "python",
   "name": "python3"
  },
  "language_info": {
   "codemirror_mode": {
    "name": "ipython",
    "version": 3
   },
   "file_extension": ".py",
   "mimetype": "text/x-python",
   "name": "python",
   "nbconvert_exporter": "python",
   "pygments_lexer": "ipython3",
   "version": "3.10.0"
  }
 },
 "nbformat": 4,
 "nbformat_minor": 5
}
