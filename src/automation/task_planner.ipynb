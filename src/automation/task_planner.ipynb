{
 "cells": [
  {
   "cell_type": "markdown",
   "id": "5338bbb2",
   "metadata": {},
   "source": [
    "Task planning and decomposition for Android automation."
   ]
  },
  {
   "cell_type": "markdown",
   "id": "a6b2f661",
   "metadata": {},
   "source": [
    "Plans and decomposes automation tasks into executable actions."
   ]
  },
  {
   "cell_type": "markdown",
   "id": "4eba2526",
   "metadata": {},
   "source": [
    "Initialize the task planner."
   ]
  },
  {
   "cell_type": "markdown",
   "id": "731467a6",
   "metadata": {},
   "source": [
    "Plan a task by decomposing it into executable actions.\n",
    "        \n",
    "        Args:\n",
    "            task_description: Natural language description of the task.\n",
    "            current_state: Current device state information.\n",
    "            \n",
    "        Returns:\n",
    "            List of planned actions to execute."
   ]
  },
  {
   "cell_type": "code",
   "execution_count": null,
   "id": "20b9963e",
   "metadata": {},
   "outputs": [],
   "source": [
    "\n",
    "from __future__ import annotations\n",
    "\n",
    "import re\n",
    "from typing import Any, Dict, List, Optional\n",
    "\n",
    "from ..core.logger import log\n",
    "\n",
    "\n",
    "class TaskPlanner:\n",
    "    \n",
    "    def __init__(self):\n",
    "        self.common_patterns = self._load_common_patterns()\n",
    "        self.action_templates = self._load_action_templates()\n",
    "        \n",
    "    def plan_task(self, task_description: str, current_state: Dict[str, Any]) -> List[Dict[str, Any]]:\n",
    "        log.info(f\"Planning task: {task_description}\")\n",
    "        "
   ]
  },
  {
   "cell_type": "markdown",
   "id": "33babb21",
   "metadata": {},
   "source": [
    "        # Normalize task description"
   ]
  },
  {
   "cell_type": "code",
   "execution_count": null,
   "id": "80e4c537",
   "metadata": {},
   "outputs": [],
   "source": [
    "        normalized_task = self._normalize_task_description(task_description)\n",
    "        "
   ]
  },
  {
   "cell_type": "markdown",
   "id": "8b16aa9b",
   "metadata": {},
   "source": [
    "        # Identify task type and extract parameters"
   ]
  },
  {
   "cell_type": "code",
   "execution_count": null,
   "id": "8a9d5c04",
   "metadata": {},
   "outputs": [],
   "source": [
    "        task_type, parameters = self._analyze_task(normalized_task)\n",
    "        "
   ]
  },
  {
   "cell_type": "markdown",
   "id": "7aaf8e19",
   "metadata": {},
   "source": [
    "        # Generate action sequence"
   ]
  },
  {
   "cell_type": "markdown",
   "id": "4854fb19",
   "metadata": {},
   "source": [
    "Normalize task description for consistent processing.\n",
    "        \n",
    "        Args:\n",
    "            description: Raw task description.\n",
    "            \n",
    "        Returns:\n",
    "            Normalized task description."
   ]
  },
  {
   "cell_type": "code",
   "execution_count": null,
   "id": "619a56d4",
   "metadata": {},
   "outputs": [],
   "source": [
    "        actions = self._generate_action_sequence(task_type, parameters, current_state)\n",
    "        \n",
    "        log.info(f\"Generated {len(actions)} actions for task\")\n",
    "        return actions\n",
    "    \n",
    "    def _normalize_task_description(self, description: str) -> str:"
   ]
  },
  {
   "cell_type": "markdown",
   "id": "78511906",
   "metadata": {},
   "source": [
    "        # Convert to lowercase and remove extra whitespace"
   ]
  },
  {
   "cell_type": "code",
   "execution_count": null,
   "id": "beabdb57",
   "metadata": {},
   "outputs": [],
   "source": [
    "        normalized = re.sub(r'\\s+', ' ', description.lower().strip())\n",
    "        "
   ]
  },
  {
   "cell_type": "markdown",
   "id": "dbf83061",
   "metadata": {},
   "source": [
    "        # Common abbreviations and synonyms"
   ]
  },
  {
   "cell_type": "markdown",
   "id": "b0616202",
   "metadata": {},
   "source": [
    "Analyze task to identify type and extract parameters.\n",
    "        \n",
    "        Args:\n",
    "            task: Normalized task description.\n",
    "            \n",
    "        Returns:\n",
    "            Tuple of (task_type, parameters)."
   ]
  },
  {
   "cell_type": "code",
   "execution_count": null,
   "id": "f84934b3",
   "metadata": {},
   "outputs": [],
   "source": [
    "        replacements = {\n",
    "            'click': 'tap',\n",
    "            'press': 'tap',\n",
    "            'touch': 'tap',\n",
    "            'type': 'input',\n",
    "            'enter': 'input',\n",
    "            'scroll': 'swipe',\n",
    "            'swipe up': 'swipe_up',\n",
    "            'swipe down': 'swipe_down',\n",
    "            'swipe left': 'swipe_left',\n",
    "            'swipe right': 'swipe_right',\n",
    "            'go back': 'back',\n",
    "            'return': 'back',\n",
    "            'home': 'home',\n",
    "            'menu': 'menu',\n",
    "            'settings': 'settings',\n",
    "            'app': 'application'\n",
    "        }\n",
    "        \n",
    "        for old, new in replacements.items():\n",
    "            normalized = normalized.replace(old, new)\n",
    "            \n",
    "        return normalized\n",
    "    \n",
    "    def _analyze_task(self, task: str) -> tuple[str, Dict[str, Any]]:\n",
    "        parameters = {}\n",
    "        "
   ]
  },
  {
   "cell_type": "markdown",
   "id": "7d5c2519",
   "metadata": {},
   "source": [
    "        # Navigation tasks"
   ]
  },
  {
   "cell_type": "code",
   "execution_count": null,
   "id": "abb65983",
   "metadata": {},
   "outputs": [],
   "source": [
    "        if any(word in task for word in ['navigate', 'go to', 'open', 'launch']):\n",
    "            task_type = 'navigation'"
   ]
  },
  {
   "cell_type": "markdown",
   "id": "567d2f65",
   "metadata": {},
   "source": [
    "            # Extract app/activity name"
   ]
  },
  {
   "cell_type": "code",
   "execution_count": null,
   "id": "b18790f6",
   "metadata": {},
   "outputs": [],
   "source": [
    "            app_match = re.search(r'(?:to|open|launch)\\s+([a-zA-Z0-9\\s]+)', task)\n",
    "            if app_match:\n",
    "                parameters['target'] = app_match.group(1).strip()\n",
    "                "
   ]
  },
  {
   "cell_type": "markdown",
   "id": "f6465a0a",
   "metadata": {},
   "source": [
    "        # Input tasks"
   ]
  },
  {
   "cell_type": "code",
   "execution_count": null,
   "id": "25f1d03f",
   "metadata": {},
   "outputs": [],
   "source": [
    "        elif any(word in task for word in ['input', 'type', 'enter', 'write']):\n",
    "            task_type = 'input'"
   ]
  },
  {
   "cell_type": "markdown",
   "id": "5ca1fdd9",
   "metadata": {},
   "source": [
    "            # Extract text to input"
   ]
  },
  {
   "cell_type": "code",
   "execution_count": null,
   "id": "bab8aff1",
   "metadata": {},
   "outputs": [],
   "source": [
    "            text_match = re.search(r'(?:input|type|enter|write)\\s+[\"\\']([^\"\\']+)[\"\\']', task)\n",
    "            if text_match:\n",
    "                parameters['text'] = text_match.group(1)\n",
    "                "
   ]
  },
  {
   "cell_type": "markdown",
   "id": "e44922d8",
   "metadata": {},
   "source": [
    "        # Tap/Click tasks"
   ]
  },
  {
   "cell_type": "code",
   "execution_count": null,
   "id": "39703e35",
   "metadata": {},
   "outputs": [],
   "source": [
    "        elif any(word in task for word in ['tap', 'click', 'press']):\n",
    "            task_type = 'tap'"
   ]
  },
  {
   "cell_type": "markdown",
   "id": "33f73743",
   "metadata": {},
   "source": [
    "            # Extract coordinates or element description"
   ]
  },
  {
   "cell_type": "code",
   "execution_count": null,
   "id": "8ec0d65a",
   "metadata": {},
   "outputs": [],
   "source": [
    "            coord_match = re.search(r'at\\s+\\((\\d+),\\s*(\\d+)\\)', task)\n",
    "            if coord_match:\n",
    "                parameters['x'] = int(coord_match.group(1))\n",
    "                parameters['y'] = int(coord_match.group(2))\n",
    "            else:"
   ]
  },
  {
   "cell_type": "markdown",
   "id": "c460b7a0",
   "metadata": {},
   "source": [
    "                # Extract element description"
   ]
  },
  {
   "cell_type": "code",
   "execution_count": null,
   "id": "2d7526f9",
   "metadata": {},
   "outputs": [],
   "source": [
    "                element_match = re.search(r'(?:tap|click|press)\\s+([a-zA-Z0-9\\s]+)', task)\n",
    "                if element_match:\n",
    "                    parameters['element'] = element_match.group(1).strip()\n",
    "                    "
   ]
  },
  {
   "cell_type": "markdown",
   "id": "e2bb6259",
   "metadata": {},
   "source": [
    "        # Swipe tasks"
   ]
  },
  {
   "cell_type": "code",
   "execution_count": null,
   "id": "f4cdefc9",
   "metadata": {},
   "outputs": [],
   "source": [
    "        elif any(word in task for word in ['swipe', 'scroll']):\n",
    "            task_type = 'swipe'"
   ]
  },
  {
   "cell_type": "markdown",
   "id": "989141b3",
   "metadata": {},
   "source": [
    "            # Extract direction"
   ]
  },
  {
   "cell_type": "code",
   "execution_count": null,
   "id": "af3c15c8",
   "metadata": {},
   "outputs": [],
   "source": [
    "            if 'up' in task:\n",
    "                parameters['direction'] = 'up'\n",
    "            elif 'down' in task:\n",
    "                parameters['direction'] = 'down'\n",
    "            elif 'left' in task:\n",
    "                parameters['direction'] = 'left'\n",
    "            elif 'right' in task:\n",
    "                parameters['direction'] = 'right'\n",
    "                "
   ]
  },
  {
   "cell_type": "markdown",
   "id": "b9c3dc98",
   "metadata": {},
   "source": [
    "        # Wait tasks"
   ]
  },
  {
   "cell_type": "code",
   "execution_count": null,
   "id": "ab93fa07",
   "metadata": {},
   "outputs": [],
   "source": [
    "        elif any(word in task for word in ['wait', 'pause', 'sleep']):\n",
    "            task_type = 'wait'"
   ]
  },
  {
   "cell_type": "markdown",
   "id": "6f60c0ad",
   "metadata": {},
   "source": [
    "            # Extract duration"
   ]
  },
  {
   "cell_type": "code",
   "execution_count": null,
   "id": "8757e970",
   "metadata": {},
   "outputs": [],
   "source": [
    "            duration_match = re.search(r'(\\d+)\\s*(?:seconds?|s)', task)\n",
    "            if duration_match:\n",
    "                parameters['duration'] = float(duration_match.group(1))\n",
    "            else:\n",
    "                parameters['duration'] = 1.0\n",
    "                "
   ]
  },
  {
   "cell_type": "markdown",
   "id": "d335f95e",
   "metadata": {},
   "source": [
    "        # Screenshot tasks"
   ]
  },
  {
   "cell_type": "code",
   "execution_count": null,
   "id": "bd04ab41",
   "metadata": {},
   "outputs": [],
   "source": [
    "        elif any(word in task for word in ['screenshot', 'capture', 'photo']):\n",
    "            task_type = 'screenshot'\n",
    "            "
   ]
  },
  {
   "cell_type": "markdown",
   "id": "5c0e9207",
   "metadata": {},
   "source": [
    "        # Default to generic task"
   ]
  },
  {
   "cell_type": "markdown",
   "id": "fe8b5166",
   "metadata": {},
   "source": [
    "Generate action sequence for a given task type.\n",
    "        \n",
    "        Args:\n",
    "            task_type: Type of task to generate actions for.\n",
    "            parameters: Task parameters.\n",
    "            current_state: Current device state.\n",
    "            \n",
    "        Returns:\n",
    "            List of actions to execute."
   ]
  },
  {
   "cell_type": "code",
   "execution_count": null,
   "id": "1ecc6000",
   "metadata": {},
   "outputs": [],
   "source": [
    "        else:\n",
    "            task_type = 'generic'\n",
    "            parameters['description'] = task\n",
    "            \n",
    "        return task_type, parameters\n",
    "    \n",
    "    def _generate_action_sequence(self, task_type: str, parameters: Dict[str, Any], \n",
    "                                current_state: Dict[str, Any]) -> List[Dict[str, Any]]:\n",
    "        actions = []\n",
    "        \n",
    "        if task_type == 'navigation':\n",
    "            actions.extend(self._generate_navigation_actions(parameters))\n",
    "        elif task_type == 'input':\n",
    "            actions.extend(self._generate_input_actions(parameters))\n",
    "        elif task_type == 'tap':\n",
    "            actions.extend(self._generate_tap_actions(parameters, current_state))\n",
    "        elif task_type == 'swipe':\n",
    "            actions.extend(self._generate_swipe_actions(parameters))\n",
    "        elif task_type == 'wait':\n",
    "            actions.extend(self._generate_wait_actions(parameters))\n",
    "        elif task_type == 'screenshot':\n",
    "            actions.extend(self._generate_screenshot_actions())\n",
    "        else:"
   ]
  },
  {
   "cell_type": "markdown",
   "id": "b6dd901e",
   "metadata": {},
   "source": [
    "            # Generic task - try to infer actions"
   ]
  },
  {
   "cell_type": "markdown",
   "id": "799a21c7",
   "metadata": {},
   "source": [
    "Generate actions for navigation tasks."
   ]
  },
  {
   "cell_type": "code",
   "execution_count": null,
   "id": "726e64cf",
   "metadata": {},
   "outputs": [],
   "source": [
    "            actions.extend(self._generate_generic_actions(parameters))\n",
    "            \n",
    "        return actions\n",
    "    \n",
    "    def _generate_navigation_actions(self, parameters: Dict[str, Any]) -> List[Dict[str, Any]]:\n",
    "        actions = []\n",
    "        target = parameters.get('target', '')\n",
    "        \n",
    "        if target:"
   ]
  },
  {
   "cell_type": "markdown",
   "id": "160a3750",
   "metadata": {},
   "source": [
    "            # For now, generate a placeholder action\n",
    "            # In a full implementation, this would use app detection and launch logic"
   ]
  },
  {
   "cell_type": "markdown",
   "id": "c4afeb85",
   "metadata": {},
   "source": [
    "Generate actions for input tasks."
   ]
  },
  {
   "cell_type": "markdown",
   "id": "7c47f0bd",
   "metadata": {},
   "source": [
    "Generate actions for tap tasks."
   ]
  },
  {
   "cell_type": "code",
   "execution_count": null,
   "id": "c7f1a846",
   "metadata": {},
   "outputs": [],
   "source": [
    "            actions.append({\n",
    "                'type': 'wait',\n",
    "                'duration': 1.0,\n",
    "                'reasoning': f'Preparing to navigate to {target}'\n",
    "            })\n",
    "            \n",
    "        return actions\n",
    "    \n",
    "    def _generate_input_actions(self, parameters: Dict[str, Any]) -> List[Dict[str, Any]]:\n",
    "        actions = []\n",
    "        text = parameters.get('text', '')\n",
    "        \n",
    "        if text:\n",
    "            actions.append({\n",
    "                'type': 'input_text',\n",
    "                'text': text,\n",
    "                'reasoning': f'Inputting text: {text}'\n",
    "            })\n",
    "            \n",
    "        return actions\n",
    "    \n",
    "    def _generate_tap_actions(self, parameters: Dict[str, Any], \n",
    "                            current_state: Dict[str, Any]) -> List[Dict[str, Any]]:\n",
    "        actions = []\n",
    "        "
   ]
  },
  {
   "cell_type": "markdown",
   "id": "1d949157",
   "metadata": {},
   "source": [
    "        # If coordinates are provided, use them directly"
   ]
  },
  {
   "cell_type": "code",
   "execution_count": null,
   "id": "4075c8f3",
   "metadata": {},
   "outputs": [],
   "source": [
    "        if 'x' in parameters and 'y' in parameters:\n",
    "            actions.append({\n",
    "                'type': 'tap',\n",
    "                'x': parameters['x'],\n",
    "                'y': parameters['y'],\n",
    "                'reasoning': f'Tapping at coordinates ({parameters[\"x\"]}, {parameters[\"y\"]})'\n",
    "            })\n",
    "        elif 'element' in parameters:"
   ]
  },
  {
   "cell_type": "markdown",
   "id": "f395fa3f",
   "metadata": {},
   "source": [
    "            # For element-based taps, we'd need element detection\n",
    "            # This is a placeholder for future implementation"
   ]
  },
  {
   "cell_type": "markdown",
   "id": "57a4a9ad",
   "metadata": {},
   "source": [
    "Generate actions for swipe tasks."
   ]
  },
  {
   "cell_type": "code",
   "execution_count": null,
   "id": "a1de48fe",
   "metadata": {},
   "outputs": [],
   "source": [
    "            actions.append({\n",
    "                'type': 'wait',\n",
    "                'duration': 1.0,\n",
    "                'reasoning': f'Preparing to tap element: {parameters[\"element\"]}'\n",
    "            })\n",
    "            \n",
    "        return actions\n",
    "    \n",
    "    def _generate_swipe_actions(self, parameters: Dict[str, Any]) -> List[Dict[str, Any]]:\n",
    "        actions = []\n",
    "        direction = parameters.get('direction', 'down')\n",
    "        "
   ]
  },
  {
   "cell_type": "markdown",
   "id": "d4be2462",
   "metadata": {},
   "source": [
    "        # Default swipe coordinates (center of screen)\n",
    "        # In a real implementation, these would be calculated based on screen size"
   ]
  },
  {
   "cell_type": "markdown",
   "id": "dcaf6164",
   "metadata": {},
   "source": [
    "Generate actions for wait tasks."
   ]
  },
  {
   "cell_type": "markdown",
   "id": "64e010be",
   "metadata": {},
   "source": [
    "Generate actions for screenshot tasks."
   ]
  },
  {
   "cell_type": "markdown",
   "id": "d653ec6f",
   "metadata": {},
   "source": [
    "Generate actions for generic tasks."
   ]
  },
  {
   "cell_type": "code",
   "execution_count": null,
   "id": "3e71b5a9",
   "metadata": {},
   "outputs": [],
   "source": [
    "        if direction == 'up':\n",
    "            actions.append({\n",
    "                'type': 'swipe',\n",
    "                'start_x': 500,\n",
    "                'start_y': 1000,\n",
    "                'end_x': 500,\n",
    "                'end_y': 200,\n",
    "                'duration': 500,\n",
    "                'reasoning': f'Swiping {direction}'\n",
    "            })\n",
    "        elif direction == 'down':\n",
    "            actions.append({\n",
    "                'type': 'swipe',\n",
    "                'start_x': 500,\n",
    "                'start_y': 200,\n",
    "                'end_x': 500,\n",
    "                'end_y': 1000,\n",
    "                'duration': 500,\n",
    "                'reasoning': f'Swiping {direction}'\n",
    "            })\n",
    "        elif direction == 'left':\n",
    "            actions.append({\n",
    "                'type': 'swipe',\n",
    "                'start_x': 800,\n",
    "                'start_y': 500,\n",
    "                'end_x': 200,\n",
    "                'end_y': 500,\n",
    "                'duration': 500,\n",
    "                'reasoning': f'Swiping {direction}'\n",
    "            })\n",
    "        elif direction == 'right':\n",
    "            actions.append({\n",
    "                'type': 'swipe',\n",
    "                'start_x': 200,\n",
    "                'start_y': 500,\n",
    "                'end_x': 800,\n",
    "                'end_y': 500,\n",
    "                'duration': 500,\n",
    "                'reasoning': f'Swiping {direction}'\n",
    "            })\n",
    "            \n",
    "        return actions\n",
    "    \n",
    "    def _generate_wait_actions(self, parameters: Dict[str, Any]) -> List[Dict[str, Any]]:\n",
    "        duration = parameters.get('duration', 1.0)\n",
    "        \n",
    "        return [{\n",
    "            'type': 'wait',\n",
    "            'duration': duration,\n",
    "            'reasoning': f'Waiting for {duration} seconds'\n",
    "        }]\n",
    "    \n",
    "    def _generate_screenshot_actions(self) -> List[Dict[str, Any]]:\n",
    "        return [{\n",
    "            'type': 'screenshot',\n",
    "            'reasoning': 'Capturing device screenshot'\n",
    "        }]\n",
    "    \n",
    "    def _generate_generic_actions(self, parameters: Dict[str, Any]) -> List[Dict[str, Any]]:\n",
    "        description = parameters.get('description', '')\n",
    "        "
   ]
  },
  {
   "cell_type": "markdown",
   "id": "bfa1f765",
   "metadata": {},
   "source": [
    "        # For generic tasks, we'll add a wait action as a placeholder\n",
    "        # In a full implementation, this would use AI to determine appropriate actions"
   ]
  },
  {
   "cell_type": "markdown",
   "id": "a8c2ceac",
   "metadata": {},
   "source": [
    "Load common task patterns for recognition."
   ]
  },
  {
   "cell_type": "markdown",
   "id": "c6f898f1",
   "metadata": {},
   "source": [
    "Load action templates for common operations."
   ]
  },
  {
   "cell_type": "code",
   "execution_count": null,
   "id": "01392425",
   "metadata": {},
   "outputs": [],
   "source": [
    "        return [{\n",
    "            'type': 'wait',\n",
    "            'duration': 2.0,\n",
    "            'reasoning': f'Processing generic task: {description}'\n",
    "        }]\n",
    "    \n",
    "    def _load_common_patterns(self) -> Dict[str, Any]:\n",
    "        return {\n",
    "            'navigation': ['navigate', 'go to', 'open', 'launch', 'start'],\n",
    "            'input': ['input', 'type', 'enter', 'write', 'fill'],\n",
    "            'tap': ['tap', 'click', 'press', 'touch'],\n",
    "            'swipe': ['swipe', 'scroll', 'slide'],\n",
    "            'wait': ['wait', 'pause', 'sleep', 'delay'],\n",
    "            'screenshot': ['screenshot', 'capture', 'photo', 'picture']\n",
    "        }\n",
    "    \n",
    "    def _load_action_templates(self) -> Dict[str, Any]:\n",
    "        return {\n",
    "            'back': {'type': 'key_event', 'key_code': 4},\n",
    "            'home': {'type': 'key_event', 'key_code': 3},\n",
    "            'menu': {'type': 'key_event', 'key_code': 82},\n",
    "            'enter': {'type': 'key_event', 'key_code': 66}\n",
    "        } "
   ]
  }
 ],
 "metadata": {
  "kernelspec": {
   "display_name": "Python 3",
   "language": "python",
   "name": "python3"
  },
  "language_info": {
   "codemirror_mode": {
    "name": "ipython",
    "version": 3
   },
   "file_extension": ".py",
   "mimetype": "text/x-python",
   "name": "python",
   "nbconvert_exporter": "python",
   "pygments_lexer": "ipython3",
   "version": "3.10.0"
  }
 },
 "nbformat": 4,
 "nbformat_minor": 5
}
