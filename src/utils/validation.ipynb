{
 "cells": [
  {
   "cell_type": "markdown",
   "id": "ddc86bcc",
   "metadata": {},
   "source": [
    "Validation utility functions for DroidBot-GPT framework."
   ]
  },
  {
   "cell_type": "markdown",
   "id": "56cf5d0e",
   "metadata": {},
   "source": [
    "Validate screen coordinates.\n",
    "    \n",
    "    Args:\n",
    "        x: X coordinate.\n",
    "        y: Y coordinate.\n",
    "        max_width: Maximum screen width.\n",
    "        max_height: Maximum screen height.\n",
    "        \n",
    "    Returns:\n",
    "        True if coordinates are valid, False otherwise."
   ]
  },
  {
   "cell_type": "markdown",
   "id": "54d928c8",
   "metadata": {},
   "source": [
    "Validate automation action structure.\n",
    "    \n",
    "    Args:\n",
    "        action: Action dictionary to validate.\n",
    "        \n",
    "    Returns:\n",
    "        Tuple of (is_valid, error_message)."
   ]
  },
  {
   "cell_type": "code",
   "execution_count": null,
   "id": "377beaf2",
   "metadata": {},
   "outputs": [],
   "source": [
    "\n",
    "from __future__ import annotations\n",
    "\n",
    "from typing import Any, Dict, Tuple, Union\n",
    "\n",
    "from ..core.logger import log\n",
    "\n",
    "\n",
    "def validate_coordinates(x: Union[int, float], y: Union[int, float], \n",
    "                        max_width: int = 1080, max_height: int = 1920) -> bool:\n",
    "    try:\n",
    "        x_val = float(x)\n",
    "        y_val = float(y)\n",
    "        \n",
    "        if x_val < 0 or x_val > max_width:\n",
    "            log.warning(f\"X coordinate {x_val} out of bounds [0, {max_width}]\")\n",
    "            return False\n",
    "            \n",
    "        if y_val < 0 or y_val > max_height:\n",
    "            log.warning(f\"Y coordinate {y_val} out of bounds [0, {max_height}]\")\n",
    "            return False\n",
    "            \n",
    "        return True\n",
    "        \n",
    "    except (ValueError, TypeError):\n",
    "        log.error(f\"Invalid coordinate values: x={x}, y={y}\")\n",
    "        return False\n",
    "\n",
    "\n",
    "def validate_action(action: Dict[str, Any]) -> Tuple[bool, str]:\n",
    "    if not isinstance(action, dict):\n",
    "        return False, \"Action must be a dictionary\"\n",
    "        \n",
    "    if 'type' not in action:\n",
    "        return False, \"Action missing 'type' field\"\n",
    "        \n",
    "    action_type = action['type']\n",
    "    "
   ]
  },
  {
   "cell_type": "markdown",
   "id": "9f7bba39",
   "metadata": {},
   "source": [
    "    # Validate action type"
   ]
  },
  {
   "cell_type": "code",
   "execution_count": null,
   "id": "7fb4a77f",
   "metadata": {},
   "outputs": [],
   "source": [
    "    valid_types = ['tap', 'swipe', 'input_text', 'key_event', 'wait', 'screenshot']\n",
    "    if action_type not in valid_types:\n",
    "        return False, f\"Invalid action type: {action_type}\"\n",
    "        "
   ]
  },
  {
   "cell_type": "markdown",
   "id": "53705504",
   "metadata": {},
   "source": [
    "    # Type-specific validation"
   ]
  },
  {
   "cell_type": "markdown",
   "id": "65c5a312",
   "metadata": {},
   "source": [
    "Validate tap action parameters."
   ]
  },
  {
   "cell_type": "markdown",
   "id": "7a5b39ab",
   "metadata": {},
   "source": [
    "Validate swipe action parameters."
   ]
  },
  {
   "cell_type": "code",
   "execution_count": null,
   "id": "e7fae84c",
   "metadata": {},
   "outputs": [],
   "source": [
    "    if action_type == 'tap':\n",
    "        return _validate_tap_action(action)\n",
    "    elif action_type == 'swipe':\n",
    "        return _validate_swipe_action(action)\n",
    "    elif action_type == 'input_text':\n",
    "        return _validate_input_action(action)\n",
    "    elif action_type == 'key_event':\n",
    "        return _validate_key_action(action)\n",
    "    elif action_type == 'wait':\n",
    "        return _validate_wait_action(action)\n",
    "    elif action_type == 'screenshot':\n",
    "        return True, \"\"\n",
    "        \n",
    "    return False, f\"Unknown action type: {action_type}\"\n",
    "\n",
    "\n",
    "def _validate_tap_action(action: Dict[str, Any]) -> Tuple[bool, str]:\n",
    "    if 'x' not in action or 'y' not in action:\n",
    "        return False, \"Tap action missing x or y coordinates\"\n",
    "        \n",
    "    x, y = action['x'], action['y']\n",
    "    \n",
    "    if not validate_coordinates(x, y):\n",
    "        return False, \"Invalid tap coordinates\"\n",
    "        \n",
    "    return True, \"\"\n",
    "\n",
    "\n",
    "def _validate_swipe_action(action: Dict[str, Any]) -> Tuple[bool, str]:\n",
    "    required_coords = ['start_x', 'start_y', 'end_x', 'end_y']\n",
    "    \n",
    "    for coord in required_coords:\n",
    "        if coord not in action:\n",
    "            return False, f\"Swipe action missing {coord}\"\n",
    "            \n",
    "    start_x, start_y = action['start_x'], action['start_y']\n",
    "    end_x, end_y = action['end_x'], action['end_y']\n",
    "    \n",
    "    if not validate_coordinates(start_x, start_y):\n",
    "        return False, \"Invalid swipe start coordinates\"\n",
    "        \n",
    "    if not validate_coordinates(end_x, end_y):\n",
    "        return False, \"Invalid swipe end coordinates\"\n",
    "        "
   ]
  },
  {
   "cell_type": "markdown",
   "id": "c7637e75",
   "metadata": {},
   "source": [
    "    # Validate duration if provided"
   ]
  },
  {
   "cell_type": "markdown",
   "id": "b04b7755",
   "metadata": {},
   "source": [
    "Validate input text action parameters."
   ]
  },
  {
   "cell_type": "markdown",
   "id": "51647d9f",
   "metadata": {},
   "source": [
    "Validate key event action parameters."
   ]
  },
  {
   "cell_type": "code",
   "execution_count": null,
   "id": "2f8d63d6",
   "metadata": {},
   "outputs": [],
   "source": [
    "    if 'duration' in action:\n",
    "        duration = action['duration']\n",
    "        if not isinstance(duration, (int, float)) or duration <= 0:\n",
    "            return False, \"Swipe duration must be a positive number\"\n",
    "            \n",
    "    return True, \"\"\n",
    "\n",
    "\n",
    "def _validate_input_action(action: Dict[str, Any]) -> Tuple[bool, str]:\n",
    "    if 'text' not in action:\n",
    "        return False, \"Input action missing text\"\n",
    "        \n",
    "    text = action['text']\n",
    "    if not isinstance(text, str):\n",
    "        return False, \"Input text must be a string\"\n",
    "        \n",
    "    if len(text) == 0:\n",
    "        return False, \"Input text cannot be empty\"\n",
    "        \n",
    "    return True, \"\"\n",
    "\n",
    "\n",
    "def _validate_key_action(action: Dict[str, Any]) -> Tuple[bool, str]:\n",
    "    if 'key_code' not in action:\n",
    "        return False, \"Key event action missing key_code\"\n",
    "        \n",
    "    key_code = action['key_code']\n",
    "    if not isinstance(key_code, int):\n",
    "        return False, \"Key code must be an integer\"\n",
    "        "
   ]
  },
  {
   "cell_type": "markdown",
   "id": "f3b9841a",
   "metadata": {},
   "source": [
    "    # Common Android key codes"
   ]
  },
  {
   "cell_type": "markdown",
   "id": "8c34c5b4",
   "metadata": {},
   "source": [
    "Validate wait action parameters."
   ]
  },
  {
   "cell_type": "markdown",
   "id": "ededfbfa",
   "metadata": {},
   "source": [
    "Validate device information structure.\n",
    "    \n",
    "    Args:\n",
    "        device_info: Device information dictionary.\n",
    "        \n",
    "    Returns:\n",
    "        True if device info is valid, False otherwise."
   ]
  },
  {
   "cell_type": "code",
   "execution_count": null,
   "id": "78e769fd",
   "metadata": {},
   "outputs": [],
   "source": [
    "    valid_key_codes = [\n",
    "        3, 4, 19, 20, 21, 22, 23, 24, 25, 26, 27, 28, 29, 30, 31, 32, 33, 34, 35,\n",
    "        36, 37, 38, 39, 40, 41, 42, 43, 44, 45, 46, 47, 48, 49, 50, 51, 52, 53,\n",
    "        54, 55, 56, 57, 58, 59, 60, 61, 62, 63, 64, 65, 66, 67, 68, 69, 70, 71,\n",
    "        72, 73, 74, 75, 76, 77, 78, 79, 80, 81, 82, 83, 84, 85, 86, 87, 88, 89,\n",
    "        90, 91, 92, 93, 94, 95, 96, 97, 98, 99, 100, 101, 102, 103, 104, 105,\n",
    "        106, 107, 108, 109, 110, 111, 112, 113, 114, 115, 116, 117, 118, 119,\n",
    "        120, 121, 122, 123, 124, 125, 126, 127, 128, 129, 130, 131, 132, 133,\n",
    "        134, 135, 136, 137, 138, 139, 140, 141, 142, 143, 144, 145, 146, 147,\n",
    "        148, 149, 150, 151, 152, 153, 154, 155, 156, 157, 158, 159, 160, 161,\n",
    "        162, 163, 164, 165, 166, 167, 168, 169, 170, 171, 172, 173, 174, 175,\n",
    "        176, 177, 178, 179, 180, 181, 182, 183, 184, 185, 186, 187, 188, 189,\n",
    "        190, 191, 192, 193, 194, 195, 196, 197, 198, 199, 200, 201, 202, 203,\n",
    "        204, 205, 206, 207, 208, 209, 210, 211, 212, 213, 214, 215, 216, 217,\n",
    "        218, 219, 220, 221, 222, 223, 224, 225, 226, 227, 228, 229, 230, 231,\n",
    "        232, 233, 234, 235, 236, 237, 238, 239, 240, 241, 242, 243, 244, 245,\n",
    "        246, 247, 248, 249, 250, 251, 252, 253, 254, 255\n",
    "    ]\n",
    "    \n",
    "    if key_code not in valid_key_codes:\n",
    "        log.warning(f\"Key code {key_code} not in standard Android key codes\")\n",
    "        \n",
    "    return True, \"\"\n",
    "\n",
    "\n",
    "def _validate_wait_action(action: Dict[str, Any]) -> Tuple[bool, str]:\n",
    "    duration = action.get('duration', 1.0)\n",
    "    \n",
    "    if not isinstance(duration, (int, float)):\n",
    "        return False, \"Wait duration must be a number\"\n",
    "        \n",
    "    if duration < 0:\n",
    "        return False, \"Wait duration cannot be negative\"\n",
    "        \n",
    "    if duration > 3600:  # Max 1 hour\n",
    "        return False, \"Wait duration cannot exceed 1 hour\"\n",
    "        \n",
    "    return True, \"\"\n",
    "\n",
    "\n",
    "def validate_device_info(device_info: Dict[str, Any]) -> bool:\n",
    "    required_fields = ['serial', 'model', 'android_version', 'screen_size']\n",
    "    \n",
    "    for field in required_fields:\n",
    "        if field not in device_info:\n",
    "            log.error(f\"Device info missing required field: {field}\")\n",
    "            return False\n",
    "            "
   ]
  },
  {
   "cell_type": "markdown",
   "id": "1d90677d",
   "metadata": {},
   "source": [
    "    # Validate screen size"
   ]
  },
  {
   "cell_type": "markdown",
   "id": "8d8aa2ba",
   "metadata": {},
   "source": [
    "Validate task description.\n",
    "    \n",
    "    Args:\n",
    "        description: Task description string.\n",
    "        \n",
    "    Returns:\n",
    "        True if description is valid, False otherwise."
   ]
  },
  {
   "cell_type": "markdown",
   "id": "9e6a148c",
   "metadata": {},
   "source": [
    "Sanitize a filename for safe file system usage.\n",
    "    \n",
    "    Args:\n",
    "        filename: Original filename.\n",
    "        \n",
    "    Returns:\n",
    "        Sanitized filename."
   ]
  },
  {
   "cell_type": "code",
   "execution_count": null,
   "id": "b999a21e",
   "metadata": {},
   "outputs": [],
   "source": [
    "    screen_size = device_info['screen_size']\n",
    "    if not isinstance(screen_size, (list, tuple)) or len(screen_size) != 2:\n",
    "        log.error(\"Device screen_size must be a tuple of (width, height)\")\n",
    "        return False\n",
    "        \n",
    "    width, height = screen_size\n",
    "    if not isinstance(width, int) or not isinstance(height, int):\n",
    "        log.error(\"Screen dimensions must be integers\")\n",
    "        return False\n",
    "        \n",
    "    if width <= 0 or height <= 0:\n",
    "        log.error(\"Screen dimensions must be positive\")\n",
    "        return False\n",
    "        \n",
    "    return True\n",
    "\n",
    "\n",
    "def validate_task_description(description: str) -> bool:\n",
    "    if not isinstance(description, str):\n",
    "        log.error(\"Task description must be a string\")\n",
    "        return False\n",
    "        \n",
    "    if len(description.strip()) == 0:\n",
    "        log.error(\"Task description cannot be empty\")\n",
    "        return False\n",
    "        \n",
    "    if len(description) > 1000:\n",
    "        log.error(\"Task description too long (max 1000 characters)\")\n",
    "        return False\n",
    "        \n",
    "    return True\n",
    "\n",
    "\n",
    "def sanitize_filename(filename: str) -> str:\n",
    "    import re\n",
    "    "
   ]
  },
  {
   "cell_type": "markdown",
   "id": "39916f6c",
   "metadata": {},
   "source": [
    "    # Remove or replace invalid characters"
   ]
  },
  {
   "cell_type": "code",
   "execution_count": null,
   "id": "09d340cb",
   "metadata": {},
   "outputs": [],
   "source": [
    "    sanitized = re.sub(r'[<>:\"/\\\\|?*]', '_', filename)\n",
    "    "
   ]
  },
  {
   "cell_type": "markdown",
   "id": "fe6f576e",
   "metadata": {},
   "source": [
    "    # Remove leading/trailing spaces and dots"
   ]
  },
  {
   "cell_type": "code",
   "execution_count": null,
   "id": "f0e58190",
   "metadata": {},
   "outputs": [],
   "source": [
    "    sanitized = sanitized.strip(' .')\n",
    "    "
   ]
  },
  {
   "cell_type": "markdown",
   "id": "3fc59bb1",
   "metadata": {},
   "source": [
    "    # Ensure filename is not empty"
   ]
  },
  {
   "cell_type": "code",
   "execution_count": null,
   "id": "4d700ad0",
   "metadata": {},
   "outputs": [],
   "source": [
    "    if not sanitized:\n",
    "        sanitized = \"unnamed_file\"\n",
    "        "
   ]
  },
  {
   "cell_type": "markdown",
   "id": "75562343",
   "metadata": {},
   "source": [
    "    # Limit length"
   ]
  },
  {
   "cell_type": "code",
   "execution_count": null,
   "id": "c8c98d50",
   "metadata": {},
   "outputs": [],
   "source": [
    "    if len(sanitized) > 255:\n",
    "        sanitized = sanitized[:255]\n",
    "        \n",
    "    return sanitized "
   ]
  }
 ],
 "metadata": {
  "kernelspec": {
   "display_name": "Python 3",
   "language": "python",
   "name": "python3"
  },
  "language_info": {
   "codemirror_mode": {
    "name": "ipython",
    "version": 3
   },
   "file_extension": ".py",
   "mimetype": "text/x-python",
   "name": "python",
   "nbconvert_exporter": "python",
   "pygments_lexer": "ipython3",
   "version": "3.10.0"
  }
 },
 "nbformat": 4,
 "nbformat_minor": 5
}
