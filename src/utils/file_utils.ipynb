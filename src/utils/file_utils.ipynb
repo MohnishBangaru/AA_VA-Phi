{
 "cells": [
  {
   "cell_type": "markdown",
   "id": "8a18b227",
   "metadata": {},
   "source": [
    "File utility functions for DroidBot-GPT framework."
   ]
  },
  {
   "cell_type": "markdown",
   "id": "e1bc52ff",
   "metadata": {},
   "source": [
    "Ensure a directory exists, creating it if necessary.\n",
    "    \n",
    "    Args:\n",
    "        directory_path: Path to the directory.\n",
    "        \n",
    "    Returns:\n",
    "        Absolute path to the directory."
   ]
  },
  {
   "cell_type": "markdown",
   "id": "1a0c0b4c",
   "metadata": {},
   "source": [
    "Get current timestamp as a string.\n",
    "    \n",
    "    Returns:\n",
    "        Timestamp string in format YYYY-MM-DD_HH-MM-SS."
   ]
  },
  {
   "cell_type": "markdown",
   "id": "82d82119",
   "metadata": {},
   "source": [
    "Get current timestamp in milliseconds.\n",
    "    \n",
    "    Returns:\n",
    "        Current timestamp in milliseconds."
   ]
  },
  {
   "cell_type": "markdown",
   "id": "e072dc49",
   "metadata": {},
   "source": [
    "Save data to a JSON file.\n",
    "    \n",
    "    Args:\n",
    "        data: Data to save.\n",
    "        filepath: Path to the JSON file.\n",
    "        indent: JSON indentation level.\n",
    "        \n",
    "    Returns:\n",
    "        True if save successful, False otherwise."
   ]
  },
  {
   "cell_type": "code",
   "execution_count": null,
   "id": "fb61d2ed",
   "metadata": {},
   "outputs": [],
   "source": [
    "\n",
    "from __future__ import annotations\n",
    "\n",
    "import json\n",
    "import os\n",
    "import time\n",
    "from pathlib import Path\n",
    "from typing import Any, Dict, Optional\n",
    "\n",
    "from ..core.logger import log\n",
    "\n",
    "\n",
    "def ensure_directory(directory_path: str) -> str:\n",
    "    path = Path(directory_path).resolve()\n",
    "    path.mkdir(parents=True, exist_ok=True)\n",
    "    return str(path)\n",
    "\n",
    "\n",
    "def get_timestamp() -> str:\n",
    "    return time.strftime(\"%Y-%m-%d_%H-%M-%S\")\n",
    "\n",
    "\n",
    "def get_timestamp_ms() -> int:\n",
    "    return int(time.time() * 1000)\n",
    "\n",
    "\n",
    "def save_json(data: Any, filepath: str, indent: int = 2) -> bool:\n",
    "    try:"
   ]
  },
  {
   "cell_type": "markdown",
   "id": "00d5b1d8",
   "metadata": {},
   "source": [
    "        # Ensure directory exists"
   ]
  },
  {
   "cell_type": "markdown",
   "id": "320131a7",
   "metadata": {},
   "source": [
    "Load data from a JSON file.\n",
    "    \n",
    "    Args:\n",
    "        filepath: Path to the JSON file.\n",
    "        \n",
    "    Returns:\n",
    "        Loaded data or None if failed."
   ]
  },
  {
   "cell_type": "markdown",
   "id": "4811da5b",
   "metadata": {},
   "source": [
    "Save screenshot data to a file.\n",
    "    \n",
    "    Args:\n",
    "        image_data: Raw image data.\n",
    "        filepath: Path to save the image.\n",
    "        \n",
    "    Returns:\n",
    "        True if save successful, False otherwise."
   ]
  },
  {
   "cell_type": "code",
   "execution_count": null,
   "id": "9e880ddc",
   "metadata": {},
   "outputs": [],
   "source": [
    "        directory = os.path.dirname(filepath)\n",
    "        if directory:\n",
    "            ensure_directory(directory)\n",
    "            \n",
    "        with open(filepath, 'w', encoding='utf-8') as f:\n",
    "            json.dump(data, f, indent=indent, ensure_ascii=False, default=str)\n",
    "            \n",
    "        log.debug(f\"Data saved to {filepath}\")\n",
    "        return True\n",
    "        \n",
    "    except Exception as e:\n",
    "        log.error(f\"Failed to save JSON to {filepath}: {e}\")\n",
    "        return False\n",
    "\n",
    "\n",
    "def load_json(filepath: str) -> Optional[Any]:\n",
    "    try:\n",
    "        if not os.path.exists(filepath):\n",
    "            log.warning(f\"JSON file not found: {filepath}\")\n",
    "            return None\n",
    "            \n",
    "        with open(filepath, 'r', encoding='utf-8') as f:\n",
    "            data = json.load(f)\n",
    "            \n",
    "        log.debug(f\"Data loaded from {filepath}\")\n",
    "        return data\n",
    "        \n",
    "    except Exception as e:\n",
    "        log.error(f\"Failed to load JSON from {filepath}: {e}\")\n",
    "        return None\n",
    "\n",
    "\n",
    "def save_screenshot(image_data: bytes, filepath: str) -> bool:\n",
    "    try:"
   ]
  },
  {
   "cell_type": "markdown",
   "id": "8dbe62f7",
   "metadata": {},
   "source": [
    "        # Ensure directory exists"
   ]
  },
  {
   "cell_type": "markdown",
   "id": "b48d3a5b",
   "metadata": {},
   "source": [
    "Get file size in bytes.\n",
    "    \n",
    "    Args:\n",
    "        filepath: Path to the file.\n",
    "        \n",
    "    Returns:\n",
    "        File size in bytes or None if file doesn't exist."
   ]
  },
  {
   "cell_type": "markdown",
   "id": "49ca18ab",
   "metadata": {},
   "source": [
    "Clean up old files in a directory.\n",
    "    \n",
    "    Args:\n",
    "        directory: Directory to clean up.\n",
    "        max_age_hours: Maximum age of files to keep in hours.\n",
    "        \n",
    "    Returns:\n",
    "        Number of files removed."
   ]
  },
  {
   "cell_type": "markdown",
   "id": "6db936e5",
   "metadata": {},
   "source": [
    "Create a session directory structure.\n",
    "    \n",
    "    Args:\n",
    "        session_id: Unique session identifier.\n",
    "        \n",
    "    Returns:\n",
    "        Path to the created session directory."
   ]
  },
  {
   "cell_type": "code",
   "execution_count": null,
   "id": "d9b06d0a",
   "metadata": {},
   "outputs": [],
   "source": [
    "        directory = os.path.dirname(filepath)\n",
    "        if directory:\n",
    "            ensure_directory(directory)\n",
    "            \n",
    "        with open(filepath, 'wb') as f:\n",
    "            f.write(image_data)\n",
    "            \n",
    "        log.debug(f\"Screenshot saved to {filepath}\")\n",
    "        return True\n",
    "        \n",
    "    except Exception as e:\n",
    "        log.error(f\"Failed to save screenshot to {filepath}: {e}\")\n",
    "        return False\n",
    "\n",
    "\n",
    "def get_file_size(filepath: str) -> Optional[int]:\n",
    "    try:\n",
    "        if os.path.exists(filepath):\n",
    "            return os.path.getsize(filepath)\n",
    "        return None\n",
    "    except Exception as e:\n",
    "        log.error(f\"Failed to get file size for {filepath}: {e}\")\n",
    "        return None\n",
    "\n",
    "\n",
    "def cleanup_old_files(directory: str, max_age_hours: int = 24) -> int:\n",
    "    try:\n",
    "        if not os.path.exists(directory):\n",
    "            return 0\n",
    "            \n",
    "        current_time = time.time()\n",
    "        max_age_seconds = max_age_hours * 3600\n",
    "        removed_count = 0\n",
    "        \n",
    "        for filename in os.listdir(directory):\n",
    "            filepath = os.path.join(directory, filename)\n",
    "            \n",
    "            if os.path.isfile(filepath):\n",
    "                file_age = current_time - os.path.getmtime(filepath)\n",
    "                \n",
    "                if file_age > max_age_seconds:\n",
    "                    try:\n",
    "                        os.remove(filepath)\n",
    "                        removed_count += 1\n",
    "                        log.debug(f\"Removed old file: {filepath}\")\n",
    "                    except Exception as e:\n",
    "                        log.warning(f\"Failed to remove old file {filepath}: {e}\")\n",
    "                        \n",
    "        if removed_count > 0:\n",
    "            log.info(f\"Cleaned up {removed_count} old files from {directory}\")\n",
    "            \n",
    "        return removed_count\n",
    "        \n",
    "    except Exception as e:\n",
    "        log.error(f\"Failed to cleanup old files in {directory}: {e}\")\n",
    "        return 0\n",
    "\n",
    "\n",
    "def create_session_directory(session_id: str) -> str:\n",
    "    session_dir = os.path.join(\"sessions\", session_id)\n",
    "    ensure_directory(session_dir)\n",
    "    "
   ]
  },
  {
   "cell_type": "markdown",
   "id": "910fffec",
   "metadata": {},
   "source": [
    "    # Create subdirectories"
   ]
  },
  {
   "cell_type": "markdown",
   "id": "655b8b51",
   "metadata": {},
   "source": [
    "Export session data to a file.\n",
    "    \n",
    "    Args:\n",
    "        session_id: Session identifier.\n",
    "        data: Data to export.\n",
    "        filename: Name of the export file.\n",
    "        \n",
    "    Returns:\n",
    "        True if export successful, False otherwise."
   ]
  },
  {
   "cell_type": "code",
   "execution_count": null,
   "id": "87452c55",
   "metadata": {},
   "outputs": [],
   "source": [
    "    subdirs = [\"screenshots\", \"logs\", \"actions\", \"analysis\", \"exports\"]\n",
    "    for subdir in subdirs:\n",
    "        ensure_directory(os.path.join(session_dir, subdir))\n",
    "        \n",
    "    log.info(f\"Session directory created: {session_dir}\")\n",
    "    return session_dir\n",
    "\n",
    "\n",
    "def export_session_data(session_id: str, data: Dict[str, Any], filename: str) -> bool:\n",
    "    try:\n",
    "        session_dir = os.path.join(\"sessions\", session_id, \"exports\")\n",
    "        ensure_directory(session_dir)\n",
    "        \n",
    "        filepath = os.path.join(session_dir, filename)\n",
    "        return save_json(data, filepath)\n",
    "        \n",
    "    except Exception as e:\n",
    "        log.error(f\"Failed to export session data: {e}\")\n",
    "        return False "
   ]
  }
 ],
 "metadata": {
  "kernelspec": {
   "display_name": "Python 3",
   "language": "python",
   "name": "python3"
  },
  "language_info": {
   "codemirror_mode": {
    "name": "ipython",
    "version": 3
   },
   "file_extension": ".py",
   "mimetype": "text/x-python",
   "name": "python",
   "nbconvert_exporter": "python",
   "pygments_lexer": "ipython3",
   "version": "3.10.0"
  }
 },
 "nbformat": 4,
 "nbformat_minor": 5
}
