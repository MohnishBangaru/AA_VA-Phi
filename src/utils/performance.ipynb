{
 "cells": [
  {
   "cell_type": "markdown",
   "id": "ff5a066d",
   "metadata": {},
   "source": [
    "Performance monitoring utilities for DroidBot-GPT framework."
   ]
  },
  {
   "cell_type": "markdown",
   "id": "099919d6",
   "metadata": {},
   "source": [
    "Monitor and track system performance metrics."
   ]
  },
  {
   "cell_type": "markdown",
   "id": "d1eab7d0",
   "metadata": {},
   "source": [
    "Initialize the performance monitor."
   ]
  },
  {
   "cell_type": "markdown",
   "id": "44cf998c",
   "metadata": {},
   "source": [
    "Capture current system performance metrics.\n",
    "        \n",
    "        Returns:\n",
    "            Dictionary containing current performance metrics."
   ]
  },
  {
   "cell_type": "code",
   "execution_count": null,
   "id": "94412f2d",
   "metadata": {},
   "outputs": [],
   "source": [
    "\n",
    "from __future__ import annotations\n",
    "\n",
    "import time\n",
    "from typing import Any, Dict, List, Optional\n",
    "\n",
    "import psutil\n",
    "\n",
    "from ..core.logger import log\n",
    "\n",
    "\n",
    "class PerformanceMonitor:\n",
    "    \n",
    "    def __init__(self):\n",
    "        self.metrics_history: List[Dict[str, Any]] = []\n",
    "        self.start_time = time.time()\n",
    "        self.max_history_size = 1000\n",
    "        \n",
    "    def capture_metrics(self) -> Dict[str, Any]:\n",
    "        try:"
   ]
  },
  {
   "cell_type": "markdown",
   "id": "41e21fa6",
   "metadata": {},
   "source": [
    "            # CPU metrics"
   ]
  },
  {
   "cell_type": "code",
   "execution_count": null,
   "id": "c669c34d",
   "metadata": {},
   "outputs": [],
   "source": [
    "            cpu_percent = psutil.cpu_percent(interval=0.1)\n",
    "            cpu_count = psutil.cpu_count()\n",
    "            "
   ]
  },
  {
   "cell_type": "markdown",
   "id": "8377de0c",
   "metadata": {},
   "source": [
    "            # Memory metrics"
   ]
  },
  {
   "cell_type": "code",
   "execution_count": null,
   "id": "46758901",
   "metadata": {},
   "outputs": [],
   "source": [
    "            memory = psutil.virtual_memory()\n",
    "            memory_percent = memory.percent\n",
    "            memory_available = memory.available / (1024 * 1024)  # MB\n",
    "            memory_total = memory.total / (1024 * 1024)  # MB\n",
    "            "
   ]
  },
  {
   "cell_type": "markdown",
   "id": "89a0299f",
   "metadata": {},
   "source": [
    "            # Disk metrics"
   ]
  },
  {
   "cell_type": "code",
   "execution_count": null,
   "id": "68743113",
   "metadata": {},
   "outputs": [],
   "source": [
    "            disk = psutil.disk_usage('/')\n",
    "            disk_percent = disk.percent\n",
    "            disk_free = disk.free / (1024 * 1024 * 1024)  # GB\n",
    "            "
   ]
  },
  {
   "cell_type": "markdown",
   "id": "3af5a391",
   "metadata": {},
   "source": [
    "            # Network metrics (if available)"
   ]
  },
  {
   "cell_type": "code",
   "execution_count": null,
   "id": "d65f1075",
   "metadata": {},
   "outputs": [],
   "source": [
    "            try:\n",
    "                network = psutil.net_io_counters()\n",
    "                network_bytes_sent = network.bytes_sent\n",
    "                network_bytes_recv = network.bytes_recv\n",
    "            except Exception:\n",
    "                network_bytes_sent = 0\n",
    "                network_bytes_recv = 0\n",
    "                "
   ]
  },
  {
   "cell_type": "markdown",
   "id": "b97d6ed5",
   "metadata": {},
   "source": [
    "            # Process metrics"
   ]
  },
  {
   "cell_type": "code",
   "execution_count": null,
   "id": "bd185525",
   "metadata": {},
   "outputs": [],
   "source": [
    "            process = psutil.Process()\n",
    "            process_cpu_percent = process.cpu_percent()\n",
    "            process_memory_info = process.memory_info()\n",
    "            process_memory_mb = process_memory_info.rss / (1024 * 1024)  # MB\n",
    "            "
   ]
  },
  {
   "cell_type": "markdown",
   "id": "3dfbe50d",
   "metadata": {},
   "source": [
    "            # Timestamp"
   ]
  },
  {
   "cell_type": "code",
   "execution_count": null,
   "id": "218c01b4",
   "metadata": {},
   "outputs": [],
   "source": [
    "            timestamp = time.time()\n",
    "            \n",
    "            metrics = {\n",
    "                'timestamp': timestamp,\n",
    "                'uptime': timestamp - self.start_time,\n",
    "                'cpu': {\n",
    "                    'percent': cpu_percent,\n",
    "                    'count': cpu_count,\n",
    "                    'process_percent': process_cpu_percent\n",
    "                },\n",
    "                'memory': {\n",
    "                    'percent': memory_percent,\n",
    "                    'available_mb': memory_available,\n",
    "                    'total_mb': memory_total,\n",
    "                    'process_mb': process_memory_mb\n",
    "                },\n",
    "                'disk': {\n",
    "                    'percent': disk_percent,\n",
    "                    'free_gb': disk_free\n",
    "                },\n",
    "                'network': {\n",
    "                    'bytes_sent': network_bytes_sent,\n",
    "                    'bytes_recv': network_bytes_recv\n",
    "                }\n",
    "            }\n",
    "            "
   ]
  },
  {
   "cell_type": "markdown",
   "id": "91a250d5",
   "metadata": {},
   "source": [
    "            # Store in history"
   ]
  },
  {
   "cell_type": "code",
   "execution_count": null,
   "id": "c88e20c8",
   "metadata": {},
   "outputs": [],
   "source": [
    "            self.metrics_history.append(metrics)\n",
    "            "
   ]
  },
  {
   "cell_type": "markdown",
   "id": "2afb9371",
   "metadata": {},
   "source": [
    "            # Limit history size"
   ]
  },
  {
   "cell_type": "markdown",
   "id": "d45a3c13",
   "metadata": {},
   "source": [
    "Get the most recent performance metrics.\n",
    "        \n",
    "        Returns:\n",
    "            Latest performance metrics."
   ]
  },
  {
   "cell_type": "markdown",
   "id": "550ecc82",
   "metadata": {},
   "source": [
    "Get a summary of performance metrics over a time window.\n",
    "        \n",
    "        Args:\n",
    "            time_window: Time window in seconds. If None, use all history.\n",
    "            \n",
    "        Returns:\n",
    "            Summary of performance metrics."
   ]
  },
  {
   "cell_type": "code",
   "execution_count": null,
   "id": "41c1c5b9",
   "metadata": {},
   "outputs": [],
   "source": [
    "            if len(self.metrics_history) > self.max_history_size:\n",
    "                self.metrics_history = self.metrics_history[-self.max_history_size:]\n",
    "                \n",
    "            return metrics\n",
    "            \n",
    "        except Exception as e:\n",
    "            log.error(f\"Failed to capture performance metrics: {e}\")\n",
    "            return {}\n",
    "    \n",
    "    def get_current_metrics(self) -> Dict[str, Any]:\n",
    "        if self.metrics_history:\n",
    "            return self.metrics_history[-1]\n",
    "        else:\n",
    "            return self.capture_metrics()\n",
    "    \n",
    "    def get_metrics_summary(self, time_window: Optional[float] = None) -> Dict[str, Any]:\n",
    "        if not self.metrics_history:\n",
    "            return {}\n",
    "            "
   ]
  },
  {
   "cell_type": "markdown",
   "id": "3c5b93c3",
   "metadata": {},
   "source": [
    "        # Filter metrics by time window"
   ]
  },
  {
   "cell_type": "code",
   "execution_count": null,
   "id": "3a0247b6",
   "metadata": {},
   "outputs": [],
   "source": [
    "        if time_window is not None:\n",
    "            current_time = time.time()\n",
    "            filtered_metrics = [\n",
    "                m for m in self.metrics_history\n",
    "                if current_time - m['timestamp'] <= time_window\n",
    "            ]\n",
    "        else:\n",
    "            filtered_metrics = self.metrics_history\n",
    "            \n",
    "        if not filtered_metrics:\n",
    "            return {}\n",
    "            "
   ]
  },
  {
   "cell_type": "markdown",
   "id": "8a84a553",
   "metadata": {},
   "source": [
    "        # Calculate averages"
   ]
  },
  {
   "cell_type": "markdown",
   "id": "5f9148a1",
   "metadata": {},
   "source": [
    "Check if current performance is within acceptable thresholds.\n",
    "        \n",
    "        Args:\n",
    "            thresholds: Performance thresholds. If None, use defaults.\n",
    "            \n",
    "        Returns:\n",
    "            True if performance is acceptable, False otherwise."
   ]
  },
  {
   "cell_type": "code",
   "execution_count": null,
   "id": "916d56b5",
   "metadata": {},
   "outputs": [],
   "source": [
    "        cpu_percents = [m['cpu']['percent'] for m in filtered_metrics]\n",
    "        memory_percents = [m['memory']['percent'] for m in filtered_metrics]\n",
    "        process_memory_mbs = [m['memory']['process_mb'] for m in filtered_metrics]\n",
    "        \n",
    "        summary = {\n",
    "            'time_window': time_window,\n",
    "            'sample_count': len(filtered_metrics),\n",
    "            'cpu': {\n",
    "                'average_percent': sum(cpu_percents) / len(cpu_percents),\n",
    "                'max_percent': max(cpu_percents),\n",
    "                'min_percent': min(cpu_percents)\n",
    "            },\n",
    "            'memory': {\n",
    "                'average_percent': sum(memory_percents) / len(memory_percents),\n",
    "                'max_percent': max(memory_percents),\n",
    "                'min_percent': min(memory_percents),\n",
    "                'average_process_mb': sum(process_memory_mbs) / len(process_memory_mbs),\n",
    "                'max_process_mb': max(process_memory_mbs)\n",
    "            },\n",
    "            'uptime': time.time() - self.start_time\n",
    "        }\n",
    "        \n",
    "        return summary\n",
    "    \n",
    "    def is_performance_acceptable(self, thresholds: Optional[Dict[str, float]] = None) -> bool:\n",
    "        if thresholds is None:\n",
    "            thresholds = {\n",
    "                'cpu_percent': 80.0,\n",
    "                'memory_percent': 85.0,\n",
    "                'disk_percent': 90.0\n",
    "            }\n",
    "            \n",
    "        current_metrics = self.get_current_metrics()\n",
    "        \n",
    "        if not current_metrics:\n",
    "            return False\n",
    "            "
   ]
  },
  {
   "cell_type": "markdown",
   "id": "60d1ef43",
   "metadata": {},
   "source": [
    "        # Check CPU usage"
   ]
  },
  {
   "cell_type": "code",
   "execution_count": null,
   "id": "e9ee8325",
   "metadata": {},
   "outputs": [],
   "source": [
    "        if current_metrics['cpu']['percent'] > thresholds.get('cpu_percent', 80.0):\n",
    "            log.warning(f\"High CPU usage: {current_metrics['cpu']['percent']}%\")\n",
    "            return False\n",
    "            "
   ]
  },
  {
   "cell_type": "markdown",
   "id": "87d8e058",
   "metadata": {},
   "source": [
    "        # Check memory usage"
   ]
  },
  {
   "cell_type": "code",
   "execution_count": null,
   "id": "ea6f1bfe",
   "metadata": {},
   "outputs": [],
   "source": [
    "        if current_metrics['memory']['percent'] > thresholds.get('memory_percent', 85.0):\n",
    "            log.warning(f\"High memory usage: {current_metrics['memory']['percent']}%\")\n",
    "            return False\n",
    "            "
   ]
  },
  {
   "cell_type": "markdown",
   "id": "694eeb68",
   "metadata": {},
   "source": [
    "        # Check disk usage"
   ]
  },
  {
   "cell_type": "markdown",
   "id": "5f30ea69",
   "metadata": {},
   "source": [
    "Get performance alerts based on current metrics.\n",
    "        \n",
    "        Returns:\n",
    "            List of performance alert messages."
   ]
  },
  {
   "cell_type": "code",
   "execution_count": null,
   "id": "40fcb16a",
   "metadata": {},
   "outputs": [],
   "source": [
    "        if current_metrics['disk']['percent'] > thresholds.get('disk_percent', 90.0):\n",
    "            log.warning(f\"High disk usage: {current_metrics['disk']['percent']}%\")\n",
    "            return False\n",
    "            \n",
    "        return True\n",
    "    \n",
    "    def get_performance_alerts(self) -> List[str]:\n",
    "        alerts = []\n",
    "        current_metrics = self.get_current_metrics()\n",
    "        \n",
    "        if not current_metrics:\n",
    "            return [\"Unable to capture performance metrics\"]\n",
    "            "
   ]
  },
  {
   "cell_type": "markdown",
   "id": "17e628a6",
   "metadata": {},
   "source": [
    "        # CPU alerts"
   ]
  },
  {
   "cell_type": "code",
   "execution_count": null,
   "id": "d7a1cbb8",
   "metadata": {},
   "outputs": [],
   "source": [
    "        cpu_percent = current_metrics['cpu']['percent']\n",
    "        if cpu_percent > 90:\n",
    "            alerts.append(f\"Critical CPU usage: {cpu_percent}%\")\n",
    "        elif cpu_percent > 80:\n",
    "            alerts.append(f\"High CPU usage: {cpu_percent}%\")\n",
    "            "
   ]
  },
  {
   "cell_type": "markdown",
   "id": "e3060845",
   "metadata": {},
   "source": [
    "        # Memory alerts"
   ]
  },
  {
   "cell_type": "code",
   "execution_count": null,
   "id": "0fab1214",
   "metadata": {},
   "outputs": [],
   "source": [
    "        memory_percent = current_metrics['memory']['percent']\n",
    "        if memory_percent > 95:\n",
    "            alerts.append(f\"Critical memory usage: {memory_percent}%\")\n",
    "        elif memory_percent > 85:\n",
    "            alerts.append(f\"High memory usage: {memory_percent}%\")\n",
    "            "
   ]
  },
  {
   "cell_type": "markdown",
   "id": "0e6f90f0",
   "metadata": {},
   "source": [
    "        # Disk alerts"
   ]
  },
  {
   "cell_type": "code",
   "execution_count": null,
   "id": "7e845c26",
   "metadata": {},
   "outputs": [],
   "source": [
    "        disk_percent = current_metrics['disk']['percent']\n",
    "        if disk_percent > 95:\n",
    "            alerts.append(f\"Critical disk usage: {disk_percent}%\")\n",
    "        elif disk_percent > 90:\n",
    "            alerts.append(f\"High disk usage: {disk_percent}%\")\n",
    "            "
   ]
  },
  {
   "cell_type": "markdown",
   "id": "758ac2a0",
   "metadata": {},
   "source": [
    "        # Process memory alerts"
   ]
  },
  {
   "cell_type": "markdown",
   "id": "3aa36ef2",
   "metadata": {},
   "source": [
    "Clear the metrics history."
   ]
  },
  {
   "cell_type": "markdown",
   "id": "bf6f04f2",
   "metadata": {},
   "source": [
    "Export performance metrics to a file.\n",
    "        \n",
    "        Args:\n",
    "            filepath: Path to save the metrics.\n",
    "            \n",
    "        Returns:\n",
    "            True if export successful, False otherwise."
   ]
  },
  {
   "cell_type": "markdown",
   "id": "cf43fc59",
   "metadata": {},
   "source": [
    "Get trend data for a specific metric over time.\n",
    "        \n",
    "        Args:\n",
    "            metric: Metric to track (e.g., 'cpu.percent', 'memory.percent').\n",
    "            time_window: Time window in seconds.\n",
    "            \n",
    "        Returns:\n",
    "            List of metric values over time."
   ]
  },
  {
   "cell_type": "code",
   "execution_count": null,
   "id": "bbd9786c",
   "metadata": {},
   "outputs": [],
   "source": [
    "        process_memory_mb = current_metrics['memory']['process_mb']\n",
    "        if process_memory_mb > 1000:  # 1GB\n",
    "            alerts.append(f\"High process memory usage: {process_memory_mb:.1f}MB\")\n",
    "            \n",
    "        return alerts\n",
    "    \n",
    "    def clear_history(self) -> None:\n",
    "        self.metrics_history.clear()\n",
    "        self.start_time = time.time()\n",
    "        \n",
    "    def export_metrics(self, filepath: str) -> bool:\n",
    "        try:\n",
    "            from ..utils.file_utils import save_json\n",
    "            \n",
    "            export_data = {\n",
    "                'summary': self.get_metrics_summary(),\n",
    "                'history': self.metrics_history,\n",
    "                'alerts': self.get_performance_alerts()\n",
    "            }\n",
    "            \n",
    "            return save_json(export_data, filepath)\n",
    "            \n",
    "        except Exception as e:\n",
    "            log.error(f\"Failed to export performance metrics: {e}\")\n",
    "            return False\n",
    "    \n",
    "    def get_resource_usage_trend(self, metric: str, time_window: float = 300) -> List[float]:\n",
    "        current_time = time.time()\n",
    "        trend_data = []\n",
    "        \n",
    "        for metrics in self.metrics_history:\n",
    "            if current_time - metrics['timestamp'] <= time_window:"
   ]
  },
  {
   "cell_type": "markdown",
   "id": "4e64f31a",
   "metadata": {},
   "source": [
    "                # Navigate nested dictionary"
   ]
  },
  {
   "cell_type": "code",
   "execution_count": null,
   "id": "3b40e8d0",
   "metadata": {},
   "outputs": [],
   "source": [
    "                value = metrics\n",
    "                for key in metric.split('.'):\n",
    "                    if isinstance(value, dict) and key in value:\n",
    "                        value = value[key]\n",
    "                    else:\n",
    "                        value = None\n",
    "                        break\n",
    "                        \n",
    "                if value is not None:\n",
    "                    trend_data.append(value)\n",
    "                    \n",
    "        return trend_data "
   ]
  }
 ],
 "metadata": {
  "kernelspec": {
   "display_name": "Python 3",
   "language": "python",
   "name": "python3"
  },
  "language_info": {
   "codemirror_mode": {
    "name": "ipython",
    "version": 3
   },
   "file_extension": ".py",
   "mimetype": "text/x-python",
   "name": "python",
   "nbconvert_exporter": "python",
   "pygments_lexer": "ipython3",
   "version": "3.10.0"
  }
 },
 "nbformat": 4,
 "nbformat_minor": 5
}
