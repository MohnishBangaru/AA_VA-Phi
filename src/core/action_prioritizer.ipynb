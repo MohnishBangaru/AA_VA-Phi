{
 "cells": [
  {
   "cell_type": "markdown",
   "id": "51526e9e",
   "metadata": {},
   "source": [
    "Action Prioritizer for DroidBot-GPT framework.\n",
    "\n",
    "This module implements a comprehensive action prioritization system that consolidates\n",
    "order of precedence rules with LLM analysis and vision analysis to make optimal\n",
    "action decisions for exploration and interaction."
   ]
  },
  {
   "cell_type": "markdown",
   "id": "11d7517f",
   "metadata": {},
   "source": [
    "Action types with their priority levels."
   ]
  },
  {
   "cell_type": "markdown",
   "id": "f561c092",
   "metadata": {},
   "source": [
    "Element categories for classification."
   ]
  },
  {
   "cell_type": "code",
   "execution_count": null,
   "id": "5885ec16",
   "metadata": {},
   "outputs": [],
   "source": [
    "\n",
    "import re\n",
    "from typing import Any, Dict, List, Optional, Tuple\n",
    "from dataclasses import dataclass\n",
    "from enum import Enum\n",
    "\n",
    "from ..core.logger import log\n",
    "from ..core.popup_classifier import get_popup_classifier, PopupAction\n",
    "from ..ai.phi_ground import get_phi_ground_generator\n",
    "\n",
    "\n",
    "class ActionType(Enum):\n",
    "    SET_TEXT = 1      # Highest priority\n",
    "    TAP_PRIMARY = 2   # High priority\n",
    "    SCROLL = 3        # Medium priority\n",
    "    TAP_NAVIGATION = 4  # Lowest priority\n",
    "\n",
    "\n",
    "class ElementCategory(Enum):"
   ]
  },
  {
   "cell_type": "markdown",
   "id": "a9a879b5",
   "metadata": {},
   "source": [
    "    # Text input fields"
   ]
  },
  {
   "cell_type": "code",
   "execution_count": null,
   "id": "6ad7cb55",
   "metadata": {},
   "outputs": [],
   "source": [
    "    EMAIL_INPUT = \"email_input\"\n",
    "    PASSWORD_INPUT = \"password_input\"\n",
    "    SEARCH_INPUT = \"search_input\"\n",
    "    NAME_INPUT = \"name_input\"\n",
    "    ADDRESS_INPUT = \"address_input\"\n",
    "    PHONE_INPUT = \"phone_input\"\n",
    "    DATE_INPUT = \"date_input\"\n",
    "    URL_INPUT = \"url_input\"\n",
    "    CODE_INPUT = \"code_input\"\n",
    "    GENERIC_INPUT = \"generic_input\"\n",
    "    "
   ]
  },
  {
   "cell_type": "markdown",
   "id": "d0af0a31",
   "metadata": {},
   "source": [
    "    # Primary action buttons"
   ]
  },
  {
   "cell_type": "code",
   "execution_count": null,
   "id": "b4153fe0",
   "metadata": {},
   "outputs": [],
   "source": [
    "    PRIMARY_BUTTON = \"primary_button\"\n",
    "    FORWARDING_BUTTON = \"forwarding_button\"\n",
    "    "
   ]
  },
  {
   "cell_type": "markdown",
   "id": "bd446624",
   "metadata": {},
   "source": [
    "    # Navigation elements"
   ]
  },
  {
   "cell_type": "code",
   "execution_count": null,
   "id": "57cdb42d",
   "metadata": {},
   "outputs": [],
   "source": [
    "    NAVIGATION_BUTTON = \"navigation_button\"\n",
    "    BACK_BUTTON = \"back_button\"\n",
    "    DISMISS_BUTTON = \"dismiss_button\"\n",
    "    "
   ]
  },
  {
   "cell_type": "markdown",
   "id": "ede97d60",
   "metadata": {},
   "source": [
    "    # Interactive controls"
   ]
  },
  {
   "cell_type": "code",
   "execution_count": null,
   "id": "d0a00f58",
   "metadata": {},
   "outputs": [],
   "source": [
    "    CHECKBOX = \"checkbox\"\n",
    "    RADIO_BUTTON = \"radio_button\"\n",
    "    SWITCH = \"switch\"\n",
    "    "
   ]
  },
  {
   "cell_type": "markdown",
   "id": "a56019fe",
   "metadata": {},
   "source": [
    "    # General elements"
   ]
  },
  {
   "cell_type": "markdown",
   "id": "25577249",
   "metadata": {},
   "source": [
    "Represents a prioritized action with scoring."
   ]
  },
  {
   "cell_type": "markdown",
   "id": "a5e0be31",
   "metadata": {},
   "source": [
    "Main action prioritizer that consolidates rules, LLM, and vision analysis."
   ]
  },
  {
   "cell_type": "markdown",
   "id": "06a3b8b5",
   "metadata": {},
   "source": [
    "Initialize the action prioritizer."
   ]
  },
  {
   "cell_type": "code",
   "execution_count": null,
   "id": "a725cb6f",
   "metadata": {},
   "outputs": [],
   "source": [
    "    GENERAL_BUTTON = \"general_button\"\n",
    "    LINK = \"link\"\n",
    "    OTHER = \"other\"\n",
    "\n",
    "\n",
    "@dataclass\n",
    "class PrioritizedAction:\n",
    "    action_type: ActionType\n",
    "    element: Dict[str, Any]\n",
    "    score: float\n",
    "    reasoning: str\n",
    "    category: ElementCategory\n",
    "    llm_confidence: float = 0.0\n",
    "    vision_confidence: float = 0.0\n",
    "    exploration_bonus: float = 0.0\n",
    "\n",
    "\n",
    "class ActionPrioritizer:\n",
    "    \n",
    "    def __init__(self):\n",
    "        self._phi_ground_generator = None\n",
    "        "
   ]
  },
  {
   "cell_type": "markdown",
   "id": "9a85748d",
   "metadata": {},
   "source": [
    "        # Text input field keywords"
   ]
  },
  {
   "cell_type": "code",
   "execution_count": null,
   "id": "e2db252b",
   "metadata": {},
   "outputs": [],
   "source": [
    "        self.text_input_keywords = {\n",
    "            \"email\": ElementCategory.EMAIL_INPUT,\n",
    "            \"password\": ElementCategory.PASSWORD_INPUT,\n",
    "            \"search\": ElementCategory.SEARCH_INPUT,\n",
    "            \"name\": ElementCategory.NAME_INPUT,\n",
    "            \"address\": ElementCategory.ADDRESS_INPUT,\n",
    "            \"phone\": ElementCategory.PHONE_INPUT,\n",
    "            \"date\": ElementCategory.DATE_INPUT,\n",
    "            \"url\": ElementCategory.URL_INPUT,\n",
    "            \"code\": ElementCategory.CODE_INPUT,\n",
    "        }\n",
    "        "
   ]
  },
  {
   "cell_type": "markdown",
   "id": "fff30a8e",
   "metadata": {},
   "source": [
    "        # Primary action button keywords"
   ]
  },
  {
   "cell_type": "code",
   "execution_count": null,
   "id": "c30bf0e4",
   "metadata": {},
   "outputs": [],
   "source": [
    "        self.primary_action_keywords = [\n",
    "            \"next\", \"continue\", \"sign in\", \"submit\", \"add to cart\", \"save\", \"confirm\",\n",
    "            \"proceed\", \"finish\", \"complete\", \"done\", \"ok\", \"yes\", \"accept\"\n",
    "        ]\n",
    "        "
   ]
  },
  {
   "cell_type": "markdown",
   "id": "17d6beeb",
   "metadata": {},
   "source": [
    "        # Forwarding action keywords"
   ]
  },
  {
   "cell_type": "code",
   "execution_count": null,
   "id": "ad578c0c",
   "metadata": {},
   "outputs": [],
   "source": [
    "        self.forwarding_keywords = [\n",
    "            \"view details\", \"learn more\", \"read more\", \"see more\", \"expand\",\n",
    "            \"open\", \"launch\", \"start\", \"begin\"\n",
    "        ]\n",
    "        "
   ]
  },
  {
   "cell_type": "markdown",
   "id": "f6cb7d32",
   "metadata": {},
   "source": [
    "        # Navigation keywords"
   ]
  },
  {
   "cell_type": "code",
   "execution_count": null,
   "id": "3788e3c1",
   "metadata": {},
   "outputs": [],
   "source": [
    "        self.navigation_keywords = [\n",
    "            \"back\", \"previous\", \"cancel\", \"close\", \"dismiss\", \"exit\",\n",
    "            \"menu\", \"home\", \"settings\", \"profile\", \"account\"\n",
    "        ]\n",
    "        "
   ]
  },
  {
   "cell_type": "markdown",
   "id": "e1a0d186",
   "metadata": {},
   "source": [
    "        # Social login providers we want to avoid tapping automatically"
   ]
  },
  {
   "cell_type": "code",
   "execution_count": null,
   "id": "5a612112",
   "metadata": {},
   "outputs": [],
   "source": [
    "        self.social_login_keywords = [\n",
    "            \"google\", \"facebook\", \"apple\", \"twitter\", \"linkedin\", \"microsoft\", \"sign in with google\"\n",
    "        ]\n"
   ]
  },
  {
   "cell_type": "markdown",
   "id": "2970363b",
   "metadata": {},
   "source": [
    "        # Guest / skip-login keywords that should be promoted"
   ]
  },
  {
   "cell_type": "code",
   "execution_count": null,
   "id": "f1907c43",
   "metadata": {},
   "outputs": [],
   "source": [
    "        self.guest_keywords = [\n",
    "            \"continue as guest\", \"guest checkout\", \"skip login\", \"continue without signing in\",\n",
    "            \"browse as guest\"\n",
    "        ]\n",
    "        "
   ]
  },
  {
   "cell_type": "markdown",
   "id": "c6b716ea",
   "metadata": {},
   "source": [
    "        # Base scores for different action types"
   ]
  },
  {
   "cell_type": "code",
   "execution_count": null,
   "id": "ec71d2ef",
   "metadata": {},
   "outputs": [],
   "source": [
    "        self.base_scores = {\n",
    "            ActionType.SET_TEXT: 100.0,\n",
    "            ActionType.TAP_PRIMARY: 80.0,\n",
    "            ActionType.SCROLL: 60.0,\n",
    "            ActionType.TAP_NAVIGATION: 40.0\n",
    "        }\n",
    "        "
   ]
  },
  {
   "cell_type": "markdown",
   "id": "be3c5bde",
   "metadata": {},
   "source": [
    "        # Exploration bonus for unexplored elements"
   ]
  },
  {
   "cell_type": "code",
   "execution_count": null,
   "id": "5ec92556",
   "metadata": {},
   "outputs": [],
   "source": [
    "        self.exploration_bonus = 20.0\n",
    "        "
   ]
  },
  {
   "cell_type": "markdown",
   "id": "04a80696",
   "metadata": {},
   "source": [
    "        # LLM and vision confidence weights"
   ]
  },
  {
   "cell_type": "markdown",
   "id": "73017981",
   "metadata": {},
   "source": [
    "Prioritize actions based on order of precedence, LLM, and vision analysis.\n",
    "        \n",
    "        Args:\n",
    "            ui_elements: List of UI elements from vision analysis\n",
    "            llm_analysis: LLM analysis results\n",
    "            vision_analysis: Vision analysis results\n",
    "            task_description: Current task description\n",
    "            action_history: History of previous actions\n",
    "            \n",
    "        Returns:\n",
    "            List of prioritized actions sorted by score"
   ]
  },
  {
   "cell_type": "code",
   "execution_count": null,
   "id": "3a194381",
   "metadata": {},
   "outputs": [],
   "source": [
    "        self.llm_weight = 0.4\n",
    "        self.vision_weight = 0.3\n",
    "        self.rule_weight = 0.3\n",
    "\n",
    "    def prioritize_actions(\n",
    "        self,\n",
    "        ui_elements: List[Dict[str, Any]],\n",
    "        llm_analysis: Optional[Dict[str, Any]] = None,\n",
    "        vision_analysis: Optional[Dict[str, Any]] = None,\n",
    "        task_description: str = \"\",\n",
    "        action_history: Optional[List[Dict[str, Any]]] = None\n",
    "    ) -> List[PrioritizedAction]:\n",
    "        if action_history is None:\n",
    "            action_history = []\n",
    "        \n",
    "        prioritized_actions = []\n",
    "        "
   ]
  },
  {
   "cell_type": "markdown",
   "id": "f06013f2",
   "metadata": {},
   "source": [
    "        # Step 1: Apply order of precedence rules"
   ]
  },
  {
   "cell_type": "code",
   "execution_count": null,
   "id": "b1146647",
   "metadata": {},
   "outputs": [],
   "source": [
    "        rule_based_actions = self._apply_order_of_precedence(ui_elements, action_history)\n",
    "        "
   ]
  },
  {
   "cell_type": "markdown",
   "id": "40898f5f",
   "metadata": {},
   "source": [
    "        # Step 2: Integrate LLM analysis"
   ]
  },
  {
   "cell_type": "code",
   "execution_count": null,
   "id": "ce379bb5",
   "metadata": {},
   "outputs": [],
   "source": [
    "        if llm_analysis:\n",
    "            llm_enhanced_actions = self._integrate_llm_analysis(\n",
    "                rule_based_actions, llm_analysis, task_description\n",
    "            )\n",
    "        else:\n",
    "            llm_enhanced_actions = rule_based_actions\n",
    "        "
   ]
  },
  {
   "cell_type": "markdown",
   "id": "827c5eef",
   "metadata": {},
   "source": [
    "        # Step 3: Integrate vision analysis"
   ]
  },
  {
   "cell_type": "code",
   "execution_count": null,
   "id": "9ff41de4",
   "metadata": {},
   "outputs": [],
   "source": [
    "        if vision_analysis:\n",
    "            vision_enhanced_actions = self._integrate_vision_analysis(\n",
    "                llm_enhanced_actions, vision_analysis\n",
    "            )\n",
    "        else:\n",
    "            vision_enhanced_actions = llm_enhanced_actions\n",
    "        "
   ]
  },
  {
   "cell_type": "markdown",
   "id": "1b83f9d8",
   "metadata": {},
   "source": [
    "        # Step 4: Calculate final scores and sort"
   ]
  },
  {
   "cell_type": "code",
   "execution_count": null,
   "id": "3cfd16a7",
   "metadata": {},
   "outputs": [],
   "source": [
    "        for action in vision_enhanced_actions:\n",
    "            final_score = self._calculate_final_score(action)\n",
    "            action.score = final_score\n",
    "            prioritized_actions.append(action)\n",
    "        "
   ]
  },
  {
   "cell_type": "markdown",
   "id": "0a7bf1c0",
   "metadata": {},
   "source": [
    "        # Sort by score (highest first)"
   ]
  },
  {
   "cell_type": "markdown",
   "id": "89ebf33f",
   "metadata": {},
   "source": [
    "Apply the order of precedence rules to UI elements.\n",
    "        \n",
    "        Args:\n",
    "            ui_elements: List of UI elements\n",
    "            action_history: History of previous actions\n",
    "            \n",
    "        Returns:\n",
    "            List of prioritized actions based on rules"
   ]
  },
  {
   "cell_type": "code",
   "execution_count": null,
   "id": "2d63c1bf",
   "metadata": {},
   "outputs": [],
   "source": [
    "        prioritized_actions.sort(key=lambda x: x.score, reverse=True)\n",
    "        \n",
    "        log.info(f\"Prioritized {len(prioritized_actions)} actions\")\n",
    "        if prioritized_actions:\n",
    "            top_action = prioritized_actions[0]\n",
    "            log.info(f\"Top action: {top_action.action_type.name} - {top_action.reasoning} (Score: {top_action.score:.2f})\")\n",
    "        \n",
    "        return prioritized_actions\n",
    "\n",
    "    def _apply_order_of_precedence(\n",
    "        self,\n",
    "        ui_elements: List[Dict[str, Any]],\n",
    "        action_history: Optional[List[Dict[str, Any]]]\n",
    "    ) -> List[PrioritizedAction]:\n",
    "        actions = []\n",
    "        explored_elements = self._get_explored_elements(action_history or [])\n",
    "        "
   ]
  },
  {
   "cell_type": "markdown",
   "id": "ced61e4b",
   "metadata": {},
   "source": [
    "        # Get popup classifier to filter and classify popups"
   ]
  },
  {
   "cell_type": "code",
   "execution_count": null,
   "id": "265b4d4d",
   "metadata": {},
   "outputs": [],
   "source": [
    "        popup_classifier = get_popup_classifier()\n",
    "        "
   ]
  },
  {
   "cell_type": "markdown",
   "id": "69fa9d41",
   "metadata": {},
   "source": [
    "        # Get screen size from first element (assuming all elements have bounds)"
   ]
  },
  {
   "cell_type": "code",
   "execution_count": null,
   "id": "f2ba44cd",
   "metadata": {},
   "outputs": [],
   "source": [
    "        screen_size = (1080, 2340)  # Default fallback\n",
    "        if ui_elements and 'bounds' in ui_elements[0]:\n",
    "            bounds = ui_elements[0]['bounds']\n",
    "            if 'x2' in bounds and 'y2' in bounds:\n",
    "                screen_size = (bounds['x2'], bounds['y2'])\n",
    "        "
   ]
  },
  {
   "cell_type": "markdown",
   "id": "6261a2fe",
   "metadata": {},
   "source": [
    "        # Filter popup elements and get dismiss actions"
   ]
  },
  {
   "cell_type": "code",
   "execution_count": null,
   "id": "da65a305",
   "metadata": {},
   "outputs": [],
   "source": [
    "        non_popup_elements, popup_analyses = popup_classifier.filter_popup_elements(\n",
    "            ui_elements, screen_size\n",
    "        )\n",
    "        "
   ]
  },
  {
   "cell_type": "markdown",
   "id": "03af2294",
   "metadata": {},
   "source": [
    "        # Add dismiss actions for external popups (highest priority)"
   ]
  },
  {
   "cell_type": "code",
   "execution_count": null,
   "id": "2ec1b824",
   "metadata": {},
   "outputs": [],
   "source": [
    "        dismiss_actions = popup_classifier.get_dismiss_actions(popup_analyses)\n",
    "        for dismiss_action in dismiss_actions:\n",
    "            action = PrioritizedAction(\n",
    "                action_type=ActionType.TAP_PRIMARY,\n",
    "                element=dismiss_action,\n",
    "                score=self.base_scores[ActionType.TAP_PRIMARY] + 50.0,  # Higher priority for dismiss\n",
    "                reasoning=dismiss_action.get('reasoning', 'Dismiss external popup'),\n",
    "                category=ElementCategory.DISMISS_BUTTON,\n",
    "                exploration_bonus=0.0  # No exploration bonus for dismiss actions\n",
    "            )\n",
    "            actions.append(action)\n",
    "        "
   ]
  },
  {
   "cell_type": "markdown",
   "id": "b3d929b0",
   "metadata": {},
   "source": [
    "        # Process internal popups (menu cards) with high priority for decision-making"
   ]
  },
  {
   "cell_type": "code",
   "execution_count": null,
   "id": "f314aa21",
   "metadata": {},
   "outputs": [],
   "source": [
    "        internal_popup_elements = []\n",
    "        for analysis in popup_analyses:\n",
    "            if analysis.action == PopupAction.HANDLE_THROUGH_DECISION:\n",
    "                internal_popup_elements.append(analysis.element)\n",
    "        "
   ]
  },
  {
   "cell_type": "markdown",
   "id": "c15bf254",
   "metadata": {},
   "source": [
    "        # Process non-popup elements and internal popups through normal precedence"
   ]
  },
  {
   "cell_type": "code",
   "execution_count": null,
   "id": "59c44ce4",
   "metadata": {},
   "outputs": [],
   "source": [
    "        all_elements_to_process = non_popup_elements + internal_popup_elements\n",
    "        for element in all_elements_to_process:"
   ]
  },
  {
   "cell_type": "markdown",
   "id": "63e50ad6",
   "metadata": {},
   "source": [
    "            # Skip social login / third-party auth buttons completely"
   ]
  },
  {
   "cell_type": "code",
   "execution_count": null,
   "id": "80726250",
   "metadata": {},
   "outputs": [],
   "source": [
    "            if any(k in element.get('text', '').lower() for k in self.social_login_keywords):\n",
    "                continue\n"
   ]
  },
  {
   "cell_type": "markdown",
   "id": "20b81763",
   "metadata": {},
   "source": [
    "            # Check if element has been explored"
   ]
  },
  {
   "cell_type": "code",
   "execution_count": null,
   "id": "22a7fe04",
   "metadata": {},
   "outputs": [],
   "source": [
    "            is_explored = self._is_element_explored(element, explored_elements)\n",
    "            exploration_bonus = 0.0 if is_explored else self.exploration_bonus\n",
    "            "
   ]
  },
  {
   "cell_type": "markdown",
   "id": "2ab187c7",
   "metadata": {},
   "source": [
    "            # Check if this is a menu card (internal popup) and give it higher priority"
   ]
  },
  {
   "cell_type": "code",
   "execution_count": null,
   "id": "35af9d15",
   "metadata": {},
   "outputs": [],
   "source": [
    "            is_menu_card = element in internal_popup_elements\n",
    "            if is_menu_card:\n",
    "                exploration_bonus += 30.0  # Extra bonus for menu cards\n",
    "            "
   ]
  },
  {
   "cell_type": "markdown",
   "id": "faac4b1a",
   "metadata": {},
   "source": [
    "            # Step 1: SET_TEXT Action (Highest Priority)"
   ]
  },
  {
   "cell_type": "code",
   "execution_count": null,
   "id": "e9a3fdb9",
   "metadata": {},
   "outputs": [],
   "source": [
    "            if self._is_text_input_field(element):\n",
    "                category = self._classify_text_input_field(element)\n",
    "                dummy_text = self._generate_dummy_text(category)\n",
    "                \n",
    "                action = PrioritizedAction(\n",
    "                    action_type=ActionType.SET_TEXT,\n",
    "                    element=element,\n",
    "                    score=self.base_scores[ActionType.SET_TEXT] + exploration_bonus,\n",
    "                    reasoning=f\"Fill {category.value} field with appropriate data\",\n",
    "                    category=category,\n",
    "                    exploration_bonus=exploration_bonus\n",
    "                )\n",
    "                actions.append(action)\n",
    "                continue\n",
    "            "
   ]
  },
  {
   "cell_type": "markdown",
   "id": "2df6979a",
   "metadata": {},
   "source": [
    "            # Step 2: TAP_PRIMARY Action (High Priority)"
   ]
  },
  {
   "cell_type": "code",
   "execution_count": null,
   "id": "87051f43",
   "metadata": {},
   "outputs": [],
   "source": [
    "            if self._is_primary_action_element(element):\n",
    "                category = self._classify_primary_action(element)"
   ]
  },
  {
   "cell_type": "markdown",
   "id": "5fbbfe57",
   "metadata": {},
   "source": [
    "                # Extra boost for guest continuation actions"
   ]
  },
  {
   "cell_type": "code",
   "execution_count": null,
   "id": "b6b6e506",
   "metadata": {},
   "outputs": [],
   "source": [
    "                guest_boost = 20.0 if any(gk in element.get('text', '').lower() for gk in self.guest_keywords) else 0.0\n",
    "                score = self.base_scores[ActionType.TAP_PRIMARY] + exploration_bonus + guest_boost\n",
    "                \n",
    "                action = PrioritizedAction(\n",
    "                    action_type=ActionType.TAP_PRIMARY,\n",
    "                    element=element,\n",
    "                    score=score,\n",
    "                    reasoning=f\"Tap primary action: {element.get('text', 'Unknown')}\",\n",
    "                    category=category,\n",
    "                    exploration_bonus=exploration_bonus\n",
    "                )\n",
    "                actions.append(action)\n",
    "                continue\n",
    "            "
   ]
  },
  {
   "cell_type": "markdown",
   "id": "d8172e23",
   "metadata": {},
   "source": [
    "            # Step 3: Interactive Controls"
   ]
  },
  {
   "cell_type": "code",
   "execution_count": null,
   "id": "8f143199",
   "metadata": {},
   "outputs": [],
   "source": [
    "            if self._is_interactive_control(element):\n",
    "                category = self._classify_interactive_control(element)\n",
    "                \n",
    "                action = PrioritizedAction(\n",
    "                    action_type=ActionType.TAP_PRIMARY,\n",
    "                    element=element,\n",
    "                    score=self.base_scores[ActionType.TAP_PRIMARY] + exploration_bonus - 10.0,\n",
    "                    reasoning=f\"Interact with {category.value} to change state\",\n",
    "                    category=category,\n",
    "                    exploration_bonus=exploration_bonus\n",
    "                )\n",
    "                actions.append(action)\n",
    "                continue\n",
    "            "
   ]
  },
  {
   "cell_type": "markdown",
   "id": "c26a71a4",
   "metadata": {},
   "source": [
    "            # Step 4: TAP_NAVIGATION Action (Lowest Priority)"
   ]
  },
  {
   "cell_type": "code",
   "execution_count": null,
   "id": "f23a8d05",
   "metadata": {},
   "outputs": [],
   "source": [
    "            if self._is_navigation_element(element):\n",
    "                category = self._classify_navigation_element(element)\n",
    "                \n",
    "                action = PrioritizedAction(\n",
    "                    action_type=ActionType.TAP_NAVIGATION,\n",
    "                    element=element,\n",
    "                    score=self.base_scores[ActionType.TAP_NAVIGATION] + exploration_bonus,\n",
    "                    reasoning=f\"Navigate using: {element.get('text', 'Unknown')}\",\n",
    "                    category=category,\n",
    "                    exploration_bonus=exploration_bonus\n",
    "                )\n",
    "                actions.append(action)\n",
    "        "
   ]
  },
  {
   "cell_type": "markdown",
   "id": "814bba19",
   "metadata": {},
   "source": [
    "        # ------------------------------------------------------------------\n",
    "        # Fallback: if no TAP_PRIMARY actions were collected, but colored buttons\n",
    "        # exist on screen, promote them so we attempt to dismiss pop-ups such\n",
    "        # as invalid-mobile-number dialogs that use colored buttons without\n",
    "        # recognizable text.\n",
    "        # ------------------------------------------------------------------"
   ]
  },
  {
   "cell_type": "code",
   "execution_count": null,
   "id": "404d7972",
   "metadata": {},
   "outputs": [],
   "source": [
    "        has_primary = any(a.action_type == ActionType.TAP_PRIMARY for a in actions)\n",
    "        if not has_primary:\n",
    "            for element in all_elements_to_process:\n",
    "                if element.get(\"element_type\", \"\").lower() == \"colored_button\":"
   ]
  },
  {
   "cell_type": "markdown",
   "id": "bc91ad15",
   "metadata": {},
   "source": [
    "                    # skip social login buttons"
   ]
  },
  {
   "cell_type": "code",
   "execution_count": null,
   "id": "4df84dde",
   "metadata": {},
   "outputs": [],
   "source": [
    "                    txt_lower = element.get(\"text\", \"\").lower()\n",
    "                    if any(sk in txt_lower for sk in self.social_login_keywords):\n",
    "                        continue\n",
    "                    bounds = element.get(\"bounds\", {})\n",
    "                    action = PrioritizedAction(\n",
    "                        action_type=ActionType.TAP_PRIMARY,\n",
    "                        element=element,\n",
    "                        score=self.base_scores[ActionType.TAP_PRIMARY] + 10.0,  # small boost\n",
    "                        reasoning=\"Colored button fallback (no other primary buttons found)\",\n",
    "                        category=ElementCategory.PRIMARY_BUTTON,\n",
    "                        exploration_bonus=self.exploration_bonus if not self._is_element_explored(element, explored_elements) else 0.0,"
   ]
  },
  {
   "cell_type": "markdown",
   "id": "aed374d7",
   "metadata": {},
   "source": [
    "                        # treat guest buttons as primary even in fallback"
   ]
  },
  {
   "cell_type": "code",
   "execution_count": null,
   "id": "fa445d70",
   "metadata": {},
   "outputs": [],
   "source": [
    "                    )\n",
    "                    actions.append(action)\n",
    "            if actions:\n",
    "                log.debug(\"Added colored_button fallback actions (no primary buttons detected)\")\n"
   ]
  },
  {
   "cell_type": "markdown",
   "id": "d0da6c51",
   "metadata": {},
   "source": [
    "        # Always add a swipe/scroll action as a lower-priority fallback so that the\n",
    "        # system will attempt scrolling after exhausting higher-priority actions\n",
    "        # (inputs and button taps). This ensures the desired flow: interact with\n",
    "        # input elements → tap buttons → try swipe actions."
   ]
  },
  {
   "cell_type": "markdown",
   "id": "69815bab",
   "metadata": {},
   "source": [
    "Check if element is a text input field."
   ]
  },
  {
   "cell_type": "code",
   "execution_count": null,
   "id": "69e69fcd",
   "metadata": {},
   "outputs": [],
   "source": [
    "\n",
    "        scroll_action = PrioritizedAction(\n",
    "            action_type=ActionType.SCROLL,\n",
    "            element={\"type\": \"scroll\", \"direction\": \"down\"},\n",
    "            score=self.base_scores[ActionType.SCROLL],  # Lower than TAP_PRIMARY but higher than navigation\n",
    "            reasoning=\"Swipe/scroll to reveal more content\",\n",
    "            category=ElementCategory.OTHER\n",
    "        )\n",
    "        actions.append(scroll_action)\n",
    "        \n",
    "        return actions\n",
    "\n",
    "    def _is_text_input_field(self, element: Dict[str, Any]) -> bool:\n",
    "        text = element.get('text', '').lower()\n",
    "        element_type = element.get('element_type', '').lower()\n",
    "        "
   ]
  },
  {
   "cell_type": "markdown",
   "id": "95d0aed4",
   "metadata": {},
   "source": [
    "        # Check for input keywords"
   ]
  },
  {
   "cell_type": "code",
   "execution_count": null,
   "id": "ea833557",
   "metadata": {},
   "outputs": [],
   "source": [
    "        for keyword in self.text_input_keywords:\n",
    "            if keyword in text or keyword in element_type:\n",
    "                return True\n",
    "        "
   ]
  },
  {
   "cell_type": "markdown",
   "id": "06f7532b",
   "metadata": {},
   "source": [
    "        # Check for generic input types"
   ]
  },
  {
   "cell_type": "markdown",
   "id": "bde9bb4a",
   "metadata": {},
   "source": [
    "Classify the type of text input field."
   ]
  },
  {
   "cell_type": "markdown",
   "id": "4340eade",
   "metadata": {},
   "source": [
    "Generate contextually appropriate dummy text."
   ]
  },
  {
   "cell_type": "markdown",
   "id": "8faa09f7",
   "metadata": {},
   "source": [
    "Check if element is a primary action button."
   ]
  },
  {
   "cell_type": "code",
   "execution_count": null,
   "id": "b2b7cba7",
   "metadata": {},
   "outputs": [],
   "source": [
    "        if element_type in ['input', 'edittext', 'textfield']:\n",
    "            return True\n",
    "        \n",
    "        return False\n",
    "\n",
    "    def _classify_text_input_field(self, element: Dict[str, Any]) -> ElementCategory:\n",
    "        text = element.get('text', '').lower()\n",
    "        element_type = element.get('element_type', '').lower()\n",
    "        \n",
    "        for keyword, category in self.text_input_keywords.items():\n",
    "            if keyword in text or keyword in element_type:\n",
    "                return category\n",
    "        \n",
    "        return ElementCategory.GENERIC_INPUT\n",
    "\n",
    "    def _generate_dummy_text(self, category: ElementCategory) -> str:\n",
    "        dummy_texts = {\n",
    "            ElementCategory.EMAIL_INPUT: \"test@example.com\",\n",
    "            ElementCategory.PASSWORD_INPUT: \"password123\",\n",
    "            ElementCategory.SEARCH_INPUT: \"pizza\",\n",
    "            ElementCategory.NAME_INPUT: \"John Doe\",\n",
    "            ElementCategory.ADDRESS_INPUT: \"123 Main St\",\n",
    "            ElementCategory.PHONE_INPUT: \"555-123-4567\",\n",
    "            ElementCategory.DATE_INPUT: \"2025-07-18\",\n",
    "            ElementCategory.URL_INPUT: \"https://example.com\",\n",
    "            ElementCategory.CODE_INPUT: \"123456\",\n",
    "            ElementCategory.GENERIC_INPUT: \"test input\"\n",
    "        }\n",
    "        return dummy_texts.get(category, \"test\")\n",
    "\n",
    "    def _is_primary_action_element(self, element: Dict[str, Any]) -> bool:\n",
    "        text = element.get('text', '').lower()\n",
    "        element_type = element.get('element_type', '').lower()\n",
    "        "
   ]
  },
  {
   "cell_type": "markdown",
   "id": "b68f8ff9",
   "metadata": {},
   "source": [
    "        # Skip social login & third-party auth buttons"
   ]
  },
  {
   "cell_type": "code",
   "execution_count": null,
   "id": "d5f5205c",
   "metadata": {},
   "outputs": [],
   "source": [
    "        if any(provider in text for provider in self.social_login_keywords):\n",
    "            return False\n",
    "        "
   ]
  },
  {
   "cell_type": "markdown",
   "id": "8e02d323",
   "metadata": {},
   "source": [
    "        # If element offers guest continuation, treat as primary regardless of text input presence"
   ]
  },
  {
   "cell_type": "code",
   "execution_count": null,
   "id": "a4bcf754",
   "metadata": {},
   "outputs": [],
   "source": [
    "        if any(gk in text for gk in self.guest_keywords):\n",
    "            return True\n",
    "        "
   ]
  },
  {
   "cell_type": "markdown",
   "id": "9290ec1d",
   "metadata": {},
   "source": [
    "        # Check for primary action keywords"
   ]
  },
  {
   "cell_type": "code",
   "execution_count": null,
   "id": "a34addf0",
   "metadata": {},
   "outputs": [],
   "source": [
    "        for keyword in self.primary_action_keywords:\n",
    "            if keyword in text:\n",
    "                return True\n",
    "        "
   ]
  },
  {
   "cell_type": "markdown",
   "id": "0e028851",
   "metadata": {},
   "source": [
    "        # Check for forwarding keywords"
   ]
  },
  {
   "cell_type": "code",
   "execution_count": null,
   "id": "3764a851",
   "metadata": {},
   "outputs": [],
   "source": [
    "        for keyword in self.forwarding_keywords + self.guest_keywords:\n",
    "            if keyword in text:\n",
    "                return True\n",
    "        "
   ]
  },
  {
   "cell_type": "markdown",
   "id": "2b3c43d2",
   "metadata": {},
   "source": [
    "        # Check for button types"
   ]
  },
  {
   "cell_type": "markdown",
   "id": "52eb5c8f",
   "metadata": {},
   "source": [
    "Classify the type of primary action."
   ]
  },
  {
   "cell_type": "markdown",
   "id": "2569842f",
   "metadata": {},
   "source": [
    "Check if element is an interactive control."
   ]
  },
  {
   "cell_type": "code",
   "execution_count": null,
   "id": "51606461",
   "metadata": {},
   "outputs": [],
   "source": [
    "        if element_type in ['button', 'colored_button']:\n",
    "            return True\n",
    "        \n",
    "        return False\n",
    "\n",
    "    def _classify_primary_action(self, element: Dict[str, Any]) -> ElementCategory:\n",
    "        text = element.get('text', '').lower()\n",
    "        \n",
    "        for keyword in self.primary_action_keywords + self.guest_keywords:\n",
    "            if keyword in text:\n",
    "                return ElementCategory.PRIMARY_BUTTON\n",
    "        \n",
    "        for keyword in self.forwarding_keywords:\n",
    "            if keyword in text:\n",
    "                return ElementCategory.FORWARDING_BUTTON\n",
    "        \n",
    "        return ElementCategory.GENERAL_BUTTON\n",
    "\n",
    "    def _is_interactive_control(self, element: Dict[str, Any]) -> bool:\n",
    "        element_type = element.get('element_type', '').lower()\n",
    "        text = element.get('text', '').lower()\n",
    "        "
   ]
  },
  {
   "cell_type": "markdown",
   "id": "e4aea73a",
   "metadata": {},
   "source": [
    "        # Check for checkbox, radio, switch"
   ]
  },
  {
   "cell_type": "code",
   "execution_count": null,
   "id": "05072ab6",
   "metadata": {},
   "outputs": [],
   "source": [
    "        if element_type in ['checkbox', 'radio', 'switch']:\n",
    "            return True\n",
    "        "
   ]
  },
  {
   "cell_type": "markdown",
   "id": "70679d40",
   "metadata": {},
   "source": [
    "        # Check for unchecked state"
   ]
  },
  {
   "cell_type": "markdown",
   "id": "b51a83a2",
   "metadata": {},
   "source": [
    "Classify the type of interactive control."
   ]
  },
  {
   "cell_type": "markdown",
   "id": "f94650ef",
   "metadata": {},
   "source": [
    "Check if element is a navigation element."
   ]
  },
  {
   "cell_type": "code",
   "execution_count": null,
   "id": "abe4a8f0",
   "metadata": {},
   "outputs": [],
   "source": [
    "        if 'unchecked' in text or 'off' in text:\n",
    "            return True\n",
    "        \n",
    "        return False\n",
    "\n",
    "    def _classify_interactive_control(self, element: Dict[str, Any]) -> ElementCategory:\n",
    "        element_type = element.get('element_type', '').lower()\n",
    "        \n",
    "        if element_type == 'checkbox':\n",
    "            return ElementCategory.CHECKBOX\n",
    "        elif element_type == 'radio':\n",
    "            return ElementCategory.RADIO_BUTTON\n",
    "        elif element_type == 'switch':\n",
    "            return ElementCategory.SWITCH\n",
    "        \n",
    "        return ElementCategory.OTHER\n",
    "\n",
    "    def _is_navigation_element(self, element: Dict[str, Any]) -> bool:\n",
    "        text = element.get('text', '').lower()\n",
    "        element_type = element.get('element_type', '').lower()\n",
    "        "
   ]
  },
  {
   "cell_type": "markdown",
   "id": "9afb17c9",
   "metadata": {},
   "source": [
    "        # Check for navigation keywords"
   ]
  },
  {
   "cell_type": "code",
   "execution_count": null,
   "id": "ea482d6b",
   "metadata": {},
   "outputs": [],
   "source": [
    "        for keyword in self.navigation_keywords:\n",
    "            if keyword in text:\n",
    "                return True\n",
    "        "
   ]
  },
  {
   "cell_type": "markdown",
   "id": "b872383f",
   "metadata": {},
   "source": [
    "        # Check for back/dismiss types"
   ]
  },
  {
   "cell_type": "markdown",
   "id": "eccbfd70",
   "metadata": {},
   "source": [
    "Classify the type of navigation element."
   ]
  },
  {
   "cell_type": "markdown",
   "id": "06f248d2",
   "metadata": {},
   "source": [
    "Check if element has been explored before."
   ]
  },
  {
   "cell_type": "markdown",
   "id": "c75e4a4b",
   "metadata": {},
   "source": [
    "Generate a unique ID for an element."
   ]
  },
  {
   "cell_type": "markdown",
   "id": "d78a6f54",
   "metadata": {},
   "source": [
    "Get list of explored element IDs from action history."
   ]
  },
  {
   "cell_type": "markdown",
   "id": "ca610b04",
   "metadata": {},
   "source": [
    "Integrate LLM analysis with rule-based actions."
   ]
  },
  {
   "cell_type": "code",
   "execution_count": null,
   "id": "c6646e05",
   "metadata": {},
   "outputs": [],
   "source": [
    "        if element_type in ['back', 'close', 'dismiss']:\n",
    "            return True\n",
    "        \n",
    "        return False\n",
    "\n",
    "    def _classify_navigation_element(self, element: Dict[str, Any]) -> ElementCategory:\n",
    "        text = element.get('text', '').lower()\n",
    "        \n",
    "        if text in ['back', 'previous', 'cancel', 'close', 'dismiss', 'exit']:\n",
    "            return ElementCategory.BACK_BUTTON\n",
    "        elif text in ['menu', 'home', 'settings', 'profile', 'account']:\n",
    "            return ElementCategory.NAVIGATION_BUTTON\n",
    "        \n",
    "        return ElementCategory.GENERAL_BUTTON\n",
    "\n",
    "    def _is_element_explored(self, element: Dict[str, Any], explored_elements: List[str]) -> bool:\n",
    "        element_id = self._generate_element_id(element)\n",
    "        return element_id in explored_elements\n",
    "\n",
    "    def _generate_element_id(self, element: Dict[str, Any]) -> str:\n",
    "        text = element.get('text', '')\n",
    "        element_type = element.get('element_type', '')\n",
    "        bounds = element.get('bounds', {})\n",
    "        x = bounds.get('x', 0)\n",
    "        y = bounds.get('y', 0)\n",
    "        \n",
    "        return f\"{text}_{element_type}_{x}_{y}\"\n",
    "\n",
    "    def _get_explored_elements(self, action_history: List[Dict[str, Any]]) -> List[str]:\n",
    "        explored = []\n",
    "        for action in action_history:\n",
    "            if 'element' in action:\n",
    "                element_id = self._generate_element_id(action['element'])\n",
    "                explored.append(element_id)\n",
    "        return explored\n",
    "\n",
    "    def _integrate_llm_analysis(\n",
    "        self,\n",
    "        actions: List[PrioritizedAction],\n",
    "        llm_analysis: Dict[str, Any],\n",
    "        task_description: str\n",
    "    ) -> List[PrioritizedAction]:\n",
    "        llm_suggestions = llm_analysis.get('suggestions', [])\n",
    "        llm_confidence = llm_analysis.get('confidence', 0.5)\n",
    "        \n",
    "        for action in actions:"
   ]
  },
  {
   "cell_type": "markdown",
   "id": "013194f6",
   "metadata": {},
   "source": [
    "            # Find matching LLM suggestion"
   ]
  },
  {
   "cell_type": "markdown",
   "id": "a56e0aff",
   "metadata": {},
   "source": [
    "Find matching LLM suggestion for an action."
   ]
  },
  {
   "cell_type": "code",
   "execution_count": null,
   "id": "1658fe0c",
   "metadata": {},
   "outputs": [],
   "source": [
    "            matching_suggestion = self._find_matching_llm_suggestion(\n",
    "                action, llm_suggestions, task_description\n",
    "            )\n",
    "            \n",
    "            if matching_suggestion:\n",
    "                action.llm_confidence = matching_suggestion.get('confidence', llm_confidence)\n",
    "                action.reasoning += f\" | LLM: {matching_suggestion.get('reasoning', '')}\"\n",
    "            else:\n",
    "                action.llm_confidence = 0.3  # Lower confidence if no LLM match\n",
    "        \n",
    "        return actions\n",
    "\n",
    "    def _find_matching_llm_suggestion(\n",
    "        self,\n",
    "        action: PrioritizedAction,\n",
    "        llm_suggestions: List[Dict[str, Any]],\n",
    "        task_description: str\n",
    "    ) -> Optional[Dict[str, Any]]:\n",
    "        element_text = action.element.get('text', '').lower()\n",
    "        action_type = action.action_type.name.lower()\n",
    "        \n",
    "        for suggestion in llm_suggestions:\n",
    "            suggestion_text = suggestion.get('element_text', '').lower()\n",
    "            suggestion_type = suggestion.get('action_type', '').lower()\n",
    "            "
   ]
  },
  {
   "cell_type": "markdown",
   "id": "ffe93823",
   "metadata": {},
   "source": [
    "            # Check for text similarity"
   ]
  },
  {
   "cell_type": "code",
   "execution_count": null,
   "id": "5de5d05e",
   "metadata": {},
   "outputs": [],
   "source": [
    "            if element_text and suggestion_text:\n",
    "                similarity = self._calculate_text_similarity(element_text, suggestion_text)\n",
    "                if similarity > 0.7:\n",
    "                    return suggestion\n",
    "            "
   ]
  },
  {
   "cell_type": "markdown",
   "id": "5ae9cde2",
   "metadata": {},
   "source": [
    "            # Check for action type match"
   ]
  },
  {
   "cell_type": "markdown",
   "id": "2e5c862e",
   "metadata": {},
   "source": [
    "Calculate similarity between two text strings."
   ]
  },
  {
   "cell_type": "markdown",
   "id": "c2836969",
   "metadata": {},
   "source": [
    "Integrate vision analysis with actions."
   ]
  },
  {
   "cell_type": "code",
   "execution_count": null,
   "id": "24ea66d2",
   "metadata": {},
   "outputs": [],
   "source": [
    "            if action_type in suggestion_type or suggestion_type in action_type:\n",
    "                return suggestion\n",
    "        \n",
    "        return None\n",
    "\n",
    "    def _calculate_text_similarity(self, text1: str, text2: str) -> float:\n",
    "        words1 = set(text1.split())\n",
    "        words2 = set(text2.split())\n",
    "        \n",
    "        if not words1 or not words2:\n",
    "            return 0.0\n",
    "        \n",
    "        intersection = words1.intersection(words2)\n",
    "        union = words1.union(words2)\n",
    "        \n",
    "        return len(intersection) / len(union)\n",
    "\n",
    "    def _integrate_vision_analysis(\n",
    "        self,\n",
    "        actions: List[PrioritizedAction],\n",
    "        vision_analysis: Dict[str, Any]\n",
    "    ) -> List[PrioritizedAction]:\n",
    "        element_confidence = vision_analysis.get('element_confidence', {})\n",
    "        screen_analysis = vision_analysis.get('screen_analysis', {})\n",
    "        \n",
    "        for action in actions:\n",
    "            element_id = self._generate_element_id(action.element)\n",
    "            "
   ]
  },
  {
   "cell_type": "markdown",
   "id": "bc5144b4",
   "metadata": {},
   "source": [
    "            # Get vision confidence for this element"
   ]
  },
  {
   "cell_type": "code",
   "execution_count": null,
   "id": "6b905c9b",
   "metadata": {},
   "outputs": [],
   "source": [
    "            action.vision_confidence = element_confidence.get(element_id, 0.5)\n",
    "            "
   ]
  },
  {
   "cell_type": "markdown",
   "id": "72e4c50a",
   "metadata": {},
   "source": [
    "            # Adjust score based on screen analysis"
   ]
  },
  {
   "cell_type": "code",
   "execution_count": null,
   "id": "47e8581b",
   "metadata": {},
   "outputs": [],
   "source": [
    "            if screen_analysis.get('is_scrollable', False):\n",
    "                if action.action_type == ActionType.SCROLL:\n",
    "                    action.score += 10.0\n",
    "            "
   ]
  },
  {
   "cell_type": "markdown",
   "id": "c2695bd3",
   "metadata": {},
   "source": [
    "            # Adjust based on element visibility"
   ]
  },
  {
   "cell_type": "markdown",
   "id": "699a5ab4",
   "metadata": {},
   "source": [
    "Calculate final score by consolidating all inputs."
   ]
  },
  {
   "cell_type": "code",
   "execution_count": null,
   "id": "5654312e",
   "metadata": {},
   "outputs": [],
   "source": [
    "            if action.vision_confidence > 0.8:\n",
    "                action.score += 5.0\n",
    "            elif action.vision_confidence < 0.3:\n",
    "                action.score -= 10.0\n",
    "        \n",
    "        return actions\n",
    "\n",
    "    def _calculate_final_score(self, action: PrioritizedAction) -> float:"
   ]
  },
  {
   "cell_type": "markdown",
   "id": "5b59092f",
   "metadata": {},
   "source": [
    "        # Base score from rules"
   ]
  },
  {
   "cell_type": "code",
   "execution_count": null,
   "id": "0fdd109c",
   "metadata": {},
   "outputs": [],
   "source": [
    "        base_score = action.score\n",
    "        "
   ]
  },
  {
   "cell_type": "markdown",
   "id": "fd1469ff",
   "metadata": {},
   "source": [
    "        # Weighted contribution from LLM and vision"
   ]
  },
  {
   "cell_type": "code",
   "execution_count": null,
   "id": "374ed4d3",
   "metadata": {},
   "outputs": [],
   "source": [
    "        llm_contribution = action.llm_confidence * self.llm_weight * 100\n",
    "        vision_contribution = action.vision_confidence * self.vision_weight * 100\n",
    "        "
   ]
  },
  {
   "cell_type": "markdown",
   "id": "61997441",
   "metadata": {},
   "source": [
    "        # Exploration bonus"
   ]
  },
  {
   "cell_type": "code",
   "execution_count": null,
   "id": "40831332",
   "metadata": {},
   "outputs": [],
   "source": [
    "        exploration_contribution = action.exploration_bonus\n",
    "        "
   ]
  },
  {
   "cell_type": "markdown",
   "id": "fc420bec",
   "metadata": {},
   "source": [
    "        # Calculate final score"
   ]
  },
  {
   "cell_type": "markdown",
   "id": "2a2ab213",
   "metadata": {},
   "source": [
    "Try to generate action using Phi Ground.\n",
    "        \n",
    "        Args:\n",
    "            screenshot_path: Path to the screenshot\n",
    "            task_description: Current automation task\n",
    "            action_history: Previous actions performed\n",
    "            ui_elements: Detected UI elements for validation\n",
    "            \n",
    "        Returns:\n",
    "            Phi Ground generated action or None"
   ]
  },
  {
   "cell_type": "code",
   "execution_count": null,
   "id": "9ffb1f1f",
   "metadata": {},
   "outputs": [],
   "source": [
    "        final_score = (\n",
    "            base_score * self.rule_weight +\n",
    "            llm_contribution +\n",
    "            vision_contribution +\n",
    "            exploration_contribution\n",
    "        )\n",
    "        \n",
    "        return final_score\n",
    "\n",
    "    def _try_phi_ground_action(\n",
    "        self,\n",
    "        screenshot_path: str,\n",
    "        task_description: str,\n",
    "        action_history: List[Dict[str, Any]],\n",
    "        ui_elements: List[Dict[str, Any]]\n",
    "    ) -> Optional[PrioritizedAction]:\n",
    "        try:\n",
    "            if self._phi_ground_generator is None:\n",
    "                self._phi_ground_generator = get_phi_ground_generator()\n",
    "            "
   ]
  },
  {
   "cell_type": "markdown",
   "id": "90ac9b58",
   "metadata": {},
   "source": [
    "            # Convert UI elements to UIElement objects for Phi Ground"
   ]
  },
  {
   "cell_type": "code",
   "execution_count": null,
   "id": "aa50756c",
   "metadata": {},
   "outputs": [],
   "source": [
    "            from ..vision.models import UIElement, BoundingBox\n",
    "            ui_element_objects = []\n",
    "            for element in ui_elements:\n",
    "                bounds = element.get('bounds', {})\n",
    "                bbox = BoundingBox(\n",
    "                    left=bounds.get('x', 0),\n",
    "                    top=bounds.get('y', 0),\n",
    "                    right=bounds.get('x2', 0),\n",
    "                    bottom=bounds.get('y2', 0)\n",
    "                )\n",
    "                ui_element_objects.append(UIElement(\n",
    "                    bbox=bbox,\n",
    "                    text=element.get('text', ''),\n",
    "                    confidence=element.get('confidence', 0.5),\n",
    "                    element_type=element.get('element_type', 'text')\n",
    "                ))\n",
    "            "
   ]
  },
  {
   "cell_type": "markdown",
   "id": "dac60d1d",
   "metadata": {},
   "source": [
    "            # Generate action using Phi Ground"
   ]
  },
  {
   "cell_type": "code",
   "execution_count": null,
   "id": "877a2dfd",
   "metadata": {},
   "outputs": [],
   "source": [
    "            import asyncio\n",
    "            action = asyncio.run(self._phi_ground_generator.generate_touch_action(\n",
    "                screenshot_path, task_description, action_history, ui_element_objects\n",
    "            ))\n",
    "            \n",
    "            if action:"
   ]
  },
  {
   "cell_type": "markdown",
   "id": "8b8a28a0",
   "metadata": {},
   "source": [
    "                # Validate action coordinates"
   ]
  },
  {
   "cell_type": "code",
   "execution_count": null,
   "id": "aa9734b7",
   "metadata": {},
   "outputs": [],
   "source": [
    "                if not self._phi_ground_generator.validate_action_coordinates(action):\n",
    "                    log.warning(\"Phi Ground generated invalid coordinates, falling back to traditional method\")\n",
    "                    return None\n",
    "                "
   ]
  },
  {
   "cell_type": "markdown",
   "id": "74be0d6f",
   "metadata": {},
   "source": [
    "                # Check confidence threshold"
   ]
  },
  {
   "cell_type": "code",
   "execution_count": null,
   "id": "aa6cb183",
   "metadata": {},
   "outputs": [],
   "source": [
    "                confidence = action.get(\"confidence\", 0.5)\n",
    "                if confidence < 0.5:  # Default threshold\n",
    "                    log.warning(f\"Phi Ground confidence too low ({confidence:.2f}), falling back to traditional method\")\n",
    "                    return None\n",
    "                "
   ]
  },
  {
   "cell_type": "markdown",
   "id": "665e2d60",
   "metadata": {},
   "source": [
    "                # Convert to PrioritizedAction"
   ]
  },
  {
   "cell_type": "markdown",
   "id": "ec97734e",
   "metadata": {},
   "source": [
    "Convert action type string to ActionType enum."
   ]
  },
  {
   "cell_type": "markdown",
   "id": "46d09ffb",
   "metadata": {},
   "source": [
    "Classify element category based on action."
   ]
  },
  {
   "cell_type": "code",
   "execution_count": null,
   "id": "b9d5bbb6",
   "metadata": {},
   "outputs": [],
   "source": [
    "                action_type = self._convert_action_type(action.get(\"type\", \"\"))\n",
    "                category = self._classify_element_category(action)\n",
    "                \n",
    "                prioritized_action = PrioritizedAction(\n",
    "                    action_type=action_type,\n",
    "                    element=action,\n",
    "                    score=confidence * 100,  # Use confidence as base score\n",
    "                    reasoning=action.get(\"reasoning\", \"Phi Ground generated\"),\n",
    "                    category=category,\n",
    "                    llm_confidence=confidence,\n",
    "                    vision_confidence=confidence,\n",
    "                    exploration_bonus=0.0\n",
    "                )\n",
    "                \n",
    "                log.info(f\"Phi Ground generated action: {action['type']} with confidence {confidence:.2f}\")\n",
    "                return prioritized_action\n",
    "            \n",
    "            return None\n",
    "            \n",
    "        except Exception as e:\n",
    "            log.warning(f\"Phi Ground action generation failed: {e}\")\n",
    "            return None\n",
    "    \n",
    "    def _convert_action_type(self, action_type: str) -> ActionType:\n",
    "        if action_type == \"text_input\":\n",
    "            return ActionType.SET_TEXT\n",
    "        elif action_type == \"tap\":\n",
    "            return ActionType.TAP_PRIMARY\n",
    "        elif action_type == \"swipe\":\n",
    "            return ActionType.SCROLL\n",
    "        else:\n",
    "            return ActionType.TAP_NAVIGATION\n",
    "    \n",
    "    def _classify_element_category(self, action: Dict[str, Any]) -> ElementCategory:\n",
    "        element_text = action.get(\"element_text\", \"\").lower()\n",
    "        "
   ]
  },
  {
   "cell_type": "markdown",
   "id": "7f9b1e54",
   "metadata": {},
   "source": [
    "        # Check for input fields"
   ]
  },
  {
   "cell_type": "code",
   "execution_count": null,
   "id": "ad540cbe",
   "metadata": {},
   "outputs": [],
   "source": [
    "        for keyword, category in self.text_input_keywords.items():\n",
    "            if keyword in element_text:\n",
    "                return category\n",
    "        "
   ]
  },
  {
   "cell_type": "markdown",
   "id": "ec01d730",
   "metadata": {},
   "source": [
    "        # Check for primary actions"
   ]
  },
  {
   "cell_type": "code",
   "execution_count": null,
   "id": "b72e3e0d",
   "metadata": {},
   "outputs": [],
   "source": [
    "        if any(keyword in element_text for keyword in self.primary_action_keywords):\n",
    "            return ElementCategory.PRIMARY_BUTTON\n",
    "        "
   ]
  },
  {
   "cell_type": "markdown",
   "id": "910264dd",
   "metadata": {},
   "source": [
    "        # Check for forwarding actions"
   ]
  },
  {
   "cell_type": "code",
   "execution_count": null,
   "id": "49c2ddca",
   "metadata": {},
   "outputs": [],
   "source": [
    "        if any(keyword in element_text for keyword in self.forwarding_keywords):\n",
    "            return ElementCategory.FORWARDING_BUTTON\n",
    "        "
   ]
  },
  {
   "cell_type": "markdown",
   "id": "1b51e280",
   "metadata": {},
   "source": [
    "        # Default"
   ]
  },
  {
   "cell_type": "markdown",
   "id": "88d5c6ea",
   "metadata": {},
   "source": [
    "Get the optimal action based on all inputs.\n",
    "        \n",
    "        Args:\n",
    "            ui_elements: List of UI elements\n",
    "            llm_analysis: LLM analysis results\n",
    "            vision_analysis: Vision analysis results\n",
    "            task_description: Current task description\n",
    "            action_history: History of previous actions\n",
    "            screenshot_path: Path to current screenshot for Phi Ground\n",
    "            \n",
    "        Returns:\n",
    "            Optimal action or None if no actions available"
   ]
  },
  {
   "cell_type": "code",
   "execution_count": null,
   "id": "579bf88f",
   "metadata": {},
   "outputs": [],
   "source": [
    "        return ElementCategory.GENERAL_BUTTON\n",
    "\n",
    "    def get_optimal_action(\n",
    "        self,\n",
    "        ui_elements: List[Dict[str, Any]],\n",
    "        llm_analysis: Optional[Dict[str, Any]] = None,\n",
    "        vision_analysis: Optional[Dict[str, Any]] = None,\n",
    "        task_description: str = \"\",\n",
    "        action_history: Optional[List[Dict[str, Any]]] = None,\n",
    "        screenshot_path: Optional[str] = None\n",
    "    ) -> Optional[PrioritizedAction]:"
   ]
  },
  {
   "cell_type": "markdown",
   "id": "f6232fc4",
   "metadata": {},
   "source": [
    "        # Try Phi Ground first if enabled and screenshot is available"
   ]
  },
  {
   "cell_type": "code",
   "execution_count": null,
   "id": "a470d74c",
   "metadata": {},
   "outputs": [],
   "source": [
    "        if screenshot_path:\n",
    "            phi_ground_action = self._try_phi_ground_action(\n",
    "                screenshot_path, task_description, action_history or [], ui_elements\n",
    "            )\n",
    "            if phi_ground_action:\n",
    "                log.info(\"Using Phi Ground generated action\")\n",
    "                return phi_ground_action\n",
    "        \n",
    "        prioritized_actions = self.prioritize_actions(\n",
    "            ui_elements, llm_analysis, vision_analysis, task_description, action_history\n",
    "        )\n",
    "        \n",
    "        if not prioritized_actions:\n",
    "            return None\n",
    "        \n",
    "        optimal_action = prioritized_actions[0]\n",
    "        \n",
    "        log.info(f\"Selected optimal action: {optimal_action.action_type.name}\")\n",
    "        log.info(f\"Reasoning: {optimal_action.reasoning}\")\n",
    "        log.info(f\"Final score: {optimal_action.score:.2f}\")\n",
    "        \n",
    "        return optimal_action\n",
    "\n"
   ]
  },
  {
   "cell_type": "markdown",
   "id": "b5f83cfb",
   "metadata": {},
   "source": [
    "# Global instance"
   ]
  },
  {
   "cell_type": "markdown",
   "id": "096631dc",
   "metadata": {},
   "source": [
    "Get the global action prioritizer instance.\n",
    "    \n",
    "    Returns:\n",
    "        ActionPrioritizer: The prioritizer instance."
   ]
  },
  {
   "cell_type": "code",
   "execution_count": null,
   "id": "8acf345a",
   "metadata": {},
   "outputs": [],
   "source": [
    "_action_prioritizer: Optional[ActionPrioritizer] = None\n",
    "\n",
    "\n",
    "def get_action_prioritizer() -> ActionPrioritizer:\n",
    "    global _action_prioritizer\n",
    "    if _action_prioritizer is None:\n",
    "        _action_prioritizer = ActionPrioritizer()\n",
    "    return _action_prioritizer "
   ]
  }
 ],
 "metadata": {
  "kernelspec": {
   "display_name": "Python 3",
   "language": "python",
   "name": "python3"
  },
  "language_info": {
   "codemirror_mode": {
    "name": "ipython",
    "version": 3
   },
   "file_extension": ".py",
   "mimetype": "text/x-python",
   "name": "python",
   "nbconvert_exporter": "python",
   "pygments_lexer": "ipython3",
   "version": "3.10.0"
  }
 },
 "nbformat": 4,
 "nbformat_minor": 5
}
