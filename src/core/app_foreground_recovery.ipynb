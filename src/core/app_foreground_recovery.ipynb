{
 "cells": [
  {
   "cell_type": "markdown",
   "id": "fb6986e2",
   "metadata": {},
   "source": [
    "App Foreground Recovery System for DroidBot-GPT framework.\n",
    "\n",
    "This module provides intelligent detection and recovery logic for when the home or\n",
    "switch button is pressed while the app is active. It ensures that the first action\n",
    "after such events is to recover the app back to the foreground, not press back button."
   ]
  },
  {
   "cell_type": "markdown",
   "id": "0c8688c1",
   "metadata": {},
   "source": [
    "Types of navigation events that can cause app to leave foreground."
   ]
  },
  {
   "cell_type": "markdown",
   "id": "107cc824",
   "metadata": {},
   "source": [
    "Record of a navigation event with context."
   ]
  },
  {
   "cell_type": "markdown",
   "id": "92d711ea",
   "metadata": {},
   "source": [
    "Manages app foreground recovery after navigation events."
   ]
  },
  {
   "cell_type": "markdown",
   "id": "899973c5",
   "metadata": {},
   "source": [
    "Initialize the app foreground recovery manager.\n",
    "        \n",
    "        Args:\n",
    "            device_manager: The device manager instance"
   ]
  },
  {
   "cell_type": "code",
   "execution_count": null,
   "id": "24677ea4",
   "metadata": {},
   "outputs": [],
   "source": [
    "\n",
    "import asyncio\n",
    "import time\n",
    "from typing import Dict, List, Optional, Any, Callable\n",
    "from dataclasses import dataclass\n",
    "from enum import Enum\n",
    "\n",
    "from .logger import log\n",
    "from .device_manager import EnhancedDeviceManager\n",
    "\n",
    "\n",
    "class NavigationEvent(Enum):\n",
    "    HOME_BUTTON = \"home_button\"  # Key code 3\n",
    "    APP_SWITCH = \"app_switch\"    # Key code 187\n",
    "    BACK_BUTTON = \"back_button\"  # Key code 4\n",
    "    UNKNOWN = \"unknown\"\n",
    "\n",
    "\n",
    "@dataclass\n",
    "class NavigationEventRecord:\n",
    "    event_type: NavigationEvent\n",
    "    timestamp: float\n",
    "    target_package: str\n",
    "    app_was_foreground: bool\n",
    "    recovery_attempted: bool = False\n",
    "    recovery_successful: bool = False\n",
    "    \n",
    "    def __post_init__(self):\n",
    "        if self.target_package is None:\n",
    "            raise ValueError(\"target_package cannot be None\")\n",
    "\n",
    "\n",
    "class AppForegroundRecoveryManager:\n",
    "    \n",
    "    def __init__(self, device_manager: EnhancedDeviceManager):\n",
    "        self.device_manager = device_manager\n",
    "        self.target_package: Optional[str] = None\n",
    "        self.is_monitoring = False\n",
    "        self.monitoring_task: Optional[asyncio.Task] = None\n",
    "        self.navigation_events: List[NavigationEventRecord] = []\n",
    "        self.last_app_state = False  # True if app was in foreground\n",
    "        self.recovery_callback: Optional[Callable] = None\n",
    "        "
   ]
  },
  {
   "cell_type": "markdown",
   "id": "7abad813",
   "metadata": {},
   "source": [
    "        # Key codes for navigation events"
   ]
  },
  {
   "cell_type": "code",
   "execution_count": null,
   "id": "a908a8cd",
   "metadata": {},
   "outputs": [],
   "source": [
    "        self.navigation_key_codes = {\n",
    "            3: NavigationEvent.HOME_BUTTON,    # HOME\n",
    "            187: NavigationEvent.APP_SWITCH,   # APP_SWITCH\n",
    "            4: NavigationEvent.BACK_BUTTON     # BACK\n",
    "        }\n",
    "        "
   ]
  },
  {
   "cell_type": "markdown",
   "id": "a9c0d93d",
   "metadata": {},
   "source": [
    "        # Single recovery strategy - direct app launch"
   ]
  },
  {
   "cell_type": "markdown",
   "id": "c373f8a4",
   "metadata": {},
   "source": [
    "Start monitoring for navigation events that could cause app to leave foreground.\n",
    "        \n",
    "        Args:\n",
    "            target_package: Package name of the target app\n",
    "            recovery_callback: Optional callback function to call when recovery is needed\n",
    "            \n",
    "        Returns:\n",
    "            bool: True if monitoring started successfully"
   ]
  },
  {
   "cell_type": "code",
   "execution_count": null,
   "id": "6794b8fa",
   "metadata": {},
   "outputs": [],
   "source": [
    "        self.recovery_strategy = self._recover_with_app_launch\n",
    "    \n",
    "    async def start_monitoring(self, target_package: str, recovery_callback: Optional[Callable] = None) -> bool:\n",
    "        if self.is_monitoring:\n",
    "            log.warning(\"App foreground recovery monitoring already active\")\n",
    "            return True\n",
    "        \n",
    "        self.target_package = target_package\n",
    "        self.recovery_callback = recovery_callback\n",
    "        self.is_monitoring = True\n",
    "        self.navigation_events.clear()\n",
    "        \n",
    "        log.info(f\"Starting app foreground recovery monitoring for {target_package}\")\n",
    "        "
   ]
  },
  {
   "cell_type": "markdown",
   "id": "7f29dca9",
   "metadata": {},
   "source": [
    "        # Start monitoring task"
   ]
  },
  {
   "cell_type": "markdown",
   "id": "485199eb",
   "metadata": {},
   "source": [
    "Stop the navigation event monitoring.\n",
    "        \n",
    "        Returns:\n",
    "            bool: True if monitoring stopped successfully"
   ]
  },
  {
   "cell_type": "markdown",
   "id": "92cb05fa",
   "metadata": {},
   "source": [
    "Main monitoring loop that continuously monitors foreground activity and triggers recovery immediately."
   ]
  },
  {
   "cell_type": "code",
   "execution_count": null,
   "id": "c6977faf",
   "metadata": {},
   "outputs": [],
   "source": [
    "        self.monitoring_task = asyncio.create_task(\n",
    "            self._monitoring_loop()\n",
    "        )\n",
    "        \n",
    "        return True\n",
    "    \n",
    "    async def stop_monitoring(self) -> bool:\n",
    "        if not self.is_monitoring:\n",
    "            return True\n",
    "        \n",
    "        log.info(\"Stopping app foreground recovery monitoring\")\n",
    "        self.is_monitoring = False\n",
    "        \n",
    "        if self.monitoring_task:\n",
    "            self.monitoring_task.cancel()\n",
    "            try:\n",
    "                await self.monitoring_task\n",
    "            except asyncio.CancelledError:\n",
    "                pass\n",
    "        \n",
    "        self.target_package = None\n",
    "        self.recovery_callback = None\n",
    "        return True\n",
    "    \n",
    "    async def _monitoring_loop(self):\n",
    "        while self.is_monitoring and self.target_package:\n",
    "            try:"
   ]
  },
  {
   "cell_type": "markdown",
   "id": "2b75c407",
   "metadata": {},
   "source": [
    "                # Check if app is currently in foreground"
   ]
  },
  {
   "cell_type": "code",
   "execution_count": null,
   "id": "ddd1a42f",
   "metadata": {},
   "outputs": [],
   "source": [
    "                current_app_foreground = await self._is_app_foreground()\n",
    "                "
   ]
  },
  {
   "cell_type": "markdown",
   "id": "bd87b69e",
   "metadata": {},
   "source": [
    "                # Detect state changes"
   ]
  },
  {
   "cell_type": "code",
   "execution_count": null,
   "id": "f4e694d0",
   "metadata": {},
   "outputs": [],
   "source": [
    "                if current_app_foreground != self.last_app_state:\n",
    "                    if self.last_app_state and not current_app_foreground:"
   ]
  },
  {
   "cell_type": "markdown",
   "id": "6718be22",
   "metadata": {},
   "source": [
    "                        # App just left foreground - trigger immediate recovery"
   ]
  },
  {
   "cell_type": "code",
   "execution_count": null,
   "id": "474f7a27",
   "metadata": {},
   "outputs": [],
   "source": [
    "                        log.warning(f\"App {self.target_package} left foreground - triggering immediate recovery\")\n",
    "                        "
   ]
  },
  {
   "cell_type": "markdown",
   "id": "1bd3987e",
   "metadata": {},
   "source": [
    "                        # Record the event and attempt recovery immediately"
   ]
  },
  {
   "cell_type": "code",
   "execution_count": null,
   "id": "ceda0891",
   "metadata": {},
   "outputs": [],
   "source": [
    "                        await self._handle_app_foreground_loss()\n",
    "                    \n",
    "                    self.last_app_state = current_app_foreground\n",
    "                "
   ]
  },
  {
   "cell_type": "markdown",
   "id": "d4e6620b",
   "metadata": {},
   "source": [
    "                # Wait before next check (faster monitoring for quicker response)"
   ]
  },
  {
   "cell_type": "markdown",
   "id": "4479ba84",
   "metadata": {},
   "source": [
    "Check if the target app is currently in foreground.\n",
    "        \n",
    "        Returns:\n",
    "            bool: True if app is in foreground, False otherwise"
   ]
  },
  {
   "cell_type": "markdown",
   "id": "6a1758fc",
   "metadata": {},
   "source": [
    "Handle the case when the app leaves foreground."
   ]
  },
  {
   "cell_type": "code",
   "execution_count": null,
   "id": "70df33e2",
   "metadata": {},
   "outputs": [],
   "source": [
    "                await asyncio.sleep(0.5)  # Check every 500ms for faster response\n",
    "                \n",
    "            except asyncio.CancelledError:\n",
    "                break\n",
    "            except Exception as e:\n",
    "                log.error(f\"Error in foreground monitoring loop: {e}\")\n",
    "                await asyncio.sleep(0.5)\n",
    "    \n",
    "    async def _is_app_foreground(self) -> bool:\n",
    "        try:\n",
    "            if not self.target_package:\n",
    "                return False\n",
    "            \n",
    "            foreground_package = await self.device_manager.get_foreground_package()\n",
    "            return foreground_package == self.target_package\n",
    "            \n",
    "        except Exception as e:\n",
    "            log.error(f\"Error checking app foreground state: {e}\")\n",
    "            return False\n",
    "    \n",
    "    async def _handle_app_foreground_loss(self):\n",
    "        log.warning(f\"App {self.target_package} left foreground, initiating quick recovery\")\n",
    "        "
   ]
  },
  {
   "cell_type": "markdown",
   "id": "4f5d6884",
   "metadata": {},
   "source": [
    "        # Record the navigation event"
   ]
  },
  {
   "cell_type": "code",
   "execution_count": null,
   "id": "b4fc2dd0",
   "metadata": {},
   "outputs": [],
   "source": [
    "        event_record = NavigationEventRecord(\n",
    "            event_type=NavigationEvent.UNKNOWN,  # We don't know the exact cause\n",
    "            timestamp=time.time(),\n",
    "            target_package=self.target_package,\n",
    "            app_was_foreground=True\n",
    "        )\n",
    "        self.navigation_events.append(event_record)\n",
    "        "
   ]
  },
  {
   "cell_type": "markdown",
   "id": "a27c72a3",
   "metadata": {},
   "source": [
    "        # Use quick recovery (direct command)"
   ]
  },
  {
   "cell_type": "code",
   "execution_count": null,
   "id": "f269ad64",
   "metadata": {},
   "outputs": [],
   "source": [
    "        recovery_success = await self._quick_recovery()\n",
    "        \n",
    "        event_record.recovery_attempted = True\n",
    "        event_record.recovery_successful = recovery_success\n",
    "        \n",
    "        if recovery_success:\n",
    "            log.success(f\"Quick recovery successful for {self.target_package}\")\n",
    "        else:\n",
    "            log.error(f\"Quick recovery failed for {self.target_package}\")\n",
    "        "
   ]
  },
  {
   "cell_type": "markdown",
   "id": "f60b2857",
   "metadata": {},
   "source": [
    "        # Call recovery callback if provided"
   ]
  },
  {
   "cell_type": "markdown",
   "id": "d953d8de",
   "metadata": {},
   "source": [
    "Quick recovery using direct app launch command.\n",
    "        \n",
    "        Returns:\n",
    "            bool: True if recovery successful"
   ]
  },
  {
   "cell_type": "code",
   "execution_count": null,
   "id": "163b0be4",
   "metadata": {},
   "outputs": [],
   "source": [
    "        if self.recovery_callback:\n",
    "            try:\n",
    "                await self.recovery_callback(recovery_success)\n",
    "            except Exception as e:\n",
    "                log.error(f\"Error in recovery callback: {e}\")\n",
    "    \n",
    "    async def _quick_recovery(self) -> bool:\n",
    "        try:\n",
    "            if not self.device_manager.device or not self.target_package:\n",
    "                return False\n",
    "            \n",
    "            log.info(f\"Quick recovery: launching {self.target_package}\")\n",
    "            "
   ]
  },
  {
   "cell_type": "markdown",
   "id": "e4b04b23",
   "metadata": {},
   "source": [
    "            # Try last known resumed activity first if available"
   ]
  },
  {
   "cell_type": "code",
   "execution_count": null,
   "id": "fd96544e",
   "metadata": {},
   "outputs": [],
   "source": [
    "            last_activity = self.device_manager.get_last_foreground_activity(self.target_package)\n",
    "            candidate_activities: list[str] = []\n",
    "            if last_activity:\n",
    "                candidate_activities.append(last_activity)\n"
   ]
  },
  {
   "cell_type": "markdown",
   "id": "0115a46a",
   "metadata": {},
   "source": [
    "            # Fallback to common default main activity"
   ]
  },
  {
   "cell_type": "code",
   "execution_count": null,
   "id": "2d06f725",
   "metadata": {},
   "outputs": [],
   "source": [
    "            candidate_activities.append(f\"{self.target_package}/.MainActivity\")\n",
    "            \n",
    "            for activity in candidate_activities:\n",
    "                try:\n",
    "                    log.info(f\"Quick recovery: trying {activity}\")\n",
    "                    self.device_manager.device.shell(f\"am start -n {activity}\")\n",
    "                    await asyncio.sleep(0.2)\n",
    "                    \n",
    "                    if await self._is_app_foreground():\n",
    "                        log.success(f\"Quick recovery successful with {activity}\")\n",
    "                        return True\n",
    "                except Exception as e:\n",
    "                    log.debug(f\"Activity {activity} failed: {e}\")\n",
    "                    continue\n",
    "            "
   ]
  },
  {
   "cell_type": "markdown",
   "id": "334da87b",
   "metadata": {},
   "source": [
    "            # Additional quick fallback common activities"
   ]
  },
  {
   "cell_type": "markdown",
   "id": "2d0eba1e",
   "metadata": {},
   "source": [
    "Attempt to recover the app to foreground using the single recovery strategy.\n",
    "        \n",
    "        Returns:\n",
    "            bool: True if recovery successful"
   ]
  },
  {
   "cell_type": "markdown",
   "id": "6335e5db",
   "metadata": {},
   "source": [
    "Recover app by launching it directly using adb shell am start.\n",
    "        \n",
    "        Returns:\n",
    "            bool: True if recovery successful"
   ]
  },
  {
   "cell_type": "code",
   "execution_count": null,
   "id": "d023c685",
   "metadata": {},
   "outputs": [],
   "source": [
    "            for fallback_activity in [\n",
    "                f\"{self.target_package}/.LauncherActivity\",\n",
    "                f\"{self.target_package}/.ui.MainActivity\"\n",
    "            ]:\n",
    "                try:\n",
    "                    log.info(f\"Quick recovery fallback: trying {fallback_activity}\")\n",
    "                    self.device_manager.device.shell(f\"am start -n {fallback_activity}\")\n",
    "                    await asyncio.sleep(0.2)\n",
    "                    if await self._is_app_foreground():\n",
    "                        log.success(f\"Quick recovery successful with {fallback_activity}\")\n",
    "                        return True\n",
    "                except Exception:\n",
    "                    continue\n",
    "            \n",
    "            log.warning(\"Quick recovery failed, app still not in foreground\")\n",
    "            return False\n",
    "            \n",
    "        except Exception as e:\n",
    "            log.error(f\"Quick recovery failed: {e}\")\n",
    "            return False\n",
    "    \n",
    "    async def _attempt_recovery(self) -> bool:\n",
    "        if not self.target_package:\n",
    "            return False\n",
    "        \n",
    "        log.info(f\"Attempting to recover {self.target_package} to foreground\")\n",
    "        \n",
    "        try:\n",
    "            success = await self.recovery_strategy()\n",
    "            \n",
    "            if success:\n",
    "                log.success(\"Recovery successful with direct app launch\")\n",
    "                return True\n",
    "            else:\n",
    "                log.warning(\"Recovery failed with direct app launch\")\n",
    "                return False\n",
    "                \n",
    "        except Exception as e:\n",
    "            log.error(f\"Error in recovery strategy: {e}\")\n",
    "            return False\n",
    "    \n",
    "\n",
    "    \n",
    "    async def _recover_with_app_launch(self) -> bool:\n",
    "        try:\n",
    "            if not self.device_manager.device:\n",
    "                return False\n",
    "            "
   ]
  },
  {
   "cell_type": "markdown",
   "id": "44c66023",
   "metadata": {},
   "source": [
    "            # Use cached activity or try common activities first (faster than discovery)"
   ]
  },
  {
   "cell_type": "code",
   "execution_count": null,
   "id": "fb1dac5b",
   "metadata": {},
   "outputs": [],
   "source": [
    "            common_activities = [\n",
    "                f\"{self.target_package}/.MainActivity\",\n",
    "                f\"{self.target_package}/.ui.MainActivity\",\n",
    "                f\"{self.target_package}/.activities.MainActivity\",\n",
    "                f\"{self.target_package}/.LauncherActivity\"\n",
    "            ]\n",
    "            "
   ]
  },
  {
   "cell_type": "markdown",
   "id": "8a6afe7e",
   "metadata": {},
   "source": [
    "            # Try common activities first (fast path)"
   ]
  },
  {
   "cell_type": "code",
   "execution_count": null,
   "id": "dd5d23d8",
   "metadata": {},
   "outputs": [],
   "source": [
    "            for activity in common_activities:\n",
    "                try:\n",
    "                    log.info(f\"Trying to launch: {activity}\")\n",
    "                    self.device_manager.device.shell(f\"am start -n {activity}\")\n",
    "                    "
   ]
  },
  {
   "cell_type": "markdown",
   "id": "69e7ea85",
   "metadata": {},
   "source": [
    "                    # Quick check after a short delay"
   ]
  },
  {
   "cell_type": "code",
   "execution_count": null,
   "id": "21b06f29",
   "metadata": {},
   "outputs": [],
   "source": [
    "                    await asyncio.sleep(0.3)\n",
    "                    \n",
    "                    if await self._is_app_foreground():\n",
    "                        log.success(f\"Successfully launched app with: {activity}\")\n",
    "                        return True\n",
    "                except Exception as e:\n",
    "                    log.debug(f\"Failed to launch {activity}: {e}\")\n",
    "                    continue\n",
    "            "
   ]
  },
  {
   "cell_type": "markdown",
   "id": "30b86155",
   "metadata": {},
   "source": [
    "            # If common activities failed, try activity discovery (slower but more thorough)"
   ]
  },
  {
   "cell_type": "code",
   "execution_count": null,
   "id": "fe5f6685",
   "metadata": {},
   "outputs": [],
   "source": [
    "            log.info(\"Common activities failed, trying activity discovery...\")\n",
    "            main_activity = await self._discover_main_activity()\n",
    "            \n",
    "            if main_activity:\n",
    "                log.info(f\"Launching app with discovered activity: {main_activity}\")\n",
    "                self.device_manager.device.shell(f\"am start -n {main_activity}\")\n",
    "                await asyncio.sleep(0.5)\n",
    "                \n",
    "                if await self._is_app_foreground():\n",
    "                    log.success(f\"Successfully launched app with discovered activity: {main_activity}\")\n",
    "                    return True\n",
    "            "
   ]
  },
  {
   "cell_type": "markdown",
   "id": "8348f7d7",
   "metadata": {},
   "source": [
    "            # Final check"
   ]
  },
  {
   "cell_type": "markdown",
   "id": "a0a5fc58",
   "metadata": {},
   "source": [
    "Discover the main activity for the target package.\n",
    "        \n",
    "        Returns:\n",
    "            str | None: Main activity name or None if not found"
   ]
  },
  {
   "cell_type": "code",
   "execution_count": null,
   "id": "8311599c",
   "metadata": {},
   "outputs": [],
   "source": [
    "            await asyncio.sleep(0.2)\n",
    "            return await self._is_app_foreground()\n",
    "            \n",
    "        except Exception as e:\n",
    "            log.error(f\"App launch recovery failed: {e}\")\n",
    "            return False\n",
    "    \n",
    "    async def _discover_main_activity(self) -> str | None:\n",
    "        try:\n",
    "            if not self.device_manager.device or not self.target_package:\n",
    "                return None\n",
    "            "
   ]
  },
  {
   "cell_type": "markdown",
   "id": "dcc1a9d2",
   "metadata": {},
   "source": [
    "            # Use cmd package resolve-activity to find the main activity"
   ]
  },
  {
   "cell_type": "code",
   "execution_count": null,
   "id": "d11c9fa5",
   "metadata": {},
   "outputs": [],
   "source": [
    "            result = self.device_manager.device.shell(\n",
    "                f\"cmd package resolve-activity --brief {self.target_package}\"\n",
    "            )\n",
    "            \n",
    "            if result and \"activity\" in result:\n",
    "                lines = result.strip().split('\\n')\n",
    "                for line in lines:\n",
    "                    if self.target_package and self.target_package in line and \"activity\" in line:"
   ]
  },
  {
   "cell_type": "markdown",
   "id": "c89fefa5",
   "metadata": {},
   "source": [
    "                        # Extract the activity name from the output\n",
    "                        # Format: package_name/activity_name"
   ]
  },
  {
   "cell_type": "code",
   "execution_count": null,
   "id": "ddcaed26",
   "metadata": {},
   "outputs": [],
   "source": [
    "                        parts = line.strip().split()\n",
    "                        if len(parts) >= 2:\n",
    "                            activity_name = parts[-1]  # Last part is usually the activity\n",
    "                            log.info(f\"Discovered main activity: {activity_name}\")\n",
    "                            return activity_name\n",
    "            "
   ]
  },
  {
   "cell_type": "markdown",
   "id": "cbef26ad",
   "metadata": {},
   "source": [
    "            # Alternative: use dumpsys to find activities"
   ]
  },
  {
   "cell_type": "code",
   "execution_count": null,
   "id": "5cf672e0",
   "metadata": {},
   "outputs": [],
   "source": [
    "            result = self.device_manager.device.shell(\n",
    "                f\"dumpsys package {self.target_package} | grep -A 5 'android.intent.action.MAIN'\"\n",
    "            )\n",
    "            \n",
    "            if result:\n",
    "                lines = result.strip().split('\\n')\n",
    "                for line in lines:\n",
    "                    if \"android.intent.action.MAIN\" in line and \"android.intent.category.LAUNCHER\" in line:"
   ]
  },
  {
   "cell_type": "markdown",
   "id": "f95b8865",
   "metadata": {},
   "source": [
    "                        # Extract activity name from the line"
   ]
  },
  {
   "cell_type": "code",
   "execution_count": null,
   "id": "7304a443",
   "metadata": {},
   "outputs": [],
   "source": [
    "                        if self.target_package and self.target_package in line:"
   ]
  },
  {
   "cell_type": "markdown",
   "id": "3af8294c",
   "metadata": {},
   "source": [
    "                            # Look for the activity name pattern"
   ]
  },
  {
   "cell_type": "markdown",
   "id": "8be58664",
   "metadata": {},
   "source": [
    "Record a navigation event that was detected.\n",
    "        \n",
    "        Args:\n",
    "            event_type: Type of navigation event\n",
    "            key_code: The key code that was pressed"
   ]
  },
  {
   "cell_type": "markdown",
   "id": "9d36db66",
   "metadata": {},
   "source": [
    "Check if recovery should be attempted after a specific action.\n",
    "        \n",
    "        Args:\n",
    "            action: The action that was just executed\n",
    "            \n",
    "        Returns:\n",
    "            bool: True if recovery should be attempted"
   ]
  },
  {
   "cell_type": "code",
   "execution_count": null,
   "id": "bfbd94c9",
   "metadata": {},
   "outputs": [],
   "source": [
    "                            import re\n",
    "                            match = re.search(rf'{self.target_package}/([^\\s]+)', line)\n",
    "                            if match:\n",
    "                                activity_name = f\"{self.target_package}/{match.group(1)}\"\n",
    "                                log.info(f\"Discovered launcher activity: {activity_name}\")\n",
    "                                return activity_name\n",
    "            \n",
    "            return None\n",
    "            \n",
    "        except Exception as e:\n",
    "            log.debug(f\"Failed to discover main activity: {e}\")\n",
    "            return None\n",
    "    \n",
    "\n",
    "    \n",
    "    async def record_navigation_event(self, event_type: NavigationEvent, key_code: int) -> None:\n",
    "        if not self.target_package:\n",
    "            return\n",
    "        \n",
    "        app_was_foreground = await self._is_app_foreground()\n",
    "        target_package = self.target_package  # Type narrowing\n",
    "        if target_package is None:\n",
    "            return\n",
    "            \n",
    "        event_record = NavigationEventRecord(\n",
    "            event_type=event_type,\n",
    "            timestamp=time.time(),\n",
    "            target_package=target_package,\n",
    "            app_was_foreground=app_was_foreground\n",
    "        )\n",
    "        self.navigation_events.append(event_record)\n",
    "        \n",
    "        log.info(f\"Recorded navigation event: {event_type.value} (key_code: {key_code})\")\n",
    "    \n",
    "    async def should_recover_after_action(self, action: Dict[str, Any]) -> bool:\n",
    "        action_type = action.get(\"type\")\n",
    "        "
   ]
  },
  {
   "cell_type": "markdown",
   "id": "dbd0e696",
   "metadata": {},
   "source": [
    "        # Check if this is a navigation key event"
   ]
  },
  {
   "cell_type": "code",
   "execution_count": null,
   "id": "4edc38da",
   "metadata": {},
   "outputs": [],
   "source": [
    "        if action_type == \"key_event\":\n",
    "            key_code = action.get(\"key_code\")\n",
    "            if key_code in self.navigation_key_codes:\n",
    "                event_type = self.navigation_key_codes[key_code]\n",
    "                "
   ]
  },
  {
   "cell_type": "markdown",
   "id": "706b9613",
   "metadata": {},
   "source": [
    "                # Record the navigation event"
   ]
  },
  {
   "cell_type": "code",
   "execution_count": null,
   "id": "64cd3ccd",
   "metadata": {},
   "outputs": [],
   "source": [
    "                await self.record_navigation_event(event_type, key_code)\n",
    "                "
   ]
  },
  {
   "cell_type": "markdown",
   "id": "78670416",
   "metadata": {},
   "source": [
    "                # For home and app switch, we should recover"
   ]
  },
  {
   "cell_type": "markdown",
   "id": "c2a1d6bb",
   "metadata": {},
   "source": [
    "Ensure app is in foreground after executing an action.\n",
    "        \n",
    "        Args:\n",
    "            action: The action that was just executed\n",
    "            \n",
    "        Returns:\n",
    "            bool: True if app is in foreground after recovery attempt"
   ]
  },
  {
   "cell_type": "code",
   "execution_count": null,
   "id": "27972dd9",
   "metadata": {},
   "outputs": [],
   "source": [
    "                if event_type in [NavigationEvent.HOME_BUTTON, NavigationEvent.APP_SWITCH]:\n",
    "                    return True\n",
    "        \n",
    "        return False\n",
    "    \n",
    "    async def ensure_app_foreground_after_action(self, action: Dict[str, Any]) -> bool:"
   ]
  },
  {
   "cell_type": "markdown",
   "id": "c481db3e",
   "metadata": {},
   "source": [
    "        # Simple check - if app is not in foreground, recover immediately"
   ]
  },
  {
   "cell_type": "markdown",
   "id": "e9b550d9",
   "metadata": {},
   "source": [
    "Get the history of navigation events.\n",
    "        \n",
    "        Returns:\n",
    "            List of navigation event records"
   ]
  },
  {
   "cell_type": "markdown",
   "id": "f8712645",
   "metadata": {},
   "source": [
    "Get recovery statistics.\n",
    "        \n",
    "        Returns:\n",
    "            Dictionary with recovery statistics"
   ]
  },
  {
   "cell_type": "markdown",
   "id": "65810daf",
   "metadata": {},
   "source": [
    "Clear the navigation event history."
   ]
  },
  {
   "cell_type": "code",
   "execution_count": null,
   "id": "d61e827b",
   "metadata": {},
   "outputs": [],
   "source": [
    "        if not await self._is_app_foreground():\n",
    "            log.warning(\"App not in foreground, attempting quick recovery\")\n",
    "            return await self._quick_recovery()\n",
    "        \n",
    "        return True\n",
    "    \n",
    "    def get_navigation_events(self) -> List[NavigationEventRecord]:\n",
    "        return self.navigation_events.copy()\n",
    "    \n",
    "    def get_recovery_stats(self) -> Dict[str, Any]:\n",
    "        total_events = len(self.navigation_events)\n",
    "        recovery_attempts = sum(1 for event in self.navigation_events if event.recovery_attempted)\n",
    "        successful_recoveries = sum(1 for event in self.navigation_events if event.recovery_successful)\n",
    "        \n",
    "        return {\n",
    "            \"total_navigation_events\": total_events,\n",
    "            \"recovery_attempts\": recovery_attempts,\n",
    "            \"successful_recoveries\": successful_recoveries,\n",
    "            \"recovery_success_rate\": successful_recoveries / recovery_attempts if recovery_attempts > 0 else 0.0,\n",
    "            \"is_monitoring\": self.is_monitoring,\n",
    "            \"target_package\": self.target_package\n",
    "        }\n",
    "    \n",
    "    def clear_history(self) -> None:\n",
    "        self.navigation_events.clear()\n",
    "\n"
   ]
  },
  {
   "cell_type": "markdown",
   "id": "e55b054a",
   "metadata": {},
   "source": [
    "# Global instance management"
   ]
  },
  {
   "cell_type": "markdown",
   "id": "54c39ef4",
   "metadata": {},
   "source": [
    "Get the global app foreground recovery manager instance.\n",
    "    \n",
    "    Args:\n",
    "        device_manager: Device manager instance (required for first call)\n",
    "        \n",
    "    Returns:\n",
    "        AppForegroundRecoveryManager instance"
   ]
  },
  {
   "cell_type": "code",
   "execution_count": null,
   "id": "2a57a01c",
   "metadata": {},
   "outputs": [],
   "source": [
    "_app_foreground_recovery_manager: Optional[AppForegroundRecoveryManager] = None\n",
    "\n",
    "\n",
    "def get_app_foreground_recovery_manager(device_manager: Optional[EnhancedDeviceManager] = None) -> AppForegroundRecoveryManager:\n",
    "    global _app_foreground_recovery_manager\n",
    "    \n",
    "    if _app_foreground_recovery_manager is None:\n",
    "        if device_manager is None:\n",
    "            raise ValueError(\"Device manager is required for first initialization\")\n",
    "        _app_foreground_recovery_manager = AppForegroundRecoveryManager(device_manager)\n",
    "    \n",
    "    return _app_foreground_recovery_manager "
   ]
  }
 ],
 "metadata": {
  "kernelspec": {
   "display_name": "Python 3",
   "language": "python",
   "name": "python3"
  },
  "language_info": {
   "codemirror_mode": {
    "name": "ipython",
    "version": 3
   },
   "file_extension": ".py",
   "mimetype": "text/x-python",
   "name": "python",
   "nbconvert_exporter": "python",
   "pygments_lexer": "ipython3",
   "version": "3.10.0"
  }
 },
 "nbformat": 4,
 "nbformat_minor": 5
}
