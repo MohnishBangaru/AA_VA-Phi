{
 "cells": [
  {
   "cell_type": "markdown",
   "id": "daa3bc22",
   "metadata": {},
   "source": [
    "Intuitive App Recovery System for DroidBot-GPT framework.\n",
    "\n",
    "This module provides comprehensive app recovery logic that ensures the target app\n",
    "is always recovered if it leaves the foreground, and only remains active while\n",
    "the target app is running. It includes intelligent detection, recovery strategies,\n",
    "and monitoring capabilities."
   ]
  },
  {
   "cell_type": "markdown",
   "id": "0c5c79ef",
   "metadata": {},
   "source": [
    "Different recovery strategies for app restoration."
   ]
  },
  {
   "cell_type": "markdown",
   "id": "24c26d66",
   "metadata": {},
   "source": [
    "App state enumeration."
   ]
  },
  {
   "cell_type": "markdown",
   "id": "d882cf72",
   "metadata": {},
   "source": [
    "Represents a recovery attempt with details."
   ]
  },
  {
   "cell_type": "markdown",
   "id": "42e4c4ed",
   "metadata": {},
   "source": [
    "Configuration for app recovery behavior."
   ]
  },
  {
   "cell_type": "markdown",
   "id": "654af6c9",
   "metadata": {},
   "source": [
    "Manages comprehensive app recovery with intelligent strategies."
   ]
  },
  {
   "cell_type": "markdown",
   "id": "7011b1d5",
   "metadata": {},
   "source": [
    "Initialize the app recovery manager.\n",
    "        \n",
    "        Args:\n",
    "            device_manager: The device manager instance"
   ]
  },
  {
   "cell_type": "code",
   "execution_count": null,
   "id": "9a350ec7",
   "metadata": {},
   "outputs": [],
   "source": [
    "\n",
    "import asyncio\n",
    "import time\n",
    "from typing import Dict, List, Optional, Any, Tuple\n",
    "from dataclasses import dataclass\n",
    "from enum import Enum\n",
    "\n",
    "from .logger import log\n",
    "from .device_manager import EnhancedDeviceManager\n",
    "\n",
    "\n",
    "class RecoveryStrategy(Enum):\n",
    "    FOREGROUND_SERVICE = \"foreground_service\"\n",
    "    APP_LAUNCH = \"app_launch\"\n",
    "    RECENT_APPS = \"recent_apps\"\n",
    "    HOME_AND_LAUNCH = \"home_and_launch\"\n",
    "    FORCE_STOP_RESTART = \"force_stop_restart\"\n",
    "    CLEAR_RECENTS_LAUNCH = \"clear_recents_launch\"\n",
    "\n",
    "\n",
    "class AppState(Enum):\n",
    "    FOREGROUND = \"foreground\"\n",
    "    BACKGROUND = \"background\"\n",
    "    STOPPED = \"stopped\"\n",
    "    CRASHED = \"crashed\"\n",
    "    UNKNOWN = \"unknown\"\n",
    "\n",
    "\n",
    "@dataclass\n",
    "class RecoveryAttempt:\n",
    "    strategy: RecoveryStrategy\n",
    "    success: bool\n",
    "    duration: float\n",
    "    error_message: Optional[str] = None\n",
    "    timestamp: float = None\n",
    "    \n",
    "    def __post_init__(self):\n",
    "        if self.timestamp is None:\n",
    "            self.timestamp = time.time()\n",
    "\n",
    "\n",
    "@dataclass\n",
    "class AppRecoveryConfig:\n",
    "    max_recovery_attempts: int = 5\n",
    "    recovery_timeout: float = 30.0\n",
    "    check_interval: float = 2.0\n",
    "    enable_foreground_service: bool = True\n",
    "    enable_force_restart: bool = True\n",
    "    enable_clear_recents: bool = False\n",
    "    recovery_strategies: List[RecoveryStrategy] = None\n",
    "    \n",
    "    def __post_init__(self):\n",
    "        if self.recovery_strategies is None:\n",
    "            self.recovery_strategies = [\n",
    "                RecoveryStrategy.FOREGROUND_SERVICE,\n",
    "                RecoveryStrategy.APP_LAUNCH,\n",
    "                RecoveryStrategy.RECENT_APPS,\n",
    "                RecoveryStrategy.HOME_AND_LAUNCH,\n",
    "                RecoveryStrategy.FORCE_STOP_RESTART\n",
    "            ]\n",
    "\n",
    "\n",
    "class AppRecoveryManager:\n",
    "    \n",
    "    def __init__(self, device_manager: EnhancedDeviceManager):\n",
    "        self.device_manager = device_manager\n",
    "        self.target_package: Optional[str] = None\n",
    "        self.recovery_config = AppRecoveryConfig()\n",
    "        self.recovery_history: List[RecoveryAttempt] = []\n",
    "        self.is_monitoring = False\n",
    "        self.monitoring_task: Optional[asyncio.Task] = None\n",
    "        self.last_app_state = AppState.UNKNOWN\n",
    "        self.consecutive_failures = 0\n",
    "        self.last_successful_recovery = 0.0\n",
    "        "
   ]
  },
  {
   "cell_type": "markdown",
   "id": "29d79d2a",
   "metadata": {},
   "source": [
    "        # Recovery strategy weights (higher = more likely to be tried first)"
   ]
  },
  {
   "cell_type": "markdown",
   "id": "65c9a458",
   "metadata": {},
   "source": [
    "Start monitoring and automatic recovery for the target app.\n",
    "        \n",
    "        Args:\n",
    "            target_package: Package name of the target app\n",
    "            \n",
    "        Returns:\n",
    "            bool: True if monitoring started successfully"
   ]
  },
  {
   "cell_type": "code",
   "execution_count": null,
   "id": "b578a6ef",
   "metadata": {},
   "outputs": [],
   "source": [
    "        self.strategy_weights = {\n",
    "            RecoveryStrategy.FOREGROUND_SERVICE: 100,\n",
    "            RecoveryStrategy.APP_LAUNCH: 80,\n",
    "            RecoveryStrategy.RECENT_APPS: 60,\n",
    "            RecoveryStrategy.HOME_AND_LAUNCH: 40,\n",
    "            RecoveryStrategy.FORCE_STOP_RESTART: 20,\n",
    "            RecoveryStrategy.CLEAR_RECENTS_LAUNCH: 10\n",
    "        }\n",
    "    \n",
    "    async def start_recovery_monitoring(self, target_package: str) -> bool:\n",
    "        if self.is_monitoring:\n",
    "            log.warning(\"Recovery monitoring already active\")\n",
    "            return True\n",
    "        \n",
    "        self.target_package = target_package\n",
    "        self.is_monitoring = True\n",
    "        self.consecutive_failures = 0\n",
    "        self.last_successful_recovery = time.time()\n",
    "        \n",
    "        log.info(f\"Starting app recovery monitoring for {target_package}\")\n",
    "        "
   ]
  },
  {
   "cell_type": "markdown",
   "id": "9cf0529f",
   "metadata": {},
   "source": [
    "        # Start monitoring task"
   ]
  },
  {
   "cell_type": "markdown",
   "id": "7b734915",
   "metadata": {},
   "source": [
    "Stop the recovery monitoring.\n",
    "        \n",
    "        Returns:\n",
    "            bool: True if monitoring stopped successfully"
   ]
  },
  {
   "cell_type": "markdown",
   "id": "afcac4bf",
   "metadata": {},
   "source": [
    "Main monitoring loop that continuously checks app state."
   ]
  },
  {
   "cell_type": "code",
   "execution_count": null,
   "id": "a9074ad8",
   "metadata": {},
   "outputs": [],
   "source": [
    "        self.monitoring_task = asyncio.create_task(\n",
    "            self._monitoring_loop()\n",
    "        )\n",
    "        \n",
    "        return True\n",
    "    \n",
    "    async def stop_recovery_monitoring(self) -> bool:\n",
    "        if not self.is_monitoring:\n",
    "            return True\n",
    "        \n",
    "        log.info(\"Stopping app recovery monitoring\")\n",
    "        self.is_monitoring = False\n",
    "        \n",
    "        if self.monitoring_task:\n",
    "            self.monitoring_task.cancel()\n",
    "            try:\n",
    "                await self.monitoring_task\n",
    "            except asyncio.CancelledError:\n",
    "                pass\n",
    "        \n",
    "        self.target_package = None\n",
    "        return True\n",
    "    \n",
    "    async def _monitoring_loop(self):\n",
    "        while self.is_monitoring and self.target_package:\n",
    "            try:"
   ]
  },
  {
   "cell_type": "markdown",
   "id": "ebe4e106",
   "metadata": {},
   "source": [
    "                # Check current app state"
   ]
  },
  {
   "cell_type": "code",
   "execution_count": null,
   "id": "87f7dda4",
   "metadata": {},
   "outputs": [],
   "source": [
    "                current_state = await self._get_app_state()\n",
    "                "
   ]
  },
  {
   "cell_type": "markdown",
   "id": "9fcc89f6",
   "metadata": {},
   "source": [
    "                # Detect state changes"
   ]
  },
  {
   "cell_type": "code",
   "execution_count": null,
   "id": "026bb992",
   "metadata": {},
   "outputs": [],
   "source": [
    "                if current_state != self.last_app_state:\n",
    "                    log.info(f\"App state changed: {self.last_app_state.value} -> {current_state.value}\")\n",
    "                    "
   ]
  },
  {
   "cell_type": "markdown",
   "id": "bb9f92ff",
   "metadata": {},
   "source": [
    "                    # Handle state changes"
   ]
  },
  {
   "cell_type": "code",
   "execution_count": null,
   "id": "39e34f35",
   "metadata": {},
   "outputs": [],
   "source": [
    "                    if current_state in [AppState.BACKGROUND, AppState.STOPPED, AppState.CRASHED]:\n",
    "                        await self._handle_app_loss()\n",
    "                    \n",
    "                    self.last_app_state = current_state\n",
    "                "
   ]
  },
  {
   "cell_type": "markdown",
   "id": "7bd2e4ef",
   "metadata": {},
   "source": [
    "                # Wait before next check"
   ]
  },
  {
   "cell_type": "markdown",
   "id": "78bfe9db",
   "metadata": {},
   "source": [
    "Get the current state of the target app.\n",
    "        \n",
    "        Returns:\n",
    "            AppState: Current state of the app"
   ]
  },
  {
   "cell_type": "code",
   "execution_count": null,
   "id": "4775c377",
   "metadata": {},
   "outputs": [],
   "source": [
    "                await asyncio.sleep(self.recovery_config.check_interval)\n",
    "                \n",
    "            except asyncio.CancelledError:\n",
    "                break\n",
    "            except Exception as e:\n",
    "                log.error(f\"Error in monitoring loop: {e}\")\n",
    "                await asyncio.sleep(self.recovery_config.check_interval)\n",
    "    \n",
    "    async def _get_app_state(self) -> AppState:\n",
    "        try:\n",
    "            if not self.target_package:\n",
    "                return AppState.UNKNOWN\n",
    "            "
   ]
  },
  {
   "cell_type": "markdown",
   "id": "27677a50",
   "metadata": {},
   "source": [
    "            # Check if app is in foreground"
   ]
  },
  {
   "cell_type": "code",
   "execution_count": null,
   "id": "8a10131e",
   "metadata": {},
   "outputs": [],
   "source": [
    "            foreground_package = await self.device_manager.get_foreground_package()\n",
    "            \n",
    "            if foreground_package == self.target_package:\n",
    "                return AppState.FOREGROUND\n",
    "            "
   ]
  },
  {
   "cell_type": "markdown",
   "id": "acfb93b9",
   "metadata": {},
   "source": [
    "            # Check if app is running in background"
   ]
  },
  {
   "cell_type": "code",
   "execution_count": null,
   "id": "c7d8e3e0",
   "metadata": {},
   "outputs": [],
   "source": [
    "            running_apps = await self.device_manager.get_running_apps()\n",
    "            if self.target_package in running_apps:\n",
    "                return AppState.BACKGROUND\n",
    "            "
   ]
  },
  {
   "cell_type": "markdown",
   "id": "bbda2c51",
   "metadata": {},
   "source": [
    "            # Check if app is installed but not running"
   ]
  },
  {
   "cell_type": "code",
   "execution_count": null,
   "id": "3f3a952c",
   "metadata": {},
   "outputs": [],
   "source": [
    "            installed_apps = await self.device_manager.get_installed_apps()\n",
    "            if self.target_package in installed_apps:\n",
    "                return AppState.STOPPED\n",
    "            "
   ]
  },
  {
   "cell_type": "markdown",
   "id": "8b704dab",
   "metadata": {},
   "source": [
    "            # App might be crashed or uninstalled"
   ]
  },
  {
   "cell_type": "markdown",
   "id": "2e26a036",
   "metadata": {},
   "source": [
    "Handle the case when the app is lost from foreground."
   ]
  },
  {
   "cell_type": "code",
   "execution_count": null,
   "id": "75771d93",
   "metadata": {},
   "outputs": [],
   "source": [
    "            return AppState.CRASHED\n",
    "            \n",
    "        except Exception as e:\n",
    "            log.error(f\"Error getting app state: {e}\")\n",
    "            return AppState.UNKNOWN\n",
    "    \n",
    "    async def _handle_app_loss(self):\n",
    "        log.warning(f\"App {self.target_package} lost from foreground, initiating recovery\")\n",
    "        "
   ]
  },
  {
   "cell_type": "markdown",
   "id": "f7657c74",
   "metadata": {},
   "source": [
    "        # Attempt recovery"
   ]
  },
  {
   "cell_type": "code",
   "execution_count": null,
   "id": "015bc05a",
   "metadata": {},
   "outputs": [],
   "source": [
    "        success = await self.attempt_recovery()\n",
    "        \n",
    "        if success:\n",
    "            self.consecutive_failures = 0\n",
    "            self.last_successful_recovery = time.time()\n",
    "            log.success(f\"Successfully recovered {self.target_package}\")\n",
    "        else:\n",
    "            self.consecutive_failures += 1\n",
    "            log.error(f\"Failed to recover {self.target_package} (attempt {self.consecutive_failures})\")\n",
    "            "
   ]
  },
  {
   "cell_type": "markdown",
   "id": "a0ae2150",
   "metadata": {},
   "source": [
    "            # If too many consecutive failures, stop monitoring"
   ]
  },
  {
   "cell_type": "markdown",
   "id": "e0b326f1",
   "metadata": {},
   "source": [
    "Attempt to recover the target app using intelligent strategies.\n",
    "        \n",
    "        Returns:\n",
    "            bool: True if recovery successful"
   ]
  },
  {
   "cell_type": "code",
   "execution_count": null,
   "id": "b81c06bf",
   "metadata": {},
   "outputs": [],
   "source": [
    "            if self.consecutive_failures >= self.recovery_config.max_recovery_attempts:\n",
    "                log.error(f\"Too many consecutive recovery failures, stopping monitoring\")\n",
    "                await self.stop_recovery_monitoring()\n",
    "    \n",
    "    async def attempt_recovery(self) -> bool:\n",
    "        if not self.target_package:\n",
    "            return False\n",
    "        \n",
    "        log.info(f\"Attempting to recover {self.target_package}\")\n",
    "        "
   ]
  },
  {
   "cell_type": "markdown",
   "id": "6ce365a5",
   "metadata": {},
   "source": [
    "        # Get prioritized recovery strategies"
   ]
  },
  {
   "cell_type": "code",
   "execution_count": null,
   "id": "d2f95314",
   "metadata": {},
   "outputs": [],
   "source": [
    "        strategies = self._get_prioritized_strategies()\n",
    "        \n",
    "        for strategy in strategies:\n",
    "            log.info(f\"Trying recovery strategy: {strategy.value}\")\n",
    "            \n",
    "            start_time = time.time()\n",
    "            success = False\n",
    "            error_message = None\n",
    "            \n",
    "            try:\n",
    "                success = await self._execute_recovery_strategy(strategy)\n",
    "            except Exception as e:\n",
    "                error_message = str(e)\n",
    "                success = False\n",
    "            \n",
    "            duration = time.time() - start_time\n",
    "            "
   ]
  },
  {
   "cell_type": "markdown",
   "id": "4953c965",
   "metadata": {},
   "source": [
    "            # Record recovery attempt"
   ]
  },
  {
   "cell_type": "markdown",
   "id": "2120b055",
   "metadata": {},
   "source": [
    "Get recovery strategies ordered by priority and success rate.\n",
    "        \n",
    "        Returns:\n",
    "            List of recovery strategies in priority order"
   ]
  },
  {
   "cell_type": "code",
   "execution_count": null,
   "id": "e91ab6ba",
   "metadata": {},
   "outputs": [],
   "source": [
    "            attempt = RecoveryAttempt(\n",
    "                strategy=strategy,\n",
    "                success=success,\n",
    "                duration=duration,\n",
    "                error_message=error_message\n",
    "            )\n",
    "            self.recovery_history.append(attempt)\n",
    "            \n",
    "            if success:\n",
    "                log.success(f\"Recovery successful with {strategy.value} in {duration:.2f}s\")\n",
    "                return True\n",
    "            else:\n",
    "                log.warning(f\"Recovery failed with {strategy.value}: {error_message}\")\n",
    "        \n",
    "        log.error(\"All recovery strategies failed\")\n",
    "        return False\n",
    "    \n",
    "    def _get_prioritized_strategies(self) -> List[RecoveryStrategy]:"
   ]
  },
  {
   "cell_type": "markdown",
   "id": "36c5fd18",
   "metadata": {},
   "source": [
    "        # Start with configured strategies"
   ]
  },
  {
   "cell_type": "code",
   "execution_count": null,
   "id": "9f60e4d6",
   "metadata": {},
   "outputs": [],
   "source": [
    "        strategies = self.recovery_config.recovery_strategies.copy()\n",
    "        "
   ]
  },
  {
   "cell_type": "markdown",
   "id": "6296f2c4",
   "metadata": {},
   "source": [
    "        # Adjust based on recent success rates"
   ]
  },
  {
   "cell_type": "code",
   "execution_count": null,
   "id": "8f85f3bb",
   "metadata": {},
   "outputs": [],
   "source": [
    "        recent_attempts = self.recovery_history[-10:]  # Last 10 attempts\n",
    "        \n",
    "        if recent_attempts:"
   ]
  },
  {
   "cell_type": "markdown",
   "id": "71ef2cb9",
   "metadata": {},
   "source": [
    "            # Calculate success rates for each strategy"
   ]
  },
  {
   "cell_type": "code",
   "execution_count": null,
   "id": "3624df75",
   "metadata": {},
   "outputs": [],
   "source": [
    "            success_rates = {}\n",
    "            for strategy in RecoveryStrategy:\n",
    "                strategy_attempts = [a for a in recent_attempts if a.strategy == strategy]\n",
    "                if strategy_attempts:\n",
    "                    success_rate = sum(1 for a in strategy_attempts if a.success) / len(strategy_attempts)\n",
    "                    success_rates[strategy] = success_rate\n",
    "            "
   ]
  },
  {
   "cell_type": "markdown",
   "id": "47f759ec",
   "metadata": {},
   "source": [
    "            # Reorder strategies based on success rates"
   ]
  },
  {
   "cell_type": "code",
   "execution_count": null,
   "id": "97ec26da",
   "metadata": {},
   "outputs": [],
   "source": [
    "            strategies.sort(key=lambda s: success_rates.get(s, 0.0), reverse=True)\n",
    "        "
   ]
  },
  {
   "cell_type": "markdown",
   "id": "80f4b291",
   "metadata": {},
   "source": [
    "        # Ensure foreground service is tried first if enabled"
   ]
  },
  {
   "cell_type": "markdown",
   "id": "58ada772",
   "metadata": {},
   "source": [
    "Execute a specific recovery strategy.\n",
    "        \n",
    "        Args:\n",
    "            strategy: The recovery strategy to execute\n",
    "            \n",
    "        Returns:\n",
    "            bool: True if strategy executed successfully"
   ]
  },
  {
   "cell_type": "markdown",
   "id": "43383a98",
   "metadata": {},
   "source": [
    "Recover using foreground service approach."
   ]
  },
  {
   "cell_type": "code",
   "execution_count": null,
   "id": "189e10a3",
   "metadata": {},
   "outputs": [],
   "source": [
    "        if (self.recovery_config.enable_foreground_service and \n",
    "            RecoveryStrategy.FOREGROUND_SERVICE in strategies):\n",
    "            strategies.remove(RecoveryStrategy.FOREGROUND_SERVICE)\n",
    "            strategies.insert(0, RecoveryStrategy.FOREGROUND_SERVICE)\n",
    "        \n",
    "        return strategies\n",
    "    \n",
    "    async def _execute_recovery_strategy(self, strategy: RecoveryStrategy) -> bool:\n",
    "        try:\n",
    "            if strategy == RecoveryStrategy.FOREGROUND_SERVICE:\n",
    "                return await self._recover_with_foreground_service()\n",
    "            elif strategy == RecoveryStrategy.APP_LAUNCH:\n",
    "                return await self._recover_with_app_launch()\n",
    "            elif strategy == RecoveryStrategy.RECENT_APPS:\n",
    "                return await self._recover_with_recent_apps()\n",
    "            elif strategy == RecoveryStrategy.HOME_AND_LAUNCH:\n",
    "                return await self._recover_with_home_and_launch()\n",
    "            elif strategy == RecoveryStrategy.FORCE_STOP_RESTART:\n",
    "                return await self._recover_with_force_stop_restart()\n",
    "            elif strategy == RecoveryStrategy.CLEAR_RECENTS_LAUNCH:\n",
    "                return await self._recover_with_clear_recents_launch()\n",
    "            else:\n",
    "                log.error(f\"Unknown recovery strategy: {strategy}\")\n",
    "                return False\n",
    "                \n",
    "        except Exception as e:\n",
    "            log.error(f\"Error executing recovery strategy {strategy.value}: {e}\")\n",
    "            return False\n",
    "    \n",
    "    async def _recover_with_foreground_service(self) -> bool:\n",
    "        try:"
   ]
  },
  {
   "cell_type": "markdown",
   "id": "7a608b75",
   "metadata": {},
   "source": [
    "            # Check if foreground service is running"
   ]
  },
  {
   "cell_type": "code",
   "execution_count": null,
   "id": "d4863715",
   "metadata": {},
   "outputs": [],
   "source": [
    "            is_running = await self.device_manager.is_foreground_service_running(self.target_package)\n",
    "            \n",
    "            if not is_running:"
   ]
  },
  {
   "cell_type": "markdown",
   "id": "1184dfd8",
   "metadata": {},
   "source": [
    "                # Try to start foreground service"
   ]
  },
  {
   "cell_type": "code",
   "execution_count": null,
   "id": "6bf08dd4",
   "metadata": {},
   "outputs": [],
   "source": [
    "                success = await self.device_manager.setup_foreground_service(self.target_package)\n",
    "                if not success:\n",
    "                    return False\n",
    "            "
   ]
  },
  {
   "cell_type": "markdown",
   "id": "70415387",
   "metadata": {},
   "source": [
    "            # Wait a moment for service to take effect"
   ]
  },
  {
   "cell_type": "code",
   "execution_count": null,
   "id": "68b9aaf9",
   "metadata": {},
   "outputs": [],
   "source": [
    "            await asyncio.sleep(2.0)\n",
    "            "
   ]
  },
  {
   "cell_type": "markdown",
   "id": "f7c3add3",
   "metadata": {},
   "source": [
    "            # Check if app is now in foreground"
   ]
  },
  {
   "cell_type": "markdown",
   "id": "5d6cfd7d",
   "metadata": {},
   "source": [
    "Recover by launching the app directly."
   ]
  },
  {
   "cell_type": "code",
   "execution_count": null,
   "id": "0aec0182",
   "metadata": {},
   "outputs": [],
   "source": [
    "            current_state = await self._get_app_state()\n",
    "            return current_state == AppState.FOREGROUND\n",
    "            \n",
    "        except Exception as e:\n",
    "            log.error(f\"Foreground service recovery failed: {e}\")\n",
    "            return False\n",
    "    \n",
    "    async def _recover_with_app_launch(self) -> bool:\n",
    "        try:"
   ]
  },
  {
   "cell_type": "markdown",
   "id": "15db400a",
   "metadata": {},
   "source": [
    "            # Launch the app"
   ]
  },
  {
   "cell_type": "code",
   "execution_count": null,
   "id": "7e654387",
   "metadata": {},
   "outputs": [],
   "source": [
    "            success = await self.device_manager.launch_app(self.target_package)\n",
    "            if not success:\n",
    "                return False\n",
    "            "
   ]
  },
  {
   "cell_type": "markdown",
   "id": "6fe8cf05",
   "metadata": {},
   "source": [
    "            # Wait for app to start"
   ]
  },
  {
   "cell_type": "code",
   "execution_count": null,
   "id": "faa2c477",
   "metadata": {},
   "outputs": [],
   "source": [
    "            await asyncio.sleep(3.0)\n",
    "            "
   ]
  },
  {
   "cell_type": "markdown",
   "id": "315b6115",
   "metadata": {},
   "source": [
    "            # Check if app is now in foreground"
   ]
  },
  {
   "cell_type": "markdown",
   "id": "ce608829",
   "metadata": {},
   "source": [
    "Recover by using recent apps switcher."
   ]
  },
  {
   "cell_type": "code",
   "execution_count": null,
   "id": "706a2da5",
   "metadata": {},
   "outputs": [],
   "source": [
    "            current_state = await self._get_app_state()\n",
    "            return current_state == AppState.FOREGROUND\n",
    "            \n",
    "        except Exception as e:\n",
    "            log.error(f\"App launch recovery failed: {e}\")\n",
    "            return False\n",
    "    \n",
    "    async def _recover_with_recent_apps(self) -> bool:\n",
    "        try:"
   ]
  },
  {
   "cell_type": "markdown",
   "id": "c917b586",
   "metadata": {},
   "source": [
    "            # Open recent apps"
   ]
  },
  {
   "cell_type": "code",
   "execution_count": null,
   "id": "efa39f70",
   "metadata": {},
   "outputs": [],
   "source": [
    "            await self.device_manager.perform_action({\n",
    "                \"type\": \"key_event\",\n",
    "                \"key_code\": \"KEYCODE_APP_SWITCH\"\n",
    "            })\n",
    "            \n",
    "            await asyncio.sleep(1.0)\n",
    "            "
   ]
  },
  {
   "cell_type": "markdown",
   "id": "9e365238",
   "metadata": {},
   "source": [
    "            # Look for the target app in recent apps and tap it\n",
    "            # This would require vision analysis to find the app icon\n",
    "            # For now, we'll use a simpler approach"
   ]
  },
  {
   "cell_type": "code",
   "execution_count": null,
   "id": "f2b25f00",
   "metadata": {},
   "outputs": [],
   "source": [
    "            "
   ]
  },
  {
   "cell_type": "markdown",
   "id": "c1943edd",
   "metadata": {},
   "source": [
    "            # Close recent apps and try direct launch"
   ]
  },
  {
   "cell_type": "code",
   "execution_count": null,
   "id": "99bfcc49",
   "metadata": {},
   "outputs": [],
   "source": [
    "            await self.device_manager.perform_action({\n",
    "                \"type\": \"key_event\",\n",
    "                \"key_code\": \"KEYCODE_HOME\"\n",
    "            })\n",
    "            \n",
    "            await asyncio.sleep(1.0)\n",
    "            "
   ]
  },
  {
   "cell_type": "markdown",
   "id": "0aec64a9",
   "metadata": {},
   "source": [
    "            # Try launching the app"
   ]
  },
  {
   "cell_type": "markdown",
   "id": "3f8fdee4",
   "metadata": {},
   "source": [
    "Recover by going home and then launching the app."
   ]
  },
  {
   "cell_type": "code",
   "execution_count": null,
   "id": "2fe735f7",
   "metadata": {},
   "outputs": [],
   "source": [
    "            return await self._recover_with_app_launch()\n",
    "            \n",
    "        except Exception as e:\n",
    "            log.error(f\"Recent apps recovery failed: {e}\")\n",
    "            return False\n",
    "    \n",
    "    async def _recover_with_home_and_launch(self) -> bool:\n",
    "        try:"
   ]
  },
  {
   "cell_type": "markdown",
   "id": "1ec83693",
   "metadata": {},
   "source": [
    "            # Go to home screen"
   ]
  },
  {
   "cell_type": "code",
   "execution_count": null,
   "id": "870c1215",
   "metadata": {},
   "outputs": [],
   "source": [
    "            await self.device_manager.perform_action({\n",
    "                \"type\": \"key_event\",\n",
    "                \"key_code\": \"KEYCODE_HOME\"\n",
    "            })\n",
    "            \n",
    "            await asyncio.sleep(1.0)\n",
    "            "
   ]
  },
  {
   "cell_type": "markdown",
   "id": "745d762c",
   "metadata": {},
   "source": [
    "            # Launch the app"
   ]
  },
  {
   "cell_type": "markdown",
   "id": "f85ba2e2",
   "metadata": {},
   "source": [
    "Recover by force stopping and restarting the app."
   ]
  },
  {
   "cell_type": "code",
   "execution_count": null,
   "id": "2ee04f94",
   "metadata": {},
   "outputs": [],
   "source": [
    "            return await self._recover_with_app_launch()\n",
    "            \n",
    "        except Exception as e:\n",
    "            log.error(f\"Home and launch recovery failed: {e}\")\n",
    "            return False\n",
    "    \n",
    "    async def _recover_with_force_stop_restart(self) -> bool:\n",
    "        try:\n",
    "            if not self.recovery_config.enable_force_restart:\n",
    "                return False\n",
    "            "
   ]
  },
  {
   "cell_type": "markdown",
   "id": "d31022fb",
   "metadata": {},
   "source": [
    "            # Force stop the app"
   ]
  },
  {
   "cell_type": "code",
   "execution_count": null,
   "id": "a0caa863",
   "metadata": {},
   "outputs": [],
   "source": [
    "            await self.device_manager.perform_action({\n",
    "                \"type\": \"shell_command\",\n",
    "                \"command\": f\"am force-stop {self.target_package}\"\n",
    "            })\n",
    "            \n",
    "            await asyncio.sleep(2.0)\n",
    "            "
   ]
  },
  {
   "cell_type": "markdown",
   "id": "457509e3",
   "metadata": {},
   "source": [
    "            # Launch the app"
   ]
  },
  {
   "cell_type": "markdown",
   "id": "60978135",
   "metadata": {},
   "source": [
    "Recover by clearing recent apps and launching."
   ]
  },
  {
   "cell_type": "code",
   "execution_count": null,
   "id": "e2c24c85",
   "metadata": {},
   "outputs": [],
   "source": [
    "            return await self._recover_with_app_launch()\n",
    "            \n",
    "        except Exception as e:\n",
    "            log.error(f\"Force stop restart recovery failed: {e}\")\n",
    "            return False\n",
    "    \n",
    "    async def _recover_with_clear_recents_launch(self) -> bool:\n",
    "        try:\n",
    "            if not self.recovery_config.enable_clear_recents:\n",
    "                return False\n",
    "            "
   ]
  },
  {
   "cell_type": "markdown",
   "id": "639e3c0a",
   "metadata": {},
   "source": [
    "            # Clear recent apps"
   ]
  },
  {
   "cell_type": "code",
   "execution_count": null,
   "id": "7198ab03",
   "metadata": {},
   "outputs": [],
   "source": [
    "            await self.device_manager.perform_action({\n",
    "                \"type\": \"shell_command\",\n",
    "                \"command\": \"am kill-all\"\n",
    "            })\n",
    "            \n",
    "            await asyncio.sleep(2.0)\n",
    "            "
   ]
  },
  {
   "cell_type": "markdown",
   "id": "c96ebe6a",
   "metadata": {},
   "source": [
    "            # Launch the app"
   ]
  },
  {
   "cell_type": "markdown",
   "id": "c5c5727c",
   "metadata": {},
   "source": [
    "Get recovery statistics.\n",
    "        \n",
    "        Returns:\n",
    "            Dictionary with recovery statistics"
   ]
  },
  {
   "cell_type": "code",
   "execution_count": null,
   "id": "b9eab967",
   "metadata": {},
   "outputs": [],
   "source": [
    "            return await self._recover_with_app_launch()\n",
    "            \n",
    "        except Exception as e:\n",
    "            log.error(f\"Clear recents launch recovery failed: {e}\")\n",
    "            return False\n",
    "    \n",
    "    def get_recovery_stats(self) -> Dict[str, Any]:\n",
    "        if not self.recovery_history:\n",
    "            return {\n",
    "                \"total_attempts\": 0,\n",
    "                \"successful_attempts\": 0,\n",
    "                \"success_rate\": 0.0,\n",
    "                \"average_duration\": 0.0,\n",
    "                \"strategy_success_rates\": {},\n",
    "                \"is_monitoring\": self.is_monitoring,\n",
    "                \"consecutive_failures\": self.consecutive_failures\n",
    "            }\n",
    "        \n",
    "        total_attempts = len(self.recovery_history)\n",
    "        successful_attempts = sum(1 for a in self.recovery_history if a.success)\n",
    "        success_rate = successful_attempts / total_attempts\n",
    "        average_duration = sum(a.duration for a in self.recovery_history) / total_attempts\n",
    "        "
   ]
  },
  {
   "cell_type": "markdown",
   "id": "46f3e144",
   "metadata": {},
   "source": [
    "        # Calculate strategy success rates"
   ]
  },
  {
   "cell_type": "markdown",
   "id": "7d921182",
   "metadata": {},
   "source": [
    "Update the recovery configuration.\n",
    "        \n",
    "        Args:\n",
    "            config: New recovery configuration"
   ]
  },
  {
   "cell_type": "markdown",
   "id": "048476c4",
   "metadata": {},
   "source": [
    "Clear the recovery history."
   ]
  },
  {
   "cell_type": "code",
   "execution_count": null,
   "id": "23e92680",
   "metadata": {},
   "outputs": [],
   "source": [
    "        strategy_success_rates = {}\n",
    "        for strategy in RecoveryStrategy:\n",
    "            strategy_attempts = [a for a in self.recovery_history if a.strategy == strategy]\n",
    "            if strategy_attempts:\n",
    "                strategy_success_rate = sum(1 for a in strategy_attempts if a.success) / len(strategy_attempts)\n",
    "                strategy_success_rates[strategy.value] = strategy_success_rate\n",
    "        \n",
    "        return {\n",
    "            \"total_attempts\": total_attempts,\n",
    "            \"successful_attempts\": successful_attempts,\n",
    "            \"success_rate\": success_rate,\n",
    "            \"average_duration\": average_duration,\n",
    "            \"strategy_success_rates\": strategy_success_rates,\n",
    "            \"is_monitoring\": self.is_monitoring,\n",
    "            \"consecutive_failures\": self.consecutive_failures,\n",
    "            \"last_successful_recovery\": self.last_successful_recovery,\n",
    "            \"target_package\": self.target_package\n",
    "        }\n",
    "    \n",
    "    def update_config(self, config: AppRecoveryConfig) -> None:\n",
    "        self.recovery_config = config\n",
    "        log.info(\"App recovery configuration updated\")\n",
    "    \n",
    "    def clear_history(self) -> None:\n",
    "        self.recovery_history.clear()\n",
    "        log.info(\"App recovery history cleared\")\n",
    "\n"
   ]
  },
  {
   "cell_type": "markdown",
   "id": "65e0dbd2",
   "metadata": {},
   "source": [
    "# Global instance"
   ]
  },
  {
   "cell_type": "markdown",
   "id": "c7cf62be",
   "metadata": {},
   "source": [
    "Get the global app recovery manager instance.\n",
    "    \n",
    "    Args:\n",
    "        device_manager: Device manager instance (required for first call)\n",
    "        \n",
    "    Returns:\n",
    "        AppRecoveryManager: The recovery manager instance"
   ]
  },
  {
   "cell_type": "code",
   "execution_count": null,
   "id": "f47a4fca",
   "metadata": {},
   "outputs": [],
   "source": [
    "_app_recovery_manager: Optional[AppRecoveryManager] = None\n",
    "\n",
    "\n",
    "def get_app_recovery_manager(device_manager: Optional[EnhancedDeviceManager] = None) -> AppRecoveryManager:\n",
    "    global _app_recovery_manager\n",
    "    \n",
    "    if _app_recovery_manager is None:\n",
    "        if device_manager is None:\n",
    "            raise ValueError(\"Device manager is required for first initialization\")\n",
    "        _app_recovery_manager = AppRecoveryManager(device_manager)\n",
    "    \n",
    "    return _app_recovery_manager "
   ]
  }
 ],
 "metadata": {
  "kernelspec": {
   "display_name": "Python 3",
   "language": "python",
   "name": "python3"
  },
  "language_info": {
   "codemirror_mode": {
    "name": "ipython",
    "version": 3
   },
   "file_extension": ".py",
   "mimetype": "text/x-python",
   "name": "python",
   "nbconvert_exporter": "python",
   "pygments_lexer": "ipython3",
   "version": "3.10.0"
  }
 },
 "nbformat": 4,
 "nbformat_minor": 5
}
