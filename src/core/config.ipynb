{
 "cells": [
  {
   "cell_type": "markdown",
   "id": "6dd24f06",
   "metadata": {},
   "source": [
    "Configuration management for the DroidBot-GPT framework."
   ]
  },
  {
   "cell_type": "code",
   "execution_count": null,
   "id": "e35d8bb0",
   "metadata": {},
   "outputs": [],
   "source": [
    "\n",
    "import os\n",
    "\n",
    "from dotenv import load_dotenv\n",
    "from pydantic import Field\n",
    "from pydantic_settings import BaseSettings\n"
   ]
  },
  {
   "cell_type": "markdown",
   "id": "1dc33300",
   "metadata": {},
   "source": [
    "# Load environment variables"
   ]
  },
  {
   "cell_type": "markdown",
   "id": "d2e86555",
   "metadata": {},
   "source": [
    "Configuration class for DroidBot-GPT framework."
   ]
  },
  {
   "cell_type": "code",
   "execution_count": null,
   "id": "5ea2e308",
   "metadata": {},
   "outputs": [],
   "source": [
    "load_dotenv()\n",
    "\n",
    "\n",
    "class Config(BaseSettings):\n",
    "    "
   ]
  },
  {
   "cell_type": "markdown",
   "id": "aa465166",
   "metadata": {},
   "source": [
    "    # OpenAI Configuration"
   ]
  },
  {
   "cell_type": "code",
   "execution_count": null,
   "id": "19aab024",
   "metadata": {},
   "outputs": [],
   "source": [
    "    openai_api_key: str = Field(...)\n",
    "    openai_model: str = Field(default=\"gpt-4\")\n",
    "    openai_max_tokens: int = Field(default=2000)\n",
    "    openai_temperature: float = Field(default=0.7)\n"
   ]
  },
  {
   "cell_type": "markdown",
   "id": "0de758b3",
   "metadata": {},
   "source": [
    "    # Phi Ground Configuration"
   ]
  },
  {
   "cell_type": "code",
   "execution_count": null,
   "id": "20e25ae5",
   "metadata": {},
   "outputs": [],
   "source": [
    "    use_phi_ground: bool = Field(default=True, description=\"Enable Phi Ground for action generation\")\n",
    "    phi_ground_model: str = Field(default=\"microsoft/Phi-3-vision-128k-instruct\", description=\"Phi Ground model to use\")\n",
    "    phi_ground_temperature: float = Field(default=0.7, description=\"Temperature for Phi Ground generation\")\n",
    "    phi_ground_max_tokens: int = Field(default=256, description=\"Max tokens for Phi Ground generation\")\n",
    "    phi_ground_confidence_threshold: float = Field(default=0.5, description=\"Minimum confidence for Phi Ground actions\")\n"
   ]
  },
  {
   "cell_type": "markdown",
   "id": "14086be6",
   "metadata": {},
   "source": [
    "    # Prompt parameters"
   ]
  },
  {
   "cell_type": "code",
   "execution_count": null,
   "id": "c2889f79",
   "metadata": {},
   "outputs": [],
   "source": [
    "    prompt_max_ui_elements: int = Field(default=20)\n",
    "    prompt_max_history: int = Field(default=10)\n",
    "    "
   ]
  },
  {
   "cell_type": "markdown",
   "id": "33d70b41",
   "metadata": {},
   "source": [
    "    # Android Configuration"
   ]
  },
  {
   "cell_type": "code",
   "execution_count": null,
   "id": "b242de75",
   "metadata": {},
   "outputs": [],
   "source": [
    "    android_device_id: str = Field(default=\"emulator-5554\")\n",
    "    android_platform_version: int = Field(default=30)\n",
    "    android_app_package: str = Field(default=\"com.android.settings\")\n",
    "    android_activity: str = Field(default=\".Settings\")\n",
    "    "
   ]
  },
  {
   "cell_type": "markdown",
   "id": "22bd0765",
   "metadata": {},
   "source": [
    "    # Computer Vision Configuration"
   ]
  },
  {
   "cell_type": "code",
   "execution_count": null,
   "id": "9576af36",
   "metadata": {},
   "outputs": [],
   "source": [
    "    cv_confidence_threshold: float = Field(default=0.8)\n",
    "    cv_template_matching_threshold: float = Field(default=0.9)\n",
    "    cv_template_max_scales: int = Field(default=5)  # number of scales above and below 1.0\n",
    "    cv_template_scale_step: float = Field(default=0.9)  # Factor to multiply per step (<1)\n",
    "    cv_template_threads: int = Field(default=4)  # Thread pool size for template matching\n",
    "    save_vision_debug: bool = Field(default=True)\n",
    "    vision_debug_dir: str = Field(default=\"vision_debug\")  # legacy debug dir\n",
    "    ocr_images_dir: str = Field(default=\"ocr_images\")  # New directory for OCR overlays\n",
    "    cv_screenshot_quality: int = Field(default=90)\n",
    "    cv_max_retries: int = Field(default=3)\n",
    "    use_fast_screencap: bool = Field(default=True)  # Use adb exec-out screencap for fast capture\n",
    "    use_ocr: bool = Field(default=True)  # Toggle Tesseract OCR usage\n"
   ]
  },
  {
   "cell_type": "markdown",
   "id": "356e466c",
   "metadata": {},
   "source": [
    "    # OCR Engine\n",
    "    # Path to the Tesseract OCR binary (leave None to use system PATH)"
   ]
  },
  {
   "cell_type": "code",
   "execution_count": null,
   "id": "79c6ac43",
   "metadata": {},
   "outputs": [],
   "source": [
    "    tesseract_cmd: str | None = Field(default=None, description=\"Path to Tesseract executable\")\n"
   ]
  },
  {
   "cell_type": "markdown",
   "id": "a2c9d84d",
   "metadata": {},
   "source": [
    "    # Framework Configuration"
   ]
  },
  {
   "cell_type": "code",
   "execution_count": null,
   "id": "a5c739fa",
   "metadata": {},
   "outputs": [],
   "source": [
    "    log_level: str = Field(default=\"INFO\")\n",
    "    debug_mode: bool = Field(default=False)\n",
    "    save_screenshots: bool = Field(default=True)\n",
    "    screenshot_dir: str = Field(default=\"screenshots\")\n",
    "    max_wait_time: int = Field(default=10)\n",
    "    retry_attempts: int = Field(default=3)\n",
    "    "
   ]
  },
  {
   "cell_type": "markdown",
   "id": "60d233d7",
   "metadata": {},
   "source": [
    "    # Resource Management"
   ]
  },
  {
   "cell_type": "code",
   "execution_count": null,
   "id": "73bca77b",
   "metadata": {},
   "outputs": [],
   "source": [
    "    max_memory_usage: str = Field(default=\"512MB\")\n",
    "    cpu_throttle_threshold: int = Field(default=80)\n",
    "    batch_size: int = Field(default=5)\n",
    "    "
   ]
  },
  {
   "cell_type": "markdown",
   "id": "0250b2af",
   "metadata": {},
   "source": [
    "    # API Configuration"
   ]
  },
  {
   "cell_type": "code",
   "execution_count": null,
   "id": "93ef74fc",
   "metadata": {},
   "outputs": [],
   "source": [
    "    api_host: str = Field(default=\"localhost\")\n",
    "    api_port: int = Field(default=8000)\n",
    "    api_workers: int = Field(default=4)\n",
    "    cors_origins: list[str] = Field(default=[\"http://localhost:3000\"])\n",
    "    "
   ]
  },
  {
   "cell_type": "markdown",
   "id": "a1498865",
   "metadata": {},
   "source": [
    "    # Version Control"
   ]
  },
  {
   "cell_type": "markdown",
   "id": "ef14c997",
   "metadata": {},
   "source": [
    "Pydantic configuration for environment loading."
   ]
  },
  {
   "cell_type": "markdown",
   "id": "42f5c787",
   "metadata": {},
   "source": [
    "Validate configuration values."
   ]
  },
  {
   "cell_type": "markdown",
   "id": "b45cf11f",
   "metadata": {},
   "source": [
    "Validate basic configuration for testing without OpenAI API key."
   ]
  },
  {
   "cell_type": "markdown",
   "id": "e6080479",
   "metadata": {},
   "source": [
    "Get the full path to screenshot directory."
   ]
  },
  {
   "cell_type": "code",
   "execution_count": null,
   "id": "4f5776d2",
   "metadata": {},
   "outputs": [],
   "source": [
    "    enable_version_control: bool = Field(default=True)\n",
    "    version_backup_count: int = Field(default=5)\n",
    "    auto_rollback: bool = Field(default=True)\n",
    "    \n",
    "    class Config:\n",
    "\n",
    "        env_file = \".env\"\n",
    "        case_sensitive = False\n",
    "        extra = \"ignore\"  # Ignore unexpected env vars rather than raising errors\n",
    "    \n",
    "    def validate_config(self) -> bool:\n",
    "        if not self.openai_api_key or self.openai_api_key == \"your_openai_api_key_here\":\n",
    "            raise ValueError(\"OpenAI API key is required\")\n",
    "        \n",
    "        if self.cv_confidence_threshold < 0 or self.cv_confidence_threshold > 1:\n",
    "            raise ValueError(\"CV confidence threshold must be between 0 and 1\")\n",
    "        \n",
    "        if self.max_wait_time <= 0:\n",
    "            raise ValueError(\"Max wait time must be positive\")\n",
    "        \n",
    "        return True\n",
    "    \n",
    "    def validate_basic_config(self) -> bool:\n",
    "        if self.cv_confidence_threshold < 0 or self.cv_confidence_threshold > 1:\n",
    "            raise ValueError(\"CV confidence threshold must be between 0 and 1\")\n",
    "        \n",
    "        if self.max_wait_time <= 0:\n",
    "            raise ValueError(\"Max wait time must be positive\")\n",
    "        \n",
    "        return True\n",
    "    \n",
    "    def get_screenshot_path(self) -> str:\n",
    "        return os.path.join(os.getcwd(), self.screenshot_dir)\n",
    "\n"
   ]
  },
  {
   "cell_type": "markdown",
   "id": "d7a3c4bd",
   "metadata": {},
   "source": [
    "# Global configuration instance"
   ]
  },
  {
   "cell_type": "code",
   "execution_count": null,
   "id": "15d00974",
   "metadata": {},
   "outputs": [],
   "source": [
    "config = Config()"
   ]
  }
 ],
 "metadata": {
  "kernelspec": {
   "display_name": "Python 3",
   "language": "python",
   "name": "python3"
  },
  "language_info": {
   "codemirror_mode": {
    "name": "ipython",
    "version": 3
   },
   "file_extension": ".py",
   "mimetype": "text/x-python",
   "name": "python",
   "nbconvert_exporter": "python",
   "pygments_lexer": "ipython3",
   "version": "3.10.0"
  }
 },
 "nbformat": 4,
 "nbformat_minor": 5
}
