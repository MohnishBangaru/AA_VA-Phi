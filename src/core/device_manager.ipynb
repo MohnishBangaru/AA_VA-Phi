{
 "cells": [
  {
   "cell_type": "markdown",
   "id": "6c9f9648",
   "metadata": {},
   "source": [
    "Enhanced Device management for Android automation.\n",
    "\n",
    "Optimized for Android Studio emulator with intelligent resource management."
   ]
  },
  {
   "cell_type": "markdown",
   "id": "536bcb16",
   "metadata": {},
   "source": [
    "Extended device information."
   ]
  },
  {
   "cell_type": "markdown",
   "id": "ac8fd94e",
   "metadata": {},
   "source": [
    "Enhanced device management with Android Studio emulator optimization."
   ]
  },
  {
   "cell_type": "markdown",
   "id": "aa06f7be",
   "metadata": {},
   "source": [
    "Initialize the device manager and internal caches."
   ]
  },
  {
   "cell_type": "code",
   "execution_count": null,
   "id": "0038c515",
   "metadata": {},
   "outputs": [],
   "source": [
    "\n",
    "import asyncio\n",
    "import os\n",
    "import subprocess\n",
    "import time\n",
    "from dataclasses import dataclass\n",
    "from typing import Any, Optional\n",
    "\n",
    "import psutil\n",
    "\n",
    "from Explorer.device import ADBError, Device\n",
    "\n",
    "from ..core.config import config\n",
    "from ..core.logger import log\n",
    "\n",
    "\n",
    "@dataclass\n",
    "class DeviceInfo:\n",
    "\n",
    "    serial: str\n",
    "    model: str\n",
    "    android_version: str\n",
    "    api_level: int\n",
    "    screen_size: tuple[int, int]\n",
    "    screen_density: int\n",
    "    is_emulator: bool\n",
    "    available_memory: int\n",
    "    cpu_usage: float\n",
    "\n",
    "\n",
    "class EnhancedDeviceManager:\n",
    "    \n",
    "    def __init__(self) -> None:\n",
    "        self.device: Optional[Device] = None\n",
    "        self.device_info: Optional[DeviceInfo] = None\n",
    "        self.screenshot_cache: dict[str, Any] = {}\n",
    "        self.performance_metrics: dict[str, Any] = {}\n",
    "        self._is_connected = False\n",
    "        self._lock = asyncio.Lock()"
   ]
  },
  {
   "cell_type": "markdown",
   "id": "e3390f7f",
   "metadata": {},
   "source": [
    "        # Track last known resumed activity for faster recovery"
   ]
  },
  {
   "cell_type": "markdown",
   "id": "0b90730d",
   "metadata": {},
   "source": [
    "Connect to Android device or emulator with enhanced error handling.\n",
    "\n",
    "        Args:\n",
    "            device_serial: Specific device serial. If ``None`` auto-detect emulator.\n",
    "\n",
    "        Returns:\n",
    "            bool: ``True`` if connection successful, ``False`` otherwise.\n"
   ]
  },
  {
   "cell_type": "code",
   "execution_count": null,
   "id": "60bd3630",
   "metadata": {},
   "outputs": [],
   "source": [
    "        self._last_activity: str | None = None\n",
    "        \n",
    "    async def connect_device(self, device_serial: Optional[str] = None) -> bool:\n",
    "        async with self._lock:\n",
    "            try:\n",
    "                log.info(\"Attempting to connect to Android device/emulator...\")\n",
    "                \n",
    "                if device_serial:\n",
    "                    self.device = Device(device_serial)\n",
    "                    log.info(f\"Connecting to specified device: {device_serial}\")\n",
    "                else:"
   ]
  },
  {
   "cell_type": "markdown",
   "id": "05276460",
   "metadata": {},
   "source": [
    "                    # Prefer emulator for Android Studio integration"
   ]
  },
  {
   "cell_type": "code",
   "execution_count": null,
   "id": "a30c7a15",
   "metadata": {},
   "outputs": [],
   "source": [
    "                    self.device = Device.from_emulator()\n",
    "                    log.info(\"Connected to Android Studio emulator\")\n",
    "                "
   ]
  },
  {
   "cell_type": "markdown",
   "id": "d3aff46d",
   "metadata": {},
   "source": [
    "                # Verify connection and gather device info"
   ]
  },
  {
   "cell_type": "code",
   "execution_count": null,
   "id": "d06a38ba",
   "metadata": {},
   "outputs": [],
   "source": [
    "                await self._gather_device_info()\n",
    "                "
   ]
  },
  {
   "cell_type": "markdown",
   "id": "a3126b22",
   "metadata": {},
   "source": [
    "                # Optimize device settings for automation"
   ]
  },
  {
   "cell_type": "markdown",
   "id": "f580f5ff",
   "metadata": {},
   "source": [
    "Gather comprehensive device information."
   ]
  },
  {
   "cell_type": "code",
   "execution_count": null,
   "id": "fc443d52",
   "metadata": {},
   "outputs": [],
   "source": [
    "                await self._optimize_device_settings()\n",
    "                \n",
    "                self._is_connected = True\n",
    "                log.success(f\"Successfully connected to device: {self.device.serial}\")\n",
    "                return True\n",
    "                \n",
    "            except ADBError as e:\n",
    "                log.error(f\"ADB connection failed: {e}\")\n",
    "                return False\n",
    "            except Exception as e:\n",
    "                log.error(f\"Unexpected error during device connection: {e}\")\n",
    "                return False\n",
    "    \n",
    "    async def _gather_device_info(self) -> None:\n",
    "        if not self.device:\n",
    "            raise RuntimeError(\"Device not connected\")\n",
    "        \n",
    "        try:"
   ]
  },
  {
   "cell_type": "markdown",
   "id": "8ddbf7ae",
   "metadata": {},
   "source": [
    "            # Get device properties"
   ]
  },
  {
   "cell_type": "code",
   "execution_count": null,
   "id": "668a1b18",
   "metadata": {},
   "outputs": [],
   "source": [
    "            model = self.device.shell(\"getprop ro.product.model\").strip()\n",
    "            android_version = self.device.shell(\"getprop ro.build.version.release\").strip()\n",
    "            api_level = int(self.device.shell(\"getprop ro.build.version.sdk\").strip())\n",
    "            "
   ]
  },
  {
   "cell_type": "markdown",
   "id": "88446839",
   "metadata": {},
   "source": [
    "            # Get screen information"
   ]
  },
  {
   "cell_type": "code",
   "execution_count": null,
   "id": "258cf1f6",
   "metadata": {},
   "outputs": [],
   "source": [
    "            screen_info = self.device.shell(\"wm size\").strip()\n",
    "            screen_size = self._parse_screen_size(screen_info)\n",
    "            \n",
    "            density_info = self.device.shell(\"wm density\").strip()\n",
    "            screen_density = self._parse_screen_density(density_info)\n",
    "            "
   ]
  },
  {
   "cell_type": "markdown",
   "id": "af5367c0",
   "metadata": {},
   "source": [
    "            # Check if emulator"
   ]
  },
  {
   "cell_type": "code",
   "execution_count": null,
   "id": "4bca9966",
   "metadata": {},
   "outputs": [],
   "source": [
    "            is_emulator = self.device.serial.startswith(\"emulator-\")\n",
    "            "
   ]
  },
  {
   "cell_type": "markdown",
   "id": "e4c6564c",
   "metadata": {},
   "source": [
    "            # Get memory information"
   ]
  },
  {
   "cell_type": "code",
   "execution_count": null,
   "id": "e7127470",
   "metadata": {},
   "outputs": [],
   "source": [
    "            memory_info = self.device.shell(\"cat /proc/meminfo | grep MemAvailable\").strip()\n",
    "            available_memory = self._parse_memory_info(memory_info)\n",
    "            "
   ]
  },
  {
   "cell_type": "markdown",
   "id": "ee16f9f9",
   "metadata": {},
   "source": [
    "            # Get CPU usage"
   ]
  },
  {
   "cell_type": "markdown",
   "id": "e2931157",
   "metadata": {},
   "source": [
    "Optimize device settings for automation."
   ]
  },
  {
   "cell_type": "code",
   "execution_count": null,
   "id": "326b003b",
   "metadata": {},
   "outputs": [],
   "source": [
    "            cpu_usage = await self._get_cpu_usage()\n",
    "            \n",
    "            self.device_info = DeviceInfo(\n",
    "                serial=self.device.serial,\n",
    "                model=model,\n",
    "                android_version=android_version,\n",
    "                api_level=api_level,\n",
    "                screen_size=screen_size,\n",
    "                screen_density=screen_density,\n",
    "                is_emulator=is_emulator,\n",
    "                available_memory=available_memory,\n",
    "                cpu_usage=cpu_usage\n",
    "            )\n",
    "            \n",
    "            log.info(f\"Device Info: {model} (Android {android_version}, API {api_level})\")\n",
    "            log.info(f\"Screen: {screen_size[0]}x{screen_size[1]}, Density: {screen_density}\")\n",
    "            \n",
    "        except Exception as e:\n",
    "            log.error(f\"Failed to gather device information: {e}\")\n",
    "            raise\n",
    "    \n",
    "    async def _optimize_device_settings(self) -> None:\n",
    "        if not self.device:\n",
    "            raise RuntimeError(\"Device not connected\")\n",
    "        \n",
    "        try:\n",
    "            log.info(\"Optimizing device settings for automation...\")\n",
    "            "
   ]
  },
  {
   "cell_type": "markdown",
   "id": "dbf5d1f1",
   "metadata": {},
   "source": [
    "            # Enable developer options if not already enabled"
   ]
  },
  {
   "cell_type": "code",
   "execution_count": null,
   "id": "ef7ecaf5",
   "metadata": {},
   "outputs": [],
   "source": [
    "            self.device.shell(\"settings put global development_settings_enabled 1\")\n",
    "            "
   ]
  },
  {
   "cell_type": "markdown",
   "id": "e9853153",
   "metadata": {},
   "source": [
    "            # Disable animations for faster automation"
   ]
  },
  {
   "cell_type": "code",
   "execution_count": null,
   "id": "06b7b297",
   "metadata": {},
   "outputs": [],
   "source": [
    "            self.device.shell(\"settings put global window_animation_scale 0.0\")\n",
    "            self.device.shell(\"settings put global transition_animation_scale 0.0\")\n",
    "            self.device.shell(\"settings put global animator_duration_scale 0.0\")\n",
    "            "
   ]
  },
  {
   "cell_type": "markdown",
   "id": "3b0bcaa8",
   "metadata": {},
   "source": [
    "            # Increase touch sensitivity"
   ]
  },
  {
   "cell_type": "code",
   "execution_count": null,
   "id": "d41eb41d",
   "metadata": {},
   "outputs": [],
   "source": [
    "            self.device.shell(\"settings put secure touch_exploration_enabled 1\")\n",
    "            "
   ]
  },
  {
   "cell_type": "markdown",
   "id": "85b02bb4",
   "metadata": {},
   "source": [
    "            # Keep screen awake during automation"
   ]
  },
  {
   "cell_type": "code",
   "execution_count": null,
   "id": "944d9867",
   "metadata": {},
   "outputs": [],
   "source": [
    "            self.device.shell(\"settings put global stay_on_while_plugged_in 3\")\n",
    "            "
   ]
  },
  {
   "cell_type": "markdown",
   "id": "7c235e7e",
   "metadata": {},
   "source": [
    "            # Disable auto-brightness for consistent screenshots"
   ]
  },
  {
   "cell_type": "markdown",
   "id": "5654c734",
   "metadata": {},
   "source": [
    "Capture device screenshot with caching and optimization.\n",
    "\n",
    "        Uses ``adb exec-out screencap -p`` when ``config.use_fast_screencap`` is ``True`` for faster\n",
    "        capture on modern devices (API 21+), avoiding sd-card I/O."
   ]
  },
  {
   "cell_type": "code",
   "execution_count": null,
   "id": "20aad6d5",
   "metadata": {},
   "outputs": [],
   "source": [
    "            self.device.shell(\"settings put system screen_brightness_mode 0\")\n",
    "            self.device.shell(\"settings put system screen_brightness 128\")\n",
    "            \n",
    "            log.success(\"Device settings optimized for automation\")\n",
    "            \n",
    "        except Exception as e:\n",
    "            log.warning(f\"Failed to optimize some device settings: {e}\")\n",
    "    \n",
    "    async def capture_screenshot(self, save_path: Optional[str] = None) -> str:\n",
    "        if not self._is_connected:\n",
    "            raise RuntimeError(\"Device not connected\")\n",
    "        \n",
    "        if not self.device:\n",
    "            raise RuntimeError(\"Device not connected\")\n",
    "        \n",
    "        try:"
   ]
  },
  {
   "cell_type": "markdown",
   "id": "e131557b",
   "metadata": {},
   "source": [
    "            # Generate screenshot path"
   ]
  },
  {
   "cell_type": "code",
   "execution_count": null,
   "id": "50b50b09",
   "metadata": {},
   "outputs": [],
   "source": [
    "            if save_path is None:\n",
    "                timestamp = int(time.time() * 1000)\n",
    "                save_path = os.path.join(\n",
    "                    config.get_screenshot_path(),\n",
    "                    f\"screenshot_{timestamp}.png\"\n",
    "                )\n",
    "            "
   ]
  },
  {
   "cell_type": "markdown",
   "id": "29549b96",
   "metadata": {},
   "source": [
    "            # Ensure screenshot directory exists"
   ]
  },
  {
   "cell_type": "code",
   "execution_count": null,
   "id": "2b083838",
   "metadata": {},
   "outputs": [],
   "source": [
    "            os.makedirs(os.path.dirname(save_path), exist_ok=True)\n",
    "            \n",
    "            if config.use_fast_screencap:"
   ]
  },
  {
   "cell_type": "markdown",
   "id": "a612341f",
   "metadata": {},
   "source": [
    "                # Use adb exec-out for rapid capture"
   ]
  },
  {
   "cell_type": "code",
   "execution_count": null,
   "id": "5dafcb05",
   "metadata": {},
   "outputs": [],
   "source": [
    "                with open(save_path, \"wb\") as f:\n",
    "                    proc = subprocess.Popen(  # noqa: S603\n",
    "                        [\"adb\", \"-s\", self.device.serial, \"exec-out\", \"screencap\", \"-p\"],\n",
    "                        stdout=subprocess.PIPE,\n",
    "                        stderr=subprocess.PIPE,\n",
    "                    )\n",
    "                    stdout, stderr = proc.communicate(timeout=10)\n",
    "                    if proc.returncode != 0 or not stdout:\n",
    "                        raise RuntimeError(f\"exec-out screencap failed: {stderr.decode().strip()}\")\n",
    "                    f.write(stdout)\n",
    "            else:"
   ]
  },
  {
   "cell_type": "markdown",
   "id": "4b1ace26",
   "metadata": {},
   "source": [
    "                # Fallback: traditional screencap to sdcard"
   ]
  },
  {
   "cell_type": "code",
   "execution_count": null,
   "id": "ba350fbd",
   "metadata": {},
   "outputs": [],
   "source": [
    "                self.device.shell(\"screencap -p /sdcard/screenshot.png\")\n",
    "                self.device.pull(\"/sdcard/screenshot.png\", save_path)"
   ]
  },
  {
   "cell_type": "markdown",
   "id": "01c15a46",
   "metadata": {},
   "source": [
    "                # Clean up device storage"
   ]
  },
  {
   "cell_type": "markdown",
   "id": "11a192c1",
   "metadata": {},
   "source": [
    "Execute a device action with intelligent retry and verification.\n",
    "\n",
    "        Args:\n",
    "            action: Action dictionary with type and parameters.\n",
    "\n",
    "        Returns:\n",
    "            bool: True if action successful, False otherwise.\n"
   ]
  },
  {
   "cell_type": "markdown",
   "id": "34d353d0",
   "metadata": {},
   "source": [
    "Perform tap action with verification."
   ]
  },
  {
   "cell_type": "code",
   "execution_count": null,
   "id": "1d71dd81",
   "metadata": {},
   "outputs": [],
   "source": [
    "                self.device.shell(\"rm /sdcard/screenshot.png\")\n",
    "            \n",
    "            log.debug(f\"Screenshot captured: {save_path}\")\n",
    "            return save_path\n",
    "            \n",
    "        except subprocess.TimeoutExpired:\n",
    "            log.error(\"Screenshot capture timed out\")\n",
    "            raise\n",
    "        except Exception as e:\n",
    "            log.error(f\"Failed to capture screenshot: {e}\")\n",
    "            raise\n",
    "    \n",
    "    async def perform_action(self, action: dict[str, Any]) -> bool:\n",
    "        if not self._is_connected:\n",
    "            raise RuntimeError(\"Device not connected\")\n",
    "        \n",
    "        action_type = action.get(\"type\")\n",
    "        \n",
    "        try:\n",
    "            if action_type == \"tap\":\n",
    "                return await self._perform_tap(action)\n",
    "            elif action_type == \"swipe\":\n",
    "                return await self._perform_swipe(action)\n",
    "            elif action_type == \"input_text\":\n",
    "                return await self._perform_input_text(action)\n",
    "            elif action_type == \"text_input\":\n",
    "                return await self._perform_input_text(action)\n",
    "            elif action_type == \"key_event\":\n",
    "                return await self._perform_key_event(action)\n",
    "            elif action_type == \"wait\":\n",
    "                return await self._perform_wait(action)\n",
    "            else:\n",
    "                log.error(f\"Unknown action type: {action_type}\")\n",
    "                return False\n",
    "                \n",
    "        except Exception as e:\n",
    "            log.error(f\"Failed to perform action {action_type}: {e}\")\n",
    "            return False\n",
    "    \n",
    "    async def _perform_tap(self, action: dict[str, Any]) -> bool:\n",
    "        x, y = action.get(\"x\"), action.get(\"y\")\n",
    "        \n",
    "        if x is None or y is None:\n",
    "            log.error(\"Tap action missing coordinates\")\n",
    "            return False\n",
    "        "
   ]
  },
  {
   "cell_type": "markdown",
   "id": "8c79766c",
   "metadata": {},
   "source": [
    "        # Capture screenshot before action for verification"
   ]
  },
  {
   "cell_type": "code",
   "execution_count": null,
   "id": "9a481e97",
   "metadata": {},
   "outputs": [],
   "source": [
    "        before_screenshot = await self.capture_screenshot()\n",
    "        "
   ]
  },
  {
   "cell_type": "markdown",
   "id": "7234771b",
   "metadata": {},
   "source": [
    "        # Perform tap"
   ]
  },
  {
   "cell_type": "code",
   "execution_count": null,
   "id": "3593dcef",
   "metadata": {},
   "outputs": [],
   "source": [
    "        if not self.device:\n",
    "            raise RuntimeError(\"Device not connected\")\n",
    "        \n",
    "        self.device.shell(f\"input tap {x} {y}\")\n",
    "        "
   ]
  },
  {
   "cell_type": "markdown",
   "id": "9e2ba98b",
   "metadata": {},
   "source": [
    "        # Wait for UI to respond"
   ]
  },
  {
   "cell_type": "code",
   "execution_count": null,
   "id": "cb14d78e",
   "metadata": {},
   "outputs": [],
   "source": [
    "        await asyncio.sleep(0.5)\n",
    "        "
   ]
  },
  {
   "cell_type": "markdown",
   "id": "9924b7fd",
   "metadata": {},
   "source": [
    "        # Capture screenshot after action"
   ]
  },
  {
   "cell_type": "code",
   "execution_count": null,
   "id": "3e57966e",
   "metadata": {},
   "outputs": [],
   "source": [
    "        after_screenshot = await self.capture_screenshot()\n",
    "        "
   ]
  },
  {
   "cell_type": "markdown",
   "id": "821167b5",
   "metadata": {},
   "source": [
    "        # Verify action had effect (basic check)"
   ]
  },
  {
   "cell_type": "markdown",
   "id": "fc4c894c",
   "metadata": {},
   "source": [
    "Perform swipe action."
   ]
  },
  {
   "cell_type": "markdown",
   "id": "baa2a76d",
   "metadata": {},
   "source": [
    "Perform text input action with keyboard triggering."
   ]
  },
  {
   "cell_type": "code",
   "execution_count": null,
   "id": "8fda701a",
   "metadata": {},
   "outputs": [],
   "source": [
    "        action_verified = await self._verify_action_effect(before_screenshot, after_screenshot)\n",
    "        \n",
    "        if action_verified:\n",
    "            log.log_automation_step(f\"Tap at ({x}, {y})\", {\"verified\": True})\n",
    "            return True\n",
    "        else:\n",
    "            log.warning(f\"Tap at ({x}, {y}) may not have had expected effect\")\n",
    "            return False\n",
    "    \n",
    "    async def _perform_swipe(self, action: dict[str, Any]) -> bool:\n",
    "        x1, y1 = action.get(\"x1\"), action.get(\"y1\")\n",
    "        x2, y2 = action.get(\"x2\"), action.get(\"y2\")\n",
    "        duration = action.get(\"duration\", 300)\n",
    "        \n",
    "        if None in [x1, y1, x2, y2]:\n",
    "            log.error(\"Swipe action missing coordinates\")\n",
    "            return False\n",
    "        \n",
    "        if not self.device:\n",
    "            raise RuntimeError(\"Device not connected\")\n",
    "        \n",
    "        self.device.shell(f\"input swipe {x1} {y1} {x2} {y2} {duration}\")\n",
    "        await asyncio.sleep(duration / 1000 + 0.2)  # Convert to seconds + buffer\n",
    "        \n",
    "        log.log_automation_step(f\"Swipe from ({x1}, {y1}) to ({x2}, {y2})\", {\"duration\": duration})\n",
    "        return True\n",
    "    \n",
    "    async def _perform_input_text(self, action: dict[str, Any]) -> bool:\n",
    "        text = action.get(\"text\", \"\")\n",
    "        x = action.get(\"x\")\n",
    "        y = action.get(\"y\")\n",
    "        \n",
    "        if not text:\n",
    "            log.error(\"Input text action missing text\")\n",
    "            return False\n",
    "        \n",
    "        if not self.device:\n",
    "            raise RuntimeError(\"Device not connected\")\n",
    "        \n",
    "        try:"
   ]
  },
  {
   "cell_type": "markdown",
   "id": "7c94ddcc",
   "metadata": {},
   "source": [
    "            # First, tap on the input field to focus it"
   ]
  },
  {
   "cell_type": "code",
   "execution_count": null,
   "id": "9d2b7c03",
   "metadata": {},
   "outputs": [],
   "source": [
    "            if x is not None and y is not None:\n",
    "                log.debug(f\"Tapping input field at ({x}, {y}) to focus\")\n",
    "                self.device.shell(f\"input tap {x} {y}\")\n",
    "                await asyncio.sleep(0.5)  # Wait for keyboard to appear\n",
    "            "
   ]
  },
  {
   "cell_type": "markdown",
   "id": "a8c1de9d",
   "metadata": {},
   "source": [
    "            # Clear any existing text"
   ]
  },
  {
   "cell_type": "code",
   "execution_count": null,
   "id": "04d00b84",
   "metadata": {},
   "outputs": [],
   "source": [
    "            self.device.shell(\"input keyevent 123\")  # Move cursor to end\n",
    "            self.device.shell(\"input keyevent 67\")   # Select all\n",
    "            self.device.shell(\"input keyevent 22\")   # Delete\n",
    "            "
   ]
  },
  {
   "cell_type": "markdown",
   "id": "30b677c1",
   "metadata": {},
   "source": [
    "            # Wait for keyboard to be ready"
   ]
  },
  {
   "cell_type": "code",
   "execution_count": null,
   "id": "b0e5a0f2",
   "metadata": {},
   "outputs": [],
   "source": [
    "            await asyncio.sleep(0.3)\n",
    "            "
   ]
  },
  {
   "cell_type": "markdown",
   "id": "68f0b00c",
   "metadata": {},
   "source": [
    "            # Escape special characters for ADB input"
   ]
  },
  {
   "cell_type": "code",
   "execution_count": null,
   "id": "4b85ee50",
   "metadata": {},
   "outputs": [],
   "source": [
    "            escaped_text = text.replace(\" \", \"%s\").replace(\"&\", \"\\\\&\").replace(\"'\", \"\\\\'\")\n",
    "            "
   ]
  },
  {
   "cell_type": "markdown",
   "id": "4a9a5330",
   "metadata": {},
   "source": [
    "            # Input the text"
   ]
  },
  {
   "cell_type": "code",
   "execution_count": null,
   "id": "64265a9a",
   "metadata": {},
   "outputs": [],
   "source": [
    "            self.device.shell(f\"input text \\\"{escaped_text}\\\"\")\n",
    "            await asyncio.sleep(0.5)\n",
    "            "
   ]
  },
  {
   "cell_type": "markdown",
   "id": "d062d1cf",
   "metadata": {},
   "source": [
    "            # Press enter to confirm (optional)"
   ]
  },
  {
   "cell_type": "markdown",
   "id": "69d85954",
   "metadata": {},
   "source": [
    "Perform key event action."
   ]
  },
  {
   "cell_type": "markdown",
   "id": "d765f6d0",
   "metadata": {},
   "source": [
    "Perform wait action."
   ]
  },
  {
   "cell_type": "markdown",
   "id": "da180d9d",
   "metadata": {},
   "source": [
    "Basic verification that action had an effect on the UI."
   ]
  },
  {
   "cell_type": "code",
   "execution_count": null,
   "id": "af894ce6",
   "metadata": {},
   "outputs": [],
   "source": [
    "            self.device.shell(\"input keyevent 66\")  # Enter key\n",
    "            await asyncio.sleep(0.2)\n",
    "            \n",
    "            log.log_automation_step(f\"Input text: {text} at ({x}, {y})\")\n",
    "            return True\n",
    "            \n",
    "        except Exception as e:\n",
    "            log.error(f\"Text input failed: {e}\")\n",
    "            return False\n",
    "    \n",
    "    async def _perform_key_event(self, action: dict[str, Any]) -> bool:\n",
    "        key_code = action.get(\"key_code\")\n",
    "        \n",
    "        if key_code is None:\n",
    "            log.error(\"Key event action missing key code\")\n",
    "            return False\n",
    "        \n",
    "        if not self.device:\n",
    "            raise RuntimeError(\"Device not connected\")\n",
    "        \n",
    "        self.device.shell(f\"input keyevent {key_code}\")\n",
    "        await asyncio.sleep(0.2)\n",
    "        \n",
    "        log.log_automation_step(f\"Key event: {key_code}\")\n",
    "        return True\n",
    "    \n",
    "    async def _perform_wait(self, action: dict[str, Any]) -> bool:\n",
    "        duration = action.get(\"duration\", 1.0)\n",
    "        \n",
    "        await asyncio.sleep(duration)\n",
    "        \n",
    "        log.log_automation_step(f\"Wait: {duration}s\")\n",
    "        return True\n",
    "    \n",
    "    async def _verify_action_effect(self, before_path: str, after_path: str) -> bool:\n",
    "        try:"
   ]
  },
  {
   "cell_type": "markdown",
   "id": "78cceb39",
   "metadata": {},
   "source": [
    "            # This is a basic implementation - could be enhanced with computer vision"
   ]
  },
  {
   "cell_type": "code",
   "execution_count": null,
   "id": "d44463cf",
   "metadata": {},
   "outputs": [],
   "source": [
    "            before_stat = os.stat(before_path)\n",
    "            after_stat = os.stat(after_path)\n",
    "            "
   ]
  },
  {
   "cell_type": "markdown",
   "id": "d1c3a9a4",
   "metadata": {},
   "source": [
    "            # Simple check: file sizes should be different if UI changed"
   ]
  },
  {
   "cell_type": "markdown",
   "id": "898df528",
   "metadata": {},
   "source": [
    "Get current resource usage metrics."
   ]
  },
  {
   "cell_type": "code",
   "execution_count": null,
   "id": "d5f88726",
   "metadata": {},
   "outputs": [],
   "source": [
    "            return before_stat.st_size != after_stat.st_size\n",
    "            \n",
    "        except Exception as e:\n",
    "            log.debug(f\"Could not verify action effect: {e}\")\n",
    "            return True  # Assume success if verification fails\n",
    "    \n",
    "    async def get_resource_usage(self) -> dict[str, Any]:\n",
    "        if not self.device:\n",
    "            raise RuntimeError(\"Device not connected\")\n",
    "        \n",
    "        try:"
   ]
  },
  {
   "cell_type": "markdown",
   "id": "dfbdf39d",
   "metadata": {},
   "source": [
    "            # Device resource usage"
   ]
  },
  {
   "cell_type": "code",
   "execution_count": null,
   "id": "d3c7ef76",
   "metadata": {},
   "outputs": [],
   "source": [
    "            cmd_meminfo = (\n",
    "                \"cat /proc/meminfo | grep -E '(MemTotal|MemFree|MemAvailable)'\"\n",
    "            )\n",
    "            memory_info = self.device.shell(cmd_meminfo)"
   ]
  },
  {
   "cell_type": "markdown",
   "id": "09aac62a",
   "metadata": {},
   "source": [
    "            # CPU usage captured but not used further; could be returned if needed"
   ]
  },
  {
   "cell_type": "code",
   "execution_count": null,
   "id": "d13e9493",
   "metadata": {},
   "outputs": [],
   "source": [
    "            await self._get_cpu_usage()\n",
    "            "
   ]
  },
  {
   "cell_type": "markdown",
   "id": "bd76e912",
   "metadata": {},
   "source": [
    "            # Host system resource usage"
   ]
  },
  {
   "cell_type": "markdown",
   "id": "c8237ade",
   "metadata": {},
   "source": [
    "Get device CPU usage."
   ]
  },
  {
   "cell_type": "code",
   "execution_count": null,
   "id": "68905d3d",
   "metadata": {},
   "outputs": [],
   "source": [
    "            host_memory = psutil.virtual_memory()\n",
    "            host_cpu = psutil.cpu_percent(interval=1)\n",
    "            \n",
    "            metrics = {\n",
    "                \"device\": {\n",
    "                    \"memory_info\": memory_info.strip(),\n",
    "                    \"cpu_usage\": 0.0 # CPU usage is not directly available from shell command\n",
    "                },\n",
    "                \"host\": {\n",
    "                    \"memory_percent\": host_memory.percent,\n",
    "                    \"memory_available\": host_memory.available,\n",
    "                    \"cpu_percent\": host_cpu\n",
    "                }\n",
    "            }\n",
    "            \n",
    "            self.performance_metrics = metrics\n",
    "            return metrics\n",
    "            \n",
    "        except Exception as e:\n",
    "            log.error(f\"Failed to get resource usage: {e}\")\n",
    "            return {}\n",
    "    \n",
    "    async def _get_cpu_usage(self) -> float:\n",
    "        if not self.device:\n",
    "            return 0.0\n",
    "        \n",
    "        try:"
   ]
  },
  {
   "cell_type": "markdown",
   "id": "072747d0",
   "metadata": {},
   "source": [
    "            # Get CPU usage from device"
   ]
  },
  {
   "cell_type": "code",
   "execution_count": null,
   "id": "cdd7275e",
   "metadata": {},
   "outputs": [],
   "source": [
    "            self.device.shell(\"cat /proc/stat | head -1\")"
   ]
  },
  {
   "cell_type": "markdown",
   "id": "fe0c059b",
   "metadata": {},
   "source": [
    "            # Basic CPU usage calculation (simplified)"
   ]
  },
  {
   "cell_type": "markdown",
   "id": "6a6d8fbf",
   "metadata": {},
   "source": [
    "Parse screen size from wm size output."
   ]
  },
  {
   "cell_type": "code",
   "execution_count": null,
   "id": "1e419946",
   "metadata": {},
   "outputs": [],
   "source": [
    "            return 0.0  # Placeholder for now\n",
    "            \n",
    "        except Exception as e:\n",
    "            log.debug(f\"Could not get CPU usage: {e}\")\n",
    "            return 0.0\n",
    "    \n",
    "    def _parse_screen_size(self, screen_info: str) -> tuple[int, int]:\n",
    "        try:"
   ]
  },
  {
   "cell_type": "markdown",
   "id": "db9889f0",
   "metadata": {},
   "source": [
    "            # Expected format: \"Physical size: 1080x2340\""
   ]
  },
  {
   "cell_type": "code",
   "execution_count": null,
   "id": "8f6e82f9",
   "metadata": {},
   "outputs": [],
   "source": [
    "            if \"Physical size:\" in screen_info:\n",
    "                size_part = screen_info.split(\"Physical size:\")[1].strip()\n",
    "                width, height = map(int, size_part.split('x'))\n",
    "                return (width, height)\n",
    "            else:"
   ]
  },
  {
   "cell_type": "markdown",
   "id": "9e18ed6a",
   "metadata": {},
   "source": [
    "                # Default fallback"
   ]
  },
  {
   "cell_type": "markdown",
   "id": "5741bbf8",
   "metadata": {},
   "source": [
    "Parse screen density from wm density output."
   ]
  },
  {
   "cell_type": "code",
   "execution_count": null,
   "id": "3018cc7a",
   "metadata": {},
   "outputs": [],
   "source": [
    "                return (1080, 2340)\n",
    "        except Exception:\n",
    "            return (1080, 2340)\n",
    "    \n",
    "    def _parse_screen_density(self, density_info: str) -> int:\n",
    "        try:"
   ]
  },
  {
   "cell_type": "markdown",
   "id": "7e119805",
   "metadata": {},
   "source": [
    "            # Expected format: \"Physical density: 440\""
   ]
  },
  {
   "cell_type": "markdown",
   "id": "1853d349",
   "metadata": {},
   "source": [
    "Parse available memory from meminfo output."
   ]
  },
  {
   "cell_type": "code",
   "execution_count": null,
   "id": "2299cb05",
   "metadata": {},
   "outputs": [],
   "source": [
    "            if \"Physical density:\" in density_info:\n",
    "                density_part = density_info.split(\"Physical density:\")[1].strip()\n",
    "                return int(density_part)\n",
    "            else:\n",
    "                return 440  # Default fallback\n",
    "        except Exception:\n",
    "            return 440\n",
    "    \n",
    "    def _parse_memory_info(self, memory_info: str) -> int:\n",
    "        try:"
   ]
  },
  {
   "cell_type": "markdown",
   "id": "dc46a196",
   "metadata": {},
   "source": [
    "            # Expected format: \"MemAvailable:    2048000 kB\""
   ]
  },
  {
   "cell_type": "markdown",
   "id": "83f09fea",
   "metadata": {},
   "source": [
    "Disconnect from device and cleanup."
   ]
  },
  {
   "cell_type": "markdown",
   "id": "f44af5b3",
   "metadata": {},
   "source": [
    "Check if device is connected."
   ]
  },
  {
   "cell_type": "markdown",
   "id": "dd9afd80",
   "metadata": {},
   "source": [
    "Get device information."
   ]
  },
  {
   "cell_type": "markdown",
   "id": "53e1c1ee",
   "metadata": {},
   "source": [
    "Get the package name of the currently foreground app.\n",
    "        \n",
    "        Returns:\n",
    "            str | None: Package name of foreground app, or None if not found"
   ]
  },
  {
   "cell_type": "code",
   "execution_count": null,
   "id": "42dc2a21",
   "metadata": {},
   "outputs": [],
   "source": [
    "            if \"MemAvailable:\" in memory_info:\n",
    "                mem_part = memory_info.split(\"MemAvailable:\")[1].strip()\n",
    "                mem_kb = int(mem_part.split()[0])\n",
    "                return mem_kb // 1024  # Convert to MB\n",
    "            else:\n",
    "                return 2048  # Default fallback\n",
    "        except Exception:\n",
    "            return 2048\n",
    "    \n",
    "    async def disconnect(self) -> None:\n",
    "        if self._is_connected:\n",
    "            log.info(\"Disconnecting from device...\")\n",
    "            self.device = None\n",
    "            self.device_info = None\n",
    "            self._is_connected = False\n",
    "            log.success(\"Device disconnected\")\n",
    "    \n",
    "    def is_connected(self) -> bool:\n",
    "        return self._is_connected\n",
    "    \n",
    "    def get_device_info(self) -> Optional[DeviceInfo]:\n",
    "        return self.device_info\n",
    "    \n",
    "    async def get_foreground_package(self) -> str | None:\n",
    "        if not self._is_connected or not self.device:\n",
    "            return None\n",
    "        \n",
    "        try:"
   ]
  },
  {
   "cell_type": "markdown",
   "id": "d60ea79e",
   "metadata": {},
   "source": [
    "            # Use dumpsys to get the top resumed activity"
   ]
  },
  {
   "cell_type": "code",
   "execution_count": null,
   "id": "f2da3f91",
   "metadata": {},
   "outputs": [],
   "source": [
    "            result = self.device.shell(\"dumpsys activity activities | grep topResumedActivity\")\n",
    "            \n",
    "            if result:"
   ]
  },
  {
   "cell_type": "markdown",
   "id": "1ca944ee",
   "metadata": {},
   "source": [
    "                # Parse the output to extract package name\n",
    "                # Example output: \"topResumedActivity: ActivityRecord{... packageName=com.example.app ...}\""
   ]
  },
  {
   "cell_type": "code",
   "execution_count": null,
   "id": "24783ea5",
   "metadata": {},
   "outputs": [],
   "source": [
    "                if \"packageName=\" in result:\n",
    "                    package_start = result.find(\"packageName=\") + 12\n",
    "                    package_end = result.find(\" \", package_start)\n",
    "                    if package_end == -1:\n",
    "                        package_end = result.find(\"}\", package_start)\n",
    "                    \n",
    "                    if package_end > package_start:\n",
    "                        package_name = result[package_start:package_end]"
   ]
  },
  {
   "cell_type": "markdown",
   "id": "69b87ea1",
   "metadata": {},
   "source": [
    "                        # Extract component name as well (Class)"
   ]
  },
  {
   "cell_type": "code",
   "execution_count": null,
   "id": "ea47c334",
   "metadata": {},
   "outputs": [],
   "source": [
    "                        if '/' in result:\n",
    "                            comp_start = result.find(\"/\") - len(package_name)\n",
    "                            if comp_start >= 0:\n",
    "                                comp_end = result.find(\" \", comp_start)\n",
    "                                self._last_activity = result[comp_start + len(package_name)+1:comp_end]\n",
    "                        return package_name\n",
    "            "
   ]
  },
  {
   "cell_type": "markdown",
   "id": "f8ec144d",
   "metadata": {},
   "source": [
    "            # Fallback: try a different approach"
   ]
  },
  {
   "cell_type": "code",
   "execution_count": null,
   "id": "7616499d",
   "metadata": {},
   "outputs": [],
   "source": [
    "            result = self.device.shell(\"dumpsys window windows | grep -E 'mCurrentFocus|mFocusedApp'\")\n",
    "            \n",
    "            if result:"
   ]
  },
  {
   "cell_type": "markdown",
   "id": "46883915",
   "metadata": {},
   "source": [
    "                # Look for package name in the output"
   ]
  },
  {
   "cell_type": "code",
   "execution_count": null,
   "id": "5e7be5cf",
   "metadata": {},
   "outputs": [],
   "source": [
    "                lines = result.split('\\n')\n",
    "                for line in lines:\n",
    "                    if \"packageName=\" in line:\n",
    "                        package_start = line.find(\"packageName=\") + 12\n",
    "                        package_end = line.find(\" \", package_start)\n",
    "                        if package_end == -1:\n",
    "                            package_end = line.find(\"}\", package_start)\n",
    "                        \n",
    "                        if package_end > package_start:\n",
    "                            package_name = line[package_start:package_end]"
   ]
  },
  {
   "cell_type": "markdown",
   "id": "e5907ee6",
   "metadata": {},
   "source": [
    "                            # Update last activity if possible"
   ]
  },
  {
   "cell_type": "markdown",
   "id": "1afb7fc7",
   "metadata": {},
   "source": [
    "Return last known activity for given package."
   ]
  },
  {
   "cell_type": "markdown",
   "id": "9dca2ff1",
   "metadata": {},
   "source": [
    "Validate that the target app is running and in foreground.\n",
    "        \n",
    "        Args:\n",
    "            target_package: Package name of the target app.\n",
    "            \n",
    "        Returns:\n",
    "            dict: App state validation result with status and reason."
   ]
  },
  {
   "cell_type": "code",
   "execution_count": null,
   "id": "88dc5e99",
   "metadata": {},
   "outputs": [],
   "source": [
    "                            if '/' in line:\n",
    "                                seg = line.strip().split()[-1]\n",
    "                                if '/' in seg:\n",
    "                                    self._last_activity = seg.split('/')[-1]\n",
    "                            return package_name\n",
    "            \n",
    "            return None\n",
    "            \n",
    "        except Exception as e:\n",
    "            log.error(f\"Error getting foreground package: {e}\")\n",
    "            return None\n",
    "\n",
    "    def get_last_foreground_activity(self, package: str) -> str | None:\n",
    "        if self._last_activity and self.device_info and self.device_info.serial:\n",
    "            return f\"{package}/{self._last_activity}\"\n",
    "            return None\n",
    "\n",
    "    async def validate_app_state(self, target_package: str) -> dict[str, Any]:\n",
    "        if not self._is_connected or not self.device:\n",
    "            return {\n",
    "                \"is_valid\": False,\n",
    "                \"status\": \"device_not_connected\",\n",
    "                \"reason\": \"Device not connected\"\n",
    "            }\n",
    "        \n",
    "        try:"
   ]
  },
  {
   "cell_type": "markdown",
   "id": "e455133d",
   "metadata": {},
   "source": [
    "            # Check if app is running and in foreground using dumpsys activity activities"
   ]
  },
  {
   "cell_type": "code",
   "execution_count": null,
   "id": "4cd7063c",
   "metadata": {},
   "outputs": [],
   "source": [
    "            result = self.device.shell(\"dumpsys activity activities\")\n",
    "            "
   ]
  },
  {
   "cell_type": "markdown",
   "id": "9574c35a",
   "metadata": {},
   "source": [
    "            # Look for the app in the activity stack"
   ]
  },
  {
   "cell_type": "code",
   "execution_count": null,
   "id": "4f757c13",
   "metadata": {},
   "outputs": [],
   "source": [
    "            lines = result.split('\\n')\n",
    "            app_running = False\n",
    "            app_in_foreground = False\n",
    "            \n",
    "            for line in lines:"
   ]
  },
  {
   "cell_type": "markdown",
   "id": "eae88e49",
   "metadata": {},
   "source": [
    "                # Check if app is running (appears in activity stack)"
   ]
  },
  {
   "cell_type": "code",
   "execution_count": null,
   "id": "091f0a0b",
   "metadata": {},
   "outputs": [],
   "source": [
    "                if f\"packageName={target_package}\" in line:\n",
    "                    app_running = True\n",
    "                "
   ]
  },
  {
   "cell_type": "markdown",
   "id": "58c9b7ad",
   "metadata": {},
   "source": [
    "                # Check if app is in foreground (top resumed activity)"
   ]
  },
  {
   "cell_type": "code",
   "execution_count": null,
   "id": "df35e642",
   "metadata": {},
   "outputs": [],
   "source": [
    "                if \"topResumedActivity\" in line and target_package in line:\n",
    "                    app_in_foreground = True\n",
    "                "
   ]
  },
  {
   "cell_type": "markdown",
   "id": "be7f2c22",
   "metadata": {},
   "source": [
    "                # Also check for RESUMED state"
   ]
  },
  {
   "cell_type": "markdown",
   "id": "6e402827",
   "metadata": {},
   "source": [
    "Attempt to recover app state by bringing it to foreground.\n",
    "        \n",
    "        Args:\n",
    "            target_package: Package name of the target app.\n",
    "            \n",
    "        Returns:\n",
    "            bool: True if recovery successful, False otherwise."
   ]
  },
  {
   "cell_type": "code",
   "execution_count": null,
   "id": "4fbd0d13",
   "metadata": {},
   "outputs": [],
   "source": [
    "                if f\"packageName={target_package}\" in line and \"state=RESUMED\" in line:\n",
    "                    app_in_foreground = True\n",
    "            \n",
    "            if not app_running:\n",
    "                return {\n",
    "                    \"is_valid\": False,\n",
    "                    \"status\": \"app_not_running\",\n",
    "                    \"reason\": f\"App {target_package} is not running\"\n",
    "                }\n",
    "            \n",
    "            if not app_in_foreground:\n",
    "                return {\n",
    "                    \"is_valid\": False,\n",
    "                    \"status\": \"app_not_in_foreground\",\n",
    "                    \"reason\": f\"App {target_package} is not in foreground\"\n",
    "                }\n",
    "            \n",
    "            return {\n",
    "                \"is_valid\": True,\n",
    "                \"status\": \"app_running_and_foreground\",\n",
    "                \"reason\": \"App is running and in foreground\"\n",
    "            }\n",
    "            \n",
    "        except Exception as e:\n",
    "            log.error(f\"App state validation error: {e}\")\n",
    "            return {\n",
    "                \"is_valid\": False,\n",
    "                \"status\": \"validation_error\",\n",
    "                \"reason\": f\"Validation error: {str(e)}\"\n",
    "            }\n",
    "    \n",
    "    async def recover_app_state(self, target_package: str) -> bool:\n",
    "        if not self._is_connected or not self.device:\n",
    "            return False\n",
    "        \n",
    "        try:\n",
    "            log.info(f\"Attempting to recover app state for {target_package}\")\n",
    "            "
   ]
  },
  {
   "cell_type": "markdown",
   "id": "20291b75",
   "metadata": {},
   "source": [
    "            # Method 1: Use monkey to launch app"
   ]
  },
  {
   "cell_type": "code",
   "execution_count": null,
   "id": "28b7ae2a",
   "metadata": {},
   "outputs": [],
   "source": [
    "            try:\n",
    "                self.device.shell(f\"monkey -p {target_package} -c android.intent.category.LAUNCHER 1\")\n",
    "                await asyncio.sleep(1)\n",
    "                "
   ]
  },
  {
   "cell_type": "markdown",
   "id": "8823921d",
   "metadata": {},
   "source": [
    "                # Check if recovery was successful"
   ]
  },
  {
   "cell_type": "code",
   "execution_count": null,
   "id": "27ffa023",
   "metadata": {},
   "outputs": [],
   "source": [
    "                app_status = await self.validate_app_state(target_package)\n",
    "                if app_status[\"is_valid\"]:\n",
    "                    log.info(\"App state recovery successful with monkey\")\n",
    "                    return True\n",
    "            except Exception as e:\n",
    "                log.debug(f\"Monkey recovery failed: {e}\")\n",
    "            "
   ]
  },
  {
   "cell_type": "markdown",
   "id": "375b4c2f",
   "metadata": {},
   "source": [
    "            # Method 2: Use am start with launcher intent"
   ]
  },
  {
   "cell_type": "code",
   "execution_count": null,
   "id": "636f6f3d",
   "metadata": {},
   "outputs": [],
   "source": [
    "            try:\n",
    "                self.device.shell(f\"am start -W -a android.intent.action.MAIN -c android.intent.category.LAUNCHER -n {target_package}/.MainActivity\")\n",
    "                await asyncio.sleep(1)\n",
    "                "
   ]
  },
  {
   "cell_type": "markdown",
   "id": "39d3bb44",
   "metadata": {},
   "source": [
    "                # Check again"
   ]
  },
  {
   "cell_type": "code",
   "execution_count": null,
   "id": "3be790cd",
   "metadata": {},
   "outputs": [],
   "source": [
    "                app_status = await self.validate_app_state(target_package)\n",
    "                if app_status[\"is_valid\"]:\n",
    "                    log.info(\"App state recovery successful with am start\")\n",
    "                    return True\n",
    "            except Exception as e:\n",
    "                log.debug(f\"AM start recovery failed: {e}\")\n",
    "            "
   ]
  },
  {
   "cell_type": "markdown",
   "id": "533be4b0",
   "metadata": {},
   "source": [
    "            # Method 3: Try to find the correct activity name"
   ]
  },
  {
   "cell_type": "code",
   "execution_count": null,
   "id": "a710a4e8",
   "metadata": {},
   "outputs": [],
   "source": [
    "            try:\n",
    "                result = self.device.shell(f\"cmd package resolve-activity --brief {target_package}\")\n",
    "                \n",
    "                if result and \"activity\" in result:\n",
    "                    lines = result.strip().split('\\n')\n",
    "                    for line in lines:\n",
    "                        if target_package in line and \"activity\" in line:\n",
    "                            activity_name = line.split()[-1]\n",
    "                            log.info(f\"Found activity: {activity_name}\")\n",
    "                            \n",
    "                            self.device.shell(f\"am start -W -n {activity_name}\")\n",
    "                            await asyncio.sleep(1)\n",
    "                            \n",
    "                            app_status = await self.validate_app_state(target_package)\n",
    "                            if app_status[\"is_valid\"]:\n",
    "                                log.info(\"App state recovery successful with correct activity\")\n",
    "                                return True\n",
    "                            break\n",
    "            except Exception as e:\n",
    "                log.debug(f\"Activity discovery recovery failed: {e}\")\n",
    "            "
   ]
  },
  {
   "cell_type": "markdown",
   "id": "279ba89f",
   "metadata": {},
   "source": [
    "            # Method 4: Force stop and relaunch"
   ]
  },
  {
   "cell_type": "markdown",
   "id": "e69f592e",
   "metadata": {},
   "source": [
    "Set up a foreground service with persistent notification for the target app.\n",
    "        \n",
    "        This creates a foreground service that will help keep the app in the foreground\n",
    "        during automation by providing a persistent notification.\n",
    "        \n",
    "        Args:\n",
    "            target_package: Package name of the target app.\n",
    "            \n",
    "        Returns:\n",
    "            bool: True if foreground service setup successful, False otherwise."
   ]
  },
  {
   "cell_type": "code",
   "execution_count": null,
   "id": "58b04eb2",
   "metadata": {},
   "outputs": [],
   "source": [
    "            try:\n",
    "                log.info(\"Attempting force stop and relaunch...\")\n",
    "                self.device.shell(f\"am force-stop {target_package}\")\n",
    "                await asyncio.sleep(1)\n",
    "                \n",
    "                self.device.shell(f\"monkey -p {target_package} -c android.intent.category.LAUNCHER 1\")\n",
    "                await asyncio.sleep(2)\n",
    "                \n",
    "                app_status = await self.validate_app_state(target_package)\n",
    "                if app_status[\"is_valid\"]:\n",
    "                    log.info(\"App state recovery successful with force stop and relaunch\")\n",
    "                    return True\n",
    "            except Exception as e:\n",
    "                log.debug(f\"Force stop recovery failed: {e}\")\n",
    "            \n",
    "            log.warning(\"All app state recovery methods failed\")\n",
    "            return False\n",
    "            \n",
    "        except Exception as e:\n",
    "            log.error(f\"App state recovery error: {e}\")\n",
    "            return False\n",
    "\n",
    "    async def setup_foreground_service(self, target_package: str) -> bool:\n",
    "        if not self._is_connected or not self.device:\n",
    "            return False\n",
    "        \n",
    "        try:\n",
    "            log.info(f\"Setting up foreground service for {target_package}\")\n",
    "            "
   ]
  },
  {
   "cell_type": "markdown",
   "id": "d22d0c1d",
   "metadata": {},
   "source": [
    "            # Create a simple foreground service APK that can be installed"
   ]
  },
  {
   "cell_type": "code",
   "execution_count": null,
   "id": "b26b3fec",
   "metadata": {},
   "outputs": [],
   "source": [
    "            service_apk_path = await self._create_foreground_service_apk(target_package)\n",
    "            \n",
    "            if not service_apk_path:\n",
    "                log.error(\"Failed to create foreground service APK\")\n",
    "                return False\n",
    "            "
   ]
  },
  {
   "cell_type": "markdown",
   "id": "c2264165",
   "metadata": {},
   "source": [
    "            # Install the service APK"
   ]
  },
  {
   "cell_type": "code",
   "execution_count": null,
   "id": "d3b91a09",
   "metadata": {},
   "outputs": [],
   "source": [
    "            install_success = await self._install_foreground_service(service_apk_path)\n",
    "            \n",
    "            if not install_success:\n",
    "                log.error(\"Failed to install foreground service APK\")\n",
    "                return False\n",
    "            "
   ]
  },
  {
   "cell_type": "markdown",
   "id": "0b405d23",
   "metadata": {},
   "source": [
    "            # Start the foreground service"
   ]
  },
  {
   "cell_type": "markdown",
   "id": "f4d36a04",
   "metadata": {},
   "source": [
    "Create a simple foreground service APK for the target app.\n",
    "        \n",
    "        Args:\n",
    "            target_package: Package name of the target app.\n",
    "            \n",
    "        Returns:\n",
    "            str: Path to the created APK, or None if failed."
   ]
  },
  {
   "cell_type": "code",
   "execution_count": null,
   "id": "185f9044",
   "metadata": {},
   "outputs": [],
   "source": [
    "            service_started = await self._start_foreground_service(target_package)\n",
    "            \n",
    "            if service_started:\n",
    "                log.success(f\"Foreground service started for {target_package}\")\n",
    "                return True\n",
    "            else:\n",
    "                log.warning(\"Failed to start foreground service\")\n",
    "                return False\n",
    "                \n",
    "        except Exception as e:\n",
    "            log.error(f\"Foreground service setup error: {e}\")\n",
    "            return False\n",
    "\n",
    "    async def _create_foreground_service_apk(self, target_package: str) -> str | None:\n",
    "        try:"
   ]
  },
  {
   "cell_type": "markdown",
   "id": "c57865f8",
   "metadata": {},
   "source": [
    "            # Use the foreground service builder"
   ]
  },
  {
   "cell_type": "markdown",
   "id": "be490e95",
   "metadata": {},
   "source": [
    "Install the foreground service APK.\n",
    "        \n",
    "        Args:\n",
    "            apk_path: Path to the APK file.\n",
    "            \n",
    "        Returns:\n",
    "            bool: True if installation successful, False otherwise."
   ]
  },
  {
   "cell_type": "code",
   "execution_count": null,
   "id": "1ee91dfb",
   "metadata": {},
   "outputs": [],
   "source": [
    "            from .foreground_service_builder import get_foreground_service_builder\n",
    "            \n",
    "            builder = get_foreground_service_builder()\n",
    "            apk_path = await builder.create_foreground_service_apk(target_package)\n",
    "            \n",
    "            if apk_path:\n",
    "                log.info(f\"Created foreground service APK: {apk_path}\")\n",
    "                return apk_path\n",
    "            else:\n",
    "                log.warning(\"Foreground service APK creation failed, using shell-based approach\")\n",
    "                return None\n",
    "                \n",
    "        except Exception as e:\n",
    "            log.error(f\"Failed to create foreground service APK: {e}\")\n",
    "            return None\n",
    "\n",
    "    async def _install_foreground_service(self, apk_path: str) -> bool:\n",
    "        try:"
   ]
  },
  {
   "cell_type": "markdown",
   "id": "429740f6",
   "metadata": {},
   "source": [
    "            # For now, we'll use a simpler approach with shell commands\n",
    "            # In a full implementation, you'd build and install a proper APK"
   ]
  },
  {
   "cell_type": "markdown",
   "id": "7579794d",
   "metadata": {},
   "source": [
    "Start the foreground service using shell commands.\n",
    "        \n",
    "        Args:\n",
    "            target_package: Package name of the target app.\n",
    "            \n",
    "        Returns:\n",
    "            bool: True if service started successfully, False otherwise."
   ]
  },
  {
   "cell_type": "code",
   "execution_count": null,
   "id": "95f42c10",
   "metadata": {},
   "outputs": [],
   "source": [
    "            \n",
    "            log.info(\"Foreground service APK installation skipped (using shell-based approach)\")\n",
    "            return True\n",
    "            \n",
    "        except Exception as e:\n",
    "            log.error(f\"Failed to install foreground service APK: {e}\")\n",
    "            return False\n",
    "\n",
    "    async def _start_foreground_service(self, target_package: str) -> bool:\n",
    "        if not self.device:\n",
    "            return False\n",
    "            \n",
    "        try:"
   ]
  },
  {
   "cell_type": "markdown",
   "id": "686cf175",
   "metadata": {},
   "source": [
    "            # Use shell commands to create a persistent notification\n",
    "            # This is a simplified approach - in practice, you'd need a proper foreground service"
   ]
  },
  {
   "cell_type": "code",
   "execution_count": null,
   "id": "94956a00",
   "metadata": {},
   "outputs": [],
   "source": [
    "            "
   ]
  },
  {
   "cell_type": "markdown",
   "id": "42354dda",
   "metadata": {},
   "source": [
    "            # Try to create a notification channel (may fail if already exists)"
   ]
  },
  {
   "cell_type": "code",
   "execution_count": null,
   "id": "3ad6cde9",
   "metadata": {},
   "outputs": [],
   "source": [
    "            try:\n",
    "                self.device.shell(\"cmd notification create-channel --package com.android.settings --channel-id droidbot_automation --name 'DroidBot Automation' --description 'Keeps app in foreground during automation' --importance 3\")\n",
    "            except Exception:\n",
    "                log.debug(\"Notification channel creation failed (may already exist)\")\n",
    "            "
   ]
  },
  {
   "cell_type": "markdown",
   "id": "bcb8a038",
   "metadata": {},
   "source": [
    "            # Create a persistent notification using a simpler approach"
   ]
  },
  {
   "cell_type": "code",
   "execution_count": null,
   "id": "2d69db83",
   "metadata": {},
   "outputs": [],
   "source": [
    "            try:"
   ]
  },
  {
   "cell_type": "markdown",
   "id": "40ee8cb6",
   "metadata": {},
   "source": [
    "                # Use a more compatible notification command"
   ]
  },
  {
   "cell_type": "code",
   "execution_count": null,
   "id": "e1d1aa27",
   "metadata": {},
   "outputs": [],
   "source": [
    "                notification_cmd = f\"cmd notification post --package {target_package} --channel-id droidbot_automation --id 1001 --title 'DroidBot Automation' --text 'Keeping app in foreground for automation'\"\n",
    "                self.device.shell(notification_cmd)\n",
    "                await asyncio.sleep(1)\n",
    "                "
   ]
  },
  {
   "cell_type": "markdown",
   "id": "b52656f4",
   "metadata": {},
   "source": [
    "                # Verify notification was created"
   ]
  },
  {
   "cell_type": "code",
   "execution_count": null,
   "id": "e1f17e98",
   "metadata": {},
   "outputs": [],
   "source": [
    "                notifications = self.device.shell(\"cmd notification list\")\n",
    "                if \"DroidBot Automation\" in notifications or \"1001\" in notifications:\n",
    "                    log.info(\"Foreground notification created successfully\")\n",
    "                    return True\n",
    "                else:\n",
    "                    log.warning(\"Failed to create foreground notification\")\n",
    "                    return False\n",
    "                    \n",
    "            except Exception as e:\n",
    "                log.debug(f\"Notification creation failed: {e}\")"
   ]
  },
  {
   "cell_type": "markdown",
   "id": "90841a35",
   "metadata": {},
   "source": [
    "                # Fallback: just return True since the main goal is app state validation"
   ]
  },
  {
   "cell_type": "markdown",
   "id": "7bc8197d",
   "metadata": {},
   "source": [
    "Stop the foreground service and remove the persistent notification.\n",
    "        \n",
    "        Args:\n",
    "            target_package: Package name of the target app.\n",
    "            \n",
    "        Returns:\n",
    "            bool: True if service stopped successfully, False otherwise."
   ]
  },
  {
   "cell_type": "code",
   "execution_count": null,
   "id": "78661977",
   "metadata": {},
   "outputs": [],
   "source": [
    "                log.info(\"Using fallback foreground service approach\")\n",
    "                return True\n",
    "                \n",
    "        except Exception as e:\n",
    "            log.error(f\"Failed to start foreground service: {e}\")\n",
    "            return False\n",
    "\n",
    "    async def stop_foreground_service(self, target_package: str) -> bool:\n",
    "        if not self._is_connected or not self.device:\n",
    "            return False\n",
    "        \n",
    "        try:\n",
    "            log.info(f\"Stopping foreground service for {target_package}\")\n",
    "            "
   ]
  },
  {
   "cell_type": "markdown",
   "id": "7fb35056",
   "metadata": {},
   "source": [
    "            # Remove the persistent notification"
   ]
  },
  {
   "cell_type": "code",
   "execution_count": null,
   "id": "ad5611f8",
   "metadata": {},
   "outputs": [],
   "source": [
    "            if self.device:\n",
    "                try:\n",
    "                    self.device.shell(f\"cmd notification remove --package {target_package} --id 1001\")\n",
    "                except Exception as e:\n",
    "                    log.debug(f\"Notification removal failed: {e}\")\n",
    "                \n",
    "                try:"
   ]
  },
  {
   "cell_type": "markdown",
   "id": "77d588e8",
   "metadata": {},
   "source": [
    "                    # Clear any remaining notifications"
   ]
  },
  {
   "cell_type": "markdown",
   "id": "29457a08",
   "metadata": {},
   "source": [
    "Check if the foreground service is running for the target app.\n",
    "        \n",
    "        Args:\n",
    "            target_package: Package name of the target app.\n",
    "            \n",
    "        Returns:\n",
    "            bool: True if foreground service is running, False otherwise."
   ]
  },
  {
   "cell_type": "code",
   "execution_count": null,
   "id": "23d32b0a",
   "metadata": {},
   "outputs": [],
   "source": [
    "                    self.device.shell(\"cmd notification clear\")\n",
    "                except Exception as e:\n",
    "                    log.debug(f\"Notification clear failed: {e}\")\n",
    "            \n",
    "            log.success(\"Foreground service stopped successfully\")\n",
    "            return True\n",
    "            \n",
    "        except Exception as e:\n",
    "            log.error(f\"Failed to stop foreground service: {e}\")\n",
    "            return False\n",
    "\n",
    "    async def is_foreground_service_running(self, target_package: str) -> bool:\n",
    "        if not self._is_connected or not self.device:\n",
    "            return False\n",
    "        \n",
    "        try:"
   ]
  },
  {
   "cell_type": "markdown",
   "id": "4aa29d44",
   "metadata": {},
   "source": [
    "            # Check if our notification exists"
   ]
  },
  {
   "cell_type": "markdown",
   "id": "50ae5a00",
   "metadata": {},
   "source": [
    "Input text using clipboard operations.\n",
    "        \n",
    "        Args:\n",
    "            text: Text to input.\n",
    "            \n",
    "        Returns:\n",
    "            bool: True if successful, False otherwise."
   ]
  },
  {
   "cell_type": "code",
   "execution_count": null,
   "id": "1bcc9533",
   "metadata": {},
   "outputs": [],
   "source": [
    "            if self.device:\n",
    "                notifications = self.device.shell(\"cmd notification list\")\n",
    "                return \"DroidBot Automation\" in notifications\n",
    "            return False\n",
    "            \n",
    "        except Exception as e:\n",
    "            log.error(f\"Failed to check foreground service status: {e}\")\n",
    "            return False \n",
    "\n",
    "    async def _input_text_via_clipboard(self, text: str) -> bool:"
   ]
  },
  {
   "cell_type": "markdown",
   "id": "d1d4a924",
   "metadata": {},
   "source": [
    "        # Try multiple clipboard methods for maximum compatibility"
   ]
  },
  {
   "cell_type": "code",
   "execution_count": null,
   "id": "8d6cc477",
   "metadata": {},
   "outputs": [],
   "source": [
    "        "
   ]
  },
  {
   "cell_type": "markdown",
   "id": "54894029",
   "metadata": {},
   "source": [
    "        # Method 1: Use Android's built-in clipboard manager (Android 10+)"
   ]
  },
  {
   "cell_type": "code",
   "execution_count": null,
   "id": "35dfb8df",
   "metadata": {},
   "outputs": [],
   "source": [
    "        if await self._try_clipboard_method_1(text):\n",
    "            return True\n",
    "        "
   ]
  },
  {
   "cell_type": "markdown",
   "id": "55f51af6",
   "metadata": {},
   "source": [
    "        # Method 2: Use am broadcast with clipper.set (requires Clipper app)"
   ]
  },
  {
   "cell_type": "code",
   "execution_count": null,
   "id": "9044622f",
   "metadata": {},
   "outputs": [],
   "source": [
    "        if await self._try_clipboard_method_2(text):\n",
    "            return True\n",
    "        "
   ]
  },
  {
   "cell_type": "markdown",
   "id": "eaadb5cf",
   "metadata": {},
   "source": [
    "        # Method 3: Use service call for clipboard (Android 11+)"
   ]
  },
  {
   "cell_type": "code",
   "execution_count": null,
   "id": "b09c0b2a",
   "metadata": {},
   "outputs": [],
   "source": [
    "        if await self._try_clipboard_method_3(text):\n",
    "            return True\n",
    "        "
   ]
  },
  {
   "cell_type": "markdown",
   "id": "d8c8a416",
   "metadata": {},
   "source": [
    "        # Method 4: Use input text with proper escaping (fallback)"
   ]
  },
  {
   "cell_type": "markdown",
   "id": "fc391115",
   "metadata": {},
   "source": [
    "Method 1: Use Android's built-in clipboard manager."
   ]
  },
  {
   "cell_type": "code",
   "execution_count": null,
   "id": "d48a35c7",
   "metadata": {},
   "outputs": [],
   "source": [
    "        return await self._try_clipboard_method_4(text)\n",
    "\n",
    "    async def _try_clipboard_method_1(self, text: str) -> bool:\n",
    "        try:"
   ]
  },
  {
   "cell_type": "markdown",
   "id": "c89fcdce",
   "metadata": {},
   "source": [
    "            # Use service call to set clipboard content"
   ]
  },
  {
   "cell_type": "code",
   "execution_count": null,
   "id": "a7e668d6",
   "metadata": {},
   "outputs": [],
   "source": [
    "            escaped_text = text.replace(\"'\", \"\\\\'\").replace('\"', '\\\\\"')\n",
    "            "
   ]
  },
  {
   "cell_type": "markdown",
   "id": "e4ea3da3",
   "metadata": {},
   "source": [
    "            # Set clipboard using service call (Android 10+)"
   ]
  },
  {
   "cell_type": "code",
   "execution_count": null,
   "id": "78132500",
   "metadata": {},
   "outputs": [],
   "source": [
    "            clipboard_cmd = f\"service call clipboard 1 s16 '{escaped_text}'\"\n",
    "            self.device.shell(clipboard_cmd)\n",
    "            await asyncio.sleep(0.3)\n",
    "            "
   ]
  },
  {
   "cell_type": "markdown",
   "id": "601fd782",
   "metadata": {},
   "source": [
    "            # Paste using Ctrl+V equivalent"
   ]
  },
  {
   "cell_type": "markdown",
   "id": "1b6be5e3",
   "metadata": {},
   "source": [
    "Method 2: Use am broadcast with clipper.set."
   ]
  },
  {
   "cell_type": "code",
   "execution_count": null,
   "id": "67dfa4fd",
   "metadata": {},
   "outputs": [],
   "source": [
    "            self.device.shell(\"input keyevent 279\")  # KEYCODE_PASTE\n",
    "            await asyncio.sleep(0.3)\n",
    "            \n",
    "            return True\n",
    "            \n",
    "        except Exception as e:\n",
    "            log.debug(f\"Clipboard method 1 failed: {e}\")\n",
    "            return False\n",
    "\n",
    "    async def _try_clipboard_method_2(self, text: str) -> bool:\n",
    "        try:\n",
    "            escaped_text = text.replace(\"'\", \"\\\\'\").replace('\"', '\\\\\"')\n",
    "            "
   ]
  },
  {
   "cell_type": "markdown",
   "id": "595f8bb1",
   "metadata": {},
   "source": [
    "            # Set clipboard content using am broadcast"
   ]
  },
  {
   "cell_type": "code",
   "execution_count": null,
   "id": "ab427ec6",
   "metadata": {},
   "outputs": [],
   "source": [
    "            clipboard_cmd = f\"am broadcast -a clipper.set -e text '{escaped_text}'\"\n",
    "            self.device.shell(clipboard_cmd)\n",
    "            await asyncio.sleep(0.2)\n",
    "            "
   ]
  },
  {
   "cell_type": "markdown",
   "id": "d824f0b6",
   "metadata": {},
   "source": [
    "            # Paste the content (Ctrl+V equivalent)"
   ]
  },
  {
   "cell_type": "markdown",
   "id": "87b8fbff",
   "metadata": {},
   "source": [
    "Method 3: Use service call for clipboard (Android 11+)."
   ]
  },
  {
   "cell_type": "code",
   "execution_count": null,
   "id": "70d190ba",
   "metadata": {},
   "outputs": [],
   "source": [
    "            self.device.shell(\"input keyevent 279\")  # KEYCODE_PASTE\n",
    "            await asyncio.sleep(0.3)\n",
    "            \n",
    "            return True\n",
    "            \n",
    "        except Exception as e:\n",
    "            log.debug(f\"Clipboard method 2 failed: {e}\")\n",
    "            return False\n",
    "\n",
    "    async def _try_clipboard_method_3(self, text: str) -> bool:\n",
    "        try:\n",
    "            escaped_text = text.replace(\"'\", \"\\\\'\").replace('\"', '\\\\\"')\n",
    "            "
   ]
  },
  {
   "cell_type": "markdown",
   "id": "286488bb",
   "metadata": {},
   "source": [
    "            # Alternative service call method"
   ]
  },
  {
   "cell_type": "code",
   "execution_count": null,
   "id": "c0a236eb",
   "metadata": {},
   "outputs": [],
   "source": [
    "            clipboard_cmd = f\"service call clipboard 2 s16 '{escaped_text}'\"\n",
    "            self.device.shell(clipboard_cmd)\n",
    "            await asyncio.sleep(0.3)\n",
    "            "
   ]
  },
  {
   "cell_type": "markdown",
   "id": "057e65d4",
   "metadata": {},
   "source": [
    "            # Paste using Ctrl+V equivalent"
   ]
  },
  {
   "cell_type": "markdown",
   "id": "e33ef54f",
   "metadata": {},
   "source": [
    "Method 4: Use input text with proper escaping (fallback)."
   ]
  },
  {
   "cell_type": "code",
   "execution_count": null,
   "id": "20a507fd",
   "metadata": {},
   "outputs": [],
   "source": [
    "            self.device.shell(\"input keyevent 279\")  # KEYCODE_PASTE\n",
    "            await asyncio.sleep(0.3)\n",
    "            \n",
    "            return True\n",
    "            \n",
    "        except Exception as e:\n",
    "            log.debug(f\"Clipboard method 3 failed: {e}\")\n",
    "            return False\n",
    "\n",
    "    async def _try_clipboard_method_4(self, text: str) -> bool:\n",
    "        try:"
   ]
  },
  {
   "cell_type": "markdown",
   "id": "d67cfa81",
   "metadata": {},
   "source": [
    "            # Use the enhanced keyboard input method"
   ]
  },
  {
   "cell_type": "markdown",
   "id": "4a0ecd8a",
   "metadata": {},
   "source": [
    "Fallback method: Input text using keyboard typing.\n",
    "        \n",
    "        Args:\n",
    "            text: Text to input.\n",
    "            \n",
    "        Returns:\n",
    "            bool: True if successful, False otherwise."
   ]
  },
  {
   "cell_type": "code",
   "execution_count": null,
   "id": "ede427eb",
   "metadata": {},
   "outputs": [],
   "source": [
    "            return await self._input_text_via_keyboard(text)\n",
    "            \n",
    "        except Exception as e:\n",
    "            log.debug(f\"Clipboard method 4 failed: {e}\")\n",
    "            return False\n",
    "\n",
    "    async def _input_text_via_keyboard(self, text: str) -> bool:\n",
    "        try:"
   ]
  },
  {
   "cell_type": "markdown",
   "id": "f46c2f9f",
   "metadata": {},
   "source": [
    "            # Escape special characters for ADB input"
   ]
  },
  {
   "cell_type": "code",
   "execution_count": null,
   "id": "3e601131",
   "metadata": {},
   "outputs": [],
   "source": [
    "            escaped_text = text.replace(\" \", \"%s\").replace(\"&\", \"\\\\&\").replace(\"'\", \"\\\\'\")\n",
    "            "
   ]
  },
  {
   "cell_type": "markdown",
   "id": "df7bc449",
   "metadata": {},
   "source": [
    "            # Input the text using keyboard"
   ]
  },
  {
   "cell_type": "code",
   "execution_count": null,
   "id": "e50a377d",
   "metadata": {},
   "outputs": [],
   "source": [
    "            self.device.shell(f\"input text \\\"{escaped_text}\\\"\")\n",
    "            await asyncio.sleep(0.5)\n",
    "            \n",
    "            return True\n",
    "            \n",
    "        except Exception as e:\n",
    "            log.error(f\"Keyboard input failed: {e}\")\n",
    "            return False "
   ]
  }
 ],
 "metadata": {
  "kernelspec": {
   "display_name": "Python 3",
   "language": "python",
   "name": "python3"
  },
  "language_info": {
   "codemirror_mode": {
    "name": "ipython",
    "version": 3
   },
   "file_extension": ".py",
   "mimetype": "text/x-python",
   "name": "python",
   "nbconvert_exporter": "python",
   "pygments_lexer": "ipython3",
   "version": "3.10.0"
  }
 },
 "nbformat": 4,
 "nbformat_minor": 5
}
