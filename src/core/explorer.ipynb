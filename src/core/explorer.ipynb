{
 "cells": [
  {
   "cell_type": "markdown",
   "id": "8465d1aa",
   "metadata": {},
   "source": [
    "Explorer: thin alias module.\n",
    "\n",
    "This module provides the *Explorer* class by re-exporting the existing\n",
    "``DroidBotGPT`` implementation.  It lets us migrate imports from\n",
    "``core.explorer_gpt`` to ``core.explorer`` without touching the 1,000-line\n",
    "implementation file yet.  A full class rename can follow later if desired."
   ]
  },
  {
   "cell_type": "code",
   "execution_count": null,
   "id": "a29a7df1",
   "metadata": {},
   "outputs": [],
   "source": [
    "\n",
    "from __future__ import annotations\n",
    "\n",
    "from .explorer_gpt import DroidBotGPT as Explorer  # noqa: F401\n",
    "\n",
    "__all__: list[str] = [\"Explorer\"] "
   ]
  }
 ],
 "metadata": {
  "kernelspec": {
   "display_name": "Python 3",
   "language": "python",
   "name": "python3"
  },
  "language_info": {
   "codemirror_mode": {
    "name": "ipython",
    "version": 3
   },
   "file_extension": ".py",
   "mimetype": "text/x-python",
   "name": "python",
   "nbconvert_exporter": "python",
   "pygments_lexer": "ipython3",
   "version": "3.10.0"
  }
 },
 "nbformat": 4,
 "nbformat_minor": 5
}
