{
 "cells": [
  {
   "cell_type": "markdown",
   "id": "8aed4fba",
   "metadata": {},
   "source": [
    "Enhanced serialize device state into a deterministic compact string for LLM prompts with improved element detection."
   ]
  },
  {
   "cell_type": "markdown",
   "id": "5191e5b8",
   "metadata": {},
   "source": [
    "Sort helper - top-to-bottom, left-to-right."
   ]
  },
  {
   "cell_type": "markdown",
   "id": "cb3d4323",
   "metadata": {},
   "source": [
    "Classify element type based on text content and element properties."
   ]
  },
  {
   "cell_type": "code",
   "execution_count": null,
   "id": "118b5d96",
   "metadata": {},
   "outputs": [],
   "source": [
    "\n",
    "from __future__ import annotations\n",
    "\n",
    "from typing import Any\n",
    "\n",
    "from src.vision.models import UIElement  # type: ignore\n",
    "\n",
    "__all__ = [\"serialize_state\"]\n",
    "\n",
    "\n",
    "def _sort_elements_reading_order(e: UIElement) -> tuple[int, int]:\n",
    "    return e.bbox.top, e.bbox.left\n",
    "\n",
    "\n",
    "def _classify_element_type(element: UIElement) -> str:\n",
    "    text_lower = element.text.lower()\n",
    "    "
   ]
  },
  {
   "cell_type": "markdown",
   "id": "1d93e1c2",
   "metadata": {},
   "source": [
    "    # Button detection"
   ]
  },
  {
   "cell_type": "code",
   "execution_count": null,
   "id": "9b853e4b",
   "metadata": {},
   "outputs": [],
   "source": [
    "    button_keywords = [\n",
    "        \"button\", \"tap\", \"click\", \"press\", \"select\", \"choose\", \"continue\", \"next\",\n",
    "        \"submit\", \"save\", \"confirm\", \"ok\", \"yes\", \"no\", \"cancel\", \"back\", \"login\",\n",
    "        \"sign in\", \"register\", \"sign up\", \"search\", \"menu\", \"settings\", \"profile\",\n",
    "        \"cart\", \"checkout\", \"order\", \"add\", \"remove\", \"edit\", \"delete\", \"close\"\n",
    "    ]\n",
    "    "
   ]
  },
  {
   "cell_type": "markdown",
   "id": "e91c1b55",
   "metadata": {},
   "source": [
    "    # Input field detection"
   ]
  },
  {
   "cell_type": "code",
   "execution_count": null,
   "id": "1ae43718",
   "metadata": {},
   "outputs": [],
   "source": [
    "    input_keywords = [\n",
    "        \"email\", \"password\", \"username\", \"name\", \"phone\", \"address\", \"search\",\n",
    "        \"query\", \"input\", \"field\", \"text\", \"enter\", \"type\", \"fill\", \"write\"\n",
    "    ]\n",
    "    "
   ]
  },
  {
   "cell_type": "markdown",
   "id": "9dc5b993",
   "metadata": {},
   "source": [
    "    # Navigation detection"
   ]
  },
  {
   "cell_type": "code",
   "execution_count": null,
   "id": "b591db8a",
   "metadata": {},
   "outputs": [],
   "source": [
    "    nav_keywords = [\n",
    "        \"back\", \"forward\", \"home\", \"menu\", \"settings\", \"profile\", \"help\",\n",
    "        \"tab\", \"page\", \"section\", \"navigation\"\n",
    "    ]\n",
    "    "
   ]
  },
  {
   "cell_type": "markdown",
   "id": "4bfd9bb2",
   "metadata": {},
   "source": [
    "    # Content detection"
   ]
  },
  {
   "cell_type": "code",
   "execution_count": null,
   "id": "db26fb27",
   "metadata": {},
   "outputs": [],
   "source": [
    "    content_keywords = [\n",
    "        \"title\", \"header\", \"label\", \"description\", \"text\", \"info\", \"message\",\n",
    "        \"status\", \"loading\", \"error\", \"success\", \"complete\"\n",
    "    ]\n",
    "    "
   ]
  },
  {
   "cell_type": "markdown",
   "id": "2d7a8a1f",
   "metadata": {},
   "source": [
    "    # Check element type from vision engine"
   ]
  },
  {
   "cell_type": "code",
   "execution_count": null,
   "id": "abc790da",
   "metadata": {},
   "outputs": [],
   "source": [
    "    if element.element_type in [\"button\", \"colored_button\"]:\n",
    "        return \"BUTTON\"\n",
    "    elif element.element_type == \"input\":\n",
    "        return \"INPUT\"\n",
    "    "
   ]
  },
  {
   "cell_type": "markdown",
   "id": "4799ae7d",
   "metadata": {},
   "source": [
    "    # Classify based on text content"
   ]
  },
  {
   "cell_type": "markdown",
   "id": "4d5d0e72",
   "metadata": {},
   "source": [
    "Convert confidence score to descriptive level."
   ]
  },
  {
   "cell_type": "markdown",
   "id": "635520da",
   "metadata": {},
   "source": [
    "Analyze spatial relationships between elements."
   ]
  },
  {
   "cell_type": "code",
   "execution_count": null,
   "id": "1f058854",
   "metadata": {},
   "outputs": [],
   "source": [
    "    if any(keyword in text_lower for keyword in button_keywords):\n",
    "        return \"BUTTON\"\n",
    "    elif any(keyword in text_lower for keyword in input_keywords):\n",
    "        return \"INPUT\"\n",
    "    elif any(keyword in text_lower for keyword in nav_keywords):\n",
    "        return \"NAVIGATION\"\n",
    "    elif any(keyword in text_lower for keyword in content_keywords):\n",
    "        return \"CONTENT\"\n",
    "    else:\n",
    "        return \"UNKNOWN\"\n",
    "\n",
    "\n",
    "def _get_element_confidence_level(confidence: float) -> str:\n",
    "    if confidence >= 0.9:\n",
    "        return \"VERY_HIGH\"\n",
    "    elif confidence >= 0.7:\n",
    "        return \"HIGH\"\n",
    "    elif confidence >= 0.5:\n",
    "        return \"MEDIUM\"\n",
    "    elif confidence >= 0.3:\n",
    "        return \"LOW\"\n",
    "    else:\n",
    "        return \"VERY_LOW\"\n",
    "\n",
    "\n",
    "def _analyze_element_relationships(elements: list[UIElement]) -> dict[str, Any]:\n",
    "    relationships = {\n",
    "        \"form_groups\": [],\n",
    "        \"navigation_groups\": [],\n",
    "        \"button_groups\": [],\n",
    "        \"input_sequences\": []\n",
    "    }\n",
    "    "
   ]
  },
  {
   "cell_type": "markdown",
   "id": "825de61c",
   "metadata": {},
   "source": [
    "    # Group elements by proximity and type"
   ]
  },
  {
   "cell_type": "code",
   "execution_count": null,
   "id": "77cc2bf4",
   "metadata": {},
   "outputs": [],
   "source": [
    "    for i, element in enumerate(elements):\n",
    "        x1, y1, x2, y2 = element.bbox.as_tuple()\n",
    "        center_x = (x1 + x2) / 2\n",
    "        center_y = (y1 + y2) / 2\n",
    "        "
   ]
  },
  {
   "cell_type": "markdown",
   "id": "43c191c9",
   "metadata": {},
   "source": [
    "        # Find nearby elements"
   ]
  },
  {
   "cell_type": "code",
   "execution_count": null,
   "id": "102a3f54",
   "metadata": {},
   "outputs": [],
   "source": [
    "        nearby = []\n",
    "        for j, other in enumerate(elements):\n",
    "            if i != j:\n",
    "                ox1, oy1, ox2, oy2 = other.bbox.as_tuple()\n",
    "                ocenter_x = (ox1 + ox2) / 2\n",
    "                ocenter_y = (oy1 + oy2) / 2\n",
    "                "
   ]
  },
  {
   "cell_type": "markdown",
   "id": "b4773b81",
   "metadata": {},
   "source": [
    "                # Calculate distance"
   ]
  },
  {
   "cell_type": "code",
   "execution_count": null,
   "id": "7606249d",
   "metadata": {},
   "outputs": [],
   "source": [
    "                distance = ((center_x - ocenter_x) ** 2 + (center_y - ocenter_y) ** 2) ** 0.5\n",
    "                if distance < 100:  # Within 100 pixels\n",
    "                    nearby.append((j, distance, other))\n",
    "        "
   ]
  },
  {
   "cell_type": "markdown",
   "id": "9c4859ff",
   "metadata": {},
   "source": [
    "        # Analyze relationships"
   ]
  },
  {
   "cell_type": "code",
   "execution_count": null,
   "id": "bdfa6ed1",
   "metadata": {},
   "outputs": [],
   "source": [
    "        if _classify_element_type(element) == \"INPUT\":"
   ]
  },
  {
   "cell_type": "markdown",
   "id": "401c9a30",
   "metadata": {},
   "source": [
    "            # Look for labels above or to the left"
   ]
  },
  {
   "cell_type": "code",
   "execution_count": null,
   "id": "6701e8f5",
   "metadata": {},
   "outputs": [],
   "source": [
    "            for _, _, other in nearby:\n",
    "                if _classify_element_type(other) == \"CONTENT\":\n",
    "                    relationships[\"form_groups\"].append({\n",
    "                        \"input\": element.text,\n",
    "                        \"label\": other.text,\n",
    "                        \"distance\": distance\n",
    "                    })\n",
    "        \n",
    "        elif _classify_element_type(element) == \"BUTTON\":"
   ]
  },
  {
   "cell_type": "markdown",
   "id": "aaf24d89",
   "metadata": {},
   "source": [
    "            # Look for button groups"
   ]
  },
  {
   "cell_type": "markdown",
   "id": "a31c0093",
   "metadata": {},
   "source": [
    "Return deterministic multi-line string describing current device state with enhanced element detection.\n",
    "\n",
    "    Args:\n",
    "        state: Dict produced by DroidBotGPT._capture_current_state().\n",
    "        task_description: Current high-level task.\n",
    "        action_history: List of string descriptions of previous actions.\n",
    "        max_elements: Trim UI element list for prompt budget.\n",
    "        include_relationships: Whether to include element relationship analysis.\n"
   ]
  },
  {
   "cell_type": "code",
   "execution_count": null,
   "id": "ac2b814f",
   "metadata": {},
   "outputs": [],
   "source": [
    "            button_group = [element.text]\n",
    "            for _, _, other in nearby:\n",
    "                if _classify_element_type(other) == \"BUTTON\":\n",
    "                    button_group.append(other.text)\n",
    "            if len(button_group) > 1:\n",
    "                relationships[\"button_groups\"].append(button_group)\n",
    "    \n",
    "    return relationships\n",
    "\n",
    "\n",
    "def serialize_state(\n",
    "    state: dict[str, Any],\n",
    "    task_description: str,\n",
    "    action_history: list[str],\n",
    "    *,\n",
    "    max_elements: int = 25,\n",
    "    include_relationships: bool = True,\n",
    ") -> str:\n",
    "    device_info = state.get(\"device_info\")\n",
    "    if device_info is None:\n",
    "        raise ValueError(\"state missing device_info\")\n",
    "\n",
    "    elements: list[UIElement] = state.get(\"ui_elements\", [])  # type: ignore[assignment]\n",
    "    elements_sorted = sorted(elements, key=_sort_elements_reading_order)[:max_elements]\n",
    "\n",
    "    lines: list[str] = []\n",
    "    lines.append(\n",
    "        f\"Device: {device_info.model} - Android {device_info.android_version} \"\n",
    "        f\"(API {device_info.api_level})\"\n",
    "    )\n",
    "    w, h = device_info.screen_size\n",
    "    lines.append(f\"Screen: {w}x{h} px, density {device_info.screen_density}\")\n",
    "    lines.append(f'Task: \"{task_description}\"')\n",
    "    lines.append(\"\")\n",
    "    "
   ]
  },
  {
   "cell_type": "markdown",
   "id": "3b93fbf7",
   "metadata": {},
   "source": [
    "    # Enhanced element analysis"
   ]
  },
  {
   "cell_type": "code",
   "execution_count": null,
   "id": "5c827af1",
   "metadata": {},
   "outputs": [],
   "source": [
    "    lines.append(\"UI ELEMENT ANALYSIS\")\n",
    "    lines.append(\"===================\")\n",
    "    "
   ]
  },
  {
   "cell_type": "markdown",
   "id": "2d5a03a3",
   "metadata": {},
   "source": [
    "    # Element relationships"
   ]
  },
  {
   "cell_type": "code",
   "execution_count": null,
   "id": "e8b9959b",
   "metadata": {},
   "outputs": [],
   "source": [
    "    if include_relationships and elements_sorted:\n",
    "        relationships = _analyze_element_relationships(elements_sorted)\n",
    "        if relationships[\"form_groups\"]:\n",
    "            lines.append(\"FORM GROUPS:\")\n",
    "            for group in relationships[\"form_groups\"][:3]:  # Limit to 3\n",
    "                lines.append(f\"  - {group['label']} → {group['input']}\")\n",
    "            lines.append(\"\")\n",
    "        \n",
    "        if relationships[\"button_groups\"]:\n",
    "            lines.append(\"BUTTON GROUPS:\")\n",
    "            for group in relationships[\"button_groups\"][:3]:  # Limit to 3\n",
    "                lines.append(f\"  - {' | '.join(group)}\")\n",
    "            lines.append(\"\")\n",
    "    "
   ]
  },
  {
   "cell_type": "markdown",
   "id": "87b74416",
   "metadata": {},
   "source": [
    "    # Detailed element listing"
   ]
  },
  {
   "cell_type": "code",
   "execution_count": null,
   "id": "533b0f96",
   "metadata": {},
   "outputs": [],
   "source": [
    "    lines.append(\"DETECTED ELEMENTS:\")\n",
    "    lines.append(\"------------------\")\n",
    "    \n",
    "    interactive_count = 0\n",
    "    input_count = 0\n",
    "    button_count = 0\n",
    "    \n",
    "    for idx, el in enumerate(elements_sorted, 1):\n",
    "        x1, y1, x2, y2 = el.bbox.as_tuple()\n",
    "        element_type = _classify_element_type(el)\n",
    "        confidence_level = _get_element_confidence_level(el.confidence)\n",
    "        "
   ]
  },
  {
   "cell_type": "markdown",
   "id": "3a8fc9f1",
   "metadata": {},
   "source": [
    "        # Count element types"
   ]
  },
  {
   "cell_type": "code",
   "execution_count": null,
   "id": "281d85ef",
   "metadata": {},
   "outputs": [],
   "source": [
    "        if element_type == \"INPUT\":\n",
    "            input_count += 1\n",
    "        elif element_type == \"BUTTON\":\n",
    "            button_count += 1\n",
    "        \n",
    "        if element_type in [\"BUTTON\", \"INPUT\", \"NAVIGATION\"]:\n",
    "            interactive_count += 1\n",
    "        \n",
    "        element_desc = (\n",
    "            f\"- [{idx}] \\\"{el.text}\\\" \"\n",
    "            f\"(type={element_type}, vision_type={el.element_type}, \"\n",
    "            f\"confidence={confidence_level}, bbox=({x1},{y1},{x2},{y2}))\"\n",
    "        )\n",
    "        lines.append(element_desc)\n",
    "    "
   ]
  },
  {
   "cell_type": "markdown",
   "id": "015d650f",
   "metadata": {},
   "source": [
    "    # Summary statistics"
   ]
  },
  {
   "cell_type": "code",
   "execution_count": null,
   "id": "561206db",
   "metadata": {},
   "outputs": [],
   "source": [
    "    lines.append(\"\")\n",
    "    lines.append(\"ELEMENT SUMMARY:\")\n",
    "    lines.append(\"----------------\")\n",
    "    lines.append(f\"Total elements: {len(elements_sorted)}\")\n",
    "    lines.append(f\"Interactive elements: {interactive_count}\")\n",
    "    lines.append(f\"Input fields: {input_count}\")\n",
    "    lines.append(f\"Buttons: {button_count}\")\n",
    "    lines.append(f\"Content elements: {len(elements_sorted) - interactive_count}\")\n",
    "    "
   ]
  },
  {
   "cell_type": "markdown",
   "id": "51d01857",
   "metadata": {},
   "source": [
    "    # Screen context analysis"
   ]
  },
  {
   "cell_type": "code",
   "execution_count": null,
   "id": "243a412e",
   "metadata": {},
   "outputs": [],
   "source": [
    "    lines.append(\"\")\n",
    "    lines.append(\"SCREEN CONTEXT:\")\n",
    "    lines.append(\"---------------\")\n",
    "    "
   ]
  },
  {
   "cell_type": "markdown",
   "id": "a443f922",
   "metadata": {},
   "source": [
    "    # Analyze screen type based on element distribution"
   ]
  },
  {
   "cell_type": "code",
   "execution_count": null,
   "id": "b0ba5934",
   "metadata": {},
   "outputs": [],
   "source": [
    "    if input_count > 2:\n",
    "        lines.append(\"Screen type: FORM/INPUT (multiple input fields detected)\")\n",
    "    elif button_count > 3:\n",
    "        lines.append(\"Screen type: NAVIGATION/MENU (multiple buttons detected)\")\n",
    "    elif interactive_count == 0:\n",
    "        lines.append(\"Screen type: CONTENT/READING (no interactive elements)\")\n",
    "    else:\n",
    "        lines.append(\"Screen type: MIXED (combination of elements)\")\n",
    "    "
   ]
  },
  {
   "cell_type": "markdown",
   "id": "3a2ab62e",
   "metadata": {},
   "source": [
    "    # Detect potential actions"
   ]
  },
  {
   "cell_type": "code",
   "execution_count": null,
   "id": "49e854c2",
   "metadata": {},
   "outputs": [],
   "source": [
    "    if input_count > 0:\n",
    "        lines.append(\"Potential actions: Fill forms, enter data\")\n",
    "    if button_count > 0:\n",
    "        lines.append(\"Potential actions: Navigate, submit, confirm\")\n",
    "    \n",
    "    lines.append(\"\")\n",
    "    lines.append(\"Action history (last 5)\")\n",
    "    lines.append(\"-----------------------\")\n",
    "    for act in action_history[-5:]:\n",
    "        lines.append(f\"- {act}\")\n",
    "\n",
    "    return \"\\n\".join(lines) "
   ]
  }
 ],
 "metadata": {
  "kernelspec": {
   "display_name": "Python 3",
   "language": "python",
   "name": "python3"
  },
  "language_info": {
   "codemirror_mode": {
    "name": "ipython",
    "version": 3
   },
   "file_extension": ".py",
   "mimetype": "text/x-python",
   "name": "python",
   "nbconvert_exporter": "python",
   "pygments_lexer": "ipython3",
   "version": "3.10.0"
  }
 },
 "nbformat": 4,
 "nbformat_minor": 5
}
