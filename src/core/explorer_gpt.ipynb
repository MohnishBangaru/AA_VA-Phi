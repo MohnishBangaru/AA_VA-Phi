{
 "cells": [
  {
   "cell_type": "markdown",
   "id": "72833546",
   "metadata": {},
   "source": [
    "Main DroidBot-GPT framework class - central orchestrator for intelligent Android automation."
   ]
  },
  {
   "cell_type": "code",
   "execution_count": null,
   "id": "9a16e849",
   "metadata": {},
   "outputs": [],
   "source": [
    "\n",
    "from __future__ import annotations\n",
    "\n",
    "import asyncio\n",
    "import os\n",
    "import time\n",
    "from collections.abc import AsyncIterator\n",
    "from contextlib import asynccontextmanager\n"
   ]
  },
  {
   "cell_type": "markdown",
   "id": "ac4216aa",
   "metadata": {},
   "source": [
    "# Standard library"
   ]
  },
  {
   "cell_type": "code",
   "execution_count": null,
   "id": "7b7015c5",
   "metadata": {},
   "outputs": [],
   "source": [
    "from typing import TYPE_CHECKING, Any, cast\n"
   ]
  },
  {
   "cell_type": "markdown",
   "id": "52b72af8",
   "metadata": {},
   "source": [
    "# Import VisionEngine only for type checking to avoid heavy runtime dependency"
   ]
  },
  {
   "cell_type": "markdown",
   "id": "749b3b33",
   "metadata": {},
   "source": [
    "Main DroidBot-GPT framework class.\n",
    "    \n",
    "    This class serves as the central orchestrator for intelligent Android automation,\n",
    "    coordinating between device management, AI decision-making, computer vision,\n",
    "    and automation execution with element exploration tracking."
   ]
  },
  {
   "cell_type": "markdown",
   "id": "c6a330b2",
   "metadata": {},
   "source": [
    "Initialize a new DroidBotGPT session."
   ]
  },
  {
   "cell_type": "code",
   "execution_count": null,
   "id": "b3555c82",
   "metadata": {},
   "outputs": [],
   "source": [
    "if TYPE_CHECKING:\n",
    "    from src.vision.engine import VisionEngine\n",
    "\n",
    "from ..core.device_manager import EnhancedDeviceManager\n",
    "from ..core.element_tracker import get_element_tracker\n",
    "from ..core.state_tracker import get_state_tracker\n",
    "from ..core.app_recovery import get_app_recovery_manager\n",
    "from ..core.app_foreground_recovery import get_app_foreground_recovery_manager\n",
    "from ..core.logger import log\n",
    "\n",
    "\n",
    "class DroidBotGPT:\n",
    "    \n",
    "    def __init__(self) -> None:\n",
    "        self.device_manager = EnhancedDeviceManager()\n",
    "        self.element_tracker = get_element_tracker()\n",
    "        self.state_tracker = get_state_tracker()\n",
    "        self.app_recovery_manager = get_app_recovery_manager(self.device_manager)\n",
    "        self.app_foreground_recovery_manager = get_app_foreground_recovery_manager(self.device_manager)\n",
    "        self.session_id = self._generate_session_id()\n",
    "        self.task_history: list[dict[str, Any]] = []\n",
    "        self.current_task: dict[str, Any] | None = None\n",
    "        self.is_running = False"
   ]
  },
  {
   "cell_type": "markdown",
   "id": "c0d71b6f",
   "metadata": {},
   "source": [
    "        # Vision engine is created lazily; keep forward reference for typing (no runtime import)."
   ]
  },
  {
   "cell_type": "markdown",
   "id": "862e22b1",
   "metadata": {},
   "source": [
    "Generate unique session ID."
   ]
  },
  {
   "cell_type": "markdown",
   "id": "7e5884e6",
   "metadata": {},
   "source": [
    "Create necessary directories for the session."
   ]
  },
  {
   "cell_type": "code",
   "execution_count": null,
   "id": "bdabc7cd",
   "metadata": {},
   "outputs": [],
   "source": [
    "        self._vision_engine: VisionEngine | None = None\n",
    "        self._setup_directories()\n",
    "        \n",
    "        log.info(f\"DroidBot-GPT initialized with session ID: {self.session_id}\")\n",
    "    \n",
    "    def _generate_session_id(self) -> str:\n",
    "        return f\"session_{int(time.time())}\"\n",
    "    \n",
    "    def _setup_directories(self) -> None:\n",
    "        try:"
   ]
  },
  {
   "cell_type": "markdown",
   "id": "cf4350a9",
   "metadata": {},
   "source": [
    "            # Create session directory"
   ]
  },
  {
   "cell_type": "code",
   "execution_count": null,
   "id": "12e8c9a3",
   "metadata": {},
   "outputs": [],
   "source": [
    "            session_dir = os.path.join(\"sessions\", self.session_id)\n",
    "            os.makedirs(session_dir, exist_ok=True)\n",
    "            "
   ]
  },
  {
   "cell_type": "markdown",
   "id": "e94b8b74",
   "metadata": {},
   "source": [
    "            # Create subdirectories"
   ]
  },
  {
   "cell_type": "markdown",
   "id": "3e56a544",
   "metadata": {},
   "source": [
    "Connect to Android device or emulator.\n",
    "        \n",
    "        Args:\n",
    "            device_serial: Optional device serial number.\n",
    "            \n",
    "        Returns:\n",
    "            bool: True if connection successful.\n"
   ]
  },
  {
   "cell_type": "code",
   "execution_count": null,
   "id": "2d517324",
   "metadata": {},
   "outputs": [],
   "source": [
    "            for subdir in [\"screenshots\", \"logs\", \"actions\", \"analysis\"]:\n",
    "                os.makedirs(os.path.join(session_dir, subdir), exist_ok=True)\n",
    "            \n",
    "            log.info(f\"Session directories created: {session_dir}\")\n",
    "            \n",
    "        except Exception as e:\n",
    "            log.error(f\"Failed to create session directories: {e}\")\n",
    "            raise\n",
    "    \n",
    "    async def connect_device(self, device_serial: str | None = None) -> bool:\n",
    "        try:\n",
    "            log.info(\"Connecting to Android device...\")\n",
    "            success = await self.device_manager.connect_device(device_serial)\n",
    "            \n",
    "            if success:\n",
    "                device_info = self.device_manager.get_device_info()\n",
    "                if device_info:\n",
    "                    log.success(\n",
    "                        f\"Connected to {device_info.model} \"\n",
    "                        f\"(Android {device_info.android_version})\"\n",
    "                    )\n",
    "                    "
   ]
  },
  {
   "cell_type": "markdown",
   "id": "da3062d7",
   "metadata": {},
   "source": [
    "                    # Log device capabilities"
   ]
  },
  {
   "cell_type": "markdown",
   "id": "f12c362b",
   "metadata": {},
   "source": [
    "Perform intelligent automation based on natural language task description.\n",
    "        \n",
    "        Args:\n",
    "            task_description: Natural language description of the task.\n",
    "            max_steps: Maximum number of automation steps to perform.\n",
    "            target_package: Package name of the target app to automate (optional).\n",
    "            \n",
    "        Returns:\n",
    "            dict: Task execution results with metadata.\n"
   ]
  },
  {
   "cell_type": "code",
   "execution_count": null,
   "id": "d8a9bdd7",
   "metadata": {},
   "outputs": [],
   "source": [
    "                    res_w, res_h = device_info.screen_size\n",
    "                    log.info(f\"Screen resolution: {res_w}x{res_h}\")\n",
    "                    log.info(f\"Available memory: {device_info.available_memory}MB\")\n",
    "                    log.info(f\"Emulator: {device_info.is_emulator}\")\n",
    "                    \n",
    "                    return True\n",
    "                else:\n",
    "                    log.error(\"Failed to get device information\")\n",
    "                    return False\n",
    "            else:\n",
    "                log.error(\"Failed to connect to device\")\n",
    "                return False\n",
    "                \n",
    "        except Exception as e:\n",
    "            log.error(f\"Device connection failed: {e}\")\n",
    "            return False\n",
    "    \n",
    "    async def automate_task(self, task_description: str, max_steps: int = 50, target_package: str | None = None) -> dict[str, Any]:\n",
    "        if not self.device_manager.is_connected():\n",
    "            raise RuntimeError(\"Device not connected. Call connect_device() first.\")\n",
    "        \n",
    "        log.info(f\"Starting automation task: {task_description}\")\n",
    "        if target_package:\n",
    "            log.info(f\"Target app package: {target_package}\")\n",
    "        "
   ]
  },
  {
   "cell_type": "markdown",
   "id": "d3f3b759",
   "metadata": {},
   "source": [
    "        # Reset element exploration and state tracking for new task"
   ]
  },
  {
   "cell_type": "code",
   "execution_count": null,
   "id": "64557769",
   "metadata": {},
   "outputs": [],
   "source": [
    "        self.element_tracker.reset_exploration()\n",
    "        self.state_tracker.reset_state_tracking()\n",
    "        log.info(\"Element exploration and state tracking reset for new task\")\n",
    "        "
   ]
  },
  {
   "cell_type": "markdown",
   "id": "15933c2d",
   "metadata": {},
   "source": [
    "        # Initialize task"
   ]
  },
  {
   "cell_type": "code",
   "execution_count": null,
   "id": "6fd98bbb",
   "metadata": {},
   "outputs": [],
   "source": [
    "        task = {\n",
    "            \"id\": f\"task_{len(self.task_history) + 1}\",\n",
    "            \"description\": task_description,\n",
    "            \"start_time\": time.time(),\n",
    "            \"steps\": [],\n",
    "            \"status\": \"running\",\n",
    "            \"max_steps\": max_steps,\n",
    "            \"session_id\": self.session_id,\n",
    "            \"target_package\": target_package\n",
    "        }\n",
    "        \n",
    "        self.current_task = task\n",
    "        self.is_running = True\n",
    "        \n",
    "        try:"
   ]
  },
  {
   "cell_type": "markdown",
   "id": "1096538a",
   "metadata": {},
   "source": [
    "            # Set up foreground service for target app if specified"
   ]
  },
  {
   "cell_type": "code",
   "execution_count": null,
   "id": "d59a9163",
   "metadata": {},
   "outputs": [],
   "source": [
    "            if target_package:\n",
    "                log.info(f\"Setting up foreground service for {target_package}\")\n",
    "                foreground_service_setup = await self.setup_foreground_service(target_package)\n",
    "                if foreground_service_setup:\n",
    "                    log.success(\"Foreground service setup successful\")\n",
    "                else:\n",
    "                    log.warning(\"Foreground service setup failed, continuing with standard app state validation\")\n",
    "                "
   ]
  },
  {
   "cell_type": "markdown",
   "id": "9f6091fb",
   "metadata": {},
   "source": [
    "                # Start app recovery monitoring"
   ]
  },
  {
   "cell_type": "code",
   "execution_count": null,
   "id": "a39e0a15",
   "metadata": {},
   "outputs": [],
   "source": [
    "                log.info(f\"Starting app recovery monitoring for {target_package}\")\n",
    "                recovery_monitoring_started = await self.start_app_recovery_monitoring(target_package)\n",
    "                if recovery_monitoring_started:\n",
    "                    log.success(\"App recovery monitoring started successfully\")\n",
    "                else:\n",
    "                    log.warning(\"App recovery monitoring failed to start, continuing with standard monitoring\")\n",
    "                "
   ]
  },
  {
   "cell_type": "markdown",
   "id": "00e47190",
   "metadata": {},
   "source": [
    "                # Start app foreground recovery monitoring"
   ]
  },
  {
   "cell_type": "code",
   "execution_count": null,
   "id": "99ee0405",
   "metadata": {},
   "outputs": [],
   "source": [
    "                log.info(f\"Starting app foreground recovery monitoring for {target_package}\")\n",
    "                foreground_recovery_started = await self.app_foreground_recovery_manager.start_monitoring(target_package)\n",
    "                if foreground_recovery_started:\n",
    "                    log.success(\"App foreground recovery monitoring started successfully\")\n",
    "                else:\n",
    "                    log.warning(\"App foreground recovery monitoring failed to start, continuing with standard monitoring\")\n",
    "            "
   ]
  },
  {
   "cell_type": "markdown",
   "id": "92187e0c",
   "metadata": {},
   "source": [
    "            # Main automation loop"
   ]
  },
  {
   "cell_type": "code",
   "execution_count": null,
   "id": "7ab1c5b7",
   "metadata": {},
   "outputs": [],
   "source": [
    "            step_count = 0\n",
    "            while self.is_running and step_count < max_steps:\n",
    "                log.info(f\"Automation step {step_count + 1}/{max_steps}\")\n",
    "                "
   ]
  },
  {
   "cell_type": "markdown",
   "id": "1c0fd7ab",
   "metadata": {},
   "source": [
    "                # APP STATE VALIDATION: Check if target app is running and in foreground"
   ]
  },
  {
   "cell_type": "code",
   "execution_count": null,
   "id": "d632a3b3",
   "metadata": {},
   "outputs": [],
   "source": [
    "                if target_package:\n",
    "                    app_status = await self._validate_app_state(target_package)\n",
    "                    if not app_status[\"is_valid\"]:\n",
    "                        log.warning(f\"App state validation failed: {app_status['reason']}\")\n",
    "                        "
   ]
  },
  {
   "cell_type": "markdown",
   "id": "03c76826",
   "metadata": {},
   "source": [
    "                        # Try to recover app state"
   ]
  },
  {
   "cell_type": "code",
   "execution_count": null,
   "id": "229061d4",
   "metadata": {},
   "outputs": [],
   "source": [
    "                        recovery_success = await self._recover_app_state(target_package)\n",
    "                        if not recovery_success:\n",
    "                            log.error(\"Failed to recover app state. Stopping automation.\")\n",
    "                            task[\"status\"] = \"failed\"\n",
    "                            task[\"error\"] = f\"App state recovery failed: {app_status['reason']}\"\n",
    "                            break\n",
    "                        "
   ]
  },
  {
   "cell_type": "markdown",
   "id": "dabae43d",
   "metadata": {},
   "source": [
    "                        # Re-validate after recovery attempt"
   ]
  },
  {
   "cell_type": "code",
   "execution_count": null,
   "id": "7dff056f",
   "metadata": {},
   "outputs": [],
   "source": [
    "                        app_status = await self._validate_app_state(target_package)\n",
    "                        if not app_status[\"is_valid\"]:\n",
    "                            log.error(\"App state still invalid after recovery attempt. Stopping automation.\")\n",
    "                            task[\"status\"] = \"failed\"\n",
    "                            task[\"error\"] = f\"App state recovery failed: {app_status['reason']}\"\n",
    "                            break\n",
    "                    \n",
    "                    log.info(f\"App state validated: {app_status['status']}\")\n",
    "                "
   ]
  },
  {
   "cell_type": "markdown",
   "id": "66c54ac1",
   "metadata": {},
   "source": [
    "                # Capture current state"
   ]
  },
  {
   "cell_type": "code",
   "execution_count": null,
   "id": "6dd3aade",
   "metadata": {},
   "outputs": [],
   "source": [
    "                current_state = await self._capture_current_state()\n",
    "                "
   ]
  },
  {
   "cell_type": "markdown",
   "id": "7f29c745",
   "metadata": {},
   "source": [
    "                # Analyze state and determine next action"
   ]
  },
  {
   "cell_type": "code",
   "execution_count": null,
   "id": "318b9dda",
   "metadata": {},
   "outputs": [],
   "source": [
    "                next_action = await self._determine_next_action(current_state, task_description)\n",
    "                \n",
    "                if next_action is None:\n",
    "                    log.info(\"No more actions needed. Task appears complete.\")\n",
    "                    break\n",
    "                "
   ]
  },
  {
   "cell_type": "markdown",
   "id": "f059ff78",
   "metadata": {},
   "source": [
    "                # Execute action"
   ]
  },
  {
   "cell_type": "code",
   "execution_count": null,
   "id": "c8c02f2e",
   "metadata": {},
   "outputs": [],
   "source": [
    "                action_result = await self._execute_action(next_action)\n",
    "                "
   ]
  },
  {
   "cell_type": "markdown",
   "id": "f09c7b0c",
   "metadata": {},
   "source": [
    "                # Record step"
   ]
  },
  {
   "cell_type": "code",
   "execution_count": null,
   "id": "3e8e4c30",
   "metadata": {},
   "outputs": [],
   "source": [
    "                step = {\n",
    "                    \"step_number\": step_count + 1,\n",
    "                    \"action\": next_action,\n",
    "                    \"result\": action_result,\n",
    "                    \"timestamp\": time.time(),\n",
    "                    \"state\": current_state,\n",
    "                    \"app_status\": app_status if target_package else None\n",
    "                }\n",
    "                \n",
    "                cast(list[dict[str, Any]], task[\"steps\"]).append(step)\n",
    "                step_count += 1\n",
    "                "
   ]
  },
  {
   "cell_type": "markdown",
   "id": "58032c3b",
   "metadata": {},
   "source": [
    "                # Log exploration and state statistics"
   ]
  },
  {
   "cell_type": "code",
   "execution_count": null,
   "id": "9ddfe5a9",
   "metadata": {},
   "outputs": [],
   "source": [
    "                exploration_stats = self.element_tracker.get_exploration_stats()\n",
    "                state_stats = self.state_tracker.get_state_exploration_stats()\n",
    "                log.info(f\"Exploration stats: {exploration_stats['total_explored_elements']} explored, \"\n",
    "                        f\"{exploration_stats['recent_explorations']} recent\")\n",
    "                log.info(f\"State stats: {state_stats['total_visited_states']} visited states, \"\n",
    "                        f\"{state_stats['recent_state_visits']} recent visits\")\n",
    "                "
   ]
  },
  {
   "cell_type": "markdown",
   "id": "131df1d4",
   "metadata": {},
   "source": [
    "                # Brief pause between actions"
   ]
  },
  {
   "cell_type": "code",
   "execution_count": null,
   "id": "71ffdd11",
   "metadata": {},
   "outputs": [],
   "source": [
    "                await asyncio.sleep(1)\n",
    "                "
   ]
  },
  {
   "cell_type": "markdown",
   "id": "efa6b166",
   "metadata": {},
   "source": [
    "                # Check for completion conditions"
   ]
  },
  {
   "cell_type": "code",
   "execution_count": null,
   "id": "bf81174c",
   "metadata": {},
   "outputs": [],
   "source": [
    "                if await self._check_task_completion(task_description, current_state):\n",
    "                    log.success(\"Task completion detected!\")\n",
    "                    break\n",
    "            "
   ]
  },
  {
   "cell_type": "markdown",
   "id": "97a52fd4",
   "metadata": {},
   "source": [
    "            # Finalize task"
   ]
  },
  {
   "cell_type": "code",
   "execution_count": null,
   "id": "37462f32",
   "metadata": {},
   "outputs": [],
   "source": [
    "            task_end = time.time()\n",
    "            task_start = cast(float, task[\"start_time\"])\n",
    "            task_duration = task_end - task_start\n",
    "            task[\"end_time\"] = task_end\n",
    "            task[\"duration\"] = task_duration\n",
    "            task[\"status\"] = \"completed\" if step_count < max_steps else \"max_steps_reached\"\n",
    "            task[\"total_steps\"] = step_count\n",
    "            "
   ]
  },
  {
   "cell_type": "markdown",
   "id": "f3bd8e12",
   "metadata": {},
   "source": [
    "            # Clean up foreground service if it was set up"
   ]
  },
  {
   "cell_type": "code",
   "execution_count": null,
   "id": "fa16958c",
   "metadata": {},
   "outputs": [],
   "source": [
    "            if target_package:\n",
    "                log.info(f\"Cleaning up foreground service for {target_package}\")\n",
    "                await self.stop_foreground_service(target_package)\n",
    "                "
   ]
  },
  {
   "cell_type": "markdown",
   "id": "8c1ac769",
   "metadata": {},
   "source": [
    "                # Stop app foreground recovery monitoring"
   ]
  },
  {
   "cell_type": "code",
   "execution_count": null,
   "id": "762d39f5",
   "metadata": {},
   "outputs": [],
   "source": [
    "                log.info(f\"Stopping app foreground recovery monitoring for {target_package}\")\n",
    "                await self.app_foreground_recovery_manager.stop_monitoring()\n",
    "            "
   ]
  },
  {
   "cell_type": "markdown",
   "id": "abc20d98",
   "metadata": {},
   "source": [
    "            # Add exploration and state statistics to task results"
   ]
  },
  {
   "cell_type": "markdown",
   "id": "bcf994e1",
   "metadata": {},
   "source": [
    "Capture current device state including screenshot and UI elements."
   ]
  },
  {
   "cell_type": "code",
   "execution_count": null,
   "id": "ee584b89",
   "metadata": {},
   "outputs": [],
   "source": [
    "            final_exploration_stats = self.element_tracker.get_exploration_stats()\n",
    "            final_state_stats = self.state_tracker.get_state_exploration_stats()\n",
    "            task[\"exploration_stats\"] = final_exploration_stats\n",
    "            task[\"state_stats\"] = final_state_stats\n",
    "            \n",
    "            self.task_history.append(task)\n",
    "            self.current_task = None\n",
    "            self.is_running = False\n",
    "            \n",
    "            log.success(f\"Task completed in {task['duration']:.2f}s with {step_count} steps\")\n",
    "            log.info(f\"Final exploration stats: {final_exploration_stats['total_explored_elements']} elements explored\")\n",
    "            log.info(f\"Final state stats: {final_state_stats['total_visited_states']} states visited\")\n",
    "            \n",
    "            return task\n",
    "            \n",
    "        except Exception as e:\n",
    "            log.error(f\"Task automation failed: {e}\")\n",
    "            task[\"status\"] = \"failed\"\n",
    "            task[\"error\"] = str(e)\n",
    "            task[\"end_time\"] = time.time()\n",
    "            task[\"duration\"] = cast(float, task[\"end_time\"]) - cast(\n",
    "                    float, task[\"start_time\"]\n",
    "                )\n",
    "            \n",
    "            self.task_history.append(task)\n",
    "            self.current_task = None\n",
    "            self.is_running = False\n",
    "            \n",
    "            raise\n",
    "    \n",
    "    async def _capture_current_state(self) -> dict[str, Any]:\n",
    "        try:"
   ]
  },
  {
   "cell_type": "markdown",
   "id": "60bc8d60",
   "metadata": {},
   "source": [
    "            # Capture screenshot"
   ]
  },
  {
   "cell_type": "code",
   "execution_count": null,
   "id": "db8534d7",
   "metadata": {},
   "outputs": [],
   "source": [
    "            screenshot_path = await self.device_manager.capture_screenshot()\n",
    "            "
   ]
  },
  {
   "cell_type": "markdown",
   "id": "99c52fa6",
   "metadata": {},
   "source": [
    "            # Store screenshot path in current task for LLM analysis"
   ]
  },
  {
   "cell_type": "code",
   "execution_count": null,
   "id": "d8d36573",
   "metadata": {},
   "outputs": [],
   "source": [
    "            if self.current_task:\n",
    "                self.current_task[\"current_screenshot\"] = screenshot_path\n",
    "            "
   ]
  },
  {
   "cell_type": "markdown",
   "id": "5d1262fd",
   "metadata": {},
   "source": [
    "            # Get resource usage"
   ]
  },
  {
   "cell_type": "code",
   "execution_count": null,
   "id": "5ab6eb6b",
   "metadata": {},
   "outputs": [],
   "source": [
    "            resource_usage = await self.device_manager.get_resource_usage()\n",
    "            "
   ]
  },
  {
   "cell_type": "markdown",
   "id": "a83d86f6",
   "metadata": {},
   "source": [
    "            # Vision analysis (Phase 2)"
   ]
  },
  {
   "cell_type": "code",
   "execution_count": null,
   "id": "6b62db33",
   "metadata": {},
   "outputs": [],
   "source": [
    "            ui_elements: list[Any] = []  # default empty list\n",
    "            try:"
   ]
  },
  {
   "cell_type": "markdown",
   "id": "2aee07f5",
   "metadata": {},
   "source": [
    "                # Lazily create and cache VisionEngine to reuse its thread-pool"
   ]
  },
  {
   "cell_type": "markdown",
   "id": "afcb51ee",
   "metadata": {},
   "source": [
    "Determine the next action based on current state and task description using action prioritization."
   ]
  },
  {
   "cell_type": "code",
   "execution_count": null,
   "id": "7ac4368b",
   "metadata": {},
   "outputs": [],
   "source": [
    "                if self._vision_engine is None:\n",
    "                    from src.vision.engine import VisionEngine  # local import only once\n",
    "                    self._vision_engine = VisionEngine()\n",
    "                if self._vision_engine is not None:\n",
    "                    ui_elements = self._vision_engine.analyze(screenshot_path)\n",
    "            except Exception as e:  # pragma: no cover - vision errors shouldn't crash\n",
    "                log.warning(f\"Vision analysis failed: {e}\")\n",
    "\n",
    "            state = {\n",
    "                \"timestamp\": time.time(),\n",
    "                \"screenshot_path\": screenshot_path,\n",
    "                \"resource_usage\": resource_usage,\n",
    "                \"ui_elements\": ui_elements,\n",
    "                \"device_info\": self.device_manager.get_device_info()\n",
    "            }\n",
    "            \n",
    "            log.debug(f\"Captured device state: {screenshot_path}\")\n",
    "            return state\n",
    "            \n",
    "        except Exception as e:\n",
    "            log.error(f\"Failed to capture current state: {e}\")\n",
    "            return {\"error\": str(e)}\n",
    "    \n",
    "    async def _determine_next_action(\n",
    "        self,\n",
    "        current_state: dict[str, Any],\n",
    "        task_description: str,\n",
    "    ) -> dict[str, Any] | None:\n",
    "        if \"error\" in current_state:\n",
    "            return None\n",
    "\n",
    "        try:"
   ]
  },
  {
   "cell_type": "markdown",
   "id": "484c57d5",
   "metadata": {},
   "source": [
    "            # Get UI elements from current state"
   ]
  },
  {
   "cell_type": "code",
   "execution_count": null,
   "id": "3f2e4701",
   "metadata": {},
   "outputs": [],
   "source": [
    "            ui_elements_raw = current_state.get(\"ui_elements\", [])\n",
    "            device_info = current_state.get(\"device_info\", {})\n",
    "            vision_analysis = current_state.get(\"vision_analysis\", {})\n",
    "            "
   ]
  },
  {
   "cell_type": "markdown",
   "id": "b3e3989e",
   "metadata": {},
   "source": [
    "            # Convert UIElement objects to dictionaries for LLM analysis"
   ]
  },
  {
   "cell_type": "code",
   "execution_count": null,
   "id": "a1a2941d",
   "metadata": {},
   "outputs": [],
   "source": [
    "            ui_elements = []\n",
    "            for element in ui_elements_raw:\n",
    "                if hasattr(element, 'bbox') and hasattr(element, 'text'):"
   ]
  },
  {
   "cell_type": "markdown",
   "id": "64e5198d",
   "metadata": {},
   "source": [
    "                    # Convert UIElement to dictionary format"
   ]
  },
  {
   "cell_type": "code",
   "execution_count": null,
   "id": "9f5a6a50",
   "metadata": {},
   "outputs": [],
   "source": [
    "                    element_dict = {\n",
    "                        'text': element.text,\n",
    "                        'element_type': getattr(element, 'element_type', 'text'),\n",
    "                        'confidence': getattr(element, 'confidence', 0.0),\n",
    "                        'bounds': {\n",
    "                            'x': element.bbox.left,\n",
    "                            'y': element.bbox.top,\n",
    "                            'x2': element.bbox.right,\n",
    "                            'y2': element.bbox.bottom,\n",
    "                            'width': element.bbox.width(),\n",
    "                            'height': element.bbox.height()\n",
    "                        }\n",
    "                    }\n",
    "                    ui_elements.append(element_dict)\n",
    "                elif isinstance(element, dict):"
   ]
  },
  {
   "cell_type": "markdown",
   "id": "a3b11bbb",
   "metadata": {},
   "source": [
    "                    # Already a dictionary"
   ]
  },
  {
   "cell_type": "code",
   "execution_count": null,
   "id": "329a0694",
   "metadata": {},
   "outputs": [],
   "source": [
    "                    ui_elements.append(element)\n",
    "            "
   ]
  },
  {
   "cell_type": "markdown",
   "id": "599449f6",
   "metadata": {},
   "source": [
    "            # Get action history"
   ]
  },
  {
   "cell_type": "code",
   "execution_count": null,
   "id": "bd45e0a5",
   "metadata": {},
   "outputs": [],
   "source": [
    "            action_history = (\n",
    "                [step[\"action\"] for step in self.current_task.get(\"steps\", [])]\n",
    "                if self.current_task\n",
    "                else []\n",
    "            )\n",
    "            "
   ]
  },
  {
   "cell_type": "markdown",
   "id": "efebfe06",
   "metadata": {},
   "source": [
    "            # Get current app context for popup classification"
   ]
  },
  {
   "cell_type": "code",
   "execution_count": null,
   "id": "0edb8d57",
   "metadata": {},
   "outputs": [],
   "source": [
    "            app_context = self.current_task.get(\"target_package\", \"\") if self.current_task else \"\"\n",
    "            "
   ]
  },
  {
   "cell_type": "markdown",
   "id": "48693e34",
   "metadata": {},
   "source": [
    "            # Get LLM analysis for action prioritization"
   ]
  },
  {
   "cell_type": "code",
   "execution_count": null,
   "id": "621e214f",
   "metadata": {},
   "outputs": [],
   "source": [
    "            llm_analysis = await self._get_llm_analysis_for_prioritization(\n",
    "                ui_elements, task_description, action_history\n",
    "            )\n",
    "            "
   ]
  },
  {
   "cell_type": "markdown",
   "id": "73f14a0f",
   "metadata": {},
   "source": [
    "            # Use action prioritizer for optimal action selection"
   ]
  },
  {
   "cell_type": "code",
   "execution_count": null,
   "id": "11324974",
   "metadata": {},
   "outputs": [],
   "source": [
    "            from src.core.action_prioritizer import get_action_prioritizer\n",
    "            \n",
    "            prioritizer = get_action_prioritizer()\n",
    "            "
   ]
  },
  {
   "cell_type": "markdown",
   "id": "6a7fb7a4",
   "metadata": {},
   "source": [
    "            # Get current screenshot path for Phi Ground"
   ]
  },
  {
   "cell_type": "code",
   "execution_count": null,
   "id": "a29f85c3",
   "metadata": {},
   "outputs": [],
   "source": [
    "            screenshot_path = None\n",
    "            if self.current_task and \"current_screenshot\" in self.current_task:\n",
    "                screenshot_path = self.current_task[\"current_screenshot\"]\n",
    "            \n",
    "            optimal_action = prioritizer.get_optimal_action(\n",
    "                ui_elements=ui_elements,\n",
    "                llm_analysis=llm_analysis,\n",
    "                vision_analysis=vision_analysis,\n",
    "                task_description=task_description,\n",
    "                action_history=action_history,\n",
    "                screenshot_path=screenshot_path\n",
    "            )\n",
    "            \n",
    "            if optimal_action:"
   ]
  },
  {
   "cell_type": "markdown",
   "id": "f0af8dc6",
   "metadata": {},
   "source": [
    "                # Convert PrioritizedAction to action dict format"
   ]
  },
  {
   "cell_type": "markdown",
   "id": "2641cb8b",
   "metadata": {},
   "source": [
    "Execute the determined action."
   ]
  },
  {
   "cell_type": "code",
   "execution_count": null,
   "id": "2082f1c5",
   "metadata": {},
   "outputs": [],
   "source": [
    "                next_action = self._convert_prioritized_action_to_dict(optimal_action)\n",
    "                \n",
    "                log.info(f\"Selected optimal action: {next_action.get('type')} - {next_action.get('reasoning')}\")\n",
    "                log.info(f\"Action score: {optimal_action.score:.2f}\")\n",
    "                log.info(f\"LLM confidence: {optimal_action.llm_confidence:.2f}\")\n",
    "                log.info(f\"Vision confidence: {optimal_action.vision_confidence:.2f}\")\n",
    "                log.info(f\"Exploration bonus: {optimal_action.exploration_bonus:.2f}\")\n",
    "                \n",
    "                return next_action\n",
    "            else:\n",
    "                log.warning(\"No optimal action found\")\n",
    "                return {\n",
    "                    \"type\": \"wait\",\n",
    "                    \"duration\": 1.0,\n",
    "                    \"reasoning\": \"No suitable actions available\"\n",
    "                }\n",
    "            \n",
    "        except Exception as e:\n",
    "            log.error(f\"Action determination failed: {e}\")\n",
    "            return {\n",
    "                \"type\": \"wait\",\n",
    "                \"duration\": 1.0,\n",
    "                \"reasoning\": f\"Error in action determination: {str(e)}\"\n",
    "            }\n",
    "    \n",
    "    async def _execute_action(self, action: dict[str, Any]) -> dict[str, Any]:\n",
    "        try:\n",
    "            action_type = action.get(\"type\")\n",
    "            log.log_automation_step(f\"Executing action: {action_type}\", action)\n",
    "            "
   ]
  },
  {
   "cell_type": "markdown",
   "id": "c01c417e",
   "metadata": {},
   "source": [
    "            # Execute action through device manager"
   ]
  },
  {
   "cell_type": "code",
   "execution_count": null,
   "id": "4a95fb87",
   "metadata": {},
   "outputs": [],
   "source": [
    "            success = await self.device_manager.perform_action(action)\n",
    "            \n",
    "            result = {\n",
    "                \"success\": success,\n",
    "                \"action\": action,\n",
    "                \"timestamp\": time.time()\n",
    "            }\n",
    "            \n",
    "            if success:\n",
    "                log.success(f\"Action {action_type} executed successfully\")\n",
    "                "
   ]
  },
  {
   "cell_type": "markdown",
   "id": "534a6b8c",
   "metadata": {},
   "source": [
    "                # Check if this action was a navigation event that requires app recovery"
   ]
  },
  {
   "cell_type": "code",
   "execution_count": null,
   "id": "032a04ab",
   "metadata": {},
   "outputs": [],
   "source": [
    "                if self.current_task and self.current_task.get(\"target_package\"):\n",
    "                    target_package = self.current_task.get(\"target_package\")\n",
    "                    if target_package:"
   ]
  },
  {
   "cell_type": "markdown",
   "id": "7e33fb12",
   "metadata": {},
   "source": [
    "                        # Start foreground recovery monitoring if not already started"
   ]
  },
  {
   "cell_type": "code",
   "execution_count": null,
   "id": "81ea2a68",
   "metadata": {},
   "outputs": [],
   "source": [
    "                        if not self.app_foreground_recovery_manager.is_monitoring:\n",
    "                            await self.app_foreground_recovery_manager.start_monitoring(target_package)\n",
    "                        "
   ]
  },
  {
   "cell_type": "markdown",
   "id": "f120e151",
   "metadata": {},
   "source": [
    "                        # Check if we need to recover the app after this action"
   ]
  },
  {
   "cell_type": "markdown",
   "id": "a0bca8d1",
   "metadata": {},
   "source": [
    "Check if the task has been completed.\n",
    "        \n",
    "        TODO: This is a placeholder for Phase 3 (AI Integration).\n",
    "        For now, return False to continue automation."
   ]
  },
  {
   "cell_type": "code",
   "execution_count": null,
   "id": "f0f538f4",
   "metadata": {},
   "outputs": [],
   "source": [
    "                        app_in_foreground = await self.app_foreground_recovery_manager.ensure_app_foreground_after_action(action)\n",
    "                        \n",
    "                        if not app_in_foreground:\n",
    "                            log.warning(\"App left foreground after action, recovery may be needed\")\n",
    "                            result[\"app_recovery_needed\"] = True\n",
    "                        else:\n",
    "                            result[\"app_recovery_needed\"] = False\n",
    "            else:\n",
    "                log.warning(f\"Action {action_type} may have failed\")\n",
    "            \n",
    "            return result\n",
    "            \n",
    "        except Exception as e:\n",
    "            log.error(f\"Action execution failed: {e}\")\n",
    "            return {\n",
    "                \"success\": False,\n",
    "                \"action\": action,\n",
    "                \"error\": str(e),\n",
    "                \"timestamp\": time.time()\n",
    "            }\n",
    "    \n",
    "    async def _check_task_completion(\n",
    "        self,\n",
    "        task_description: str,\n",
    "        current_state: dict[str, Any],\n",
    "    ) -> bool:"
   ]
  },
  {
   "cell_type": "markdown",
   "id": "578cff92",
   "metadata": {},
   "source": [
    "        # Placeholder implementation\n",
    "        # In Phase 3, this will use AI to determine if the task is complete"
   ]
  },
  {
   "cell_type": "markdown",
   "id": "43411ee4",
   "metadata": {},
   "source": [
    "Validate that the target app is running and in foreground.\n",
    "        \n",
    "        Args:\n",
    "            target_package: Package name of the target app.\n",
    "            \n",
    "        Returns:\n",
    "            dict: App state validation result with status and reason."
   ]
  },
  {
   "cell_type": "markdown",
   "id": "3b64f4a6",
   "metadata": {},
   "source": [
    "Attempt to recover app state by bringing it to foreground.\n",
    "        \n",
    "        Args:\n",
    "            target_package: Package name of the target app.\n",
    "            \n",
    "        Returns:\n",
    "            bool: True if recovery successful, False otherwise."
   ]
  },
  {
   "cell_type": "markdown",
   "id": "ca368318",
   "metadata": {},
   "source": [
    "Set up a foreground service with persistent notification for the target app.\n",
    "        \n",
    "        This creates a foreground service that will help keep the app in the foreground\n",
    "        during automation by providing a persistent notification.\n",
    "        \n",
    "        Args:\n",
    "            target_package: Package name of the target app.\n",
    "            \n",
    "        Returns:\n",
    "            bool: True if foreground service setup successful, False otherwise."
   ]
  },
  {
   "cell_type": "markdown",
   "id": "d0024631",
   "metadata": {},
   "source": [
    "Stop the foreground service and remove the persistent notification.\n",
    "        \n",
    "        Args:\n",
    "            target_package: Package name of the target app.\n",
    "            \n",
    "        Returns:\n",
    "            bool: True if service stopped successfully, False otherwise."
   ]
  },
  {
   "cell_type": "markdown",
   "id": "c61e489f",
   "metadata": {},
   "source": [
    "Check if the foreground service is running for the target app.\n",
    "        \n",
    "        Args:\n",
    "            target_package: Package name of the target app.\n",
    "            \n",
    "        Returns:\n",
    "            bool: True if foreground service is running, False otherwise."
   ]
  },
  {
   "cell_type": "markdown",
   "id": "d8ff9ecd",
   "metadata": {},
   "source": [
    "Stop the current automation task."
   ]
  },
  {
   "cell_type": "code",
   "execution_count": null,
   "id": "b613d887",
   "metadata": {},
   "outputs": [],
   "source": [
    "        return False\n",
    "    \n",
    "    async def _validate_app_state(self, target_package: str) -> dict[str, Any]:\n",
    "        return await self.device_manager.validate_app_state(target_package)\n",
    "    \n",
    "    async def _recover_app_state(self, target_package: str) -> bool:\n",
    "        return await self.device_manager.recover_app_state(target_package)\n",
    "\n",
    "    async def setup_foreground_service(self, target_package: str) -> bool:\n",
    "        return await self.device_manager.setup_foreground_service(target_package)\n",
    "\n",
    "    async def stop_foreground_service(self, target_package: str) -> bool:\n",
    "        return await self.device_manager.stop_foreground_service(target_package)\n",
    "\n",
    "    async def is_foreground_service_running(self, target_package: str) -> bool:\n",
    "        return await self.device_manager.is_foreground_service_running(target_package)\n",
    "    \n",
    "    async def stop_automation(self) -> None:\n",
    "        if self.is_running:\n",
    "            log.info(\"Stopping automation...\")\n",
    "            self.is_running = False\n",
    "            "
   ]
  },
  {
   "cell_type": "markdown",
   "id": "1e70b52e",
   "metadata": {},
   "source": [
    "            # Stop app recovery monitoring"
   ]
  },
  {
   "cell_type": "markdown",
   "id": "9c5c217d",
   "metadata": {},
   "source": [
    "Get the history of all executed tasks."
   ]
  },
  {
   "cell_type": "markdown",
   "id": "43483fea",
   "metadata": {},
   "source": [
    "Get the currently running task."
   ]
  },
  {
   "cell_type": "markdown",
   "id": "4dc01674",
   "metadata": {},
   "source": [
    "Get current device status and capabilities."
   ]
  },
  {
   "cell_type": "markdown",
   "id": "2b69b5c4",
   "metadata": {},
   "source": [
    "Get current element exploration statistics."
   ]
  },
  {
   "cell_type": "markdown",
   "id": "133192cc",
   "metadata": {},
   "source": [
    "Get current state exploration statistics."
   ]
  },
  {
   "cell_type": "markdown",
   "id": "b585777a",
   "metadata": {},
   "source": [
    "Set the element exploration strategy.\n",
    "        \n",
    "        Args:\n",
    "            strategy: One of \"unseen_first\", \"confidence_based\", or \"hybrid\""
   ]
  },
  {
   "cell_type": "markdown",
   "id": "007844df",
   "metadata": {},
   "source": [
    "Reset element exploration tracking."
   ]
  },
  {
   "cell_type": "markdown",
   "id": "a18fd472",
   "metadata": {},
   "source": [
    "Disconnect from device and cleanup."
   ]
  },
  {
   "cell_type": "markdown",
   "id": "d857fa4b",
   "metadata": {},
   "source": [
    "Get LLM analysis for action prioritization.\n",
    "        \n",
    "        Args:\n",
    "            ui_elements: List of UI elements\n",
    "            task_description: Current task description\n",
    "            action_history: History of previous actions\n",
    "            \n",
    "        Returns:\n",
    "            LLM analysis results for prioritization"
   ]
  },
  {
   "cell_type": "code",
   "execution_count": null,
   "id": "1c34f434",
   "metadata": {},
   "outputs": [],
   "source": [
    "            await self.stop_app_recovery_monitoring()\n",
    "            \n",
    "            if self.current_task:\n",
    "                self.current_task[\"status\"] = \"stopped\"\n",
    "                self.current_task[\"end_time\"] = time.time()\n",
    "                self.current_task[\"duration\"] = cast(float, self.current_task[\"end_time\"]) - cast(\n",
    "                    float, self.current_task[\"start_time\"]\n",
    "                )\n",
    "                \n",
    "                self.task_history.append(self.current_task)\n",
    "                self.current_task = None\n",
    "            \n",
    "            log.success(\"Automation stopped\")\n",
    "    \n",
    "    async def get_task_history(self) -> list[dict[str, Any]]:\n",
    "        return self.task_history.copy()\n",
    "    \n",
    "    async def get_current_task(self) -> dict[str, Any] | None:\n",
    "        return self.current_task.copy() if self.current_task else None\n",
    "    \n",
    "    async def get_device_status(self) -> dict[str, Any]:\n",
    "        if not self.device_manager.is_connected():\n",
    "            return {\"connected\": False}\n",
    "        \n",
    "        device_info = self.device_manager.get_device_info()\n",
    "        resource_usage = await self.device_manager.get_resource_usage()\n",
    "        \n",
    "        return {\n",
    "            \"connected\": True,\n",
    "            \"device_info\": device_info.__dict__ if device_info else {},\n",
    "            \"resource_usage\": resource_usage,\n",
    "            \"session_id\": self.session_id\n",
    "        }\n",
    "    \n",
    "    async def get_exploration_stats(self) -> dict[str, Any]:\n",
    "        return self.element_tracker.get_exploration_stats()\n",
    "    \n",
    "    async def get_state_stats(self) -> dict[str, Any]:\n",
    "        return self.state_tracker.get_state_exploration_stats()\n",
    "    \n",
    "    def set_exploration_strategy(self, strategy: str) -> None:\n",
    "        self.element_tracker.set_exploration_strategy(strategy)\n",
    "    \n",
    "    def reset_exploration(self) -> None:\n",
    "        self.element_tracker.reset_exploration()\n",
    "        log.info(\"Element exploration tracking reset\")\n",
    "    \n",
    "    async def disconnect(self) -> None:\n",
    "        if self.is_running:\n",
    "            await self.stop_automation()\n",
    "        \n",
    "        await self.device_manager.disconnect()\n",
    "        log.info(\"DroidBot-GPT disconnected\")\n",
    "    \n",
    "    async def _get_llm_analysis_for_prioritization(\n",
    "        self,\n",
    "        ui_elements: list[dict[str, Any]],\n",
    "        task_description: str,\n",
    "        action_history: list[dict[str, Any]]\n",
    "    ) -> dict[str, Any]:\n",
    "        try:"
   ]
  },
  {
   "cell_type": "markdown",
   "id": "b15bd755",
   "metadata": {},
   "source": [
    "            # Import here to avoid circular imports"
   ]
  },
  {
   "cell_type": "code",
   "execution_count": null,
   "id": "7698ce6a",
   "metadata": {},
   "outputs": [],
   "source": [
    "            from src.ai.openai_client import get_openai_client\n",
    "            from src.ai.prompt_builder import build_action_prioritization_prompt\n",
    "            \n",
    "            openai_client = get_openai_client()\n",
    "            "
   ]
  },
  {
   "cell_type": "markdown",
   "id": "3babd3ed",
   "metadata": {},
   "source": [
    "            # Generate screenshot with bounding boxes for LLM analysis"
   ]
  },
  {
   "cell_type": "code",
   "execution_count": null,
   "id": "53fc0435",
   "metadata": {},
   "outputs": [],
   "source": [
    "            screenshot_with_boxes_base64 = None\n",
    "            if self.current_task and \"current_screenshot\" in self.current_task:\n",
    "                screenshot_path = self.current_task[\"current_screenshot\"]\n",
    "                if screenshot_path and os.path.exists(screenshot_path):\n",
    "                    log.info(f\"🖼️ Generating base64 screenshot with bounding boxes for LLM analysis...\")\n",
    "                    screenshot_with_boxes_base64 = await self._generate_screenshot_with_boxes_for_llm(\n",
    "                        screenshot_path, ui_elements\n",
    "                    )\n",
    "                    \n",
    "                    if screenshot_with_boxes_base64:\n",
    "                        log.success(f\"✅ Generated base64 screenshot ({len(screenshot_with_boxes_base64)} chars) for visual LLM analysis\")\n",
    "                    else:\n",
    "                        log.warning(\"⚠️ Failed to generate base64 screenshot, proceeding with text-only analysis\")\n",
    "                else:\n",
    "                    log.debug(\"No current screenshot available for visual analysis\")\n",
    "            else:\n",
    "                log.debug(\"No current task or screenshot path available for visual analysis\")\n",
    "            "
   ]
  },
  {
   "cell_type": "markdown",
   "id": "6382ff9c",
   "metadata": {},
   "source": [
    "            # Build prompt for action prioritization"
   ]
  },
  {
   "cell_type": "code",
   "execution_count": null,
   "id": "d51ab8aa",
   "metadata": {},
   "outputs": [],
   "source": [
    "            log.info(f\"🤖 Building LLM prompt with {len(ui_elements)} UI elements\")\n",
    "            if screenshot_with_boxes_base64:\n",
    "                log.info(\"📸 Including visual context (base64 screenshot) in LLM analysis\")\n",
    "            \n",
    "            prompt = build_action_prioritization_prompt(\n",
    "                ui_elements=ui_elements,\n",
    "                task_description=task_description,\n",
    "                action_history=action_history,\n",
    "                screenshot_with_boxes_base64=screenshot_with_boxes_base64\n",
    "            )\n",
    "            "
   ]
  },
  {
   "cell_type": "markdown",
   "id": "01bf86b8",
   "metadata": {},
   "source": [
    "            # Get LLM response with fallback for vision model issues"
   ]
  },
  {
   "cell_type": "code",
   "execution_count": null,
   "id": "5e25412e",
   "metadata": {},
   "outputs": [],
   "source": [
    "            log.info(\"🧠 Sending request to LLM for action prioritization analysis...\")\n",
    "            \n",
    "            try:\n",
    "                response = await openai_client.get_completion(prompt)\n",
    "                vision_analysis_successful = True\n",
    "            except Exception as vision_error:\n",
    "                log.warning(f\"Vision analysis failed: {vision_error}\")\n",
    "                "
   ]
  },
  {
   "cell_type": "markdown",
   "id": "9c26b593",
   "metadata": {},
   "source": [
    "                # Fallback to text-only analysis"
   ]
  },
  {
   "cell_type": "code",
   "execution_count": null,
   "id": "21900126",
   "metadata": {},
   "outputs": [],
   "source": [
    "                if screenshot_with_boxes_base64:\n",
    "                    log.info(\"🔄 Falling back to text-only analysis...\")\n",
    "                    text_only_prompt = build_action_prioritization_prompt(\n",
    "                        ui_elements=ui_elements,\n",
    "                        task_description=task_description,\n",
    "                        action_history=action_history,\n",
    "                        screenshot_with_boxes_base64=None  # No image\n",
    "                    )\n",
    "                    \n",
    "                    try:\n",
    "                        response = await openai_client.get_completion(text_only_prompt)\n",
    "                        vision_analysis_successful = False\n",
    "                        log.info(\"✅ Text-only analysis completed successfully\")\n",
    "                    except Exception as text_error:\n",
    "                        log.error(f\"Text-only analysis also failed: {text_error}\")\n",
    "                        return {\n",
    "                            'suggestions': [],\n",
    "                            'confidence': 0.3,\n",
    "                            'reasoning': 'LLM analysis unavailable',\n",
    "                            'element_priorities': {},\n",
    "                            'screenshot_analyzed': False\n",
    "                        }\n",
    "                else:"
   ]
  },
  {
   "cell_type": "markdown",
   "id": "a322d78c",
   "metadata": {},
   "source": [
    "                    # No image was provided, so this was already text-only"
   ]
  },
  {
   "cell_type": "code",
   "execution_count": null,
   "id": "932821ca",
   "metadata": {},
   "outputs": [],
   "source": [
    "                    raise vision_error\n",
    "            "
   ]
  },
  {
   "cell_type": "markdown",
   "id": "0e5b0a71",
   "metadata": {},
   "source": [
    "            # Parse response"
   ]
  },
  {
   "cell_type": "markdown",
   "id": "257f2b07",
   "metadata": {},
   "source": [
    "Generate a screenshot with bounding boxes for LLM analysis.\n",
    "        \n",
    "        Args:\n",
    "            screenshot_path: Path to the original screenshot\n",
    "            ui_elements: List of UI elements with bounding box information\n",
    "            \n",
    "        Returns:\n",
    "            Base64 encoded image data, or None if failed"
   ]
  },
  {
   "cell_type": "code",
   "execution_count": null,
   "id": "a0a853b3",
   "metadata": {},
   "outputs": [],
   "source": [
    "            try:\n",
    "                analysis = response.get('analysis', {})\n",
    "                result = {\n",
    "                    'suggestions': analysis.get('suggestions', []),\n",
    "                    'confidence': analysis.get('confidence', 0.5),\n",
    "                    'reasoning': analysis.get('reasoning', ''),\n",
    "                    'element_priorities': analysis.get('element_priorities', {}),\n",
    "                    'screenshot_analyzed': screenshot_with_boxes_base64 is not None and vision_analysis_successful\n",
    "                }\n",
    "                \n",
    "                if result['screenshot_analyzed']:\n",
    "                    log.success(f\"🎯 LLM analysis completed with visual context - Confidence: {result['confidence']:.2f}\")\n",
    "                else:\n",
    "                    log.info(f\"📝 LLM analysis completed (text-only) - Confidence: {result['confidence']:.2f}\")\n",
    "                \n",
    "                return result\n",
    "                \n",
    "            except Exception as e:\n",
    "                log.warning(f\"Failed to parse LLM analysis: {e}\")\n",
    "                return {\n",
    "                    'suggestions': [],\n",
    "                    'confidence': 0.3,\n",
    "                    'reasoning': 'LLM analysis parsing failed',\n",
    "                    'element_priorities': {},\n",
    "                    'screenshot_analyzed': False\n",
    "                }\n",
    "                \n",
    "        except Exception as e:\n",
    "            log.warning(f\"LLM analysis failed: {e}\")\n",
    "            return {\n",
    "                'suggestions': [],\n",
    "                'confidence': 0.3,\n",
    "                'reasoning': 'LLM analysis unavailable',\n",
    "                'element_priorities': {},\n",
    "                'screenshot_analyzed': False\n",
    "            }\n",
    "    \n",
    "    async def _generate_screenshot_with_boxes_for_llm(\n",
    "        self, \n",
    "        screenshot_path: str, \n",
    "        ui_elements: list[dict[str, Any]]\n",
    "    ) -> str | None:\n",
    "        try:\n",
    "            import cv2\n",
    "            import numpy as np\n",
    "            import base64\n",
    "            from io import BytesIO\n",
    "            "
   ]
  },
  {
   "cell_type": "markdown",
   "id": "9f47f971",
   "metadata": {},
   "source": [
    "            # Load the original screenshot"
   ]
  },
  {
   "cell_type": "code",
   "execution_count": null,
   "id": "36193a6c",
   "metadata": {},
   "outputs": [],
   "source": [
    "            img = cv2.imread(screenshot_path)\n",
    "            if img is None:\n",
    "                return None\n",
    "            "
   ]
  },
  {
   "cell_type": "markdown",
   "id": "e1ae7f6d",
   "metadata": {},
   "source": [
    "            # Draw bounding boxes and labels on the image"
   ]
  },
  {
   "cell_type": "code",
   "execution_count": null,
   "id": "47b5f62c",
   "metadata": {},
   "outputs": [],
   "source": [
    "            for element in ui_elements:"
   ]
  },
  {
   "cell_type": "markdown",
   "id": "63df6b6a",
   "metadata": {},
   "source": [
    "                # Get bounding box information"
   ]
  },
  {
   "cell_type": "code",
   "execution_count": null,
   "id": "451f4eca",
   "metadata": {},
   "outputs": [],
   "source": [
    "                bounds = element.get('bounds', {})\n",
    "                x = bounds.get('x', 0)\n",
    "                y = bounds.get('y', 0)\n",
    "                width = bounds.get('width', 0)\n",
    "                height = bounds.get('height', 0)\n",
    "                \n",
    "                if width <= 0 or height <= 0:\n",
    "                    continue\n",
    "                "
   ]
  },
  {
   "cell_type": "markdown",
   "id": "e4aaf3d9",
   "metadata": {},
   "source": [
    "                # Choose color based on element type"
   ]
  },
  {
   "cell_type": "code",
   "execution_count": null,
   "id": "5961e726",
   "metadata": {},
   "outputs": [],
   "source": [
    "                element_type = element.get('element_type', 'text')\n",
    "                if element_type == 'button':\n",
    "                    color = (0, 255, 0)  # Green for buttons\n",
    "                elif element_type == 'input':\n",
    "                    color = (255, 0, 0)  # Blue for inputs\n",
    "                elif element_type == 'template':\n",
    "                    color = (0, 255, 255)  # Yellow for templates\n",
    "                else:\n",
    "                    color = (0, 0, 255)  # Red for text elements\n",
    "                "
   ]
  },
  {
   "cell_type": "markdown",
   "id": "2b2da773",
   "metadata": {},
   "source": [
    "                # Draw bounding box"
   ]
  },
  {
   "cell_type": "code",
   "execution_count": null,
   "id": "142adba3",
   "metadata": {},
   "outputs": [],
   "source": [
    "                cv2.rectangle(img, (x, y), (x + width, y + height), color, thickness=2)\n",
    "                "
   ]
  },
  {
   "cell_type": "markdown",
   "id": "51c4d1df",
   "metadata": {},
   "source": [
    "                # Prepare text label"
   ]
  },
  {
   "cell_type": "code",
   "execution_count": null,
   "id": "a06bdf3b",
   "metadata": {},
   "outputs": [],
   "source": [
    "                text = element.get('text', '')\n",
    "                confidence = element.get('confidence', 0.0)\n",
    "                label = f\"{text}:{confidence:.2f}\"\n",
    "                "
   ]
  },
  {
   "cell_type": "markdown",
   "id": "c2f363dc",
   "metadata": {},
   "source": [
    "                # Truncate label if too long"
   ]
  },
  {
   "cell_type": "code",
   "execution_count": null,
   "id": "e004947e",
   "metadata": {},
   "outputs": [],
   "source": [
    "                if len(label) > 30:\n",
    "                    label = label[:27] + \"...\"\n",
    "                \n",
    "                font_scale = 0.5\n",
    "                font = cv2.FONT_HERSHEY_SIMPLEX\n",
    "                (text_w, text_h), _ = cv2.getTextSize(label, font, font_scale, 1)\n",
    "                "
   ]
  },
  {
   "cell_type": "markdown",
   "id": "2439fbd1",
   "metadata": {},
   "source": [
    "                # Background rectangle behind text for legibility"
   ]
  },
  {
   "cell_type": "code",
   "execution_count": null,
   "id": "caaea4e5",
   "metadata": {},
   "outputs": [],
   "source": [
    "                text_bg_tl = (x, max(0, y - text_h - 6))\n",
    "                text_bg_br = (x + text_w + 6, max(0, y))\n",
    "                cv2.rectangle(img, text_bg_tl, text_bg_br, (255, 255, 255), thickness=cv2.FILLED)\n",
    "                "
   ]
  },
  {
   "cell_type": "markdown",
   "id": "45445738",
   "metadata": {},
   "source": [
    "                # Draw text"
   ]
  },
  {
   "cell_type": "code",
   "execution_count": null,
   "id": "0d31850a",
   "metadata": {},
   "outputs": [],
   "source": [
    "                text_org = (x + 3, max(12, y - 3))\n",
    "                cv2.putText(\n",
    "                    img,\n",
    "                    label,\n",
    "                    text_org,\n",
    "                    font,\n",
    "                    font_scale,\n",
    "                    color,\n",
    "                    thickness=1,\n",
    "                    lineType=cv2.LINE_AA,\n",
    "                )\n",
    "            "
   ]
  },
  {
   "cell_type": "markdown",
   "id": "bbeac6f4",
   "metadata": {},
   "source": [
    "            # Convert to base64\n",
    "            # Convert BGR to RGB (OpenCV uses BGR, but we want RGB for display)"
   ]
  },
  {
   "cell_type": "code",
   "execution_count": null,
   "id": "a57df99e",
   "metadata": {},
   "outputs": [],
   "source": [
    "            img_rgb = cv2.cvtColor(img, cv2.COLOR_BGR2RGB)\n",
    "            "
   ]
  },
  {
   "cell_type": "markdown",
   "id": "03ae1804",
   "metadata": {},
   "source": [
    "            # Encode to JPEG format for smaller size"
   ]
  },
  {
   "cell_type": "code",
   "execution_count": null,
   "id": "c84f87d2",
   "metadata": {},
   "outputs": [],
   "source": [
    "            success, buffer = cv2.imencode('.jpg', img_rgb, [cv2.IMWRITE_JPEG_QUALITY, 85])\n",
    "            if not success:\n",
    "                return None\n",
    "            "
   ]
  },
  {
   "cell_type": "markdown",
   "id": "c181ad81",
   "metadata": {},
   "source": [
    "            # Optionally save to disk for debugging/analysis"
   ]
  },
  {
   "cell_type": "code",
   "execution_count": null,
   "id": "b53415e3",
   "metadata": {},
   "outputs": [],
   "source": [
    "            from pathlib import Path\n",
    "            if config.save_vision_debug:\n",
    "                debug_dir = Path(screenshot_path).resolve().parent.parent / config.ocr_images_dir\n",
    "                debug_dir.mkdir(parents=True, exist_ok=True)\n",
    "                base = Path(screenshot_path).name.replace(\".png\", \"_llm.jpg\")\n",
    "                cv2.imwrite(str(debug_dir / base), img_rgb)\n"
   ]
  },
  {
   "cell_type": "markdown",
   "id": "bd6171f7",
   "metadata": {},
   "source": [
    "            # Convert to base64"
   ]
  },
  {
   "cell_type": "markdown",
   "id": "e555a422",
   "metadata": {},
   "source": [
    "Convert PrioritizedAction to action dictionary format.\n",
    "        \n",
    "        Args:\n",
    "            prioritized_action: The prioritized action object\n",
    "            \n",
    "        Returns:\n",
    "            Action dictionary in the expected format"
   ]
  },
  {
   "cell_type": "code",
   "execution_count": null,
   "id": "6d6036fe",
   "metadata": {},
   "outputs": [],
   "source": [
    "            img_base64 = base64.b64encode(buffer).decode('utf-8')\n",
    "            \n",
    "            log.debug(f\"Generated LLM analysis screenshot with {len(ui_elements)} elements (base64: {len(img_base64)} chars)\")\n",
    "            return img_base64\n",
    "            \n",
    "        except Exception as e:\n",
    "            log.warning(f\"Failed to generate screenshot with boxes for LLM: {e}\")\n",
    "            return None\n",
    "\n",
    "    def _convert_prioritized_action_to_dict(\n",
    "        self,\n",
    "        prioritized_action: 'PrioritizedAction'\n",
    "    ) -> dict[str, Any]:\n",
    "        action_type = prioritized_action.action_type\n",
    "        \n",
    "        if action_type.name == 'SET_TEXT':"
   ]
  },
  {
   "cell_type": "markdown",
   "id": "5a61f15a",
   "metadata": {},
   "source": [
    "            # Generate appropriate text for the input field"
   ]
  },
  {
   "cell_type": "code",
   "execution_count": null,
   "id": "cd346ffb",
   "metadata": {},
   "outputs": [],
   "source": [
    "            dummy_text = self._generate_dummy_text_for_category(prioritized_action.category)\n"
   ]
  },
  {
   "cell_type": "markdown",
   "id": "ab0f0b50",
   "metadata": {},
   "source": [
    "            # Derive coordinates from element bounds for precision tap-to-focus"
   ]
  },
  {
   "cell_type": "code",
   "execution_count": null,
   "id": "882130bc",
   "metadata": {},
   "outputs": [],
   "source": [
    "            bounds = prioritized_action.element.get('bounds', {})\n",
    "            x_c = bounds.get('x', 0) + (bounds.get('width', 0) // 2)\n",
    "            y_c = bounds.get('y', 0) + (bounds.get('height', 0) // 2)\n",
    "            \n",
    "            return {\n",
    "                'type': 'input_text',\n",
    "                'element': prioritized_action.element,\n",
    "                'text': dummy_text,\n",
    "                'x': x_c,\n",
    "                'y': y_c,\n",
    "                'reasoning': prioritized_action.reasoning,\n",
    "                'score': prioritized_action.score,\n",
    "                'llm_confidence': prioritized_action.llm_confidence,\n",
    "                'vision_confidence': prioritized_action.vision_confidence,\n",
    "                'exploration_bonus': prioritized_action.exploration_bonus\n",
    "            }\n",
    "        \n",
    "        elif action_type.name == 'TAP_PRIMARY':\n",
    "            bounds = prioritized_action.element.get('bounds', {})\n",
    "            x_c = bounds.get('x', 0) + (bounds.get('width', 0) // 2)\n",
    "            y_c = bounds.get('y', 0) + (bounds.get('height', 0) // 2)\n",
    "\n",
    "            return {\n",
    "                'type': 'tap',\n",
    "                'element': prioritized_action.element,\n",
    "                'x': x_c,\n",
    "                'y': y_c,\n",
    "                'reasoning': prioritized_action.reasoning,\n",
    "                'score': prioritized_action.score,\n",
    "                'llm_confidence': prioritized_action.llm_confidence,\n",
    "                'vision_confidence': prioritized_action.vision_confidence,\n",
    "                'exploration_bonus': prioritized_action.exploration_bonus\n",
    "            }\n",
    "        \n",
    "        elif action_type.name == 'SCROLL':\n",
    "            return {\n",
    "                'type': 'scroll',\n",
    "                'direction': 'down',  # Default to down scroll\n",
    "                'reasoning': prioritized_action.reasoning,\n",
    "                'score': prioritized_action.score,\n",
    "                'llm_confidence': prioritized_action.llm_confidence,\n",
    "                'vision_confidence': prioritized_action.vision_confidence,\n",
    "                'exploration_bonus': prioritized_action.exploration_bonus\n",
    "            }\n",
    "        \n",
    "        elif action_type.name == 'TAP_NAVIGATION':\n",
    "            bounds = prioritized_action.element.get('bounds', {})\n",
    "            x_c = bounds.get('x', 0) + (bounds.get('width', 0) // 2)\n",
    "            y_c = bounds.get('y', 0) + (bounds.get('height', 0) // 2)\n",
    "\n",
    "            return {\n",
    "                'type': 'tap',\n",
    "                'element': prioritized_action.element,\n",
    "                'x': x_c,\n",
    "                'y': y_c,\n",
    "                'reasoning': prioritized_action.reasoning,\n",
    "                'score': prioritized_action.score,\n",
    "                'llm_confidence': prioritized_action.llm_confidence,\n",
    "                'vision_confidence': prioritized_action.vision_confidence,\n",
    "                'exploration_bonus': prioritized_action.exploration_bonus\n",
    "            }\n",
    "        \n",
    "        else:"
   ]
  },
  {
   "cell_type": "markdown",
   "id": "5f4c97dc",
   "metadata": {},
   "source": [
    "            # Fallback"
   ]
  },
  {
   "cell_type": "markdown",
   "id": "7c3c1e47",
   "metadata": {},
   "source": [
    "Generate appropriate dummy text for a given element category.\n",
    "        \n",
    "        Args:\n",
    "            category: The element category\n",
    "            \n",
    "        Returns:\n",
    "            Appropriate dummy text for the category"
   ]
  },
  {
   "cell_type": "markdown",
   "id": "9d2224cc",
   "metadata": {},
   "source": [
    "Start foreground monitoring for the target app.\n",
    "        \n",
    "        Args:\n",
    "            target_package: Package name of the target app to monitor\n",
    "            check_interval: Interval in seconds between foreground checks\n",
    "            \n",
    "        Returns:\n",
    "            True if monitoring started successfully, False otherwise"
   ]
  },
  {
   "cell_type": "markdown",
   "id": "0c07407c",
   "metadata": {},
   "source": [
    "Stop foreground monitoring if it's running."
   ]
  },
  {
   "cell_type": "markdown",
   "id": "2b8ea3d0",
   "metadata": {},
   "source": [
    "Ensure the target app is in foreground with retry logic.\n",
    "        \n",
    "        Args:\n",
    "            target_package: Package name of the target app\n",
    "            max_retries: Maximum number of retry attempts\n",
    "            \n",
    "        Returns:\n",
    "            True if app is in foreground, False otherwise"
   ]
  },
  {
   "cell_type": "markdown",
   "id": "69d903c7",
   "metadata": {},
   "source": [
    "Start app recovery monitoring for the target package.\n",
    "        \n",
    "        Args:\n",
    "            target_package: Package name of the target app\n",
    "            \n",
    "        Returns:\n",
    "            bool: True if monitoring started successfully"
   ]
  },
  {
   "cell_type": "markdown",
   "id": "a244eb67",
   "metadata": {},
   "source": [
    "Stop app recovery monitoring.\n",
    "        \n",
    "        Returns:\n",
    "            bool: True if monitoring stopped successfully"
   ]
  },
  {
   "cell_type": "markdown",
   "id": "d5e4266d",
   "metadata": {},
   "source": [
    "Get app recovery statistics.\n",
    "        \n",
    "        Returns:\n",
    "            dict: Recovery statistics and history"
   ]
  },
  {
   "cell_type": "markdown",
   "id": "c13a8c75",
   "metadata": {},
   "source": [
    "Manually attempt app recovery.\n",
    "        \n",
    "        Returns:\n",
    "            bool: True if recovery successful"
   ]
  },
  {
   "cell_type": "markdown",
   "id": "8dd3a869",
   "metadata": {},
   "source": [
    "Update app recovery configuration.\n",
    "        \n",
    "        Args:\n",
    "            config: New recovery configuration"
   ]
  },
  {
   "cell_type": "code",
   "execution_count": null,
   "id": "71257e50",
   "metadata": {},
   "outputs": [],
   "source": [
    "            return {\n",
    "                'type': 'wait',\n",
    "                'duration': 1.0,\n",
    "                'reasoning': f'Unknown action type: {action_type.name}'\n",
    "            }\n",
    "\n",
    "    def _generate_dummy_text_for_category(self, category: 'ElementCategory') -> str:\n",
    "        dummy_texts = {\n",
    "            'email_input': 'test@example.com',\n",
    "            'password_input': 'password123',\n",
    "            'search_input': 'pizza',\n",
    "            'name_input': 'John Doe',\n",
    "            'address_input': '123 Main St',\n",
    "            'phone_input': '555-123-4567',\n",
    "            'date_input': '2025-07-18',\n",
    "            'url_input': 'https://example.com',\n",
    "            'code_input': '123456',\n",
    "            'generic_input': 'test input'\n",
    "        }\n",
    "        \n",
    "        return dummy_texts.get(category.value, 'test input')\n",
    "    \n",
    "    async def start_foreground_monitoring(self, target_package: str, check_interval: float = 1.0) -> bool:\n",
    "        try:\n",
    "            if self._foreground_monitoring_task and not self._foreground_monitoring_task.done():\n",
    "                log.warning(\"Foreground monitoring is already running\")\n",
    "                return True\n",
    "            \n",
    "            log.info(f\"Starting foreground monitoring for {target_package}\")\n",
    "            self._foreground_monitoring_task = await self.device_manager.start_foreground_monitoring(\n",
    "                target_package, check_interval\n",
    "            )\n",
    "            \n",
    "            log.success(f\"Foreground monitoring started for {target_package}\")\n",
    "            return True\n",
    "            \n",
    "        except Exception as e:\n",
    "            log.error(f\"Failed to start foreground monitoring: {e}\")\n",
    "            return False\n",
    "\n",
    "    async def stop_foreground_monitoring(self) -> None:\n",
    "        try:\n",
    "            if self._foreground_monitoring_task and not self._foreground_monitoring_task.done():\n",
    "                log.info(\"Stopping foreground monitoring\")\n",
    "                await self.device_manager.stop_foreground_monitoring(self._foreground_monitoring_task)\n",
    "                self._foreground_monitoring_task = None\n",
    "                log.success(\"Foreground monitoring stopped\")\n",
    "            else:\n",
    "                log.info(\"No foreground monitoring task to stop\")\n",
    "                \n",
    "        except Exception as e:\n",
    "            log.error(f\"Error stopping foreground monitoring: {e}\")\n",
    "\n",
    "    async def ensure_app_foreground(self, target_package: str, max_retries: int = 3) -> bool:\n",
    "        return await self.device_manager.ensure_app_foreground(target_package, max_retries)\n",
    "\n",
    "    async def start_app_recovery_monitoring(self, target_package: str) -> bool:\n",
    "        try:\n",
    "            success = await self.app_recovery_manager.start_recovery_monitoring(target_package)\n",
    "            if success:\n",
    "                log.success(f\"App recovery monitoring started for {target_package}\")\n",
    "            else:\n",
    "                log.error(f\"Failed to start app recovery monitoring for {target_package}\")\n",
    "            return success\n",
    "        except Exception as e:\n",
    "            log.error(f\"Error starting app recovery monitoring: {e}\")\n",
    "            return False\n",
    "\n",
    "    async def stop_app_recovery_monitoring(self) -> bool:\n",
    "        try:\n",
    "            success = await self.app_recovery_manager.stop_recovery_monitoring()\n",
    "            if success:\n",
    "                log.success(\"App recovery monitoring stopped\")\n",
    "            else:\n",
    "                log.warning(\"Failed to stop app recovery monitoring\")\n",
    "            return success\n",
    "        except Exception as e:\n",
    "            log.error(f\"Error stopping app recovery monitoring: {e}\")\n",
    "            return False\n",
    "\n",
    "    async def get_app_recovery_stats(self) -> dict[str, Any]:\n",
    "        try:\n",
    "            recovery_stats = self.app_recovery_manager.get_recovery_stats()\n",
    "            foreground_recovery_stats = self.app_foreground_recovery_manager.get_recovery_stats()\n",
    "            \n",
    "            return {\n",
    "                \"app_recovery\": recovery_stats,\n",
    "                \"foreground_recovery\": foreground_recovery_stats\n",
    "            }\n",
    "        except Exception as e:\n",
    "            log.error(f\"Error getting app recovery stats: {e}\")\n",
    "            return {}\n",
    "\n",
    "    async def attempt_app_recovery(self) -> bool:\n",
    "        try:\n",
    "            success = await self.app_recovery_manager.attempt_recovery()\n",
    "            if success:\n",
    "                log.success(\"Manual app recovery successful\")\n",
    "            else:\n",
    "                log.warning(\"Manual app recovery failed\")\n",
    "            return success\n",
    "        except Exception as e:\n",
    "            log.error(f\"Error during manual app recovery: {e}\")\n",
    "            return False\n",
    "\n",
    "    def update_app_recovery_config(self, config: dict[str, Any]) -> None:\n",
    "        try:\n",
    "            from ..core.app_recovery import AppRecoveryConfig\n",
    "            "
   ]
  },
  {
   "cell_type": "markdown",
   "id": "53b6292d",
   "metadata": {},
   "source": [
    "            # Convert dict to AppRecoveryConfig"
   ]
  },
  {
   "cell_type": "markdown",
   "id": "6d363857",
   "metadata": {},
   "source": [
    "Context manager for automation sessions."
   ]
  },
  {
   "cell_type": "code",
   "execution_count": null,
   "id": "3c37b537",
   "metadata": {},
   "outputs": [],
   "source": [
    "            recovery_config = AppRecoveryConfig(\n",
    "                max_recovery_attempts=config.get('max_recovery_attempts', 5),\n",
    "                recovery_timeout=config.get('recovery_timeout', 30.0),\n",
    "                check_interval=config.get('check_interval', 2.0),\n",
    "                enable_foreground_service=config.get('enable_foreground_service', True),\n",
    "                enable_force_restart=config.get('enable_force_restart', True),\n",
    "                enable_clear_recents=config.get('enable_clear_recents', False)\n",
    "            )\n",
    "            \n",
    "            self.app_recovery_manager.update_config(recovery_config)\n",
    "            log.info(\"App recovery configuration updated\")\n",
    "        except Exception as e:\n",
    "            log.error(f\"Error updating app recovery config: {e}\")\n",
    "\n",
    "    @asynccontextmanager\n",
    "    async def automation_session(\n",
    "        self, device_serial: str | None = None,\n",
    "    ) -> AsyncIterator[DroidBotGPT]:\n",
    "        try:"
   ]
  },
  {
   "cell_type": "markdown",
   "id": "1a687e9f",
   "metadata": {},
   "source": [
    "            # Connect to device"
   ]
  },
  {
   "cell_type": "code",
   "execution_count": null,
   "id": "c9b38df6",
   "metadata": {},
   "outputs": [],
   "source": [
    "            connected = await self.connect_device(device_serial)\n",
    "            if not connected:\n",
    "                raise RuntimeError(\"Failed to connect to device\")\n",
    "            \n",
    "            yield self\n",
    "            \n",
    "        finally:"
   ]
  },
  {
   "cell_type": "markdown",
   "id": "eccb50b3",
   "metadata": {},
   "source": [
    "            # Cleanup"
   ]
  },
  {
   "cell_type": "markdown",
   "id": "7a9675c7",
   "metadata": {},
   "source": [
    "Get information about the current session."
   ]
  },
  {
   "cell_type": "code",
   "execution_count": null,
   "id": "c3fd682e",
   "metadata": {},
   "outputs": [],
   "source": [
    "            await self.disconnect()\n",
    "    \n",
    "    def get_session_info(self) -> dict[str, Any]:\n",
    "        exploration_stats = self.element_tracker.get_exploration_stats()\n",
    "        \n",
    "        return {\n",
    "            \"session_id\": self.session_id,\n",
    "            \"total_tasks\": len(self.task_history),\n",
    "            \"current_task\": self.current_task[\"id\"] if self.current_task else None,\n",
    "            \"is_running\": self.is_running,\n",
    "            \"connected\": self.device_manager.is_connected(),\n",
    "            \"exploration_stats\": exploration_stats\n",
    "        } "
   ]
  }
 ],
 "metadata": {
  "kernelspec": {
   "display_name": "Python 3",
   "language": "python",
   "name": "python3"
  },
  "language_info": {
   "codemirror_mode": {
    "name": "ipython",
    "version": 3
   },
   "file_extension": ".py",
   "mimetype": "text/x-python",
   "name": "python",
   "nbconvert_exporter": "python",
   "pygments_lexer": "ipython3",
   "version": "3.10.0"
  }
 },
 "nbformat": 4,
 "nbformat_minor": 5
}
