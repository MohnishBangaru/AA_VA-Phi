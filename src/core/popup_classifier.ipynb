{
 "cells": [
  {
   "cell_type": "markdown",
   "id": "75c0771e",
   "metadata": {},
   "source": [
    "Popup classification system for DroidBot-GPT framework.\n",
    "\n",
    "This module provides intelligent popup detection and classification to differentiate\n",
    "between internal app popups (menu cards, navigation elements) that should be handled\n",
    "through the decision-making process, and external system popups that should be dismissed."
   ]
  },
  {
   "cell_type": "markdown",
   "id": "5a87df88",
   "metadata": {},
   "source": [
    "Types of popups that can be detected."
   ]
  },
  {
   "cell_type": "markdown",
   "id": "ab485783",
   "metadata": {},
   "source": [
    "Actions to take for different popup types."
   ]
  },
  {
   "cell_type": "markdown",
   "id": "cdfc1496",
   "metadata": {},
   "source": [
    "Analysis result for a popup element."
   ]
  },
  {
   "cell_type": "markdown",
   "id": "54333a4a",
   "metadata": {},
   "source": [
    "Intelligent popup classifier that differentiates internal vs external popups."
   ]
  },
  {
   "cell_type": "markdown",
   "id": "bff7e9e2",
   "metadata": {},
   "source": [
    "Initialize the popup classifier."
   ]
  },
  {
   "cell_type": "code",
   "execution_count": null,
   "id": "a6b125e5",
   "metadata": {},
   "outputs": [],
   "source": [
    "\n",
    "from __future__ import annotations\n",
    "\n",
    "import re\n",
    "from typing import Any, Dict, List, Optional, Tuple\n",
    "from dataclasses import dataclass\n",
    "from enum import Enum\n",
    "\n",
    "from ..core.logger import log\n",
    "\n",
    "\n",
    "class PopupType(Enum):\n",
    "    INTERNAL_MENU = \"internal_menu\"\n",
    "    INTERNAL_NAVIGATION = \"internal_navigation\"\n",
    "    INTERNAL_SELECTION = \"internal_selection\"\n",
    "    EXTERNAL_SYSTEM = \"external_system\"\n",
    "    EXTERNAL_PERMISSION = \"external_permission\"\n",
    "    EXTERNAL_NOTIFICATION = \"external_notification\"\n",
    "    UNKNOWN = \"unknown\"\n",
    "\n",
    "\n",
    "class PopupAction(Enum):\n",
    "    HANDLE_THROUGH_DECISION = \"handle_through_decision\"\n",
    "    DISMISS = \"dismiss\"\n",
    "    IGNORE = \"ignore\"\n",
    "\n",
    "\n",
    "@dataclass\n",
    "class PopupAnalysis:\n",
    "    element: Dict[str, Any]\n",
    "    popup_type: PopupType\n",
    "    action: PopupAction\n",
    "    confidence: float\n",
    "    reasoning: str\n",
    "    is_menu_card: bool = False\n",
    "    is_navigation_element: bool = False\n",
    "    is_system_popup: bool = False\n",
    "\n",
    "\n",
    "class PopupClassifier:\n",
    "    \n",
    "    def __init__(self):"
   ]
  },
  {
   "cell_type": "markdown",
   "id": "7a95883c",
   "metadata": {},
   "source": [
    "        # Internal popup indicators (menu cards, navigation)"
   ]
  },
  {
   "cell_type": "code",
   "execution_count": null,
   "id": "18687cd0",
   "metadata": {},
   "outputs": [],
   "source": [
    "        self.internal_indicators = {\n",
    "            \"menu\": [\"menu\", \"options\", \"more\", \"settings\", \"profile\", \"account\"],\n",
    "            \"navigation\": [\"back\", \"forward\", \"home\", \"tab\", \"page\", \"section\"],\n",
    "            \"selection\": [\"select\", \"choose\", \"pick\", \"option\", \"item\", \"card\"],\n",
    "            \"app_specific\": [\"order\", \"cart\", \"checkout\", \"payment\", \"delivery\", \"tracking\"]\n",
    "        }\n",
    "        "
   ]
  },
  {
   "cell_type": "markdown",
   "id": "f4660e4a",
   "metadata": {},
   "source": [
    "        # External popup indicators (system dialogs, permissions)"
   ]
  },
  {
   "cell_type": "code",
   "execution_count": null,
   "id": "42da4b08",
   "metadata": {},
   "outputs": [],
   "source": [
    "        self.external_indicators = {\n",
    "            \"system\": [\"google play\", \"android\", \"system\", \"settings\", \"permission\"],\n",
    "            \"permission\": [\"allow\", \"deny\", \"permission\", \"access\", \"grant\"],\n",
    "            \"notification\": [\"notification\", \"alert\", \"warning\", \"error\", \"update\"],\n",
    "            \"external_app\": [\"chrome\", \"browser\", \"gmail\", \"maps\", \"play store\"]\n",
    "        }\n",
    "        "
   ]
  },
  {
   "cell_type": "markdown",
   "id": "c2f63864",
   "metadata": {},
   "source": [
    "        # Menu card specific patterns"
   ]
  },
  {
   "cell_type": "code",
   "execution_count": null,
   "id": "e27f6dd7",
   "metadata": {},
   "outputs": [],
   "source": [
    "        self.menu_card_patterns = [\n",
    "            r\"menu.*card\",\n",
    "            r\"card.*menu\", \n",
    "            r\"option.*card\",\n",
    "            r\"item.*card\",\n",
    "            r\"selection.*card\",\n",
    "            r\"choice.*card\"\n",
    "        ]\n",
    "        "
   ]
  },
  {
   "cell_type": "markdown",
   "id": "d2afec60",
   "metadata": {},
   "source": [
    "        # Navigation element patterns"
   ]
  },
  {
   "cell_type": "code",
   "execution_count": null,
   "id": "13f78650",
   "metadata": {},
   "outputs": [],
   "source": [
    "        self.navigation_patterns = [\n",
    "            r\"back.*button\",\n",
    "            r\"forward.*button\", \n",
    "            r\"home.*button\",\n",
    "            r\"tab.*bar\",\n",
    "            r\"navigation.*menu\",\n",
    "            r\"breadcrumb\"\n",
    "        ]\n",
    "        "
   ]
  },
  {
   "cell_type": "markdown",
   "id": "d7b64c25",
   "metadata": {},
   "source": [
    "        # System popup patterns"
   ]
  },
  {
   "cell_type": "code",
   "execution_count": null,
   "id": "c34648ae",
   "metadata": {},
   "outputs": [],
   "source": [
    "        self.system_popup_patterns = [\n",
    "            r\"google.*play\",\n",
    "            r\"android.*system\",\n",
    "            r\"permission.*dialog\",\n",
    "            r\"system.*alert\",\n",
    "            r\"external.*app\"\n",
    "        ]\n",
    "        "
   ]
  },
  {
   "cell_type": "markdown",
   "id": "079b9fe6",
   "metadata": {},
   "source": [
    "        # Confidence thresholds"
   ]
  },
  {
   "cell_type": "code",
   "execution_count": null,
   "id": "b6e62eea",
   "metadata": {},
   "outputs": [],
   "source": [
    "        self.high_confidence_threshold = 0.8\n",
    "        self.medium_confidence_threshold = 0.6\n",
    "        "
   ]
  },
  {
   "cell_type": "markdown",
   "id": "fbf3b957",
   "metadata": {},
   "source": [
    "        # Element position analysis"
   ]
  },
  {
   "cell_type": "markdown",
   "id": "d1462249",
   "metadata": {},
   "source": [
    "Classify a popup element as internal or external.\n",
    "        \n",
    "        Args:\n",
    "            element: The popup element to classify\n",
    "            ui_elements: All UI elements on the screen\n",
    "            screen_size: Screen dimensions (width, height)\n",
    "            app_context: Current app context/package name\n",
    "            \n",
    "        Returns:\n",
    "            PopupAnalysis with classification and recommended action"
   ]
  },
  {
   "cell_type": "code",
   "execution_count": null,
   "id": "042b55a1",
   "metadata": {},
   "outputs": [],
   "source": [
    "        self.screen_center_threshold = 0.3  # 30% from center\n",
    "        self.overlay_threshold = 0.8  # 80% overlay indicates popup\n",
    "\n",
    "    def classify_popup(\n",
    "        self, \n",
    "        element: Dict[str, Any], \n",
    "        ui_elements: List[Dict[str, Any]],\n",
    "        screen_size: Tuple[int, int],\n",
    "        app_context: str = \"\"\n",
    "    ) -> PopupAnalysis:\n",
    "        text = element.get('text', '').lower()\n",
    "        element_type = element.get('element_type', '').lower()\n",
    "        bounds = element.get('bounds', {})\n",
    "        "
   ]
  },
  {
   "cell_type": "markdown",
   "id": "05c64ea2",
   "metadata": {},
   "source": [
    "        # Step 1: Check if it's a menu card"
   ]
  },
  {
   "cell_type": "code",
   "execution_count": null,
   "id": "9bc42a3e",
   "metadata": {},
   "outputs": [],
   "source": [
    "        is_menu_card = self._is_menu_card(text, element_type)\n",
    "        "
   ]
  },
  {
   "cell_type": "markdown",
   "id": "6a580360",
   "metadata": {},
   "source": [
    "        # Step 2: Check if it's a navigation element"
   ]
  },
  {
   "cell_type": "code",
   "execution_count": null,
   "id": "f0fb0b75",
   "metadata": {},
   "outputs": [],
   "source": [
    "        is_navigation = self._is_navigation_element(text, element_type)\n",
    "        "
   ]
  },
  {
   "cell_type": "markdown",
   "id": "4599ac3f",
   "metadata": {},
   "source": [
    "        # Step 3: Check if it's a system popup"
   ]
  },
  {
   "cell_type": "code",
   "execution_count": null,
   "id": "bd57f06e",
   "metadata": {},
   "outputs": [],
   "source": [
    "        is_system_popup = self._is_system_popup(text, element_type, app_context)\n",
    "        "
   ]
  },
  {
   "cell_type": "markdown",
   "id": "9677c70e",
   "metadata": {},
   "source": [
    "        # Step 4: Analyze position and overlay characteristics"
   ]
  },
  {
   "cell_type": "code",
   "execution_count": null,
   "id": "afb09d5c",
   "metadata": {},
   "outputs": [],
   "source": [
    "        position_analysis = self._analyze_position(bounds, screen_size, ui_elements)\n",
    "        "
   ]
  },
  {
   "cell_type": "markdown",
   "id": "d3c469d4",
   "metadata": {},
   "source": [
    "        # Step 5: Determine popup type and action"
   ]
  },
  {
   "cell_type": "markdown",
   "id": "eda79166",
   "metadata": {},
   "source": [
    "Check if element is a menu card."
   ]
  },
  {
   "cell_type": "code",
   "execution_count": null,
   "id": "5bb198a5",
   "metadata": {},
   "outputs": [],
   "source": [
    "        popup_type, action, confidence, reasoning = self._determine_type_and_action(\n",
    "            text, element_type, is_menu_card, is_navigation, is_system_popup, \n",
    "            position_analysis, app_context\n",
    "        )\n",
    "        \n",
    "        return PopupAnalysis(\n",
    "            element=element,\n",
    "            popup_type=popup_type,\n",
    "            action=action,\n",
    "            confidence=confidence,\n",
    "            reasoning=reasoning,\n",
    "            is_menu_card=is_menu_card,\n",
    "            is_navigation_element=is_navigation,\n",
    "            is_system_popup=is_system_popup\n",
    "        )\n",
    "\n",
    "    def _is_menu_card(self, text: str, element_type: str) -> bool:"
   ]
  },
  {
   "cell_type": "markdown",
   "id": "be71ecd0",
   "metadata": {},
   "source": [
    "        # Check for menu card patterns"
   ]
  },
  {
   "cell_type": "code",
   "execution_count": null,
   "id": "23b37f47",
   "metadata": {},
   "outputs": [],
   "source": [
    "        for pattern in self.menu_card_patterns:\n",
    "            if re.search(pattern, text, re.IGNORECASE):\n",
    "                return True\n",
    "        "
   ]
  },
  {
   "cell_type": "markdown",
   "id": "549f2722",
   "metadata": {},
   "source": [
    "        # Check for menu-related keywords"
   ]
  },
  {
   "cell_type": "code",
   "execution_count": null,
   "id": "db86aea7",
   "metadata": {},
   "outputs": [],
   "source": [
    "        menu_keywords = self.internal_indicators[\"menu\"] + self.internal_indicators[\"selection\"]\n",
    "        for keyword in menu_keywords:\n",
    "            if keyword in text:\n",
    "                return True\n",
    "        "
   ]
  },
  {
   "cell_type": "markdown",
   "id": "5069bbd8",
   "metadata": {},
   "source": [
    "        # Check element type"
   ]
  },
  {
   "cell_type": "markdown",
   "id": "539ffb24",
   "metadata": {},
   "source": [
    "Check if element is a navigation element."
   ]
  },
  {
   "cell_type": "code",
   "execution_count": null,
   "id": "e5158d3f",
   "metadata": {},
   "outputs": [],
   "source": [
    "        if element_type in ['card', 'menu_item', 'option']:\n",
    "            return True\n",
    "        \n",
    "        return False\n",
    "\n",
    "    def _is_navigation_element(self, text: str, element_type: str) -> bool:"
   ]
  },
  {
   "cell_type": "markdown",
   "id": "9a1b04a8",
   "metadata": {},
   "source": [
    "        # Check for navigation patterns"
   ]
  },
  {
   "cell_type": "code",
   "execution_count": null,
   "id": "f0dfcbf0",
   "metadata": {},
   "outputs": [],
   "source": [
    "        for pattern in self.navigation_patterns:\n",
    "            if re.search(pattern, text, re.IGNORECASE):\n",
    "                return True\n",
    "        "
   ]
  },
  {
   "cell_type": "markdown",
   "id": "4b185632",
   "metadata": {},
   "source": [
    "        # Check for navigation keywords"
   ]
  },
  {
   "cell_type": "code",
   "execution_count": null,
   "id": "7b4225a8",
   "metadata": {},
   "outputs": [],
   "source": [
    "        nav_keywords = self.internal_indicators[\"navigation\"]\n",
    "        for keyword in nav_keywords:\n",
    "            if keyword in text:\n",
    "                return True\n",
    "        "
   ]
  },
  {
   "cell_type": "markdown",
   "id": "742f74c7",
   "metadata": {},
   "source": [
    "        # Check element type"
   ]
  },
  {
   "cell_type": "markdown",
   "id": "d1063a55",
   "metadata": {},
   "source": [
    "Check if element is a system popup."
   ]
  },
  {
   "cell_type": "code",
   "execution_count": null,
   "id": "ce55e75a",
   "metadata": {},
   "outputs": [],
   "source": [
    "        if element_type in ['back_button', 'navigation', 'tab']:\n",
    "            return True\n",
    "        \n",
    "        return False\n",
    "\n",
    "    def _is_system_popup(self, text: str, element_type: str, app_context: str) -> bool:"
   ]
  },
  {
   "cell_type": "markdown",
   "id": "d45473df",
   "metadata": {},
   "source": [
    "        # Check for system popup patterns"
   ]
  },
  {
   "cell_type": "code",
   "execution_count": null,
   "id": "f99a97ee",
   "metadata": {},
   "outputs": [],
   "source": [
    "        for pattern in self.system_popup_patterns:\n",
    "            if re.search(pattern, text, re.IGNORECASE):\n",
    "                return True\n",
    "        "
   ]
  },
  {
   "cell_type": "markdown",
   "id": "67d53592",
   "metadata": {},
   "source": [
    "        # Check for external indicators"
   ]
  },
  {
   "cell_type": "code",
   "execution_count": null,
   "id": "f46f85d8",
   "metadata": {},
   "outputs": [],
   "source": [
    "        for category, keywords in self.external_indicators.items():\n",
    "            for keyword in keywords:\n",
    "                if keyword in text:\n",
    "                    return True\n",
    "        "
   ]
  },
  {
   "cell_type": "markdown",
   "id": "fa5f717f",
   "metadata": {},
   "source": [
    "        # Check if it's from a different app context"
   ]
  },
  {
   "cell_type": "markdown",
   "id": "f50d5f3d",
   "metadata": {},
   "source": [
    "Analyze element position and overlay characteristics."
   ]
  },
  {
   "cell_type": "code",
   "execution_count": null,
   "id": "875d67f6",
   "metadata": {},
   "outputs": [],
   "source": [
    "        if app_context and element_type == 'external_dialog':\n",
    "            return True\n",
    "        \n",
    "        return False\n",
    "\n",
    "    def _analyze_position(\n",
    "        self, \n",
    "        bounds: Dict[str, Any], \n",
    "        screen_size: Tuple[int, int],\n",
    "        ui_elements: List[Dict[str, Any]]\n",
    "    ) -> Dict[str, Any]:\n",
    "        screen_width, screen_height = screen_size\n",
    "        "
   ]
  },
  {
   "cell_type": "markdown",
   "id": "98a44d76",
   "metadata": {},
   "source": [
    "        # Get element bounds"
   ]
  },
  {
   "cell_type": "code",
   "execution_count": null,
   "id": "83678829",
   "metadata": {},
   "outputs": [],
   "source": [
    "        x1 = bounds.get('x', 0)\n",
    "        y1 = bounds.get('y', 0)\n",
    "        x2 = bounds.get('x2', x1)\n",
    "        y2 = bounds.get('y2', y1)\n",
    "        "
   ]
  },
  {
   "cell_type": "markdown",
   "id": "83152beb",
   "metadata": {},
   "source": [
    "        # Calculate center position"
   ]
  },
  {
   "cell_type": "code",
   "execution_count": null,
   "id": "6a49c0e1",
   "metadata": {},
   "outputs": [],
   "source": [
    "        element_center_x = (x1 + x2) / 2\n",
    "        element_center_y = (y1 + y2) / 2\n",
    "        screen_center_x = screen_width / 2\n",
    "        screen_center_y = screen_height / 2\n",
    "        "
   ]
  },
  {
   "cell_type": "markdown",
   "id": "d2606e4b",
   "metadata": {},
   "source": [
    "        # Check if element is centered (indicates popup)"
   ]
  },
  {
   "cell_type": "code",
   "execution_count": null,
   "id": "e9039035",
   "metadata": {},
   "outputs": [],
   "source": [
    "        center_distance = ((element_center_x - screen_center_x) ** 2 + \n",
    "                          (element_center_y - screen_center_y) ** 2) ** 0.5\n",
    "        max_center_distance = min(screen_width, screen_height) * self.screen_center_threshold\n",
    "        is_centered = center_distance < max_center_distance\n",
    "        "
   ]
  },
  {
   "cell_type": "markdown",
   "id": "41dbb89b",
   "metadata": {},
   "source": [
    "        # Check overlay with other elements"
   ]
  },
  {
   "cell_type": "markdown",
   "id": "c0e7cb0c",
   "metadata": {},
   "source": [
    "Check if two elements overlap."
   ]
  },
  {
   "cell_type": "markdown",
   "id": "0acf734b",
   "metadata": {},
   "source": [
    "Determine popup type and recommended action."
   ]
  },
  {
   "cell_type": "code",
   "execution_count": null,
   "id": "b15a6d0a",
   "metadata": {},
   "outputs": [],
   "source": [
    "        overlay_count = 0\n",
    "        for other_element in ui_elements:\n",
    "            if other_element != bounds:\n",
    "                other_bounds = other_element.get('bounds', {})\n",
    "                if self._elements_overlap(bounds, other_bounds):\n",
    "                    overlay_count += 1\n",
    "        \n",
    "        overlay_ratio = overlay_count / len(ui_elements) if ui_elements else 0\n",
    "        is_overlay = overlay_ratio > self.overlay_threshold\n",
    "        \n",
    "        return {\n",
    "            'is_centered': is_centered,\n",
    "            'is_overlay': is_overlay,\n",
    "            'overlay_ratio': overlay_ratio,\n",
    "            'center_distance': center_distance\n",
    "        }\n",
    "\n",
    "    def _elements_overlap(self, bounds1: Dict[str, Any], bounds2: Dict[str, Any]) -> bool:\n",
    "        x1_1, y1_1 = bounds1.get('x', 0), bounds1.get('y', 0)\n",
    "        x2_1, y2_1 = bounds1.get('x2', x1_1), bounds1.get('y2', y1_1)\n",
    "        x1_2, y1_2 = bounds2.get('x', 0), bounds2.get('y', 0)\n",
    "        x2_2, y2_2 = bounds2.get('x2', x1_2), bounds2.get('y2', y1_2)\n",
    "        \n",
    "        return not (x2_1 < x1_2 or x2_2 < x1_1 or y2_1 < y1_2 or y2_2 < y1_1)\n",
    "\n",
    "    def _determine_type_and_action(\n",
    "        self,\n",
    "        text: str,\n",
    "        element_type: str,\n",
    "        is_menu_card: bool,\n",
    "        is_navigation: bool,\n",
    "        is_system_popup: bool,\n",
    "        position_analysis: Dict[str, Any],\n",
    "        app_context: str\n",
    "    ) -> Tuple[PopupType, PopupAction, float, str]:\n",
    "        confidence = 0.0\n",
    "        reasoning = \"\"\n",
    "        "
   ]
  },
  {
   "cell_type": "markdown",
   "id": "e0ed663c",
   "metadata": {},
   "source": [
    "        # High confidence cases"
   ]
  },
  {
   "cell_type": "code",
   "execution_count": null,
   "id": "3af775e3",
   "metadata": {},
   "outputs": [],
   "source": [
    "        if is_menu_card:\n",
    "            return (\n",
    "                PopupType.INTERNAL_MENU,\n",
    "                PopupAction.HANDLE_THROUGH_DECISION,\n",
    "                0.9,\n",
    "                \"Menu card detected - should be handled through decision-making process\"\n",
    "            )\n",
    "        \n",
    "        if is_navigation:\n",
    "            return (\n",
    "                PopupType.INTERNAL_NAVIGATION,\n",
    "                PopupAction.HANDLE_THROUGH_DECISION,\n",
    "                0.85,\n",
    "                \"Navigation element detected - should be handled through decision-making process\"\n",
    "            )\n",
    "        \n",
    "        if is_system_popup:\n",
    "            return (\n",
    "                PopupType.EXTERNAL_SYSTEM,\n",
    "                PopupAction.DISMISS,\n",
    "                0.9,\n",
    "                \"System popup detected - should be dismissed\"\n",
    "            )\n",
    "        "
   ]
  },
  {
   "cell_type": "markdown",
   "id": "8e751e79",
   "metadata": {},
   "source": [
    "        # Medium confidence cases based on position"
   ]
  },
  {
   "cell_type": "code",
   "execution_count": null,
   "id": "c900fdd9",
   "metadata": {},
   "outputs": [],
   "source": [
    "        if position_analysis['is_centered'] and position_analysis['is_overlay']:"
   ]
  },
  {
   "cell_type": "markdown",
   "id": "c4c3195e",
   "metadata": {},
   "source": [
    "            # Centered overlay suggests popup, but need more context"
   ]
  },
  {
   "cell_type": "code",
   "execution_count": null,
   "id": "0de9d514",
   "metadata": {},
   "outputs": [],
   "source": [
    "            if any(keyword in text for keyword in self.internal_indicators[\"app_specific\"]):\n",
    "                return (\n",
    "                    PopupType.INTERNAL_SELECTION,\n",
    "                    PopupAction.HANDLE_THROUGH_DECISION,\n",
    "                    0.7,\n",
    "                    \"App-specific popup detected - likely internal selection\"\n",
    "                )\n",
    "            else:\n",
    "                return (\n",
    "                    PopupType.EXTERNAL_SYSTEM,\n",
    "                    PopupAction.DISMISS,\n",
    "                    0.7,\n",
    "                    \"Centered overlay popup detected - likely external system dialog\"\n",
    "                )\n",
    "        "
   ]
  },
  {
   "cell_type": "markdown",
   "id": "1a59c449",
   "metadata": {},
   "source": [
    "        # Low confidence cases"
   ]
  },
  {
   "cell_type": "code",
   "execution_count": null,
   "id": "b6e4baf5",
   "metadata": {},
   "outputs": [],
   "source": [
    "        if position_analysis['is_centered']:\n",
    "            return (\n",
    "                PopupType.UNKNOWN,\n",
    "                PopupAction.HANDLE_THROUGH_DECISION,\n",
    "                0.5,\n",
    "                \"Centered element - default to decision-making process\"\n",
    "            )\n",
    "        "
   ]
  },
  {
   "cell_type": "markdown",
   "id": "aea2c02f",
   "metadata": {},
   "source": [
    "        # Default case"
   ]
  },
  {
   "cell_type": "markdown",
   "id": "a6c620ec",
   "metadata": {},
   "source": [
    "Filter UI elements and classify popups.\n",
    "        \n",
    "        Args:\n",
    "            ui_elements: All UI elements on screen\n",
    "            screen_size: Screen dimensions\n",
    "            app_context: Current app context\n",
    "            \n",
    "        Returns:\n",
    "            Tuple of (non-popup elements, popup analyses)"
   ]
  },
  {
   "cell_type": "markdown",
   "id": "03dddc0b",
   "metadata": {},
   "source": [
    "Get actions to dismiss external popups.\n",
    "        \n",
    "        Args:\n",
    "            popup_analyses: List of popup analyses\n",
    "            \n",
    "        Returns:\n",
    "            List of dismiss actions"
   ]
  },
  {
   "cell_type": "code",
   "execution_count": null,
   "id": "83e852e8",
   "metadata": {},
   "outputs": [],
   "source": [
    "        return (\n",
    "            PopupType.UNKNOWN,\n",
    "            PopupAction.IGNORE,\n",
    "            0.3,\n",
    "            \"Unknown element type - ignoring\"\n",
    "        )\n",
    "\n",
    "    def filter_popup_elements(\n",
    "        self,\n",
    "        ui_elements: List[Dict[str, Any]],\n",
    "        screen_size: Tuple[int, int],\n",
    "        app_context: str = \"\"\n",
    "    ) -> Tuple[List[Dict[str, Any]], List[PopupAnalysis]]:\n",
    "        popup_analyses = []\n",
    "        non_popup_elements = []\n",
    "        \n",
    "        for element in ui_elements:\n",
    "            analysis = self.classify_popup(element, ui_elements, screen_size, app_context)\n",
    "            \n",
    "            if analysis.popup_type != PopupType.UNKNOWN and analysis.confidence > 0.5:\n",
    "                popup_analyses.append(analysis)\n",
    "                log.debug(f\"Popup detected: {analysis.popup_type.value} - {analysis.reasoning}\")\n",
    "            else:\n",
    "                non_popup_elements.append(element)\n",
    "        \n",
    "        return non_popup_elements, popup_analyses\n",
    "\n",
    "    def get_dismiss_actions(self, popup_analyses: List[PopupAnalysis]) -> List[Dict[str, Any]]:\n",
    "        dismiss_actions = []\n",
    "        \n",
    "        for analysis in popup_analyses:\n",
    "            if analysis.action == PopupAction.DISMISS:\n",
    "                element = analysis.element\n",
    "                bounds = element.get('bounds', {})\n",
    "                "
   ]
  },
  {
   "cell_type": "markdown",
   "id": "de6376bc",
   "metadata": {},
   "source": [
    "                # Create dismiss action"
   ]
  },
  {
   "cell_type": "code",
   "execution_count": null,
   "id": "32077a5a",
   "metadata": {},
   "outputs": [],
   "source": [
    "                dismiss_action = {\n",
    "                    \"type\": \"tap\",\n",
    "                    \"x\": (bounds.get('x', 0) + bounds.get('x2', 0)) // 2,\n",
    "                    \"y\": (bounds.get('y', 0) + bounds.get('y2', 0)) // 2,\n",
    "                    \"reasoning\": f\"Dismiss {analysis.popup_type.value}: {analysis.reasoning}\",\n",
    "                    \"popup_type\": analysis.popup_type.value,\n",
    "                    \"confidence\": analysis.confidence\n",
    "                }\n",
    "                dismiss_actions.append(dismiss_action)\n",
    "        \n",
    "        return dismiss_actions\n",
    "\n"
   ]
  },
  {
   "cell_type": "markdown",
   "id": "4783d379",
   "metadata": {},
   "source": [
    "# Global instance"
   ]
  },
  {
   "cell_type": "markdown",
   "id": "e47bfc0e",
   "metadata": {},
   "source": [
    "Get the global popup classifier instance."
   ]
  },
  {
   "cell_type": "code",
   "execution_count": null,
   "id": "9822f76d",
   "metadata": {},
   "outputs": [],
   "source": [
    "_popup_classifier: Optional[PopupClassifier] = None\n",
    "\n",
    "\n",
    "def get_popup_classifier() -> PopupClassifier:\n",
    "    global _popup_classifier\n",
    "    if _popup_classifier is None:\n",
    "        _popup_classifier = PopupClassifier()\n",
    "    return _popup_classifier "
   ]
  }
 ],
 "metadata": {
  "kernelspec": {
   "display_name": "Python 3",
   "language": "python",
   "name": "python3"
  },
  "language_info": {
   "codemirror_mode": {
    "name": "ipython",
    "version": 3
   },
   "file_extension": ".py",
   "mimetype": "text/x-python",
   "name": "python",
   "nbconvert_exporter": "python",
   "pygments_lexer": "ipython3",
   "version": "3.10.0"
  }
 },
 "nbformat": 4,
 "nbformat_minor": 5
}
