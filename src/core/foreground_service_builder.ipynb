{
 "cells": [
  {
   "cell_type": "markdown",
   "id": "94b524c9",
   "metadata": {},
   "source": [
    "Foreground Service Builder for DroidBot-GPT framework.\n",
    "\n",
    "This module provides utilities to create and manage foreground services\n",
    "that help keep target apps in the foreground during automation."
   ]
  },
  {
   "cell_type": "markdown",
   "id": "a7bd3da5",
   "metadata": {},
   "source": [
    "Builder for creating foreground service APKs."
   ]
  },
  {
   "cell_type": "markdown",
   "id": "49345a2d",
   "metadata": {},
   "source": [
    "Initialize the foreground service builder."
   ]
  },
  {
   "cell_type": "markdown",
   "id": "6dc0fe21",
   "metadata": {},
   "source": [
    "Create a foreground service APK for the target app.\n",
    "        \n",
    "        Args:\n",
    "            target_package: Package name of the target app.\n",
    "            \n",
    "        Returns:\n",
    "            str: Path to the created APK, or None if failed."
   ]
  },
  {
   "cell_type": "code",
   "execution_count": null,
   "id": "cf4d5711",
   "metadata": {},
   "outputs": [],
   "source": [
    "\n",
    "import os\n",
    "import tempfile\n",
    "import subprocess\n",
    "from typing import Optional\n",
    "from pathlib import Path\n",
    "\n",
    "from ..core.logger import log\n",
    "\n",
    "\n",
    "class ForegroundServiceBuilder:\n",
    "    \n",
    "    def __init__(self):\n",
    "        self.temp_dir: Optional[str] = None\n",
    "        self.apk_path: Optional[str] = None\n",
    "    \n",
    "    async def create_foreground_service_apk(self, target_package: str) -> Optional[str]:\n",
    "        try:"
   ]
  },
  {
   "cell_type": "markdown",
   "id": "a79f1da4",
   "metadata": {},
   "source": [
    "            # Create temporary directory"
   ]
  },
  {
   "cell_type": "code",
   "execution_count": null,
   "id": "c2830118",
   "metadata": {},
   "outputs": [],
   "source": [
    "            self.temp_dir = tempfile.mkdtemp(prefix=\"droidbot_fg_service_\")\n",
    "            log.info(f\"Created temporary directory: {self.temp_dir}\")\n",
    "            "
   ]
  },
  {
   "cell_type": "markdown",
   "id": "448f4be3",
   "metadata": {},
   "source": [
    "            # Create APK structure"
   ]
  },
  {
   "cell_type": "code",
   "execution_count": null,
   "id": "67aef2bc",
   "metadata": {},
   "outputs": [],
   "source": [
    "            await self._create_apk_structure(target_package)\n",
    "            "
   ]
  },
  {
   "cell_type": "markdown",
   "id": "e3295cfd",
   "metadata": {},
   "source": [
    "            # Build the APK"
   ]
  },
  {
   "cell_type": "markdown",
   "id": "d4c1bebe",
   "metadata": {},
   "source": [
    "Create the APK directory structure and files.\n",
    "        \n",
    "        Args:\n",
    "            target_package: Package name of the target app."
   ]
  },
  {
   "cell_type": "code",
   "execution_count": null,
   "id": "bab4461e",
   "metadata": {},
   "outputs": [],
   "source": [
    "            apk_path = await self._build_apk()\n",
    "            \n",
    "            if apk_path and os.path.exists(apk_path):\n",
    "                self.apk_path = apk_path\n",
    "                log.success(f\"Foreground service APK created: {apk_path}\")\n",
    "                return apk_path\n",
    "            else:\n",
    "                log.error(\"Failed to build APK\")\n",
    "                return None\n",
    "                \n",
    "        except Exception as e:\n",
    "            log.error(f\"Failed to create foreground service APK: {e}\")\n",
    "            return None\n",
    "    \n",
    "    async def _create_apk_structure(self, target_package: str) -> None:\n",
    "        if not self.temp_dir:\n",
    "            raise RuntimeError(\"Temporary directory not created\")\n",
    "        "
   ]
  },
  {
   "cell_type": "markdown",
   "id": "f906ab6c",
   "metadata": {},
   "source": [
    "        # Create main APK directory"
   ]
  },
  {
   "cell_type": "code",
   "execution_count": null,
   "id": "4fb561d8",
   "metadata": {},
   "outputs": [],
   "source": [
    "        apk_dir = os.path.join(self.temp_dir, \"foreground_service\")\n",
    "        os.makedirs(apk_dir, exist_ok=True)\n",
    "        "
   ]
  },
  {
   "cell_type": "markdown",
   "id": "ce096963",
   "metadata": {},
   "source": [
    "        # Create AndroidManifest.xml"
   ]
  },
  {
   "cell_type": "code",
   "execution_count": null,
   "id": "fd9f2839",
   "metadata": {},
   "outputs": [],
   "source": [
    "        await self._create_android_manifest(apk_dir, target_package)\n",
    "        "
   ]
  },
  {
   "cell_type": "markdown",
   "id": "4d946ae4",
   "metadata": {},
   "source": [
    "        # Create Java source files"
   ]
  },
  {
   "cell_type": "code",
   "execution_count": null,
   "id": "ddc36d5b",
   "metadata": {},
   "outputs": [],
   "source": [
    "        await self._create_java_sources(apk_dir)\n",
    "        "
   ]
  },
  {
   "cell_type": "markdown",
   "id": "05f01287",
   "metadata": {},
   "source": [
    "        # Create resource files"
   ]
  },
  {
   "cell_type": "code",
   "execution_count": null,
   "id": "02b2c76b",
   "metadata": {},
   "outputs": [],
   "source": [
    "        await self._create_resources(apk_dir)\n",
    "        "
   ]
  },
  {
   "cell_type": "markdown",
   "id": "2356da4c",
   "metadata": {},
   "source": [
    "        # Create build files"
   ]
  },
  {
   "cell_type": "markdown",
   "id": "9a43391f",
   "metadata": {},
   "source": [
    "Create AndroidManifest.xml file.\n",
    "        \n",
    "        Args:\n",
    "            apk_dir: APK directory path.\n",
    "            target_package: Target package name."
   ]
  },
  {
   "cell_type": "markdown",
   "id": "d0e7d446",
   "metadata": {},
   "source": [
    "<?xml version=\"1.0\" encoding=\"utf-8\"?>\n",
    "<manifest xmlns:android=\"http://schemas.android.com/apk/res/android\"\n",
    "    package=\"com.droidbot.foregroundservice\"\n",
    "    android:versionCode=\"1\"\n",
    "    android:versionName=\"1.0\">\n",
    "    \n",
    "    <uses-permission android:name=\"android.permission.FOREGROUND_SERVICE\" />\n",
    "    <uses-permission android:name=\"android.permission.POST_NOTIFICATIONS\" />\n",
    "    <uses-permission android:name=\"android.permission.WAKE_LOCK\" />\n",
    "    \n",
    "    <application\n",
    "        android:allowBackup=\"true\"\n",
    "        android:icon=\"@mipmap/ic_launcher\"\n",
    "        android:label=\"DroidBot Foreground Service\"\n",
    "        android:theme=\"@style/AppTheme\">\n",
    "        \n",
    "        <service\n",
    "            android:name=\".ForegroundService\"\n",
    "            android:enabled=\"true\"\n",
    "            android:exported=\"false\"\n",
    "            android:foregroundServiceType=\"dataSync\" />\n",
    "            \n",
    "        <activity\n",
    "            android:name=\".MainActivity\"\n",
    "            android:exported=\"true\">\n",
    "            <intent-filter>\n",
    "                <action android:name=\"android.intent.action.MAIN\" />\n",
    "                <category android:name=\"android.intent.category.LAUNCHER\" />\n",
    "            </intent-filter>\n",
    "        </activity>\n",
    "            \n",
    "    </application>"
   ]
  },
  {
   "cell_type": "markdown",
   "id": "70260d8e",
   "metadata": {},
   "source": [
    "Create Java source files for the foreground service.\n",
    "        \n",
    "        Args:\n",
    "            apk_dir: APK directory path."
   ]
  },
  {
   "cell_type": "code",
   "execution_count": null,
   "id": "3c287029",
   "metadata": {},
   "outputs": [],
   "source": [
    "        await self._create_build_files(apk_dir)\n",
    "    \n",
    "    async def _create_android_manifest(self, apk_dir: str, target_package: str) -> None:\n",
    "        \n",
    "        manifest_path = os.path.join(apk_dir, \"AndroidManifest.xml\")\n",
    "        with open(manifest_path, 'w') as f:\n",
    "            f.write(manifest_content)\n",
    "        \n",
    "        log.debug(\"Created AndroidManifest.xml\")\n",
    "    \n",
    "    async def _create_java_sources(self, apk_dir: str) -> None:"
   ]
  },
  {
   "cell_type": "markdown",
   "id": "4c782ca6",
   "metadata": {},
   "source": [
    "        # Create src directory"
   ]
  },
  {
   "cell_type": "code",
   "execution_count": null,
   "id": "c46159b7",
   "metadata": {},
   "outputs": [],
   "source": [
    "        src_dir = os.path.join(apk_dir, \"src\", \"main\", \"java\", \"com\", \"droidbot\", \"foregroundservice\")\n",
    "        os.makedirs(src_dir, exist_ok=True)\n",
    "        "
   ]
  },
  {
   "cell_type": "markdown",
   "id": "04fd6956",
   "metadata": {},
   "source": [
    "package com.droidbot.foregroundservice;\n",
    "\n",
    "import android.app.Activity;\n",
    "import android.content.Intent;\n",
    "import android.os.Bundle;\n",
    "\n",
    "public class MainActivity extends Activity {\n",
    "    @Override\n",
    "    protected void onCreate(Bundle savedInstanceState) {\n",
    "        super.onCreate(savedInstanceState);\n",
    "        \n",
    "        // Start the foreground service\n",
    "        Intent serviceIntent = new Intent(this, ForegroundService.class);\n",
    "        startForegroundService(serviceIntent);\n",
    "        \n",
    "        // Finish the activity\n",
    "        finish();\n",
    "    }"
   ]
  },
  {
   "cell_type": "markdown",
   "id": "6612991f",
   "metadata": {},
   "source": [
    "        # Create MainActivity.java"
   ]
  },
  {
   "cell_type": "code",
   "execution_count": null,
   "id": "7b2e87f1",
   "metadata": {},
   "outputs": [],
   "source": [
    "        \n",
    "        main_activity_path = os.path.join(src_dir, \"MainActivity.java\")\n",
    "        with open(main_activity_path, 'w') as f:\n",
    "            f.write(main_activity_content)\n",
    "        "
   ]
  },
  {
   "cell_type": "markdown",
   "id": "07f445ab",
   "metadata": {},
   "source": [
    "package com.droidbot.foregroundservice;\n",
    "\n",
    "import android.app.Notification;\n",
    "import android.app.NotificationChannel;\n",
    "import android.app.NotificationManager;\n",
    "import android.app.Service;\n",
    "import android.content.Intent;\n",
    "import android.os.Build;\n",
    "import android.os.IBinder;\n",
    "import androidx.core.app.NotificationCompat;\n",
    "\n",
    "public class ForegroundService extends Service {\n",
    "    private static final String CHANNEL_ID = \"droidbot_automation\";\n",
    "    private static final int NOTIFICATION_ID = 1001;\n",
    "    \n",
    "    @Override\n",
    "    public void onCreate() {\n",
    "        super.onCreate();\n",
    "        createNotificationChannel();\n",
    "    }\n",
    "    \n",
    "    @Override\n",
    "    public int onStartCommand(Intent intent, int flags, int startId) {\n",
    "        Notification notification = createNotification();\n",
    "        startForeground(NOTIFICATION_ID, notification);\n",
    "        return START_STICKY;\n",
    "    }\n",
    "    \n",
    "    @Override\n",
    "    public IBinder onBind(Intent intent) {\n",
    "        return null;\n",
    "    }\n",
    "    \n",
    "    private void createNotificationChannel() {\n",
    "        if (Build.VERSION.SDK_INT >= Build.VERSION_CODES.O) {\n",
    "            NotificationChannel channel = new NotificationChannel(\n",
    "                CHANNEL_ID,\n",
    "                \"DroidBot Automation\",\n",
    "                NotificationManager.IMPORTANCE_LOW\n",
    "            );\n",
    "            channel.setDescription(\"Keeps app in foreground during automation\");\n",
    "            \n",
    "            NotificationManager manager = getSystemService(NotificationManager.class);\n",
    "            if (manager != null) {\n",
    "                manager.createNotificationChannel(channel);\n",
    "            }\n",
    "        }\n",
    "    }\n",
    "    \n",
    "    private Notification createNotification() {\n",
    "        NotificationCompat.Builder builder = new NotificationCompat.Builder(this, CHANNEL_ID)\n",
    "            .setContentTitle(\"DroidBot Automation\")\n",
    "            .setContentText(\"Keeping app in foreground for automation\")\n",
    "            .setSmallIcon(android.R.drawable.ic_dialog_info)\n",
    "            .setOngoing(true)\n",
    "            .setPriority(NotificationCompat.PRIORITY_LOW);\n",
    "        \n",
    "        return builder.build();\n",
    "    }"
   ]
  },
  {
   "cell_type": "markdown",
   "id": "b1b99a29",
   "metadata": {},
   "source": [
    "        # Create ForegroundService.java"
   ]
  },
  {
   "cell_type": "markdown",
   "id": "98732ce9",
   "metadata": {},
   "source": [
    "Create resource files for the APK.\n",
    "        \n",
    "        Args:\n",
    "            apk_dir: APK directory path."
   ]
  },
  {
   "cell_type": "code",
   "execution_count": null,
   "id": "4e8bd8ab",
   "metadata": {},
   "outputs": [],
   "source": [
    "        \n",
    "        service_path = os.path.join(src_dir, \"ForegroundService.java\")\n",
    "        with open(service_path, 'w') as f:\n",
    "            f.write(service_content)\n",
    "        \n",
    "        log.debug(\"Created Java source files\")\n",
    "    \n",
    "    async def _create_resources(self, apk_dir: str) -> None:"
   ]
  },
  {
   "cell_type": "markdown",
   "id": "b2f5a714",
   "metadata": {},
   "source": [
    "        # Create res directory structure"
   ]
  },
  {
   "cell_type": "code",
   "execution_count": null,
   "id": "8614a8d2",
   "metadata": {},
   "outputs": [],
   "source": [
    "        res_dir = os.path.join(apk_dir, \"src\", \"main\", \"res\")\n",
    "        os.makedirs(res_dir, exist_ok=True)\n",
    "        "
   ]
  },
  {
   "cell_type": "markdown",
   "id": "49655380",
   "metadata": {},
   "source": [
    "        # Create values directory"
   ]
  },
  {
   "cell_type": "code",
   "execution_count": null,
   "id": "c7ee55db",
   "metadata": {},
   "outputs": [],
   "source": [
    "        values_dir = os.path.join(res_dir, \"values\")\n",
    "        os.makedirs(values_dir, exist_ok=True)\n",
    "        "
   ]
  },
  {
   "cell_type": "markdown",
   "id": "9684cb34",
   "metadata": {},
   "source": [
    "<?xml version=\"1.0\" encoding=\"utf-8\"?>\n",
    "<resources>\n",
    "    <string name=\"app_name\">DroidBot Foreground Service</string>"
   ]
  },
  {
   "cell_type": "markdown",
   "id": "8c5bccab",
   "metadata": {},
   "source": [
    "        # Create strings.xml"
   ]
  },
  {
   "cell_type": "code",
   "execution_count": null,
   "id": "fdc6998c",
   "metadata": {},
   "outputs": [],
   "source": [
    "        \n",
    "        strings_path = os.path.join(values_dir, \"strings.xml\")\n",
    "        with open(strings_path, 'w') as f:\n",
    "            f.write(strings_content)\n",
    "        "
   ]
  },
  {
   "cell_type": "markdown",
   "id": "f893bcfd",
   "metadata": {},
   "source": [
    "<?xml version=\"1.0\" encoding=\"utf-8\"?>\n",
    "<resources>\n",
    "    <style name=\"AppTheme\" parent=\"android:Theme.Material.Light\">\n",
    "        <item name=\"android:colorPrimary\">#2196F3</item>\n",
    "        <item name=\"android:colorPrimaryDark\">#1976D2</item>\n",
    "    </style>"
   ]
  },
  {
   "cell_type": "markdown",
   "id": "09df6f07",
   "metadata": {},
   "source": [
    "        # Create styles.xml"
   ]
  },
  {
   "cell_type": "markdown",
   "id": "762b0b0d",
   "metadata": {},
   "source": [
    "Create build configuration files.\n",
    "        \n",
    "        Args:\n",
    "            apk_dir: APK directory path."
   ]
  },
  {
   "cell_type": "code",
   "execution_count": null,
   "id": "05a14359",
   "metadata": {},
   "outputs": [],
   "source": [
    "        \n",
    "        styles_path = os.path.join(values_dir, \"styles.xml\")\n",
    "        with open(styles_path, 'w') as f:\n",
    "            f.write(styles_content)\n",
    "        \n",
    "        log.debug(\"Created resource files\")\n",
    "    \n",
    "    async def _create_build_files(self, apk_dir: str) -> None:"
   ]
  },
  {
   "cell_type": "markdown",
   "id": "816fa3db",
   "metadata": {},
   "source": [
    "plugins {\n",
    "    id 'com.android.application'\n",
    "}\n",
    "\n",
    "android {\n",
    "    compileSdk 33\n",
    "    \n",
    "    defaultConfig {\n",
    "        applicationId \"com.droidbot.foregroundservice\"\n",
    "        minSdk 21\n",
    "        targetSdk 33\n",
    "        versionCode 1\n",
    "        versionName \"1.0\"\n",
    "    }\n",
    "    \n",
    "    buildTypes {\n",
    "        release {\n",
    "            minifyEnabled false\n",
    "            proguardFiles getDefaultProguardFile('proguard-android-optimize.txt'), 'proguard-rules.pro'\n",
    "        }\n",
    "    }\n",
    "    \n",
    "    compileOptions {\n",
    "        sourceCompatibility JavaVersion.VERSION_1_8\n",
    "        targetCompatibility JavaVersion.VERSION_1_8\n",
    "    }\n",
    "}\n",
    "\n",
    "dependencies {\n",
    "    implementation 'androidx.appcompat:appcompat:1.6.1'\n",
    "    implementation 'androidx.core:core:1.10.1'"
   ]
  },
  {
   "cell_type": "markdown",
   "id": "e29825bd",
   "metadata": {},
   "source": [
    "        # Create build.gradle"
   ]
  },
  {
   "cell_type": "code",
   "execution_count": null,
   "id": "748e05c9",
   "metadata": {},
   "outputs": [],
   "source": [
    "        \n",
    "        build_gradle_path = os.path.join(apk_dir, \"build.gradle\")\n",
    "        with open(build_gradle_path, 'w') as f:\n",
    "            f.write(build_gradle_content)\n",
    "        "
   ]
  },
  {
   "cell_type": "markdown",
   "id": "272c4368",
   "metadata": {},
   "source": [
    "rootProject.name = \"ForegroundService\""
   ]
  },
  {
   "cell_type": "markdown",
   "id": "3ed9031e",
   "metadata": {},
   "source": [
    "        # Create settings.gradle"
   ]
  },
  {
   "cell_type": "markdown",
   "id": "a233ca8d",
   "metadata": {},
   "source": [
    "Build the APK using Gradle.\n",
    "        \n",
    "        Returns:\n",
    "            str: Path to the built APK, or None if failed."
   ]
  },
  {
   "cell_type": "code",
   "execution_count": null,
   "id": "ac7228e4",
   "metadata": {},
   "outputs": [],
   "source": [
    "        \n",
    "        settings_gradle_path = os.path.join(apk_dir, \"settings.gradle\")\n",
    "        with open(settings_gradle_path, 'w') as f:\n",
    "            f.write(settings_gradle_content)\n",
    "        \n",
    "        log.debug(\"Created build files\")\n",
    "    \n",
    "    async def _build_apk(self) -> Optional[str]:\n",
    "        if not self.temp_dir:\n",
    "            return None\n",
    "        \n",
    "        try:\n",
    "            apk_dir = os.path.join(self.temp_dir, \"foreground_service\")\n",
    "            "
   ]
  },
  {
   "cell_type": "markdown",
   "id": "d31a0d6d",
   "metadata": {},
   "source": [
    "            # Check if we have Android SDK and Gradle available"
   ]
  },
  {
   "cell_type": "code",
   "execution_count": null,
   "id": "817cf5f4",
   "metadata": {},
   "outputs": [],
   "source": [
    "            if not self._check_build_tools():\n",
    "                log.warning(\"Android build tools not available, using simplified approach\")\n",
    "                return await self._create_simple_apk()\n",
    "            "
   ]
  },
  {
   "cell_type": "markdown",
   "id": "3acad4ec",
   "metadata": {},
   "source": [
    "            # Build with Gradle"
   ]
  },
  {
   "cell_type": "code",
   "execution_count": null,
   "id": "03c15c30",
   "metadata": {},
   "outputs": [],
   "source": [
    "            result = subprocess.run(\n",
    "                [\"./gradlew\", \"assembleDebug\"],\n",
    "                cwd=apk_dir,\n",
    "                capture_output=True,\n",
    "                text=True,\n",
    "                timeout=60\n",
    "            )\n",
    "            \n",
    "            if result.returncode == 0:"
   ]
  },
  {
   "cell_type": "markdown",
   "id": "6735992b",
   "metadata": {},
   "source": [
    "                # Find the built APK"
   ]
  },
  {
   "cell_type": "markdown",
   "id": "d51dbb81",
   "metadata": {},
   "source": [
    "Check if Android build tools are available.\n",
    "        \n",
    "        Returns:\n",
    "            bool: True if build tools are available, False otherwise."
   ]
  },
  {
   "cell_type": "code",
   "execution_count": null,
   "id": "dfa376ec",
   "metadata": {},
   "outputs": [],
   "source": [
    "                apk_path = os.path.join(apk_dir, \"build\", \"outputs\", \"apk\", \"debug\", \"foreground_service-debug.apk\")\n",
    "                if os.path.exists(apk_path):\n",
    "                    return apk_path\n",
    "            \n",
    "            log.error(f\"Gradle build failed: {result.stderr}\")\n",
    "            return None\n",
    "            \n",
    "        except Exception as e:\n",
    "            log.error(f\"APK build failed: {e}\")\n",
    "            return None\n",
    "    \n",
    "    def _check_build_tools(self) -> bool:\n",
    "        try:"
   ]
  },
  {
   "cell_type": "markdown",
   "id": "1930c5c7",
   "metadata": {},
   "source": [
    "            # Check for Android SDK"
   ]
  },
  {
   "cell_type": "code",
   "execution_count": null,
   "id": "a19011d2",
   "metadata": {},
   "outputs": [],
   "source": [
    "            android_home = os.environ.get('ANDROID_HOME')\n",
    "            if not android_home:\n",
    "                return False\n",
    "            "
   ]
  },
  {
   "cell_type": "markdown",
   "id": "b28b87be",
   "metadata": {},
   "source": [
    "            # Check for Gradle"
   ]
  },
  {
   "cell_type": "markdown",
   "id": "74378218",
   "metadata": {},
   "source": [
    "Create a simple APK using alternative methods.\n",
    "        \n",
    "        Returns:\n",
    "            str: Path to the created APK, or None if failed."
   ]
  },
  {
   "cell_type": "code",
   "execution_count": null,
   "id": "b580f572",
   "metadata": {},
   "outputs": [],
   "source": [
    "            result = subprocess.run([\"gradle\", \"--version\"], capture_output=True, text=True)\n",
    "            return result.returncode == 0\n",
    "            \n",
    "        except Exception:\n",
    "            return False\n",
    "    \n",
    "    async def _create_simple_apk(self) -> Optional[str]:"
   ]
  },
  {
   "cell_type": "markdown",
   "id": "2cea6eae",
   "metadata": {},
   "source": [
    "        # For now, return None to indicate we should use shell-based approach\n",
    "        # In a full implementation, you could use tools like apktool or aapt"
   ]
  },
  {
   "cell_type": "markdown",
   "id": "039c7e5a",
   "metadata": {},
   "source": [
    "Clean up temporary files."
   ]
  },
  {
   "cell_type": "code",
   "execution_count": null,
   "id": "70928403",
   "metadata": {},
   "outputs": [],
   "source": [
    "        return None\n",
    "    \n",
    "    def cleanup(self) -> None:\n",
    "        try:\n",
    "            if self.temp_dir and os.path.exists(self.temp_dir):\n",
    "                import shutil\n",
    "                shutil.rmtree(self.temp_dir)\n",
    "                log.debug(f\"Cleaned up temporary directory: {self.temp_dir}\")\n",
    "        except Exception as e:\n",
    "            log.warning(f\"Failed to cleanup temporary files: {e}\")\n",
    "\n"
   ]
  },
  {
   "cell_type": "markdown",
   "id": "fa4553b8",
   "metadata": {},
   "source": [
    "# Global instance"
   ]
  },
  {
   "cell_type": "markdown",
   "id": "86fa3fd8",
   "metadata": {},
   "source": [
    "Get the global foreground service builder instance.\n",
    "    \n",
    "    Returns:\n",
    "        ForegroundServiceBuilder: The builder instance."
   ]
  },
  {
   "cell_type": "code",
   "execution_count": null,
   "id": "22ba36b6",
   "metadata": {},
   "outputs": [],
   "source": [
    "_foreground_service_builder: Optional[ForegroundServiceBuilder] = None\n",
    "\n",
    "\n",
    "def get_foreground_service_builder() -> ForegroundServiceBuilder:\n",
    "    global _foreground_service_builder\n",
    "    if _foreground_service_builder is None:\n",
    "        _foreground_service_builder = ForegroundServiceBuilder()\n",
    "    return _foreground_service_builder "
   ]
  }
 ],
 "metadata": {
  "kernelspec": {
   "display_name": "Python 3",
   "language": "python",
   "name": "python3"
  },
  "language_info": {
   "codemirror_mode": {
    "name": "ipython",
    "version": 3
   },
   "file_extension": ".py",
   "mimetype": "text/x-python",
   "name": "python",
   "nbconvert_exporter": "python",
   "pygments_lexer": "ipython3",
   "version": "3.10.0"
  }
 },
 "nbformat": 4,
 "nbformat_minor": 5
}
