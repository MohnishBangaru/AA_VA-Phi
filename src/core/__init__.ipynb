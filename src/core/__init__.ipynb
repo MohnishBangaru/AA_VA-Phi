{
 "cells": [
  {
   "cell_type": "markdown",
   "id": "c6066819",
   "metadata": {},
   "source": [
    "Core components of the DroidBot-GPT framework."
   ]
  },
  {
   "cell_type": "code",
   "execution_count": null,
   "id": "37740b68",
   "metadata": {},
   "outputs": [],
   "source": [
    "\n",
    "from .config import Config, config\n",
    "from .device_manager import DeviceInfo, EnhancedDeviceManager\n",
    "from .explorer import Explorer\n",
    "from .logger import Logger, log\n",
    "\n",
    "__all__ = [\n",
    "    \"Config\",\n",
    "    \"DeviceInfo\",\n",
    "    \"Explorer\",\n",
    "    \"EnhancedDeviceManager\",\n",
    "    \"Logger\",\n",
    "    \"config\",\n",
    "    \"log\",\n",
    "] "
   ]
  }
 ],
 "metadata": {
  "kernelspec": {
   "display_name": "Python 3",
   "language": "python",
   "name": "python3"
  },
  "language_info": {
   "codemirror_mode": {
    "name": "ipython",
    "version": 3
   },
   "file_extension": ".py",
   "mimetype": "text/x-python",
   "name": "python",
   "nbconvert_exporter": "python",
   "pygments_lexer": "ipython3",
   "version": "3.10.0"
  }
 },
 "nbformat": 4,
 "nbformat_minor": 5
}
