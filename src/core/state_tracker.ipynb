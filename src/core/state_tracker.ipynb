{
 "cells": [
  {
   "cell_type": "markdown",
   "id": "ce240d42",
   "metadata": {},
   "source": [
    "State tracking system for DroidBot-GPT automation.\n",
    "\n",
    "This module tracks visited UI states and helps avoid revisiting them,\n",
    "ensuring the automation explores new states and doesn't get stuck in loops."
   ]
  },
  {
   "cell_type": "markdown",
   "id": "6791ea61",
   "metadata": {},
   "source": [
    "Tracks visited UI states and manages state exploration strategy."
   ]
  },
  {
   "cell_type": "markdown",
   "id": "011d0aa8",
   "metadata": {},
   "source": [
    "Initialize the state tracker."
   ]
  },
  {
   "cell_type": "markdown",
   "id": "57a1d944",
   "metadata": {},
   "source": [
    "Generate a unique hash for the current UI state."
   ]
  },
  {
   "cell_type": "code",
   "execution_count": null,
   "id": "a8c3cf16",
   "metadata": {},
   "outputs": [],
   "source": [
    "\n",
    "from __future__ import annotations\n",
    "\n",
    "import hashlib\n",
    "import json\n",
    "import time\n",
    "from typing import Any, Dict, List, Optional, Set, Tuple\n",
    "\n",
    "from loguru import logger\n",
    "\n",
    "from ..vision.models import UIElement\n",
    "\n",
    "\n",
    "class StateTracker:\n",
    "    \n",
    "    def __init__(self) -> None:\n",
    "        self.visited_states: Set[str] = set()\n",
    "        self.state_history: List[Dict[str, Any]] = []\n",
    "        self.state_visit_counts: Dict[str, int] = {}\n",
    "        self.last_state_change_time: float = 0.0\n",
    "        self.current_state_hash: str = \"\"\n",
    "        self.state_similarity_threshold: float = 0.85\n",
    "        self.max_state_history: int = 100\n",
    "        \n",
    "    def _generate_state_hash(self, ui_elements: List[UIElement], context: str = \"\") -> str:"
   ]
  },
  {
   "cell_type": "markdown",
   "id": "10341866",
   "metadata": {},
   "source": [
    "        # Create a state signature based on element properties"
   ]
  },
  {
   "cell_type": "code",
   "execution_count": null,
   "id": "af3ff661",
   "metadata": {},
   "outputs": [],
   "source": [
    "        state_data = {\n",
    "            \"element_count\": len(ui_elements),\n",
    "            \"element_signatures\": [],\n",
    "            \"context\": context\n",
    "        }\n",
    "        "
   ]
  },
  {
   "cell_type": "markdown",
   "id": "7df9c0ef",
   "metadata": {},
   "source": [
    "        # Create signatures for each element (text, type, relative position)"
   ]
  },
  {
   "cell_type": "code",
   "execution_count": null,
   "id": "a2a4829f",
   "metadata": {},
   "outputs": [],
   "source": [
    "        for element in ui_elements:\n",
    "            x1, y1, x2, y2 = element.bbox.as_tuple()"
   ]
  },
  {
   "cell_type": "markdown",
   "id": "a3a4e745",
   "metadata": {},
   "source": [
    "            # Normalize position to relative coordinates (0-100)"
   ]
  },
  {
   "cell_type": "code",
   "execution_count": null,
   "id": "999087ad",
   "metadata": {},
   "outputs": [],
   "source": [
    "            rel_x = (x1 + x2) / 2 / 1080 * 100  # Assuming 1080px width\n",
    "            rel_y = (y1 + y2) / 2 / 1920 * 100  # Assuming 1920px height\n",
    "            \n",
    "            element_signature = {\n",
    "                \"text\": element.text.lower().strip(),\n",
    "                \"type\": element.element_type,\n",
    "                \"rel_x\": round(rel_x, 1),\n",
    "                \"rel_y\": round(rel_y, 1),\n",
    "                \"confidence\": round(element.confidence, 2)\n",
    "            }\n",
    "            state_data[\"element_signatures\"].append(element_signature)\n",
    "        "
   ]
  },
  {
   "cell_type": "markdown",
   "id": "74e79ced",
   "metadata": {},
   "source": [
    "        # Sort element signatures for consistent hashing"
   ]
  },
  {
   "cell_type": "code",
   "execution_count": null,
   "id": "86912a42",
   "metadata": {},
   "outputs": [],
   "source": [
    "        state_data[\"element_signatures\"].sort(key=lambda x: (x[\"rel_y\"], x[\"rel_x\"]))\n",
    "        "
   ]
  },
  {
   "cell_type": "markdown",
   "id": "237cba41",
   "metadata": {},
   "source": [
    "        # Convert to JSON string and hash"
   ]
  },
  {
   "cell_type": "markdown",
   "id": "f09bffbe",
   "metadata": {},
   "source": [
    "Calculate similarity between two states (0.0 to 1.0)."
   ]
  },
  {
   "cell_type": "code",
   "execution_count": null,
   "id": "5c411737",
   "metadata": {},
   "outputs": [],
   "source": [
    "        json_str = json.dumps(state_data, sort_keys=True)\n",
    "        return hashlib.md5(json_str.encode()).hexdigest()\n",
    "    \n",
    "    def _calculate_state_similarity(self, state1_elements: List[UIElement], state2_elements: List[UIElement]) -> float:\n",
    "        if not state1_elements or not state2_elements:\n",
    "            return 0.0\n",
    "        "
   ]
  },
  {
   "cell_type": "markdown",
   "id": "d6fbc6e9",
   "metadata": {},
   "source": [
    "        # Count similar elements"
   ]
  },
  {
   "cell_type": "code",
   "execution_count": null,
   "id": "ea4fee2b",
   "metadata": {},
   "outputs": [],
   "source": [
    "        similar_count = 0\n",
    "        total_elements = max(len(state1_elements), len(state2_elements))\n",
    "        \n",
    "        for elem1 in state1_elements:\n",
    "            for elem2 in state2_elements:"
   ]
  },
  {
   "cell_type": "markdown",
   "id": "b01a943f",
   "metadata": {},
   "source": [
    "                # Check if elements are similar (same text and type)"
   ]
  },
  {
   "cell_type": "markdown",
   "id": "a4b5354d",
   "metadata": {},
   "source": [
    "Check if the current state has been visited before."
   ]
  },
  {
   "cell_type": "code",
   "execution_count": null,
   "id": "7e00ce70",
   "metadata": {},
   "outputs": [],
   "source": [
    "                if (elem1.text.lower().strip() == elem2.text.lower().strip() and \n",
    "                    elem1.element_type == elem2.element_type):\n",
    "                    similar_count += 1\n",
    "                    break\n",
    "        \n",
    "        return similar_count / total_elements if total_elements > 0 else 0.0\n",
    "    \n",
    "    def is_state_visited(self, ui_elements: List[UIElement], context: str = \"\") -> bool:\n",
    "        current_hash = self._generate_state_hash(ui_elements, context)\n",
    "        "
   ]
  },
  {
   "cell_type": "markdown",
   "id": "9d65e3a6",
   "metadata": {},
   "source": [
    "        # Direct hash match"
   ]
  },
  {
   "cell_type": "code",
   "execution_count": null,
   "id": "94a29b33",
   "metadata": {},
   "outputs": [],
   "source": [
    "        if current_hash in self.visited_states:\n",
    "            return True\n",
    "        "
   ]
  },
  {
   "cell_type": "markdown",
   "id": "2d8c6103",
   "metadata": {},
   "source": [
    "        # Check for similar states in history"
   ]
  },
  {
   "cell_type": "code",
   "execution_count": null,
   "id": "d3db1b62",
   "metadata": {},
   "outputs": [],
   "source": [
    "        for history_entry in self.state_history:\n",
    "            if history_entry.get(\"context\") == context:"
   ]
  },
  {
   "cell_type": "markdown",
   "id": "12afa598",
   "metadata": {},
   "source": [
    "                # Reconstruct historical elements (simplified)"
   ]
  },
  {
   "cell_type": "markdown",
   "id": "d38fba9e",
   "metadata": {},
   "source": [
    "Mark the current state as visited."
   ]
  },
  {
   "cell_type": "code",
   "execution_count": null,
   "id": "53224d06",
   "metadata": {},
   "outputs": [],
   "source": [
    "                historical_elements = history_entry.get(\"elements\", [])\n",
    "                if historical_elements:\n",
    "                    similarity = self._calculate_state_similarity(ui_elements, historical_elements)\n",
    "                    if similarity >= self.state_similarity_threshold:\n",
    "                        logger.debug(f\"State similar to visited state (similarity: {similarity:.2f})\")\n",
    "                        return True\n",
    "        \n",
    "        return False\n",
    "    \n",
    "    def mark_state_visited(self, ui_elements: List[UIElement], context: str = \"\", action: Optional[Dict[str, Any]] = None) -> None:\n",
    "        state_hash = self._generate_state_hash(ui_elements, context)\n",
    "        "
   ]
  },
  {
   "cell_type": "markdown",
   "id": "633b261e",
   "metadata": {},
   "source": [
    "        # Add to visited set"
   ]
  },
  {
   "cell_type": "code",
   "execution_count": null,
   "id": "796f7f21",
   "metadata": {},
   "outputs": [],
   "source": [
    "        self.visited_states.add(state_hash)\n",
    "        "
   ]
  },
  {
   "cell_type": "markdown",
   "id": "82e00377",
   "metadata": {},
   "source": [
    "        # Update visit count"
   ]
  },
  {
   "cell_type": "code",
   "execution_count": null,
   "id": "b9058311",
   "metadata": {},
   "outputs": [],
   "source": [
    "        self.state_visit_counts[state_hash] = self.state_visit_counts.get(state_hash, 0) + 1\n",
    "        "
   ]
  },
  {
   "cell_type": "markdown",
   "id": "08a9585d",
   "metadata": {},
   "source": [
    "        # Record in history"
   ]
  },
  {
   "cell_type": "code",
   "execution_count": null,
   "id": "e4ae8564",
   "metadata": {},
   "outputs": [],
   "source": [
    "        history_entry = {\n",
    "            \"timestamp\": time.time(),\n",
    "            \"state_hash\": state_hash,\n",
    "            \"context\": context,\n",
    "            \"element_count\": len(ui_elements),\n",
    "            \"elements\": [\n",
    "                {\n",
    "                    \"text\": elem.text,\n",
    "                    \"type\": elem.element_type,\n",
    "                    \"bbox\": elem.bbox.as_tuple(),\n",
    "                    \"confidence\": elem.confidence\n",
    "                }\n",
    "                for elem in ui_elements\n",
    "            ],\n",
    "            \"action\": action,\n",
    "            \"visit_count\": self.state_visit_counts[state_hash]\n",
    "        }\n",
    "        \n",
    "        self.state_history.append(history_entry)\n",
    "        self.last_state_change_time = time.time()\n",
    "        self.current_state_hash = state_hash\n",
    "        "
   ]
  },
  {
   "cell_type": "markdown",
   "id": "d59fbf75",
   "metadata": {},
   "source": [
    "        # Limit history size"
   ]
  },
  {
   "cell_type": "markdown",
   "id": "d253ba31",
   "metadata": {},
   "source": [
    "Get exploration priority for the current state (higher = more novel)."
   ]
  },
  {
   "cell_type": "code",
   "execution_count": null,
   "id": "27cf1f78",
   "metadata": {},
   "outputs": [],
   "source": [
    "        if len(self.state_history) > self.max_state_history:\n",
    "            self.state_history.pop(0)\n",
    "        \n",
    "        logger.debug(f\"Marked state as visited: {state_hash[:8]} (elements: {len(ui_elements)})\")\n",
    "    \n",
    "    def get_state_exploration_priority(self, ui_elements: List[UIElement], context: str = \"\") -> float:\n",
    "        if not ui_elements:\n",
    "            return 0.0\n",
    "        "
   ]
  },
  {
   "cell_type": "markdown",
   "id": "80f6a02f",
   "metadata": {},
   "source": [
    "        # Check if state is visited"
   ]
  },
  {
   "cell_type": "code",
   "execution_count": null,
   "id": "9d1e4a97",
   "metadata": {},
   "outputs": [],
   "source": [
    "        is_visited = self.is_state_visited(ui_elements, context)\n",
    "        \n",
    "        if not is_visited:"
   ]
  },
  {
   "cell_type": "markdown",
   "id": "c7e55876",
   "metadata": {},
   "source": [
    "            # New state gets high priority"
   ]
  },
  {
   "cell_type": "code",
   "execution_count": null,
   "id": "6504e71a",
   "metadata": {},
   "outputs": [],
   "source": [
    "            return 1.0\n",
    "        "
   ]
  },
  {
   "cell_type": "markdown",
   "id": "f01e6494",
   "metadata": {},
   "source": [
    "        # Visited state gets lower priority based on visit count"
   ]
  },
  {
   "cell_type": "code",
   "execution_count": null,
   "id": "9dddf2a2",
   "metadata": {},
   "outputs": [],
   "source": [
    "        state_hash = self._generate_state_hash(ui_elements, context)\n",
    "        visit_count = self.state_visit_counts.get(state_hash, 1)\n",
    "        "
   ]
  },
  {
   "cell_type": "markdown",
   "id": "e9acc404",
   "metadata": {},
   "source": [
    "        # Exponential decay based on visit count"
   ]
  },
  {
   "cell_type": "code",
   "execution_count": null,
   "id": "5e098439",
   "metadata": {},
   "outputs": [],
   "source": [
    "        priority = max(0.0, 1.0 - (visit_count * 0.3))\n",
    "        "
   ]
  },
  {
   "cell_type": "markdown",
   "id": "a64d05c8",
   "metadata": {},
   "source": [
    "        # Time-based bonus for old visited states"
   ]
  },
  {
   "cell_type": "markdown",
   "id": "3985a01d",
   "metadata": {},
   "source": [
    "Analyze the transition from previous state to current state."
   ]
  },
  {
   "cell_type": "code",
   "execution_count": null,
   "id": "e554dacd",
   "metadata": {},
   "outputs": [],
   "source": [
    "        time_since_visit = time.time() - self.last_state_change_time\n",
    "        if time_since_visit > 300:  # 5 minutes\n",
    "            priority += 0.1\n",
    "        \n",
    "        return priority\n",
    "    \n",
    "    def get_state_transition_analysis(self, previous_elements: List[UIElement], current_elements: List[UIElement]) -> Dict[str, Any]:\n",
    "        if not previous_elements or not current_elements:\n",
    "            return {\"type\": \"unknown\", \"confidence\": 0.0}\n",
    "        "
   ]
  },
  {
   "cell_type": "markdown",
   "id": "aee8c36e",
   "metadata": {},
   "source": [
    "        # Calculate similarity"
   ]
  },
  {
   "cell_type": "code",
   "execution_count": null,
   "id": "932d4643",
   "metadata": {},
   "outputs": [],
   "source": [
    "        similarity = self._calculate_state_similarity(previous_elements, current_elements)\n",
    "        "
   ]
  },
  {
   "cell_type": "markdown",
   "id": "9ca2b11c",
   "metadata": {},
   "source": [
    "        # Analyze transition type"
   ]
  },
  {
   "cell_type": "code",
   "execution_count": null,
   "id": "6b82a303",
   "metadata": {},
   "outputs": [],
   "source": [
    "        if similarity > 0.9:\n",
    "            transition_type = \"no_change\"\n",
    "        elif similarity > 0.7:\n",
    "            transition_type = \"minor_change\"\n",
    "        elif similarity > 0.3:\n",
    "            transition_type = \"major_change\"\n",
    "        else:\n",
    "            transition_type = \"new_screen\"\n",
    "        "
   ]
  },
  {
   "cell_type": "markdown",
   "id": "f70f445a",
   "metadata": {},
   "source": [
    "        # Count new elements"
   ]
  },
  {
   "cell_type": "markdown",
   "id": "8f0f0cb2",
   "metadata": {},
   "source": [
    "Get statistics about state exploration."
   ]
  },
  {
   "cell_type": "code",
   "execution_count": null,
   "id": "36ca2541",
   "metadata": {},
   "outputs": [],
   "source": [
    "        new_elements = []\n",
    "        for current_elem in current_elements:\n",
    "            is_new = True\n",
    "            for prev_elem in previous_elements:\n",
    "                if (current_elem.text.lower().strip() == prev_elem.text.lower().strip() and \n",
    "                    current_elem.element_type == prev_elem.element_type):\n",
    "                    is_new = False\n",
    "                    break\n",
    "            if is_new:\n",
    "                new_elements.append(current_elem.text)\n",
    "        \n",
    "        return {\n",
    "            \"type\": transition_type,\n",
    "            \"similarity\": similarity,\n",
    "            \"new_elements\": new_elements,\n",
    "            \"new_element_count\": len(new_elements),\n",
    "            \"confidence\": 1.0 - similarity  # Higher confidence for more novel states\n",
    "        }\n",
    "    \n",
    "    def get_state_exploration_stats(self) -> Dict[str, Any]:\n",
    "        total_visited = len(self.visited_states)\n",
    "        total_visits = sum(self.state_visit_counts.values())\n",
    "        "
   ]
  },
  {
   "cell_type": "markdown",
   "id": "3d2cb30c",
   "metadata": {},
   "source": [
    "        # Analyze recent activity"
   ]
  },
  {
   "cell_type": "code",
   "execution_count": null,
   "id": "fbf32c7c",
   "metadata": {},
   "outputs": [],
   "source": [
    "        recent_time = time.time() - 300  # Last 5 minutes\n",
    "        recent_states = [\n",
    "            entry for entry in self.state_history \n",
    "            if entry[\"timestamp\"] > recent_time\n",
    "        ]\n",
    "        "
   ]
  },
  {
   "cell_type": "markdown",
   "id": "06dc1ed3",
   "metadata": {},
   "source": [
    "        # Calculate average visits per state"
   ]
  },
  {
   "cell_type": "code",
   "execution_count": null,
   "id": "d860655e",
   "metadata": {},
   "outputs": [],
   "source": [
    "        avg_visits = total_visits / total_visited if total_visited > 0 else 0\n",
    "        "
   ]
  },
  {
   "cell_type": "markdown",
   "id": "9125e548",
   "metadata": {},
   "source": [
    "        # Find most visited state"
   ]
  },
  {
   "cell_type": "markdown",
   "id": "6a7bc885",
   "metadata": {},
   "source": [
    "Reset all state tracking."
   ]
  },
  {
   "cell_type": "markdown",
   "id": "f9c61916",
   "metadata": {},
   "source": [
    "Set the state similarity threshold."
   ]
  },
  {
   "cell_type": "markdown",
   "id": "0cf2e412",
   "metadata": {},
   "source": [
    "Export state tracking data for analysis."
   ]
  },
  {
   "cell_type": "markdown",
   "id": "ff906d16",
   "metadata": {},
   "source": [
    "Import state tracking data."
   ]
  },
  {
   "cell_type": "code",
   "execution_count": null,
   "id": "27827ac1",
   "metadata": {},
   "outputs": [],
   "source": [
    "        most_visited_state = None\n",
    "        max_visits = 0\n",
    "        for state_hash, visits in self.state_visit_counts.items():\n",
    "            if visits > max_visits:\n",
    "                max_visits = visits\n",
    "                most_visited_state = state_hash\n",
    "        \n",
    "        return {\n",
    "            \"total_visited_states\": total_visited,\n",
    "            \"total_state_visits\": total_visits,\n",
    "            \"average_visits_per_state\": round(avg_visits, 2),\n",
    "            \"recent_state_visits\": len(recent_states),\n",
    "            \"most_visited_state\": most_visited_state[:8] if most_visited_state else None,\n",
    "            \"max_visits_to_state\": max_visits,\n",
    "            \"current_state_hash\": self.current_state_hash[:8] if self.current_state_hash else None,\n",
    "            \"last_state_change_time\": self.last_state_change_time,\n",
    "            \"state_history_length\": len(self.state_history)\n",
    "        }\n",
    "    \n",
    "    def reset_state_tracking(self) -> None:\n",
    "        self.visited_states.clear()\n",
    "        self.state_history.clear()\n",
    "        self.state_visit_counts.clear()\n",
    "        self.last_state_change_time = 0.0\n",
    "        self.current_state_hash = \"\"\n",
    "        logger.info(\"State tracking reset\")\n",
    "    \n",
    "    def set_similarity_threshold(self, threshold: float) -> None:\n",
    "        if 0.0 <= threshold <= 1.0:\n",
    "            self.state_similarity_threshold = threshold\n",
    "            logger.info(f\"State similarity threshold set to: {threshold}\")\n",
    "        else:\n",
    "            raise ValueError(\"Threshold must be between 0.0 and 1.0\")\n",
    "    \n",
    "    def export_state_data(self) -> Dict[str, Any]:\n",
    "        return {\n",
    "            \"visited_states\": list(self.visited_states),\n",
    "            \"state_history\": self.state_history,\n",
    "            \"state_visit_counts\": self.state_visit_counts,\n",
    "            \"similarity_threshold\": self.state_similarity_threshold,\n",
    "            \"last_state_change_time\": self.last_state_change_time,\n",
    "            \"current_state_hash\": self.current_state_hash,\n",
    "            \"stats\": self.get_state_exploration_stats()\n",
    "        }\n",
    "    \n",
    "    def import_state_data(self, data: Dict[str, Any]) -> None:\n",
    "        self.visited_states = set(data.get(\"visited_states\", []))\n",
    "        self.state_history = data.get(\"state_history\", [])\n",
    "        self.state_visit_counts = data.get(\"state_visit_counts\", {})\n",
    "        self.state_similarity_threshold = data.get(\"similarity_threshold\", 0.85)\n",
    "        self.last_state_change_time = data.get(\"last_state_change_time\", 0.0)\n",
    "        self.current_state_hash = data.get(\"current_state_hash\", \"\")\n",
    "        \n",
    "        logger.info(f\"Imported state data: {len(self.visited_states)} visited states\")\n",
    "\n"
   ]
  },
  {
   "cell_type": "markdown",
   "id": "97bb848e",
   "metadata": {},
   "source": [
    "# Global instance for reuse"
   ]
  },
  {
   "cell_type": "markdown",
   "id": "9e86d7ce",
   "metadata": {},
   "source": [
    "Get or create the global state tracker instance."
   ]
  },
  {
   "cell_type": "code",
   "execution_count": null,
   "id": "0f3f20e7",
   "metadata": {},
   "outputs": [],
   "source": [
    "_state_tracker = None\n",
    "\n",
    "\n",
    "def get_state_tracker() -> StateTracker:\n",
    "    global _state_tracker\n",
    "    if _state_tracker is None:\n",
    "        _state_tracker = StateTracker()\n",
    "    return _state_tracker "
   ]
  }
 ],
 "metadata": {
  "kernelspec": {
   "display_name": "Python 3",
   "language": "python",
   "name": "python3"
  },
  "language_info": {
   "codemirror_mode": {
    "name": "ipython",
    "version": 3
   },
   "file_extension": ".py",
   "mimetype": "text/x-python",
   "name": "python",
   "nbconvert_exporter": "python",
   "pygments_lexer": "ipython3",
   "version": "3.10.0"
  }
 },
 "nbformat": 4,
 "nbformat_minor": 5
}
