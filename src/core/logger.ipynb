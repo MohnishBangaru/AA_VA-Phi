{
 "cells": [
  {
   "cell_type": "markdown",
   "id": "da338d3c",
   "metadata": {},
   "source": [
    "DroidNot structured logging system."
   ]
  },
  {
   "cell_type": "markdown",
   "id": "6bbea17e",
   "metadata": {},
   "source": [
    "Structured logging system for DroidBot-GPT framework."
   ]
  },
  {
   "cell_type": "markdown",
   "id": "eb46c874",
   "metadata": {},
   "source": [
    "Initialize and configure a *Loguru* logger instance."
   ]
  },
  {
   "cell_type": "markdown",
   "id": "c15b4353",
   "metadata": {},
   "source": [
    "Configure the logger with proper formatting and handlers."
   ]
  },
  {
   "cell_type": "code",
   "execution_count": null,
   "id": "1e4b92cd",
   "metadata": {},
   "outputs": [],
   "source": [
    "\n",
    "from __future__ import annotations\n",
    "\n",
    "import os\n",
    "import sys\n",
    "from typing import Any\n",
    "\n",
    "from loguru import logger\n",
    "\n",
    "from .config import config\n",
    "\n",
    "\n",
    "class Logger:\n",
    "    \n",
    "    def __init__(self, name: str = \"DroidNot\") -> None:\n",
    "        self.name = name\n",
    "        self._setup_logger()\n",
    "    \n",
    "    def _setup_logger(self) -> None:"
   ]
  },
  {
   "cell_type": "markdown",
   "id": "3e04cb30",
   "metadata": {},
   "source": [
    "        # Remove default handler"
   ]
  },
  {
   "cell_type": "code",
   "execution_count": null,
   "id": "a4c3173a",
   "metadata": {},
   "outputs": [],
   "source": [
    "        logger.remove()\n",
    "        "
   ]
  },
  {
   "cell_type": "markdown",
   "id": "0f563b70",
   "metadata": {},
   "source": [
    "        # Create logs directory if it doesn't exist"
   ]
  },
  {
   "cell_type": "code",
   "execution_count": null,
   "id": "b7257cdc",
   "metadata": {},
   "outputs": [],
   "source": [
    "        logs_dir = \"logs\"\n",
    "        os.makedirs(logs_dir, exist_ok=True)\n",
    "        "
   ]
  },
  {
   "cell_type": "markdown",
   "id": "5179105e",
   "metadata": {},
   "source": [
    "        # ------------------------------------------------------------------\n",
    "        # Console handler\n",
    "        # ------------------------------------------------------------------"
   ]
  },
  {
   "cell_type": "code",
   "execution_count": null,
   "id": "198ce190",
   "metadata": {},
   "outputs": [],
   "source": [
    "        console_format = (\n",
    "            \"<green>{time:YYYY-MM-DD HH:mm:ss}</green> | \"\n",
    "            \"<level>{level:<8}</level> | \"\n",
    "            \"<cyan>{name}</cyan>:<cyan>{function}</cyan>:<cyan>{line}</cyan> | \"\n",
    "            \"<level>{message}</level>\"\n",
    "        )\n",
    "\n",
    "        logger.add(\n",
    "            sys.stdout,\n",
    "            format=console_format,\n",
    "            level=config.log_level,\n",
    "            colorize=True,\n",
    "        )\n",
    "        "
   ]
  },
  {
   "cell_type": "markdown",
   "id": "65019ba9",
   "metadata": {},
   "source": [
    "        # ------------------------------------------------------------------\n",
    "        # File handlers\n",
    "        # ------------------------------------------------------------------"
   ]
  },
  {
   "cell_type": "code",
   "execution_count": null,
   "id": "beef1618",
   "metadata": {},
   "outputs": [],
   "source": [
    "        file_format = (\n",
    "            \"{time:YYYY-MM-DD HH:mm:ss} | {level:<8} | \"\n",
    "            \"{name}:{function}:{line} | {message}\"\n",
    "        )\n",
    "\n",
    "        logger.add(\n",
    "            os.path.join(logs_dir, \"droidbot_{time:YYYY-MM-DD}.log\"),\n",
    "            format=file_format,\n",
    "            level=\"DEBUG\",\n",
    "            rotation=\"1 day\",\n",
    "            retention=\"30 days\",\n",
    "            compression=\"zip\",\n",
    "        )\n",
    "        "
   ]
  },
  {
   "cell_type": "markdown",
   "id": "00ffa0e4",
   "metadata": {},
   "source": [
    "        # Separate error log"
   ]
  },
  {
   "cell_type": "markdown",
   "id": "ab0c4b0b",
   "metadata": {},
   "source": [
    "Log info message."
   ]
  },
  {
   "cell_type": "markdown",
   "id": "151fa648",
   "metadata": {},
   "source": [
    "Log debug message."
   ]
  },
  {
   "cell_type": "markdown",
   "id": "29d145e9",
   "metadata": {},
   "source": [
    "Log warning message."
   ]
  },
  {
   "cell_type": "markdown",
   "id": "a4f378a5",
   "metadata": {},
   "source": [
    "Log error message."
   ]
  },
  {
   "cell_type": "markdown",
   "id": "f49b907d",
   "metadata": {},
   "source": [
    "Log critical message."
   ]
  },
  {
   "cell_type": "markdown",
   "id": "e75626d5",
   "metadata": {},
   "source": [
    "Log success message."
   ]
  },
  {
   "cell_type": "markdown",
   "id": "2788e890",
   "metadata": {},
   "source": [
    "Log automation step with details."
   ]
  },
  {
   "cell_type": "markdown",
   "id": "70bcf88f",
   "metadata": {},
   "source": [
    "Log AI decision with confidence and context."
   ]
  },
  {
   "cell_type": "markdown",
   "id": "fb026bc7",
   "metadata": {},
   "source": [
    "Log computer vision detection results."
   ]
  },
  {
   "cell_type": "markdown",
   "id": "b1a4207c",
   "metadata": {},
   "source": [
    "Log resource usage metrics."
   ]
  },
  {
   "cell_type": "markdown",
   "id": "7b939e20",
   "metadata": {},
   "source": [
    "Log performance metrics."
   ]
  },
  {
   "cell_type": "code",
   "execution_count": null,
   "id": "27b6dfe4",
   "metadata": {},
   "outputs": [],
   "source": [
    "        logger.add(\n",
    "            os.path.join(logs_dir, \"errors_{time:YYYY-MM-DD}.log\"),\n",
    "            format=file_format,\n",
    "            level=\"ERROR\",\n",
    "            rotation=\"1 day\",\n",
    "            retention=\"90 days\",\n",
    "            compression=\"zip\",\n",
    "        )\n",
    "    \n",
    "    def info(self, message: str, **kwargs: Any) -> None:\n",
    "        logger.info(f\"[{self.name}] {message}\", **kwargs)\n",
    "    \n",
    "    def debug(self, message: str, **kwargs: Any) -> None:\n",
    "        logger.debug(f\"[{self.name}] {message}\", **kwargs)\n",
    "    \n",
    "    def warning(self, message: str, **kwargs: Any) -> None:\n",
    "        logger.warning(f\"[{self.name}] {message}\", **kwargs)\n",
    "    \n",
    "    def error(self, message: str, **kwargs: Any) -> None:\n",
    "        logger.error(f\"[{self.name}] {message}\", **kwargs)\n",
    "    \n",
    "    def critical(self, message: str, **kwargs: Any) -> None:\n",
    "        logger.critical(f\"[{self.name}] {message}\", **kwargs)\n",
    "    \n",
    "    def success(self, message: str, **kwargs: Any) -> None:\n",
    "        logger.success(f\"[{self.name}] {message}\", **kwargs)\n",
    "    \n",
    "    def log_automation_step(self, step: str, details: dict[str, Any] | None = None) -> None:\n",
    "        message = f\"AUTOMATION STEP: {step}\"\n",
    "        if details:\n",
    "            message += f\" | Details: {details}\"\n",
    "        self.info(message)\n",
    "    \n",
    "    def log_ai_decision(\n",
    "        self,\n",
    "        decision: str,\n",
    "        confidence: float,\n",
    "        context: dict[str, Any] | None = None,\n",
    "    ) -> None:\n",
    "        msg = f\"AI DECISION: {decision} (confidence: {confidence:.2f})\"\n",
    "        if context:\n",
    "            msg += f\" | Context: {context}\"\n",
    "        self.info(msg)\n",
    "    \n",
    "    def log_vision_detection(\n",
    "        self,\n",
    "        element_type: str,\n",
    "        confidence: float,\n",
    "        coordinates: tuple[int, int],\n",
    "    ) -> None:\n",
    "        msg = (\n",
    "            f\"VISION DETECTION: {element_type} at {coordinates} \"\n",
    "            f\"(confidence: {confidence:.2f})\"\n",
    "        )\n",
    "        self.debug(msg)\n",
    "    \n",
    "    def log_resource_usage(self, memory_mb: float, cpu_percent: float) -> None:\n",
    "        self.debug(f\"RESOURCE USAGE: Memory: {memory_mb:.1f}MB, CPU: {cpu_percent:.1f}%\")\n",
    "    \n",
    "    def log_performance(self, operation: str, duration_ms: float) -> None:\n",
    "        self.debug(f\"PERFORMANCE: {operation} took {duration_ms:.2f}ms\")\n",
    "\n"
   ]
  },
  {
   "cell_type": "markdown",
   "id": "0be19988",
   "metadata": {},
   "source": [
    "# Global logger instance"
   ]
  },
  {
   "cell_type": "code",
   "execution_count": null,
   "id": "57bbe1e1",
   "metadata": {},
   "outputs": [],
   "source": [
    "log = Logger() "
   ]
  }
 ],
 "metadata": {
  "kernelspec": {
   "display_name": "Python 3",
   "language": "python",
   "name": "python3"
  },
  "language_info": {
   "codemirror_mode": {
    "name": "ipython",
    "version": 3
   },
   "file_extension": ".py",
   "mimetype": "text/x-python",
   "name": "python",
   "nbconvert_exporter": "python",
   "pygments_lexer": "ipython3",
   "version": "3.10.0"
  }
 },
 "nbformat": 4,
 "nbformat_minor": 5
}
