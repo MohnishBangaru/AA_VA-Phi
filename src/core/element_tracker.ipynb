{
 "cells": [
  {
   "cell_type": "markdown",
   "id": "b7d43d21",
   "metadata": {},
   "source": [
    "Element tracking system for DroidBot-GPT automation.\n",
    "\n",
    "This module tracks which UI elements have been explored and interacted with,\n",
    "ensuring the automation focuses on unseen elements to avoid redundant interactions."
   ]
  },
  {
   "cell_type": "markdown",
   "id": "fc0b6276",
   "metadata": {},
   "source": [
    "Tracks explored UI elements and manages element exploration strategy."
   ]
  },
  {
   "cell_type": "markdown",
   "id": "a639427f",
   "metadata": {},
   "source": [
    "Initialize the element tracker."
   ]
  },
  {
   "cell_type": "markdown",
   "id": "7d917b46",
   "metadata": {},
   "source": [
    "Generate a unique hash for an element based on its properties and context."
   ]
  },
  {
   "cell_type": "code",
   "execution_count": null,
   "id": "e997e156",
   "metadata": {},
   "outputs": [],
   "source": [
    "\n",
    "from __future__ import annotations\n",
    "\n",
    "import hashlib\n",
    "import json\n",
    "import time\n",
    "from typing import Any, Dict, List, Optional, Set, Tuple\n",
    "\n",
    "from loguru import logger\n",
    "\n",
    "from ..vision.models import UIElement\n",
    "\n",
    "\n",
    "class ElementTracker:\n",
    "    \n",
    "    def __init__(self) -> None:\n",
    "        self.explored_elements: Set[str] = set()\n",
    "        self.element_history: List[Dict[str, Any]] = []\n",
    "        self.interaction_counts: Dict[str, int] = {}\n",
    "        self.last_exploration_time: float = 0.0\n",
    "        self.exploration_strategy = \"unseen_first\"  # unseen_first, confidence_based, hybrid\n",
    "        \n",
    "    def _generate_element_hash(self, element: UIElement, context: str = \"\") -> str:"
   ]
  },
  {
   "cell_type": "markdown",
   "id": "07e2f707",
   "metadata": {},
   "source": [
    "        # Create a hash based on element text, position, and context"
   ]
  },
  {
   "cell_type": "code",
   "execution_count": null,
   "id": "2a823c18",
   "metadata": {},
   "outputs": [],
   "source": [
    "        element_data = {\n",
    "            \"text\": element.text.lower().strip(),\n",
    "            \"bbox\": element.bbox.as_tuple(),\n",
    "            \"element_type\": element.element_type,\n",
    "            \"context\": context\n",
    "        }\n",
    "        "
   ]
  },
  {
   "cell_type": "markdown",
   "id": "797ca3a0",
   "metadata": {},
   "source": [
    "        # Convert to JSON string and hash"
   ]
  },
  {
   "cell_type": "markdown",
   "id": "7a74cbbb",
   "metadata": {},
   "source": [
    "Calculate similarity between two elements (0.0 to 1.0)."
   ]
  },
  {
   "cell_type": "code",
   "execution_count": null,
   "id": "a4a1d0b2",
   "metadata": {},
   "outputs": [],
   "source": [
    "        json_str = json.dumps(element_data, sort_keys=True)\n",
    "        return hashlib.md5(json_str.encode()).hexdigest()\n",
    "    \n",
    "    def _calculate_element_similarity(self, element1: UIElement, element2: UIElement) -> float:"
   ]
  },
  {
   "cell_type": "markdown",
   "id": "a47492a2",
   "metadata": {},
   "source": [
    "        # Text similarity"
   ]
  },
  {
   "cell_type": "code",
   "execution_count": null,
   "id": "50538539",
   "metadata": {},
   "outputs": [],
   "source": [
    "        text1 = element1.text.lower().strip()\n",
    "        text2 = element2.text.lower().strip()\n",
    "        text_similarity = 1.0 if text1 == text2 else 0.0\n",
    "        "
   ]
  },
  {
   "cell_type": "markdown",
   "id": "0c5eac45",
   "metadata": {},
   "source": [
    "        # Position similarity (normalized distance)"
   ]
  },
  {
   "cell_type": "code",
   "execution_count": null,
   "id": "59118bd2",
   "metadata": {},
   "outputs": [],
   "source": [
    "        bbox1 = element1.bbox.as_tuple()\n",
    "        bbox2 = element2.bbox.as_tuple()\n",
    "        \n",
    "        center1 = ((bbox1[0] + bbox1[2]) / 2, (bbox1[1] + bbox1[3]) / 2)\n",
    "        center2 = ((bbox2[0] + bbox2[2]) / 2, (bbox2[1] + bbox2[3]) / 2)\n",
    "        "
   ]
  },
  {
   "cell_type": "markdown",
   "id": "24e1285a",
   "metadata": {},
   "source": [
    "        # Calculate Euclidean distance and normalize"
   ]
  },
  {
   "cell_type": "code",
   "execution_count": null,
   "id": "21642eb1",
   "metadata": {},
   "outputs": [],
   "source": [
    "        distance = ((center1[0] - center2[0]) ** 2 + (center1[1] - center2[1]) ** 2) ** 0.5\n",
    "        max_distance = 1000  # Maximum reasonable distance\n",
    "        position_similarity = max(0.0, 1.0 - (distance / max_distance))\n",
    "        "
   ]
  },
  {
   "cell_type": "markdown",
   "id": "5352c213",
   "metadata": {},
   "source": [
    "        # Type similarity"
   ]
  },
  {
   "cell_type": "code",
   "execution_count": null,
   "id": "601fc954",
   "metadata": {},
   "outputs": [],
   "source": [
    "        type_similarity = 1.0 if element1.element_type == element2.element_type else 0.0\n",
    "        "
   ]
  },
  {
   "cell_type": "markdown",
   "id": "5ffb5a39",
   "metadata": {},
   "source": [
    "        # Weighted average"
   ]
  },
  {
   "cell_type": "markdown",
   "id": "5eec14a4",
   "metadata": {},
   "source": [
    "Mark an element as explored after interaction."
   ]
  },
  {
   "cell_type": "code",
   "execution_count": null,
   "id": "4b861df3",
   "metadata": {},
   "outputs": [],
   "source": [
    "        return (text_similarity * 0.5 + position_similarity * 0.3 + type_similarity * 0.2)\n",
    "    \n",
    "    def mark_element_explored(self, element: UIElement, action: Dict[str, Any], context: str = \"\") -> None:\n",
    "        element_hash = self._generate_element_hash(element, context)\n",
    "        "
   ]
  },
  {
   "cell_type": "markdown",
   "id": "33e7963d",
   "metadata": {},
   "source": [
    "        # Add to explored set"
   ]
  },
  {
   "cell_type": "code",
   "execution_count": null,
   "id": "08f72826",
   "metadata": {},
   "outputs": [],
   "source": [
    "        self.explored_elements.add(element_hash)\n",
    "        "
   ]
  },
  {
   "cell_type": "markdown",
   "id": "5c1c23db",
   "metadata": {},
   "source": [
    "        # Update interaction count"
   ]
  },
  {
   "cell_type": "code",
   "execution_count": null,
   "id": "35afd2b6",
   "metadata": {},
   "outputs": [],
   "source": [
    "        self.interaction_counts[element_hash] = self.interaction_counts.get(element_hash, 0) + 1\n",
    "        "
   ]
  },
  {
   "cell_type": "markdown",
   "id": "d794895f",
   "metadata": {},
   "source": [
    "        # Record in history"
   ]
  },
  {
   "cell_type": "markdown",
   "id": "d0f5f4f3",
   "metadata": {},
   "source": [
    "Check if an element has been explored (including similar elements)."
   ]
  },
  {
   "cell_type": "code",
   "execution_count": null,
   "id": "699e4c9a",
   "metadata": {},
   "outputs": [],
   "source": [
    "        history_entry = {\n",
    "            \"timestamp\": time.time(),\n",
    "            \"element_hash\": element_hash,\n",
    "            \"element_text\": element.text,\n",
    "            \"element_type\": element.element_type,\n",
    "            \"bbox\": element.bbox.as_tuple(),\n",
    "            \"action\": action,\n",
    "            \"context\": context,\n",
    "            \"confidence\": element.confidence\n",
    "        }\n",
    "        \n",
    "        self.element_history.append(history_entry)\n",
    "        self.last_exploration_time = time.time()\n",
    "        \n",
    "        logger.debug(f\"Marked element as explored: {element.text} (hash: {element_hash[:8]})\")\n",
    "    \n",
    "    def is_element_explored(self, element: UIElement, context: str = \"\", similarity_threshold: float = 0.8) -> bool:\n",
    "        current_hash = self._generate_element_hash(element, context)\n",
    "        "
   ]
  },
  {
   "cell_type": "markdown",
   "id": "1380afc3",
   "metadata": {},
   "source": [
    "        # Direct hash match"
   ]
  },
  {
   "cell_type": "code",
   "execution_count": null,
   "id": "e4def54a",
   "metadata": {},
   "outputs": [],
   "source": [
    "        if current_hash in self.explored_elements:\n",
    "            return True\n",
    "        "
   ]
  },
  {
   "cell_type": "markdown",
   "id": "a6882212",
   "metadata": {},
   "source": [
    "        # Check for similar elements in history"
   ]
  },
  {
   "cell_type": "code",
   "execution_count": null,
   "id": "7c1137e2",
   "metadata": {},
   "outputs": [],
   "source": [
    "        for history_entry in self.element_history:"
   ]
  },
  {
   "cell_type": "markdown",
   "id": "df22916b",
   "metadata": {},
   "source": [
    "            # Reconstruct the historical element"
   ]
  },
  {
   "cell_type": "code",
   "execution_count": null,
   "id": "f6ee34e2",
   "metadata": {},
   "outputs": [],
   "source": [
    "            historical_element = UIElement(\n",
    "                bbox=element.bbox,  # Use current bbox as placeholder\n",
    "                text=history_entry[\"element_text\"],\n",
    "                confidence=history_entry[\"confidence\"],\n",
    "                element_type=history_entry[\"element_type\"]\n",
    "            )\n",
    "            "
   ]
  },
  {
   "cell_type": "markdown",
   "id": "b22a180b",
   "metadata": {},
   "source": [
    "            # Calculate similarity"
   ]
  },
  {
   "cell_type": "markdown",
   "id": "12f481d1",
   "metadata": {},
   "source": [
    "Get elements prioritized by exploration strategy."
   ]
  },
  {
   "cell_type": "code",
   "execution_count": null,
   "id": "3178807e",
   "metadata": {},
   "outputs": [],
   "source": [
    "            similarity = self._calculate_element_similarity(element, historical_element)\n",
    "            if similarity >= similarity_threshold:\n",
    "                logger.debug(f\"Element {element.text} similar to explored element {history_entry['element_text']} (similarity: {similarity:.2f})\")\n",
    "                return True\n",
    "        \n",
    "        return False\n",
    "    \n",
    "    def get_exploration_priority(self, elements: List[UIElement], context: str = \"\") -> List[Tuple[UIElement, float]]:\n",
    "        if not elements:\n",
    "            return []\n",
    "        \n",
    "        element_priorities = []\n",
    "        \n",
    "        for element in elements:\n",
    "            priority = 0.0\n",
    "            "
   ]
  },
  {
   "cell_type": "markdown",
   "id": "1b49d90c",
   "metadata": {},
   "source": [
    "            # Check if element is unexplored"
   ]
  },
  {
   "cell_type": "code",
   "execution_count": null,
   "id": "732510c1",
   "metadata": {},
   "outputs": [],
   "source": [
    "            is_explored = self.is_element_explored(element, context)\n",
    "            \n",
    "            if self.exploration_strategy == \"unseen_first\":"
   ]
  },
  {
   "cell_type": "markdown",
   "id": "379a80b5",
   "metadata": {},
   "source": [
    "                # Prioritize unseen elements"
   ]
  },
  {
   "cell_type": "code",
   "execution_count": null,
   "id": "95f22266",
   "metadata": {},
   "outputs": [],
   "source": [
    "                priority = 0.0 if is_explored else 1.0\n",
    "                \n",
    "            elif self.exploration_strategy == \"confidence_based\":"
   ]
  },
  {
   "cell_type": "markdown",
   "id": "da032bd1",
   "metadata": {},
   "source": [
    "                # Prioritize by confidence, but still prefer unseen"
   ]
  },
  {
   "cell_type": "code",
   "execution_count": null,
   "id": "708285c2",
   "metadata": {},
   "outputs": [],
   "source": [
    "                priority = element.confidence\n",
    "                if not is_explored:\n",
    "                    priority += 0.5  # Bonus for unseen elements\n",
    "                    \n",
    "            elif self.exploration_strategy == \"hybrid\":"
   ]
  },
  {
   "cell_type": "markdown",
   "id": "5d4bdb87",
   "metadata": {},
   "source": [
    "                # Hybrid approach: unseen + confidence + recency"
   ]
  },
  {
   "cell_type": "code",
   "execution_count": null,
   "id": "e8792385",
   "metadata": {},
   "outputs": [],
   "source": [
    "                base_priority = element.confidence\n",
    "                \n",
    "                if not is_explored:\n",
    "                    base_priority += 0.8  # High bonus for unseen\n",
    "                else:"
   ]
  },
  {
   "cell_type": "markdown",
   "id": "fa1e5224",
   "metadata": {},
   "source": [
    "                    # Reduce priority for explored elements based on interaction count"
   ]
  },
  {
   "cell_type": "code",
   "execution_count": null,
   "id": "f3362a73",
   "metadata": {},
   "outputs": [],
   "source": [
    "                    element_hash = self._generate_element_hash(element, context)\n",
    "                    interaction_count = self.interaction_counts.get(element_hash, 0)\n",
    "                    base_priority -= (interaction_count * 0.2)  # Penalty for multiple interactions\n",
    "                "
   ]
  },
  {
   "cell_type": "markdown",
   "id": "3ffd2270",
   "metadata": {},
   "source": [
    "                # Time-based decay for explored elements"
   ]
  },
  {
   "cell_type": "code",
   "execution_count": null,
   "id": "8f2b27c2",
   "metadata": {},
   "outputs": [],
   "source": [
    "                if is_explored:\n",
    "                    time_since_exploration = time.time() - self.last_exploration_time\n",
    "                    if time_since_exploration > 300:  # 5 minutes\n",
    "                        base_priority += 0.1  # Small bonus for old explored elements\n",
    "                \n",
    "                priority = max(0.0, base_priority)\n",
    "            \n",
    "            element_priorities.append((element, priority))\n",
    "        "
   ]
  },
  {
   "cell_type": "markdown",
   "id": "3bbdced1",
   "metadata": {},
   "source": [
    "        # Sort by priority (highest first)"
   ]
  },
  {
   "cell_type": "markdown",
   "id": "25ac31b7",
   "metadata": {},
   "source": [
    "Get only unexplored elements from the list."
   ]
  },
  {
   "cell_type": "markdown",
   "id": "13bcc766",
   "metadata": {},
   "source": [
    "Get statistics about element exploration."
   ]
  },
  {
   "cell_type": "code",
   "execution_count": null,
   "id": "e3de6245",
   "metadata": {},
   "outputs": [],
   "source": [
    "        element_priorities.sort(key=lambda x: x[1], reverse=True)\n",
    "        \n",
    "        return element_priorities\n",
    "    \n",
    "    def get_unexplored_elements(self, elements: List[UIElement], context: str = \"\") -> List[UIElement]:\n",
    "        unexplored = []\n",
    "        \n",
    "        for element in elements:\n",
    "            if not self.is_element_explored(element, context):\n",
    "                unexplored.append(element)\n",
    "        \n",
    "        return unexplored\n",
    "    \n",
    "    def get_exploration_stats(self) -> Dict[str, Any]:\n",
    "        total_explored = len(self.explored_elements)\n",
    "        total_interactions = sum(self.interaction_counts.values())\n",
    "        "
   ]
  },
  {
   "cell_type": "markdown",
   "id": "5eb511e3",
   "metadata": {},
   "source": [
    "        # Analyze recent activity"
   ]
  },
  {
   "cell_type": "markdown",
   "id": "b54e796f",
   "metadata": {},
   "source": [
    "Reset all exploration tracking."
   ]
  },
  {
   "cell_type": "markdown",
   "id": "33ab41b3",
   "metadata": {},
   "source": [
    "Set the exploration strategy."
   ]
  },
  {
   "cell_type": "markdown",
   "id": "c9216a97",
   "metadata": {},
   "source": [
    "Export exploration data for analysis."
   ]
  },
  {
   "cell_type": "markdown",
   "id": "ce08baa6",
   "metadata": {},
   "source": [
    "Import exploration data."
   ]
  },
  {
   "cell_type": "code",
   "execution_count": null,
   "id": "dd95f5d7",
   "metadata": {},
   "outputs": [],
   "source": [
    "        recent_time = time.time() - 300  # Last 5 minutes\n",
    "        recent_explorations = [\n",
    "            entry for entry in self.element_history \n",
    "            if entry[\"timestamp\"] > recent_time\n",
    "        ]\n",
    "        \n",
    "        return {\n",
    "            \"total_explored_elements\": total_explored,\n",
    "            \"total_interactions\": total_interactions,\n",
    "            \"recent_explorations\": len(recent_explorations),\n",
    "            \"exploration_strategy\": self.exploration_strategy,\n",
    "            \"last_exploration_time\": self.last_exploration_time,\n",
    "            \"element_history_length\": len(self.element_history)\n",
    "        }\n",
    "    \n",
    "    def reset_exploration(self) -> None:\n",
    "        self.explored_elements.clear()\n",
    "        self.element_history.clear()\n",
    "        self.interaction_counts.clear()\n",
    "        self.last_exploration_time = 0.0\n",
    "        logger.info(\"Element exploration tracking reset\")\n",
    "    \n",
    "    def set_exploration_strategy(self, strategy: str) -> None:\n",
    "        valid_strategies = [\"unseen_first\", \"confidence_based\", \"hybrid\"]\n",
    "        if strategy not in valid_strategies:\n",
    "            raise ValueError(f\"Invalid strategy. Must be one of: {valid_strategies}\")\n",
    "        \n",
    "        self.exploration_strategy = strategy\n",
    "        logger.info(f\"Exploration strategy set to: {strategy}\")\n",
    "    \n",
    "    def export_exploration_data(self) -> Dict[str, Any]:\n",
    "        return {\n",
    "            \"explored_elements\": list(self.explored_elements),\n",
    "            \"element_history\": self.element_history,\n",
    "            \"interaction_counts\": self.interaction_counts,\n",
    "            \"exploration_strategy\": self.exploration_strategy,\n",
    "            \"last_exploration_time\": self.last_exploration_time,\n",
    "            \"stats\": self.get_exploration_stats()\n",
    "        }\n",
    "    \n",
    "    def import_exploration_data(self, data: Dict[str, Any]) -> None:\n",
    "        self.explored_elements = set(data.get(\"explored_elements\", []))\n",
    "        self.element_history = data.get(\"element_history\", [])\n",
    "        self.interaction_counts = data.get(\"interaction_counts\", {})\n",
    "        self.exploration_strategy = data.get(\"exploration_strategy\", \"unseen_first\")\n",
    "        self.last_exploration_time = data.get(\"last_exploration_time\", 0.0)\n",
    "        \n",
    "        logger.info(f\"Imported exploration data: {len(self.explored_elements)} explored elements\")\n",
    "\n"
   ]
  },
  {
   "cell_type": "markdown",
   "id": "f07bd048",
   "metadata": {},
   "source": [
    "# Global instance for reuse"
   ]
  },
  {
   "cell_type": "markdown",
   "id": "d6c03c80",
   "metadata": {},
   "source": [
    "Get or create the global element tracker instance."
   ]
  },
  {
   "cell_type": "code",
   "execution_count": null,
   "id": "d46cd5b5",
   "metadata": {},
   "outputs": [],
   "source": [
    "_element_tracker = None\n",
    "\n",
    "\n",
    "def get_element_tracker() -> ElementTracker:\n",
    "    global _element_tracker\n",
    "    if _element_tracker is None:\n",
    "        _element_tracker = ElementTracker()\n",
    "    return _element_tracker "
   ]
  }
 ],
 "metadata": {
  "kernelspec": {
   "display_name": "Python 3",
   "language": "python",
   "name": "python3"
  },
  "language_info": {
   "codemirror_mode": {
    "name": "ipython",
    "version": 3
   },
   "file_extension": ".py",
   "mimetype": "text/x-python",
   "name": "python",
   "nbconvert_exporter": "python",
   "pygments_lexer": "ipython3",
   "version": "3.10.0"
  }
 },
 "nbformat": 4,
 "nbformat_minor": 5
}
