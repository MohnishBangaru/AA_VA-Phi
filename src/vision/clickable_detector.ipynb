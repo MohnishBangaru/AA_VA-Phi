{
 "cells": [
  {
   "cell_type": "markdown",
   "id": "a5a1787d",
   "metadata": {},
   "source": [
    "Clickable element detection for VisionEngine."
   ]
  },
  {
   "cell_type": "markdown",
   "id": "bc024e6d",
   "metadata": {},
   "source": [
    "Detect clickable/interactive UI elements from screenshots."
   ]
  },
  {
   "cell_type": "markdown",
   "id": "8dfbf548",
   "metadata": {},
   "source": [
    "Initialize the clickable detector."
   ]
  },
  {
   "cell_type": "markdown",
   "id": "5b420150",
   "metadata": {},
   "source": [
    "Detect clickable elements from a screenshot.\n",
    "        \n",
    "        Parameters\n",
    "        ----------\n",
    "        image_path : str\n",
    "            Path to the screenshot image\n",
    "            \n",
    "        Returns\n",
    "        -------\n",
    "        list[UIElement]\n",
    "            List of detected clickable elements"
   ]
  },
  {
   "cell_type": "code",
   "execution_count": null,
   "id": "217cca69",
   "metadata": {},
   "outputs": [],
   "source": [
    "\n",
    "from __future__ import annotations\n",
    "\n",
    "import cv2\n",
    "import numpy as np\n",
    "from loguru import logger\n",
    "\n",
    "from .models import BoundingBox, UIElement\n",
    "\n",
    "\n",
    "class ClickableDetector:\n",
    "    \n",
    "    def __init__(self):\n",
    "        self.min_button_size = 30  # Minimum size for a button\n",
    "        self.max_button_size = 300  # Maximum size for a button\n",
    "        self.edge_threshold = 50  # Edge detection threshold\n",
    "        \n",
    "    def detect_clickable_elements(self, image_path: str) -> list[UIElement]:\n",
    "        try:\n",
    "            image = cv2.imread(image_path)\n",
    "            if image is None:\n",
    "                logger.error(f\"Failed to load image: {image_path}\")\n",
    "                return []\n",
    "            \n",
    "            clickable_elements = []\n",
    "            "
   ]
  },
  {
   "cell_type": "markdown",
   "id": "856df4ef",
   "metadata": {},
   "source": [
    "            # Convert to different color spaces for analysis"
   ]
  },
  {
   "cell_type": "code",
   "execution_count": null,
   "id": "8643eac4",
   "metadata": {},
   "outputs": [],
   "source": [
    "            gray = cv2.cvtColor(image, cv2.COLOR_BGR2GRAY)\n",
    "            hsv = cv2.cvtColor(image, cv2.COLOR_BGR2HSV)\n",
    "            "
   ]
  },
  {
   "cell_type": "markdown",
   "id": "10bba5ed",
   "metadata": {},
   "source": [
    "            # 1. Detect button-like shapes (rectangles with borders)"
   ]
  },
  {
   "cell_type": "code",
   "execution_count": null,
   "id": "607ac05c",
   "metadata": {},
   "outputs": [],
   "source": [
    "            button_elements = self._detect_button_shapes(gray)\n",
    "            clickable_elements.extend(button_elements)\n",
    "            "
   ]
  },
  {
   "cell_type": "markdown",
   "id": "abf7a006",
   "metadata": {},
   "source": [
    "            # 2. Detect colored interactive elements"
   ]
  },
  {
   "cell_type": "code",
   "execution_count": null,
   "id": "29b84c54",
   "metadata": {},
   "outputs": [],
   "source": [
    "            colored_elements = self._detect_colored_elements(hsv)\n",
    "            clickable_elements.extend(colored_elements)\n",
    "            "
   ]
  },
  {
   "cell_type": "markdown",
   "id": "7577b993",
   "metadata": {},
   "source": [
    "            # 3. Detect edge-bounded elements (likely clickable)"
   ]
  },
  {
   "cell_type": "code",
   "execution_count": null,
   "id": "01afbacd",
   "metadata": {},
   "outputs": [],
   "source": [
    "            edge_elements = self._detect_edge_bounded_elements(gray)\n",
    "            clickable_elements.extend(edge_elements)\n",
    "            "
   ]
  },
  {
   "cell_type": "markdown",
   "id": "a1290246",
   "metadata": {},
   "source": [
    "            # 4. Remove duplicates and overlapping elements"
   ]
  },
  {
   "cell_type": "markdown",
   "id": "787a8cf1",
   "metadata": {},
   "source": [
    "Detect button-like rectangular shapes with borders."
   ]
  },
  {
   "cell_type": "code",
   "execution_count": null,
   "id": "8c4fea17",
   "metadata": {},
   "outputs": [],
   "source": [
    "            clickable_elements = self._remove_duplicates(clickable_elements)\n",
    "            \n",
    "            logger.debug(f\"ClickableDetector found {len(clickable_elements)} clickable elements\")\n",
    "            return clickable_elements\n",
    "            \n",
    "        except Exception as e:\n",
    "            logger.warning(f\"Clickable detection failed: {e}\")\n",
    "            return []\n",
    "    \n",
    "    def _detect_button_shapes(self, gray: np.ndarray) -> list[UIElement]:\n",
    "        elements = []\n",
    "        "
   ]
  },
  {
   "cell_type": "markdown",
   "id": "f0fa5bf2",
   "metadata": {},
   "source": [
    "        # Edge detection"
   ]
  },
  {
   "cell_type": "code",
   "execution_count": null,
   "id": "9b356524",
   "metadata": {},
   "outputs": [],
   "source": [
    "        edges = cv2.Canny(gray, 50, 150)\n",
    "        "
   ]
  },
  {
   "cell_type": "markdown",
   "id": "a3bdf8b4",
   "metadata": {},
   "source": [
    "        # Find contours"
   ]
  },
  {
   "cell_type": "code",
   "execution_count": null,
   "id": "00b48f4b",
   "metadata": {},
   "outputs": [],
   "source": [
    "        contours, _ = cv2.findContours(edges, cv2.RETR_EXTERNAL, cv2.CHAIN_APPROX_SIMPLE)\n",
    "        \n",
    "        for contour in contours:"
   ]
  },
  {
   "cell_type": "markdown",
   "id": "fd955eea",
   "metadata": {},
   "source": [
    "            # Approximate contour to polygon"
   ]
  },
  {
   "cell_type": "code",
   "execution_count": null,
   "id": "5771d084",
   "metadata": {},
   "outputs": [],
   "source": [
    "            epsilon = 0.02 * cv2.arcLength(contour, True)\n",
    "            approx = cv2.approxPolyDP(contour, epsilon, True)\n",
    "            "
   ]
  },
  {
   "cell_type": "markdown",
   "id": "50898a8d",
   "metadata": {},
   "source": [
    "            # Check if it's a rectangle (4 corners)"
   ]
  },
  {
   "cell_type": "code",
   "execution_count": null,
   "id": "cdc97e00",
   "metadata": {},
   "outputs": [],
   "source": [
    "            if len(approx) == 4:\n",
    "                x, y, w, h = cv2.boundingRect(contour)\n",
    "                "
   ]
  },
  {
   "cell_type": "markdown",
   "id": "3d9945b1",
   "metadata": {},
   "source": [
    "                # Filter by size"
   ]
  },
  {
   "cell_type": "code",
   "execution_count": null,
   "id": "e1e02826",
   "metadata": {},
   "outputs": [],
   "source": [
    "                if self.min_button_size <= w <= self.max_button_size and self.min_button_size <= h <= self.max_button_size:"
   ]
  },
  {
   "cell_type": "markdown",
   "id": "d3bc79a6",
   "metadata": {},
   "source": [
    "                    # Check aspect ratio (not too long/short)"
   ]
  },
  {
   "cell_type": "markdown",
   "id": "14b44a99",
   "metadata": {},
   "source": [
    "Detect elements with common interactive colors."
   ]
  },
  {
   "cell_type": "code",
   "execution_count": null,
   "id": "9f053cec",
   "metadata": {},
   "outputs": [],
   "source": [
    "                    aspect_ratio = w / h\n",
    "                    if 0.2 <= aspect_ratio <= 5.0:\n",
    "                        bbox = BoundingBox(x, y, x + w, y + h)\n",
    "                        elements.append(UIElement(\n",
    "                            bbox=bbox,\n",
    "                            text=\"button\",\n",
    "                            confidence=0.7,\n",
    "                            element_type=\"button\"\n",
    "                        ))\n",
    "        \n",
    "        return elements\n",
    "    \n",
    "    def _detect_colored_elements(self, hsv: np.ndarray) -> list[UIElement]:\n",
    "        elements = []\n",
    "        "
   ]
  },
  {
   "cell_type": "markdown",
   "id": "61171dfa",
   "metadata": {},
   "source": [
    "        # Common interactive colors (buttons, links, etc.)"
   ]
  },
  {
   "cell_type": "code",
   "execution_count": null,
   "id": "777ddaa5",
   "metadata": {},
   "outputs": [],
   "source": [
    "        color_ranges = ["
   ]
  },
  {
   "cell_type": "markdown",
   "id": "67faf568",
   "metadata": {},
   "source": [
    "            # Blue buttons/links"
   ]
  },
  {
   "cell_type": "code",
   "execution_count": null,
   "id": "7e48601f",
   "metadata": {},
   "outputs": [],
   "source": [
    "            (np.array([100, 50, 50]), np.array([130, 255, 255])),"
   ]
  },
  {
   "cell_type": "markdown",
   "id": "abb93233",
   "metadata": {},
   "source": [
    "            # Red buttons"
   ]
  },
  {
   "cell_type": "code",
   "execution_count": null,
   "id": "3b79d5d5",
   "metadata": {},
   "outputs": [],
   "source": [
    "            (np.array([0, 50, 50]), np.array([10, 255, 255])),"
   ]
  },
  {
   "cell_type": "markdown",
   "id": "4888db94",
   "metadata": {},
   "source": [
    "            # Green buttons"
   ]
  },
  {
   "cell_type": "code",
   "execution_count": null,
   "id": "8bb67c27",
   "metadata": {},
   "outputs": [],
   "source": [
    "            (np.array([40, 50, 50]), np.array([80, 255, 255])),"
   ]
  },
  {
   "cell_type": "markdown",
   "id": "d1279e0c",
   "metadata": {},
   "source": [
    "            # Orange buttons"
   ]
  },
  {
   "cell_type": "code",
   "execution_count": null,
   "id": "1e6612ed",
   "metadata": {},
   "outputs": [],
   "source": [
    "            (np.array([10, 50, 50]), np.array([25, 255, 255])),\n",
    "        ]\n",
    "        \n",
    "        for lower, upper in color_ranges:\n",
    "            mask = cv2.inRange(hsv, lower, upper)\n",
    "            "
   ]
  },
  {
   "cell_type": "markdown",
   "id": "965d9937",
   "metadata": {},
   "source": [
    "            # Find contours in the color mask"
   ]
  },
  {
   "cell_type": "code",
   "execution_count": null,
   "id": "a428d7e5",
   "metadata": {},
   "outputs": [],
   "source": [
    "            contours, _ = cv2.findContours(mask, cv2.RETR_EXTERNAL, cv2.CHAIN_APPROX_SIMPLE)\n",
    "            \n",
    "            for contour in contours:\n",
    "                x, y, w, h = cv2.boundingRect(contour)\n",
    "                "
   ]
  },
  {
   "cell_type": "markdown",
   "id": "8ed5ee80",
   "metadata": {},
   "source": [
    "                # Filter by size"
   ]
  },
  {
   "cell_type": "markdown",
   "id": "ceb4a05e",
   "metadata": {},
   "source": [
    "Detect elements bounded by strong edges (likely interactive)."
   ]
  },
  {
   "cell_type": "code",
   "execution_count": null,
   "id": "70225e51",
   "metadata": {},
   "outputs": [],
   "source": [
    "                if self.min_button_size <= w <= self.max_button_size and self.min_button_size <= h <= self.max_button_size:\n",
    "                    bbox = BoundingBox(x, y, x + w, y + h)\n",
    "                    elements.append(UIElement(\n",
    "                        bbox=bbox,\n",
    "                        text=\"colored_element\",\n",
    "                        confidence=0.6,\n",
    "                        element_type=\"colored_button\"\n",
    "                    ))\n",
    "        \n",
    "        return elements\n",
    "    \n",
    "    def _detect_edge_bounded_elements(self, gray: np.ndarray) -> list[UIElement]:\n",
    "        elements = []\n",
    "        "
   ]
  },
  {
   "cell_type": "markdown",
   "id": "9c441cc3",
   "metadata": {},
   "source": [
    "        # Edge detection"
   ]
  },
  {
   "cell_type": "code",
   "execution_count": null,
   "id": "dc51bcb8",
   "metadata": {},
   "outputs": [],
   "source": [
    "        edges = cv2.Canny(gray, self.edge_threshold, self.edge_threshold * 2)\n",
    "        "
   ]
  },
  {
   "cell_type": "markdown",
   "id": "97e80983",
   "metadata": {},
   "source": [
    "        # Morphological operations to connect edges"
   ]
  },
  {
   "cell_type": "code",
   "execution_count": null,
   "id": "d60847f3",
   "metadata": {},
   "outputs": [],
   "source": [
    "        kernel = np.ones((3, 3), np.uint8)\n",
    "        edges = cv2.morphologyEx(edges, cv2.MORPH_CLOSE, kernel)\n",
    "        "
   ]
  },
  {
   "cell_type": "markdown",
   "id": "e8ba837b",
   "metadata": {},
   "source": [
    "        # Find contours"
   ]
  },
  {
   "cell_type": "code",
   "execution_count": null,
   "id": "c80ef2fb",
   "metadata": {},
   "outputs": [],
   "source": [
    "        contours, _ = cv2.findContours(edges, cv2.RETR_EXTERNAL, cv2.CHAIN_APPROX_SIMPLE)\n",
    "        \n",
    "        for contour in contours:\n",
    "            x, y, w, h = cv2.boundingRect(contour)\n",
    "            "
   ]
  },
  {
   "cell_type": "markdown",
   "id": "b4dad49c",
   "metadata": {},
   "source": [
    "            # Filter by size and edge density"
   ]
  },
  {
   "cell_type": "code",
   "execution_count": null,
   "id": "5af6065c",
   "metadata": {},
   "outputs": [],
   "source": [
    "            if self.min_button_size <= w <= self.max_button_size and self.min_button_size <= h <= self.max_button_size:"
   ]
  },
  {
   "cell_type": "markdown",
   "id": "8a2cfd2a",
   "metadata": {},
   "source": [
    "                # Calculate edge density in the region"
   ]
  },
  {
   "cell_type": "markdown",
   "id": "2b9e6d04",
   "metadata": {},
   "source": [
    "Remove duplicate and overlapping elements."
   ]
  },
  {
   "cell_type": "code",
   "execution_count": null,
   "id": "27596542",
   "metadata": {},
   "outputs": [],
   "source": [
    "                roi = edges[y:y+h, x:x+w]\n",
    "                edge_density = np.sum(roi > 0) / (w * h)\n",
    "                \n",
    "                if edge_density > 0.1:  # At least 10% of pixels are edges\n",
    "                    bbox = BoundingBox(x, y, x + w, y + h)\n",
    "                    elements.append(UIElement(\n",
    "                        bbox=bbox,\n",
    "                        text=\"edge_bounded\",\n",
    "                        confidence=0.5,\n",
    "                        element_type=\"edge_bounded\"\n",
    "                    ))\n",
    "        \n",
    "        return elements\n",
    "    \n",
    "    def _remove_duplicates(self, elements: list[UIElement]) -> list[UIElement]:\n",
    "        if not elements:\n",
    "            return []\n",
    "        "
   ]
  },
  {
   "cell_type": "markdown",
   "id": "d30a0f1d",
   "metadata": {},
   "source": [
    "        # Sort by confidence (highest first)"
   ]
  },
  {
   "cell_type": "code",
   "execution_count": null,
   "id": "5a7ea761",
   "metadata": {},
   "outputs": [],
   "source": [
    "        elements = sorted(elements, key=lambda e: e.confidence, reverse=True)\n",
    "        kept = []\n",
    "        \n",
    "        for element in elements:"
   ]
  },
  {
   "cell_type": "markdown",
   "id": "3084ae01",
   "metadata": {},
   "source": [
    "            # Check if this element overlaps significantly with any kept element"
   ]
  },
  {
   "cell_type": "markdown",
   "id": "a6791036",
   "metadata": {},
   "source": [
    "Calculate Intersection over Union between two bounding boxes."
   ]
  },
  {
   "cell_type": "code",
   "execution_count": null,
   "id": "16e055f6",
   "metadata": {},
   "outputs": [],
   "source": [
    "            is_duplicate = False\n",
    "            for kept_element in kept:\n",
    "                iou = self._calculate_iou(element.bbox, kept_element.bbox)\n",
    "                if iou > 0.3:  # More than 30% overlap\n",
    "                    is_duplicate = True\n",
    "                    break\n",
    "            \n",
    "            if not is_duplicate:\n",
    "                kept.append(element)\n",
    "        \n",
    "        return kept\n",
    "    \n",
    "    def _calculate_iou(self, bbox1: BoundingBox, bbox2: BoundingBox) -> float:"
   ]
  },
  {
   "cell_type": "markdown",
   "id": "820e9894",
   "metadata": {},
   "source": [
    "        # Calculate intersection"
   ]
  },
  {
   "cell_type": "code",
   "execution_count": null,
   "id": "4ae47c92",
   "metadata": {},
   "outputs": [],
   "source": [
    "        x_left = max(bbox1.left, bbox2.left)\n",
    "        y_top = max(bbox1.top, bbox2.top)\n",
    "        x_right = min(bbox1.right, bbox2.right)\n",
    "        y_bottom = min(bbox1.bottom, bbox2.bottom)\n",
    "        \n",
    "        if x_right < x_left or y_bottom < y_top:\n",
    "            return 0.0\n",
    "        \n",
    "        intersection_area = (x_right - x_left) * (y_bottom - y_top)\n",
    "        "
   ]
  },
  {
   "cell_type": "markdown",
   "id": "1c2ce90a",
   "metadata": {},
   "source": [
    "        # Calculate union"
   ]
  },
  {
   "cell_type": "markdown",
   "id": "c8439b8e",
   "metadata": {},
   "source": [
    "Convenience function to detect clickable elements."
   ]
  },
  {
   "cell_type": "code",
   "execution_count": null,
   "id": "227ea9a1",
   "metadata": {},
   "outputs": [],
   "source": [
    "        bbox1_area = bbox1.width() * bbox1.height()\n",
    "        bbox2_area = bbox2.width() * bbox2.height()\n",
    "        union_area = bbox1_area + bbox2_area - intersection_area\n",
    "        \n",
    "        return intersection_area / union_area if union_area > 0 else 0.0\n",
    "\n",
    "\n",
    "def detect_clickable_elements(image_path: str) -> list[UIElement]:\n",
    "    detector = ClickableDetector()\n",
    "    return detector.detect_clickable_elements(image_path) "
   ]
  }
 ],
 "metadata": {
  "kernelspec": {
   "display_name": "Python 3",
   "language": "python",
   "name": "python3"
  },
  "language_info": {
   "codemirror_mode": {
    "name": "ipython",
    "version": 3
   },
   "file_extension": ".py",
   "mimetype": "text/x-python",
   "name": "python",
   "nbconvert_exporter": "python",
   "pygments_lexer": "ipython3",
   "version": "3.10.0"
  }
 },
 "nbformat": 4,
 "nbformat_minor": 5
}
