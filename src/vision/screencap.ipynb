{
 "cells": [
  {
   "cell_type": "markdown",
   "id": "1b5447b3",
   "metadata": {},
   "source": [
    "Fast screenshot capture utilities.\n",
    "\n",
    "This module provides a \"fast path\" screenshot capture implementation\n",
    "using ``adb exec-out screencap`` which is **much faster** than the legacy\n",
    "``adb shell screencap && adb pull`` approach.\n",
    "\n",
    "It falls back gracefully if ``exec-out`` is not supported. In the future we\n",
    "can extend this module to support **minicap** or **scrcpy** for streaming\n",
    "screenshots, but the current implementation already provides a ~2-3x speed\n",
    "improvement and is compatible with modern Android API levels (API 24+)."
   ]
  },
  {
   "cell_type": "markdown",
   "id": "fe331590",
   "metadata": {},
   "source": [
    "Write bytes to *path*, creating parent directories if necessary."
   ]
  },
  {
   "cell_type": "markdown",
   "id": "6af2e2e2",
   "metadata": {},
   "source": [
    "Capture a screenshot using ``adb exec-out screencap -p``.\n",
    "\n",
    "    Args:\n",
    "        device: ``Device`` instance.\n",
    "        save_path: Local path to save PNG screenshot.\n",
    "\n",
    "    Returns:\n",
    "        True if screenshot saved successfully, False otherwise.\n"
   ]
  },
  {
   "cell_type": "code",
   "execution_count": null,
   "id": "b7109256",
   "metadata": {},
   "outputs": [],
   "source": [
    "\n",
    "from __future__ import annotations\n",
    "\n",
    "import os\n",
    "import shutil\n",
    "import subprocess\n",
    "from pathlib import Path\n",
    "\n",
    "from Explorer.device import ADBError, Device\n",
    "\n",
    "from ..core.logger import log\n",
    "\n",
    "\n",
    "def _save_bytes_to_file(data: bytes, path: str) -> None:\n",
    "    Path(os.path.dirname(path)).mkdir(parents=True, exist_ok=True)\n",
    "    with open(path, \"wb\") as f:\n",
    "        f.write(data)\n",
    "\n",
    "\n",
    "def capture_fast_screenshot(device: Device, save_path: str) -> bool:\n",
    "    try:\n",
    "        log.debug(\"Capturing screenshot via exec-out ...\")\n",
    "\n",
    "        adb_path = shutil.which(\"adb\") or \"adb\"\n",
    "        cmd = [\n",
    "            adb_path,\n",
    "            \"-s\",\n",
    "            device.serial,\n",
    "            \"exec-out\",\n",
    "            \"screencap\",\n",
    "            \"-p\",\n",
    "        ]\n",
    "\n",
    "        png_bytes: bytes = subprocess.check_output(cmd, stderr=subprocess.DEVNULL)  # noqa: S603"
   ]
  },
  {
   "cell_type": "markdown",
   "id": "4e98ec11",
   "metadata": {},
   "source": [
    "        # Older devices may return Windows line endings; normalize them"
   ]
  },
  {
   "cell_type": "code",
   "execution_count": null,
   "id": "ca0de61a",
   "metadata": {},
   "outputs": [],
   "source": [
    "        if png_bytes.startswith(b\"\\x89PNG\"):"
   ]
  },
  {
   "cell_type": "markdown",
   "id": "37ccdf91",
   "metadata": {},
   "source": [
    "            # Already valid PNG"
   ]
  },
  {
   "cell_type": "code",
   "execution_count": null,
   "id": "ac030844",
   "metadata": {},
   "outputs": [],
   "source": [
    "            pass\n",
    "        else:"
   ]
  },
  {
   "cell_type": "markdown",
   "id": "3a735c84",
   "metadata": {},
   "source": [
    "            # Remove carriage returns if present"
   ]
  },
  {
   "cell_type": "code",
   "execution_count": null,
   "id": "6f67d6dc",
   "metadata": {},
   "outputs": [],
   "source": [
    "            png_bytes = png_bytes.replace(b\"\\r\\n\", b\"\\n\")\n",
    "        _save_bytes_to_file(png_bytes, save_path)\n",
    "        return True\n",
    "    except subprocess.CalledProcessError as exc:\n",
    "        log.warning(\n",
    "            f\"exec-out screencap failed (returncode={exc.returncode}). \"\n",
    "            \"Falling back to pull method.\"\n",
    "        )\n",
    "        return False\n",
    "    except Exception as e:  # pragma: no cover\n",
    "        log.error(f\"Fast screenshot capture failed: {e}\")\n",
    "        return False\n",
    "\n"
   ]
  },
  {
   "cell_type": "markdown",
   "id": "47515f86",
   "metadata": {},
   "source": [
    "# ---------------------------------------------------------------------------\n",
    "# Public helper\n",
    "# ---------------------------------------------------------------------------"
   ]
  },
  {
   "cell_type": "markdown",
   "id": "128d5ba2",
   "metadata": {},
   "source": [
    "Capture a screenshot, using fast method if possible.\n",
    "\n",
    "    This function attempts the fast `exec-out` screencap first; if it fails or\n",
    "    ``force_pull`` is True, it falls back to the legacy pull implementation\n",
    "    used previously in ``DeviceManager``."
   ]
  },
  {
   "cell_type": "code",
   "execution_count": null,
   "id": "6b4d0f36",
   "metadata": {},
   "outputs": [],
   "source": [
    "\n",
    "def capture_screenshot(device: Device, save_path: str, *, force_pull: bool = False) -> str:\n",
    "    if not force_pull and capture_fast_screenshot(device, save_path):\n",
    "        return save_path\n"
   ]
  },
  {
   "cell_type": "markdown",
   "id": "0b6c9056",
   "metadata": {},
   "source": [
    "    # Fallback - legacy pull"
   ]
  },
  {
   "cell_type": "code",
   "execution_count": null,
   "id": "b28c52e3",
   "metadata": {},
   "outputs": [],
   "source": [
    "    try:\n",
    "        device.shell(\"screencap -p /sdcard/screenshot.png\")\n",
    "        device.pull(\"/sdcard/screenshot.png\", save_path)\n",
    "        device.shell(\"rm /sdcard/screenshot.png\")\n",
    "        return save_path\n",
    "    except Exception as e:\n",
    "        log.error(f\"Legacy screenshot fallback failed: {e}\")\n",
    "        raise ADBError(\"Screenshot capture failed\") from e "
   ]
  }
 ],
 "metadata": {
  "kernelspec": {
   "display_name": "Python 3",
   "language": "python",
   "name": "python3"
  },
  "language_info": {
   "codemirror_mode": {
    "name": "ipython",
    "version": 3
   },
   "file_extension": ".py",
   "mimetype": "text/x-python",
   "name": "python",
   "nbconvert_exporter": "python",
   "pygments_lexer": "ipython3",
   "version": "3.10.0"
  }
 },
 "nbformat": 4,
 "nbformat_minor": 5
}
