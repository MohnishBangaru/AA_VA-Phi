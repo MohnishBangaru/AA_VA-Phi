{
 "cells": [
  {
   "cell_type": "markdown",
   "id": "41e35304",
   "metadata": {},
   "source": [
    "Computer vision utilities for DroidBot-GPT.\n",
    "\n",
    "This sub-package provides screenshot analysis, UI element detection, and OCR\n",
    "capabilities used to turn raw screenshots into structured device state."
   ]
  },
  {
   "cell_type": "code",
   "execution_count": null,
   "id": "e767ba77",
   "metadata": {},
   "outputs": [],
   "source": [
    "\n",
    "from .engine import VisionEngine\n",
    "from .models import BoundingBox, UIElement\n",
    "\n",
    "__all__ = [\n",
    "    \"BoundingBox\",\n",
    "    \"UIElement\",\n",
    "    \"VisionEngine\",\n",
    "] "
   ]
  }
 ],
 "metadata": {
  "kernelspec": {
   "display_name": "Python 3",
   "language": "python",
   "name": "python3"
  },
  "language_info": {
   "codemirror_mode": {
    "name": "ipython",
    "version": 3
   },
   "file_extension": ".py",
   "mimetype": "text/x-python",
   "name": "python",
   "nbconvert_exporter": "python",
   "pygments_lexer": "ipython3",
   "version": "3.10.0"
  }
 },
 "nbformat": 4,
 "nbformat_minor": 5
}
