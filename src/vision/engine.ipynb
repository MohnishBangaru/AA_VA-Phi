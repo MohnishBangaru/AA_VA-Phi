{
 "cells": [
  {
   "cell_type": "markdown",
   "id": "5071b473",
   "metadata": {},
   "source": [
    "Vision engine for screenshot analysis and UI element detection."
   ]
  },
  {
   "cell_type": "markdown",
   "id": "eff70e6f",
   "metadata": {},
   "source": [
    "Analyze screenshots and return detected UI elements using OCR."
   ]
  },
  {
   "cell_type": "markdown",
   "id": "743357e9",
   "metadata": {},
   "source": [
    "Initialize VisionEngine.\n",
    "\n",
    "        Parameters\n",
    "        ----------\n",
    "        tesseract_lang : str\n",
    "            Tesseract language code (default is ``\"eng\"``).\n"
   ]
  },
  {
   "cell_type": "code",
   "execution_count": null,
   "id": "98537c56",
   "metadata": {},
   "outputs": [],
   "source": [
    "\n",
    "from __future__ import annotations\n",
    "\n",
    "import concurrent.futures\n",
    "import os\n",
    "\n",
    "import cv2  # type: ignore\n",
    "import pytesseract  # type: ignore\n",
    "from loguru import logger\n",
    "\n",
    "from ..core.config import config\n",
    "from .models import BoundingBox, UIElement\n",
    "\n",
    "\n",
    "class VisionEngine:\n",
    "\n",
    "    def __init__(self, tesseract_lang: str = \"eng\") -> None:"
   ]
  },
  {
   "cell_type": "markdown",
   "id": "21193f5c",
   "metadata": {},
   "source": [
    "        # If the user provided a custom tesseract cmd path, set it."
   ]
  },
  {
   "cell_type": "code",
   "execution_count": null,
   "id": "7077a74a",
   "metadata": {},
   "outputs": [],
   "source": [
    "        tesseract_cmd = os.getenv(\"TESSERACT_CMD\")\n",
    "        if tesseract_cmd:\n",
    "            pytesseract.pytesseract.tesseract_cmd = tesseract_cmd\n",
    "        self.lang = tesseract_lang"
   ]
  },
  {
   "cell_type": "markdown",
   "id": "332c5d23",
   "metadata": {},
   "source": [
    "        # Use a thread pool for OCR to avoid blocking event loop."
   ]
  },
  {
   "cell_type": "code",
   "execution_count": null,
   "id": "4b17725a",
   "metadata": {},
   "outputs": [],
   "source": [
    "        self._executor = concurrent.futures.ThreadPoolExecutor(max_workers=2)\n"
   ]
  },
  {
   "cell_type": "markdown",
   "id": "84e4ee7a",
   "metadata": {},
   "source": [
    "        # Check if OCR should be enabled and Tesseract is present"
   ]
  },
  {
   "cell_type": "code",
   "execution_count": null,
   "id": "c27691e4",
   "metadata": {},
   "outputs": [],
   "source": [
    "        self._ocr_available: bool = False\n",
    "        if not config.use_ocr:\n",
    "            logger.warning(\"VisionEngine: OCR disabled via configuration (USE_OCR=false)\")\n",
    "        else:\n",
    "            try:\n",
    "                pytesseract.get_tesseract_version()\n",
    "                self._ocr_available = True\n",
    "            except pytesseract.pytesseract.TesseractNotFoundError:\n",
    "                logger.warning(\n",
    "                    \"VisionEngine: Tesseract not found. OCR will be skipped.\"\n",
    "                )\n",
    "            except Exception as exc:\n",
    "                logger.warning(\n",
    "                    f\"VisionEngine: Unexpected error checking Tesseract ({exc}). OCR disabled.\"\n",
    "                )\n"
   ]
  },
  {
   "cell_type": "markdown",
   "id": "a87723af",
   "metadata": {},
   "source": [
    "    # ------------------------------------------------------------------\n",
    "    # Public API\n",
    "    # ------------------------------------------------------------------"
   ]
  },
  {
   "cell_type": "markdown",
   "id": "af42e4fc",
   "metadata": {},
   "source": [
    "Return list of detected `UIElement` objects from the screenshot."
   ]
  },
  {
   "cell_type": "code",
   "execution_count": null,
   "id": "4ce891dc",
   "metadata": {},
   "outputs": [],
   "source": [
    "    def analyze(self, image_path: str) -> list[UIElement]:\n",
    "        if not self._ocr_available:\n",
    "            return []  # OCR disabled, return empty list\n",
    "\n",
    "        if not os.path.exists(image_path):\n",
    "            logger.error(f\"Screenshot not found: {image_path}\")\n",
    "            return []\n",
    "\n",
    "        image = cv2.imread(image_path)\n",
    "        if image is None:\n",
    "            logger.error(f\"Failed to load image: {image_path}\")\n",
    "            return []\n"
   ]
  },
  {
   "cell_type": "markdown",
   "id": "ef695f02",
   "metadata": {},
   "source": [
    "        # Pre-process: convert to grayscale, optional resize for speed"
   ]
  },
  {
   "cell_type": "code",
   "execution_count": null,
   "id": "0c22cef4",
   "metadata": {},
   "outputs": [],
   "source": [
    "        gray = cv2.cvtColor(image, cv2.COLOR_BGR2GRAY)\n"
   ]
  },
  {
   "cell_type": "markdown",
   "id": "1014a2e7",
   "metadata": {},
   "source": [
    "        # Simple threshold to improve OCR contrast"
   ]
  },
  {
   "cell_type": "code",
   "execution_count": null,
   "id": "5cec292b",
   "metadata": {},
   "outputs": [],
   "source": [
    "        _, thresh = cv2.threshold(gray, 150, 255, cv2.THRESH_BINARY | cv2.THRESH_OTSU)\n"
   ]
  },
  {
   "cell_type": "markdown",
   "id": "9280afd5",
   "metadata": {},
   "source": [
    "        # Run OCR asynchronously"
   ]
  },
  {
   "cell_type": "code",
   "execution_count": null,
   "id": "21e0f3b5",
   "metadata": {},
   "outputs": [],
   "source": [
    "        future = self._executor.submit(\n",
    "            pytesseract.image_to_data,\n",
    "            thresh,\n",
    "            lang=self.lang,\n",
    "            output_type=pytesseract.Output.DICT,\n",
    "        )\n",
    "        ocr_data = future.result()\n",
    "\n",
    "        elements: list[UIElement] = []\n",
    "        n_boxes = len(ocr_data[\"level\"])\n",
    "        for i in range(n_boxes):\n",
    "            text = ocr_data[\"text\"][i].strip()\n",
    "            conf = float(ocr_data[\"conf\"][i])\n",
    "            if not text or conf < 0:\n",
    "                continue  # skip empty / low confidence entries\n",
    "            x, y, w, h = (\n",
    "                ocr_data[\"left\"][i],\n",
    "                ocr_data[\"top\"][i],\n",
    "                ocr_data[\"width\"][i],\n",
    "                ocr_data[\"height\"][i],\n",
    "            )\n",
    "            bbox = BoundingBox(x, y, x + w, y + h)\n",
    "            elements.append(UIElement(bbox=bbox, text=text, confidence=conf / 100.0))\n",
    "\n",
    "        logger.debug(f\"VisionEngine detected {len(elements)} text elements\")\n"
   ]
  },
  {
   "cell_type": "markdown",
   "id": "9e0490d5",
   "metadata": {},
   "source": [
    "        # Template matching (non-text elements)"
   ]
  },
  {
   "cell_type": "code",
   "execution_count": null,
   "id": "c2364dbd",
   "metadata": {},
   "outputs": [],
   "source": [
    "        try:\n",
    "            from .template_matcher import match_templates\n",
    "            tmpl_elements = match_templates(gray)\n",
    "            elements.extend(tmpl_elements)\n",
    "        except Exception as exc:  # pragma: no cover\n",
    "            logger.warning(f\"Template matching failed: {exc}\")\n"
   ]
  },
  {
   "cell_type": "markdown",
   "id": "c32d67a7",
   "metadata": {},
   "source": [
    "        # Clickable element detection"
   ]
  },
  {
   "cell_type": "code",
   "execution_count": null,
   "id": "de5a7f75",
   "metadata": {},
   "outputs": [],
   "source": [
    "        try:\n",
    "            from .clickable_detector import detect_clickable_elements\n",
    "            clickable_elements = detect_clickable_elements(image_path)\n",
    "            elements.extend(clickable_elements)\n",
    "            logger.debug(f\"VisionEngine detected {len(clickable_elements)} clickable elements\")\n",
    "        except Exception as exc:  # pragma: no cover\n",
    "            logger.warning(f\"Clickable detection failed: {exc}\")\n"
   ]
  },
  {
   "cell_type": "markdown",
   "id": "6079fdc8",
   "metadata": {},
   "source": [
    "        # Filter for interactive elements only"
   ]
  },
  {
   "cell_type": "code",
   "execution_count": null,
   "id": "e9544aaa",
   "metadata": {},
   "outputs": [],
   "source": [
    "        interactive_elements = self._filter_interactive_elements(elements)\n",
    "        "
   ]
  },
  {
   "cell_type": "markdown",
   "id": "7c932b86",
   "metadata": {},
   "source": [
    "        # Save debug overlay if enabled"
   ]
  },
  {
   "cell_type": "markdown",
   "id": "228c7b11",
   "metadata": {},
   "source": [
    "Filter elements to only include interactive/clickable ones.\n",
    "        \n",
    "        Parameters\n",
    "        ----------\n",
    "        elements : list[UIElement]\n",
    "            List of all detected elements\n",
    "            \n",
    "        Returns\n",
    "        -------\n",
    "        list[UIElement]\n",
    "            List of interactive elements only"
   ]
  },
  {
   "cell_type": "code",
   "execution_count": null,
   "id": "69856f4f",
   "metadata": {},
   "outputs": [],
   "source": [
    "        try:\n",
    "            from .debug import save_debug_overlay\n",
    "            save_debug_overlay(image_path, interactive_elements)\n",
    "        except Exception as exc:  # pragma: no cover\n",
    "            logger.warning(f\"Failed to save debug overlay: {exc}\")\n",
    "\n",
    "        logger.debug(f\"VisionEngine total interactive elements: {len(interactive_elements)}\")\n",
    "        return interactive_elements\n",
    "    \n",
    "    def _filter_interactive_elements(self, elements: list[UIElement]) -> list[UIElement]:\n",
    "        interactive_elements = []\n",
    "        \n",
    "        for element in elements:"
   ]
  },
  {
   "cell_type": "markdown",
   "id": "54c25f2e",
   "metadata": {},
   "source": [
    "            # Include elements that are likely interactive"
   ]
  },
  {
   "cell_type": "code",
   "execution_count": null,
   "id": "6844c94b",
   "metadata": {},
   "outputs": [],
   "source": [
    "            if element.element_type in [\"button\", \"colored_button\", \"edge_bounded\", \"template\"]:"
   ]
  },
  {
   "cell_type": "markdown",
   "id": "407ad238",
   "metadata": {},
   "source": [
    "                # Only include if they meet size criteria"
   ]
  },
  {
   "cell_type": "code",
   "execution_count": null,
   "id": "37119b26",
   "metadata": {},
   "outputs": [],
   "source": [
    "                bbox = element.bbox\n",
    "                if 30 <= bbox.width() <= 300 and 30 <= bbox.height() <= 200:\n",
    "                    interactive_elements.append(element)\n",
    "            elif element.element_type == \"text\":"
   ]
  },
  {
   "cell_type": "markdown",
   "id": "4a5f51eb",
   "metadata": {},
   "source": [
    "                # For text elements, check if they might be clickable\n",
    "                # Look for common interactive text patterns"
   ]
  },
  {
   "cell_type": "code",
   "execution_count": null,
   "id": "c89fc117",
   "metadata": {},
   "outputs": [],
   "source": [
    "                text_lower = element.text.lower()\n",
    "                interactive_keywords = [\n",
    "                    \"button\", \"click\", \"tap\", \"press\", \"select\", \"choose\",\n",
    "                    \"ok\", \"cancel\", \"yes\", \"no\", \"save\", \"delete\", \"edit\",\n",
    "                    \"add\", \"remove\", \"next\", \"back\", \"continue\", \"skip\",\n",
    "                    \"login\", \"sign\", \"register\", \"submit\", \"send\", \"search\",\n",
    "                    \"menu\", \"settings\", \"profile\", \"help\", \"close\", \"exit\"\n",
    "                ]\n",
    "                "
   ]
  },
  {
   "cell_type": "markdown",
   "id": "e334ab2c",
   "metadata": {},
   "source": [
    "                # Check if text contains interactive keywords"
   ]
  },
  {
   "cell_type": "code",
   "execution_count": null,
   "id": "de537099",
   "metadata": {},
   "outputs": [],
   "source": [
    "                if any(keyword in text_lower for keyword in interactive_keywords):\n",
    "                    interactive_elements.append(element)"
   ]
  },
  {
   "cell_type": "markdown",
   "id": "42d374f2",
   "metadata": {},
   "source": [
    "                # Check if text is short and in button-like size (likely a button label)"
   ]
  },
  {
   "cell_type": "code",
   "execution_count": null,
   "id": "a0454da8",
   "metadata": {},
   "outputs": [],
   "source": [
    "                elif len(element.text) <= 15 and element.confidence > 0.8:"
   ]
  },
  {
   "cell_type": "markdown",
   "id": "077e4917",
   "metadata": {},
   "source": [
    "                    # Check if it's in a reasonable size range for a button"
   ]
  },
  {
   "cell_type": "code",
   "execution_count": null,
   "id": "a1ed686b",
   "metadata": {},
   "outputs": [],
   "source": [
    "                    bbox = element.bbox\n",
    "                    if 30 <= bbox.width() <= 200 and 20 <= bbox.height() <= 80:\n",
    "                        interactive_elements.append(element)\n",
    "        "
   ]
  },
  {
   "cell_type": "markdown",
   "id": "33717774",
   "metadata": {},
   "source": [
    "        # Remove duplicates and overlapping elements"
   ]
  },
  {
   "cell_type": "markdown",
   "id": "26bdbed2",
   "metadata": {},
   "source": [
    "Remove overlapping elements, keeping the most likely interactive ones."
   ]
  },
  {
   "cell_type": "code",
   "execution_count": null,
   "id": "f5d27ce8",
   "metadata": {},
   "outputs": [],
   "source": [
    "        interactive_elements = self._remove_overlapping_elements(interactive_elements)\n",
    "        \n",
    "        logger.debug(f\"Filtered {len(elements)} total elements to {len(interactive_elements)} interactive elements\")\n",
    "        return interactive_elements\n",
    "    \n",
    "    def _remove_overlapping_elements(self, elements: list[UIElement]) -> list[UIElement]:\n",
    "        if not elements:\n",
    "            return []\n",
    "        "
   ]
  },
  {
   "cell_type": "markdown",
   "id": "464e7936",
   "metadata": {},
   "source": [
    "        # Sort by confidence and element type priority"
   ]
  },
  {
   "cell_type": "code",
   "execution_count": null,
   "id": "1ccf601f",
   "metadata": {},
   "outputs": [],
   "source": [
    "        def element_priority(element: UIElement) -> int:\n",
    "            priority_map = {\n",
    "                \"button\": 1,\n",
    "                \"colored_button\": 2,\n",
    "                \"text\": 3,\n",
    "                \"edge_bounded\": 4,\n",
    "                \"template\": 5\n",
    "            }\n",
    "            return priority_map.get(element.element_type, 6)\n",
    "        \n",
    "        elements = sorted(elements, key=lambda e: (element_priority(e), e.confidence), reverse=True)\n",
    "        kept = []\n",
    "        \n",
    "        for element in elements:"
   ]
  },
  {
   "cell_type": "markdown",
   "id": "85d3bb21",
   "metadata": {},
   "source": [
    "            # Check if this element overlaps significantly with any kept element"
   ]
  },
  {
   "cell_type": "markdown",
   "id": "3728c33a",
   "metadata": {},
   "source": [
    "Calculate Intersection over Union between two bounding boxes."
   ]
  },
  {
   "cell_type": "code",
   "execution_count": null,
   "id": "34b0c229",
   "metadata": {},
   "outputs": [],
   "source": [
    "            is_duplicate = False\n",
    "            for kept_element in kept:\n",
    "                iou = self._calculate_iou(element.bbox, kept_element.bbox)\n",
    "                if iou > 0.3:  # More than 30% overlap\n",
    "                    is_duplicate = True\n",
    "                    break\n",
    "            \n",
    "            if not is_duplicate:\n",
    "                kept.append(element)\n",
    "        \n",
    "        return kept\n",
    "    \n",
    "    def _calculate_iou(self, bbox1: BoundingBox, bbox2: BoundingBox) -> float:"
   ]
  },
  {
   "cell_type": "markdown",
   "id": "c8fce092",
   "metadata": {},
   "source": [
    "        # Calculate intersection"
   ]
  },
  {
   "cell_type": "code",
   "execution_count": null,
   "id": "ded1c2ba",
   "metadata": {},
   "outputs": [],
   "source": [
    "        x_left = max(bbox1.left, bbox2.left)\n",
    "        y_top = max(bbox1.top, bbox2.top)\n",
    "        x_right = min(bbox1.right, bbox2.right)\n",
    "        y_bottom = min(bbox1.bottom, bbox2.bottom)\n",
    "        \n",
    "        if x_right < x_left or y_bottom < y_top:\n",
    "            return 0.0\n",
    "        \n",
    "        intersection_area = (x_right - x_left) * (y_bottom - y_top)\n",
    "        "
   ]
  },
  {
   "cell_type": "markdown",
   "id": "704817f4",
   "metadata": {},
   "source": [
    "        # Calculate union"
   ]
  },
  {
   "cell_type": "code",
   "execution_count": null,
   "id": "97ccc91d",
   "metadata": {},
   "outputs": [],
   "source": [
    "        bbox1_area = bbox1.width() * bbox1.height()\n",
    "        bbox2_area = bbox2.width() * bbox2.height()\n",
    "        union_area = bbox1_area + bbox2_area - intersection_area\n",
    "        \n",
    "        return intersection_area / union_area if union_area > 0 else 0.0 "
   ]
  }
 ],
 "metadata": {
  "kernelspec": {
   "display_name": "Python 3",
   "language": "python",
   "name": "python3"
  },
  "language_info": {
   "codemirror_mode": {
    "name": "ipython",
    "version": 3
   },
   "file_extension": ".py",
   "mimetype": "text/x-python",
   "name": "python",
   "nbconvert_exporter": "python",
   "pygments_lexer": "ipython3",
   "version": "3.10.0"
  }
 },
 "nbformat": 4,
 "nbformat_minor": 5
}
