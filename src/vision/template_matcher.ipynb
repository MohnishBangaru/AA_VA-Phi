{
 "cells": [
  {
   "cell_type": "markdown",
   "id": "986c08bf",
   "metadata": {},
   "source": [
    "Template matching utilities for VisionEngine."
   ]
  },
  {
   "cell_type": "markdown",
   "id": "a00eb0e7",
   "metadata": {},
   "source": [
    "In-memory grayscale template with an associated human-readable name."
   ]
  },
  {
   "cell_type": "markdown",
   "id": "2f8da41d",
   "metadata": {},
   "source": [
    "Load all PNG/JPG templates from the templates directory (lazy)."
   ]
  },
  {
   "cell_type": "markdown",
   "id": "859e85c5",
   "metadata": {},
   "source": [
    "Return UIElement list for each matched template above threshold."
   ]
  },
  {
   "cell_type": "code",
   "execution_count": null,
   "id": "a83b2f98",
   "metadata": {},
   "outputs": [],
   "source": [
    "\n",
    "from __future__ import annotations\n",
    "\n",
    "import concurrent.futures\n",
    "import os\n",
    "from dataclasses import dataclass\n",
    "from functools import lru_cache\n",
    "\n",
    "import cv2  # type: ignore\n",
    "import numpy as np  # type: ignore\n",
    "from loguru import logger\n",
    "\n",
    "from ..core.config import config\n",
    "from .models import BoundingBox, UIElement\n",
    "\n",
    "\n",
    "@dataclass(slots=True)\n",
    "class Template:\n",
    "\n",
    "    name: str\n",
    "    image: np.ndarray  # grayscale template image\n",
    "\n",
    "\n",
    "TEMPLATES_DIR = os.path.join(os.path.dirname(__file__), \"templates\")\n",
    "\n",
    "\n",
    "@lru_cache(maxsize=1)\n",
    "def _load_templates() -> list[Template]:\n",
    "    templates: list[Template] = []\n",
    "    if not os.path.isdir(TEMPLATES_DIR):\n",
    "        logger.warning(\"Template directory not found: {0}\", TEMPLATES_DIR)\n",
    "        return templates\n",
    "\n",
    "    for fname in os.listdir(TEMPLATES_DIR):\n",
    "        if not fname.lower().endswith((\".png\", \".jpg\", \".jpeg\")):\n",
    "            continue\n",
    "        path = os.path.join(TEMPLATES_DIR, fname)\n",
    "        img = cv2.imread(path, cv2.IMREAD_GRAYSCALE)\n",
    "        if img is None:\n",
    "            logger.warning(\"Failed to load template {0}\", path)\n",
    "            continue\n",
    "        name = os.path.splitext(fname)[0]\n",
    "        templates.append(Template(name=name, image=img))\n",
    "    logger.debug(\"Loaded {0} templates\", len(templates))\n",
    "    return templates\n",
    "\n",
    "\n",
    "def match_templates(gray_screenshot: np.ndarray) -> list[UIElement]:\n",
    "    detected: list[UIElement] = []\n",
    "    threshold = float(config.cv_template_matching_threshold)\n",
    "    max_scales = int(config.cv_template_max_scales)\n",
    "    scale_step = float(config.cv_template_scale_step)\n",
    "\n",
    "    def _process_template(tpl: Template) -> list[UIElement]:\n",
    "        local_detected: list[UIElement] = []\n",
    "        try:\n",
    "            scales = _generate_scales(max_scales, scale_step)\n",
    "            matched_found = False\n",
    "            for scale in scales:"
   ]
  },
  {
   "cell_type": "markdown",
   "id": "52151d5e",
   "metadata": {},
   "source": [
    "                # resize"
   ]
  },
  {
   "cell_type": "code",
   "execution_count": null,
   "id": "0ff9095d",
   "metadata": {},
   "outputs": [],
   "source": [
    "                if scale == 1.0:\n",
    "                    tpl_resized = tpl.image\n",
    "                else:\n",
    "                    h0, w0 = tpl.image.shape[:2]\n",
    "                    new_w, new_h = int(w0 * scale), int(h0 * scale)\n",
    "                    if new_w < 8 or new_h < 8:\n",
    "                        continue\n",
    "                    tpl_resized = cv2.resize(\n",
    "                        tpl.image,\n",
    "                        (new_w, new_h),\n",
    "                        interpolation=cv2.INTER_AREA,\n",
    "                    )\n",
    "\n",
    "                res = cv2.matchTemplate(gray_screenshot, tpl_resized, cv2.TM_CCOEFF_NORMED)\n",
    "                loc = np.where(res >= threshold)\n",
    "                if loc[0].size == 0:\n",
    "                    continue\n",
    "\n",
    "                matched_found = True\n",
    "                h, w = tpl_resized.shape[:2]\n",
    "                for pt_y, pt_x in zip(*loc):\n",
    "                    bbox = BoundingBox(pt_x, pt_y, pt_x + w, pt_y + h)\n",
    "                    score = float(res[pt_y, pt_x])\n",
    "                    local_detected.append(\n",
    "                        UIElement(\n",
    "                            bbox=bbox,\n",
    "                            text=tpl.name,\n",
    "                            confidence=score,\n",
    "                            element_type=\"template\",\n",
    "                        )\n",
    "                    )\n",
    "\n",
    "                if matched_found:\n",
    "                    break\n",
    "        except Exception as exc:\n",
    "            logger.warning(\"Template match failed for %s: %s\", tpl.name, exc)\n",
    "        return local_detected\n",
    "\n",
    "    templates = _load_templates()\n",
    "    if not templates:\n",
    "        return []\n",
    "\n",
    "    with concurrent.futures.ThreadPoolExecutor(max_workers=config.cv_template_threads) as executor:\n",
    "        for res_list in executor.map(_process_template, templates):\n",
    "            detected.extend(res_list)\n",
    "    if detected:\n",
    "        detected = _non_max_suppression(detected, iou_thresh=0.3)\n",
    "        logger.debug(\"TemplateMatcher detected %d elements after NMS\", len(detected))\n",
    "    return detected\n",
    "\n"
   ]
  },
  {
   "cell_type": "markdown",
   "id": "94031fca",
   "metadata": {},
   "source": [
    "# ------------------------------------------------------------------\n",
    "# Non-max suppression helpers\n",
    "# ------------------------------------------------------------------"
   ]
  },
  {
   "cell_type": "markdown",
   "id": "390bca08",
   "metadata": {},
   "source": [
    "Suppress overlapping detections keeping highest-confidence element."
   ]
  },
  {
   "cell_type": "code",
   "execution_count": null,
   "id": "a8f5c34d",
   "metadata": {},
   "outputs": [],
   "source": [
    "\n",
    "\n",
    "def _iou(box1: BoundingBox, box2: BoundingBox) -> float:  # Intersection-over-Union\n",
    "    inter_left = max(box1.left, box2.left)\n",
    "    inter_top = max(box1.top, box2.top)\n",
    "    inter_right = min(box1.right, box2.right)\n",
    "    inter_bottom = min(box1.bottom, box2.bottom)\n",
    "\n",
    "    if inter_right <= inter_left or inter_bottom <= inter_top:\n",
    "        return 0.0\n",
    "\n",
    "    inter_area = (inter_right - inter_left) * (inter_bottom - inter_top)\n",
    "    box1_area = box1.width() * box1.height()\n",
    "    box2_area = box2.width() * box2.height()\n",
    "    union_area = box1_area + box2_area - inter_area\n",
    "    return inter_area / union_area if union_area else 0.0\n",
    "\n",
    "\n",
    "def _non_max_suppression(elements: list[UIElement], *, iou_thresh: float) -> list[UIElement]:\n",
    "    if not elements:\n",
    "        return []\n"
   ]
  },
  {
   "cell_type": "markdown",
   "id": "59897f72",
   "metadata": {},
   "source": [
    "    # Sort by confidence descending"
   ]
  },
  {
   "cell_type": "code",
   "execution_count": null,
   "id": "8c1d8be4",
   "metadata": {},
   "outputs": [],
   "source": [
    "    elems = sorted(elements, key=lambda e: e.confidence, reverse=True)\n",
    "    kept: list[UIElement] = []\n",
    "\n",
    "    while elems:\n",
    "        current = elems.pop(0)\n",
    "        kept.append(current)\n",
    "        elems = [e for e in elems if _iou(current.bbox, e.bbox) < iou_thresh]\n",
    "\n",
    "    return kept\n",
    "\n"
   ]
  },
  {
   "cell_type": "markdown",
   "id": "ba73f55a",
   "metadata": {},
   "source": [
    "# ------------------------------------------------------------------\n",
    "# Scale helpers\n",
    "# ------------------------------------------------------------------"
   ]
  },
  {
   "cell_type": "markdown",
   "id": "45825dea",
   "metadata": {},
   "source": [
    "Return list of scale factors centred at 1.0 (e.g., [1.0, 0.9,1.1,0.81,...])."
   ]
  },
  {
   "cell_type": "code",
   "execution_count": null,
   "id": "b02f9c05",
   "metadata": {},
   "outputs": [],
   "source": [
    "\n",
    "\n",
    "def _generate_scales(max_scales: int, step: float) -> list[float]:\n",
    "    scales: list[float] = [1.0]\n",
    "    down = 1.0\n",
    "    up = 1.0\n",
    "    for _ in range(max_scales):\n",
    "        down *= step\n",
    "        up /= step\n",
    "        scales.extend([down, up])\n",
    "    return scales\n",
    "\n"
   ]
  },
  {
   "cell_type": "markdown",
   "id": "d703f222",
   "metadata": {},
   "source": [
    "# ------------------------------------------------------------------\n",
    "# Cache helpers\n",
    "# ------------------------------------------------------------------"
   ]
  },
  {
   "cell_type": "markdown",
   "id": "cede81d8",
   "metadata": {},
   "source": [
    "Clear template cache so new images are picked up without restart."
   ]
  },
  {
   "cell_type": "code",
   "execution_count": null,
   "id": "720859cb",
   "metadata": {},
   "outputs": [],
   "source": [
    "\n",
    "def reload_templates() -> None:\n",
    "    _load_templates.cache_clear() "
   ]
  }
 ],
 "metadata": {
  "kernelspec": {
   "display_name": "Python 3",
   "language": "python",
   "name": "python3"
  },
  "language_info": {
   "codemirror_mode": {
    "name": "ipython",
    "version": 3
   },
   "file_extension": ".py",
   "mimetype": "text/x-python",
   "name": "python",
   "nbconvert_exporter": "python",
   "pygments_lexer": "ipython3",
   "version": "3.10.0"
  }
 },
 "nbformat": 4,
 "nbformat_minor": 5
}
