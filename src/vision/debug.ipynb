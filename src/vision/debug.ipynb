{
 "cells": [
  {
   "cell_type": "markdown",
   "id": "d08c0d3e",
   "metadata": {},
   "source": [
    "Vision debugging helpers: draw bounding boxes onto screenshots."
   ]
  },
  {
   "cell_type": "markdown",
   "id": "9e6bfddb",
   "metadata": {},
   "source": [
    "Draw bounding boxes on image and save under vision_debug directory."
   ]
  },
  {
   "cell_type": "code",
   "execution_count": null,
   "id": "c88511de",
   "metadata": {},
   "outputs": [],
   "source": [
    "\n",
    "from __future__ import annotations\n",
    "\n",
    "import os\n",
    "\n",
    "import cv2  # type: ignore\n",
    "\n",
    "from ..core.config import config\n",
    "from .models import UIElement\n",
    "\n",
    "\n",
    "def save_debug_overlay(image_path: str, elements: list[UIElement]) -> None:\n",
    "    if not config.save_vision_debug:\n",
    "        return\n",
    "\n",
    "    img = cv2.imread(image_path)\n",
    "    if img is None:\n",
    "        return\n",
    "\n",
    "    for el in elements:\n",
    "        color = (0, 0, 255)  # Red in BGR\n",
    "        x1, y1, x2, y2 = el.bbox.as_tuple()\n"
   ]
  },
  {
   "cell_type": "markdown",
   "id": "7c4ac052",
   "metadata": {},
   "source": [
    "        # Draw thicker rectangle for better visibility"
   ]
  },
  {
   "cell_type": "code",
   "execution_count": null,
   "id": "942f60ac",
   "metadata": {},
   "outputs": [],
   "source": [
    "        cv2.rectangle(img, (x1, y1), (x2, y2), color, thickness=3)\n"
   ]
  },
  {
   "cell_type": "markdown",
   "id": "d685f5da",
   "metadata": {},
   "source": [
    "        # Prepare text label"
   ]
  },
  {
   "cell_type": "code",
   "execution_count": null,
   "id": "e90d7f1a",
   "metadata": {},
   "outputs": [],
   "source": [
    "        label = f\"{el.text}:{el.confidence:.2f}\"\n",
    "        font_scale = 0.5\n",
    "        font = cv2.FONT_HERSHEY_SIMPLEX\n",
    "        (text_w, text_h), _ = cv2.getTextSize(label, font, font_scale, 1)\n"
   ]
  },
  {
   "cell_type": "markdown",
   "id": "c7f6795e",
   "metadata": {},
   "source": [
    "        # Background rectangle (white) behind text for legibility"
   ]
  },
  {
   "cell_type": "code",
   "execution_count": null,
   "id": "fe591d8c",
   "metadata": {},
   "outputs": [],
   "source": [
    "        text_bg_tl = (x1, max(0, y1 - text_h - 4))\n",
    "        text_bg_br = (x1 + text_w + 4, max(0, y1))\n",
    "        cv2.rectangle(img, text_bg_tl, text_bg_br, (255, 255, 255), thickness=cv2.FILLED)\n"
   ]
  },
  {
   "cell_type": "markdown",
   "id": "9ab50dc2",
   "metadata": {},
   "source": [
    "        # Put red text on top"
   ]
  },
  {
   "cell_type": "code",
   "execution_count": null,
   "id": "4b94722c",
   "metadata": {},
   "outputs": [],
   "source": [
    "        text_org = (x1 + 2, max(10, y1 - 2))\n",
    "        cv2.putText(\n",
    "            img,\n",
    "            label,\n",
    "            text_org,\n",
    "            font,\n",
    "            font_scale,\n",
    "            color,\n",
    "            thickness=1,\n",
    "            lineType=cv2.LINE_AA,\n",
    "        )\n",
    "\n",
    "    from pathlib import Path\n",
    "    debug_dir = Path(image_path).resolve().parent.parent / config.ocr_images_dir\n",
    "    debug_dir.mkdir(parents=True, exist_ok=True)\n",
    "    base = Path(image_path).name.replace(\".png\", \"_debug.png\")\n",
    "    cv2.imwrite(str(debug_dir / base), img) "
   ]
  }
 ],
 "metadata": {
  "kernelspec": {
   "display_name": "Python 3",
   "language": "python",
   "name": "python3"
  },
  "language_info": {
   "codemirror_mode": {
    "name": "ipython",
    "version": 3
   },
   "file_extension": ".py",
   "mimetype": "text/x-python",
   "name": "python",
   "nbconvert_exporter": "python",
   "pygments_lexer": "ipython3",
   "version": "3.10.0"
  }
 },
 "nbformat": 4,
 "nbformat_minor": 5
}
