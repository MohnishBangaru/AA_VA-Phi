{
 "cells": [
  {
   "cell_type": "markdown",
   "id": "843f2594",
   "metadata": {},
   "source": [
    "Data models for computer vision subsystem."
   ]
  },
  {
   "cell_type": "markdown",
   "id": "500051cd",
   "metadata": {},
   "source": [
    "Axis-aligned rectangle (left, top, right, bottom) in pixel coordinates."
   ]
  },
  {
   "cell_type": "markdown",
   "id": "24c32ff6",
   "metadata": {},
   "source": [
    "Width in pixels."
   ]
  },
  {
   "cell_type": "markdown",
   "id": "9eda9dfe",
   "metadata": {},
   "source": [
    "Height in pixels."
   ]
  },
  {
   "cell_type": "markdown",
   "id": "65b76561",
   "metadata": {},
   "source": [
    "Return bounding box as ``(left, top, right, bottom)`` tuple."
   ]
  },
  {
   "cell_type": "markdown",
   "id": "8bc35e56",
   "metadata": {},
   "source": [
    "Representation of a detected UI element on screen."
   ]
  },
  {
   "cell_type": "code",
   "execution_count": null,
   "id": "244a18af",
   "metadata": {},
   "outputs": [],
   "source": [
    "\n",
    "from __future__ import annotations\n",
    "\n",
    "from dataclasses import dataclass\n",
    "\n",
    "\n",
    "@dataclass(slots=True)\n",
    "class BoundingBox:\n",
    "\n",
    "    left: int\n",
    "    top: int\n",
    "    right: int\n",
    "    bottom: int\n",
    "\n",
    "    def width(self) -> int:\n",
    "        return self.right - self.left\n",
    "\n",
    "    def height(self) -> int:\n",
    "        return self.bottom - self.top\n",
    "\n",
    "    def as_tuple(self) -> tuple[int, int, int, int]:\n",
    "        return self.left, self.top, self.right, self.bottom\n",
    "\n",
    "\n",
    "@dataclass(slots=True)\n",
    "class UIElement:\n",
    "\n",
    "    bbox: BoundingBox\n",
    "    text: str\n",
    "    confidence: float\n",
    "    element_type: str = \"text\"  # could be button, label, etc. "
   ]
  }
 ],
 "metadata": {
  "kernelspec": {
   "display_name": "Python 3",
   "language": "python",
   "name": "python3"
  },
  "language_info": {
   "codemirror_mode": {
    "name": "ipython",
    "version": 3
   },
   "file_extension": ".py",
   "mimetype": "text/x-python",
   "name": "python",
   "nbconvert_exporter": "python",
   "pygments_lexer": "ipython3",
   "version": "3.10.0"
  }
 },
 "nbformat": 4,
 "nbformat_minor": 5
}
