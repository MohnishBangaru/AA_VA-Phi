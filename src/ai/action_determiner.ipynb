{
 "cells": [
  {
   "cell_type": "markdown",
   "id": "ae0e39c3",
   "metadata": {},
   "source": [
    "Enhanced intelligent action determination for Explorer automation.\n",
    "\n",
    "This module provides smart action selection that:\n",
    "1. Uses improved prompts for better element detection and classification\n",
    "2. Filters interactions to app elements only (excludes system UI)\n",
    "3. Uses LLM to generate appropriate text for input fields\n",
    "4. Handles keyboard triggering for text input\n",
    "5. Provides context-aware action selection with enhanced analysis\n",
    "6. Tracks explored elements to prioritize unseen elements"
   ]
  },
  {
   "cell_type": "markdown",
   "id": "7f704913",
   "metadata": {},
   "source": [
    "Enhanced intelligent action determination with improved element detection and LLM text generation."
   ]
  },
  {
   "cell_type": "markdown",
   "id": "b14e3e16",
   "metadata": {},
   "source": [
    "Initialize the enhanced action determiner."
   ]
  },
  {
   "cell_type": "code",
   "execution_count": null,
   "id": "f1e64f36",
   "metadata": {},
   "outputs": [],
   "source": [
    "\n",
    "from __future__ import annotations\n",
    "\n",
    "import asyncio\n",
    "import json\n",
    "import re\n",
    "from typing import Any, Optional\n",
    "\n",
    "from loguru import logger\n",
    "\n",
    "from ..core.config import config\n",
    "from ..core.element_tracker import get_element_tracker\n",
    "from ..core.state_tracker import get_state_tracker\n",
    "from ..vision.models import UIElement\n",
    "from .openai_client import get_openai_client\n",
    "from .prompt_builder import build_element_detection_prompt, build_context_analysis_prompt\n",
    "from .phi_ground import get_phi_ground_generator\n",
    "\n",
    "\n",
    "class EnhancedActionDeterminer:\n",
    "    \n",
    "    def __init__(self) -> None:\n",
    "        self._openai_client = None\n",
    "        self._phi_ground_generator = None\n",
    "        self._element_tracker = get_element_tracker()\n",
    "        self._state_tracker = get_state_tracker()\n",
    "        self._text_input_patterns = [\n",
    "            r\"email\", r\"password\", r\"username\", r\"name\", r\"phone\", r\"address\",\n",
    "            r\"search\", r\"query\", r\"input\", r\"field\", r\"text\", r\"enter\", r\"type\",\n",
    "            r\"fill\", r\"write\", r\"add\", r\"message\", r\"comment\", r\"note\"\n",
    "        ]\n",
    "        self._system_ui_indicators = [\n",
    "            \"status bar\", \"navigation bar\", \"home\", \"back\", \"recent apps\",\n",
    "            \"settings\", \"notifications\", \"quick settings\", \"system ui\",\n",
    "            \"battery\", \"signal\", \"wifi\", \"time\", \"date\"\n",
    "        ]\n",
    "        self._interactive_keywords = [\n",
    "            \"button\", \"tap\", \"click\", \"press\", \"select\", \"choose\", \"continue\", \"next\",\n",
    "            \"submit\", \"save\", \"confirm\", \"ok\", \"yes\", \"no\", \"cancel\", \"back\",\n",
    "            \"login\", \"sign in\", \"register\", \"sign up\", \"search\", \"menu\", \"settings\",\n",
    "            \"profile\", \"cart\", \"checkout\", \"order\", \"add\", \"remove\", \"edit\", \"delete\",\n",
    "            \"close\", \"exit\", \"help\", \"info\", \"more\", \"details\", \"view\", \"open\"\n",
    "        ]\n",
    "        "
   ]
  },
  {
   "cell_type": "markdown",
   "id": "995f837d",
   "metadata": {},
   "source": [
    "        # Critical precedence rules for action selection"
   ]
  },
  {
   "cell_type": "markdown",
   "id": "9cd2bd56",
   "metadata": {},
   "source": [
    "Determine the next action based on current UI state and task with enhanced analysis.\n",
    "        \n",
    "        Args:\n",
    "            ui_elements: List of detected UI elements\n",
    "            task_description: Current automation task\n",
    "            action_history: Previous actions performed\n",
    "            device_info: Device information\n",
    "            screenshot_path: Path to current screenshot for Phi Ground\n",
    "            \n",
    "        Returns:\n",
    "            Action dictionary or None if no action needed"
   ]
  },
  {
   "cell_type": "code",
   "execution_count": null,
   "id": "20b65d98",
   "metadata": {},
   "outputs": [],
   "source": [
    "        self._text_input_keywords = [\n",
    "            \"email\", \"password\", \"search\", \"name\", \"address\", \"phone\", \"date\", \"url\", \"code\"\n",
    "        ]\n",
    "        self._primary_action_keywords = [\n",
    "            \"next\", \"continue\", \"sign in\", \"submit\", \"add to cart\", \"save\", \"confirm\"\n",
    "        ]\n",
    "        self._important_link_keywords = [\n",
    "            \"view details\", \"learn more\", \"read more\", \"see more\", \"expand\"\n",
    "        ]\n",
    "        self._interactive_control_keywords = [\n",
    "            \"checkbox\", \"radio\", \"switch\", \"toggle\", \"select\", \"choose\"\n",
    "        ]\n",
    "        self._general_action_keywords = [\n",
    "            \"add\", \"edit\", \"share\", \"download\", \"upload\", \"send\", \"create\"\n",
    "        ]\n",
    "        self._navigation_keywords = [\n",
    "            \"back\", \"dismiss\", \"close\", \"cancel\", \"exit\", \"menu\", \"tab\", \"home\"\n",
    "        ]\n",
    "    \n",
    "    async def determine_next_action(\n",
    "        self,\n",
    "        ui_elements: list[UIElement],\n",
    "        task_description: str,\n",
    "        action_history: list[dict[str, Any]],\n",
    "        device_info: dict[str, Any],\n",
    "        screenshot_path: Optional[str] = None\n",
    "    ) -> Optional[dict[str, Any]]:\n",
    "        try:"
   ]
  },
  {
   "cell_type": "markdown",
   "id": "d78bf3c6",
   "metadata": {},
   "source": [
    "            # Try Phi Ground first if enabled and screenshot is available"
   ]
  },
  {
   "cell_type": "code",
   "execution_count": null,
   "id": "daa9f8e8",
   "metadata": {},
   "outputs": [],
   "source": [
    "            if config.use_phi_ground and screenshot_path:\n",
    "                phi_ground_action = await self._try_phi_ground_action(\n",
    "                    screenshot_path, task_description, action_history, ui_elements\n",
    "                )\n",
    "                if phi_ground_action:\n",
    "                    logger.info(\"Using Phi Ground generated action\")\n",
    "                    return phi_ground_action\n",
    "            "
   ]
  },
  {
   "cell_type": "markdown",
   "id": "aa02dcc6",
   "metadata": {},
   "source": [
    "            # Enhanced element analysis using LLM"
   ]
  },
  {
   "cell_type": "code",
   "execution_count": null,
   "id": "fac34775",
   "metadata": {},
   "outputs": [],
   "source": [
    "            element_analysis = await self._analyze_elements_with_llm(\n",
    "                ui_elements, task_description, action_history\n",
    "            )\n",
    "            "
   ]
  },
  {
   "cell_type": "markdown",
   "id": "99fa54ab",
   "metadata": {},
   "source": [
    "            # Filter to app-only elements with enhanced filtering"
   ]
  },
  {
   "cell_type": "code",
   "execution_count": null,
   "id": "85ea7f97",
   "metadata": {},
   "outputs": [],
   "source": [
    "            app_elements = self._filter_app_elements_enhanced(ui_elements, element_analysis)\n",
    "            \n",
    "            if not app_elements:\n",
    "                logger.warning(\"No app elements found for interaction\")\n",
    "                return {\"type\": \"wait\", \"duration\": 1.0, \"reasoning\": \"No app elements available\"}\n",
    "            "
   ]
  },
  {
   "cell_type": "markdown",
   "id": "45c26153",
   "metadata": {},
   "source": [
    "            # Get exploration context"
   ]
  },
  {
   "cell_type": "code",
   "execution_count": null,
   "id": "117089df",
   "metadata": {},
   "outputs": [],
   "source": [
    "            exploration_context = self._get_exploration_context(task_description, action_history)\n",
    "            "
   ]
  },
  {
   "cell_type": "markdown",
   "id": "838e80a3",
   "metadata": {},
   "source": [
    "            # Check if current state is visited"
   ]
  },
  {
   "cell_type": "code",
   "execution_count": null,
   "id": "48794ecb",
   "metadata": {},
   "outputs": [],
   "source": [
    "            is_state_visited = self._state_tracker.is_state_visited(ui_elements, exploration_context)\n",
    "            state_priority = self._state_tracker.get_state_exploration_priority(ui_elements, exploration_context)\n",
    "            \n",
    "            if is_state_visited:\n",
    "                logger.warning(f\"Current state has been visited before (priority: {state_priority:.2f})\")"
   ]
  },
  {
   "cell_type": "markdown",
   "id": "523ebc49",
   "metadata": {},
   "source": [
    "                # Force exploration of new elements in visited state"
   ]
  },
  {
   "cell_type": "code",
   "execution_count": null,
   "id": "efe710cc",
   "metadata": {},
   "outputs": [],
   "source": [
    "                logger.info(\"Forcing exploration of new elements to avoid state loops\")\n",
    "            "
   ]
  },
  {
   "cell_type": "markdown",
   "id": "c7cedb0e",
   "metadata": {},
   "source": [
    "            # Prioritize elements based on exploration strategy"
   ]
  },
  {
   "cell_type": "code",
   "execution_count": null,
   "id": "13cb17a3",
   "metadata": {},
   "outputs": [],
   "source": [
    "            prioritized_elements = self._element_tracker.get_exploration_priority(\n",
    "                app_elements, exploration_context\n",
    "            )\n",
    "            "
   ]
  },
  {
   "cell_type": "markdown",
   "id": "0517cf9e",
   "metadata": {},
   "source": [
    "            # Get unexplored elements for logging"
   ]
  },
  {
   "cell_type": "code",
   "execution_count": null,
   "id": "08520c1e",
   "metadata": {},
   "outputs": [],
   "source": [
    "            unexplored_elements = self._element_tracker.get_unexplored_elements(app_elements, exploration_context)\n",
    "            logger.info(f\"Found {len(unexplored_elements)} unexplored elements out of {len(app_elements)} total\")\n",
    "            logger.info(f\"State exploration priority: {state_priority:.2f} (visited: {is_state_visited})\")\n",
    "            \n",
    "            if not prioritized_elements:\n",
    "                logger.warning(\"No prioritized elements found\")\n",
    "                return {\"type\": \"wait\", \"duration\": 1.0, \"reasoning\": \"No suitable elements found\"}\n",
    "            "
   ]
  },
  {
   "cell_type": "markdown",
   "id": "0ceda45c",
   "metadata": {},
   "source": [
    "            # Analyze elements for potential actions with exploration and state awareness"
   ]
  },
  {
   "cell_type": "code",
   "execution_count": null,
   "id": "d8b40ff2",
   "metadata": {},
   "outputs": [],
   "source": [
    "            action_candidates = self._analyze_action_candidates_with_exploration(\n",
    "                prioritized_elements, task_description, element_analysis, exploration_context, state_priority\n",
    "            )\n",
    "            \n",
    "            if not action_candidates:\n",
    "                logger.warning(\"No action candidates found\")\n",
    "                return {\"type\": \"wait\", \"duration\": 1.0, \"reasoning\": \"No suitable actions found\"}\n",
    "            "
   ]
  },
  {
   "cell_type": "markdown",
   "id": "fc9aaae2",
   "metadata": {},
   "source": [
    "            # Apply critical precedence rules"
   ]
  },
  {
   "cell_type": "code",
   "execution_count": null,
   "id": "f94089fd",
   "metadata": {},
   "outputs": [],
   "source": [
    "            action_candidates = self._apply_critical_precedence_rules(\n",
    "                action_candidates, ui_elements\n",
    "            )\n",
    "            "
   ]
  },
  {
   "cell_type": "markdown",
   "id": "06c598aa",
   "metadata": {},
   "source": [
    "            # Select best action with enhanced reasoning"
   ]
  },
  {
   "cell_type": "code",
   "execution_count": null,
   "id": "112974b1",
   "metadata": {},
   "outputs": [],
   "source": [
    "            best_action = await self._select_best_action_enhanced(\n",
    "                action_candidates, task_description, action_history, element_analysis\n",
    "            )\n",
    "            "
   ]
  },
  {
   "cell_type": "markdown",
   "id": "a1f35722",
   "metadata": {},
   "source": [
    "            # Mark the selected element as explored"
   ]
  },
  {
   "cell_type": "code",
   "execution_count": null,
   "id": "9d69ac21",
   "metadata": {},
   "outputs": [],
   "source": [
    "            if best_action and \"element_text\" in best_action:"
   ]
  },
  {
   "cell_type": "markdown",
   "id": "3b0b8026",
   "metadata": {},
   "source": [
    "                # Find the corresponding element"
   ]
  },
  {
   "cell_type": "code",
   "execution_count": null,
   "id": "01a06483",
   "metadata": {},
   "outputs": [],
   "source": [
    "                for element, _ in prioritized_elements:\n",
    "                    if element.text == best_action[\"element_text\"]:\n",
    "                        self._element_tracker.mark_element_explored(\n",
    "                            element, best_action, exploration_context\n",
    "                        )\n",
    "                        break\n",
    "            "
   ]
  },
  {
   "cell_type": "markdown",
   "id": "131d416c",
   "metadata": {},
   "source": [
    "            # Mark current state as visited after action selection"
   ]
  },
  {
   "cell_type": "markdown",
   "id": "bd2d0ffc",
   "metadata": {},
   "source": [
    "Generate exploration context based on task and history."
   ]
  },
  {
   "cell_type": "code",
   "execution_count": null,
   "id": "438a38fa",
   "metadata": {},
   "outputs": [],
   "source": [
    "            self._state_tracker.mark_state_visited(ui_elements, exploration_context, best_action)\n",
    "            \n",
    "            return best_action\n",
    "            \n",
    "        except Exception as e:\n",
    "            logger.error(f\"Enhanced action determination failed: {e}\")\n",
    "            return {\"type\": \"wait\", \"duration\": 1.0, \"reasoning\": f\"Error: {str(e)}\"}\n",
    "    \n",
    "    def _get_exploration_context(self, task_description: str, action_history: list[dict[str, Any]]) -> str:"
   ]
  },
  {
   "cell_type": "markdown",
   "id": "72a68fa0",
   "metadata": {},
   "source": [
    "        # Create context from task description and recent actions"
   ]
  },
  {
   "cell_type": "code",
   "execution_count": null,
   "id": "b86bc5b9",
   "metadata": {},
   "outputs": [],
   "source": [
    "        context_parts = [task_description]\n",
    "        "
   ]
  },
  {
   "cell_type": "markdown",
   "id": "8b51c2cd",
   "metadata": {},
   "source": [
    "        # Add recent actions to context"
   ]
  },
  {
   "cell_type": "markdown",
   "id": "6bed6df7",
   "metadata": {},
   "source": [
    "Analyze elements using LLM for better understanding and classification."
   ]
  },
  {
   "cell_type": "code",
   "execution_count": null,
   "id": "5a266d0d",
   "metadata": {},
   "outputs": [],
   "source": [
    "        recent_actions = action_history[-3:]  # Last 3 actions\n",
    "        for action in recent_actions:\n",
    "            action_type = action.get(\"type\", \"\")\n",
    "            element_text = action.get(\"element_text\", \"\")\n",
    "            if element_text:\n",
    "                context_parts.append(f\"{action_type}:{element_text}\")\n",
    "        \n",
    "        return \"|\".join(context_parts)\n",
    "    \n",
    "    async def _analyze_elements_with_llm(\n",
    "        self,\n",
    "        ui_elements: list[UIElement],\n",
    "        task_description: str,\n",
    "        action_history: list[dict[str, Any]]\n",
    "    ) -> dict[str, Any]:\n",
    "        try:\n",
    "            if not config.openai_api_key:\n",
    "                return {\"interactive_elements\": [], \"suggested_actions\": []}\n",
    "            \n",
    "            if self._openai_client is None:\n",
    "                self._openai_client = get_openai_client()\n",
    "            "
   ]
  },
  {
   "cell_type": "markdown",
   "id": "d0895332",
   "metadata": {},
   "source": [
    "            # Create state for LLM analysis"
   ]
  },
  {
   "cell_type": "code",
   "execution_count": null,
   "id": "9a081ca2",
   "metadata": {},
   "outputs": [],
   "source": [
    "            state = {\n",
    "                \"ui_elements\": ui_elements,\n",
    "                \"device_info\": {\"model\": \"Android Device\", \"screen_size\": (1080, 1920)}\n",
    "            }\n",
    "            "
   ]
  },
  {
   "cell_type": "markdown",
   "id": "f7e499b8",
   "metadata": {},
   "source": [
    "            # Use enhanced prompt for element detection"
   ]
  },
  {
   "cell_type": "code",
   "execution_count": null,
   "id": "ae7574d6",
   "metadata": {},
   "outputs": [],
   "source": [
    "            messages = build_element_detection_prompt(\n",
    "                state, task_description, [str(action) for action in action_history[-5:]]\n",
    "            )\n",
    "            \n",
    "            response = await self._openai_client.chat(messages=messages)\n",
    "            "
   ]
  },
  {
   "cell_type": "markdown",
   "id": "64745314",
   "metadata": {},
   "source": [
    "            # Parse LLM response"
   ]
  },
  {
   "cell_type": "markdown",
   "id": "85874e4f",
   "metadata": {},
   "source": [
    "Enhanced filtering of elements to only include app-specific interactive elements."
   ]
  },
  {
   "cell_type": "code",
   "execution_count": null,
   "id": "7fb4cdc4",
   "metadata": {},
   "outputs": [],
   "source": [
    "            try:\n",
    "                analysis = json.loads(response)\n",
    "                return analysis\n",
    "            except json.JSONDecodeError:\n",
    "                logger.warning(\"Failed to parse LLM element analysis response\")\n",
    "                return {\"interactive_elements\": [], \"suggested_actions\": []}\n",
    "                \n",
    "        except Exception as e:\n",
    "            logger.warning(f\"LLM element analysis failed: {e}\")\n",
    "            return {\"interactive_elements\": [], \"suggested_actions\": []}\n",
    "    \n",
    "    def _filter_app_elements_enhanced(\n",
    "        self, \n",
    "        elements: list[UIElement], \n",
    "        element_analysis: dict[str, Any]\n",
    "    ) -> list[UIElement]:\n",
    "        app_elements = []\n",
    "        "
   ]
  },
  {
   "cell_type": "markdown",
   "id": "a2d4e46a",
   "metadata": {},
   "source": [
    "        # Get LLM-suggested interactive elements if available"
   ]
  },
  {
   "cell_type": "code",
   "execution_count": null,
   "id": "20dd76f6",
   "metadata": {},
   "outputs": [],
   "source": [
    "        llm_interactive = element_analysis.get(\"interactive_elements\", [])\n",
    "        llm_element_texts = [item.get(\"text\", \"\").lower() for item in llm_interactive]\n",
    "        \n",
    "        for element in elements:"
   ]
  },
  {
   "cell_type": "markdown",
   "id": "2e46768f",
   "metadata": {},
   "source": [
    "            # Skip system UI elements"
   ]
  },
  {
   "cell_type": "code",
   "execution_count": null,
   "id": "6e54d499",
   "metadata": {},
   "outputs": [],
   "source": [
    "            if self._is_system_ui_enhanced(element):\n",
    "                continue\n",
    "            "
   ]
  },
  {
   "cell_type": "markdown",
   "id": "8a721640",
   "metadata": {},
   "source": [
    "            # Skip non-interactive elements"
   ]
  },
  {
   "cell_type": "code",
   "execution_count": null,
   "id": "1a4e9ddb",
   "metadata": {},
   "outputs": [],
   "source": [
    "            if not self._is_interactive_enhanced(element, llm_element_texts):\n",
    "                continue\n",
    "            "
   ]
  },
  {
   "cell_type": "markdown",
   "id": "14fc6741",
   "metadata": {},
   "source": [
    "            # Skip elements that are too small or too large"
   ]
  },
  {
   "cell_type": "markdown",
   "id": "60dc8289",
   "metadata": {},
   "source": [
    "Enhanced check if element is part of system UI."
   ]
  },
  {
   "cell_type": "code",
   "execution_count": null,
   "id": "6a91551a",
   "metadata": {},
   "outputs": [],
   "source": [
    "            if not self._is_appropriate_size_enhanced(element):\n",
    "                continue\n",
    "            \n",
    "            app_elements.append(element)\n",
    "        \n",
    "        logger.debug(f\"Enhanced filtering: {len(elements)} → {len(app_elements)} app elements\")\n",
    "        return app_elements\n",
    "    \n",
    "    def _is_system_ui_enhanced(self, element: UIElement) -> bool:\n",
    "        text_lower = element.text.lower()\n",
    "        "
   ]
  },
  {
   "cell_type": "markdown",
   "id": "80871d83",
   "metadata": {},
   "source": [
    "        # Check for system UI indicators"
   ]
  },
  {
   "cell_type": "code",
   "execution_count": null,
   "id": "83a9e61c",
   "metadata": {},
   "outputs": [],
   "source": [
    "        for indicator in self._system_ui_indicators:\n",
    "            if indicator in text_lower:\n",
    "                return True\n",
    "        "
   ]
  },
  {
   "cell_type": "markdown",
   "id": "4ae6430d",
   "metadata": {},
   "source": [
    "        # Check for common system UI patterns"
   ]
  },
  {
   "cell_type": "code",
   "execution_count": null,
   "id": "3fcb8ddc",
   "metadata": {},
   "outputs": [],
   "source": [
    "        system_patterns = [\n",
    "            r\"^\\d{1,2}:\\d{2}$\",  # Time format\n",
    "            r\"^\\d+%$\",  # Battery percentage\n",
    "            r\"^[A-Z]{2,3}$\",  # Network indicators\n",
    "            r\"^\\d{1,2}/\\d{1,2}$\",  # Date format\n",
    "            r\"^[A-Z]{1,2}\\d{1,2}$\",  # Signal strength\n",
    "        ]\n",
    "        \n",
    "        for pattern in system_patterns:\n",
    "            if re.match(pattern, element.text):\n",
    "                return True\n",
    "        "
   ]
  },
  {
   "cell_type": "markdown",
   "id": "23dba09e",
   "metadata": {},
   "source": [
    "        # Check element position (top/bottom edges often contain system UI)"
   ]
  },
  {
   "cell_type": "markdown",
   "id": "33076405",
   "metadata": {},
   "source": [
    "Enhanced check if element is likely interactive."
   ]
  },
  {
   "cell_type": "code",
   "execution_count": null,
   "id": "b2c460d7",
   "metadata": {},
   "outputs": [],
   "source": [
    "        x1, y1, x2, y2 = element.bbox.as_tuple()\n",
    "        screen_height = 1920  # Default, should be passed from device_info\n",
    "        \n",
    "        if y1 < 50 or y2 > screen_height - 100:  # Top or bottom 100px\n",
    "            if len(element.text) < 10:  # Short text in edges is likely system UI\n",
    "                return True\n",
    "        \n",
    "        return False\n",
    "    \n",
    "    def _is_interactive_enhanced(self, element: UIElement, llm_suggestions: list[str]) -> bool:\n",
    "        text_lower = element.text.lower()\n",
    "        "
   ]
  },
  {
   "cell_type": "markdown",
   "id": "9e1081bc",
   "metadata": {},
   "source": [
    "        # Check if LLM suggested this element as interactive"
   ]
  },
  {
   "cell_type": "code",
   "execution_count": null,
   "id": "e7eb8fd1",
   "metadata": {},
   "outputs": [],
   "source": [
    "        if text_lower in llm_suggestions:\n",
    "            return True\n",
    "        "
   ]
  },
  {
   "cell_type": "markdown",
   "id": "5ba02cb1",
   "metadata": {},
   "source": [
    "        # Check for interactive keywords"
   ]
  },
  {
   "cell_type": "code",
   "execution_count": null,
   "id": "4cc0c222",
   "metadata": {},
   "outputs": [],
   "source": [
    "        for keyword in self._interactive_keywords:\n",
    "            if keyword in text_lower:\n",
    "                return True\n",
    "        "
   ]
  },
  {
   "cell_type": "markdown",
   "id": "17857d9f",
   "metadata": {},
   "source": [
    "        # Check element type from vision engine"
   ]
  },
  {
   "cell_type": "code",
   "execution_count": null,
   "id": "1b976392",
   "metadata": {},
   "outputs": [],
   "source": [
    "        if element.element_type in [\"button\", \"colored_button\", \"input\"]:\n",
    "            return True\n",
    "        "
   ]
  },
  {
   "cell_type": "markdown",
   "id": "58bbddbc",
   "metadata": {},
   "source": [
    "        # Check for clickable patterns (text with action words)"
   ]
  },
  {
   "cell_type": "code",
   "execution_count": null,
   "id": "6e8d3aa1",
   "metadata": {},
   "outputs": [],
   "source": [
    "        action_patterns = [\n",
    "            r\"^\\w+\\s+\\w+$\",  # Two word phrases often indicate buttons\n",
    "            r\"^[A-Z][a-z]+$\",  # Title case often indicate buttons\n",
    "            r\"^[A-Z][A-Z\\s]+$\",  # All caps often indicate buttons\n",
    "        ]\n",
    "        \n",
    "        for pattern in action_patterns:\n",
    "            if re.match(pattern, element.text):\n",
    "                return True\n",
    "        "
   ]
  },
  {
   "cell_type": "markdown",
   "id": "6008c026",
   "metadata": {},
   "source": [
    "        # Check for input field indicators"
   ]
  },
  {
   "cell_type": "markdown",
   "id": "8a2486b5",
   "metadata": {},
   "source": [
    "Apply critical precedence rules for action selection.\n",
    "        \n",
    "        Order of Precedence:\n",
    "        1. set_text Action (Highest Priority) - Fill empty/relevant text input fields\n",
    "        2. tap on Primary/Forwarding Elements (High Priority) - Advance user flow\n",
    "        3. scroll Action (Medium Priority) - Only if no higher priority actions available\n",
    "        4. tap on Navigation/Secondary/Dismiss/Back Elements (Lowest Priority) - Exit/navigate\n",
    "        \n",
    "        Args:\n",
    "            candidates: List of action candidates\n",
    "            ui_elements: All UI elements for scroll detection\n",
    "            \n",
    "        Returns:\n",
    "            Reordered candidates following precedence rules"
   ]
  },
  {
   "cell_type": "code",
   "execution_count": null,
   "id": "13910b05",
   "metadata": {},
   "outputs": [],
   "source": [
    "        for pattern in self._text_input_patterns:\n",
    "            if re.search(pattern, text_lower):\n",
    "                return True\n",
    "        \n",
    "        return False\n",
    "\n",
    "    def _apply_critical_precedence_rules(\n",
    "        self,\n",
    "        candidates: list[dict[str, Any]],\n",
    "        ui_elements: list[UIElement]\n",
    "    ) -> list[dict[str, Any]]:\n",
    "        if not candidates:\n",
    "            return candidates\n",
    "        "
   ]
  },
  {
   "cell_type": "markdown",
   "id": "40459379",
   "metadata": {},
   "source": [
    "        # Separate candidates by type and priority"
   ]
  },
  {
   "cell_type": "code",
   "execution_count": null,
   "id": "c4084554",
   "metadata": {},
   "outputs": [],
   "source": [
    "        text_input_candidates = []\n",
    "        primary_tap_candidates = []\n",
    "        general_tap_candidates = []\n",
    "        navigation_tap_candidates = []\n",
    "        \n",
    "        for candidate in candidates:\n",
    "            if candidate[\"type\"] == \"text_input\":\n",
    "                text_input_candidates.append(candidate)\n",
    "            elif candidate[\"type\"] == \"tap\":\n",
    "                element_text = candidate.get(\"element_text\", \"\").lower()\n",
    "                "
   ]
  },
  {
   "cell_type": "markdown",
   "id": "d6a3e5be",
   "metadata": {},
   "source": [
    "                # Check precedence levels for tap actions"
   ]
  },
  {
   "cell_type": "code",
   "execution_count": null,
   "id": "501b95eb",
   "metadata": {},
   "outputs": [],
   "source": [
    "                if any(keyword in element_text for keyword in self._primary_action_keywords):\n",
    "                    primary_tap_candidates.append(candidate)\n",
    "                elif any(keyword in element_text for keyword in self._important_link_keywords):\n",
    "                    primary_tap_candidates.append(candidate)\n",
    "                elif any(keyword in element_text for keyword in self._interactive_control_keywords):\n",
    "                    primary_tap_candidates.append(candidate)\n",
    "                elif any(keyword in element_text for keyword in self._general_action_keywords):\n",
    "                    general_tap_candidates.append(candidate)\n",
    "                elif any(keyword in element_text for keyword in self._navigation_keywords):\n",
    "                    navigation_tap_candidates.append(candidate)\n",
    "                else:"
   ]
  },
  {
   "cell_type": "markdown",
   "id": "fedb2cb3",
   "metadata": {},
   "source": [
    "                    # Default to general tap for unknown elements"
   ]
  },
  {
   "cell_type": "code",
   "execution_count": null,
   "id": "f03c73fd",
   "metadata": {},
   "outputs": [],
   "source": [
    "                    general_tap_candidates.append(candidate)\n",
    "        "
   ]
  },
  {
   "cell_type": "markdown",
   "id": "43628fb2",
   "metadata": {},
   "source": [
    "        # Apply precedence rules"
   ]
  },
  {
   "cell_type": "code",
   "execution_count": null,
   "id": "20b4bbe7",
   "metadata": {},
   "outputs": [],
   "source": [
    "        reordered_candidates = []\n",
    "        "
   ]
  },
  {
   "cell_type": "markdown",
   "id": "96e97bce",
   "metadata": {},
   "source": [
    "        # 1. Text input actions (Highest Priority)"
   ]
  },
  {
   "cell_type": "code",
   "execution_count": null,
   "id": "60da6740",
   "metadata": {},
   "outputs": [],
   "source": [
    "        if text_input_candidates:"
   ]
  },
  {
   "cell_type": "markdown",
   "id": "92abdf11",
   "metadata": {},
   "source": [
    "            # Sort by exploration priority within text input"
   ]
  },
  {
   "cell_type": "code",
   "execution_count": null,
   "id": "6e2de83a",
   "metadata": {},
   "outputs": [],
   "source": [
    "            text_input_candidates.sort(key=lambda x: x.get(\"exploration_priority\", 0), reverse=True)\n",
    "            reordered_candidates.extend(text_input_candidates)\n",
    "            logger.info(f\"CRITICAL RULE: Prioritizing {len(text_input_candidates)} text input actions\")\n",
    "        "
   ]
  },
  {
   "cell_type": "markdown",
   "id": "1a64e33a",
   "metadata": {},
   "source": [
    "        # 2. Primary/Forwarding tap actions (High Priority)"
   ]
  },
  {
   "cell_type": "code",
   "execution_count": null,
   "id": "680e2d10",
   "metadata": {},
   "outputs": [],
   "source": [
    "        if primary_tap_candidates:"
   ]
  },
  {
   "cell_type": "markdown",
   "id": "dd3b7cb2",
   "metadata": {},
   "source": [
    "            # Sort by exploration priority within primary actions"
   ]
  },
  {
   "cell_type": "code",
   "execution_count": null,
   "id": "ab48e497",
   "metadata": {},
   "outputs": [],
   "source": [
    "            primary_tap_candidates.sort(key=lambda x: x.get(\"exploration_priority\", 0), reverse=True)\n",
    "            reordered_candidates.extend(primary_tap_candidates)\n",
    "            logger.info(f\"CRITICAL RULE: Prioritizing {len(primary_tap_candidates)} primary tap actions\")\n",
    "        "
   ]
  },
  {
   "cell_type": "markdown",
   "id": "75a5b5cf",
   "metadata": {},
   "source": [
    "        # 3. General tap actions (Medium Priority)"
   ]
  },
  {
   "cell_type": "code",
   "execution_count": null,
   "id": "128072a0",
   "metadata": {},
   "outputs": [],
   "source": [
    "        if general_tap_candidates:"
   ]
  },
  {
   "cell_type": "markdown",
   "id": "625b5d79",
   "metadata": {},
   "source": [
    "            # Sort by exploration priority within general actions"
   ]
  },
  {
   "cell_type": "code",
   "execution_count": null,
   "id": "dfffae05",
   "metadata": {},
   "outputs": [],
   "source": [
    "            general_tap_candidates.sort(key=lambda x: x.get(\"exploration_priority\", 0), reverse=True)\n",
    "            reordered_candidates.extend(general_tap_candidates)\n",
    "            logger.info(f\"CRITICAL RULE: Adding {len(general_tap_candidates)} general tap actions\")\n",
    "        "
   ]
  },
  {
   "cell_type": "markdown",
   "id": "965104df",
   "metadata": {},
   "source": [
    "        # 4. Navigation/Secondary tap actions (Lowest Priority)"
   ]
  },
  {
   "cell_type": "code",
   "execution_count": null,
   "id": "f0821080",
   "metadata": {},
   "outputs": [],
   "source": [
    "        if navigation_tap_candidates:"
   ]
  },
  {
   "cell_type": "markdown",
   "id": "fbca4c1f",
   "metadata": {},
   "source": [
    "            # Sort by exploration priority within navigation actions"
   ]
  },
  {
   "cell_type": "code",
   "execution_count": null,
   "id": "47f74562",
   "metadata": {},
   "outputs": [],
   "source": [
    "            navigation_tap_candidates.sort(key=lambda x: x.get(\"exploration_priority\", 0), reverse=True)\n",
    "            reordered_candidates.extend(navigation_tap_candidates)\n",
    "            logger.info(f\"CRITICAL RULE: Adding {len(navigation_tap_candidates)} navigation tap actions\")\n",
    "        "
   ]
  },
  {
   "cell_type": "markdown",
   "id": "9270f87b",
   "metadata": {},
   "source": [
    "        # 5. Scroll action (Only if no other actions available)"
   ]
  },
  {
   "cell_type": "markdown",
   "id": "6feb7db5",
   "metadata": {},
   "source": [
    "Determine if a scroll action should be added."
   ]
  },
  {
   "cell_type": "code",
   "execution_count": null,
   "id": "6dce33e7",
   "metadata": {},
   "outputs": [],
   "source": [
    "        if not reordered_candidates and self._should_add_scroll_action(ui_elements):\n",
    "            scroll_candidate = self._create_scroll_candidate(ui_elements)\n",
    "            if scroll_candidate:\n",
    "                reordered_candidates.append(scroll_candidate)\n",
    "                logger.info(\"CRITICAL RULE: Adding scroll action as last resort\")\n",
    "        \n",
    "        return reordered_candidates\n",
    "\n",
    "    def _should_add_scroll_action(self, ui_elements: list[UIElement]) -> bool:"
   ]
  },
  {
   "cell_type": "markdown",
   "id": "633655c0",
   "metadata": {},
   "source": [
    "        # Check if screen appears scrollable (has elements near edges)"
   ]
  },
  {
   "cell_type": "code",
   "execution_count": null,
   "id": "e469e969",
   "metadata": {},
   "outputs": [],
   "source": [
    "        screen_height = 1920  # Default, should be dynamic\n",
    "        screen_width = 1080   # Default, should be dynamic\n",
    "        \n",
    "        elements_near_bottom = 0\n",
    "        elements_near_right = 0\n",
    "        \n",
    "        for element in ui_elements:\n",
    "            x1, y1, x2, y2 = element.bbox.as_tuple()\n",
    "            "
   ]
  },
  {
   "cell_type": "markdown",
   "id": "336f4348",
   "metadata": {},
   "source": [
    "            # Check if element is near bottom edge (indicating more content below)"
   ]
  },
  {
   "cell_type": "code",
   "execution_count": null,
   "id": "95b01306",
   "metadata": {},
   "outputs": [],
   "source": [
    "            if y2 > screen_height * 0.8:\n",
    "                elements_near_bottom += 1\n",
    "            "
   ]
  },
  {
   "cell_type": "markdown",
   "id": "b80f9305",
   "metadata": {},
   "source": [
    "            # Check if element is near right edge (indicating more content to the right)"
   ]
  },
  {
   "cell_type": "code",
   "execution_count": null,
   "id": "f62dd322",
   "metadata": {},
   "outputs": [],
   "source": [
    "            if x2 > screen_width * 0.8:\n",
    "                elements_near_right += 1\n",
    "        "
   ]
  },
  {
   "cell_type": "markdown",
   "id": "187041e9",
   "metadata": {},
   "source": [
    "        # Add scroll if we have elements near edges"
   ]
  },
  {
   "cell_type": "markdown",
   "id": "df246d15",
   "metadata": {},
   "source": [
    "Create a scroll action candidate."
   ]
  },
  {
   "cell_type": "code",
   "execution_count": null,
   "id": "80ccdc7e",
   "metadata": {},
   "outputs": [],
   "source": [
    "        return elements_near_bottom > 2 or elements_near_right > 2\n",
    "\n",
    "    def _create_scroll_candidate(self, ui_elements: list[UIElement]) -> dict[str, Any]:"
   ]
  },
  {
   "cell_type": "markdown",
   "id": "ee76fb36",
   "metadata": {},
   "source": [
    "        # Determine scroll direction based on element positions"
   ]
  },
  {
   "cell_type": "code",
   "execution_count": null,
   "id": "1e49f18c",
   "metadata": {},
   "outputs": [],
   "source": [
    "        screen_height = 1920  # Default, should be dynamic\n",
    "        screen_width = 1080   # Default, should be dynamic\n",
    "        \n",
    "        elements_near_bottom = 0\n",
    "        elements_near_right = 0\n",
    "        \n",
    "        for element in ui_elements:\n",
    "            x1, y1, x2, y2 = element.bbox.as_tuple()\n",
    "            if y2 > screen_height * 0.8:\n",
    "                elements_near_bottom += 1\n",
    "            if x2 > screen_width * 0.8:\n",
    "                elements_near_right += 1\n",
    "        "
   ]
  },
  {
   "cell_type": "markdown",
   "id": "cbdbaf5e",
   "metadata": {},
   "source": [
    "        # Prioritize vertical scroll over horizontal"
   ]
  },
  {
   "cell_type": "markdown",
   "id": "639bd1f7",
   "metadata": {},
   "source": [
    "Enhanced check if element has appropriate size for interaction."
   ]
  },
  {
   "cell_type": "code",
   "execution_count": null,
   "id": "cc0c0f6c",
   "metadata": {},
   "outputs": [],
   "source": [
    "        if elements_near_bottom > elements_near_right:\n",
    "            return {\n",
    "                \"type\": \"scroll\",\n",
    "                \"scroll_direction\": \"down\",\n",
    "                \"reasoning\": \"CRITICAL RULE: Scrolling down to reveal more content\",\n",
    "                \"priority\": 1.0,\n",
    "                \"exploration_priority\": 1.0,\n",
    "                \"is_explored\": False\n",
    "            }\n",
    "        else:\n",
    "            return {\n",
    "                \"type\": \"scroll\",\n",
    "                \"scroll_direction\": \"right\",\n",
    "                \"reasoning\": \"CRITICAL RULE: Scrolling right to reveal more content\",\n",
    "                \"priority\": 1.0,\n",
    "                \"exploration_priority\": 1.0,\n",
    "                \"is_explored\": False\n",
    "            }\n",
    "    \n",
    "    def _is_appropriate_size_enhanced(self, element: UIElement) -> bool:\n",
    "        x1, y1, x2, y2 = element.bbox.as_tuple()\n",
    "        width = x2 - x1\n",
    "        height = y2 - y1\n",
    "        "
   ]
  },
  {
   "cell_type": "markdown",
   "id": "cc182fba",
   "metadata": {},
   "source": [
    "        # Minimum size for reliable tapping"
   ]
  },
  {
   "cell_type": "code",
   "execution_count": null,
   "id": "e621ee7c",
   "metadata": {},
   "outputs": [],
   "source": [
    "        min_size = 25"
   ]
  },
  {
   "cell_type": "markdown",
   "id": "39182e27",
   "metadata": {},
   "source": [
    "        # Maximum size (avoid tapping entire screen areas)"
   ]
  },
  {
   "cell_type": "code",
   "execution_count": null,
   "id": "10423088",
   "metadata": {},
   "outputs": [],
   "source": [
    "        max_size = 400\n",
    "        "
   ]
  },
  {
   "cell_type": "markdown",
   "id": "5a02db03",
   "metadata": {},
   "source": [
    "        # Check aspect ratio (avoid very long/thin elements)"
   ]
  },
  {
   "cell_type": "markdown",
   "id": "0d92113a",
   "metadata": {},
   "source": [
    "Enhanced analysis of elements to generate action candidates with exploration awareness."
   ]
  },
  {
   "cell_type": "code",
   "execution_count": null,
   "id": "14463990",
   "metadata": {},
   "outputs": [],
   "source": [
    "        aspect_ratio = width / height if height > 0 else 0\n",
    "        if aspect_ratio > 10 or aspect_ratio < 0.1:\n",
    "            return False\n",
    "        \n",
    "        return min_size <= width <= max_size and min_size <= height <= max_size\n",
    "    \n",
    "    def _analyze_action_candidates_with_exploration(\n",
    "        self, \n",
    "        prioritized_elements: list[tuple[UIElement, float]], \n",
    "        task_description: str,\n",
    "        element_analysis: dict[str, Any],\n",
    "        exploration_context: str,\n",
    "        state_priority: float\n",
    "    ) -> list[dict[str, Any]]:\n",
    "        candidates = []\n",
    "        "
   ]
  },
  {
   "cell_type": "markdown",
   "id": "4c0850ad",
   "metadata": {},
   "source": [
    "        # Get LLM suggestions if available"
   ]
  },
  {
   "cell_type": "code",
   "execution_count": null,
   "id": "8ff9c59c",
   "metadata": {},
   "outputs": [],
   "source": [
    "        llm_suggestions = element_analysis.get(\"suggested_actions\", [])\n",
    "        \n",
    "        for element, exploration_priority in prioritized_elements:"
   ]
  },
  {
   "cell_type": "markdown",
   "id": "8889755c",
   "metadata": {},
   "source": [
    "            # Check if element is unexplored"
   ]
  },
  {
   "cell_type": "code",
   "execution_count": null,
   "id": "581520c3",
   "metadata": {},
   "outputs": [],
   "source": [
    "            is_explored = self._element_tracker.is_element_explored(element, exploration_context)\n",
    "            "
   ]
  },
  {
   "cell_type": "markdown",
   "id": "b2d5bcf2",
   "metadata": {},
   "source": [
    "            # Check for text input fields with enhanced detection"
   ]
  },
  {
   "cell_type": "code",
   "execution_count": null,
   "id": "aa4ea5a2",
   "metadata": {},
   "outputs": [],
   "source": [
    "            if self._is_text_input_field_enhanced(element):"
   ]
  },
  {
   "cell_type": "markdown",
   "id": "38b7edf4",
   "metadata": {},
   "source": [
    "                # Higher priority for unexplored input fields"
   ]
  },
  {
   "cell_type": "code",
   "execution_count": null,
   "id": "c3071f72",
   "metadata": {},
   "outputs": [],
   "source": [
    "                base_priority = 15 if not is_explored else 10"
   ]
  },
  {
   "cell_type": "markdown",
   "id": "1bbd1211",
   "metadata": {},
   "source": [
    "                # Add state priority bonus for new states"
   ]
  },
  {
   "cell_type": "code",
   "execution_count": null,
   "id": "5887e618",
   "metadata": {},
   "outputs": [],
   "source": [
    "                state_bonus = state_priority * 5 if state_priority > 0.5 else 0\n",
    "                candidates.append({\n",
    "                    \"type\": \"text_input\",\n",
    "                    \"element\": element,\n",
    "                    \"priority\": base_priority + exploration_priority + state_bonus,\n",
    "                    \"reasoning\": f\"Text input field detected: {element.text} (explored: {is_explored}, state_priority: {state_priority:.2f})\",\n",
    "                    \"llm_suggested\": element.text.lower() in [s.get(\"text\", \"\").lower() for s in llm_suggestions],\n",
    "                    \"exploration_priority\": exploration_priority,\n",
    "                    \"state_priority\": state_priority,\n",
    "                    \"is_explored\": is_explored\n",
    "                })\n",
    "            "
   ]
  },
  {
   "cell_type": "markdown",
   "id": "7d699bf0",
   "metadata": {},
   "source": [
    "            # Check for clickable elements with enhanced detection"
   ]
  },
  {
   "cell_type": "code",
   "execution_count": null,
   "id": "c35c2bf1",
   "metadata": {},
   "outputs": [],
   "source": [
    "            elif self._is_clickable_enhanced(element):"
   ]
  },
  {
   "cell_type": "markdown",
   "id": "5f408695",
   "metadata": {},
   "source": [
    "                # Higher priority for unexplored elements"
   ]
  },
  {
   "cell_type": "code",
   "execution_count": null,
   "id": "bb505e71",
   "metadata": {},
   "outputs": [],
   "source": [
    "                base_priority = 10 if not is_explored else 5\n",
    "                if element.text.lower() in [s.get(\"text\", \"\").lower() for s in llm_suggestions]:\n",
    "                    base_priority += 2\n",
    "                "
   ]
  },
  {
   "cell_type": "markdown",
   "id": "0f654d7b",
   "metadata": {},
   "source": [
    "                # Add state priority bonus for new states"
   ]
  },
  {
   "cell_type": "code",
   "execution_count": null,
   "id": "f0d4f972",
   "metadata": {},
   "outputs": [],
   "source": [
    "                state_bonus = state_priority * 3 if state_priority > 0.5 else 0\n",
    "                \n",
    "                candidates.append({\n",
    "                    \"type\": \"tap\",\n",
    "                    \"element\": element,\n",
    "                    \"priority\": base_priority + exploration_priority + state_bonus,\n",
    "                    \"reasoning\": f\"Clickable element: {element.text} (explored: {is_explored}, state_priority: {state_priority:.2f})\",\n",
    "                    \"llm_suggested\": element.text.lower() in [s.get(\"text\", \"\").lower() for s in llm_suggestions],\n",
    "                    \"exploration_priority\": exploration_priority,\n",
    "                    \"state_priority\": state_priority,\n",
    "                    \"is_explored\": is_explored\n",
    "                })\n",
    "        "
   ]
  },
  {
   "cell_type": "markdown",
   "id": "fc3910c1",
   "metadata": {},
   "source": [
    "        # Sort by priority (highest first)"
   ]
  },
  {
   "cell_type": "code",
   "execution_count": null,
   "id": "26c688bb",
   "metadata": {},
   "outputs": [],
   "source": [
    "        candidates.sort(key=lambda x: x[\"priority\"], reverse=True)\n",
    "        "
   ]
  },
  {
   "cell_type": "markdown",
   "id": "20e34450",
   "metadata": {},
   "source": [
    "        # Log exploration statistics"
   ]
  },
  {
   "cell_type": "markdown",
   "id": "a699f434",
   "metadata": {},
   "source": [
    "Enhanced check if element is a text input field."
   ]
  },
  {
   "cell_type": "code",
   "execution_count": null,
   "id": "a035842a",
   "metadata": {},
   "outputs": [],
   "source": [
    "        unexplored_candidates = [c for c in candidates if not c[\"is_explored\"]]\n",
    "        logger.info(f\"Action candidates: {len(unexplored_candidates)} unexplored, {len(candidates) - len(unexplored_candidates)} explored\")\n",
    "        \n",
    "        return candidates\n",
    "    \n",
    "    def _is_text_input_field_enhanced(self, element: UIElement) -> bool:\n",
    "        text_lower = element.text.lower()\n",
    "        "
   ]
  },
  {
   "cell_type": "markdown",
   "id": "48e71e8d",
   "metadata": {},
   "source": [
    "        # Check for input field indicators"
   ]
  },
  {
   "cell_type": "code",
   "execution_count": null,
   "id": "73b92f8c",
   "metadata": {},
   "outputs": [],
   "source": [
    "        for pattern in self._text_input_patterns:\n",
    "            if re.search(pattern, text_lower):\n",
    "                return True\n",
    "        "
   ]
  },
  {
   "cell_type": "markdown",
   "id": "7199ea5a",
   "metadata": {},
   "source": [
    "        # Check for placeholder text patterns"
   ]
  },
  {
   "cell_type": "code",
   "execution_count": null,
   "id": "904b001b",
   "metadata": {},
   "outputs": [],
   "source": [
    "        placeholder_patterns = [\n",
    "            r\"enter\", r\"type\", r\"input\", r\"fill\", r\"write\", r\"add\", r\"search\",\n",
    "            r\"email\", r\"password\", r\"username\", r\"name\", r\"phone\", r\"address\"\n",
    "        ]\n",
    "        \n",
    "        for pattern in placeholder_patterns:\n",
    "            if re.search(pattern, text_lower):\n",
    "                return True\n",
    "        "
   ]
  },
  {
   "cell_type": "markdown",
   "id": "58ed9b14",
   "metadata": {},
   "source": [
    "        # Check element type from vision engine"
   ]
  },
  {
   "cell_type": "markdown",
   "id": "efe2613e",
   "metadata": {},
   "source": [
    "Enhanced check if element is clickable."
   ]
  },
  {
   "cell_type": "code",
   "execution_count": null,
   "id": "2dd05398",
   "metadata": {},
   "outputs": [],
   "source": [
    "        if element.element_type == \"input\":\n",
    "            return True\n",
    "        \n",
    "        return False\n",
    "    \n",
    "    def _is_clickable_enhanced(self, element: UIElement) -> bool:\n",
    "        text_lower = element.text.lower()\n",
    "        "
   ]
  },
  {
   "cell_type": "markdown",
   "id": "3069052f",
   "metadata": {},
   "source": [
    "        # Check for clickable keywords"
   ]
  },
  {
   "cell_type": "code",
   "execution_count": null,
   "id": "bca8c2a0",
   "metadata": {},
   "outputs": [],
   "source": [
    "        for keyword in self._interactive_keywords:\n",
    "            if keyword in text_lower:\n",
    "                return True\n",
    "        "
   ]
  },
  {
   "cell_type": "markdown",
   "id": "e5185f65",
   "metadata": {},
   "source": [
    "        # Check element type from vision engine"
   ]
  },
  {
   "cell_type": "markdown",
   "id": "047d6e7e",
   "metadata": {},
   "source": [
    "Enhanced selection of the best action from candidates using LLM analysis."
   ]
  },
  {
   "cell_type": "code",
   "execution_count": null,
   "id": "e446ed44",
   "metadata": {},
   "outputs": [],
   "source": [
    "        if element.element_type in [\"button\", \"colored_button\"]:\n",
    "            return True\n",
    "        \n",
    "        return False\n",
    "    \n",
    "    async def _select_best_action_enhanced(\n",
    "        self,\n",
    "        candidates: list[dict[str, Any]],\n",
    "        task_description: str,\n",
    "        action_history: list[dict[str, Any]],\n",
    "        element_analysis: dict[str, Any]\n",
    "    ) -> dict[str, Any]:\n",
    "        if not candidates:\n",
    "            return {\"type\": \"wait\", \"duration\": 1.0, \"reasoning\": \"No candidates available\"}\n",
    "        "
   ]
  },
  {
   "cell_type": "markdown",
   "id": "45b006db",
   "metadata": {},
   "source": [
    "        # For text input, use LLM to generate appropriate text"
   ]
  },
  {
   "cell_type": "code",
   "execution_count": null,
   "id": "5c1f504b",
   "metadata": {},
   "outputs": [],
   "source": [
    "        if candidates[0][\"type\"] == \"text_input\":\n",
    "            return await self._handle_text_input_action_enhanced(\n",
    "                candidates[0], task_description, element_analysis\n",
    "            )\n",
    "        "
   ]
  },
  {
   "cell_type": "markdown",
   "id": "a2cd21c8",
   "metadata": {},
   "source": [
    "        # For tap actions, select the highest priority candidate"
   ]
  },
  {
   "cell_type": "code",
   "execution_count": null,
   "id": "c551741d",
   "metadata": {},
   "outputs": [],
   "source": [
    "        best_candidate = candidates[0]\n",
    "        element = best_candidate[\"element\"]\n",
    "        x1, y1, x2, y2 = element.bbox.as_tuple()\n",
    "        "
   ]
  },
  {
   "cell_type": "markdown",
   "id": "c48744b8",
   "metadata": {},
   "source": [
    "        # Add exploration information to action"
   ]
  },
  {
   "cell_type": "code",
   "execution_count": null,
   "id": "07f59c0d",
   "metadata": {},
   "outputs": [],
   "source": [
    "        action = {\n",
    "            \"type\": \"tap\",\n",
    "            \"x\": (x1 + x2) // 2,\n",
    "            \"y\": (y1 + y2) // 2,\n",
    "            \"element_text\": element.text,\n",
    "            \"reasoning\": best_candidate[\"reasoning\"],\n",
    "            \"llm_suggested\": best_candidate.get(\"llm_suggested\", False),\n",
    "            \"exploration_priority\": best_candidate.get(\"exploration_priority\", 0.0),\n",
    "            \"is_explored\": best_candidate.get(\"is_explored\", False)\n",
    "        }\n",
    "        "
   ]
  },
  {
   "cell_type": "markdown",
   "id": "3bc2694d",
   "metadata": {},
   "source": [
    "        # Log exploration decision"
   ]
  },
  {
   "cell_type": "markdown",
   "id": "41ea65b0",
   "metadata": {},
   "source": [
    "Enhanced handling of text input action with LLM-generated text."
   ]
  },
  {
   "cell_type": "code",
   "execution_count": null,
   "id": "e9de3cd3",
   "metadata": {},
   "outputs": [],
   "source": [
    "        if not best_candidate.get(\"is_explored\", False):\n",
    "            logger.info(f\"Selected unexplored element: {element.text} (priority: {best_candidate['priority']:.2f})\")\n",
    "        else:\n",
    "            logger.info(f\"Selected explored element: {element.text} (priority: {best_candidate['priority']:.2f})\")\n",
    "        \n",
    "        return action\n",
    "    \n",
    "    async def _handle_text_input_action_enhanced(\n",
    "        self,\n",
    "        candidate: dict[str, Any],\n",
    "        task_description: str,\n",
    "        element_analysis: dict[str, Any]\n",
    "    ) -> dict[str, Any]:\n",
    "        element = candidate[\"element\"]\n",
    "        x1, y1, x2, y2 = element.bbox.as_tuple()\n",
    "        "
   ]
  },
  {
   "cell_type": "markdown",
   "id": "2b865467",
   "metadata": {},
   "source": [
    "        # Generate appropriate text using LLM with enhanced context"
   ]
  },
  {
   "cell_type": "code",
   "execution_count": null,
   "id": "a72909b3",
   "metadata": {},
   "outputs": [],
   "source": [
    "        generated_text = await self._generate_input_text_enhanced(\n",
    "            element.text, task_description, element_analysis\n",
    "        )\n",
    "        \n",
    "        action = {\n",
    "            \"type\": \"text_input\",\n",
    "            \"x\": (x1 + x2) // 2,\n",
    "            \"y\": (y1 + y2) // 2,\n",
    "            \"text\": generated_text,\n",
    "            \"field_hint\": element.text,\n",
    "            \"reasoning\": f\"Generated text for {element.text}: {generated_text}\",\n",
    "            \"llm_suggested\": candidate.get(\"llm_suggested\", False),\n",
    "            \"exploration_priority\": candidate.get(\"exploration_priority\", 0.0),\n",
    "            \"is_explored\": candidate.get(\"is_explored\", False)\n",
    "        }\n",
    "        "
   ]
  },
  {
   "cell_type": "markdown",
   "id": "a90133ea",
   "metadata": {},
   "source": [
    "        # Log exploration decision"
   ]
  },
  {
   "cell_type": "markdown",
   "id": "23f6977e",
   "metadata": {},
   "source": [
    "Enhanced generation of appropriate text for input field using LLM."
   ]
  },
  {
   "cell_type": "code",
   "execution_count": null,
   "id": "c203e492",
   "metadata": {},
   "outputs": [],
   "source": [
    "        if not candidate.get(\"is_explored\", False):\n",
    "            logger.info(f\"Selected unexplored input field: {element.text} (priority: {candidate['priority']:.2f})\")\n",
    "        else:\n",
    "            logger.info(f\"Selected explored input field: {element.text} (priority: {candidate['priority']:.2f})\")\n",
    "        \n",
    "        return action\n",
    "    \n",
    "    async def _generate_input_text_enhanced(\n",
    "        self, \n",
    "        field_hint: str, \n",
    "        task_description: str,\n",
    "        element_analysis: dict[str, Any]\n",
    "    ) -> str:\n",
    "        try:\n",
    "            if not config.openai_api_key:\n",
    "                return self._generate_fallback_text_enhanced(field_hint)\n",
    "            \n",
    "            if self._openai_client is None:\n",
    "                self._openai_client = get_openai_client()\n",
    "            "
   ]
  },
  {
   "cell_type": "markdown",
   "id": "b541c942",
   "metadata": {},
   "source": [
    "            # Enhanced prompt with context analysis"
   ]
  },
  {
   "cell_type": "markdown",
   "id": "f236c2f0",
   "metadata": {},
   "source": [
    "\n",
    "            Generate appropriate text for an Android app input field.\n",
    "            \n",
    "            Field hint: \"{field_hint}\"\n",
    "            Task context: \"{task_description}\"\n",
    "            Screen type: \"{screen_type}\"\n",
    "            \n",
    "            Generate realistic, contextually appropriate text that a user would enter.\n",
    "            Consider the app context and screen type when generating text.\n",
    "            Return only the text, no explanations.\n",
    "            \n",
    "            Examples:\n",
    "            - Email field: \"user@example.com\"\n",
    "            - Name field: \"John Doe\"\n",
    "            - Search field: \"pizza delivery\"\n",
    "            - Phone field: \"555-123-4567\"\n",
    "            - Address field: \"123 Main St, City, State\""
   ]
  },
  {
   "cell_type": "code",
   "execution_count": null,
   "id": "f9cbc53e",
   "metadata": {},
   "outputs": [],
   "source": [
    "            context_insights = element_analysis.get(\"context_insights\", {})\n",
    "            screen_type = context_insights.get(\"screen_type\", \"unknown\")\n",
    "            \n",
    "            \n",
    "            response = await self._openai_client.chat(messages=[\n",
    "                {\"role\": \"system\", \"content\": \"You are a helpful assistant that generates realistic text for mobile app input fields based on context.\"},\n",
    "                {\"role\": \"user\", \"content\": prompt}\n",
    "            ])\n",
    "            "
   ]
  },
  {
   "cell_type": "markdown",
   "id": "3769338d",
   "metadata": {},
   "source": [
    "            # Clean up response"
   ]
  },
  {
   "cell_type": "markdown",
   "id": "d1d9059a",
   "metadata": {},
   "source": [
    "Enhanced fallback text generation when LLM is not available."
   ]
  },
  {
   "cell_type": "code",
   "execution_count": null,
   "id": "5e22be5d",
   "metadata": {},
   "outputs": [],
   "source": [
    "            text = response.strip().strip('\"').strip(\"'\")\n",
    "            if len(text) > 50:  # Limit length\n",
    "                text = text[:50]\n",
    "            \n",
    "            return text if text else self._generate_fallback_text_enhanced(field_hint)\n",
    "            \n",
    "        except Exception as e:\n",
    "            logger.warning(f\"Enhanced LLM text generation failed: {e}\")\n",
    "            return self._generate_fallback_text_enhanced(field_hint)\n",
    "    \n",
    "    def _generate_fallback_text_enhanced(self, field_hint: str) -> str:\n",
    "        field_lower = field_hint.lower()\n",
    "        "
   ]
  },
  {
   "cell_type": "markdown",
   "id": "5cf53731",
   "metadata": {},
   "source": [
    "        # Enhanced fallback logic"
   ]
  },
  {
   "cell_type": "markdown",
   "id": "bdf026b7",
   "metadata": {},
   "source": [
    "Get exploration statistics."
   ]
  },
  {
   "cell_type": "markdown",
   "id": "e24daa96",
   "metadata": {},
   "source": [
    "Get state exploration statistics."
   ]
  },
  {
   "cell_type": "markdown",
   "id": "9c02029a",
   "metadata": {},
   "source": [
    "Reset exploration tracking."
   ]
  },
  {
   "cell_type": "markdown",
   "id": "9e19c70b",
   "metadata": {},
   "source": [
    "Reset state tracking."
   ]
  },
  {
   "cell_type": "markdown",
   "id": "3b3ba879",
   "metadata": {},
   "source": [
    "Set exploration strategy."
   ]
  },
  {
   "cell_type": "markdown",
   "id": "27bf44e8",
   "metadata": {},
   "source": [
    "Set state similarity threshold."
   ]
  },
  {
   "cell_type": "markdown",
   "id": "aca955c2",
   "metadata": {},
   "source": [
    "Try to generate action using Phi Ground.\n",
    "        \n",
    "        Args:\n",
    "            screenshot_path: Path to the screenshot\n",
    "            task_description: Current automation task\n",
    "            action_history: Previous actions performed\n",
    "            ui_elements: Detected UI elements for validation\n",
    "            \n",
    "        Returns:\n",
    "            Phi Ground generated action or None"
   ]
  },
  {
   "cell_type": "code",
   "execution_count": null,
   "id": "f73b4161",
   "metadata": {},
   "outputs": [],
   "source": [
    "        if \"email\" in field_lower:\n",
    "            return \"test@example.com\"\n",
    "        elif \"password\" in field_lower:\n",
    "            return \"password123\"\n",
    "        elif \"name\" in field_lower:\n",
    "            return \"Test User\"\n",
    "        elif \"phone\" in field_lower:\n",
    "            return \"555-123-4567\"\n",
    "        elif \"search\" in field_lower:\n",
    "            return \"test search\"\n",
    "        elif \"address\" in field_lower:\n",
    "            return \"123 Test St\"\n",
    "        elif \"username\" in field_lower:\n",
    "            return \"testuser\"\n",
    "        elif \"message\" in field_lower or \"comment\" in field_lower:\n",
    "            return \"Test message\"\n",
    "        else:\n",
    "            return \"test input\"\n",
    "    \n",
    "    def get_exploration_stats(self) -> dict[str, Any]:\n",
    "        return self._element_tracker.get_exploration_stats()\n",
    "    \n",
    "    def get_state_stats(self) -> dict[str, Any]:\n",
    "        return self._state_tracker.get_state_exploration_stats()\n",
    "    \n",
    "    def reset_exploration(self) -> None:\n",
    "        self._element_tracker.reset_exploration()\n",
    "    \n",
    "    def reset_state_tracking(self) -> None:\n",
    "        self._state_tracker.reset_state_tracking()\n",
    "    \n",
    "    def set_exploration_strategy(self, strategy: str) -> None:\n",
    "        self._element_tracker.set_exploration_strategy(strategy)\n",
    "    \n",
    "    def set_state_similarity_threshold(self, threshold: float) -> None:\n",
    "        self._state_tracker.set_similarity_threshold(threshold)\n",
    "    \n",
    "    async def _try_phi_ground_action(\n",
    "        self,\n",
    "        screenshot_path: str,\n",
    "        task_description: str,\n",
    "        action_history: list[dict[str, Any]],\n",
    "        ui_elements: list[UIElement]\n",
    "    ) -> Optional[dict[str, Any]]:\n",
    "        try:\n",
    "            if self._phi_ground_generator is None:\n",
    "                self._phi_ground_generator = get_phi_ground_generator()\n",
    "            "
   ]
  },
  {
   "cell_type": "markdown",
   "id": "a890befb",
   "metadata": {},
   "source": [
    "            # Generate action using Phi Ground"
   ]
  },
  {
   "cell_type": "code",
   "execution_count": null,
   "id": "352605a2",
   "metadata": {},
   "outputs": [],
   "source": [
    "            action = await self._phi_ground_generator.generate_touch_action(\n",
    "                screenshot_path, task_description, action_history, ui_elements\n",
    "            )\n",
    "            \n",
    "            if action:"
   ]
  },
  {
   "cell_type": "markdown",
   "id": "cc08bbe8",
   "metadata": {},
   "source": [
    "                # Validate action coordinates"
   ]
  },
  {
   "cell_type": "code",
   "execution_count": null,
   "id": "9a3ff44f",
   "metadata": {},
   "outputs": [],
   "source": [
    "                if not self._phi_ground_generator.validate_action_coordinates(action):\n",
    "                    logger.warning(\"Phi Ground generated invalid coordinates, falling back to traditional method\")\n",
    "                    return None\n",
    "                "
   ]
  },
  {
   "cell_type": "markdown",
   "id": "b54597a9",
   "metadata": {},
   "source": [
    "                # Check confidence threshold"
   ]
  },
  {
   "cell_type": "code",
   "execution_count": null,
   "id": "9d9a21c4",
   "metadata": {},
   "outputs": [],
   "source": [
    "                confidence = action.get(\"confidence\", 0.5)\n",
    "                if confidence < config.phi_ground_confidence_threshold:\n",
    "                    logger.warning(f\"Phi Ground confidence too low ({confidence:.2f}), falling back to traditional method\")\n",
    "                    return None\n",
    "                \n",
    "                logger.info(f\"Phi Ground generated action: {action['type']} with confidence {confidence:.2f}\")\n",
    "                return action\n",
    "            \n",
    "            return None\n",
    "            \n",
    "        except Exception as e:\n",
    "            logger.warning(f\"Phi Ground action generation failed: {e}\")\n",
    "            return None\n",
    "\n"
   ]
  },
  {
   "cell_type": "markdown",
   "id": "e586ae1a",
   "metadata": {},
   "source": [
    "# Global instance for reuse"
   ]
  },
  {
   "cell_type": "markdown",
   "id": "aaa45d61",
   "metadata": {},
   "source": [
    "Get or create the global enhanced action determiner instance."
   ]
  },
  {
   "cell_type": "code",
   "execution_count": null,
   "id": "f2ccec82",
   "metadata": {},
   "outputs": [],
   "source": [
    "_enhanced_action_determiner = None\n",
    "\n",
    "\n",
    "def get_enhanced_action_determiner() -> EnhancedActionDeterminer:\n",
    "    global _enhanced_action_determiner\n",
    "    if _enhanced_action_determiner is None:\n",
    "        _enhanced_action_determiner = EnhancedActionDeterminer()\n",
    "    return _enhanced_action_determiner\n",
    "\n"
   ]
  },
  {
   "cell_type": "markdown",
   "id": "83f58951",
   "metadata": {},
   "source": [
    "# Backward compatibility"
   ]
  },
  {
   "cell_type": "markdown",
   "id": "a1eec23e",
   "metadata": {},
   "source": [
    "Backward compatibility wrapper for the original ActionDeterminer."
   ]
  },
  {
   "cell_type": "markdown",
   "id": "c16a6b5b",
   "metadata": {},
   "source": [
    "Get or create the global action determiner instance (backward compatibility)."
   ]
  },
  {
   "cell_type": "code",
   "execution_count": null,
   "id": "84c35d75",
   "metadata": {},
   "outputs": [],
   "source": [
    "class ActionDeterminer(EnhancedActionDeterminer):\n",
    "    pass\n",
    "\n",
    "\n",
    "def get_action_determiner() -> EnhancedActionDeterminer:\n",
    "    return get_enhanced_action_determiner() "
   ]
  }
 ],
 "metadata": {
  "kernelspec": {
   "display_name": "Python 3",
   "language": "python",
   "name": "python3"
  },
  "language_info": {
   "codemirror_mode": {
    "name": "ipython",
    "version": 3
   },
   "file_extension": ".py",
   "mimetype": "text/x-python",
   "name": "python",
   "nbconvert_exporter": "python",
   "pygments_lexer": "ipython3",
   "version": "3.10.0"
  }
 },
 "nbformat": 4,
 "nbformat_minor": 5
}
