{
 "cells": [
  {
   "cell_type": "markdown",
   "id": "804ec2d8",
   "metadata": {},
   "source": [
    "Parse and validate LLM critique response JSON."
   ]
  },
  {
   "cell_type": "markdown",
   "id": "f71e6a32",
   "metadata": {},
   "source": [
    "Structured representation of an LLM critique response."
   ]
  },
  {
   "cell_type": "markdown",
   "id": "e0f1b0e9",
   "metadata": {},
   "source": [
    "Return first JSON-looking {...} block from text."
   ]
  },
  {
   "cell_type": "markdown",
   "id": "0438bd55",
   "metadata": {},
   "source": [
    "Attempt to parse LLM critique JSON and validate summary word count."
   ]
  },
  {
   "cell_type": "code",
   "execution_count": null,
   "id": "f792feca",
   "metadata": {},
   "outputs": [],
   "source": [
    "\n",
    "import json\n",
    "import re\n",
    "from dataclasses import dataclass, field\n",
    "\n",
    "__all__ = [\"Critique\", \"parse_critique\"]\n",
    "\n",
    "_REQUIRED_KEYS = {\n",
    "    \"strengths\": list,\n",
    "    \"issues\": list,\n",
    "    \"uniqueness_vs_generic\": list,\n",
    "    \"summary_50_words\": str,\n",
    "}\n",
    "\n",
    "\n",
    "@dataclass\n",
    "class Critique:\n",
    "\n",
    "    strengths: list[str] = field(default_factory=list)\n",
    "    issues: list[str] = field(default_factory=list)\n",
    "    uniqueness_vs_generic: list[str] = field(default_factory=list)\n",
    "    summary_50_words: str = \"\"\n",
    "    summary_word_count: int = 0\n",
    "    valid: bool = False\n",
    "    errors: list[str] = field(default_factory=list)\n",
    "\n",
    "\n",
    "_JSON_REGEX = re.compile(r\"\\{[\\s\\S]+\\}\")\n",
    "\n",
    "\n",
    "def _first_json_blob(text: str) -> str | None:\n",
    "    match = _JSON_REGEX.search(text)\n",
    "    return match.group(0) if match else None\n",
    "\n",
    "\n",
    "def _count_words(s: str) -> int:\n",
    "    return len(re.findall(r\"[A-Za-z0-9']+\", s))\n",
    "\n",
    "\n",
    "def parse_critique(raw: str) -> Critique:\n",
    "    result = Critique()\n",
    "\n",
    "    json_str = _first_json_blob(raw)\n",
    "    if not json_str:\n",
    "        result.errors.append(\"No JSON object found in response\")\n",
    "        return result\n",
    "\n",
    "    try:\n",
    "        data = json.loads(json_str)\n",
    "    except json.JSONDecodeError as exc:\n",
    "        result.errors.append(f\"JSON decode error: {exc}\")\n",
    "        return result\n"
   ]
  },
  {
   "cell_type": "markdown",
   "id": "1e9e9593",
   "metadata": {},
   "source": [
    "    # Validate required keys & types"
   ]
  },
  {
   "cell_type": "code",
   "execution_count": null,
   "id": "121539a1",
   "metadata": {},
   "outputs": [],
   "source": [
    "    for key, expected_type in _REQUIRED_KEYS.items():\n",
    "        if key not in data:\n",
    "            result.errors.append(f\"Missing key: {key}\")\n",
    "            continue\n",
    "        if not isinstance(data[key], expected_type):\n",
    "            result.errors.append(f\"Key {key} expected {expected_type.__name__}\")\n"
   ]
  },
  {
   "cell_type": "markdown",
   "id": "ea2af4f1",
   "metadata": {},
   "source": [
    "    # Populate fields"
   ]
  },
  {
   "cell_type": "code",
   "execution_count": null,
   "id": "e11e3367",
   "metadata": {},
   "outputs": [],
   "source": [
    "    result.strengths = data.get(\"strengths\", [])\n",
    "    result.issues = data.get(\"issues\", [])\n",
    "    result.uniqueness_vs_generic = data.get(\"uniqueness_vs_generic\", [])\n",
    "    result.summary_50_words = data.get(\"summary_50_words\", \"\")\n",
    "    result.summary_word_count = _count_words(result.summary_50_words)\n",
    "\n",
    "    if result.summary_word_count != 50:\n",
    "        result.errors.append(\n",
    "            f\"summary_50_words has {result.summary_word_count} words (expected 50)\"\n",
    "        )\n",
    "\n",
    "    result.valid = not result.errors\n",
    "    return result "
   ]
  }
 ],
 "metadata": {
  "kernelspec": {
   "display_name": "Python 3",
   "language": "python",
   "name": "python3"
  },
  "language_info": {
   "codemirror_mode": {
    "name": "ipython",
    "version": 3
   },
   "file_extension": ".py",
   "mimetype": "text/x-python",
   "name": "python",
   "nbconvert_exporter": "python",
   "pygments_lexer": "ipython3",
   "version": "3.10.0"
  }
 },
 "nbformat": 4,
 "nbformat_minor": 5
}
