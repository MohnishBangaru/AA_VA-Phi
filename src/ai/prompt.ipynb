{
 "cells": [
  {
   "cell_type": "markdown",
   "id": "5eefd7e0",
   "metadata": {},
   "source": [
    "Prompt construction utilities for Explorer (the GPT-driven Android tester).\n",
    "\n",
    "Phase-3 Step-1: Build a compact, structured prompt where the LLM acts as a\n",
    "Human App Critic, analysing UI/UX, standout features, and generic bits."
   ]
  },
  {
   "cell_type": "markdown",
   "id": "eee4b825",
   "metadata": {},
   "source": [
    "Convert UIElement list to a concise multiline string."
   ]
  },
  {
   "cell_type": "markdown",
   "id": "471bb6be",
   "metadata": {},
   "source": [
    "Return full prompt string for LLM call."
   ]
  },
  {
   "cell_type": "code",
   "execution_count": null,
   "id": "c3c6c3a4",
   "metadata": {},
   "outputs": [],
   "source": [
    "\n",
    "from __future__ import annotations\n",
    "\n",
    "from typing import Any\n",
    "\n",
    "from loguru import logger\n",
    "\n",
    "from ..vision.models import UIElement\n",
    "\n",
    "HEADER = (\n",
    "    \"You are a seasoned Human App Critic. You analyse mobile apps from both \"\n",
    "    \"a user-experience and functionality standpoint. At each screen you will \"\n",
    "    \"receive: 1) a list of visible UI elements with bounding-box positions, \"\n",
    "    \"2) the task the automation is trying to complete, and 3) a short action \"\n",
    "    \"history. Your goals:\\n\"\n",
    "    \"  • Identify notable UI / UX details that stand out (good or bad).\\n\"\n",
    "    \"  • Note the BEST features offered on this screen.\\n\"\n",
    "    \"  • Point out features that feel GENERIC or uninteresting.\\n\"\n",
    "    \"  • Decide the next UI action that moves closer to completing the task.\\n\"\n",
    "    \"Return a JSON object with keys:\\n\"\n",
    "    \"    critic_notes: string   # your analysis in <120 words\\n\"\n",
    "    \"    next_action:          # JSON describing the UI action\\n\"\n",
    "    \"        type: tap|swipe|input_text|wait|key_event\\n\"\n",
    "    \"        ... parameters depending on type\\n\"\n",
    "    \"    confidence: float     # 0-1 how sure you are about next_action\\n\"\n",
    ")\n",
    "\n",
    "\n",
    "def _serialize_elements(elements: list[UIElement], max_elems: int = 20) -> str:\n",
    "    lines: list[str] = []\n",
    "    for idx, el in enumerate(elements[:max_elems], 1):\n",
    "        x1, y1, x2, y2 = el.bbox.as_tuple()\n",
    "        bbox = f\"({x1},{y1})-({x2},{y2})\"\n",
    "        line = f\"{idx}. [{el.element_type}] {el.text!r} {bbox} conf={el.confidence:.2f}\"\n",
    "        lines.append(line)\n",
    "    if len(elements) > max_elems:\n",
    "        lines.append(f\"… and {len(elements) - max_elems} more elements omitted\")\n",
    "    return \"\\n\".join(lines)\n",
    "\n",
    "\n",
    "def build_prompt(\n",
    "    state: dict[str, Any],\n",
    "    task: str,\n",
    "    history: list[dict[str, Any]] | None = None,\n",
    ") -> str:\n",
    "    elements: list[UIElement] = state.get(\"ui_elements\", [])  # type: ignore[assignment]\n",
    "    elements_str = _serialize_elements(elements)\n",
    "\n",
    "    hist_lines: list[str] = []\n",
    "    if history:\n",
    "        for h in history[-5:]:  # last 5 actions\n",
    "            hist_lines.append(f\"• {h['action']['type']} => {h['result']['success']}\")\n",
    "    history_str = \"\\n\".join(hist_lines) if hist_lines else \"(no previous actions)\"\n",
    "\n",
    "    prompt = (\n",
    "        f\"{HEADER}\\n\"\n",
    "        f\"=== Current Task ===\\n{task}\\n\"\n",
    "        f\"=== Visible Elements ===\\n{elements_str}\\n\"\n",
    "        f\"=== Recent Actions ===\\n{history_str}\\n\"\n",
    "        f\"### JSON RESPONSE ONLY ###\"\n",
    "    )\n",
    "\n",
    "    logger.debug(\"Prompt generated, {0} characters\", len(prompt))\n",
    "    return prompt "
   ]
  }
 ],
 "metadata": {
  "kernelspec": {
   "display_name": "Python 3",
   "language": "python",
   "name": "python3"
  },
  "language_info": {
   "codemirror_mode": {
    "name": "ipython",
    "version": 3
   },
   "file_extension": ".py",
   "mimetype": "text/x-python",
   "name": "python",
   "nbconvert_exporter": "python",
   "pygments_lexer": "ipython3",
   "version": "3.10.0"
  }
 },
 "nbformat": 4,
 "nbformat_minor": 5
}
