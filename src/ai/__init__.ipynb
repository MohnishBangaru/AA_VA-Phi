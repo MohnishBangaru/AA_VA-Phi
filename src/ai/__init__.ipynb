{
 "cells": [
  {
   "cell_type": "markdown",
   "id": "1d150e09",
   "metadata": {},
   "source": [
    "AI utilities: prompt building, LLM client wrappers, and Phi Ground integration (phase-3)."
   ]
  },
  {
   "cell_type": "code",
   "execution_count": null,
   "id": "db7e7b13",
   "metadata": {},
   "outputs": [],
   "source": [
    "\n",
    "from .prompt_builder import build_messages, build_element_detection_prompt, build_context_analysis_prompt\n",
    "from .phi_ground import get_phi_ground_generator, PhiGroundActionGenerator\n",
    "\n",
    "__all__ = [\n",
    "    \"build_messages\", \n",
    "    \"build_element_detection_prompt\", \n",
    "    \"build_context_analysis_prompt\",\n",
    "    \"get_phi_ground_generator\",\n",
    "    \"PhiGroundActionGenerator\"\n",
    "] "
   ]
  }
 ],
 "metadata": {
  "kernelspec": {
   "display_name": "Python 3",
   "language": "python",
   "name": "python3"
  },
  "language_info": {
   "codemirror_mode": {
    "name": "ipython",
    "version": 3
   },
   "file_extension": ".py",
   "mimetype": "text/x-python",
   "name": "python",
   "nbconvert_exporter": "python",
   "pygments_lexer": "ipython3",
   "version": "3.10.0"
  }
 },
 "nbformat": 4,
 "nbformat_minor": 5
}
