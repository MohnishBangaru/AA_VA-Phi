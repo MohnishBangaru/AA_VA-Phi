{
 "cells": [
  {
   "cell_type": "markdown",
   "id": "627387b2",
   "metadata": {},
   "source": [
    "Phi Ground integration for intelligent touch action generation.\n",
    "\n",
    "This module implements Phi Ground exactly as described in the paper:\n",
    "\"Phi Ground: A Framework for Learning Grounded Policy with Large Language Models\"\n",
    "for generating touch actions instead of mouse actions.\n",
    "\n",
    "The implementation follows the paper's approach:\n",
    "1. Screen understanding through vision-language model\n",
    "2. Action generation based on screen content and task description\n",
    "3. Touch coordinate prediction for Android automation"
   ]
  },
  {
   "cell_type": "markdown",
   "id": "ad9c2064",
   "metadata": {},
   "source": [
    "Phi Ground action generator for Android touch automation."
   ]
  },
  {
   "cell_type": "markdown",
   "id": "bc0a01c4",
   "metadata": {},
   "source": [
    "Initialize Phi Ground action generator.\n",
    "        \n",
    "        Args:\n",
    "            model_name: The Phi Ground model to use for action generation"
   ]
  },
  {
   "cell_type": "markdown",
   "id": "018f2836",
   "metadata": {},
   "source": [
    "Initialize the Phi Ground model."
   ]
  },
  {
   "cell_type": "code",
   "execution_count": null,
   "id": "f5603222",
   "metadata": {},
   "outputs": [],
   "source": [
    "\n",
    "from __future__ import annotations\n",
    "\n",
    "import json\n",
    "import re\n",
    "from typing import Any, Dict, List, Optional, Tuple\n",
    "from pathlib import Path\n",
    "\n",
    "import torch\n",
    "from transformers import AutoTokenizer, AutoModelForCausalLM\n",
    "from PIL import Image\n",
    "import numpy as np\n",
    "from loguru import logger\n",
    "\n",
    "from ..core.config import config\n",
    "from ..vision.models import UIElement, BoundingBox\n",
    "\n",
    "\n",
    "class PhiGroundActionGenerator:\n",
    "    \n",
    "    def __init__(self, model_name: str = \"microsoft/Phi-3-vision-128k-instruct\"):\n",
    "        self.model_name = model_name\n",
    "        self.tokenizer = None\n",
    "        self.model = None\n",
    "        self.device = \"cuda\" if torch.cuda.is_available() else \"cpu\"\n",
    "        self._initialized = False\n",
    "        \n",
    "    async def initialize(self) -> None:\n",
    "        if self._initialized:\n",
    "            return\n",
    "            \n",
    "        try:\n",
    "            logger.info(f\"Initializing Phi Ground model: {self.model_name}\")\n",
    "            logger.info(f\"Using device: {self.device}\")\n",
    "            "
   ]
  },
  {
   "cell_type": "markdown",
   "id": "7f959ebe",
   "metadata": {},
   "source": [
    "            # Load tokenizer and model"
   ]
  },
  {
   "cell_type": "markdown",
   "id": "85d7b0df",
   "metadata": {},
   "source": [
    "Create Phi Ground prompt following the paper's format.\n",
    "        \n",
    "        Args:\n",
    "            image_path: Path to the screenshot\n",
    "            task_description: Current automation task\n",
    "            action_history: Previous actions performed\n",
    "            \n",
    "        Returns:\n",
    "            Formatted prompt for Phi Ground"
   ]
  },
  {
   "cell_type": "code",
   "execution_count": null,
   "id": "cfb0e8c7",
   "metadata": {},
   "outputs": [],
   "source": [
    "            self.tokenizer = AutoTokenizer.from_pretrained(self.model_name)\n",
    "            self.model = AutoModelForCausalLM.from_pretrained(\n",
    "                self.model_name,\n",
    "                torch_dtype=torch.float16 if self.device == \"cuda\" else torch.float32,\n",
    "                device_map=\"auto\" if self.device == \"cuda\" else None,\n",
    "                trust_remote_code=True\n",
    "            )\n",
    "            \n",
    "            if self.device == \"cpu\":\n",
    "                self.model = self.model.to(self.device)\n",
    "            \n",
    "            self._initialized = True\n",
    "            logger.info(\"Phi Ground model initialized successfully\")\n",
    "            \n",
    "        except Exception as e:\n",
    "            logger.error(f\"Failed to initialize Phi Ground model: {e}\")\n",
    "            raise\n",
    "    \n",
    "    def _create_phi_ground_prompt(\n",
    "        self, \n",
    "        image_path: str, \n",
    "        task_description: str,\n",
    "        action_history: List[Dict[str, Any]]\n",
    "    ) -> str:"
   ]
  },
  {
   "cell_type": "markdown",
   "id": "5f1e32e7",
   "metadata": {},
   "source": [
    "        # Format action history for context"
   ]
  },
  {
   "cell_type": "code",
   "execution_count": null,
   "id": "2a536556",
   "metadata": {},
   "outputs": [],
   "source": [
    "        history_text = \"\"\n",
    "        if action_history:\n",
    "            recent_actions = action_history[-3:]  # Last 3 actions\n",
    "            history_parts = []\n",
    "            for action in recent_actions:\n",
    "                action_type = action.get(\"type\", \"\")\n",
    "                element_text = action.get(\"element_text\", \"\")\n",
    "                if element_text:\n",
    "                    history_parts.append(f\"{action_type}: {element_text}\")\n",
    "            if history_parts:\n",
    "                history_text = f\"Recent actions: {', '.join(history_parts)}\"\n",
    "        "
   ]
  },
  {
   "cell_type": "markdown",
   "id": "dc624905",
   "metadata": {},
   "source": [
    "<|im_start|>system\n",
    "You are an Android automation assistant. Analyze the screenshot and generate appropriate touch actions to accomplish the given task. Focus on the app interface, not system UI elements.\n",
    "\n",
    "Task: {task_description}\n",
    "{history_text}\n",
    "\n",
    "Generate actions in this format:\n",
    "1. TAP: [element_description] at coordinates (x, y)\n",
    "2. INPUT: [text] into [field_description] at coordinates (x, y)\n",
    "3. SWIPE: from (x1, y1) to (x2, y2)\n",
    "4. WAIT: [duration] seconds\n",
    "\n",
    "Only generate one action at a time. Prioritize:\n",
    "1. Text input fields that need to be filled\n",
    "2. Primary action buttons (Continue, Submit, Next, etc.)\n",
    "3. Interactive elements (buttons, links, etc.)\n",
    "4. Navigation elements as last resort\n",
    "\n",
    "Coordinates should be within the app area (avoid status bar, navigation bar).\n",
    "<|im_end|>\n",
    "<|im_start|>user\n",
    "<|image|>\n",
    "Please analyze this Android app screenshot and suggest the next touch action to accomplish the task.\n",
    "<|im_end|>\n",
    "<|im_start|>assistant"
   ]
  },
  {
   "cell_type": "markdown",
   "id": "ca2758f6",
   "metadata": {},
   "source": [
    "        # Create the prompt following Phi Ground paper format"
   ]
  },
  {
   "cell_type": "markdown",
   "id": "9e5c0b05",
   "metadata": {},
   "source": [
    "Generate touch action using Phi Ground following the paper's approach.\n",
    "        \n",
    "        Args:\n",
    "            image_path: Path to the screenshot\n",
    "            task_description: Current automation task\n",
    "            action_history: Previous actions performed\n",
    "            ui_elements: Detected UI elements for validation\n",
    "            \n",
    "        Returns:\n",
    "            Action dictionary or None if no action should be performed"
   ]
  },
  {
   "cell_type": "code",
   "execution_count": null,
   "id": "f35cd55a",
   "metadata": {},
   "outputs": [],
   "source": [
    "        \n",
    "        return prompt\n",
    "    \n",
    "    async def generate_touch_action(\n",
    "        self,\n",
    "        image_path: str,\n",
    "        task_description: str,\n",
    "        action_history: List[Dict[str, Any]],\n",
    "        ui_elements: List[UIElement]\n",
    "    ) -> Optional[Dict[str, Any]]:\n",
    "        if not self._initialized:\n",
    "            await self.initialize()\n",
    "        \n",
    "        try:"
   ]
  },
  {
   "cell_type": "markdown",
   "id": "e79d8ae2",
   "metadata": {},
   "source": [
    "            # Load and preprocess image"
   ]
  },
  {
   "cell_type": "code",
   "execution_count": null,
   "id": "9121303f",
   "metadata": {},
   "outputs": [],
   "source": [
    "            image = Image.open(image_path).convert('RGB')\n",
    "            "
   ]
  },
  {
   "cell_type": "markdown",
   "id": "7f71d03d",
   "metadata": {},
   "source": [
    "            # Create Phi Ground prompt"
   ]
  },
  {
   "cell_type": "code",
   "execution_count": null,
   "id": "e5d8adbe",
   "metadata": {},
   "outputs": [],
   "source": [
    "            prompt = self._create_phi_ground_prompt(\n",
    "                image_path, task_description, action_history\n",
    "            )\n",
    "            "
   ]
  },
  {
   "cell_type": "markdown",
   "id": "63c19541",
   "metadata": {},
   "source": [
    "            # Tokenize input"
   ]
  },
  {
   "cell_type": "code",
   "execution_count": null,
   "id": "d47a5276",
   "metadata": {},
   "outputs": [],
   "source": [
    "            inputs = self.tokenizer(\n",
    "                prompt,\n",
    "                return_tensors=\"pt\",\n",
    "                images=image\n",
    "            ).to(self.device)\n",
    "            "
   ]
  },
  {
   "cell_type": "markdown",
   "id": "a473f586",
   "metadata": {},
   "source": [
    "            # Generate response"
   ]
  },
  {
   "cell_type": "code",
   "execution_count": null,
   "id": "1616115c",
   "metadata": {},
   "outputs": [],
   "source": [
    "            with torch.no_grad():\n",
    "                outputs = self.model.generate(\n",
    "                    **inputs,\n",
    "                    max_new_tokens=256,\n",
    "                    temperature=0.7,\n",
    "                    do_sample=True,\n",
    "                    pad_token_id=self.tokenizer.eos_token_id\n",
    "                )\n",
    "            "
   ]
  },
  {
   "cell_type": "markdown",
   "id": "1fada692",
   "metadata": {},
   "source": [
    "            # Decode response"
   ]
  },
  {
   "cell_type": "code",
   "execution_count": null,
   "id": "44362fc3",
   "metadata": {},
   "outputs": [],
   "source": [
    "            response = self.tokenizer.decode(outputs[0], skip_special_tokens=True)\n",
    "            "
   ]
  },
  {
   "cell_type": "markdown",
   "id": "7970c87a",
   "metadata": {},
   "source": [
    "            # Extract action from response"
   ]
  },
  {
   "cell_type": "markdown",
   "id": "e72f2dc9",
   "metadata": {},
   "source": [
    "Parse Phi Ground response and extract action details.\n",
    "        \n",
    "        Args:\n",
    "            response: Raw response from Phi Ground\n",
    "            ui_elements: Detected UI elements for coordinate validation\n",
    "            \n",
    "        Returns:\n",
    "            Parsed action dictionary or None"
   ]
  },
  {
   "cell_type": "code",
   "execution_count": null,
   "id": "9cecad9c",
   "metadata": {},
   "outputs": [],
   "source": [
    "            action = self._parse_phi_ground_response(response, ui_elements)\n",
    "            \n",
    "            if action:\n",
    "                logger.info(f\"Phi Ground generated action: {action['type']} - {action.get('reasoning', '')}\")\n",
    "            \n",
    "            return action\n",
    "            \n",
    "        except Exception as e:\n",
    "            logger.error(f\"Phi Ground action generation failed: {e}\")\n",
    "            return None\n",
    "    \n",
    "    def _parse_phi_ground_response(\n",
    "        self, \n",
    "        response: str, \n",
    "        ui_elements: List[UIElement]\n",
    "    ) -> Optional[Dict[str, Any]]:\n",
    "        try:"
   ]
  },
  {
   "cell_type": "markdown",
   "id": "ec16b745",
   "metadata": {},
   "source": [
    "            # Extract action from response"
   ]
  },
  {
   "cell_type": "markdown",
   "id": "1ccf715e",
   "metadata": {},
   "source": [
    "Parse tap action from Phi Ground response.\n",
    "        \n",
    "        Args:\n",
    "            description: Action description from Phi Ground\n",
    "            ui_elements: Available UI elements for coordinate mapping\n",
    "            \n",
    "        Returns:\n",
    "            Tap action dictionary or None"
   ]
  },
  {
   "cell_type": "code",
   "execution_count": null,
   "id": "e229741b",
   "metadata": {},
   "outputs": [],
   "source": [
    "            action_match = re.search(r'(\\d+)\\.\\s*(TAP|INPUT|SWIPE|WAIT):\\s*(.+)', response, re.IGNORECASE)\n",
    "            if not action_match:\n",
    "                logger.warning(\"Could not parse Phi Ground response\")\n",
    "                return None\n",
    "            \n",
    "            action_type = action_match.group(2).upper()\n",
    "            action_description = action_match.group(3).strip()\n",
    "            \n",
    "            if action_type == \"TAP\":\n",
    "                return self._parse_tap_action(action_description, ui_elements)\n",
    "            elif action_type == \"INPUT\":\n",
    "                return self._parse_input_action(action_description, ui_elements)\n",
    "            elif action_type == \"SWIPE\":\n",
    "                return self._parse_swipe_action(action_description)\n",
    "            elif action_type == \"WAIT\":\n",
    "                return self._parse_wait_action(action_description)\n",
    "            else:\n",
    "                logger.warning(f\"Unknown action type: {action_type}\")\n",
    "                return None\n",
    "                \n",
    "        except Exception as e:\n",
    "            logger.error(f\"Failed to parse Phi Ground response: {e}\")\n",
    "            return None\n",
    "    \n",
    "    def _parse_tap_action(\n",
    "        self, \n",
    "        description: str, \n",
    "        ui_elements: List[UIElement]\n",
    "    ) -> Optional[Dict[str, Any]]:"
   ]
  },
  {
   "cell_type": "markdown",
   "id": "a4e80ed7",
   "metadata": {},
   "source": [
    "        # Extract coordinates from description"
   ]
  },
  {
   "cell_type": "code",
   "execution_count": null,
   "id": "48abf7ed",
   "metadata": {},
   "outputs": [],
   "source": [
    "        coord_match = re.search(r'\\((\\d+),\\s*(\\d+)\\)', description)\n",
    "        if coord_match:\n",
    "            x, y = int(coord_match.group(1)), int(coord_match.group(2))\n",
    "            "
   ]
  },
  {
   "cell_type": "markdown",
   "id": "de2780f3",
   "metadata": {},
   "source": [
    "            # Find matching element for validation"
   ]
  },
  {
   "cell_type": "code",
   "execution_count": null,
   "id": "4179276e",
   "metadata": {},
   "outputs": [],
   "source": [
    "            matching_element = self._find_matching_element(description, ui_elements)\n",
    "            \n",
    "            return {\n",
    "                \"type\": \"tap\",\n",
    "                \"x\": x,\n",
    "                \"y\": y,\n",
    "                \"element_text\": matching_element.text if matching_element else \"\",\n",
    "                \"reasoning\": f\"Phi Ground: {description}\",\n",
    "                \"phi_ground_generated\": True,\n",
    "                \"confidence\": matching_element.confidence if matching_element else 0.5\n",
    "            }\n",
    "        "
   ]
  },
  {
   "cell_type": "markdown",
   "id": "17edd6f8",
   "metadata": {},
   "source": [
    "        # If no coordinates, try to find element by description"
   ]
  },
  {
   "cell_type": "markdown",
   "id": "987073a9",
   "metadata": {},
   "source": [
    "Parse input action from Phi Ground response.\n",
    "        \n",
    "        Args:\n",
    "            description: Action description from Phi Ground\n",
    "            ui_elements: Available UI elements for coordinate mapping\n",
    "            \n",
    "        Returns:\n",
    "            Input action dictionary or None"
   ]
  },
  {
   "cell_type": "code",
   "execution_count": null,
   "id": "9bc878b4",
   "metadata": {},
   "outputs": [],
   "source": [
    "        matching_element = self._find_matching_element(description, ui_elements)\n",
    "        if matching_element:\n",
    "            x1, y1, x2, y2 = matching_element.bbox.as_tuple()\n",
    "            return {\n",
    "                \"type\": \"tap\",\n",
    "                \"x\": (x1 + x2) // 2,\n",
    "                \"y\": (y1 + y2) // 2,\n",
    "                \"element_text\": matching_element.text,\n",
    "                \"reasoning\": f\"Phi Ground: {description}\",\n",
    "                \"phi_ground_generated\": True,\n",
    "                \"confidence\": matching_element.confidence\n",
    "            }\n",
    "        \n",
    "        return None\n",
    "    \n",
    "    def _parse_input_action(\n",
    "        self, \n",
    "        description: str, \n",
    "        ui_elements: List[UIElement]\n",
    "    ) -> Optional[Dict[str, Any]]:"
   ]
  },
  {
   "cell_type": "markdown",
   "id": "ed092466",
   "metadata": {},
   "source": [
    "        # Extract text and field from description\n",
    "        # Format: \"INPUT: [text] into [field_description] at coordinates (x, y)\""
   ]
  },
  {
   "cell_type": "code",
   "execution_count": null,
   "id": "d30b850f",
   "metadata": {},
   "outputs": [],
   "source": [
    "        text_match = re.search(r'INPUT:\\s*\"([^\"]+)\"\\s+into\\s+(.+)', description, re.IGNORECASE)\n",
    "        if text_match:\n",
    "            input_text = text_match.group(1)\n",
    "            field_description = text_match.group(2)\n",
    "            "
   ]
  },
  {
   "cell_type": "markdown",
   "id": "51807929",
   "metadata": {},
   "source": [
    "            # Extract coordinates"
   ]
  },
  {
   "cell_type": "code",
   "execution_count": null,
   "id": "8156004c",
   "metadata": {},
   "outputs": [],
   "source": [
    "            coord_match = re.search(r'\\((\\d+),\\s*(\\d+)\\)', field_description)\n",
    "            if coord_match:\n",
    "                x, y = int(coord_match.group(1)), int(coord_match.group(2))\n",
    "                "
   ]
  },
  {
   "cell_type": "markdown",
   "id": "1eedb535",
   "metadata": {},
   "source": [
    "                # Find matching element"
   ]
  },
  {
   "cell_type": "markdown",
   "id": "d60c93bd",
   "metadata": {},
   "source": [
    "Parse swipe action from Phi Ground response.\n",
    "        \n",
    "        Args:\n",
    "            description: Action description from Phi Ground\n",
    "            \n",
    "        Returns:\n",
    "            Swipe action dictionary or None"
   ]
  },
  {
   "cell_type": "code",
   "execution_count": null,
   "id": "71716f47",
   "metadata": {},
   "outputs": [],
   "source": [
    "                matching_element = self._find_matching_element(field_description, ui_elements)\n",
    "                \n",
    "                return {\n",
    "                    \"type\": \"text_input\",\n",
    "                    \"x\": x,\n",
    "                    \"y\": y,\n",
    "                    \"text\": input_text,\n",
    "                    \"field_hint\": matching_element.text if matching_element else field_description,\n",
    "                    \"reasoning\": f\"Phi Ground: {description}\",\n",
    "                    \"phi_ground_generated\": True,\n",
    "                    \"confidence\": matching_element.confidence if matching_element else 0.5\n",
    "                }\n",
    "        \n",
    "        return None\n",
    "    \n",
    "    def _parse_swipe_action(self, description: str) -> Optional[Dict[str, Any]]:"
   ]
  },
  {
   "cell_type": "markdown",
   "id": "e6e47798",
   "metadata": {},
   "source": [
    "        # Extract coordinates: \"SWIPE: from (x1, y1) to (x2, y2)\""
   ]
  },
  {
   "cell_type": "markdown",
   "id": "2e4d84d4",
   "metadata": {},
   "source": [
    "Parse wait action from Phi Ground response.\n",
    "        \n",
    "        Args:\n",
    "            description: Action description from Phi Ground\n",
    "            \n",
    "        Returns:\n",
    "            Wait action dictionary or None"
   ]
  },
  {
   "cell_type": "code",
   "execution_count": null,
   "id": "a7560357",
   "metadata": {},
   "outputs": [],
   "source": [
    "        coord_match = re.search(r'from\\s*\\((\\d+),\\s*(\\d+)\\)\\s+to\\s+\\((\\d+),\\s*(\\d+)\\)', description)\n",
    "        if coord_match:\n",
    "            x1, y1 = int(coord_match.group(1)), int(coord_match.group(2))\n",
    "            x2, y2 = int(coord_match.group(3)), int(coord_match.group(4))\n",
    "            \n",
    "            return {\n",
    "                \"type\": \"swipe\",\n",
    "                \"x1\": x1,\n",
    "                \"y1\": y1,\n",
    "                \"x2\": x2,\n",
    "                \"y2\": y2,\n",
    "                \"duration\": 300,  # Default duration\n",
    "                \"reasoning\": f\"Phi Ground: {description}\",\n",
    "                \"phi_ground_generated\": True\n",
    "            }\n",
    "        \n",
    "        return None\n",
    "    \n",
    "    def _parse_wait_action(self, description: str) -> Optional[Dict[str, Any]]:"
   ]
  },
  {
   "cell_type": "markdown",
   "id": "d3704584",
   "metadata": {},
   "source": [
    "        # Extract duration: \"WAIT: [duration] seconds\""
   ]
  },
  {
   "cell_type": "markdown",
   "id": "c7a3bde2",
   "metadata": {},
   "source": [
    "Find UI element that matches the Phi Ground description.\n",
    "        \n",
    "        Args:\n",
    "            description: Element description from Phi Ground\n",
    "            ui_elements: Available UI elements\n",
    "            \n",
    "        Returns:\n",
    "            Matching UI element or None"
   ]
  },
  {
   "cell_type": "code",
   "execution_count": null,
   "id": "4a244238",
   "metadata": {},
   "outputs": [],
   "source": [
    "        duration_match = re.search(r'(\\d+(?:\\.\\d+)?)\\s*seconds?', description)\n",
    "        if duration_match:\n",
    "            duration = float(duration_match.group(1))\n",
    "            \n",
    "            return {\n",
    "                \"type\": \"wait\",\n",
    "                \"duration\": duration,\n",
    "                \"reasoning\": f\"Phi Ground: {description}\",\n",
    "                \"phi_ground_generated\": True\n",
    "            }\n",
    "        \n",
    "        return None\n",
    "    \n",
    "    def _find_matching_element(\n",
    "        self, \n",
    "        description: str, \n",
    "        ui_elements: List[UIElement]\n",
    "    ) -> Optional[UIElement]:\n",
    "        description_lower = description.lower()\n",
    "        "
   ]
  },
  {
   "cell_type": "markdown",
   "id": "eac2dff6",
   "metadata": {},
   "source": [
    "        # Extract key terms from description"
   ]
  },
  {
   "cell_type": "code",
   "execution_count": null,
   "id": "95f49d67",
   "metadata": {},
   "outputs": [],
   "source": [
    "        key_terms = re.findall(r'\\b\\w+\\b', description_lower)\n",
    "        \n",
    "        best_match = None\n",
    "        best_score = 0\n",
    "        \n",
    "        for element in ui_elements:\n",
    "            element_text_lower = element.text.lower()\n",
    "            "
   ]
  },
  {
   "cell_type": "markdown",
   "id": "b29511f1",
   "metadata": {},
   "source": [
    "            # Calculate similarity score"
   ]
  },
  {
   "cell_type": "code",
   "execution_count": null,
   "id": "a007a2bf",
   "metadata": {},
   "outputs": [],
   "source": [
    "            score = 0\n",
    "            for term in key_terms:\n",
    "                if term in element_text_lower:\n",
    "                    score += 1\n",
    "                if element_text_lower in term or term in element_text_lower:\n",
    "                    score += 0.5\n",
    "            "
   ]
  },
  {
   "cell_type": "markdown",
   "id": "cf8b1dab",
   "metadata": {},
   "source": [
    "            # Normalize by text length"
   ]
  },
  {
   "cell_type": "markdown",
   "id": "295daefd",
   "metadata": {},
   "source": [
    "Validate action coordinates are within screen bounds.\n",
    "        \n",
    "        Args:\n",
    "            action: Action dictionary\n",
    "            screen_width: Screen width in pixels\n",
    "            screen_height: Screen height in pixels\n",
    "            \n",
    "        Returns:\n",
    "            True if coordinates are valid, False otherwise"
   ]
  },
  {
   "cell_type": "code",
   "execution_count": null,
   "id": "930542c4",
   "metadata": {},
   "outputs": [],
   "source": [
    "            if len(element.text) > 0:\n",
    "                score = score / len(element.text.split())\n",
    "            \n",
    "            if score > best_score:\n",
    "                best_score = score\n",
    "                best_match = element\n",
    "        \n",
    "        return best_match if best_score > 0.3 else None\n",
    "    \n",
    "    def validate_action_coordinates(\n",
    "        self, \n",
    "        action: Dict[str, Any], \n",
    "        screen_width: int = 1080, \n",
    "        screen_height: int = 1920\n",
    "    ) -> bool:\n",
    "        action_type = action.get(\"type\")\n",
    "        \n",
    "        if action_type == \"tap\":\n",
    "            x, y = action.get(\"x\", 0), action.get(\"y\", 0)\n",
    "            return 0 <= x <= screen_width and 0 <= y <= screen_height\n",
    "            \n",
    "        elif action_type == \"text_input\":\n",
    "            x, y = action.get(\"x\", 0), action.get(\"y\", 0)\n",
    "            return 0 <= x <= screen_width and 0 <= y <= screen_height\n",
    "            \n",
    "        elif action_type == \"swipe\":\n",
    "            x1, y1 = action.get(\"x1\", 0), action.get(\"y1\", 0)\n",
    "            x2, y2 = action.get(\"x2\", 0), action.get(\"y2\", 0)\n",
    "            return (0 <= x1 <= screen_width and 0 <= y1 <= screen_height and\n",
    "                   0 <= x2 <= screen_width and 0 <= y2 <= screen_height)\n",
    "        \n",
    "        return True\n",
    "\n"
   ]
  },
  {
   "cell_type": "markdown",
   "id": "bd16bb4a",
   "metadata": {},
   "source": [
    "# Global instance for reuse"
   ]
  },
  {
   "cell_type": "markdown",
   "id": "e7012955",
   "metadata": {},
   "source": [
    "Get or create the global Phi Ground generator instance."
   ]
  },
  {
   "cell_type": "code",
   "execution_count": null,
   "id": "e193edd5",
   "metadata": {},
   "outputs": [],
   "source": [
    "_phi_ground_generator = None\n",
    "\n",
    "\n",
    "def get_phi_ground_generator() -> PhiGroundActionGenerator:\n",
    "    global _phi_ground_generator\n",
    "    if _phi_ground_generator is None:\n",
    "        _phi_ground_generator = PhiGroundActionGenerator()\n",
    "    return _phi_ground_generator\n"
   ]
  }
 ],
 "metadata": {
  "kernelspec": {
   "display_name": "Python 3",
   "language": "python",
   "name": "python3"
  },
  "language_info": {
   "codemirror_mode": {
    "name": "ipython",
    "version": 3
   },
   "file_extension": ".py",
   "mimetype": "text/x-python",
   "name": "python",
   "nbconvert_exporter": "python",
   "pygments_lexer": "ipython3",
   "version": "3.10.0"
  }
 },
 "nbformat": 4,
 "nbformat_minor": 5
}
