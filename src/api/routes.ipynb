{
 "cells": [
  {
   "cell_type": "markdown",
   "id": "f7b84e39",
   "metadata": {},
   "source": [
    "API route definitions for DroidBot-GPT framework."
   ]
  },
  {
   "cell_type": "code",
   "execution_count": null,
   "id": "1a612566",
   "metadata": {},
   "outputs": [],
   "source": [
    "\n",
    "from __future__ import annotations\n",
    "\n",
    "from typing import Any, Dict, List, Optional\n",
    "\n",
    "from fastapi import APIRouter, HTTPException\n",
    "from pydantic import BaseModel\n",
    "\n",
    "from ..core.explorer import Explorer\n",
    "from ..core.logger import log\n"
   ]
  },
  {
   "cell_type": "markdown",
   "id": "a875c32c",
   "metadata": {},
   "source": [
    "# Create router instances"
   ]
  },
  {
   "cell_type": "code",
   "execution_count": null,
   "id": "c3c9488f",
   "metadata": {},
   "outputs": [],
   "source": [
    "device_router = APIRouter()\n",
    "automation_router = APIRouter()\n",
    "status_router = APIRouter()\n"
   ]
  },
  {
   "cell_type": "markdown",
   "id": "71f6b71a",
   "metadata": {},
   "source": [
    "# Global DroidBot-GPT instance"
   ]
  },
  {
   "cell_type": "markdown",
   "id": "98dc31bf",
   "metadata": {},
   "source": [
    "Get or create the global DroidBot-GPT instance."
   ]
  },
  {
   "cell_type": "code",
   "execution_count": null,
   "id": "f1bb659f",
   "metadata": {},
   "outputs": [],
   "source": [
    "droidbot_instance: Optional[Explorer] = None\n",
    "\n",
    "\n",
    "def get_droidbot() -> Explorer:\n",
    "    global droidbot_instance\n",
    "    if droidbot_instance is None:\n",
    "        droidbot_instance = Explorer()\n",
    "    return droidbot_instance\n",
    "\n"
   ]
  },
  {
   "cell_type": "markdown",
   "id": "c224828f",
   "metadata": {},
   "source": [
    "# Pydantic models for request/response"
   ]
  },
  {
   "cell_type": "markdown",
   "id": "e46ffa28",
   "metadata": {},
   "source": [
    "Request model for automation tasks."
   ]
  },
  {
   "cell_type": "markdown",
   "id": "677a84f8",
   "metadata": {},
   "source": [
    "Request model for individual actions."
   ]
  },
  {
   "cell_type": "markdown",
   "id": "c2fa5127",
   "metadata": {},
   "source": [
    "Request model for device connection."
   ]
  },
  {
   "cell_type": "markdown",
   "id": "80343dff",
   "metadata": {},
   "source": [
    "Response model for task execution."
   ]
  },
  {
   "cell_type": "markdown",
   "id": "a8edff4a",
   "metadata": {},
   "source": [
    "Response model for device information."
   ]
  },
  {
   "cell_type": "code",
   "execution_count": null,
   "id": "49299bb3",
   "metadata": {},
   "outputs": [],
   "source": [
    "class TaskRequest(BaseModel):\n",
    "    description: str\n",
    "    max_steps: int = 50\n",
    "\n",
    "\n",
    "class ActionRequest(BaseModel):\n",
    "    action_type: str\n",
    "    parameters: Dict[str, Any]\n",
    "\n",
    "\n",
    "class DeviceConnectRequest(BaseModel):\n",
    "    device_serial: Optional[str] = None\n",
    "\n",
    "\n",
    "class TaskResponse(BaseModel):\n",
    "    task_id: str\n",
    "    status: str\n",
    "    duration: float\n",
    "    steps: int\n",
    "    result: Dict[str, Any]\n",
    "\n",
    "\n",
    "class DeviceInfoResponse(BaseModel):\n",
    "    connected: bool\n",
    "    device_info: Optional[Dict[str, Any]] = None\n",
    "    error: Optional[str] = None\n",
    "\n"
   ]
  },
  {
   "cell_type": "markdown",
   "id": "fcd420d5",
   "metadata": {},
   "source": [
    "# Device management routes"
   ]
  },
  {
   "cell_type": "markdown",
   "id": "f1d8d844",
   "metadata": {},
   "source": [
    "Connect to an Android device or emulator."
   ]
  },
  {
   "cell_type": "markdown",
   "id": "64686173",
   "metadata": {},
   "source": [
    "Get current device status."
   ]
  },
  {
   "cell_type": "markdown",
   "id": "5d7c0b45",
   "metadata": {},
   "source": [
    "Disconnect from the current device."
   ]
  },
  {
   "cell_type": "markdown",
   "id": "e5a7b153",
   "metadata": {},
   "source": [
    "Capture a screenshot from the device."
   ]
  },
  {
   "cell_type": "code",
   "execution_count": null,
   "id": "20bf8fac",
   "metadata": {},
   "outputs": [],
   "source": [
    "@device_router.post(\"/connect\", response_model=DeviceInfoResponse)\n",
    "async def connect_device(request: DeviceConnectRequest):\n",
    "    try:\n",
    "        droidbot = get_droidbot()\n",
    "        success = await droidbot.connect_device(request.device_serial)\n",
    "        \n",
    "        if success:\n",
    "            device_status = await droidbot.get_device_status()\n",
    "            return DeviceInfoResponse(\n",
    "                connected=True,\n",
    "                device_info=device_status.get('device_info')\n",
    "            )\n",
    "        else:\n",
    "            return DeviceInfoResponse(\n",
    "                connected=False,\n",
    "                error=\"Failed to connect to device\"\n",
    "            )\n",
    "            \n",
    "    except Exception as e:\n",
    "        log.error(f\"Device connection error: {e}\")\n",
    "        raise HTTPException(status_code=500, detail=str(e))\n",
    "\n",
    "\n",
    "@device_router.get(\"/status\", response_model=DeviceInfoResponse)\n",
    "async def get_device_status():\n",
    "    try:\n",
    "        droidbot = get_droidbot()\n",
    "        device_status = await droidbot.get_device_status()\n",
    "        \n",
    "        return DeviceInfoResponse(\n",
    "            connected=device_status.get('connected', False),\n",
    "            device_info=device_status.get('device_info')\n",
    "        )\n",
    "        \n",
    "    except Exception as e:\n",
    "        log.error(f\"Device status error: {e}\")\n",
    "        raise HTTPException(status_code=500, detail=str(e))\n",
    "\n",
    "\n",
    "@device_router.post(\"/disconnect\")\n",
    "async def disconnect_device():\n",
    "    try:\n",
    "        droidbot = get_droidbot()\n",
    "        await droidbot.disconnect()\n",
    "        return {\"message\": \"Device disconnected successfully\"}\n",
    "        \n",
    "    except Exception as e:\n",
    "        log.error(f\"Device disconnection error: {e}\")\n",
    "        raise HTTPException(status_code=500, detail=str(e))\n",
    "\n",
    "\n",
    "@device_router.post(\"/screenshot\")\n",
    "async def capture_screenshot():\n",
    "    try:\n",
    "        droidbot = get_droidbot()\n",
    "        device_manager = droidbot.device_manager\n",
    "        \n",
    "        if not device_manager.is_connected():\n",
    "            raise HTTPException(status_code=400, detail=\"Device not connected\")\n",
    "            \n",
    "        screenshot_path = await device_manager.capture_screenshot()\n",
    "        \n",
    "        return {\n",
    "            \"screenshot_path\": screenshot_path,\n",
    "            \"message\": \"Screenshot captured successfully\"\n",
    "        }\n",
    "        \n",
    "    except Exception as e:\n",
    "        log.error(f\"Screenshot capture error: {e}\")\n",
    "        raise HTTPException(status_code=500, detail=str(e))\n",
    "\n"
   ]
  },
  {
   "cell_type": "markdown",
   "id": "4cbd5151",
   "metadata": {},
   "source": [
    "# Automation routes"
   ]
  },
  {
   "cell_type": "markdown",
   "id": "fd662024",
   "metadata": {},
   "source": [
    "Execute an automation task."
   ]
  },
  {
   "cell_type": "markdown",
   "id": "bd69dbf3",
   "metadata": {},
   "source": [
    "Get automation task history."
   ]
  },
  {
   "cell_type": "markdown",
   "id": "b13d7371",
   "metadata": {},
   "source": [
    "Get information about the currently running task."
   ]
  },
  {
   "cell_type": "markdown",
   "id": "7ed38be6",
   "metadata": {},
   "source": [
    "Stop the currently running automation."
   ]
  },
  {
   "cell_type": "markdown",
   "id": "ff29e5c9",
   "metadata": {},
   "source": [
    "Execute a single automation action."
   ]
  },
  {
   "cell_type": "code",
   "execution_count": null,
   "id": "34cbd5fb",
   "metadata": {},
   "outputs": [],
   "source": [
    "@automation_router.post(\"/task\", response_model=TaskResponse)\n",
    "async def execute_task(request: TaskRequest):\n",
    "    try:\n",
    "        droidbot = get_droidbot()\n",
    "        \n",
    "        if not droidbot.device_manager.is_connected():\n",
    "            raise HTTPException(status_code=400, detail=\"Device not connected\")\n",
    "            \n",
    "        result = await droidbot.automate_task(\n",
    "            request.description,\n",
    "            request.max_steps\n",
    "        )\n",
    "        \n",
    "        return TaskResponse(\n",
    "            task_id=result.get('id', 'unknown'),\n",
    "            status=result.get('status', 'unknown'),\n",
    "            duration=result.get('duration', 0.0),\n",
    "            steps=result.get('total_steps', 0),\n",
    "            result=result\n",
    "        )\n",
    "        \n",
    "    except Exception as e:\n",
    "        log.error(f\"Task execution error: {e}\")\n",
    "        raise HTTPException(status_code=500, detail=str(e))\n",
    "\n",
    "\n",
    "@automation_router.get(\"/tasks\", response_model=List[Dict[str, Any]])\n",
    "async def get_task_history():\n",
    "    try:\n",
    "        droidbot = get_droidbot()\n",
    "        history = await droidbot.get_task_history()\n",
    "        return history\n",
    "        \n",
    "    except Exception as e:\n",
    "        log.error(f\"Task history error: {e}\")\n",
    "        raise HTTPException(status_code=500, detail=str(e))\n",
    "\n",
    "\n",
    "@automation_router.get(\"/current-task\")\n",
    "async def get_current_task():\n",
    "    try:\n",
    "        droidbot = get_droidbot()\n",
    "        current_task = await droidbot.get_current_task()\n",
    "        return current_task\n",
    "        \n",
    "    except Exception as e:\n",
    "        log.error(f\"Current task error: {e}\")\n",
    "        raise HTTPException(status_code=500, detail=str(e))\n",
    "\n",
    "\n",
    "@automation_router.post(\"/stop\")\n",
    "async def stop_automation():\n",
    "    try:\n",
    "        droidbot = get_droidbot()\n",
    "        await droidbot.stop_automation()\n",
    "        return {\"message\": \"Automation stopped successfully\"}\n",
    "        \n",
    "    except Exception as e:\n",
    "        log.error(f\"Stop automation error: {e}\")\n",
    "        raise HTTPException(status_code=500, detail=str(e))\n",
    "\n",
    "\n",
    "@automation_router.post(\"/action\")\n",
    "async def execute_action(request: ActionRequest):\n",
    "    try:\n",
    "        droidbot = get_droidbot()\n",
    "        \n",
    "        if not droidbot.device_manager.is_connected():\n",
    "            raise HTTPException(status_code=400, detail=\"Device not connected\")\n",
    "            \n",
    "        action = {\n",
    "            \"type\": request.action_type,\n",
    "            **request.parameters\n",
    "        }\n",
    "        \n",
    "        result = await droidbot.device_manager.perform_action(action)\n",
    "        \n",
    "        return {\n",
    "            \"success\": result,\n",
    "            \"action\": action,\n",
    "            \"message\": \"Action executed successfully\" if result else \"Action failed\"\n",
    "        }\n",
    "        \n",
    "    except Exception as e:\n",
    "        log.error(f\"Action execution error: {e}\")\n",
    "        raise HTTPException(status_code=500, detail=str(e))\n",
    "\n"
   ]
  },
  {
   "cell_type": "markdown",
   "id": "57572f27",
   "metadata": {},
   "source": [
    "# Status and monitoring routes"
   ]
  },
  {
   "cell_type": "markdown",
   "id": "6162cc5c",
   "metadata": {},
   "source": [
    "Get system overview and status."
   ]
  },
  {
   "cell_type": "code",
   "execution_count": null,
   "id": "60350859",
   "metadata": {},
   "outputs": [],
   "source": [
    "@status_router.get(\"/overview\")\n",
    "async def get_system_overview():\n",
    "    try:\n",
    "        droidbot = get_droidbot()\n",
    "        "
   ]
  },
  {
   "cell_type": "markdown",
   "id": "2f9ffae6",
   "metadata": {},
   "source": [
    "        # Get device status"
   ]
  },
  {
   "cell_type": "code",
   "execution_count": null,
   "id": "fb8a63ab",
   "metadata": {},
   "outputs": [],
   "source": [
    "        device_status = await droidbot.get_device_status()\n",
    "        "
   ]
  },
  {
   "cell_type": "markdown",
   "id": "d7eb7a72",
   "metadata": {},
   "source": [
    "        # Get session info"
   ]
  },
  {
   "cell_type": "code",
   "execution_count": null,
   "id": "755074bd",
   "metadata": {},
   "outputs": [],
   "source": [
    "        session_info = droidbot.get_session_info()\n",
    "        "
   ]
  },
  {
   "cell_type": "markdown",
   "id": "2b8ae61f",
   "metadata": {},
   "source": [
    "        # Get task history"
   ]
  },
  {
   "cell_type": "markdown",
   "id": "a06dac75",
   "metadata": {},
   "source": [
    "Get current session information."
   ]
  },
  {
   "cell_type": "markdown",
   "id": "edb4d3f8",
   "metadata": {},
   "source": [
    "Get current resource usage."
   ]
  },
  {
   "cell_type": "code",
   "execution_count": null,
   "id": "97cd374a",
   "metadata": {},
   "outputs": [],
   "source": [
    "        task_history = await droidbot.get_task_history()\n",
    "        \n",
    "        return {\n",
    "            \"device\": device_status,\n",
    "            \"session\": session_info,\n",
    "            \"tasks\": {\n",
    "                \"total\": len(task_history),\n",
    "                \"recent\": task_history[-5:] if task_history else []\n",
    "            },\n",
    "            \"system\": {\n",
    "                \"status\": \"running\",\n",
    "                \"version\": \"1.0.0\"\n",
    "            }\n",
    "        }\n",
    "        \n",
    "    except Exception as e:\n",
    "        log.error(f\"System overview error: {e}\")\n",
    "        raise HTTPException(status_code=500, detail=str(e))\n",
    "\n",
    "\n",
    "@status_router.get(\"/session\")\n",
    "async def get_session_info():\n",
    "    try:\n",
    "        droidbot = get_droidbot()\n",
    "        session_info = droidbot.get_session_info()\n",
    "        return session_info\n",
    "        \n",
    "    except Exception as e:\n",
    "        log.error(f\"Session info error: {e}\")\n",
    "        raise HTTPException(status_code=500, detail=str(e))\n",
    "\n",
    "\n",
    "@status_router.get(\"/resources\")\n",
    "async def get_resource_usage():\n",
    "    try:\n",
    "        droidbot = get_droidbot()\n",
    "        \n",
    "        if not droidbot.device_manager.is_connected():\n",
    "            raise HTTPException(status_code=400, detail=\"Device not connected\")\n",
    "            \n",
    "        resource_usage = await droidbot.device_manager.get_resource_usage()\n",
    "        return resource_usage\n",
    "        \n",
    "    except Exception as e:\n",
    "        log.error(f\"Resource usage error: {e}\")\n",
    "        raise HTTPException(status_code=500, detail=str(e)) "
   ]
  }
 ],
 "metadata": {
  "kernelspec": {
   "display_name": "Python 3",
   "language": "python",
   "name": "python3"
  },
  "language_info": {
   "codemirror_mode": {
    "name": "ipython",
    "version": 3
   },
   "file_extension": ".py",
   "mimetype": "text/x-python",
   "name": "python",
   "nbconvert_exporter": "python",
   "pygments_lexer": "ipython3",
   "version": "3.10.0"
  }
 },
 "nbformat": 4,
 "nbformat_minor": 5
}
