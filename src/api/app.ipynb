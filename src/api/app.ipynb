{
 "cells": [
  {
   "cell_type": "markdown",
   "id": "83f2e602",
   "metadata": {},
   "source": [
    "FastAPI application factory for DroidBot-GPT framework."
   ]
  },
  {
   "cell_type": "markdown",
   "id": "c66a0a07",
   "metadata": {},
   "source": [
    "Create and configure the FastAPI application.\n",
    "    \n",
    "    Returns:\n",
    "        Configured FastAPI application instance."
   ]
  },
  {
   "cell_type": "code",
   "execution_count": null,
   "id": "fdc6dc3b",
   "metadata": {},
   "outputs": [],
   "source": [
    "\n",
    "from __future__ import annotations\n",
    "\n",
    "from fastapi import FastAPI\n",
    "from fastapi.middleware.cors import CORSMiddleware\n",
    "\n",
    "from ..core.config import config\n",
    "from ..core.logger import log\n",
    "from .routes import automation_router, device_router, status_router\n",
    "\n",
    "\n",
    "def create_app() -> FastAPI:\n",
    "    app = FastAPI(\n",
    "        title=\"DroidBot-GPT API\",\n",
    "        description=\"Intelligent Android automation framework API\",\n",
    "        version=\"1.0.0\",\n",
    "        docs_url=\"/docs\",\n",
    "        redoc_url=\"/redoc\"\n",
    "    )\n",
    "    "
   ]
  },
  {
   "cell_type": "markdown",
   "id": "05b17a8f",
   "metadata": {},
   "source": [
    "    # Configure CORS"
   ]
  },
  {
   "cell_type": "code",
   "execution_count": null,
   "id": "78cbc63e",
   "metadata": {},
   "outputs": [],
   "source": [
    "    app.add_middleware(\n",
    "        CORSMiddleware,\n",
    "        allow_origins=config.cors_origins,\n",
    "        allow_credentials=True,\n",
    "        allow_methods=[\"*\"],\n",
    "        allow_headers=[\"*\"],\n",
    "    )\n",
    "    "
   ]
  },
  {
   "cell_type": "markdown",
   "id": "774a3d61",
   "metadata": {},
   "source": [
    "    # Add request logging middleware"
   ]
  },
  {
   "cell_type": "code",
   "execution_count": null,
   "id": "a7dc5a19",
   "metadata": {},
   "outputs": [],
   "source": [
    "    @app.middleware(\"http\")\n",
    "    async def log_requests(request, call_next):\n",
    "        log.info(f\"API Request: {request.method} {request.url}\")\n",
    "        response = await call_next(request)\n",
    "        log.info(f\"API Response: {response.status_code}\")\n",
    "        return response\n",
    "    "
   ]
  },
  {
   "cell_type": "markdown",
   "id": "f8d40338",
   "metadata": {},
   "source": [
    "    # Include routers"
   ]
  },
  {
   "cell_type": "code",
   "execution_count": null,
   "id": "2c38122c",
   "metadata": {},
   "outputs": [],
   "source": [
    "    app.include_router(device_router, prefix=\"/api/v1/device\", tags=[\"device\"])\n",
    "    app.include_router(automation_router, prefix=\"/api/v1/automation\", tags=[\"automation\"])\n",
    "    app.include_router(status_router, prefix=\"/api/v1/status\", tags=[\"status\"])\n",
    "    "
   ]
  },
  {
   "cell_type": "markdown",
   "id": "91f80d8e",
   "metadata": {},
   "source": [
    "    # Health check endpoint"
   ]
  },
  {
   "cell_type": "markdown",
   "id": "e02a5cb7",
   "metadata": {},
   "source": [
    "Health check endpoint."
   ]
  },
  {
   "cell_type": "code",
   "execution_count": null,
   "id": "e62c40ab",
   "metadata": {},
   "outputs": [],
   "source": [
    "    @app.get(\"/health\")\n",
    "    async def health_check():\n",
    "        return {\n",
    "            \"status\": \"healthy\",\n",
    "            \"service\": \"DroidBot-GPT API\",\n",
    "            \"version\": \"1.0.0\"\n",
    "        }\n",
    "    "
   ]
  },
  {
   "cell_type": "markdown",
   "id": "bcce1cd1",
   "metadata": {},
   "source": [
    "    # Root endpoint"
   ]
  },
  {
   "cell_type": "markdown",
   "id": "47168d96",
   "metadata": {},
   "source": [
    "Root endpoint with API information."
   ]
  },
  {
   "cell_type": "code",
   "execution_count": null,
   "id": "7a603bc0",
   "metadata": {},
   "outputs": [],
   "source": [
    "    @app.get(\"/\")\n",
    "    async def root():\n",
    "        return {\n",
    "            \"message\": \"DroidBot-GPT API\",\n",
    "            \"version\": \"1.0.0\",\n",
    "            \"docs\": \"/docs\",\n",
    "            \"health\": \"/health\"\n",
    "        }\n",
    "    \n",
    "    log.info(\"FastAPI application created successfully\")\n",
    "    return app "
   ]
  }
 ],
 "metadata": {
  "kernelspec": {
   "display_name": "Python 3",
   "language": "python",
   "name": "python3"
  },
  "language_info": {
   "codemirror_mode": {
    "name": "ipython",
    "version": 3
   },
   "file_extension": ".py",
   "mimetype": "text/x-python",
   "name": "python",
   "nbconvert_exporter": "python",
   "pygments_lexer": "ipython3",
   "version": "3.10.0"
  }
 },
 "nbformat": 4,
 "nbformat_minor": 5
}
