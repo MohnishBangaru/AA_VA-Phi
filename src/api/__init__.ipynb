{
 "cells": [
  {
   "cell_type": "markdown",
   "id": "168d9e39",
   "metadata": {},
   "source": [
    "FastAPI endpoints for DroidBot-GPT framework.\n",
    "\n",
    "This sub-package provides REST API endpoints for:\n",
    "- Device management and control\n",
    "- Automation task execution\n",
    "- Status monitoring and reporting\n",
    "- Configuration management"
   ]
  },
  {
   "cell_type": "code",
   "execution_count": null,
   "id": "942c6734",
   "metadata": {},
   "outputs": [],
   "source": [
    "\n",
    "from .app import create_app\n",
    "from .routes import automation_router, device_router, status_router\n",
    "\n",
    "__all__ = [\n",
    "    \"create_app\",\n",
    "    \"automation_router\", \n",
    "    \"device_router\",\n",
    "    \"status_router\",\n",
    "] "
   ]
  }
 ],
 "metadata": {
  "kernelspec": {
   "display_name": "Python 3",
   "language": "python",
   "name": "python3"
  },
  "language_info": {
   "codemirror_mode": {
    "name": "ipython",
    "version": 3
   },
   "file_extension": ".py",
   "mimetype": "text/x-python",
   "name": "python",
   "nbconvert_exporter": "python",
   "pygments_lexer": "ipython3",
   "version": "3.10.0"
  }
 },
 "nbformat": 4,
 "nbformat_minor": 5
}
