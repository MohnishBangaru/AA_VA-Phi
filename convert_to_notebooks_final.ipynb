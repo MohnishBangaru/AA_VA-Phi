{
 "cells": [
  {
   "cell_type": "markdown",
   "id": "51dd28bd",
   "metadata": {},
   "source": [
    "\n",
    "Final script to convert Python files to Jupyter notebooks using nbformat.\n",
    "This script will convert all .py files in the AA_VA-Phi repository to .ipynb format."
   ]
  },
  {
   "cell_type": "markdown",
   "id": "26cee84a",
   "metadata": {},
   "source": [
    "#!/usr/bin/env python3"
   ]
  },
  {
   "cell_type": "markdown",
   "id": "c41e397b",
   "metadata": {},
   "source": [
    "\n",
    "    Convert a Python file to a Jupyter notebook using nbformat.\n",
    "    \n",
    "    Args:\n",
    "        python_file_path: Path to the Python file\n",
    "        output_dir: Output directory for the notebook (defaults to same directory)\n",
    "    \n",
    "    Returns:\n",
    "        Path to the created notebook file"
   ]
  },
  {
   "cell_type": "code",
   "execution_count": null,
   "id": "9ac60042",
   "metadata": {},
   "outputs": [],
   "source": [
    "\n",
    "import os\n",
    "import re\n",
    "from pathlib import Path\n",
    "from typing import List, Dict, Any\n",
    "\n",
    "try:\n",
    "    import nbformat as nbf\n",
    "except ImportError:\n",
    "    print(\"nbformat not found. Installing...\")\n",
    "    import subprocess\n",
    "    subprocess.check_call([\"pip\", \"install\", \"nbformat\"])\n",
    "    import nbformat as nbf\n",
    "\n",
    "def create_notebook_from_python(python_file_path: str, output_dir: str = None) -> str:\n",
    "    python_path = Path(python_file_path)\n",
    "    \n",
    "    if output_dir is None:\n",
    "        output_dir = python_path.parent\n",
    "    else:\n",
    "        output_dir = Path(output_dir)\n",
    "        output_dir.mkdir(parents=True, exist_ok=True)\n",
    "    "
   ]
  },
  {
   "cell_type": "markdown",
   "id": "ec8db44a",
   "metadata": {},
   "source": [
    "    # Read the Python file"
   ]
  },
  {
   "cell_type": "code",
   "execution_count": null,
   "id": "4ac14066",
   "metadata": {},
   "outputs": [],
   "source": [
    "    with open(python_file_path, 'r', encoding='utf-8') as f:\n",
    "        python_content = f.read()\n",
    "    "
   ]
  },
  {
   "cell_type": "markdown",
   "id": "e0b659db",
   "metadata": {},
   "source": [
    "    # Create a new notebook"
   ]
  },
  {
   "cell_type": "code",
   "execution_count": null,
   "id": "fe219fbb",
   "metadata": {},
   "outputs": [],
   "source": [
    "    nb = nbf.v4.new_notebook()\n",
    "    "
   ]
  },
  {
   "cell_type": "markdown",
   "id": "83cf3f83",
   "metadata": {},
   "source": [
    "    # Split content into cells"
   ]
  },
  {
   "cell_type": "code",
   "execution_count": null,
   "id": "cc9dae53",
   "metadata": {},
   "outputs": [],
   "source": [
    "    cells = split_python_into_cells(python_content)\n",
    "    nb.cells = cells\n",
    "    "
   ]
  },
  {
   "cell_type": "markdown",
   "id": "901c4d75",
   "metadata": {},
   "source": [
    "    # Set metadata"
   ]
  },
  {
   "cell_type": "code",
   "execution_count": null,
   "id": "6512b467",
   "metadata": {},
   "outputs": [],
   "source": [
    "    nb.metadata = {\n",
    "        \"kernelspec\": {\n",
    "            \"display_name\": \"Python 3\",\n",
    "            \"language\": \"python\",\n",
    "            \"name\": \"python3\"\n",
    "        },\n",
    "        \"language_info\": {\n",
    "            \"codemirror_mode\": {\n",
    "                \"name\": \"ipython\",\n",
    "                \"version\": 3\n",
    "            },\n",
    "            \"file_extension\": \".py\",\n",
    "            \"mimetype\": \"text/x-python\",\n",
    "            \"name\": \"python\",\n",
    "            \"nbconvert_exporter\": \"python\",\n",
    "            \"pygments_lexer\": \"ipython3\",\n",
    "            \"version\": \"3.10.0\"\n",
    "        }\n",
    "    }\n",
    "    "
   ]
  },
  {
   "cell_type": "markdown",
   "id": "27e30e1d",
   "metadata": {},
   "source": [
    "    # Write notebook file"
   ]
  },
  {
   "cell_type": "markdown",
   "id": "b3f60bc3",
   "metadata": {},
   "source": [
    "\n",
    "    Split Python content into notebook cells.\n",
    "    \n",
    "    Args:\n",
    "        python_content: The Python file content\n",
    "    \n",
    "    Returns:\n",
    "        List of notebook cells"
   ]
  },
  {
   "cell_type": "code",
   "execution_count": null,
   "id": "ecba06f0",
   "metadata": {},
   "outputs": [],
   "source": [
    "    notebook_path = output_dir / f\"{python_path.stem}.ipynb\"\n",
    "    nbf.write(nb, str(notebook_path))\n",
    "    \n",
    "    return str(notebook_path)\n",
    "\n",
    "def split_python_into_cells(python_content: str) -> List[nbf.NotebookNode]:\n",
    "    cells = []\n",
    "    "
   ]
  },
  {
   "cell_type": "markdown",
   "id": "0c726adc",
   "metadata": {},
   "source": [
    "    # Split by lines"
   ]
  },
  {
   "cell_type": "code",
   "execution_count": null,
   "id": "e1c8ddb1",
   "metadata": {},
   "outputs": [],
   "source": [
    "    lines = python_content.split('\\n')\n",
    "    \n",
    "    current_cell = []\n",
    "    current_cell_type = \"code\"\n",
    "    in_docstring = False\n",
    "    docstring_content = []\n",
    "    \n",
    "    for line in lines:\n",
    "        stripped = line.strip()\n",
    "        "
   ]
  },
  {
   "cell_type": "markdown",
   "id": "0abb95e1",
   "metadata": {},
   "source": [
    "' in line or \"'''\" in line:\n",
    "            if not in_docstring:\n",
    "                # Start of docstring\n",
    "                in_docstring = True\n",
    "                docstring_content = []\n",
    "                # Extract content after opening quotes"
   ]
  },
  {
   "cell_type": "markdown",
   "id": "9f5004b1",
   "metadata": {},
   "source": [
    "', 1)[1]"
   ]
  },
  {
   "cell_type": "markdown",
   "id": "db5e9a2a",
   "metadata": {},
   "source": [
    "', 1)[0])\n",
    "                        in_docstring = False\n",
    "                        # Add markdown cell for docstring\n",
    "                        if docstring_content:\n",
    "                            cells.append(nbf.v4.new_markdown_cell('\\n'.join(docstring_content)))\n",
    "                        docstring_content = []\n",
    "                    else:\n",
    "                        docstring_content.append(content)"
   ]
  },
  {
   "cell_type": "markdown",
   "id": "b61544ad",
   "metadata": {},
   "source": [
    "\", 1)[1]"
   ]
  },
  {
   "cell_type": "markdown",
   "id": "a8bfc9ce",
   "metadata": {},
   "source": [
    "\", 1)[0])\n",
    "                        in_docstring = False\n",
    "                        # Add markdown cell for docstring\n",
    "                        if docstring_content:\n",
    "                            cells.append(nbf.v4.new_markdown_cell('\\n'.join(docstring_content)))\n",
    "                        docstring_content = []\n",
    "                    else:\n",
    "                        docstring_content.append(content)\n",
    "            else:\n",
    "                # End of docstring\n",
    "                in_docstring = False\n",
    "                # Add markdown cell for docstring\n",
    "                if docstring_content:\n",
    "                    cells.append(nbf.v4.new_markdown_cell('\\n'.join(docstring_content)))\n",
    "                docstring_content = []\n",
    "            continue\n",
    "        \n",
    "        if in_docstring:\n",
    "            docstring_content.append(line)\n",
    "            continue\n",
    "        \n",
    "        # Check for markdown cells (comments)\n",
    "        if is_markdown_line(line):\n",
    "            # If we have code in current cell, save it\n",
    "            if current_cell and current_cell_type == \"code\":\n",
    "                cells.append(nbf.v4.new_code_cell('\\n'.join(current_cell)))\n",
    "                current_cell = []\n",
    "            \n",
    "            # Start or continue markdown cell\n",
    "            if current_cell_type != \"markdown\":\n",
    "                current_cell_type = \"markdown\"\n",
    "                current_cell = []\n",
    "            \n",
    "            current_cell.append(line)\n",
    "        else:\n",
    "            # If we have markdown in current cell, save it\n",
    "            if current_cell and current_cell_type == \"markdown\":\n",
    "                cells.append(nbf.v4.new_markdown_cell('\\n'.join(current_cell)))\n",
    "                current_cell = []\n",
    "            \n",
    "            # Start or continue code cell\n",
    "            if current_cell_type != \"code\":\n",
    "                current_cell_type = \"code\"\n",
    "                current_cell = []\n",
    "            \n",
    "            current_cell.append(line)\n",
    "    \n",
    "    # Add the last cell\n",
    "    if current_cell:\n",
    "        if current_cell_type == \"markdown\":\n",
    "            cells.append(nbf.v4.new_markdown_cell('\\n'.join(current_cell)))\n",
    "        else:\n",
    "            cells.append(nbf.v4.new_code_cell('\\n'.join(current_cell)))\n",
    "    \n",
    "    return cells\n",
    "\n",
    "def is_markdown_line(line: str) -> bool:"
   ]
  },
  {
   "cell_type": "markdown",
   "id": "b9f22f34",
   "metadata": {},
   "source": [
    "        # Handle docstrings\n",
    "                        # Single line docstring\n",
    "                        # Single line docstring"
   ]
  },
  {
   "cell_type": "markdown",
   "id": "ba188b12",
   "metadata": {},
   "source": [
    "\n",
    "    stripped = line.strip()\n",
    "    \n",
    "    # Empty lines\n",
    "    if not stripped:\n",
    "        return False\n",
    "    \n",
    "    # Comments that look like documentation\n",
    "    if stripped.startswith('#'):\n",
    "        # Keep documentation comments, skip simple comments\n",
    "        if len(stripped) > 2 and not stripped.startswith('# '):\n",
    "            return True\n",
    "        if any(keyword in stripped.lower() for keyword in ['note:', 'warning:', 'todo:', 'fixme:', 'important:', 'example:', 'usage:']):\n",
    "            return True\n",
    "        # Keep section headers\n",
    "        if stripped.startswith('# ') or stripped.startswith('## ') or stripped.startswith('### '):\n",
    "            return True\n",
    "    \n",
    "    return False\n",
    "\n",
    "def convert_repository_to_notebooks():"
   ]
  },
  {
   "cell_type": "code",
   "execution_count": null,
   "id": "a5bc3a13",
   "metadata": {},
   "outputs": [],
   "source": [
    "    Determine if a line should be treated as markdown.\n",
    "    \n",
    "    Args:\n",
    "        line: The line to check\n",
    "    \n",
    "    Returns:\n",
    "        True if the line should be markdown\n",
    "    Convert all Python files in the repository to notebooks."
   ]
  }
 ],
 "metadata": {
  "kernelspec": {
   "display_name": "Python 3",
   "language": "python",
   "name": "python3"
  },
  "language_info": {
   "codemirror_mode": {
    "name": "ipython",
    "version": 3
   },
   "file_extension": ".py",
   "mimetype": "text/x-python",
   "name": "python",
   "nbconvert_exporter": "python",
   "pygments_lexer": "ipython3",
   "version": "3.10.0"
  }
 },
 "nbformat": 4,
 "nbformat_minor": 5
}
