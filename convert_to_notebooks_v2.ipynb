{
 "cells": [
  {
   "cell_type": "markdown",
   "id": "289aa3cb",
   "metadata": {},
   "source": [
    "\n",
    "Improved script to convert Python files to Jupyter notebooks.\n",
    "This script will convert all .py files in the AA_VA-Phi repository to .ipynb format."
   ]
  },
  {
   "cell_type": "markdown",
   "id": "a271581d",
   "metadata": {},
   "source": [
    "#!/usr/bin/env python3"
   ]
  },
  {
   "cell_type": "markdown",
   "id": "51b1f528",
   "metadata": {},
   "source": [
    "\n",
    "    Convert a Python file to a Jupyter notebook.\n",
    "    \n",
    "    Args:\n",
    "        python_file_path: Path to the Python file\n",
    "        output_dir: Output directory for the notebook (defaults to same directory)\n",
    "    \n",
    "    Returns:\n",
    "        Path to the created notebook file"
   ]
  },
  {
   "cell_type": "code",
   "execution_count": null,
   "id": "cba5da4c",
   "metadata": {},
   "outputs": [],
   "source": [
    "\n",
    "import os\n",
    "import json\n",
    "import re\n",
    "from pathlib import Path\n",
    "from typing import List, Dict, Any\n",
    "\n",
    "def create_notebook_from_python(python_file_path: str, output_dir: str = None) -> str:\n",
    "    python_path = Path(python_file_path)\n",
    "    \n",
    "    if output_dir is None:\n",
    "        output_dir = python_path.parent\n",
    "    else:\n",
    "        output_dir = Path(output_dir)\n",
    "        output_dir.mkdir(parents=True, exist_ok=True)\n",
    "    "
   ]
  },
  {
   "cell_type": "markdown",
   "id": "19ac5ade",
   "metadata": {},
   "source": [
    "    # Read the Python file"
   ]
  },
  {
   "cell_type": "code",
   "execution_count": null,
   "id": "74553ee7",
   "metadata": {},
   "outputs": [],
   "source": [
    "    with open(python_file_path, 'r', encoding='utf-8') as f:\n",
    "        python_content = f.read()\n",
    "    "
   ]
  },
  {
   "cell_type": "markdown",
   "id": "ef1a9211",
   "metadata": {},
   "source": [
    "    # Split content into cells"
   ]
  },
  {
   "cell_type": "code",
   "execution_count": null,
   "id": "fa78dbf7",
   "metadata": {},
   "outputs": [],
   "source": [
    "    cells = split_python_into_cells(python_content)\n",
    "    "
   ]
  },
  {
   "cell_type": "markdown",
   "id": "dc46edee",
   "metadata": {},
   "source": [
    "    # Create notebook structure"
   ]
  },
  {
   "cell_type": "code",
   "execution_count": null,
   "id": "39038520",
   "metadata": {},
   "outputs": [],
   "source": [
    "    notebook = {\n",
    "        \"cells\": cells,\n",
    "        \"metadata\": {\n",
    "            \"kernelspec\": {\n",
    "                \"display_name\": \"Python 3\",\n",
    "                \"language\": \"python\",\n",
    "                \"name\": \"python3\"\n",
    "            },\n",
    "            \"language_info\": {\n",
    "                \"codemirror_mode\": {\n",
    "                    \"name\": \"ipython\",\n",
    "                    \"version\": 3\n",
    "                },\n",
    "                \"file_extension\": \".py\",\n",
    "                \"mimetype\": \"text/x-python\",\n",
    "                \"name\": \"python\",\n",
    "                \"nbconvert_exporter\": \"python\",\n",
    "                \"pygments_lexer\": \"ipython3\",\n",
    "                \"version\": \"3.10.0\"\n",
    "            }\n",
    "        },\n",
    "        \"nbformat\": 4,\n",
    "        \"nbformat_minor\": 4\n",
    "    }\n",
    "    "
   ]
  },
  {
   "cell_type": "markdown",
   "id": "c6540055",
   "metadata": {},
   "source": [
    "    # Write notebook file"
   ]
  },
  {
   "cell_type": "markdown",
   "id": "3fbcf1d3",
   "metadata": {},
   "source": [
    "\n",
    "    Split Python content into notebook cells.\n",
    "    \n",
    "    Args:\n",
    "        python_content: The Python file content\n",
    "    \n",
    "    Returns:\n",
    "        List of notebook cells"
   ]
  },
  {
   "cell_type": "code",
   "execution_count": null,
   "id": "060550ce",
   "metadata": {},
   "outputs": [],
   "source": [
    "    notebook_path = output_dir / f\"{python_path.stem}.ipynb\"\n",
    "    with open(notebook_path, 'w', encoding='utf-8') as f:\n",
    "        json.dump(notebook, f, indent=2, ensure_ascii=False)\n",
    "    \n",
    "    return str(notebook_path)\n",
    "\n",
    "def split_python_into_cells(python_content: str) -> List[Dict[str, Any]]:\n",
    "    cells = []\n",
    "    "
   ]
  },
  {
   "cell_type": "markdown",
   "id": "5e5a9a55",
   "metadata": {},
   "source": [
    "    # Split by lines"
   ]
  },
  {
   "cell_type": "code",
   "execution_count": null,
   "id": "4a26d184",
   "metadata": {},
   "outputs": [],
   "source": [
    "    lines = python_content.split('\\n')\n",
    "    \n",
    "    current_cell = []\n",
    "    current_cell_type = \"code\"\n",
    "    in_docstring = False\n",
    "    docstring_content = []\n",
    "    \n",
    "    for i, line in enumerate(lines):\n",
    "        stripped = line.strip()\n",
    "        "
   ]
  },
  {
   "cell_type": "markdown",
   "id": "b88a915f",
   "metadata": {},
   "source": [
    "' in line or \"'''\" in line:\n",
    "            if not in_docstring:\n",
    "                # Start of docstring\n",
    "                in_docstring = True\n",
    "                docstring_content = []\n",
    "                # Extract content after opening quotes"
   ]
  },
  {
   "cell_type": "markdown",
   "id": "aaf277f0",
   "metadata": {},
   "source": [
    "', 1)[1]"
   ]
  },
  {
   "cell_type": "markdown",
   "id": "0aaff5c3",
   "metadata": {},
   "source": [
    "', 1)[0])\n",
    "                        in_docstring = False\n",
    "                        # Add markdown cell for docstring\n",
    "                        if docstring_content:\n",
    "                            cells.append(create_markdown_cell(docstring_content))\n",
    "                        docstring_content = []\n",
    "                    else:\n",
    "                        docstring_content.append(content)"
   ]
  },
  {
   "cell_type": "markdown",
   "id": "5dde25a9",
   "metadata": {},
   "source": [
    "\", 1)[1]"
   ]
  },
  {
   "cell_type": "markdown",
   "id": "6f1b2c11",
   "metadata": {},
   "source": [
    "\", 1)[0])\n",
    "                        in_docstring = False\n",
    "                        # Add markdown cell for docstring\n",
    "                        if docstring_content:\n",
    "                            cells.append(create_markdown_cell(docstring_content))\n",
    "                        docstring_content = []\n",
    "                    else:\n",
    "                        docstring_content.append(content)\n",
    "            else:\n",
    "                # End of docstring\n",
    "                in_docstring = False\n",
    "                # Add markdown cell for docstring\n",
    "                if docstring_content:\n",
    "                    cells.append(create_markdown_cell(docstring_content))\n",
    "                docstring_content = []\n",
    "            continue\n",
    "        \n",
    "        if in_docstring:\n",
    "            docstring_content.append(line)\n",
    "            continue\n",
    "        \n",
    "        # Check for markdown cells (comments)\n",
    "        if is_markdown_line(line):\n",
    "            # If we have code in current cell, save it\n",
    "            if current_cell and current_cell_type == \"code\":\n",
    "                cells.append(create_code_cell(current_cell))\n",
    "                current_cell = []\n",
    "            \n",
    "            # Start or continue markdown cell\n",
    "            if current_cell_type != \"markdown\":\n",
    "                current_cell_type = \"markdown\"\n",
    "                current_cell = []\n",
    "            \n",
    "            current_cell.append(line)\n",
    "        else:\n",
    "            # If we have markdown in current cell, save it\n",
    "            if current_cell and current_cell_type == \"markdown\":\n",
    "                cells.append(create_markdown_cell(current_cell))\n",
    "                current_cell = []\n",
    "            \n",
    "            # Start or continue code cell\n",
    "            if current_cell_type != \"code\":\n",
    "                current_cell_type = \"code\"\n",
    "                current_cell = []\n",
    "            \n",
    "            current_cell.append(line)\n",
    "    \n",
    "    # Add the last cell\n",
    "    if current_cell:\n",
    "        if current_cell_type == \"markdown\":\n",
    "            cells.append(create_markdown_cell(current_cell))\n",
    "        else:\n",
    "            cells.append(create_code_cell(current_cell))\n",
    "    \n",
    "    return cells\n",
    "\n",
    "def is_markdown_line(line: str) -> bool:"
   ]
  },
  {
   "cell_type": "markdown",
   "id": "66a6a54f",
   "metadata": {},
   "source": [
    "        # Handle docstrings\n",
    "                        # Single line docstring\n",
    "                        # Single line docstring"
   ]
  },
  {
   "cell_type": "markdown",
   "id": "759d8c12",
   "metadata": {},
   "source": [
    "\n",
    "    stripped = line.strip()\n",
    "    \n",
    "    # Empty lines\n",
    "    if not stripped:\n",
    "        return False\n",
    "    \n",
    "    # Comments that look like documentation\n",
    "    if stripped.startswith('#'):\n",
    "        # Keep documentation comments, skip simple comments\n",
    "        if len(stripped) > 2 and not stripped.startswith('# '):\n",
    "            return True\n",
    "        if any(keyword in stripped.lower() for keyword in ['note:', 'warning:', 'todo:', 'fixme:', 'important:', 'example:', 'usage:']):\n",
    "            return True\n",
    "        # Keep section headers\n",
    "        if stripped.startswith('# ') or stripped.startswith('## ') or stripped.startswith('### '):\n",
    "            return True\n",
    "    \n",
    "    return False\n",
    "\n",
    "def create_code_cell(lines: List[str]) -> Dict[str, Any]:"
   ]
  },
  {
   "cell_type": "markdown",
   "id": "118da5c8",
   "metadata": {},
   "source": [
    "\n",
    "    # Remove trailing empty lines\n",
    "    while lines and not lines[-1].strip():\n",
    "        lines.pop()\n",
    "    \n",
    "    return {\n",
    "        \"cell_type\": \"code\",\n",
    "        \"execution_count\": None,\n",
    "        \"metadata\": {},\n",
    "        \"outputs\": [],\n",
    "        \"source\": lines\n",
    "    }\n",
    "\n",
    "def create_markdown_cell(lines: List[str]) -> Dict[str, Any]:"
   ]
  },
  {
   "cell_type": "markdown",
   "id": "c348eeb9",
   "metadata": {},
   "source": [
    "\n",
    "    # Convert Python comments to markdown\n",
    "    markdown_lines = []\n",
    "    for line in lines:\n",
    "        stripped = line.strip()\n",
    "        if stripped.startswith('#'):\n",
    "            # Convert comment to markdown\n",
    "            markdown_lines.append(stripped[1:].lstrip())\n",
    "        else:\n",
    "            markdown_lines.append(line)\n",
    "    \n",
    "    # Remove trailing empty lines\n",
    "    while markdown_lines and not markdown_lines[-1].strip():\n",
    "        markdown_lines.pop()\n",
    "    \n",
    "    return {\n",
    "        \"cell_type\": \"markdown\",\n",
    "        \"metadata\": {},\n",
    "        \"source\": markdown_lines\n",
    "    }\n",
    "\n",
    "def convert_repository_to_notebooks():"
   ]
  },
  {
   "cell_type": "code",
   "execution_count": null,
   "id": "4b923627",
   "metadata": {},
   "outputs": [],
   "source": [
    "    Determine if a line should be treated as markdown.\n",
    "    \n",
    "    Args:\n",
    "        line: The line to check\n",
    "    \n",
    "    Returns:\n",
    "        True if the line should be markdown\n",
    "    Create a code cell from lines.\n",
    "    \n",
    "    Args:\n",
    "        lines: The lines of code\n",
    "    \n",
    "    Returns:\n",
    "        Notebook cell dictionary\n",
    "    Create a markdown cell from lines.\n",
    "    \n",
    "    Args:\n",
    "        lines: The lines of markdown\n",
    "    \n",
    "    Returns:\n",
    "        Notebook cell dictionary\n",
    "    Convert all Python files in the repository to notebooks."
   ]
  }
 ],
 "metadata": {
  "kernelspec": {
   "display_name": "Python 3",
   "language": "python",
   "name": "python3"
  },
  "language_info": {
   "codemirror_mode": {
    "name": "ipython",
    "version": 3
   },
   "file_extension": ".py",
   "mimetype": "text/x-python",
   "name": "python",
   "nbconvert_exporter": "python",
   "pygments_lexer": "ipython3",
   "version": "3.10.0"
  }
 },
 "nbformat": 4,
 "nbformat_minor": 5
}
