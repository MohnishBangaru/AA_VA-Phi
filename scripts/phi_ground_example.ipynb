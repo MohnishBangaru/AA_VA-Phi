{
 "cells": [
  {
   "cell_type": "markdown",
   "id": "20adf54c",
   "metadata": {},
   "source": [
    "Example script demonstrating Phi Ground integration with AA_VA.\n",
    "\n",
    "This script shows how to use Phi Ground for generating touch actions\n",
    "instead of mouse actions, following the paper's methodology."
   ]
  },
  {
   "cell_type": "markdown",
   "id": "e0ad803c",
   "metadata": {},
   "source": [
    "#!/usr/bin/env python3"
   ]
  },
  {
   "cell_type": "code",
   "execution_count": null,
   "id": "58d51b02",
   "metadata": {},
   "outputs": [],
   "source": [
    "\n",
    "import asyncio\n",
    "import os\n",
    "import sys\n",
    "from pathlib import Path\n"
   ]
  },
  {
   "cell_type": "markdown",
   "id": "4f5b0a07",
   "metadata": {},
   "source": [
    "# Add the project root to the Python path"
   ]
  },
  {
   "cell_type": "markdown",
   "id": "6b9a2ef0",
   "metadata": {},
   "source": [
    "Example of using Phi Ground for action generation."
   ]
  },
  {
   "cell_type": "code",
   "execution_count": null,
   "id": "da693a8c",
   "metadata": {},
   "outputs": [],
   "source": [
    "project_root = Path(__file__).parent.parent\n",
    "sys.path.insert(0, str(project_root))\n",
    "\n",
    "from loguru import logger\n",
    "from src.ai.phi_ground import get_phi_ground_generator\n",
    "from src.vision.models import UIElement, BoundingBox\n",
    "from src.core.config import config\n",
    "\n",
    "\n",
    "async def example_phi_ground_usage():\n",
    "    \n",
    "    logger.info(\"=== Phi Ground Integration Example ===\")\n",
    "    "
   ]
  },
  {
   "cell_type": "markdown",
   "id": "65dfbb15",
   "metadata": {},
   "source": [
    "    # Check if Phi Ground is enabled"
   ]
  },
  {
   "cell_type": "code",
   "execution_count": null,
   "id": "39c2258a",
   "metadata": {},
   "outputs": [],
   "source": [
    "    if not config.use_phi_ground:\n",
    "        logger.warning(\"Phi Ground is disabled. Set USE_PHI_GROUND=true in your .env file\")\n",
    "        return\n",
    "    \n",
    "    try:"
   ]
  },
  {
   "cell_type": "markdown",
   "id": "3f0aeadb",
   "metadata": {},
   "source": [
    "        # Initialize Phi Ground"
   ]
  },
  {
   "cell_type": "code",
   "execution_count": null,
   "id": "d48fea32",
   "metadata": {},
   "outputs": [],
   "source": [
    "        logger.info(\"Initializing Phi Ground...\")\n",
    "        phi_ground = get_phi_ground_generator()\n",
    "        await phi_ground.initialize()\n",
    "        logger.info(\"✓ Phi Ground initialized successfully\")\n",
    "        "
   ]
  },
  {
   "cell_type": "markdown",
   "id": "473838f5",
   "metadata": {},
   "source": [
    "        # Create sample UI elements (simulating detected elements)"
   ]
  },
  {
   "cell_type": "code",
   "execution_count": null,
   "id": "6ee33808",
   "metadata": {},
   "outputs": [],
   "source": [
    "        sample_elements = [\n",
    "            UIElement(\n",
    "                bbox=BoundingBox(100, 200, 300, 250),\n",
    "                text=\"Login\",\n",
    "                confidence=0.9,\n",
    "                element_type=\"button\"\n",
    "            ),\n",
    "            UIElement(\n",
    "                bbox=BoundingBox(100, 300, 400, 350),\n",
    "                text=\"Email\",\n",
    "                confidence=0.8,\n",
    "                element_type=\"input\"\n",
    "            ),\n",
    "            UIElement(\n",
    "                bbox=BoundingBox(100, 400, 400, 450),\n",
    "                text=\"Password\",\n",
    "                confidence=0.8,\n",
    "                element_type=\"input\"\n",
    "            ),\n",
    "            UIElement(\n",
    "                bbox=BoundingBox(100, 500, 200, 550),\n",
    "                text=\"Forgot Password?\",\n",
    "                confidence=0.7,\n",
    "                element_type=\"link\"\n",
    "            )\n",
    "        ]\n",
    "        "
   ]
  },
  {
   "cell_type": "markdown",
   "id": "cc37217d",
   "metadata": {},
   "source": [
    "        # Sample task and action history"
   ]
  },
  {
   "cell_type": "code",
   "execution_count": null,
   "id": "1b526a79",
   "metadata": {},
   "outputs": [],
   "source": [
    "        task_description = \"Login to the application with test credentials\"\n",
    "        action_history = [\n",
    "            {\"type\": \"tap\", \"element_text\": \"Login\", \"x\": 200, \"y\": 225}\n",
    "        ]\n",
    "        \n",
    "        logger.info(f\"Task: {task_description}\")\n",
    "        logger.info(f\"Available elements: {[elem.text for elem in sample_elements]}\")\n",
    "        "
   ]
  },
  {
   "cell_type": "markdown",
   "id": "a4ec159a",
   "metadata": {},
   "source": [
    "        # Example 1: Generate action with screenshot (if available)"
   ]
  },
  {
   "cell_type": "code",
   "execution_count": null,
   "id": "eec87a24",
   "metadata": {},
   "outputs": [],
   "source": [
    "        screenshot_path = \"example_screenshot.png\"\n",
    "        if os.path.exists(screenshot_path):\n",
    "            logger.info(f\"\\n--- Example 1: With Screenshot ---\")\n",
    "            logger.info(f\"Using screenshot: {screenshot_path}\")\n",
    "            \n",
    "            action = await phi_ground.generate_touch_action(\n",
    "                screenshot_path, task_description, action_history, sample_elements\n",
    "            )\n",
    "            \n",
    "            if action:\n",
    "                logger.info(\"✓ Phi Ground generated action:\")\n",
    "                logger.info(f\"  Type: {action.get('type')}\")\n",
    "                logger.info(f\"  Reasoning: {action.get('reasoning')}\")\n",
    "                logger.info(f\"  Confidence: {action.get('confidence', 0.5):.2f}\")\n",
    "                \n",
    "                if action.get('type') == 'tap':\n",
    "                    logger.info(f\"  Coordinates: ({action.get('x')}, {action.get('y')})\")\n",
    "                elif action.get('type') == 'text_input':\n",
    "                    logger.info(f\"  Text: {action.get('text')}\")\n",
    "                    logger.info(f\"  Field: {action.get('field_hint')}\")\n",
    "                "
   ]
  },
  {
   "cell_type": "markdown",
   "id": "e52b8348",
   "metadata": {},
   "source": [
    "                # Validate coordinates"
   ]
  },
  {
   "cell_type": "code",
   "execution_count": null,
   "id": "daa89876",
   "metadata": {},
   "outputs": [],
   "source": [
    "                if phi_ground.validate_action_coordinates(action):\n",
    "                    logger.info(\"  ✓ Coordinates are valid\")\n",
    "                else:\n",
    "                    logger.warning(\"  ⚠ Coordinates are invalid\")\n",
    "            else:\n",
    "                logger.warning(\"⚠ Phi Ground did not generate an action\")\n",
    "        "
   ]
  },
  {
   "cell_type": "markdown",
   "id": "a2859ea1",
   "metadata": {},
   "source": [
    "        # Example 2: Generate action without screenshot (fallback)"
   ]
  },
  {
   "cell_type": "code",
   "execution_count": null,
   "id": "c40acfbe",
   "metadata": {},
   "outputs": [],
   "source": [
    "        logger.info(f\"\\n--- Example 2: Without Screenshot (Fallback) ---\")\n",
    "        logger.info(\"Testing fallback behavior when no screenshot is available\")\n",
    "        \n",
    "        action = await phi_ground.generate_touch_action(\n",
    "            \"\", task_description, action_history, sample_elements\n",
    "        )\n",
    "        \n",
    "        if action is None:\n",
    "            logger.info(\"✓ Correctly returned None when no screenshot available\")\n",
    "        else:\n",
    "            logger.warning(\"⚠ Generated action without screenshot (unexpected)\")\n",
    "        "
   ]
  },
  {
   "cell_type": "markdown",
   "id": "1810424e",
   "metadata": {},
   "source": [
    "        # Example 3: Different task scenarios"
   ]
  },
  {
   "cell_type": "code",
   "execution_count": null,
   "id": "dc8083d2",
   "metadata": {},
   "outputs": [],
   "source": [
    "        logger.info(f\"\\n--- Example 3: Different Task Scenarios ---\")\n",
    "        \n",
    "        scenarios = [\n",
    "            {\n",
    "                \"task\": \"Fill out the registration form\",\n",
    "                \"elements\": [\n",
    "                    UIElement(BoundingBox(100, 200, 400, 250), \"Full Name\", 0.9, \"input\"),\n",
    "                    UIElement(BoundingBox(100, 300, 400, 350), \"Email\", 0.9, \"input\"),\n",
    "                    UIElement(BoundingBox(100, 400, 400, 450), \"Password\", 0.9, \"input\"),\n",
    "                    UIElement(BoundingBox(100, 500, 300, 550), \"Register\", 0.9, \"button\")\n",
    "                ]\n",
    "            },\n",
    "            {\n",
    "                \"task\": \"Search for products\",\n",
    "                \"elements\": [\n",
    "                    UIElement(BoundingBox(50, 100, 350, 150), \"Search\", 0.8, \"input\"),\n",
    "                    UIElement(BoundingBox(400, 100, 450, 150), \"🔍\", 0.9, \"button\"),\n",
    "                    UIElement(BoundingBox(100, 200, 300, 250), \"Categories\", 0.7, \"button\")\n",
    "                ]\n",
    "            }\n",
    "        ]\n",
    "        \n",
    "        for i, scenario in enumerate(scenarios, 1):\n",
    "            logger.info(f\"\\nScenario {i}: {scenario['task']}\")\n",
    "            logger.info(f\"Elements: {[elem.text for elem in scenario['elements']]}\")\n",
    "            "
   ]
  },
  {
   "cell_type": "markdown",
   "id": "93699089",
   "metadata": {},
   "source": [
    "            # Simulate Phi Ground analysis (without actual screenshot)"
   ]
  },
  {
   "cell_type": "code",
   "execution_count": null,
   "id": "7d398bd1",
   "metadata": {},
   "outputs": [],
   "source": [
    "            logger.info(\"(Simulating Phi Ground analysis...)\")\n",
    "            "
   ]
  },
  {
   "cell_type": "markdown",
   "id": "f77f4662",
   "metadata": {},
   "source": [
    "            # In a real scenario, this would generate an action\n",
    "            # For demonstration, we'll show what the action might look like"
   ]
  },
  {
   "cell_type": "markdown",
   "id": "6f14ea6d",
   "metadata": {},
   "source": [
    "Example of using Phi Ground with the action determiner."
   ]
  },
  {
   "cell_type": "code",
   "execution_count": null,
   "id": "7ea289fa",
   "metadata": {},
   "outputs": [],
   "source": [
    "            if \"registration\" in scenario['task'].lower():\n",
    "                logger.info(\"Expected action: Fill 'Full Name' field with test data\")\n",
    "            elif \"search\" in scenario['task'].lower():\n",
    "                logger.info(\"Expected action: Tap 'Search' field and enter query\")\n",
    "        \n",
    "        logger.info(f\"\\n=== Example Completed Successfully ===\")\n",
    "        \n",
    "    except Exception as e:\n",
    "        logger.error(f\"❌ Example failed: {e}\")\n",
    "        raise\n",
    "\n",
    "\n",
    "async def example_integration_with_action_determiner():\n",
    "    \n",
    "    logger.info(\"\\n=== Integration with Action Determiner Example ===\")\n",
    "    \n",
    "    try:\n",
    "        from src.ai.action_determiner import get_enhanced_action_determiner\n",
    "        "
   ]
  },
  {
   "cell_type": "markdown",
   "id": "3da2b3b4",
   "metadata": {},
   "source": [
    "        # Get action determiner"
   ]
  },
  {
   "cell_type": "code",
   "execution_count": null,
   "id": "5717fa58",
   "metadata": {},
   "outputs": [],
   "source": [
    "        determiner = get_enhanced_action_determiner()\n",
    "        "
   ]
  },
  {
   "cell_type": "markdown",
   "id": "f4f3400d",
   "metadata": {},
   "source": [
    "        # Sample UI elements"
   ]
  },
  {
   "cell_type": "code",
   "execution_count": null,
   "id": "158d82b1",
   "metadata": {},
   "outputs": [],
   "source": [
    "        ui_elements = [\n",
    "            UIElement(BoundingBox(100, 200, 300, 250), \"Login\", 0.9, \"button\"),\n",
    "            UIElement(BoundingBox(100, 300, 400, 350), \"Email\", 0.8, \"input\"),\n",
    "            UIElement(BoundingBox(100, 400, 400, 450), \"Password\", 0.8, \"input\")\n",
    "        ]\n",
    "        \n",
    "        task_description = \"Login to the application\"\n",
    "        action_history = []\n",
    "        device_info = {\"screen_width\": 1080, \"screen_height\": 1920}\n",
    "        "
   ]
  },
  {
   "cell_type": "markdown",
   "id": "572afc4e",
   "metadata": {},
   "source": [
    "        # Determine next action (Phi Ground will be used if screenshot available)"
   ]
  },
  {
   "cell_type": "markdown",
   "id": "a5729bac",
   "metadata": {},
   "source": [
    "Main example function."
   ]
  },
  {
   "cell_type": "code",
   "execution_count": null,
   "id": "9ae748ee",
   "metadata": {},
   "outputs": [],
   "source": [
    "        screenshot_path = \"example_screenshot.png\" if os.path.exists(\"example_screenshot.png\") else None\n",
    "        \n",
    "        logger.info(\"Determining next action...\")\n",
    "        action = await determiner.determine_next_action(\n",
    "            ui_elements=ui_elements,\n",
    "            task_description=task_description,\n",
    "            action_history=action_history,\n",
    "            device_info=device_info,\n",
    "            screenshot_path=screenshot_path\n",
    "        )\n",
    "        \n",
    "        if action:\n",
    "            logger.info(\"✓ Action determined:\")\n",
    "            logger.info(f\"  Type: {action.get('type')}\")\n",
    "            logger.info(f\"  Reasoning: {action.get('reasoning')}\")\n",
    "            \n",
    "            if action.get('phi_ground_generated'):\n",
    "                logger.info(\"  ✓ Generated by Phi Ground\")\n",
    "            else:\n",
    "                logger.info(\"  ✓ Generated by traditional method\")\n",
    "        else:\n",
    "            logger.warning(\"⚠ No action determined\")\n",
    "        \n",
    "        logger.info(\"=== Integration Example Completed ===\")\n",
    "        \n",
    "    except Exception as e:\n",
    "        logger.error(f\"❌ Integration example failed: {e}\")\n",
    "        raise\n",
    "\n",
    "\n",
    "async def main():\n",
    "    logger.info(\"Starting Phi Ground integration examples...\")\n",
    "    "
   ]
  },
  {
   "cell_type": "markdown",
   "id": "6d3a6396",
   "metadata": {},
   "source": [
    "    # Example 1: Basic Phi Ground usage"
   ]
  },
  {
   "cell_type": "code",
   "execution_count": null,
   "id": "3b5a04ef",
   "metadata": {},
   "outputs": [],
   "source": [
    "    await example_phi_ground_usage()\n",
    "    "
   ]
  },
  {
   "cell_type": "markdown",
   "id": "326e6084",
   "metadata": {},
   "source": [
    "    # Example 2: Integration with action determiner"
   ]
  },
  {
   "cell_type": "code",
   "execution_count": null,
   "id": "37d83da9",
   "metadata": {},
   "outputs": [],
   "source": [
    "    await example_integration_with_action_determiner()\n",
    "    \n",
    "    logger.info(\"\\n🎉 All examples completed successfully!\")\n",
    "    logger.info(\"\\nTo use Phi Ground in your own scripts:\")\n",
    "    logger.info(\"1. Set USE_PHI_GROUND=true in your .env file\")\n",
    "    logger.info(\"2. Ensure you have sufficient RAM (8-16GB recommended)\")\n",
    "    logger.info(\"3. GPU recommended for better performance\")\n",
    "    logger.info(\"4. Pass screenshot_path to action determination methods\")\n",
    "\n",
    "\n",
    "if __name__ == \"__main__\":\n",
    "    asyncio.run(main())\n"
   ]
  }
 ],
 "metadata": {
  "kernelspec": {
   "display_name": "Python 3",
   "language": "python",
   "name": "python3"
  },
  "language_info": {
   "codemirror_mode": {
    "name": "ipython",
    "version": 3
   },
   "file_extension": ".py",
   "mimetype": "text/x-python",
   "name": "python",
   "nbconvert_exporter": "python",
   "pygments_lexer": "ipython3",
   "version": "3.10.0"
  }
 },
 "nbformat": 4,
 "nbformat_minor": 5
}
