{
 "cells": [
  {
   "cell_type": "markdown",
   "id": "ffc658bf",
   "metadata": {},
   "source": [
    "Universal APK Tester with DroidBot-GPT + VisionAI\n",
    "\n",
    "This script provides a universal testing solution for any APK:\n",
    "1. Accepts APK path and number of actions as command line arguments\n",
    "2. Installs and launches the APK\n",
    "3. Performs specified number of actions with screenshots\n",
    "4. Runs VisionAI analysis\n",
    "5. Generates comprehensive final report"
   ]
  },
  {
   "cell_type": "markdown",
   "id": "66c72572",
   "metadata": {},
   "source": [
    "#!/usr/bin/env python3"
   ]
  },
  {
   "cell_type": "code",
   "execution_count": null,
   "id": "01319974",
   "metadata": {},
   "outputs": [],
   "source": [
    "\n",
    "import json\n",
    "import os\n",
    "import random\n",
    "import re\n",
    "import subprocess\n",
    "import sys\n",
    "import time\n",
    "import hashlib  # For screenshot hashing to detect state changes\n",
    "from datetime import datetime\n",
    "from pathlib import Path\n",
    "from typing import Dict, List, Optional, Tuple\n"
   ]
  },
  {
   "cell_type": "markdown",
   "id": "363765ab",
   "metadata": {},
   "source": [
    "# Add the project root to the Python path"
   ]
  },
  {
   "cell_type": "markdown",
   "id": "a5e52f95",
   "metadata": {},
   "source": [
    "Universal APK testing with DroidBot-GPT + VisionAI integration."
   ]
  },
  {
   "cell_type": "markdown",
   "id": "8a76893c",
   "metadata": {},
   "source": [
    "Initialize Universal APK Tester.\n",
    "        \n",
    "        Parameters\n",
    "        ----------\n",
    "        apk_path : str\n",
    "            Path to the APK file\n",
    "        num_actions : int\n",
    "            Number of actions to perform\n",
    "        output_dir : str\n",
    "            Output directory for reports\n",
    "        screenshot_frequency : str\n",
    "            Screenshot frequency mode: \"minimal\", \"adaptive\", \"high\"\n",
    "        max_screenshots_per_action : int\n",
    "            Maximum screenshots per action (for adaptive mode)\n",
    "        generate_reports : bool\n",
    "            Whether to generate reports\n"
   ]
  },
  {
   "cell_type": "code",
   "execution_count": null,
   "id": "932ab34a",
   "metadata": {},
   "outputs": [],
   "source": [
    "project_root = Path(__file__).parent.parent\n",
    "sys.path.insert(0, str(project_root))\n",
    "\n",
    "from loguru import logger\n",
    "\n",
    "from scripts.final_report_generator import AppState, FinalReportGenerator, LLMEvent\n",
    "\n",
    "\n",
    "class UniversalAPKTester:\n",
    "    \n",
    "    def __init__(self, apk_path: str, num_actions: int = 10, output_dir: str = \"universal_reports\", \n",
    "                 screenshot_frequency: str = \"adaptive\", max_screenshots_per_action: int = 3,\n",
    "                 generate_reports: bool = True):\n",
    "        self.apk_path = Path(apk_path)\n",
    "        self.num_actions = num_actions\n",
    "        self.output_dir = Path(output_dir)\n",
    "        self.screenshot_frequency = screenshot_frequency\n",
    "        self.max_screenshots_per_action = max_screenshots_per_action\n",
    "        self.generate_reports = generate_reports\n",
    "        "
   ]
  },
  {
   "cell_type": "markdown",
   "id": "03bae6e2",
   "metadata": {},
   "source": [
    "        # Extract app information"
   ]
  },
  {
   "cell_type": "code",
   "execution_count": null,
   "id": "2ee859d4",
   "metadata": {},
   "outputs": [],
   "source": [
    "        self.package_name = self._extract_package_name()\n",
    "        self.app_name = self._extract_app_name()\n",
    "        "
   ]
  },
  {
   "cell_type": "markdown",
   "id": "c35b143e",
   "metadata": {},
   "source": [
    "        # Cache screen size for coordinate scaling"
   ]
  },
  {
   "cell_type": "code",
   "execution_count": null,
   "id": "7f73e709",
   "metadata": {},
   "outputs": [],
   "source": [
    "        self.screen_width, self.screen_height = self._get_screen_size()\n",
    "        "
   ]
  },
  {
   "cell_type": "markdown",
   "id": "a8a7ac19",
   "metadata": {},
   "source": [
    "        # Create output directories"
   ]
  },
  {
   "cell_type": "code",
   "execution_count": null,
   "id": "f45466ff",
   "metadata": {},
   "outputs": [],
   "source": [
    "        self.output_dir.mkdir(parents=True, exist_ok=True)\n",
    "        self.screenshots_dir = self.output_dir / \"screenshots\"\n",
    "        self.screenshots_dir.mkdir(exist_ok=True)\n",
    "        "
   ]
  },
  {
   "cell_type": "markdown",
   "id": "d47467bf",
   "metadata": {},
   "source": [
    "        # Initialize tracking"
   ]
  },
  {
   "cell_type": "code",
   "execution_count": null,
   "id": "6a5e9823",
   "metadata": {},
   "outputs": [],
   "source": [
    "        self.action_count = 0\n",
    "        self.current_state_id = \"state_0\"\n",
    "        self.app_states: Dict[str, AppState] = {}\n",
    "        self.llm_events: List[LLMEvent] = []\n",
    "        self.testing_completed = False"
   ]
  },
  {
   "cell_type": "markdown",
   "id": "2d086326",
   "metadata": {},
   "source": [
    "        # Track hash of last state screenshot to detect state changes"
   ]
  },
  {
   "cell_type": "code",
   "execution_count": null,
   "id": "e2aec4b5",
   "metadata": {},
   "outputs": [],
   "source": [
    "        self._last_screenshot_hash: str | None = None"
   ]
  },
  {
   "cell_type": "markdown",
   "id": "6adbdfa9",
   "metadata": {},
   "source": [
    "        # Track last screenshot path for Phi Ground"
   ]
  },
  {
   "cell_type": "code",
   "execution_count": null,
   "id": "7d630e06",
   "metadata": {},
   "outputs": [],
   "source": [
    "        self._last_screenshot_path: str | None = None"
   ]
  },
  {
   "cell_type": "markdown",
   "id": "19f3328a",
   "metadata": {},
   "source": [
    "        # Count only actions that cause a UI change"
   ]
  },
  {
   "cell_type": "code",
   "execution_count": null,
   "id": "46c60bb0",
   "metadata": {},
   "outputs": [],
   "source": [
    "        self.changed_action_count = 0\n",
    "        "
   ]
  },
  {
   "cell_type": "markdown",
   "id": "c72d6e90",
   "metadata": {},
   "source": [
    "        # Initialize VisionAI engine"
   ]
  },
  {
   "cell_type": "markdown",
   "id": "9ab3d607",
   "metadata": {},
   "source": [
    "Extract package name from APK filename."
   ]
  },
  {
   "cell_type": "code",
   "execution_count": null,
   "id": "984f3b76",
   "metadata": {},
   "outputs": [],
   "source": [
    "        try:\n",
    "            from src.vision.engine import VisionEngine\n",
    "            self.vision_engine = VisionEngine()\n",
    "            logger.info(\"✓ VisionAI engine initialized\")\n",
    "        except Exception as e:\n",
    "            logger.warning(f\"VisionAI engine initialization failed: {e}\")\n",
    "            self.vision_engine = None\n",
    "        \n",
    "        logger.info(\"Initialized Universal APK Tester\")\n",
    "        logger.info(f\"APK: {self.apk_path}\")\n",
    "        logger.info(f\"App: {self.app_name}\")\n",
    "        logger.info(f\"Package: {self.package_name}\")\n",
    "        logger.info(f\"Actions: {self.num_actions}\")\n",
    "        logger.info(f\"Output: {self.output_dir}\")\n",
    "        logger.info(f\"Screenshot Frequency: {self.screenshot_frequency}\")\n",
    "        logger.info(f\"Max Screenshots per Action: {self.max_screenshots_per_action}\")\n",
    "        logger.info(f\"Generate reports: {self.generate_reports}\")\n",
    "    \n",
    "    def _extract_package_name(self) -> str:\n",
    "        filename = self.apk_path.name\n",
    "        "
   ]
  },
  {
   "cell_type": "markdown",
   "id": "8d82c185",
   "metadata": {},
   "source": [
    "        # Common patterns"
   ]
  },
  {
   "cell_type": "code",
   "execution_count": null,
   "id": "11f20739",
   "metadata": {},
   "outputs": [],
   "source": [
    "        if filename.startswith(\"com.Dominos\"):\n",
    "            return \"com.Dominos\"\n",
    "        elif filename.startswith(\"com.yum.pizzahut\"):\n",
    "            return \"com.yum.pizzahut\"\n",
    "        elif filename.startswith(\"com.\"):"
   ]
  },
  {
   "cell_type": "markdown",
   "id": "e3435488",
   "metadata": {},
   "source": [
    "            # Extract first part before underscore"
   ]
  },
  {
   "cell_type": "code",
   "execution_count": null,
   "id": "a777a131",
   "metadata": {},
   "outputs": [],
   "source": [
    "            parts = filename.split('_')\n",
    "            if len(parts) > 0:\n",
    "                return parts[0]\n",
    "        "
   ]
  },
  {
   "cell_type": "markdown",
   "id": "5f089aeb",
   "metadata": {},
   "source": [
    "        # Fallback: use `aapt dump badging` if available to inspect APK metadata"
   ]
  },
  {
   "cell_type": "code",
   "execution_count": null,
   "id": "1e5841de",
   "metadata": {},
   "outputs": [],
   "source": [
    "        try:\n",
    "            import shlex, subprocess, re\n",
    "            aapt_cmd = \"aapt\""
   ]
  },
  {
   "cell_type": "markdown",
   "id": "93ceb3b7",
   "metadata": {},
   "source": [
    "            # If ANDROID_HOME is set, try build-tools path first"
   ]
  },
  {
   "cell_type": "code",
   "execution_count": null,
   "id": "c240fc7c",
   "metadata": {},
   "outputs": [],
   "source": [
    "            android_home = os.environ.get(\"ANDROID_HOME\") or os.environ.get(\"ANDROID_SDK_ROOT\")\n",
    "            if android_home:"
   ]
  },
  {
   "cell_type": "markdown",
   "id": "b7d034ef",
   "metadata": {},
   "source": [
    "                # pick latest build-tools dir"
   ]
  },
  {
   "cell_type": "markdown",
   "id": "55a4163e",
   "metadata": {},
   "source": [
    "Extract app name from APK filename."
   ]
  },
  {
   "cell_type": "code",
   "execution_count": null,
   "id": "1cca3619",
   "metadata": {},
   "outputs": [],
   "source": [
    "                build_tools = Path(android_home) / \"build-tools\"\n",
    "                if build_tools.exists():\n",
    "                    versions = sorted(build_tools.iterdir(), key=lambda p: p.name, reverse=True)\n",
    "                    for v in versions:\n",
    "                        candidate = v / \"aapt\"\n",
    "                        if candidate.exists():\n",
    "                            aapt_cmd = str(candidate)\n",
    "                            break\n",
    "\n",
    "            result = subprocess.run(\n",
    "                shlex.split(f\"{aapt_cmd} dump badging '{self.apk_path}'\"),\n",
    "                capture_output=True,\n",
    "                text=True,\n",
    "                check=False,\n",
    "            )\n",
    "            m = re.search(r\"package: name='([^']+)'\", result.stdout)\n",
    "            if m:\n",
    "                return m.group(1)\n",
    "        except Exception:\n",
    "            pass\n",
    "        \n",
    "        return \"unknown.package\"\n",
    "    \n",
    "    def _extract_app_name(self) -> str:\n",
    "        filename = self.apk_path.name\n",
    "        \n",
    "        if \"Dominos\" in filename:\n",
    "            return \"Domino's Pizza\"\n",
    "        elif \"pizzahut\" in filename:\n",
    "            return \"Pizza Hut\"\n",
    "        elif \"com.\" in filename:"
   ]
  },
  {
   "cell_type": "markdown",
   "id": "a060be75",
   "metadata": {},
   "source": [
    "            # Extract app name from package"
   ]
  },
  {
   "cell_type": "markdown",
   "id": "d41ed8e9",
   "metadata": {},
   "source": [
    "Check if all required components are available.\n",
    "        \n",
    "        Returns\n",
    "        -------\n",
    "        bool\n",
    "            True if environment is ready, False otherwise\n"
   ]
  },
  {
   "cell_type": "code",
   "execution_count": null,
   "id": "e91600c4",
   "metadata": {},
   "outputs": [],
   "source": [
    "            package = self._extract_package_name()\n",
    "            if package.startswith(\"com.\"):\n",
    "                parts = package.split('.')\n",
    "                if len(parts) > 1:\n",
    "                    return parts[-1].title()\n",
    "        \n",
    "        return \"Unknown App\"\n",
    "    \n",
    "    def check_environment(self) -> bool:\n",
    "        logger.info(\"Checking environment...\")\n",
    "        "
   ]
  },
  {
   "cell_type": "markdown",
   "id": "734a4c81",
   "metadata": {},
   "source": [
    "        # Check ADB"
   ]
  },
  {
   "cell_type": "code",
   "execution_count": null,
   "id": "588bd36c",
   "metadata": {},
   "outputs": [],
   "source": [
    "        try:\n",
    "            result = subprocess.run([\"adb\", \"version\"], capture_output=True, text=True, check=True)\n",
    "            logger.info(\"✓ ADB available\")\n",
    "        except (subprocess.CalledProcessError, FileNotFoundError):\n",
    "            logger.error(\"✗ ADB not found\")\n",
    "            return False\n",
    "        "
   ]
  },
  {
   "cell_type": "markdown",
   "id": "24ffa2b1",
   "metadata": {},
   "source": [
    "        # Check device connection"
   ]
  },
  {
   "cell_type": "code",
   "execution_count": null,
   "id": "b8f75673",
   "metadata": {},
   "outputs": [],
   "source": [
    "        try:\n",
    "            result = subprocess.run([\"adb\", \"devices\"], capture_output=True, text=True, check=True)\n",
    "            lines = result.stdout.strip().split('\\n')[1:]\n",
    "            connected_devices = [line for line in lines if line.strip() and 'device' in line]\n",
    "            \n",
    "            if connected_devices:\n",
    "                logger.info(f\"✓ Found {len(connected_devices)} connected device(s)\")\n",
    "                for device in connected_devices:\n",
    "                    logger.info(f\"  - {device}\")\n",
    "            else:\n",
    "                logger.error(\"✗ No devices connected\")\n",
    "                return False\n",
    "        except subprocess.CalledProcessError:\n",
    "            logger.error(\"✗ Failed to check devices\")\n",
    "            return False\n",
    "        "
   ]
  },
  {
   "cell_type": "markdown",
   "id": "c0a84355",
   "metadata": {},
   "source": [
    "        # Check APK file"
   ]
  },
  {
   "cell_type": "markdown",
   "id": "ac6d9a3d",
   "metadata": {},
   "source": [
    "Install the APK on the device.\n",
    "        \n",
    "        Returns\n",
    "        -------\n",
    "        bool\n",
    "            True if installation successful\n"
   ]
  },
  {
   "cell_type": "code",
   "execution_count": null,
   "id": "76c5f33d",
   "metadata": {},
   "outputs": [],
   "source": [
    "        if not self.apk_path.exists():\n",
    "            logger.error(f\"✗ APK not found: {self.apk_path}\")\n",
    "            return False\n",
    "        logger.info(\"✓ APK file exists\")\n",
    "        \n",
    "        return True\n",
    "    \n",
    "    def install_apk(self) -> bool:\n",
    "        logger.info(f\"Installing {self.app_name} APK...\")\n",
    "        \n",
    "        try:"
   ]
  },
  {
   "cell_type": "markdown",
   "id": "9d1aa25f",
   "metadata": {},
   "source": [
    "            # Uninstall if exists"
   ]
  },
  {
   "cell_type": "code",
   "execution_count": null,
   "id": "20fff748",
   "metadata": {},
   "outputs": [],
   "source": [
    "            subprocess.run(\n",
    "                [\"adb\", \"uninstall\", self.package_name],\n",
    "                capture_output=True,\n",
    "                check=False\n",
    "            )\n",
    "            "
   ]
  },
  {
   "cell_type": "markdown",
   "id": "06f4a35b",
   "metadata": {},
   "source": [
    "            # Install using ADB"
   ]
  },
  {
   "cell_type": "markdown",
   "id": "5f810f5f",
   "metadata": {},
   "source": [
    "Launch the app with proper popup handling and stabilization.\n",
    "        \n",
    "        Returns\n",
    "        -------\n",
    "        bool\n",
    "            True if launch successful\n"
   ]
  },
  {
   "cell_type": "code",
   "execution_count": null,
   "id": "7f15ffa7",
   "metadata": {},
   "outputs": [],
   "source": [
    "            result = subprocess.run(\n",
    "                [\"adb\", \"install\", \"-r\", str(self.apk_path)],\n",
    "                capture_output=True,\n",
    "                text=True,\n",
    "                check=True\n",
    "            )\n",
    "            \n",
    "            if \"Success\" in result.stdout:\n",
    "                logger.info(\"✓ APK installed successfully\")\n",
    "                return True\n",
    "            else:\n",
    "                logger.error(f\"Installation failed: {result.stdout}\")\n",
    "                return False\n",
    "                \n",
    "        except subprocess.CalledProcessError as e:\n",
    "            logger.error(f\"Installation error: {e}\")\n",
    "            return False\n",
    "    \n",
    "    def launch_app(self) -> bool:\n",
    "        logger.info(f\"Launching {self.app_name}...\")\n",
    "        \n",
    "        try:"
   ]
  },
  {
   "cell_type": "markdown",
   "id": "ab15e9c4",
   "metadata": {},
   "source": [
    "            # Step 1: Launch the app"
   ]
  },
  {
   "cell_type": "code",
   "execution_count": null,
   "id": "67b9234d",
   "metadata": {},
   "outputs": [],
   "source": [
    "            logger.info(\"Step 1: Launching app...\")\n",
    "            result = subprocess.run(\n",
    "                [\"adb\", \"shell\", \"monkey\", \"-p\", self.package_name, \"-c\", \"android.intent.category.LAUNCHER\", \"1\"],\n",
    "                capture_output=True,\n",
    "                text=True,\n",
    "                check=True\n",
    "            )\n",
    "            \n",
    "            logger.info(\"✓ App launched successfully\")\n",
    "            "
   ]
  },
  {
   "cell_type": "markdown",
   "id": "643ad92d",
   "metadata": {},
   "source": [
    "            # Step 2: Wait for initial load and handle popups"
   ]
  },
  {
   "cell_type": "code",
   "execution_count": null,
   "id": "37a8f4cf",
   "metadata": {},
   "outputs": [],
   "source": [
    "            logger.info(\"Step 2: Waiting for app to stabilize and handling popups...\")\n",
    "            time.sleep(3)  # Initial wait for app to start loading\n",
    "            "
   ]
  },
  {
   "cell_type": "markdown",
   "id": "6cd52db6",
   "metadata": {},
   "source": [
    "            # Step 3: Handle common popups during launch"
   ]
  },
  {
   "cell_type": "code",
   "execution_count": null,
   "id": "94204811",
   "metadata": {},
   "outputs": [],
   "source": [
    "            logger.info(\"Step 3: Handling launch popups...\")\n",
    "            self._handle_launch_popups()\n",
    "            "
   ]
  },
  {
   "cell_type": "markdown",
   "id": "6b516370",
   "metadata": {},
   "source": [
    "            # Step 4: Wait for app to fully stabilize"
   ]
  },
  {
   "cell_type": "code",
   "execution_count": null,
   "id": "bf65628c",
   "metadata": {},
   "outputs": [],
   "source": [
    "            logger.info(\"Step 4: Waiting for app to fully stabilize...\")\n",
    "            time.sleep(3)  # Additional wait for app to fully load\n",
    "            "
   ]
  },
  {
   "cell_type": "markdown",
   "id": "80ca6dc1",
   "metadata": {},
   "source": [
    "            # Step 5: Verify app is in foreground (but don't fail if it's not yet)"
   ]
  },
  {
   "cell_type": "markdown",
   "id": "66dc9786",
   "metadata": {},
   "source": [
    "Handle common popups that appear during app launch."
   ]
  },
  {
   "cell_type": "code",
   "execution_count": null,
   "id": "f4bbbeec",
   "metadata": {},
   "outputs": [],
   "source": [
    "            logger.info(\"Step 5: Verifying app launch...\")\n",
    "            if self.check_app_foreground():\n",
    "                logger.info(\"✓ App is in foreground after launch\")\n",
    "            else:\n",
    "                logger.info(\"App launched but not yet in foreground, this is normal during launch sequence\")\n",
    "            \n",
    "            return True\n",
    "            \n",
    "        except subprocess.CalledProcessError as e:\n",
    "            logger.error(f\"Launch error: {e}\")\n",
    "            return False\n",
    "    \n",
    "    def _handle_launch_popups(self) -> None:\n",
    "        logger.info(\"Handling launch popups...\")\n",
    "        "
   ]
  },
  {
   "cell_type": "markdown",
   "id": "d31ce335",
   "metadata": {},
   "source": [
    "        # Common popup coordinates and actions"
   ]
  },
  {
   "cell_type": "code",
   "execution_count": null,
   "id": "1a430a10",
   "metadata": {},
   "outputs": [],
   "source": [
    "        popup_actions = ["
   ]
  },
  {
   "cell_type": "markdown",
   "id": "8887fff3",
   "metadata": {},
   "source": [
    "            # Google Play Services popups"
   ]
  },
  {
   "cell_type": "code",
   "execution_count": null,
   "id": "3c940198",
   "metadata": {},
   "outputs": [],
   "source": [
    "            {\"action\": \"tap\", \"coords\": (672, 1200)},  # Common \"OK\" button location\n",
    "            {\"action\": \"tap\", \"coords\": (672, 1400)},  # Common \"Allow\" button location\n",
    "            {\"action\": \"tap\", \"coords\": (672, 1600)},  # Common \"Continue\" button location\n",
    "            "
   ]
  },
  {
   "cell_type": "markdown",
   "id": "144cd501",
   "metadata": {},
   "source": [
    "            # App-specific popups"
   ]
  },
  {
   "cell_type": "code",
   "execution_count": null,
   "id": "fc03b921",
   "metadata": {},
   "outputs": [],
   "source": [
    "            {\"action\": \"tap\", \"coords\": (672, 1000)},  # Common \"Get Started\" location\n",
    "            {\"action\": \"tap\", \"coords\": (672, 1100)},  # Common \"Skip\" button location\n",
    "            {\"action\": \"tap\", \"coords\": (672, 1300)},  # Common \"Next\" button location\n",
    "            "
   ]
  },
  {
   "cell_type": "markdown",
   "id": "26cdcc81",
   "metadata": {},
   "source": [
    "            # \"Turn On\" and \"Dismiss\" buttons"
   ]
  },
  {
   "cell_type": "code",
   "execution_count": null,
   "id": "ddd87a73",
   "metadata": {},
   "outputs": [],
   "source": [
    "            {\"action\": \"tap\", \"coords\": (672, 1500)},  # \"Turn On\" button\n",
    "            {\"action\": \"tap\", \"coords\": (672, 1700)},  # \"Dismiss\" button\n",
    "            "
   ]
  },
  {
   "cell_type": "markdown",
   "id": "711c47c6",
   "metadata": {},
   "source": [
    "            # Back button to dismiss any remaining dialogs"
   ]
  },
  {
   "cell_type": "markdown",
   "id": "32cbd527",
   "metadata": {},
   "source": [
    "Keep the app in foreground during testing with improved reliability.\n",
    "        \n",
    "        Returns\n",
    "        -------\n",
    "        bool\n",
    "            True if successful\n"
   ]
  },
  {
   "cell_type": "code",
   "execution_count": null,
   "id": "6cba7fc9",
   "metadata": {},
   "outputs": [],
   "source": [
    "            {\"action\": \"keyevent\", \"key\": \"4\"},  # Back button\n",
    "        ]\n",
    "        \n",
    "        for i, popup_action in enumerate(popup_actions):\n",
    "            try:\n",
    "                if popup_action[\"action\"] == \"tap\":\n",
    "                    self._tap(*popup_action[\"coords\"])\n",
    "                elif popup_action[\"action\"] == \"keyevent\":\n",
    "                    self._tap(*popup_action[\"key\"])\n",
    "                \n",
    "                time.sleep(0.5)  # Brief pause between popup actions\n",
    "                \n",
    "            except Exception as e:\n",
    "                logger.debug(f\"Popup action {i+1} failed: {e}\")\n",
    "        \n",
    "        logger.info(\"✓ Launch popup handling completed\")\n",
    "    \n",
    "    def keep_app_foreground(self) -> bool:\n",
    "        logger.info(f\"Keeping {self.app_name} in foreground...\")\n",
    "        \n",
    "        try:"
   ]
  },
  {
   "cell_type": "markdown",
   "id": "43db0de5",
   "metadata": {},
   "source": [
    "            # Method 1: Use monkey to launch app (most reliable)"
   ]
  },
  {
   "cell_type": "code",
   "execution_count": null,
   "id": "4cc01cf1",
   "metadata": {},
   "outputs": [],
   "source": [
    "            logger.info(\"Method 1: Using monkey to launch app...\")\n",
    "            result1 = subprocess.run(\n",
    "                [\"adb\", \"shell\", \"monkey\", \"-p\", self.package_name, \"-c\", \"android.intent.category.LAUNCHER\", \"1\"],\n",
    "                capture_output=True,\n",
    "                text=True,\n",
    "                check=False\n",
    "            )\n",
    "            time.sleep(1)\n",
    "            \n",
    "            if self.check_app_foreground():\n",
    "                logger.info(\"✓ App brought to foreground with monkey\")\n",
    "                return True\n",
    "            "
   ]
  },
  {
   "cell_type": "markdown",
   "id": "88d33519",
   "metadata": {},
   "source": [
    "            # Method 2: Use am start with launcher intent"
   ]
  },
  {
   "cell_type": "code",
   "execution_count": null,
   "id": "ed1f630e",
   "metadata": {},
   "outputs": [],
   "source": [
    "            logger.info(\"Method 2: Using am start with launcher intent...\")\n",
    "            result2 = subprocess.run(\n",
    "                [\"adb\", \"shell\", \"am\", \"start\", \"-W\", \"-a\", \"android.intent.action.MAIN\", \n",
    "                 \"-c\", \"android.intent.category.LAUNCHER\", \"-n\", f\"{self.package_name}/.MainActivity\"],\n",
    "                capture_output=True,\n",
    "                text=True,\n",
    "                check=False\n",
    "            )\n",
    "            time.sleep(1)\n",
    "            \n",
    "            if self.check_app_foreground():\n",
    "                logger.info(\"✓ App brought to foreground with am start\")\n",
    "                return True\n",
    "            "
   ]
  },
  {
   "cell_type": "markdown",
   "id": "ad3108b8",
   "metadata": {},
   "source": [
    "            # Method 3: Try to find the correct activity name"
   ]
  },
  {
   "cell_type": "code",
   "execution_count": null,
   "id": "f6bb20a2",
   "metadata": {},
   "outputs": [],
   "source": [
    "            logger.info(\"Method 3: Finding correct activity name...\")\n",
    "            result3 = subprocess.run(\n",
    "                [\"adb\", \"shell\", \"cmd\", \"package\", \"resolve-activity\", \"--brief\", self.package_name],\n",
    "                capture_output=True,\n",
    "                text=True,\n",
    "                check=False\n",
    "            )\n",
    "            \n",
    "            if result3.stdout and \"activity\" in result3.stdout:"
   ]
  },
  {
   "cell_type": "markdown",
   "id": "fb0d82a1",
   "metadata": {},
   "source": [
    "                # Extract activity name from output"
   ]
  },
  {
   "cell_type": "code",
   "execution_count": null,
   "id": "3b5f5c8f",
   "metadata": {},
   "outputs": [],
   "source": [
    "                lines = result3.stdout.strip().split('\\n')\n",
    "                for line in lines:\n",
    "                    if self.package_name in line and \"activity\" in line:\n",
    "                        activity_name = line.split()[-1]\n",
    "                        logger.info(f\"Found activity: {activity_name}\")\n",
    "                        \n",
    "                        result4 = subprocess.run(\n",
    "                            [\"adb\", \"shell\", \"am\", \"start\", \"-W\", \"-n\", activity_name],\n",
    "                            capture_output=True,\n",
    "                            text=True,\n",
    "                            check=False\n",
    "                        )\n",
    "                        time.sleep(1)\n",
    "                        \n",
    "                        if self.check_app_foreground():\n",
    "                            logger.info(\"✓ App brought to foreground with correct activity\")\n",
    "                            return True\n",
    "                        break\n",
    "            "
   ]
  },
  {
   "cell_type": "markdown",
   "id": "e9d5f4dc",
   "metadata": {},
   "source": [
    "            # Method 4: Force bring to front using input"
   ]
  },
  {
   "cell_type": "code",
   "execution_count": null,
   "id": "cda5e79e",
   "metadata": {},
   "outputs": [],
   "source": [
    "            logger.info(\"Method 4: Using input to bring app to front...\")\n",
    "            subprocess.run(\n",
    "                [\"adb\", \"shell\", \"input\", \"keyevent\", \"KEYCODE_APP_SWITCH\"],\n",
    "                capture_output=True,\n",
    "                check=False\n",
    "            )\n",
    "            time.sleep(0.5)\n",
    "            "
   ]
  },
  {
   "cell_type": "markdown",
   "id": "c1d8043c",
   "metadata": {},
   "source": [
    "            # Try to tap on the app in recent apps"
   ]
  },
  {
   "cell_type": "code",
   "execution_count": null,
   "id": "c78519a2",
   "metadata": {},
   "outputs": [],
   "source": [
    "            self._tap(540, 1000)  # Coordinate tap (scaled)\n",
    "            time.sleep(1)\n",
    "            \n",
    "            if self.check_app_foreground():\n",
    "                logger.info(\"✓ App brought to foreground with input method\")\n",
    "                return True\n",
    "            "
   ]
  },
  {
   "cell_type": "markdown",
   "id": "6a04eafc",
   "metadata": {},
   "source": [
    "            # Method 5: Last resort - restart the app completely"
   ]
  },
  {
   "cell_type": "markdown",
   "id": "01502c27",
   "metadata": {},
   "source": [
    "Relaunch the app if it's not in foreground.\n",
    "        \n",
    "        Returns\n",
    "        -------\n",
    "        bool\n",
    "            True if app was relaunched or is already in foreground\n"
   ]
  },
  {
   "cell_type": "code",
   "execution_count": null,
   "id": "45cbc52d",
   "metadata": {},
   "outputs": [],
   "source": [
    "            logger.info(\"Method 5: Restarting app completely...\")\n",
    "            subprocess.run(\n",
    "                [\"adb\", \"shell\", \"am\", \"force-stop\", self.package_name],\n",
    "                capture_output=True,\n",
    "                check=False\n",
    "            )\n",
    "            time.sleep(1)\n",
    "            \n",
    "            subprocess.run(\n",
    "                [\"adb\", \"shell\", \"monkey\", \"-p\", self.package_name, \"-c\", \"android.intent.category.LAUNCHER\", \"1\"],\n",
    "                capture_output=True,\n",
    "                check=False\n",
    "            )\n",
    "            time.sleep(2)\n",
    "            \n",
    "            if self.check_app_foreground():\n",
    "                logger.info(\"✓ App restarted and brought to foreground\")\n",
    "                return True\n",
    "            \n",
    "            logger.warning(\"All foreground methods failed\")\n",
    "            return False\n",
    "            \n",
    "        except Exception as e:\n",
    "            logger.warning(f\"Foreground operation failed: {e}\")\n",
    "            return False\n",
    "    \n",
    "    def relaunch_app_if_needed(self) -> bool:\n",
    "        logger.info(\"Checking if app needs to be relaunched...\")\n",
    "        "
   ]
  },
  {
   "cell_type": "markdown",
   "id": "cb3aebc6",
   "metadata": {},
   "source": [
    "        # Check if app is in foreground"
   ]
  },
  {
   "cell_type": "code",
   "execution_count": null,
   "id": "a4ed3d77",
   "metadata": {},
   "outputs": [],
   "source": [
    "        if self.check_app_foreground():\n",
    "            logger.info(\"✓ App is already in foreground\")\n",
    "            return True\n",
    "        "
   ]
  },
  {
   "cell_type": "markdown",
   "id": "972a7436",
   "metadata": {},
   "source": [
    "        # Check if app is running at all"
   ]
  },
  {
   "cell_type": "markdown",
   "id": "00a4ad8c",
   "metadata": {},
   "source": [
    "Ensure the app is active and in foreground with automatic relaunch.\n",
    "        \n",
    "        Parameters\n",
    "        ----------\n",
    "        max_retries : int\n",
    "            Maximum number of relaunch attempts\n",
    "            \n",
    "        Returns\n",
    "        -------\n",
    "        bool\n",
    "            True if app is active and in foreground\n"
   ]
  },
  {
   "cell_type": "code",
   "execution_count": null,
   "id": "e88043f2",
   "metadata": {},
   "outputs": [],
   "source": [
    "        try:\n",
    "            result = subprocess.run(\n",
    "                [\"adb\", \"shell\", \"ps\", \"|\", \"grep\", self.package_name],\n",
    "                capture_output=True,\n",
    "                text=True,\n",
    "                shell=True,\n",
    "                check=False\n",
    "            )\n",
    "            \n",
    "            if self.package_name in result.stdout:\n",
    "                logger.info(\"App is running but not in foreground, attempting to bring to front...\")\n",
    "                return self.keep_app_foreground()\n",
    "            else:\n",
    "                logger.info(\"App is not running, relaunching...\")\n",
    "                return self.launch_app()\n",
    "                \n",
    "        except Exception as e:\n",
    "            logger.warning(f\"Error checking app status: {e}\")\n",
    "            logger.info(\"Attempting to relaunch app...\")\n",
    "            return self.launch_app()\n",
    "    \n",
    "    def ensure_app_active(self, max_retries: int = 3) -> bool:\n",
    "        for attempt in range(max_retries):\n",
    "            logger.info(f\"Ensuring app is active (attempt {attempt + 1}/{max_retries})...\")\n",
    "            "
   ]
  },
  {
   "cell_type": "markdown",
   "id": "58bcb5f0",
   "metadata": {},
   "source": [
    "            # Try to bring app to foreground or relaunch if needed"
   ]
  },
  {
   "cell_type": "code",
   "execution_count": null,
   "id": "dc061f2b",
   "metadata": {},
   "outputs": [],
   "source": [
    "            if self.relaunch_app_if_needed():"
   ]
  },
  {
   "cell_type": "markdown",
   "id": "8546013e",
   "metadata": {},
   "source": [
    "                # Double-check that app is actually in foreground"
   ]
  },
  {
   "cell_type": "code",
   "execution_count": null,
   "id": "1742e0db",
   "metadata": {},
   "outputs": [],
   "source": [
    "                if self.check_app_foreground():\n",
    "                    logger.info(\"✓ App is active and in foreground\")\n",
    "                    return True\n",
    "                else:\n",
    "                    logger.warning(f\"App relaunch succeeded but not in foreground (attempt {attempt + 1})\")\n",
    "            else:\n",
    "                logger.warning(f\"App relaunch failed (attempt {attempt + 1})\")\n",
    "            "
   ]
  },
  {
   "cell_type": "markdown",
   "id": "2f7b70e7",
   "metadata": {},
   "source": [
    "            # Wait before retry"
   ]
  },
  {
   "cell_type": "markdown",
   "id": "0d3d591a",
   "metadata": {},
   "source": [
    "Enhanced foreground recovery with single strategy - direct app launch."
   ]
  },
  {
   "cell_type": "code",
   "execution_count": null,
   "id": "7df6ad70",
   "metadata": {},
   "outputs": [],
   "source": [
    "            if attempt < max_retries - 1:\n",
    "                time.sleep(2)\n",
    "        \n",
    "        logger.error(\"Failed to ensure app is active after all attempts\")\n",
    "        return False\n",
    "    \n",
    "    def enhanced_foreground_recovery(self) -> bool:\n",
    "        logger.info(\"Running enhanced foreground recovery with single strategy...\")\n",
    "        "
   ]
  },
  {
   "cell_type": "markdown",
   "id": "fed6adeb",
   "metadata": {},
   "source": [
    "        # Check current foreground app for debugging"
   ]
  },
  {
   "cell_type": "code",
   "execution_count": null,
   "id": "b4d7c9b9",
   "metadata": {},
   "outputs": [],
   "source": [
    "        current_app = self.get_current_foreground_app()\n",
    "        logger.info(f\"Current foreground app: {current_app}\")\n",
    "        logger.info(f\"Target app: {self.package_name}\")\n",
    "        "
   ]
  },
  {
   "cell_type": "markdown",
   "id": "6f907f71",
   "metadata": {},
   "source": [
    "        # First, try to handle popups specifically"
   ]
  },
  {
   "cell_type": "code",
   "execution_count": null,
   "id": "8ed9fed2",
   "metadata": {},
   "outputs": [],
   "source": [
    "        if self._handle_popups():\n",
    "            time.sleep(2)\n",
    "            if self.check_app_foreground():\n",
    "                logger.info(\"✓ Popup handling succeeded\")\n",
    "                return True\n",
    "            else:\n",
    "                logger.warning(\"Popup handling completed but app still not in foreground\")\n",
    "        "
   ]
  },
  {
   "cell_type": "markdown",
   "id": "8f9975ae",
   "metadata": {},
   "source": [
    "        # Single recovery strategy: Direct app launch"
   ]
  },
  {
   "cell_type": "code",
   "execution_count": null,
   "id": "e4687f56",
   "metadata": {},
   "outputs": [],
   "source": [
    "        logger.info(\"Trying single recovery strategy: Direct app launch...\")\n",
    "        try:"
   ]
  },
  {
   "cell_type": "markdown",
   "id": "98a2b20f",
   "metadata": {},
   "source": [
    "            # Use the direct app launch method"
   ]
  },
  {
   "cell_type": "markdown",
   "id": "50170184",
   "metadata": {},
   "source": [
    "Get the current foreground app package name."
   ]
  },
  {
   "cell_type": "code",
   "execution_count": null,
   "id": "6c628b79",
   "metadata": {},
   "outputs": [],
   "source": [
    "            success = self._try_direct_app_launch_recovery()\n",
    "            \n",
    "            if success:\n",
    "                time.sleep(1)  # Reduced delay for faster recovery\n",
    "                if self.check_app_foreground():\n",
    "                    logger.info(\"✓ Single recovery strategy succeeded\")\n",
    "                    return True\n",
    "                else:\n",
    "                    current_app = self.get_current_foreground_app()\n",
    "                    logger.warning(f\"Single recovery strategy completed but app still not in foreground. Current app: {current_app}\")\n",
    "            else:\n",
    "                logger.warning(\"Single recovery strategy failed\")\n",
    "                \n",
    "        except Exception as e:\n",
    "            logger.warning(f\"Single recovery strategy failed with error: {e}\")\n",
    "        \n",
    "        logger.error(\"❌ Single recovery strategy failed\")\n",
    "        return False\n",
    "    \n",
    "    def get_current_foreground_app(self) -> str:\n",
    "        try:"
   ]
  },
  {
   "cell_type": "markdown",
   "id": "3770c203",
   "metadata": {},
   "source": [
    "            # Method 1: Check mResumedActivity"
   ]
  },
  {
   "cell_type": "code",
   "execution_count": null,
   "id": "3a09a99b",
   "metadata": {},
   "outputs": [],
   "source": [
    "            result = subprocess.run(\n",
    "                [\"adb\", \"shell\", \"dumpsys\", \"activity\", \"activities\"],\n",
    "                capture_output=True,\n",
    "                text=True,\n",
    "                check=False\n",
    "            )\n",
    "            \n",
    "            if result.returncode == 0:\n",
    "                for line in result.stdout.split('\\n'):\n",
    "                    if 'mResumedActivity' in line:"
   ]
  },
  {
   "cell_type": "markdown",
   "id": "985dd671",
   "metadata": {},
   "source": [
    "                        # Extract package name from the line"
   ]
  },
  {
   "cell_type": "code",
   "execution_count": null,
   "id": "c35fe44f",
   "metadata": {},
   "outputs": [],
   "source": [
    "                        import re\n",
    "                        match = re.search(r'(\\S+)/\\S+', line)\n",
    "                        if match:\n",
    "                            return match.group(1)\n",
    "            "
   ]
  },
  {
   "cell_type": "markdown",
   "id": "9b055523",
   "metadata": {},
   "source": [
    "            # Method 2: Check mCurrentFocus"
   ]
  },
  {
   "cell_type": "markdown",
   "id": "dc3fd10d",
   "metadata": {},
   "source": [
    "Handle common popup scenarios for apps with intelligent classification."
   ]
  },
  {
   "cell_type": "code",
   "execution_count": null,
   "id": "86687191",
   "metadata": {},
   "outputs": [],
   "source": [
    "            result = subprocess.run(\n",
    "                [\"adb\", \"shell\", \"dumpsys\", \"window\", \"windows\"],\n",
    "                capture_output=True,\n",
    "                text=True,\n",
    "                check=False\n",
    "            )\n",
    "            \n",
    "            if result.returncode == 0:\n",
    "                for line in result.stdout.split('\\n'):\n",
    "                    if 'mCurrentFocus' in line:\n",
    "                        import re\n",
    "                        match = re.search(r'(\\S+)/\\S+', line)\n",
    "                        if match:\n",
    "                            return match.group(1)\n",
    "            \n",
    "            return \"unknown\"\n",
    "            \n",
    "        except Exception as e:\n",
    "            logger.error(f\"Error getting current foreground app: {e}\")\n",
    "            return \"unknown\"\n",
    "    \n",
    "    def _handle_popups(self) -> bool:\n",
    "        logger.info(\"Handling popup scenarios with intelligent classification...\")\n",
    "        "
   ]
  },
  {
   "cell_type": "markdown",
   "id": "a914a524",
   "metadata": {},
   "source": [
    "        # External popup indicators (system dialogs, permissions) - should be dismissed"
   ]
  },
  {
   "cell_type": "code",
   "execution_count": null,
   "id": "8fd5cf95",
   "metadata": {},
   "outputs": [],
   "source": [
    "        external_popup_indicators = {\n",
    "            \"system\": [\"google play\", \"android\", \"system\", \"settings\", \"permission\"],\n",
    "            \"permission\": [\"allow\", \"deny\", \"permission\", \"access\", \"grant\"],\n",
    "            \"notification\": [\"notification\", \"alert\", \"warning\", \"error\", \"update\"],\n",
    "            \"external_app\": [\"chrome\", \"browser\", \"gmail\", \"maps\", \"play store\"]\n",
    "        }\n",
    "        "
   ]
  },
  {
   "cell_type": "markdown",
   "id": "02254ac6",
   "metadata": {},
   "source": [
    "        # Internal popup indicators (menu cards, navigation) - should be handled through decision-making"
   ]
  },
  {
   "cell_type": "code",
   "execution_count": null,
   "id": "d43da756",
   "metadata": {},
   "outputs": [],
   "source": [
    "        internal_popup_indicators = {\n",
    "            \"menu\": [\"menu\", \"options\", \"more\", \"settings\", \"profile\", \"account\"],\n",
    "            \"navigation\": [\"back\", \"forward\", \"home\", \"tab\", \"page\", \"section\"],\n",
    "            \"selection\": [\"select\", \"choose\", \"pick\", \"option\", \"item\", \"card\"],\n",
    "            \"app_specific\": [\"order\", \"cart\", \"checkout\", \"payment\", \"delivery\", \"tracking\"]\n",
    "        }\n",
    "        "
   ]
  },
  {
   "cell_type": "markdown",
   "id": "5cd9dbfe",
   "metadata": {},
   "source": [
    "        # Menu card specific patterns"
   ]
  },
  {
   "cell_type": "code",
   "execution_count": null,
   "id": "d532a942",
   "metadata": {},
   "outputs": [],
   "source": [
    "        menu_card_patterns = [\n",
    "            r\"menu.*card\",\n",
    "            r\"card.*menu\", \n",
    "            r\"option.*card\",\n",
    "            r\"item.*card\",\n",
    "            r\"selection.*card\",\n",
    "            r\"choice.*card\"\n",
    "        ]\n",
    "        "
   ]
  },
  {
   "cell_type": "markdown",
   "id": "5410694b",
   "metadata": {},
   "source": [
    "        # Navigation element patterns"
   ]
  },
  {
   "cell_type": "code",
   "execution_count": null,
   "id": "5da1f635",
   "metadata": {},
   "outputs": [],
   "source": [
    "        navigation_patterns = [\n",
    "            r\"back.*button\",\n",
    "            r\"forward.*button\", \n",
    "            r\"home.*button\",\n",
    "            r\"tab.*bar\",\n",
    "            r\"navigation.*menu\",\n",
    "            r\"breadcrumb\"\n",
    "        ]\n",
    "        "
   ]
  },
  {
   "cell_type": "markdown",
   "id": "a36916cb",
   "metadata": {},
   "source": [
    "        # System popup patterns"
   ]
  },
  {
   "cell_type": "markdown",
   "id": "7a6196f5",
   "metadata": {},
   "source": [
    "Classify popup element as internal or external."
   ]
  },
  {
   "cell_type": "code",
   "execution_count": null,
   "id": "57057f5c",
   "metadata": {},
   "outputs": [],
   "source": [
    "        system_popup_patterns = [\n",
    "            r\"google.*play\",\n",
    "            r\"android.*system\",\n",
    "            r\"permission.*dialog\",\n",
    "            r\"system.*alert\",\n",
    "            r\"external.*app\"\n",
    "        ]\n",
    "        \n",
    "        def classify_popup_element(text: str, element_type: str) -> str:\n",
    "            text_lower = text.lower()\n",
    "            "
   ]
  },
  {
   "cell_type": "markdown",
   "id": "8347f795",
   "metadata": {},
   "source": [
    "            # Check for menu card patterns"
   ]
  },
  {
   "cell_type": "code",
   "execution_count": null,
   "id": "e7cbb290",
   "metadata": {},
   "outputs": [],
   "source": [
    "            for pattern in menu_card_patterns:\n",
    "                if re.search(pattern, text_lower):\n",
    "                    return \"internal_menu_card\"\n",
    "            "
   ]
  },
  {
   "cell_type": "markdown",
   "id": "03005969",
   "metadata": {},
   "source": [
    "            # Check for navigation patterns"
   ]
  },
  {
   "cell_type": "code",
   "execution_count": null,
   "id": "1edecf60",
   "metadata": {},
   "outputs": [],
   "source": [
    "            for pattern in navigation_patterns:\n",
    "                if re.search(pattern, text_lower):\n",
    "                    return \"internal_navigation\"\n",
    "            "
   ]
  },
  {
   "cell_type": "markdown",
   "id": "4332e8f7",
   "metadata": {},
   "source": [
    "            # Check for system popup patterns"
   ]
  },
  {
   "cell_type": "code",
   "execution_count": null,
   "id": "de6ca3cd",
   "metadata": {},
   "outputs": [],
   "source": [
    "            for pattern in system_popup_patterns:\n",
    "                if re.search(pattern, text_lower):\n",
    "                    return \"external_system\"\n",
    "            "
   ]
  },
  {
   "cell_type": "markdown",
   "id": "dab71e79",
   "metadata": {},
   "source": [
    "            # Check internal indicators"
   ]
  },
  {
   "cell_type": "code",
   "execution_count": null,
   "id": "658f372c",
   "metadata": {},
   "outputs": [],
   "source": [
    "            for category, keywords in internal_popup_indicators.items():\n",
    "                for keyword in keywords:\n",
    "                    if keyword in text_lower:\n",
    "                        return \"internal_app\"\n",
    "            "
   ]
  },
  {
   "cell_type": "markdown",
   "id": "d0503691",
   "metadata": {},
   "source": [
    "            # Check external indicators"
   ]
  },
  {
   "cell_type": "code",
   "execution_count": null,
   "id": "a34433e7",
   "metadata": {},
   "outputs": [],
   "source": [
    "            for category, keywords in external_popup_indicators.items():\n",
    "                for keyword in keywords:\n",
    "                    if keyword in text_lower:\n",
    "                        return \"external_system\"\n",
    "            "
   ]
  },
  {
   "cell_type": "markdown",
   "id": "a1d3c1cb",
   "metadata": {},
   "source": [
    "            # Check element type"
   ]
  },
  {
   "cell_type": "markdown",
   "id": "2db128d5",
   "metadata": {},
   "source": [
    "Check if popup has clickable elements other than close/dismiss."
   ]
  },
  {
   "cell_type": "code",
   "execution_count": null,
   "id": "82ead8ac",
   "metadata": {},
   "outputs": [],
   "source": [
    "            if element_type in ['card', 'menu_item', 'option']:\n",
    "                return \"internal_menu_card\"\n",
    "            elif element_type in ['back_button', 'navigation', 'tab']:\n",
    "                return \"internal_navigation\"\n",
    "            elif element_type in ['system_dialog', 'permission_dialog', 'external_dialog']:\n",
    "                return \"external_system\"\n",
    "            \n",
    "            return \"unknown\"\n",
    "        \n",
    "        def has_clickable_elements(text: str) -> bool:\n",
    "            text_lower = text.lower()\n",
    "            "
   ]
  },
  {
   "cell_type": "markdown",
   "id": "acddc054",
   "metadata": {},
   "source": [
    "            # Clickable action keywords (not close/dismiss)"
   ]
  },
  {
   "cell_type": "code",
   "execution_count": null,
   "id": "125e5504",
   "metadata": {},
   "outputs": [],
   "source": [
    "            action_keywords = [\n",
    "                \"continue\", \"proceed\", \"next\", \"submit\", \"confirm\", \"accept\", \"allow\",\n",
    "                \"select\", \"choose\", \"pick\", \"option\", \"item\", \"menu\", \"settings\",\n",
    "                \"order\", \"cart\", \"checkout\", \"payment\", \"delivery\", \"tracking\"\n",
    "            ]\n",
    "            "
   ]
  },
  {
   "cell_type": "markdown",
   "id": "4af7681f",
   "metadata": {},
   "source": [
    "            # Close/dismiss keywords (should be ignored for this check)"
   ]
  },
  {
   "cell_type": "code",
   "execution_count": null,
   "id": "5649dd1b",
   "metadata": {},
   "outputs": [],
   "source": [
    "            close_keywords = [\"close\", \"dismiss\", \"cancel\", \"back\", \"exit\", \"ok\"]\n",
    "            "
   ]
  },
  {
   "cell_type": "markdown",
   "id": "a69c3fcd",
   "metadata": {},
   "source": [
    "            # Check for action keywords (indicating clickable elements)"
   ]
  },
  {
   "cell_type": "code",
   "execution_count": null,
   "id": "81411688",
   "metadata": {},
   "outputs": [],
   "source": [
    "            for keyword in action_keywords:\n",
    "                if keyword in text_lower:\n",
    "                    return True\n",
    "            "
   ]
  },
  {
   "cell_type": "markdown",
   "id": "f354aff2",
   "metadata": {},
   "source": [
    "            # Check for close/dismiss keywords (no other clickable elements)"
   ]
  },
  {
   "cell_type": "code",
   "execution_count": null,
   "id": "3e2b3270",
   "metadata": {},
   "outputs": [],
   "source": [
    "            has_close_only = any(keyword in text_lower for keyword in close_keywords)\n",
    "            \n",
    "            return not has_close_only  # If only close/dismiss, no other clickable elements\n",
    "        "
   ]
  },
  {
   "cell_type": "markdown",
   "id": "52c4ed8a",
   "metadata": {},
   "source": [
    "        # Google Play Services popup handling (external - dismiss)\n",
    "        # More targeted approach to avoid affecting app navigation"
   ]
  },
  {
   "cell_type": "code",
   "execution_count": null,
   "id": "1d4643ec",
   "metadata": {},
   "outputs": [],
   "source": [
    "        external_popup_actions = [\n",
    "            {\"action\": \"tap\", \"coords\": (500, 1200), \"desc\": \"Google Play OK button\", \"type\": \"external_system\"},\n",
    "            {\"action\": \"tap\", \"coords\": (500, 1100), \"desc\": \"Google Play Accept button\", \"type\": \"external_system\"},\n",
    "            {\"action\": \"tap\", \"coords\": (500, 1300), \"desc\": \"Google Play Continue button\", \"type\": \"external_system\"},\n",
    "        ]\n",
    "        "
   ]
  },
  {
   "cell_type": "markdown",
   "id": "cade32f6",
   "metadata": {},
   "source": [
    "        # Permission dialog handling (external - dismiss)"
   ]
  },
  {
   "cell_type": "code",
   "execution_count": null,
   "id": "2f032124",
   "metadata": {},
   "outputs": [],
   "source": [
    "        permission_popup_actions = [\n",
    "            {\"action\": \"tap\", \"coords\": (500, 1200), \"desc\": \"Permission Turn On button\", \"type\": \"external_system\"},\n",
    "            {\"action\": \"tap\", \"coords\": (500, 1100), \"desc\": \"Permission Accept button\", \"type\": \"external_system\"},\n",
    "            {\"action\": \"tap\", \"coords\": (500, 1300), \"desc\": \"Permission Allow button\", \"type\": \"external_system\"},\n",
    "            {\"action\": \"tap\", \"coords\": (400, 1200), \"desc\": \"Permission left button\", \"type\": \"external_system\"},\n",
    "            {\"action\": \"tap\", \"coords\": (600, 1200), \"desc\": \"Permission right button\", \"type\": \"external_system\"},\n",
    "        ]\n",
    "        "
   ]
  },
  {
   "cell_type": "markdown",
   "id": "79e910c5",
   "metadata": {},
   "source": [
    "        # Dismiss button handling (external - dismiss) - more conservative"
   ]
  },
  {
   "cell_type": "code",
   "execution_count": null,
   "id": "f666700f",
   "metadata": {},
   "outputs": [],
   "source": [
    "        dismiss_actions = [\n",
    "            {\"action\": \"tap\", \"coords\": (500, 1200), \"desc\": \"Dismiss button (bottom center)\", \"type\": \"external_system\"},\n",
    "            {\"action\": \"tap\", \"coords\": (500, 1100), \"desc\": \"Dismiss button (above bottom)\", \"type\": \"external_system\"},\n",
    "        ]\n",
    "        "
   ]
  },
  {
   "cell_type": "markdown",
   "id": "1bedc543",
   "metadata": {},
   "source": [
    "        # Internal popup actions (menu cards, navigation) - should be handled through decision-making"
   ]
  },
  {
   "cell_type": "code",
   "execution_count": null,
   "id": "a5355875",
   "metadata": {},
   "outputs": [],
   "source": [
    "        internal_popup_actions = [\n",
    "            {\"action\": \"tap\", \"coords\": (500, 800), \"desc\": \"Internal menu Continue button\", \"type\": \"internal_menu_card\"},\n",
    "            {\"action\": \"tap\", \"coords\": (500, 900), \"desc\": \"Internal menu Accept button\", \"type\": \"internal_menu_card\"},\n",
    "            {\"action\": \"tap\", \"coords\": (400, 800), \"desc\": \"Internal menu left button\", \"type\": \"internal_menu_card\"},\n",
    "            {\"action\": \"tap\", \"coords\": (600, 800), \"desc\": \"Internal menu right button\", \"type\": \"internal_menu_card\"},\n",
    "            {\"action\": \"tap\", \"coords\": (500, 1000), \"desc\": \"Internal menu bottom button\", \"type\": \"internal_menu_card\"},\n",
    "        ]\n",
    "        "
   ]
  },
  {
   "cell_type": "markdown",
   "id": "59acff04",
   "metadata": {},
   "source": [
    "        # Execute external popup actions (dismiss) with foreground checking"
   ]
  },
  {
   "cell_type": "code",
   "execution_count": null,
   "id": "650f1115",
   "metadata": {},
   "outputs": [],
   "source": [
    "        logger.info(\"Handling external popups (system dialogs, permissions) - dismissing...\")\n",
    "        "
   ]
  },
  {
   "cell_type": "markdown",
   "id": "6b7c235b",
   "metadata": {},
   "source": [
    "        # Track if we successfully dismissed any external popups"
   ]
  },
  {
   "cell_type": "code",
   "execution_count": null,
   "id": "c5ba9ae9",
   "metadata": {},
   "outputs": [],
   "source": [
    "        external_popup_dismissed = False\n",
    "        \n",
    "        for action in external_popup_actions + permission_popup_actions + dismiss_actions:\n",
    "            logger.info(f\"Attempting to dismiss external popup: {action['desc']}\")\n",
    "            self._tap(*action['coords'])\n",
    "            time.sleep(0.3)\n",
    "            "
   ]
  },
  {
   "cell_type": "markdown",
   "id": "b8e1331a",
   "metadata": {},
   "source": [
    "            # Check if app is still in foreground after tap"
   ]
  },
  {
   "cell_type": "code",
   "execution_count": null,
   "id": "029980c3",
   "metadata": {},
   "outputs": [],
   "source": [
    "            if self.check_app_foreground():\n",
    "                external_popup_dismissed = True\n",
    "                logger.info(f\"Successfully dismissed external popup: {action['desc']}\")\n",
    "            else:\n",
    "                logger.warning(f\"App left foreground after dismissing: {action['desc']}\")\n",
    "                break\n",
    "        "
   ]
  },
  {
   "cell_type": "markdown",
   "id": "7bfe4889",
   "metadata": {},
   "source": [
    "        # Note: Internal popups (menu cards) are NOT dismissed here\n",
    "        # They should be handled through the decision-making process"
   ]
  },
  {
   "cell_type": "code",
   "execution_count": null,
   "id": "831fa0d1",
   "metadata": {},
   "outputs": [],
   "source": [
    "        logger.info(\"Internal popups (menu cards, navigation) will be handled through decision-making process\")\n",
    "        "
   ]
  },
  {
   "cell_type": "markdown",
   "id": "2ef2c881",
   "metadata": {},
   "source": [
    "        # Look for Close/Dismiss buttons on external popups ONLY if we're certain it's external\n",
    "        # This is more conservative to avoid dismissing internal menu cards"
   ]
  },
  {
   "cell_type": "code",
   "execution_count": null,
   "id": "d2504140",
   "metadata": {},
   "outputs": [],
   "source": [
    "        if not external_popup_dismissed:\n",
    "            logger.info(\"Checking if we should look for Close/Dismiss buttons...\")\n",
    "            "
   ]
  },
  {
   "cell_type": "markdown",
   "id": "5fb214df",
   "metadata": {},
   "source": [
    "            # Only proceed if we're confident this is an external popup\n",
    "            # Check if we have any clear external popup indicators"
   ]
  },
  {
   "cell_type": "code",
   "execution_count": null,
   "id": "7bbad52a",
   "metadata": {},
   "outputs": [],
   "source": [
    "            current_foreground = self.get_current_foreground_app()\n",
    "            has_external_indicators = any(indicator in current_foreground.lower() for indicator in \n",
    "                                        [\"google\", \"android\", \"system\", \"settings\", \"permission\", \"chrome\", \"browser\"])\n",
    "            \n",
    "            if has_external_indicators:\n",
    "                logger.info(\"External popup detected, looking for Close/Dismiss buttons...\")\n",
    "                "
   ]
  },
  {
   "cell_type": "markdown",
   "id": "b99a8453",
   "metadata": {},
   "source": [
    "                # Common Close/Dismiss button locations for external popups"
   ]
  },
  {
   "cell_type": "code",
   "execution_count": null,
   "id": "b5a70a2c",
   "metadata": {},
   "outputs": [],
   "source": [
    "                close_dismiss_buttons = [\n",
    "                    {\"coords\": (900, 200), \"desc\": \"Close button (top right)\"},\n",
    "                    {\"coords\": (800, 200), \"desc\": \"Close button (top right area)\"},\n",
    "                    {\"coords\": (500, 200), \"desc\": \"Close button (top center)\"},\n",
    "                    {\"coords\": (500, 1200), \"desc\": \"Dismiss button (bottom center)\"},\n",
    "                    {\"coords\": (500, 1100), \"desc\": \"Dismiss button (above bottom)\"},\n",
    "                    {\"coords\": (300, 1200), \"desc\": \"Cancel button (bottom left)\"},\n",
    "                    {\"coords\": (700, 1200), \"desc\": \"Cancel button (bottom right)\"},\n",
    "                ]\n",
    "                "
   ]
  },
  {
   "cell_type": "markdown",
   "id": "93a976d7",
   "metadata": {},
   "source": [
    "                # Try each Close/Dismiss button location"
   ]
  },
  {
   "cell_type": "code",
   "execution_count": null,
   "id": "26891e88",
   "metadata": {},
   "outputs": [],
   "source": [
    "                for button in close_dismiss_buttons:\n",
    "                    logger.info(f\"Trying {button['desc']} on external popup\")\n",
    "                    self._tap(*button['coords'])\n",
    "                    time.sleep(0.3)\n",
    "                    "
   ]
  },
  {
   "cell_type": "markdown",
   "id": "9f91ca3e",
   "metadata": {},
   "source": [
    "                    # Check if app is still in foreground after tap"
   ]
  },
  {
   "cell_type": "code",
   "execution_count": null,
   "id": "18797645",
   "metadata": {},
   "outputs": [],
   "source": [
    "                    if self.check_app_foreground():\n",
    "                        logger.info(f\"Successfully used {button['desc']} to dismiss external popup\")\n",
    "                        break\n",
    "                    else:\n",
    "                        logger.warning(f\"App left foreground after {button['desc']}, stopping\")\n",
    "                        break\n",
    "            else:\n",
    "                logger.info(\"No clear external popup indicators found, skipping Close/Dismiss button attempts\")\n",
    "                logger.info(\"Internal popups (menu cards, navigation) should be handled through decision-making process\")\n",
    "        "
   ]
  },
  {
   "cell_type": "markdown",
   "id": "d4c92b68",
   "metadata": {},
   "source": [
    "        # Enhanced location permission prompt handling using OCR"
   ]
  },
  {
   "cell_type": "code",
   "execution_count": null,
   "id": "9a938647",
   "metadata": {},
   "outputs": [],
   "source": [
    "        try:"
   ]
  },
  {
   "cell_type": "markdown",
   "id": "235bc063",
   "metadata": {},
   "source": [
    "            # Capture screenshot for OCR analysis"
   ]
  },
  {
   "cell_type": "code",
   "execution_count": null,
   "id": "aafadaa8",
   "metadata": {},
   "outputs": [],
   "source": [
    "            screenshot_path = self.capture_screenshot(\"permission_detection\")\n",
    "            if screenshot_path:"
   ]
  },
  {
   "cell_type": "markdown",
   "id": "b56bd306",
   "metadata": {},
   "source": [
    "                # Use VisionAI to analyze the screenshot"
   ]
  },
  {
   "cell_type": "code",
   "execution_count": null,
   "id": "298e81ec",
   "metadata": {},
   "outputs": [],
   "source": [
    "                elements = self.vision_engine.analyze(screenshot_path)\n",
    "                "
   ]
  },
  {
   "cell_type": "markdown",
   "id": "b15dd657",
   "metadata": {},
   "source": [
    "                # Look for permission-related buttons"
   ]
  },
  {
   "cell_type": "code",
   "execution_count": null,
   "id": "9bafd6e2",
   "metadata": {},
   "outputs": [],
   "source": [
    "                permission_keywords = [\n",
    "                    \"allow while using the app\", \"allow only while using the app\", \"allow all the time\",\n",
    "                    \"while using the app\", \"only while using the app\", \"all the time\",\n",
    "                    \"allow\", \"ok\", \"continue\", \"accept\", \"grant\", \"permit\", \"enable\"\n",
    "                ]\n",
    "                \n",
    "                for element in elements:\n",
    "                    element_text = element.text.lower() if hasattr(element, 'text') else \"\"\n",
    "                    "
   ]
  },
  {
   "cell_type": "markdown",
   "id": "fadc8745",
   "metadata": {},
   "source": [
    "                    # Check if this looks like a permission button"
   ]
  },
  {
   "cell_type": "code",
   "execution_count": null,
   "id": "08aff643",
   "metadata": {},
   "outputs": [],
   "source": [
    "                    if any(keyword in element_text for keyword in permission_keywords):"
   ]
  },
  {
   "cell_type": "markdown",
   "id": "b013129e",
   "metadata": {},
   "source": [
    "                        # Get coordinates and tap"
   ]
  },
  {
   "cell_type": "code",
   "execution_count": null,
   "id": "f339a747",
   "metadata": {},
   "outputs": [],
   "source": [
    "                        bbox = element.bbox.as_tuple() if hasattr(element, 'bbox') else []\n",
    "                        if len(bbox) >= 4:\n",
    "                            x = (bbox[0] + bbox[2]) // 2\n",
    "                            y = (bbox[1] + bbox[3]) // 2\n",
    "                            logger.info(f\"Tapping permission button via OCR: {element_text}\")\n",
    "                            self._tap(x, y)\n",
    "                            time.sleep(0.5)  # Slightly longer delay for permission dialogs\n",
    "                            "
   ]
  },
  {
   "cell_type": "markdown",
   "id": "03a72398",
   "metadata": {},
   "source": [
    "                            # Check if we successfully dismissed the permission dialog"
   ]
  },
  {
   "cell_type": "code",
   "execution_count": null,
   "id": "6740ce63",
   "metadata": {},
   "outputs": [],
   "source": [
    "                            if self.check_app_foreground():\n",
    "                                logger.info(f\"✓ Permission dialog dismissed with OCR: {element_text}\")\n",
    "                                return True\n",
    "                \n",
    "                logger.warning(\"No permission buttons found via OCR\")\n",
    "            else:\n",
    "                logger.warning(\"Failed to capture screenshot for OCR permission detection\")\n",
    "                \n",
    "        except Exception as e:\n",
    "            logger.warning(f\"Error in OCR permission handling: {e}\")"
   ]
  },
  {
   "cell_type": "markdown",
   "id": "5cc02a01",
   "metadata": {},
   "source": [
    "            # Fallback to original coordinates"
   ]
  },
  {
   "cell_type": "code",
   "execution_count": null,
   "id": "420c2a2b",
   "metadata": {},
   "outputs": [],
   "source": [
    "            fallback_actions = [\n",
    "                {\"coords\": (500, 1200), \"desc\": \"Allow While Using the App button\"},\n",
    "                {\"coords\": (500, 1100), \"desc\": \"Allow Only While Using the App button\"},\n",
    "                {\"coords\": (500, 1300), \"desc\": \"Allow All the Time button\"},\n",
    "                {\"coords\": (500, 1000), \"desc\": \"Allow button\"},\n",
    "                {\"coords\": (500, 900), \"desc\": \"OK button\"},\n",
    "                {\"coords\": (500, 1000), \"desc\": \"Continue button\"},\n",
    "            ]\n",
    "            for action in fallback_actions:\n",
    "                logger.info(f\"Trying fallback: {action['desc']}\")\n",
    "                self._tap(*action['coords'])\n",
    "                time.sleep(0.3)\n",
    "        "
   ]
  },
  {
   "cell_type": "markdown",
   "id": "f035817f",
   "metadata": {},
   "source": [
    "        # ----------------------\n",
    "        # Vision-based \"×\" close button detection (top-right glyph)\n",
    "        # ----------------------"
   ]
  },
  {
   "cell_type": "code",
   "execution_count": null,
   "id": "faff11fc",
   "metadata": {},
   "outputs": [],
   "source": [
    "        try:\n",
    "            screenshot_path = self.capture_screenshot(\"close_button_detection\")\n",
    "            if screenshot_path:\n",
    "                elements = self.vision_engine.analyze(screenshot_path)\n",
    "\n",
    "                for element in elements:\n",
    "                    txt = (element.text or \"\").strip().lower() if hasattr(element, \"text\") else \"\"\n",
    "                    if txt in {\"x\", \"×\", \"close\"} and hasattr(element, \"bbox\"):\n",
    "                        bx = element.bbox.as_tuple()\n",
    "                        cx = (bx[0] + bx[2]) // 2\n",
    "                        cy = (bx[1] + bx[3]) // 2"
   ]
  },
  {
   "cell_type": "markdown",
   "id": "848ea66e",
   "metadata": {},
   "source": [
    "                        # consider only glyphs near the top-right quadrant"
   ]
  },
  {
   "cell_type": "code",
   "execution_count": null,
   "id": "a78f5071",
   "metadata": {},
   "outputs": [],
   "source": [
    "                        if cx > self.screen_width * 0.7 and cy < self.screen_height * 0.4:\n",
    "                            logger.info(\"Detected close (×) icon via VisionAI – tapping …\")\n",
    "                            self._tap(cx, cy)\n",
    "                            time.sleep(0.4)\n",
    "                            if self.check_app_foreground():\n",
    "                                logger.info(\"✓ Popup dismissed via VisionAI close button\")\n",
    "                                return True"
   ]
  },
  {
   "cell_type": "markdown",
   "id": "d726f949",
   "metadata": {},
   "source": [
    "                            # If tap caused focus loss, break to avoid further attempts"
   ]
  },
  {
   "cell_type": "code",
   "execution_count": null,
   "id": "12fdad44",
   "metadata": {},
   "outputs": [],
   "source": [
    "                            break\n",
    "        except Exception as e:\n",
    "            logger.debug(f\"Close-button vision detection error: {e}\")\n",
    "        "
   ]
  },
  {
   "cell_type": "markdown",
   "id": "87aeaec7",
   "metadata": {},
   "source": [
    "        # Enhanced notification popup handling using OCR"
   ]
  },
  {
   "cell_type": "code",
   "execution_count": null,
   "id": "7149f50b",
   "metadata": {},
   "outputs": [],
   "source": [
    "        try:"
   ]
  },
  {
   "cell_type": "markdown",
   "id": "d75e5ece",
   "metadata": {},
   "source": [
    "            # Capture screenshot for OCR analysis"
   ]
  },
  {
   "cell_type": "code",
   "execution_count": null,
   "id": "a01d972d",
   "metadata": {},
   "outputs": [],
   "source": [
    "            screenshot_path = self.capture_screenshot(\"notification_detection\")\n",
    "            if screenshot_path:"
   ]
  },
  {
   "cell_type": "markdown",
   "id": "281a0a43",
   "metadata": {},
   "source": [
    "                # Use VisionAI to analyze the screenshot"
   ]
  },
  {
   "cell_type": "code",
   "execution_count": null,
   "id": "2ace1a87",
   "metadata": {},
   "outputs": [],
   "source": [
    "                elements = self.vision_engine.analyze(screenshot_path)\n",
    "                "
   ]
  },
  {
   "cell_type": "markdown",
   "id": "4b5d4fea",
   "metadata": {},
   "source": [
    "                # Look for notification-related keywords and buttons"
   ]
  },
  {
   "cell_type": "code",
   "execution_count": null,
   "id": "2c2f2aaa",
   "metadata": {},
   "outputs": [],
   "source": [
    "                notification_keywords = [\n",
    "                    \"notification\", \"alert\", \"update\", \"new message\", \"reminder\"\n",
    "                ]\n",
    "                action_keywords = [\n",
    "                    \"view\", \"open\", \"reply\", \"snooze\", \"dismiss\", \"clear\", \"yes\", \"no\"\n",
    "                ]\n",
    "                \n",
    "                is_notification_popup = False\n",
    "                for element in elements:\n",
    "                    element_text = element.text.lower() if hasattr(element, 'text') else \"\"\n",
    "                    if any(keyword in element_text for keyword in notification_keywords):\n",
    "                        is_notification_popup = True\n",
    "                        break\n",
    "                \n",
    "                if is_notification_popup:\n",
    "                    logger.info(\"Notification popup detected, analyzing for actions...\")\n",
    "                    for element in elements:\n",
    "                        element_text = element.text.lower() if hasattr(element, 'text') else \"\"\n",
    "                        "
   ]
  },
  {
   "cell_type": "markdown",
   "id": "c841fe1c",
   "metadata": {},
   "source": [
    "                        # Check if this looks like a notification action button"
   ]
  },
  {
   "cell_type": "markdown",
   "id": "b0a09b21",
   "metadata": {},
   "source": [
    "Try to dismiss external dialogs and bring app to foreground."
   ]
  },
  {
   "cell_type": "code",
   "execution_count": null,
   "id": "5459a3a0",
   "metadata": {},
   "outputs": [],
   "source": [
    "                        if any(keyword in element_text for keyword in action_keywords):\n",
    "                            bbox = element.bbox.as_tuple() if hasattr(element, 'bbox') else []\n",
    "                            if len(bbox) >= 4:\n",
    "                                x = (bbox[0] + bbox[2]) // 2\n",
    "                                y = (bbox[1] + bbox[3]) // 2\n",
    "                                logger.info(f\"Tapping notification action button via OCR: {element_text}\")\n",
    "                                self._tap(x, y)\n",
    "                                time.sleep(0.5)\n",
    "                                \n",
    "                                if self.check_app_foreground():\n",
    "                                    logger.info(f\"✓ Notification popup handled with OCR: {element_text}\")\n",
    "                                    return True\n",
    "                \n",
    "                    logger.warning(\"No actionable buttons found on notification popup\")\n",
    "                else:\n",
    "                    logger.info(\"No notification content detected via OCR\")\n",
    "            else:\n",
    "                logger.warning(\"Could not capture screenshot for notification OCR analysis\")\n",
    "                \n",
    "        except Exception as e:\n",
    "            logger.error(f\"Error during notification popup handling: {e}\")\n",
    "            \n",
    "        return False\n",
    "    \n",
    "    def _try_dismiss_dialogs_recovery(self) -> bool:\n",
    "        logger.info(\"Attempting to dismiss external system dialogs and permissions...\")\n",
    "        "
   ]
  },
  {
   "cell_type": "markdown",
   "id": "0bd7b81d",
   "metadata": {},
   "source": [
    "        # External popup indicators (system dialogs, permissions) - should be dismissed"
   ]
  },
  {
   "cell_type": "code",
   "execution_count": null,
   "id": "b4b9e328",
   "metadata": {},
   "outputs": [],
   "source": [
    "        external_popup_indicators = {\n",
    "            \"system\": [\"google play\", \"android\", \"system\", \"settings\", \"permission\"],\n",
    "            \"permission\": [\"allow\", \"deny\", \"permission\", \"access\", \"grant\"],\n",
    "            \"notification\": [\"notification\", \"alert\", \"warning\", \"error\", \"update\"],\n",
    "            \"external_app\": [\"chrome\", \"browser\", \"gmail\", \"maps\", \"play store\"]\n",
    "        }\n",
    "        "
   ]
  },
  {
   "cell_type": "markdown",
   "id": "fdbb8bae",
   "metadata": {},
   "source": [
    "        # Strategy 1: Dismiss external system popups (Google Play, Android system)"
   ]
  },
  {
   "cell_type": "code",
   "execution_count": null,
   "id": "7ef78425",
   "metadata": {},
   "outputs": [],
   "source": [
    "        external_popup_locations = [\n",
    "            (500, 1200),  # Bottom center - \"OK\" or \"Accept\"\n",
    "            (500, 1100),  # Slightly above bottom\n",
    "            (500, 1300),  # Below bottom\n",
    "            (300, 1200),  # Left side\n",
    "            (700, 1200),  # Right side\n",
    "        ]\n",
    "        \n",
    "        logger.info(\"Dismissing external system popups...\")\n",
    "        for x, y in external_popup_locations:\n",
    "            self._tap(x, y)\n",
    "            time.sleep(0.3)\n",
    "        "
   ]
  },
  {
   "cell_type": "markdown",
   "id": "f19d5491",
   "metadata": {},
   "source": [
    "        # Strategy 2: Dismiss permission dialogs (external - dismiss)"
   ]
  },
  {
   "cell_type": "code",
   "execution_count": null,
   "id": "d3bd9f16",
   "metadata": {},
   "outputs": [],
   "source": [
    "        permission_popup_locations = [\n",
    "            (500, 1200),  # Bottom center - \"Turn On\" or \"Allow\"\n",
    "            (500, 1100),  # Above bottom\n",
    "            (500, 1300),  # Below bottom\n",
    "            (400, 1200),  # Left side\n",
    "            (600, 1200),  # Right side\n",
    "            (500, 1000),  # Center area\n",
    "        ]\n",
    "        \n",
    "        logger.info(\"Dismissing permission dialogs...\")\n",
    "        for x, y in permission_popup_locations:\n",
    "            self._tap(x, y)\n",
    "            time.sleep(0.3)\n",
    "        "
   ]
  },
  {
   "cell_type": "markdown",
   "id": "f107f63b",
   "metadata": {},
   "source": [
    "        # Strategy 3: Handle dismiss buttons (external - dismiss)"
   ]
  },
  {
   "cell_type": "code",
   "execution_count": null,
   "id": "f2cb66d2",
   "metadata": {},
   "outputs": [],
   "source": [
    "        dismiss_locations = [\n",
    "            (500, 1200),  # Bottom center\n",
    "            (500, 1100),  # Above bottom\n",
    "            (500, 1300),  # Below bottom\n",
    "            (300, 1200),  # Left side\n",
    "            (700, 1200),  # Right side\n",
    "            (500, 800),   # Center area\n",
    "            (500, 900),   # Above center\n",
    "        ]\n",
    "        \n",
    "        logger.info(\"Dismissing notification dialogs...\")\n",
    "        for x, y in dismiss_locations:\n",
    "            self._tap(x, y)\n",
    "            time.sleep(0.3)\n",
    "        "
   ]
  },
  {
   "cell_type": "markdown",
   "id": "950422aa",
   "metadata": {},
   "source": [
    "        # Note: Internal popups (menu cards) are NOT dismissed here\n",
    "        # They should be handled through the decision-making process"
   ]
  },
  {
   "cell_type": "code",
   "execution_count": null,
   "id": "f50ff9c4",
   "metadata": {},
   "outputs": [],
   "source": [
    "        logger.info(\"Internal popups (menu cards, navigation) will be handled through decision-making process\")\n",
    "        "
   ]
  },
  {
   "cell_type": "markdown",
   "id": "e1b79e31",
   "metadata": {},
   "source": [
    "        # Strategy 4: Look for Close/Dismiss buttons on external popups ONLY if we're certain it's external\n",
    "        # This is more conservative to avoid dismissing internal menu cards"
   ]
  },
  {
   "cell_type": "code",
   "execution_count": null,
   "id": "a3be2e0c",
   "metadata": {},
   "outputs": [],
   "source": [
    "        logger.info(\"Checking if we should look for Close/Dismiss buttons...\")\n",
    "        "
   ]
  },
  {
   "cell_type": "markdown",
   "id": "2c8d4e20",
   "metadata": {},
   "source": [
    "        # Only proceed if we're confident this is an external popup\n",
    "        # For now, we'll be very conservative and avoid Close button dismissal\n",
    "        # unless we have clear indicators of external system popups"
   ]
  },
  {
   "cell_type": "code",
   "execution_count": null,
   "id": "0a880036",
   "metadata": {},
   "outputs": [],
   "source": [
    "        "
   ]
  },
  {
   "cell_type": "markdown",
   "id": "5193ca83",
   "metadata": {},
   "source": [
    "        # Check if we have any clear external popup indicators"
   ]
  },
  {
   "cell_type": "code",
   "execution_count": null,
   "id": "bd441188",
   "metadata": {},
   "outputs": [],
   "source": [
    "        current_foreground = self.get_current_foreground_app()\n",
    "        has_external_indicators = any(indicator in current_foreground.lower() for indicator in \n",
    "                                    [\"google\", \"android\", \"system\", \"settings\", \"permission\", \"chrome\", \"browser\"])\n",
    "        \n",
    "        if has_external_indicators:\n",
    "            logger.info(\"External popup detected, looking for Close/Dismiss buttons...\")\n",
    "            "
   ]
  },
  {
   "cell_type": "markdown",
   "id": "44dd69a3",
   "metadata": {},
   "source": [
    "            # Common Close/Dismiss button locations for external popups"
   ]
  },
  {
   "cell_type": "code",
   "execution_count": null,
   "id": "3132391c",
   "metadata": {},
   "outputs": [],
   "source": [
    "            close_dismiss_buttons = [\n",
    "                {\"coords\": (900, 200), \"desc\": \"Close button (top right)\"},\n",
    "                {\"coords\": (800, 200), \"desc\": \"Close button (top right area)\"},\n",
    "                {\"coords\": (500, 200), \"desc\": \"Close button (top center)\"},\n",
    "                {\"coords\": (500, 1200), \"desc\": \"Dismiss button (bottom center)\"},\n",
    "                {\"coords\": (500, 1100), \"desc\": \"Dismiss button (above bottom)\"},\n",
    "                {\"coords\": (300, 1200), \"desc\": \"Cancel button (bottom left)\"},\n",
    "                {\"coords\": (700, 1200), \"desc\": \"Cancel button (bottom right)\"},\n",
    "            ]\n",
    "            "
   ]
  },
  {
   "cell_type": "markdown",
   "id": "2ae4b899",
   "metadata": {},
   "source": [
    "            # Try each Close/Dismiss button location"
   ]
  },
  {
   "cell_type": "code",
   "execution_count": null,
   "id": "4bc96b24",
   "metadata": {},
   "outputs": [],
   "source": [
    "            for button in close_dismiss_buttons:\n",
    "                logger.info(f\"Trying {button['desc']} on external popup\")\n",
    "                self._tap(*button['coords'])\n",
    "                time.sleep(0.3)\n",
    "                "
   ]
  },
  {
   "cell_type": "markdown",
   "id": "45ee3332",
   "metadata": {},
   "source": [
    "                # Check if app is still in foreground after tap"
   ]
  },
  {
   "cell_type": "code",
   "execution_count": null,
   "id": "5550d2a1",
   "metadata": {},
   "outputs": [],
   "source": [
    "                if self.check_app_foreground():\n",
    "                    logger.info(f\"Successfully used {button['desc']} to dismiss external popup\")\n",
    "                    break\n",
    "                else:\n",
    "                    logger.warning(f\"App left foreground after {button['desc']}, stopping\")\n",
    "                    break\n",
    "        else:\n",
    "            logger.info(\"No clear external popup indicators found, skipping Close/Dismiss button attempts\")\n",
    "            logger.info(\"Internal popups (menu cards, navigation) should be handled through decision-making process\")\n",
    "        "
   ]
  },
  {
   "cell_type": "markdown",
   "id": "f858d93b",
   "metadata": {},
   "source": [
    "        # Strategy 5: Try to bring app to front again"
   ]
  },
  {
   "cell_type": "code",
   "execution_count": null,
   "id": "b5461466",
   "metadata": {},
   "outputs": [],
   "source": [
    "        subprocess.run(\n",
    "            [\"adb\", \"shell\", \"am\", \"start\", \"-n\", f\"{self.package_name}/.MainActivity\"],\n",
    "            capture_output=True,\n",
    "            check=False\n",
    "        )\n",
    "        time.sleep(1)\n",
    "        "
   ]
  },
  {
   "cell_type": "markdown",
   "id": "b1b4e076",
   "metadata": {},
   "source": [
    "        # Enhanced location prompt actions after dismiss_locations"
   ]
  },
  {
   "cell_type": "code",
   "execution_count": null,
   "id": "93396b9a",
   "metadata": {},
   "outputs": [],
   "source": [
    "        try:\n",
    "            screen_info = subprocess.run([\"adb\", \"shell\", \"wm\", \"size\"], capture_output=True, text=True, check=False)\n",
    "            if screen_info.stdout:\n",
    "                size_match = re.search(r'(\\d+)x(\\d+)', screen_info.stdout)\n",
    "                if size_match:\n",
    "                    screen_width = int(size_match.group(1))\n",
    "                    screen_height = int(size_match.group(2))\n",
    "                    \n",
    "                    center_x = screen_width // 2\n",
    "                    bottom_y = int(screen_height * 0.85)\n",
    "                    middle_y = int(screen_height * 0.7)\n",
    "                    top_y = int(screen_height * 0.55)\n",
    "                    \n",
    "                    enhanced_location_actions = [\n",
    "                        (center_x, bottom_y),      # Allow While Using the App\n",
    "                        (center_x, middle_y),      # Allow Only While Using the App\n",
    "                        (center_x, top_y),         # Allow All the Time\n",
    "                        (center_x, bottom_y + 100), # Allow\n",
    "                        (center_x, middle_y + 50),  # OK\n",
    "                        (center_x, top_y - 50),     # Continue\n",
    "                        (center_x - 100, bottom_y), # Left variant\n",
    "                        (center_x + 100, bottom_y), # Right variant\n",
    "                    ]\n",
    "                    \n",
    "                    for x, y in enhanced_location_actions:\n",
    "                        self._tap(x, y)\n",
    "                        time.sleep(0.5)\n",
    "                        "
   ]
  },
  {
   "cell_type": "markdown",
   "id": "dc31ee75",
   "metadata": {},
   "source": [
    "                        # Check if permission dialog was dismissed"
   ]
  },
  {
   "cell_type": "code",
   "execution_count": null,
   "id": "7c22ea03",
   "metadata": {},
   "outputs": [],
   "source": [
    "                        if self.check_app_foreground():\n",
    "                            logger.info(\"✓ Permission dialog dismissed in recovery\")\n",
    "                            break\n",
    "                else:"
   ]
  },
  {
   "cell_type": "markdown",
   "id": "9ed1b545",
   "metadata": {},
   "source": [
    "                    # Fallback coordinates"
   ]
  },
  {
   "cell_type": "code",
   "execution_count": null,
   "id": "606c3256",
   "metadata": {},
   "outputs": [],
   "source": [
    "                    fallback_actions = [(500, 1200), (500, 1100), (500, 1300), (500, 1000), (500, 900), (500, 1000)]\n",
    "                    for x, y in fallback_actions:\n",
    "                        self._tap(x, y)\n",
    "                        time.sleep(0.3)\n",
    "            else:"
   ]
  },
  {
   "cell_type": "markdown",
   "id": "20ba9d82",
   "metadata": {},
   "source": [
    "                # Fallback coordinates"
   ]
  },
  {
   "cell_type": "code",
   "execution_count": null,
   "id": "1347eebb",
   "metadata": {},
   "outputs": [],
   "source": [
    "                fallback_actions = [(500, 1200), (500, 1100), (500, 1300), (500, 1000), (500, 900), (500, 1000)]\n",
    "                for x, y in fallback_actions:\n",
    "                    self._tap(x, y)\n",
    "                    time.sleep(0.3)\n",
    "        except Exception as e:\n",
    "            logger.warning(f\"Error in enhanced location handling: {e}\")"
   ]
  },
  {
   "cell_type": "markdown",
   "id": "ea7baa57",
   "metadata": {},
   "source": [
    "            # Fallback coordinates"
   ]
  },
  {
   "cell_type": "markdown",
   "id": "4bf5c2a4",
   "metadata": {},
   "source": [
    "Try to recover app using recent apps."
   ]
  },
  {
   "cell_type": "markdown",
   "id": "4273eb1c",
   "metadata": {},
   "source": [
    "Try to recover app by going home and relaunching."
   ]
  },
  {
   "cell_type": "markdown",
   "id": "7f3acf38",
   "metadata": {},
   "source": [
    "Try to recover app by force stopping and restarting."
   ]
  },
  {
   "cell_type": "markdown",
   "id": "acf1baf8",
   "metadata": {},
   "source": [
    "Try to recover app by clearing recent apps and relaunching."
   ]
  },
  {
   "cell_type": "markdown",
   "id": "90704b39",
   "metadata": {},
   "source": [
    "Try to recover app using direct app launch - single strategy approach."
   ]
  },
  {
   "cell_type": "code",
   "execution_count": null,
   "id": "0b84d384",
   "metadata": {},
   "outputs": [],
   "source": [
    "            fallback_actions = [(500, 1200), (500, 1100), (500, 1300), (500, 1000), (500, 900), (500, 1000)]\n",
    "            for x, y in fallback_actions:\n",
    "                self._tap(x, y)\n",
    "                time.sleep(0.3)\n",
    "        \n",
    "        return True\n",
    "    \n",
    "    def _try_recent_apps_recovery(self) -> bool:\n",
    "        subprocess.run([\"adb\", \"shell\", \"input\", \"keyevent\", \"187\"], capture_output=True, check=False)  # Recent apps\n",
    "        time.sleep(1)\n",
    "        subprocess.run([\"adb\", \"shell\", \"input\", \"tap\", \"400\", \"800\"], capture_output=True, check=False)  # Tap app\n",
    "        time.sleep(1)\n",
    "        return True\n",
    "    \n",
    "    def _try_home_relaunch_recovery(self) -> bool:\n",
    "        subprocess.run([\"adb\", \"shell\", \"input\", \"keyevent\", \"3\"], capture_output=True, check=False)  # Home\n",
    "        time.sleep(1)\n",
    "        subprocess.run([\"adb\", \"shell\", \"monkey\", \"-p\", self.package_name, \"-c\", \"android.intent.category.LAUNCHER\", \"1\"], capture_output=True, check=False)\n",
    "        time.sleep(2)\n",
    "        return True\n",
    "    \n",
    "    def _try_force_restart_recovery(self) -> bool:\n",
    "        subprocess.run([\"adb\", \"shell\", \"am\", \"force-stop\", self.package_name], capture_output=True, check=False)\n",
    "        time.sleep(1)\n",
    "        subprocess.run([\"adb\", \"shell\", \"monkey\", \"-p\", self.package_name, \"-c\", \"android.intent.category.LAUNCHER\", \"1\"], capture_output=True, check=False)\n",
    "        time.sleep(2)\n",
    "        return True\n",
    "    \n",
    "    def _try_clear_recents_recovery(self) -> bool:\n",
    "        subprocess.run([\"adb\", \"shell\", \"input\", \"keyevent\", \"187\"], capture_output=True, check=False)  # Recent apps\n",
    "        time.sleep(1)\n",
    "        subprocess.run([\"adb\", \"shell\", \"input\", \"keyevent\", \"4\"], capture_output=True, check=False)  # Back to clear\n",
    "        time.sleep(1)\n",
    "        subprocess.run([\"adb\", \"shell\", \"monkey\", \"-p\", self.package_name, \"-c\", \"android.intent.category.LAUNCHER\", \"1\"], capture_output=True, check=False)\n",
    "        time.sleep(2)\n",
    "        return True\n",
    "    \n",
    "    def _try_direct_app_launch_recovery(self) -> bool:\n",
    "        logger.info(f\"Attempting direct app launch recovery for {self.package_name}\")\n",
    "        \n",
    "        try:"
   ]
  },
  {
   "cell_type": "markdown",
   "id": "2ff58fdf",
   "metadata": {},
   "source": [
    "            # Enhanced activity list with more variations"
   ]
  },
  {
   "cell_type": "code",
   "execution_count": null,
   "id": "81a3fa95",
   "metadata": {},
   "outputs": [],
   "source": [
    "            common_activities = [\n",
    "                f\"{self.package_name}/.MainActivity\",\n",
    "                f\"{self.package_name}/.ui.MainActivity\", \n",
    "                f\"{self.package_name}/.activities.MainActivity\",\n",
    "                f\"{self.package_name}/.LauncherActivity\",\n",
    "                f\"{self.package_name}/.SplashActivity\",\n",
    "                f\"{self.package_name}/.StartupActivity\",\n",
    "                f\"{self.package_name}/.HomeActivity\",\n",
    "                f\"{self.package_name}/.MenuActivity\",\n",
    "                f\"{self.package_name}/.activity.MainActivity\",\n",
    "                f\"{self.package_name}/.activity.LauncherActivity\",\n",
    "                f\"{self.package_name}/.activity.SplashActivity\",\n",
    "                f\"{self.package_name}/.activity.StartupActivity\",\n",
    "                f\"{self.package_name}/.activity.HomeActivity\",\n",
    "                f\"{self.package_name}/.activity.MenuActivity\"\n",
    "            ]\n",
    "            "
   ]
  },
  {
   "cell_type": "markdown",
   "id": "7d02d91f",
   "metadata": {},
   "source": [
    "            # Try common activities first (fast path)"
   ]
  },
  {
   "cell_type": "code",
   "execution_count": null,
   "id": "e8f0fcc0",
   "metadata": {},
   "outputs": [],
   "source": [
    "            for activity in common_activities:\n",
    "                try:\n",
    "                    logger.info(f\"Trying to launch: {activity}\")\n",
    "                    result = subprocess.run([\"adb\", \"shell\", \"am\", \"start\", \"-n\", activity], \n",
    "                                          capture_output=True, text=True, check=False)\n",
    "                    "
   ]
  },
  {
   "cell_type": "markdown",
   "id": "0704eb82",
   "metadata": {},
   "source": [
    "                    # Log the result for debugging"
   ]
  },
  {
   "cell_type": "code",
   "execution_count": null,
   "id": "c7ff252e",
   "metadata": {},
   "outputs": [],
   "source": [
    "                    if result.returncode != 0:\n",
    "                        logger.debug(f\"Launch failed for {activity}: {result.stderr}\")\n",
    "                    else:\n",
    "                        logger.debug(f\"Launch command succeeded for {activity}\")\n",
    "                    "
   ]
  },
  {
   "cell_type": "markdown",
   "id": "595201f2",
   "metadata": {},
   "source": [
    "                    # Quick check after a short delay"
   ]
  },
  {
   "cell_type": "code",
   "execution_count": null,
   "id": "f1e7b2ef",
   "metadata": {},
   "outputs": [],
   "source": [
    "                    time.sleep(0.5)  # Increased delay for better reliability\n",
    "                    \n",
    "                    if self.check_app_foreground():\n",
    "                        logger.info(f\"✓ Successfully launched app with: {activity}\")\n",
    "                        return True\n",
    "                    else:\n",
    "                        logger.debug(f\"App not in foreground after launching: {activity}\")\n",
    "                        \n",
    "                except Exception as e:\n",
    "                    logger.debug(f\"Exception launching {activity}: {e}\")\n",
    "                    continue\n",
    "            "
   ]
  },
  {
   "cell_type": "markdown",
   "id": "ce9065ca",
   "metadata": {},
   "source": [
    "            # If common activities failed, try activity discovery (slower but more thorough)"
   ]
  },
  {
   "cell_type": "code",
   "execution_count": null,
   "id": "ce2abd68",
   "metadata": {},
   "outputs": [],
   "source": [
    "            logger.info(\"Common activities failed, trying activity discovery...\")\n",
    "            main_activity = self._discover_main_activity()\n",
    "            \n",
    "            if main_activity:\n",
    "                logger.info(f\"Launching app with discovered activity: {main_activity}\")\n",
    "                result = subprocess.run([\"adb\", \"shell\", \"am\", \"start\", \"-n\", main_activity], \n",
    "                                      capture_output=True, text=True, check=False)\n",
    "                \n",
    "                if result.returncode != 0:\n",
    "                    logger.warning(f\"Discovered activity launch failed: {result.stderr}\")\n",
    "                \n",
    "                time.sleep(0.5)\n",
    "                \n",
    "                if self.check_app_foreground():\n",
    "                    logger.info(f\"✓ Successfully launched app with discovered activity: {main_activity}\")\n",
    "                    return True\n",
    "                else:\n",
    "                    logger.warning(\"App not in foreground after discovered activity launch\")\n",
    "            else:\n",
    "                logger.warning(\"No main activity discovered\")\n",
    "            "
   ]
  },
  {
   "cell_type": "markdown",
   "id": "d5dd6e0f",
   "metadata": {},
   "source": [
    "            # Try monkey launcher as last resort"
   ]
  },
  {
   "cell_type": "code",
   "execution_count": null,
   "id": "b062bd86",
   "metadata": {},
   "outputs": [],
   "source": [
    "            logger.info(\"Trying monkey launcher as last resort...\")\n",
    "            try:\n",
    "                subprocess.run([\"adb\", \"shell\", \"monkey\", \"-p\", self.package_name, \"-c\", \"android.intent.category.LAUNCHER\", \"1\"], \n",
    "                              capture_output=True, check=False)\n",
    "                time.sleep(1)\n",
    "                \n",
    "                if self.check_app_foreground():\n",
    "                    logger.info(\"✓ Successfully launched app with monkey launcher\")\n",
    "                    return True\n",
    "                else:\n",
    "                    logger.warning(\"App not in foreground after monkey launcher\")\n",
    "            except Exception as e:\n",
    "                logger.debug(f\"Monkey launcher failed: {e}\")\n",
    "            "
   ]
  },
  {
   "cell_type": "markdown",
   "id": "592e2df2",
   "metadata": {},
   "source": [
    "            # Final check"
   ]
  },
  {
   "cell_type": "markdown",
   "id": "98e53fc0",
   "metadata": {},
   "source": [
    "Discover the main activity for the target package."
   ]
  },
  {
   "cell_type": "code",
   "execution_count": null,
   "id": "0f85177c",
   "metadata": {},
   "outputs": [],
   "source": [
    "            time.sleep(0.5)\n",
    "            final_check = self.check_app_foreground()\n",
    "            if final_check:\n",
    "                logger.info(\"✓ App is in foreground after recovery attempts\")\n",
    "                return True\n",
    "            else:\n",
    "                logger.error(\"❌ App still not in foreground after all recovery attempts\")\n",
    "                return False\n",
    "            \n",
    "        except Exception as e:\n",
    "            logger.error(f\"Direct app launch recovery failed with exception: {e}\")\n",
    "            return False\n",
    "    \n",
    "    def _discover_main_activity(self) -> str | None:\n",
    "        try:"
   ]
  },
  {
   "cell_type": "markdown",
   "id": "2dbd5b76",
   "metadata": {},
   "source": [
    "            # Use cmd package resolve-activity to find the main activity"
   ]
  },
  {
   "cell_type": "code",
   "execution_count": null,
   "id": "4bfcf61a",
   "metadata": {},
   "outputs": [],
   "source": [
    "            result = subprocess.run(\n",
    "                [\"adb\", \"shell\", \"cmd\", \"package\", \"resolve-activity\", \"--brief\", self.package_name],\n",
    "                capture_output=True,\n",
    "                text=True,\n",
    "                check=False\n",
    "            )\n",
    "            \n",
    "            if result.returncode == 0 and result.stdout:\n",
    "                lines = result.stdout.strip().split('\\n')\n",
    "                for line in lines:\n",
    "                    if self.package_name in line and \"activity\" in line:"
   ]
  },
  {
   "cell_type": "markdown",
   "id": "9bc2fe7c",
   "metadata": {},
   "source": [
    "                        # Extract the activity name from the output\n",
    "                        # Format: package_name/activity_name"
   ]
  },
  {
   "cell_type": "code",
   "execution_count": null,
   "id": "e798b17e",
   "metadata": {},
   "outputs": [],
   "source": [
    "                        parts = line.strip().split()\n",
    "                        if len(parts) >= 2:\n",
    "                            activity_name = parts[-1]  # Last part is usually the activity\n",
    "                            logger.info(f\"Discovered main activity: {activity_name}\")\n",
    "                            return activity_name\n",
    "            "
   ]
  },
  {
   "cell_type": "markdown",
   "id": "f2655235",
   "metadata": {},
   "source": [
    "            # Alternative: use dumpsys to find activities"
   ]
  },
  {
   "cell_type": "code",
   "execution_count": null,
   "id": "207f00e3",
   "metadata": {},
   "outputs": [],
   "source": [
    "            result = subprocess.run(\n",
    "                [\"adb\", \"shell\", \"dumpsys\", \"package\", self.package_name],\n",
    "                capture_output=True,\n",
    "                text=True,\n",
    "                check=False\n",
    "            )\n",
    "            \n",
    "            if result.returncode == 0 and result.stdout:\n",
    "                lines = result.stdout.strip().split('\\n')\n",
    "                for line in lines:\n",
    "                    if \"android.intent.action.MAIN\" in line and \"android.intent.category.LAUNCHER\" in line:"
   ]
  },
  {
   "cell_type": "markdown",
   "id": "40a7fbab",
   "metadata": {},
   "source": [
    "                        # Extract activity name from the line"
   ]
  },
  {
   "cell_type": "code",
   "execution_count": null,
   "id": "37e94c3f",
   "metadata": {},
   "outputs": [],
   "source": [
    "                        if self.package_name in line:"
   ]
  },
  {
   "cell_type": "markdown",
   "id": "6315f589",
   "metadata": {},
   "source": [
    "                            # Look for the activity name pattern"
   ]
  },
  {
   "cell_type": "markdown",
   "id": "fe91f5d4",
   "metadata": {},
   "source": [
    "Check if the app is currently in foreground with proper detection."
   ]
  },
  {
   "cell_type": "code",
   "execution_count": null,
   "id": "7defd963",
   "metadata": {},
   "outputs": [],
   "source": [
    "                            import re\n",
    "                            match = re.search(rf'{self.package_name}/([^\\s]+)', line)\n",
    "                            if match:\n",
    "                                activity_name = f\"{self.package_name}/{match.group(1)}\"\n",
    "                                logger.info(f\"Discovered launcher activity: {activity_name}\")\n",
    "                                return activity_name\n",
    "            \n",
    "            return None\n",
    "            \n",
    "        except Exception as e:\n",
    "            logger.debug(f\"Failed to discover main activity: {e}\")\n",
    "            return None\n",
    "    \n",
    "    def check_app_foreground(self) -> bool:\n",
    "        try:"
   ]
  },
  {
   "cell_type": "markdown",
   "id": "8cc49b8a",
   "metadata": {},
   "source": [
    "            # Method 1: Check current activity using dumpsys activity activities"
   ]
  },
  {
   "cell_type": "code",
   "execution_count": null,
   "id": "e26d44fa",
   "metadata": {},
   "outputs": [],
   "source": [
    "            result = subprocess.run(\n",
    "                [\"adb\", \"shell\", \"dumpsys\", \"activity\", \"activities\"],\n",
    "                capture_output=True,\n",
    "                text=True,\n",
    "                check=False\n",
    "            )\n",
    "            \n",
    "            if result.returncode == 0:"
   ]
  },
  {
   "cell_type": "markdown",
   "id": "77be7153",
   "metadata": {},
   "source": [
    "                # Look for ResumedActivity in the output (without 'm' prefix)"
   ]
  },
  {
   "cell_type": "code",
   "execution_count": null,
   "id": "3547994a",
   "metadata": {},
   "outputs": [],
   "source": [
    "                for line in result.stdout.split('\\n'):\n",
    "                    if 'ResumedActivity:' in line and self.package_name in line:\n",
    "                        logger.info(f\"✓ App is in foreground (ResumedActivity: {line.strip()})\")\n",
    "                        return True\n",
    "            "
   ]
  },
  {
   "cell_type": "markdown",
   "id": "b1e5032f",
   "metadata": {},
   "source": [
    "            # Method 2: Check current focus using dumpsys window windows"
   ]
  },
  {
   "cell_type": "code",
   "execution_count": null,
   "id": "0dc5fc6a",
   "metadata": {},
   "outputs": [],
   "source": [
    "            result = subprocess.run(\n",
    "                [\"adb\", \"shell\", \"dumpsys\", \"window\", \"windows\"],\n",
    "                capture_output=True,\n",
    "                text=True,\n",
    "                check=False\n",
    "            )\n",
    "            \n",
    "            if result.returncode == 0:"
   ]
  },
  {
   "cell_type": "markdown",
   "id": "a3d15543",
   "metadata": {},
   "source": [
    "                # Look for mCurrentFocus in the output"
   ]
  },
  {
   "cell_type": "code",
   "execution_count": null,
   "id": "bd43d3a4",
   "metadata": {},
   "outputs": [],
   "source": [
    "                for line in result.stdout.split('\\n'):\n",
    "                    if 'mCurrentFocus' in line and self.package_name in line:\n",
    "                        logger.info(f\"✓ App is in foreground (mCurrentFocus: {line.strip()})\")\n",
    "                        return True\n",
    "            "
   ]
  },
  {
   "cell_type": "markdown",
   "id": "b31682ac",
   "metadata": {},
   "source": [
    "            # Method 3: Check top activity (but only if it's actually resumed)"
   ]
  },
  {
   "cell_type": "code",
   "execution_count": null,
   "id": "e5e7ef2a",
   "metadata": {},
   "outputs": [],
   "source": [
    "            result = subprocess.run(\n",
    "                [\"adb\", \"shell\", \"dumpsys\", \"activity\", \"top\"],\n",
    "                capture_output=True,\n",
    "                text=True,\n",
    "                check=False\n",
    "            )\n",
    "            \n",
    "            if result.returncode == 0:"
   ]
  },
  {
   "cell_type": "markdown",
   "id": "304505ce",
   "metadata": {},
   "source": [
    "                # Look for ACTIVITY in the output, but be more careful"
   ]
  },
  {
   "cell_type": "code",
   "execution_count": null,
   "id": "8f90197b",
   "metadata": {},
   "outputs": [],
   "source": [
    "                for line in result.stdout.split('\\n'):\n",
    "                    if 'ACTIVITY' in line and self.package_name in line:"
   ]
  },
  {
   "cell_type": "markdown",
   "id": "581e5873",
   "metadata": {},
   "source": [
    "                        # Additional check: make sure it's not just a background activity"
   ]
  },
  {
   "cell_type": "code",
   "execution_count": null,
   "id": "a0edec83",
   "metadata": {},
   "outputs": [],
   "source": [
    "                        if 'state=RESUMED' in line or 'visible=true' in line:\n",
    "                            logger.info(f\"✓ App is in foreground (top activity: {line.strip()})\")\n",
    "                            return True\n",
    "                        else:\n",
    "                            logger.debug(f\"Found app in top activity but not resumed: {line.strip()}\")\n",
    "            "
   ]
  },
  {
   "cell_type": "markdown",
   "id": "a636e53f",
   "metadata": {},
   "source": [
    "            # Method 5: Check using dumpsys window | grep -E \"mCurrentFocus.*{package_name}\""
   ]
  },
  {
   "cell_type": "code",
   "execution_count": null,
   "id": "92be4f49",
   "metadata": {},
   "outputs": [],
   "source": [
    "            result = subprocess.run(\n",
    "                [\"adb\", \"shell\", \"dumpsys\", \"window\"],\n",
    "                capture_output=True,\n",
    "                text=True,\n",
    "                check=False\n",
    "            )\n",
    "            \n",
    "            if result.returncode == 0:"
   ]
  },
  {
   "cell_type": "markdown",
   "id": "97149298",
   "metadata": {},
   "source": [
    "                # Use grep-like filtering in Python"
   ]
  },
  {
   "cell_type": "code",
   "execution_count": null,
   "id": "b73ab72c",
   "metadata": {},
   "outputs": [],
   "source": [
    "                import re\n",
    "                pattern = rf\"mCurrentFocus.*{re.escape(self.package_name)}\"\n",
    "                for line in result.stdout.split('\\n'):\n",
    "                    if re.search(pattern, line):\n",
    "                        logger.info(f\"✓ App is in foreground (window focus match: {line.strip()})\")\n",
    "                        return True\n",
    "            "
   ]
  },
  {
   "cell_type": "markdown",
   "id": "f485b27d",
   "metadata": {},
   "source": [
    "            # If we get here, the app is not in foreground"
   ]
  },
  {
   "cell_type": "code",
   "execution_count": null,
   "id": "74446495",
   "metadata": {},
   "outputs": [],
   "source": [
    "            logger.warning(f\"❌ App {self.package_name} is NOT in foreground\")\n",
    "            "
   ]
  },
  {
   "cell_type": "markdown",
   "id": "9219a93b",
   "metadata": {},
   "source": [
    "            # Log what IS in foreground for debugging"
   ]
  },
  {
   "cell_type": "code",
   "execution_count": null,
   "id": "4466157d",
   "metadata": {},
   "outputs": [],
   "source": [
    "            try:"
   ]
  },
  {
   "cell_type": "markdown",
   "id": "e7e69804",
   "metadata": {},
   "source": [
    "                # Get current foreground app for debugging"
   ]
  },
  {
   "cell_type": "markdown",
   "id": "9352de6e",
   "metadata": {},
   "source": [
    "Uninstall the app after testing.\n",
    "        \n",
    "        Returns\n",
    "        -------\n",
    "        bool\n",
    "            True if uninstallation successful\n"
   ]
  },
  {
   "cell_type": "markdown",
   "id": "e35b2d91",
   "metadata": {},
   "source": [
    "Clean up after testing is complete."
   ]
  },
  {
   "cell_type": "code",
   "execution_count": null,
   "id": "cb13e67a",
   "metadata": {},
   "outputs": [],
   "source": [
    "                result = subprocess.run(\n",
    "                    [\"adb\", \"shell\", \"dumpsys\", \"activity\", \"activities\"],\n",
    "                    capture_output=True,\n",
    "                    text=True,\n",
    "                    check=False\n",
    "                )\n",
    "                \n",
    "                if result.returncode == 0:\n",
    "                    for line in result.stdout.split('\\n'):\n",
    "                        if 'ResumedActivity:' in line:\n",
    "                            logger.info(f\"Current foreground app: {line.strip()}\")\n",
    "                            break\n",
    "            except Exception as e:\n",
    "                logger.debug(f\"Could not get current foreground app info: {e}\")\n",
    "            \n",
    "            return False\n",
    "            \n",
    "        except Exception as e:\n",
    "            logger.error(f\"Error checking app foreground: {e}\")\n",
    "            return False\n",
    "    \n",
    "    def uninstall_app(self) -> bool:\n",
    "        logger.info(f\"Uninstalling {self.app_name}...\")\n",
    "        \n",
    "        try:\n",
    "            result = subprocess.run(\n",
    "                [\"adb\", \"uninstall\", self.package_name],\n",
    "                capture_output=True,\n",
    "                text=True,\n",
    "                check=True\n",
    "            )\n",
    "            \n",
    "            if \"Success\" in result.stdout:\n",
    "                logger.info(\"✓ App uninstalled successfully\")\n",
    "                return True\n",
    "            else:\n",
    "                logger.warning(f\"Uninstallation may have failed: {result.stdout}\")\n",
    "                return False\n",
    "                \n",
    "        except subprocess.CalledProcessError as e:\n",
    "            logger.warning(f\"Uninstallation error: {e}\")\n",
    "            return False\n",
    "    \n",
    "    def cleanup_after_testing(self) -> None:\n",
    "        logger.info(\"Performing cleanup...\")\n",
    "        try:"
   ]
  },
  {
   "cell_type": "markdown",
   "id": "bf48bfdd",
   "metadata": {},
   "source": [
    "            # Restore original device settings"
   ]
  },
  {
   "cell_type": "code",
   "execution_count": null,
   "id": "4e0edc02",
   "metadata": {},
   "outputs": [],
   "source": [
    "            subprocess.run([\"adb\", \"shell\", \"settings\", \"put\", \"global\", \"window_animation_scale\", \"1.0\"], capture_output=True, check=False)\n",
    "            subprocess.run([\"adb\", \"shell\", \"settings\", \"put\", \"global\", \"transition_animation_scale\", \"1.0\"], capture_output=True, check=False)\n",
    "            subprocess.run([\"adb\", \"shell\", \"settings\", \"put\", \"global\", \"animator_duration_scale\", \"1.0\"], capture_output=True, check=False)\n",
    "            subprocess.run([\"adb\", \"shell\", \"settings\", \"put\", \"global\", \"stay_on_while_plugged_in\", \"0\"], capture_output=True, check=False)\n",
    "            subprocess.run([\"adb\", \"shell\", \"settings\", \"put\", \"system\", \"screen_brightness_mode\", \"1\"], capture_output=True, check=False)\n",
    "            "
   ]
  },
  {
   "cell_type": "markdown",
   "id": "d8fd16e6",
   "metadata": {},
   "source": [
    "            # Re-enable system UI overlays"
   ]
  },
  {
   "cell_type": "markdown",
   "id": "8535f611",
   "metadata": {},
   "source": [
    "Capture a screenshot and save it.\n",
    "        \n",
    "        Parameters\n",
    "        ----------\n",
    "        action_name : str\n",
    "            Name for the screenshot file\n",
    "            \n",
    "        Returns\n",
    "        -------\n",
    "        Optional[str]\n",
    "            Path to saved screenshot, or None if failed\n"
   ]
  },
  {
   "cell_type": "code",
   "execution_count": null,
   "id": "fd893f74",
   "metadata": {},
   "outputs": [],
   "source": [
    "            subprocess.run([\"adb\", \"shell\", \"settings\", \"put\", \"secure\", \"overlay_enabled\", \"1\"], capture_output=True, check=False)\n",
    "            \n",
    "            logger.info(\"✓ Cleanup completed\")\n",
    "        except Exception as e:\n",
    "            logger.warning(f\"Cleanup warning: {e}\")\n",
    "    \n",
    "    def capture_screenshot(self, action_name: str) -> Optional[str]:\n",
    "        try:\n",
    "            timestamp = int(time.time() * 1000)\n",
    "            filename = f\"{self.app_name.lower().replace(' ', '_')}_{action_name}_{timestamp}.png\"\n",
    "            screenshot_path = self.screenshots_dir / filename\n",
    "            "
   ]
  },
  {
   "cell_type": "markdown",
   "id": "683cb194",
   "metadata": {},
   "source": [
    "            # Capture screenshot"
   ]
  },
  {
   "cell_type": "code",
   "execution_count": null,
   "id": "da6326c6",
   "metadata": {},
   "outputs": [],
   "source": [
    "            result = subprocess.run(\n",
    "                [\"adb\", \"exec-out\", \"screencap\", \"-p\"],\n",
    "                capture_output=True,\n",
    "                check=True\n",
    "            )\n",
    "            "
   ]
  },
  {
   "cell_type": "markdown",
   "id": "a37c3101",
   "metadata": {},
   "source": [
    "            # Save screenshot"
   ]
  },
  {
   "cell_type": "markdown",
   "id": "78af093a",
   "metadata": {},
   "source": [
    "Determine if a screenshot should be captured based on frequency settings.\n",
    "        \n",
    "        Parameters\n",
    "        ----------\n",
    "        action_type : str\n",
    "            Type of action being performed\n",
    "        action_step : str\n",
    "            Step in action: \"before\", \"during\", \"after\"\n",
    "            \n",
    "        Returns\n",
    "        -------\n",
    "        bool\n",
    "            True if screenshot should be captured\n"
   ]
  },
  {
   "cell_type": "code",
   "execution_count": null,
   "id": "aed59617",
   "metadata": {},
   "outputs": [],
   "source": [
    "            with open(screenshot_path, 'wb') as f:\n",
    "                f.write(result.stdout)\n",
    "            \n",
    "            logger.info(f\"✓ Screenshot saved: {filename}\")\n",
    "            return str(screenshot_path)\n",
    "            \n",
    "        except subprocess.CalledProcessError as e:\n",
    "            logger.error(f\"Screenshot capture failed: {e}\")\n",
    "            return None\n",
    "    \n",
    "    def should_capture_screenshot(self, action_type: str, action_step: str = \"after\") -> bool:\n",
    "        if self.screenshot_frequency == \"minimal\":"
   ]
  },
  {
   "cell_type": "markdown",
   "id": "d7f3ae50",
   "metadata": {},
   "source": [
    "            # Only capture after action completion"
   ]
  },
  {
   "cell_type": "code",
   "execution_count": null,
   "id": "e19a9650",
   "metadata": {},
   "outputs": [],
   "source": [
    "            return action_step == \"after\"\n",
    "        \n",
    "        elif self.screenshot_frequency == \"high\":"
   ]
  },
  {
   "cell_type": "markdown",
   "id": "f8aea983",
   "metadata": {},
   "source": [
    "            # Capture at every step"
   ]
  },
  {
   "cell_type": "code",
   "execution_count": null,
   "id": "7d06f0cd",
   "metadata": {},
   "outputs": [],
   "source": [
    "            return True\n",
    "        \n",
    "        elif self.screenshot_frequency == \"adaptive\":"
   ]
  },
  {
   "cell_type": "markdown",
   "id": "dad09905",
   "metadata": {},
   "source": [
    "            # Smart capture based on action type and step"
   ]
  },
  {
   "cell_type": "code",
   "execution_count": null,
   "id": "28bc9e49",
   "metadata": {},
   "outputs": [],
   "source": [
    "            if action_step == \"after\":\n",
    "                return True  # Always capture after action\n",
    "            \n",
    "            elif action_step == \"before\":"
   ]
  },
  {
   "cell_type": "markdown",
   "id": "f733d745",
   "metadata": {},
   "source": [
    "                # Capture before complex actions"
   ]
  },
  {
   "cell_type": "code",
   "execution_count": null,
   "id": "224ee14e",
   "metadata": {},
   "outputs": [],
   "source": [
    "                complex_actions = [\"swipe\", \"keyevent\"]\n",
    "                return action_type in complex_actions\n",
    "            \n",
    "            elif action_step == \"during\":"
   ]
  },
  {
   "cell_type": "markdown",
   "id": "49bd76cf",
   "metadata": {},
   "source": [
    "                # Capture during long actions (swipes)"
   ]
  },
  {
   "cell_type": "markdown",
   "id": "ee8c14d3",
   "metadata": {},
   "source": [
    "Capture a screenshot with timing information.\n",
    "        \n",
    "        Parameters\n",
    "        ----------\n",
    "        action_name : str\n",
    "            Name for the screenshot file\n",
    "        action_step : str\n",
    "            Step in action: \"before\", \"during\", \"after\"\n",
    "            \n",
    "        Returns\n",
    "        -------\n",
    "        Optional[str]\n",
    "            Path to saved screenshot, or None if failed\n"
   ]
  },
  {
   "cell_type": "code",
   "execution_count": null,
   "id": "7dc163be",
   "metadata": {},
   "outputs": [],
   "source": [
    "                return action_type == \"swipe\"\n",
    "        \n",
    "        return False\n",
    "    \n",
    "    def capture_screenshot_with_timing(self, action_name: str, action_step: str = \"after\") -> Optional[str]:\n",
    "        try:\n",
    "            timestamp = int(time.time() * 1000)\n",
    "            filename = f\"{self.app_name.lower().replace(' ', '_')}_{action_name}_{action_step}_{timestamp}.png\"\n",
    "            screenshot_path = self.screenshots_dir / filename\n",
    "            "
   ]
  },
  {
   "cell_type": "markdown",
   "id": "095e68c0",
   "metadata": {},
   "source": [
    "            # Capture screenshot"
   ]
  },
  {
   "cell_type": "code",
   "execution_count": null,
   "id": "8ab585c0",
   "metadata": {},
   "outputs": [],
   "source": [
    "            result = subprocess.run(\n",
    "                [\"adb\", \"exec-out\", \"screencap\", \"-p\"],\n",
    "                capture_output=True,\n",
    "                check=True\n",
    "            )\n",
    "            "
   ]
  },
  {
   "cell_type": "markdown",
   "id": "55b00d5c",
   "metadata": {},
   "source": [
    "            # Save screenshot"
   ]
  },
  {
   "cell_type": "markdown",
   "id": "c93c19d1",
   "metadata": {},
   "source": [
    "Capture screenshot with optimized timing to avoid foreground issues.\n",
    "        \n",
    "        Parameters\n",
    "        ----------\n",
    "        action_name : str\n",
    "            Name for the screenshot file\n",
    "        action_step : str\n",
    "            Step in action: \"before\", \"during\", \"after\"\n",
    "        immediate : bool\n",
    "            If True, capture immediately without foreground checks\n",
    "            \n",
    "        Returns\n",
    "        -------\n",
    "        Optional[str]\n",
    "            Path to saved screenshot, or None if failed\n"
   ]
  },
  {
   "cell_type": "code",
   "execution_count": null,
   "id": "c26eb92a",
   "metadata": {},
   "outputs": [],
   "source": [
    "            with open(screenshot_path, 'wb') as f:\n",
    "                f.write(result.stdout)\n",
    "            \n",
    "            logger.info(f\"✓ Screenshot saved: {filename}\")\n",
    "            return str(screenshot_path)\n",
    "            \n",
    "        except subprocess.CalledProcessError as e:\n",
    "            logger.error(f\"Screenshot capture failed: {e}\")\n",
    "            return None\n",
    "    \n",
    "    def capture_screenshot_optimized(self, action_name: str, action_step: str = \"after\", \n",
    "                                   immediate: bool = True) -> Optional[str]:\n",
    "        try:\n",
    "            timestamp = int(time.time() * 1000)\n",
    "            filename = f\"{self.app_name.lower().replace(' ', '_')}_{action_name}_{action_step}_{timestamp}.png\"\n",
    "            screenshot_path = self.screenshots_dir / filename\n",
    "            "
   ]
  },
  {
   "cell_type": "markdown",
   "id": "3bfb1e6f",
   "metadata": {},
   "source": [
    "            # OPTIMIZATION: Capture immediately after action, before any system interference"
   ]
  },
  {
   "cell_type": "code",
   "execution_count": null,
   "id": "991dc25d",
   "metadata": {},
   "outputs": [],
   "source": [
    "            if immediate:"
   ]
  },
  {
   "cell_type": "markdown",
   "id": "4eeb2d57",
   "metadata": {},
   "source": [
    "                # Use fast screenshot capture without foreground checks"
   ]
  },
  {
   "cell_type": "code",
   "execution_count": null,
   "id": "ff3b45c3",
   "metadata": {},
   "outputs": [],
   "source": [
    "                result = subprocess.run(\n",
    "                    [\"adb\", \"exec-out\", \"screencap\", \"-p\"],\n",
    "                    capture_output=True,\n",
    "                    check=True,\n",
    "                    timeout=5  # Add timeout to prevent hanging\n",
    "                )\n",
    "            else:"
   ]
  },
  {
   "cell_type": "markdown",
   "id": "f81414e6",
   "metadata": {},
   "source": [
    "                # Traditional approach with foreground checks"
   ]
  },
  {
   "cell_type": "code",
   "execution_count": null,
   "id": "9de3a1d9",
   "metadata": {},
   "outputs": [],
   "source": [
    "                if not self.check_app_foreground():\n",
    "                    self.keep_app_foreground()\n",
    "                    time.sleep(0.5)  # Brief wait\n",
    "                \n",
    "                result = subprocess.run(\n",
    "                    [\"adb\", \"exec-out\", \"screencap\", \"-p\"],\n",
    "                    capture_output=True,\n",
    "                    check=True\n",
    "                )\n",
    "            "
   ]
  },
  {
   "cell_type": "markdown",
   "id": "14feeb36",
   "metadata": {},
   "source": [
    "            # Save screenshot"
   ]
  },
  {
   "cell_type": "code",
   "execution_count": null,
   "id": "48b72423",
   "metadata": {},
   "outputs": [],
   "source": [
    "            with open(screenshot_path, 'wb') as f:\n",
    "                f.write(result.stdout)\n",
    "            "
   ]
  },
  {
   "cell_type": "markdown",
   "id": "04f8b5ea",
   "metadata": {},
   "source": [
    "            # Track last screenshot path for Phi Ground"
   ]
  },
  {
   "cell_type": "markdown",
   "id": "c77cb12e",
   "metadata": {},
   "source": [
    "Capture screenshot with optimized timing for frequent actions.\n",
    "        \n",
    "        Parameters\n",
    "        ----------\n",
    "        action_name : str\n",
    "            Name for the screenshot file\n",
    "        action_step : str\n",
    "            Step in action: \"before\", \"during\", \"after\"\n",
    "        max_retries : int\n",
    "            Maximum number of retry attempts\n",
    "            \n",
    "        Returns\n",
    "        -------\n",
    "        Optional[str]\n",
    "            Path to saved screenshot, or None if failed\n"
   ]
  },
  {
   "cell_type": "code",
   "execution_count": null,
   "id": "f5eb8a9c",
   "metadata": {},
   "outputs": [],
   "source": [
    "            self._last_screenshot_path = str(screenshot_path)\n",
    "            \n",
    "            logger.info(f\"✓ Screenshot saved successfully: {filename}\")\n",
    "            return str(screenshot_path)\n",
    "            \n",
    "        except subprocess.TimeoutExpired:\n",
    "            logger.error(f\"Screenshot capture timed out: {action_name}\")\n",
    "            return None\n",
    "        except subprocess.CalledProcessError as e:\n",
    "            logger.error(f\"Screenshot capture failed: {e}\")\n",
    "            return None\n",
    "        except Exception as e:\n",
    "            logger.error(f\"Unexpected screenshot error: {e}\")\n",
    "            return None\n",
    "    \n",
    "    def capture_screenshot_with_foreground_management(self, action_name: str, action_step: str = \"after\", \n",
    "                                                    max_retries: int = 3) -> Optional[str]:\n",
    "        for attempt in range(max_retries):\n",
    "            try:\n",
    "                timestamp = int(time.time() * 1000)\n",
    "                filename = f\"{self.app_name.lower().replace(' ', '_')}_{action_name}_{action_step}_{timestamp}.png\"\n",
    "                screenshot_path = self.screenshots_dir / filename\n",
    "                "
   ]
  },
  {
   "cell_type": "markdown",
   "id": "d9383a8b",
   "metadata": {},
   "source": [
    "                # ENHANCED FOREGROUND MANAGEMENT: Check and recover if needed"
   ]
  },
  {
   "cell_type": "code",
   "execution_count": null,
   "id": "d88007a4",
   "metadata": {},
   "outputs": [],
   "source": [
    "                if attempt == 0:  # Only check foreground on first attempt\n",
    "                    is_foreground = self.check_app_foreground()\n",
    "                    if not is_foreground:\n",
    "                        logger.warning(\"App not in foreground, attempting enhanced recovery...\")\n",
    "                        if not self.enhanced_foreground_recovery():\n",
    "                            logger.error(\"Failed to recover app to foreground\")\n",
    "                            return None\n",
    "                        time.sleep(0.5)  # Wait for recovery to stabilize\n",
    "                "
   ]
  },
  {
   "cell_type": "markdown",
   "id": "f280a082",
   "metadata": {},
   "source": [
    "                # OPTIMIZATION 2: Minimal wait time for app stabilization"
   ]
  },
  {
   "cell_type": "code",
   "execution_count": null,
   "id": "27f32dfb",
   "metadata": {},
   "outputs": [],
   "source": [
    "                wait_time = 0.1 + (attempt * 0.1)  # Progressive wait: 0.1s, 0.2s, 0.3s (reduced from 0.5s, 0.8s, 1.1s)\n",
    "                if wait_time > 0.1:\n",
    "                    logger.info(f\"Waiting {wait_time:.1f}s for app to stabilize...\")\n",
    "                    time.sleep(wait_time)\n",
    "                "
   ]
  },
  {
   "cell_type": "markdown",
   "id": "3af3b9db",
   "metadata": {},
   "source": [
    "                # OPTIMIZATION 3: Capture screenshot immediately with timeout"
   ]
  },
  {
   "cell_type": "code",
   "execution_count": null,
   "id": "ab167011",
   "metadata": {},
   "outputs": [],
   "source": [
    "                logger.info(\"Capturing screenshot...\")\n",
    "                result = subprocess.run(\n",
    "                    [\"adb\", \"exec-out\", \"screencap\", \"-p\"],\n",
    "                    capture_output=True,\n",
    "                    check=True,\n",
    "                    timeout=3  # Reduced from 5s\n",
    "                )\n",
    "                "
   ]
  },
  {
   "cell_type": "markdown",
   "id": "32afb0f8",
   "metadata": {},
   "source": [
    "                # OPTIMIZATION 4: Save screenshot"
   ]
  },
  {
   "cell_type": "code",
   "execution_count": null,
   "id": "9977fe4d",
   "metadata": {},
   "outputs": [],
   "source": [
    "                with open(screenshot_path, 'wb') as f:\n",
    "                    f.write(result.stdout)\n",
    "                "
   ]
  },
  {
   "cell_type": "markdown",
   "id": "c0a19b87",
   "metadata": {},
   "source": [
    "                # Track last screenshot path for Phi Ground"
   ]
  },
  {
   "cell_type": "markdown",
   "id": "041bcec6",
   "metadata": {},
   "source": [
    "Perform a random action with optimized screenshot timing to avoid foreground issues.\n",
    "        \n",
    "        Returns\n",
    "        -------\n",
    "        Tuple[str, str, str, List[str]]\n",
    "            (action_type, action_description, element_id, screenshot_paths)\n"
   ]
  },
  {
   "cell_type": "code",
   "execution_count": null,
   "id": "712b9942",
   "metadata": {},
   "outputs": [],
   "source": [
    "                self._last_screenshot_path = str(screenshot_path)\n",
    "                \n",
    "                logger.info(f\"✓ Screenshot saved successfully: {filename}\")\n",
    "                return str(screenshot_path)\n",
    "                \n",
    "            except subprocess.TimeoutExpired:\n",
    "                logger.error(f\"Screenshot capture timed out (attempt {attempt + 1})\")\n",
    "                if attempt < max_retries - 1:\n",
    "                    time.sleep(0.5)  # Reduced from 1s\n",
    "                    continue\n",
    "                else:\n",
    "                    return None\n",
    "                    \n",
    "            except subprocess.CalledProcessError as e:\n",
    "                logger.error(f\"Screenshot capture failed (attempt {attempt + 1}): {e}\")\n",
    "                if attempt < max_retries - 1:\n",
    "                    time.sleep(0.5)  # Reduced from 1s\n",
    "                    continue\n",
    "                else:\n",
    "                    return None\n",
    "                    \n",
    "            except Exception as e:\n",
    "                logger.error(f\"Unexpected screenshot error (attempt {attempt + 1}): {e}\")\n",
    "                if attempt < max_retries - 1:\n",
    "                    time.sleep(0.5)  # Reduced from 1s\n",
    "                    continue\n",
    "                else:\n",
    "                    return None\n",
    "        \n",
    "        return None\n",
    "    \n",
    "    def perform_random_action_with_optimized_timing(self) -> Tuple[str, str, str, List[str]]:\n",
    "        actions = [\n",
    "            (\"tap\", \"Tap center of screen\", \"center_tap\"),\n",
    "            (\"tap\", \"Tap top-left area\", \"top_left_tap\"),\n",
    "            (\"tap\", \"Tap top-right area\", \"top_right_tap\"),\n",
    "            (\"tap\", \"Tap bottom-left area\", \"bottom_left_tap\"),\n",
    "            (\"tap\", \"Tap bottom-right area\", \"bottom_right_tap\"),\n",
    "            (\"swipe\", \"Swipe down\", \"swipe_down\"),\n",
    "            (\"swipe\", \"Swipe up\", \"swipe_up\"),\n",
    "            (\"swipe\", \"Swipe left\", \"swipe_left\"),\n",
    "            (\"swipe\", \"Swipe right\", \"swipe_right\"),\n",
    "            (\"keyevent\", \"Press back button\", \"back_button\"),"
   ]
  },
  {
   "cell_type": "markdown",
   "id": "f9a7dfe2",
   "metadata": {},
   "source": [
    "            # (\"keyevent\", \"Press home button\", \"home_button\"),  # BLOCKED: Takes app out of foreground\n",
    "            # (\"keyevent\", \"Press menu button\", \"menu_button\"),  # BLOCKED: Can cause navigation issues"
   ]
  },
  {
   "cell_type": "code",
   "execution_count": null,
   "id": "b1fdaa4f",
   "metadata": {},
   "outputs": [],
   "source": [
    "        ]\n",
    "        \n",
    "        action_type, description, element_id = random.choice(actions)\n",
    "        screenshot_paths = []\n",
    "        \n",
    "        try:"
   ]
  },
  {
   "cell_type": "markdown",
   "id": "6b04b8d9",
   "metadata": {},
   "source": [
    "            # STRATEGY 1: Capture before action (if needed) with immediate timing"
   ]
  },
  {
   "cell_type": "code",
   "execution_count": null,
   "id": "f7a7d6c4",
   "metadata": {},
   "outputs": [],
   "source": [
    "            if self.should_capture_screenshot(action_type, \"before\"):\n",
    "                before_screenshot = self.capture_screenshot_optimized(\n",
    "                    f\"action_{self.action_count + 1}\", \"before\", immediate=True\n",
    "                )\n",
    "                if before_screenshot:\n",
    "                    screenshot_paths.append(before_screenshot)\n",
    "            "
   ]
  },
  {
   "cell_type": "markdown",
   "id": "d5fd1c52",
   "metadata": {},
   "source": [
    "            # STRATEGY 2: Perform action with minimal delay"
   ]
  },
  {
   "cell_type": "code",
   "execution_count": null,
   "id": "141d598f",
   "metadata": {},
   "outputs": [],
   "source": [
    "            if action_type == \"tap\":"
   ]
  },
  {
   "cell_type": "markdown",
   "id": "01166d5e",
   "metadata": {},
   "source": [
    "                # Try precision coordinates first"
   ]
  },
  {
   "cell_type": "code",
   "execution_count": null,
   "id": "67776f0a",
   "metadata": {},
   "outputs": [],
   "source": [
    "                x_p, y_p = self._get_precision_tap_coordinates()\n",
    "                if x_p is None or y_p is None:\n",
    "                    x_p = random.randint(100, 900)\n",
    "                    y_p = random.randint(200, 1600)\n",
    "                self._tap(x_p, y_p)"
   ]
  },
  {
   "cell_type": "markdown",
   "id": "eb5dcefc",
   "metadata": {},
   "source": [
    "                # CRITICAL: Capture immediately after tap, before any system interference"
   ]
  },
  {
   "cell_type": "code",
   "execution_count": null,
   "id": "a34ec2c5",
   "metadata": {},
   "outputs": [],
   "source": [
    "                time.sleep(0.2)  # Minimal wait for tap to register\n",
    "                \n",
    "            elif action_type == \"swipe\":"
   ]
  },
  {
   "cell_type": "markdown",
   "id": "233ad601",
   "metadata": {},
   "source": [
    "                # Swipe with optimized timing"
   ]
  },
  {
   "cell_type": "code",
   "execution_count": null,
   "id": "8e538d58",
   "metadata": {},
   "outputs": [],
   "source": [
    "                start_x = random.randint(100, 900)\n",
    "                start_y = random.randint(200, 1600)\n",
    "                end_x = random.randint(100, 900)\n",
    "                end_y = random.randint(200, 1600)\n",
    "                "
   ]
  },
  {
   "cell_type": "markdown",
   "id": "85d26168",
   "metadata": {},
   "source": [
    "                # Execute swipe"
   ]
  },
  {
   "cell_type": "code",
   "execution_count": null,
   "id": "1aba6a60",
   "metadata": {},
   "outputs": [],
   "source": [
    "                subprocess.run(\n",
    "                    [\"adb\", \"shell\", \"input\", \"swipe\", str(start_x), str(start_y), str(end_x), str(end_y)],\n",
    "                    capture_output=True,\n",
    "                    check=False\n",
    "                )\n",
    "                "
   ]
  },
  {
   "cell_type": "markdown",
   "id": "3f4cca90",
   "metadata": {},
   "source": [
    "                # STRATEGY 3: Capture during swipe at optimal moment"
   ]
  },
  {
   "cell_type": "code",
   "execution_count": null,
   "id": "7f1352e1",
   "metadata": {},
   "outputs": [],
   "source": [
    "                if self.should_capture_screenshot(action_type, \"during\"):\n",
    "                    time.sleep(0.3)  # Wait for swipe to be in progress\n",
    "                    during_screenshot = self.capture_screenshot_optimized(\n",
    "                        f\"action_{self.action_count + 1}\", \"during\", immediate=True\n",
    "                    )\n",
    "                    if during_screenshot:\n",
    "                        screenshot_paths.append(during_screenshot)\n",
    "                "
   ]
  },
  {
   "cell_type": "markdown",
   "id": "70f57292",
   "metadata": {},
   "source": [
    "                # Wait for swipe completion"
   ]
  },
  {
   "cell_type": "code",
   "execution_count": null,
   "id": "3e14d282",
   "metadata": {},
   "outputs": [],
   "source": [
    "                time.sleep(0.7)  # Reduced wait time\n",
    "                \n",
    "            elif action_type == \"keyevent\":"
   ]
  },
  {
   "cell_type": "markdown",
   "id": "1573d2f3",
   "metadata": {},
   "source": [
    "                # Key events with immediate capture"
   ]
  },
  {
   "cell_type": "code",
   "execution_count": null,
   "id": "3f0db71d",
   "metadata": {},
   "outputs": [],
   "source": [
    "                key_map = {\n",
    "                    \"back_button\": \"4\",\n",
    "                    \"home_button\": \"3\",\n",
    "                    \"menu_button\": \"82\"\n",
    "                }\n",
    "                key_code = key_map.get(element_id, \"4\")\n",
    "                subprocess.run(\n",
    "                    [\"adb\", \"shell\", \"input\", \"keyevent\", key_code],\n",
    "                    capture_output=True,\n",
    "                    check=False\n",
    "                )\n",
    "                time.sleep(0.3)  # Brief wait for key event\n",
    "            "
   ]
  },
  {
   "cell_type": "markdown",
   "id": "1c1293dc",
   "metadata": {},
   "source": [
    "            # STRATEGY 4: Capture after action with immediate timing"
   ]
  },
  {
   "cell_type": "markdown",
   "id": "d113bd62",
   "metadata": {},
   "source": [
    "Perform a random action with optimized timing for frequent meaningful transitions.\n",
    "        \n",
    "        Returns\n",
    "        -------\n",
    "        Tuple[str, str, str, List[str]]\n",
    "            (action_type, action_description, element_id, screenshot_paths)\n"
   ]
  },
  {
   "cell_type": "code",
   "execution_count": null,
   "id": "8e95578b",
   "metadata": {},
   "outputs": [],
   "source": [
    "            if self.should_capture_screenshot(action_type, \"after\"):\n",
    "                after_screenshot = self.capture_screenshot_optimized(\n",
    "                    f\"action_{self.action_count + 1}\", \"after\", immediate=True\n",
    "                )\n",
    "                if after_screenshot:\n",
    "                    screenshot_paths.append(after_screenshot)\n",
    "            \n",
    "        except Exception as e:\n",
    "            logger.warning(f\"Action failed: {e}\")\n",
    "        \n",
    "        return action_type, description, element_id, screenshot_paths\n",
    "    \n",
    "    def perform_random_action_with_foreground_management(self) -> Tuple[str, str, str, List[str]]:"
   ]
  },
  {
   "cell_type": "markdown",
   "id": "d66c5674",
   "metadata": {},
   "source": [
    "        # Try Phi Ground first if available"
   ]
  },
  {
   "cell_type": "code",
   "execution_count": null,
   "id": "1a702792",
   "metadata": {},
   "outputs": [],
   "source": [
    "        phi_ground_action = self._try_phi_ground_action()\n",
    "        if phi_ground_action:\n",
    "            logger.info(\"Using Phi Ground generated action\")\n",
    "            return phi_ground_action\n",
    "        "
   ]
  },
  {
   "cell_type": "markdown",
   "id": "f6c9d706",
   "metadata": {},
   "source": [
    "        # Fallback to random actions if Phi Ground is not available"
   ]
  },
  {
   "cell_type": "code",
   "execution_count": null,
   "id": "591ba07c",
   "metadata": {},
   "outputs": [],
   "source": [
    "        logger.info(\"Using random action (Phi Ground not available)\")\n",
    "        "
   ]
  },
  {
   "cell_type": "markdown",
   "id": "a28c0bf2",
   "metadata": {},
   "source": [
    "        # Enhanced action set with more meaningful interactions"
   ]
  },
  {
   "cell_type": "code",
   "execution_count": null,
   "id": "44ff4458",
   "metadata": {},
   "outputs": [],
   "source": [
    "        actions = ["
   ]
  },
  {
   "cell_type": "markdown",
   "id": "ea2bb69b",
   "metadata": {},
   "source": [
    "            # High-impact actions that create meaningful state changes"
   ]
  },
  {
   "cell_type": "code",
   "execution_count": null,
   "id": "5de21d54",
   "metadata": {},
   "outputs": [],
   "source": [
    "            (\"tap\", \"Tap primary action button\", \"primary_action\"),\n",
    "            (\"tap\", \"Tap secondary action button\", \"secondary_action\"),\n",
    "            (\"tap\", \"Tap navigation element\", \"navigation_tap\"),\n",
    "            (\"tap\", \"Tap interactive control\", \"interactive_control\"),\n",
    "            (\"swipe\", \"Swipe to next screen\", \"swipe_next\"),\n",
    "            (\"swipe\", \"Swipe to previous screen\", \"swipe_prev\"),\n",
    "            (\"swipe\", \"Swipe to reveal menu\", \"swipe_menu\"),\n",
    "            (\"swipe\", \"Swipe to scroll content\", \"swipe_scroll\"),\n",
    "            (\"keyevent\", \"Press back button\", \"back_button\"),"
   ]
  },
  {
   "cell_type": "markdown",
   "id": "f0404877",
   "metadata": {},
   "source": [
    "            # (\"keyevent\", \"Press home button\", \"home_button\"),  # BLOCKED: Takes app out of foreground\n",
    "            # (\"keyevent\", \"Press menu button\", \"menu_button\"),  # BLOCKED: Can cause navigation issues\n",
    "            # Quick exploratory actions"
   ]
  },
  {
   "cell_type": "code",
   "execution_count": null,
   "id": "67d96c3a",
   "metadata": {},
   "outputs": [],
   "source": [
    "            (\"tap\", \"Tap center area\", \"center_tap\"),\n",
    "            (\"tap\", \"Tap edge area\", \"edge_tap\"),\n",
    "            (\"swipe\", \"Quick swipe gesture\", \"quick_swipe\"),\n",
    "        ]\n",
    "        \n",
    "        action_type, description, element_id = random.choice(actions)\n",
    "        screenshot_paths = []\n",
    "        \n",
    "        try:"
   ]
  },
  {
   "cell_type": "markdown",
   "id": "381bc158",
   "metadata": {},
   "source": [
    "            # ENHANCED FOREGROUND MANAGEMENT: Check and recover if needed"
   ]
  },
  {
   "cell_type": "code",
   "execution_count": null,
   "id": "a4f6654a",
   "metadata": {},
   "outputs": [],
   "source": [
    "            if not self.check_app_foreground():\n",
    "                logger.warning(\"App not in foreground, attempting enhanced recovery...\")\n",
    "                if not self.enhanced_foreground_recovery():\n",
    "                    logger.error(\"Failed to recover app to foreground\")\n",
    "                    return action_type, description, element_id, screenshot_paths\n",
    "                time.sleep(0.5)  # Wait for recovery to stabilize\n",
    "            "
   ]
  },
  {
   "cell_type": "markdown",
   "id": "0d23d86c",
   "metadata": {},
   "source": [
    "            # OPTIMIZATION 2: Capture before screenshot only for high-impact actions"
   ]
  },
  {
   "cell_type": "code",
   "execution_count": null,
   "id": "e767e274",
   "metadata": {},
   "outputs": [],
   "source": [
    "            if (action_type in [\"tap\"] and \"primary\" in description) or \"navigation\" in description:\n",
    "                before_screenshot = self.capture_screenshot_optimized(\n",
    "                    f\"action_{self.action_count + 1}\", \"before\", immediate=True\n",
    "                )\n",
    "                if before_screenshot:\n",
    "                    screenshot_paths.append(before_screenshot)\n",
    "            "
   ]
  },
  {
   "cell_type": "markdown",
   "id": "e0d5e20f",
   "metadata": {},
   "source": [
    "            # OPTIMIZATION 3: Perform action with minimal delays"
   ]
  },
  {
   "cell_type": "code",
   "execution_count": null,
   "id": "9fefee15",
   "metadata": {},
   "outputs": [],
   "source": [
    "            logger.info(f\"Performing {action_type}: {description}\")\n",
    "            \n",
    "            if action_type == \"tap\":"
   ]
  },
  {
   "cell_type": "markdown",
   "id": "6b7393ea",
   "metadata": {},
   "source": [
    "                # Intelligent tap positioning for meaningful interactions"
   ]
  },
  {
   "cell_type": "code",
   "execution_count": null,
   "id": "a4a73633",
   "metadata": {},
   "outputs": [],
   "source": [
    "                if \"primary\" in description:"
   ]
  },
  {
   "cell_type": "markdown",
   "id": "28c41c1e",
   "metadata": {},
   "source": [
    "                    # Tap in likely primary action areas"
   ]
  },
  {
   "cell_type": "code",
   "execution_count": null,
   "id": "d170a73d",
   "metadata": {},
   "outputs": [],
   "source": [
    "                    x = random.choice([400, 500, 600])  # Center area\n",
    "                    y = random.choice([1200, 1300, 1400])  # Bottom area\n",
    "                elif \"navigation\" in description:"
   ]
  },
  {
   "cell_type": "markdown",
   "id": "2e13bf05",
   "metadata": {},
   "source": [
    "                    # Tap in navigation areas"
   ]
  },
  {
   "cell_type": "code",
   "execution_count": null,
   "id": "050b9cbe",
   "metadata": {},
   "outputs": [],
   "source": [
    "                    x = random.choice([100, 1200])  # Left or right edge\n",
    "                    y = random.choice([200, 300, 400])  # Top area\n",
    "                elif \"interactive\" in description:"
   ]
  },
  {
   "cell_type": "markdown",
   "id": "d40d4721",
   "metadata": {},
   "source": [
    "                    # Tap in interactive areas"
   ]
  },
  {
   "cell_type": "code",
   "execution_count": null,
   "id": "68994af4",
   "metadata": {},
   "outputs": [],
   "source": [
    "                    x = random.randint(200, 800)\n",
    "                    y = random.randint(400, 1200)\n",
    "                else:"
   ]
  },
  {
   "cell_type": "markdown",
   "id": "e8953645",
   "metadata": {},
   "source": [
    "                    # General tap"
   ]
  },
  {
   "cell_type": "code",
   "execution_count": null,
   "id": "f34e6ec9",
   "metadata": {},
   "outputs": [],
   "source": [
    "                    x = random.randint(100, 900)\n",
    "                    y = random.randint(200, 1600)\n",
    "                \n",
    "                self._tap(x, y)\n",
    "                time.sleep(0.15)  # Reduced from 0.3s - just enough for tap to register\n",
    "                "
   ]
  },
  {
   "cell_type": "markdown",
   "id": "e1a368f5",
   "metadata": {},
   "source": [
    "                # Attempt autofill if a keyboard popped up"
   ]
  },
  {
   "cell_type": "code",
   "execution_count": null,
   "id": "3f4910c8",
   "metadata": {},
   "outputs": [],
   "source": [
    "                self._maybe_fill_text_field()\n",
    "            \n",
    "            elif action_type == \"swipe\":"
   ]
  },
  {
   "cell_type": "markdown",
   "id": "64257bbe",
   "metadata": {},
   "source": [
    "                # Intelligent swipe patterns for meaningful transitions"
   ]
  },
  {
   "cell_type": "code",
   "execution_count": null,
   "id": "dc23e209",
   "metadata": {},
   "outputs": [],
   "source": [
    "                if \"next\" in description:"
   ]
  },
  {
   "cell_type": "markdown",
   "id": "b9195156",
   "metadata": {},
   "source": [
    "                    # Swipe left to right (next screen)"
   ]
  },
  {
   "cell_type": "code",
   "execution_count": null,
   "id": "b7df3c7b",
   "metadata": {},
   "outputs": [],
   "source": [
    "                    start_x, end_x = 100, 800\n",
    "                    start_y = end_y = random.randint(800, 1200)\n",
    "                elif \"prev\" in description:"
   ]
  },
  {
   "cell_type": "markdown",
   "id": "0c6c5be1",
   "metadata": {},
   "source": [
    "                    # Swipe right to left (previous screen)"
   ]
  },
  {
   "cell_type": "code",
   "execution_count": null,
   "id": "4116b514",
   "metadata": {},
   "outputs": [],
   "source": [
    "                    start_x, end_x = 800, 100\n",
    "                    start_y = end_y = random.randint(800, 1200)\n",
    "                elif \"menu\" in description:"
   ]
  },
  {
   "cell_type": "markdown",
   "id": "f6ece326",
   "metadata": {},
   "source": [
    "                    # Swipe from edge to reveal menu"
   ]
  },
  {
   "cell_type": "code",
   "execution_count": null,
   "id": "8c2a0a0a",
   "metadata": {},
   "outputs": [],
   "source": [
    "                    start_x, end_x = 50, 300\n",
    "                    start_y = end_y = random.randint(400, 1000)\n",
    "                elif \"scroll\" in description:"
   ]
  },
  {
   "cell_type": "markdown",
   "id": "e3ab5809",
   "metadata": {},
   "source": [
    "                    # Vertical scroll"
   ]
  },
  {
   "cell_type": "code",
   "execution_count": null,
   "id": "815476df",
   "metadata": {},
   "outputs": [],
   "source": [
    "                    start_x = end_x = random.randint(300, 700)\n",
    "                    start_y, end_y = 1200, 400\n",
    "                else:"
   ]
  },
  {
   "cell_type": "markdown",
   "id": "d67a8ed4",
   "metadata": {},
   "source": [
    "                    # General swipe"
   ]
  },
  {
   "cell_type": "code",
   "execution_count": null,
   "id": "3336e293",
   "metadata": {},
   "outputs": [],
   "source": [
    "                    start_x = random.randint(100, 900)\n",
    "                    start_y = random.randint(200, 1600)\n",
    "                    end_x = random.randint(100, 900)\n",
    "                    end_y = random.randint(200, 1600)\n",
    "                \n",
    "                subprocess.run(\n",
    "                    [\"adb\", \"shell\", \"input\", \"swipe\", str(start_x), str(start_y), str(end_x), str(end_y)],\n",
    "                    capture_output=True,\n",
    "                    check=False\n",
    "                )\n",
    "                "
   ]
  },
  {
   "cell_type": "markdown",
   "id": "89143329",
   "metadata": {},
   "source": [
    "                # OPTIMIZATION 4: Capture during swipe only for long swipes"
   ]
  },
  {
   "cell_type": "code",
   "execution_count": null,
   "id": "e2c5ca0f",
   "metadata": {},
   "outputs": [],
   "source": [
    "                if \"next\" in description or \"prev\" in description:\n",
    "                    time.sleep(0.2)  # Reduced from 0.4s\n",
    "                    during_screenshot = self.capture_screenshot_optimized(\n",
    "                        f\"action_{self.action_count + 1}\", \"during\", immediate=True\n",
    "                    )\n",
    "                    if during_screenshot:\n",
    "                        screenshot_paths.append(during_screenshot)\n",
    "                \n",
    "                time.sleep(0.4)  # Reduced from 0.8s - just enough for swipe to complete\n",
    "                "
   ]
  },
  {
   "cell_type": "markdown",
   "id": "df162b3e",
   "metadata": {},
   "source": [
    "                # Attempt autofill if a keyboard popped up"
   ]
  },
  {
   "cell_type": "code",
   "execution_count": null,
   "id": "7783a316",
   "metadata": {},
   "outputs": [],
   "source": [
    "                self._maybe_fill_text_field()\n",
    "            \n",
    "            elif action_type == \"keyevent\":"
   ]
  },
  {
   "cell_type": "markdown",
   "id": "179d4451",
   "metadata": {},
   "source": [
    "                # Key events with enhanced recovery for back button"
   ]
  },
  {
   "cell_type": "code",
   "execution_count": null,
   "id": "0bfcf221",
   "metadata": {},
   "outputs": [],
   "source": [
    "                key_map = {\n",
    "                    \"back_button\": \"4\",\n",
    "                    \"home_button\": \"3\",\n",
    "                    \"menu_button\": \"82\"\n",
    "                }\n",
    "                key_code = key_map.get(element_id, \"4\")\n",
    "                subprocess.run(\n",
    "                    [\"adb\", \"shell\", \"input\", \"keyevent\", key_code],\n",
    "                    capture_output=True,\n",
    "                    check=False\n",
    "                )\n",
    "                "
   ]
  },
  {
   "cell_type": "markdown",
   "id": "6ad1dc3c",
   "metadata": {},
   "source": [
    "                # Enhanced recovery for back button actions"
   ]
  },
  {
   "cell_type": "code",
   "execution_count": null,
   "id": "72bbe589",
   "metadata": {},
   "outputs": [],
   "source": [
    "                if element_id == \"back_button\":\n",
    "                    time.sleep(1)  # Wait longer for back button effects\n",
    "                    logger.info(\"Enhanced recovery check after back button action...\")\n",
    "                    "
   ]
  },
  {
   "cell_type": "markdown",
   "id": "e4a6cead",
   "metadata": {},
   "source": [
    "                    # Check if app is still in foreground"
   ]
  },
  {
   "cell_type": "code",
   "execution_count": null,
   "id": "3ca68a5b",
   "metadata": {},
   "outputs": [],
   "source": [
    "                    if not self.check_app_foreground():\n",
    "                        logger.warning(\"Back button may have taken app out of foreground, attempting recovery...\")\n",
    "                        "
   ]
  },
  {
   "cell_type": "markdown",
   "id": "b8e9eb37",
   "metadata": {},
   "source": [
    "                        # Try enhanced recovery"
   ]
  },
  {
   "cell_type": "code",
   "execution_count": null,
   "id": "d942cafe",
   "metadata": {},
   "outputs": [],
   "source": [
    "                        if self.enhanced_foreground_recovery():\n",
    "                            time.sleep(1)\n",
    "                            if self.check_app_foreground():\n",
    "                                logger.info(\"✓ App recovered after back button action\")\n",
    "                            else:\n",
    "                                logger.error(\"❌ Failed to recover app after back button action\")\n",
    "                        else:\n",
    "                            logger.error(\"❌ Enhanced recovery failed after back button action\")\n",
    "                else:\n",
    "                    time.sleep(0.2)  # Normal delay for other key events\n",
    "                "
   ]
  },
  {
   "cell_type": "markdown",
   "id": "165c7028",
   "metadata": {},
   "source": [
    "                # Attempt autofill if a keyboard popped up"
   ]
  },
  {
   "cell_type": "code",
   "execution_count": null,
   "id": "7615ed5a",
   "metadata": {},
   "outputs": [],
   "source": [
    "                self._maybe_fill_text_field()\n",
    "            "
   ]
  },
  {
   "cell_type": "markdown",
   "id": "a3696ceb",
   "metadata": {},
   "source": [
    "            # OPTIMIZATION 5: Capture after screenshot with minimal delay"
   ]
  },
  {
   "cell_type": "code",
   "execution_count": null,
   "id": "2f56971f",
   "metadata": {},
   "outputs": [],
   "source": [
    "            after_screenshot = self.capture_screenshot_optimized(\n",
    "                f\"action_{self.action_count + 1}\", \"after\", immediate=True\n",
    "            )\n",
    "            if after_screenshot:\n",
    "                screenshot_paths.append(after_screenshot)\n",
    "            "
   ]
  },
  {
   "cell_type": "markdown",
   "id": "f943b27d",
   "metadata": {},
   "source": [
    "            # Attempt autofill if a keyboard popped up"
   ]
  },
  {
   "cell_type": "markdown",
   "id": "1a975029",
   "metadata": {},
   "source": [
    "Try to generate action using Phi Ground.\n",
    "        \n",
    "        Returns\n",
    "        -------\n",
    "        Optional[Tuple[str, str, str, List[str]]]\n",
    "            (action_type, action_description, element_id, screenshot_paths) or None if Phi Ground fails"
   ]
  },
  {
   "cell_type": "code",
   "execution_count": null,
   "id": "e124ac90",
   "metadata": {},
   "outputs": [],
   "source": [
    "            self._maybe_fill_text_field()\n",
    "        \n",
    "        except Exception as e:\n",
    "            logger.warning(f\"Action failed: {e}\")\n",
    "        \n",
    "        return action_type, description, element_id, screenshot_paths\n",
    "    \n",
    "    def _try_phi_ground_action(self) -> Optional[Tuple[str, str, str, List[str]]]:\n",
    "        try:"
   ]
  },
  {
   "cell_type": "markdown",
   "id": "e79fc936",
   "metadata": {},
   "source": [
    "            # Check if Phi Ground is enabled"
   ]
  },
  {
   "cell_type": "code",
   "execution_count": null,
   "id": "24c69b6b",
   "metadata": {},
   "outputs": [],
   "source": [
    "            from src.core.config import config\n",
    "            if not config.use_phi_ground:\n",
    "                return None\n",
    "            "
   ]
  },
  {
   "cell_type": "markdown",
   "id": "fcd1d7c1",
   "metadata": {},
   "source": [
    "            # Check if we have a recent screenshot"
   ]
  },
  {
   "cell_type": "code",
   "execution_count": null,
   "id": "77edfce5",
   "metadata": {},
   "outputs": [],
   "source": [
    "            if not hasattr(self, '_last_screenshot_path') or not self._last_screenshot_path:\n",
    "                return None\n",
    "            "
   ]
  },
  {
   "cell_type": "markdown",
   "id": "0bbc202e",
   "metadata": {},
   "source": [
    "            # Import Phi Ground"
   ]
  },
  {
   "cell_type": "code",
   "execution_count": null,
   "id": "9e54b7b3",
   "metadata": {},
   "outputs": [],
   "source": [
    "            from src.ai.phi_ground import get_phi_ground_generator\n",
    "            from src.vision.models import UIElement, BoundingBox\n",
    "            "
   ]
  },
  {
   "cell_type": "markdown",
   "id": "27c82673",
   "metadata": {},
   "source": [
    "            # Get Phi Ground generator"
   ]
  },
  {
   "cell_type": "code",
   "execution_count": null,
   "id": "93f67ca4",
   "metadata": {},
   "outputs": [],
   "source": [
    "            phi_ground = get_phi_ground_generator()\n",
    "            "
   ]
  },
  {
   "cell_type": "markdown",
   "id": "851dcc02",
   "metadata": {},
   "source": [
    "            # Create sample UI elements (in a real scenario, these would come from vision analysis)\n",
    "            # For now, we'll create some basic elements based on common UI patterns"
   ]
  },
  {
   "cell_type": "code",
   "execution_count": null,
   "id": "2fe618a3",
   "metadata": {},
   "outputs": [],
   "source": [
    "            ui_elements = [\n",
    "                UIElement(\n",
    "                    bbox=BoundingBox(100, 200, 300, 250),\n",
    "                    text=\"Login\",\n",
    "                    confidence=0.9,\n",
    "                    element_type=\"button\"\n",
    "                ),\n",
    "                UIElement(\n",
    "                    bbox=BoundingBox(100, 300, 400, 350),\n",
    "                    text=\"Email\",\n",
    "                    confidence=0.8,\n",
    "                    element_type=\"input\"\n",
    "                ),\n",
    "                UIElement(\n",
    "                    bbox=BoundingBox(100, 400, 400, 450),\n",
    "                    text=\"Password\",\n",
    "                    confidence=0.8,\n",
    "                    element_type=\"input\"\n",
    "                )\n",
    "            ]\n",
    "            "
   ]
  },
  {
   "cell_type": "markdown",
   "id": "a9f7a740",
   "metadata": {},
   "source": [
    "            # Task description based on current app state"
   ]
  },
  {
   "cell_type": "code",
   "execution_count": null,
   "id": "a35d80c9",
   "metadata": {},
   "outputs": [],
   "source": [
    "            task_description = f\"Explore and interact with {self.app_name} app\"\n",
    "            "
   ]
  },
  {
   "cell_type": "markdown",
   "id": "8dd79822",
   "metadata": {},
   "source": [
    "            # Action history (simplified)"
   ]
  },
  {
   "cell_type": "code",
   "execution_count": null,
   "id": "95956359",
   "metadata": {},
   "outputs": [],
   "source": [
    "            action_history = []\n",
    "            "
   ]
  },
  {
   "cell_type": "markdown",
   "id": "d6746f8d",
   "metadata": {},
   "source": [
    "            # Generate action using Phi Ground"
   ]
  },
  {
   "cell_type": "code",
   "execution_count": null,
   "id": "7cff9074",
   "metadata": {},
   "outputs": [],
   "source": [
    "            import asyncio\n",
    "            action = asyncio.run(phi_ground.generate_touch_action(\n",
    "                self._last_screenshot_path, task_description, action_history, ui_elements\n",
    "            ))\n",
    "            \n",
    "            if action:\n",
    "                action_type = action.get(\"type\", \"tap\")\n",
    "                reasoning = action.get(\"reasoning\", \"Phi Ground generated\")\n",
    "                element_id = f\"phi_ground_{action_type}\"\n",
    "                "
   ]
  },
  {
   "cell_type": "markdown",
   "id": "81c85e4b",
   "metadata": {},
   "source": [
    "                # Convert to the expected format"
   ]
  },
  {
   "cell_type": "markdown",
   "id": "a8f460ca",
   "metadata": {},
   "source": [
    "Analyze screenshot with optimized timing to minimize foreground issues.\n",
    "        \n",
    "        Parameters\n",
    "        ----------\n",
    "        screenshot_path : str\n",
    "            Path to screenshot\n",
    "            \n",
    "        Returns\n",
    "        -------\n",
    "        List[Dict]\n",
    "            List of detected elements\n"
   ]
  },
  {
   "cell_type": "code",
   "execution_count": null,
   "id": "778847b8",
   "metadata": {},
   "outputs": [],
   "source": [
    "                return action_type, reasoning, element_id, []\n",
    "            \n",
    "            return None\n",
    "            \n",
    "        except Exception as e:\n",
    "            logger.warning(f\"Phi Ground action generation failed: {e}\")\n",
    "            return None\n",
    "    \n",
    "    def analyze_screenshot_with_optimized_timing(self, screenshot_path: str) -> List[Dict]:\n",
    "        try:"
   ]
  },
  {
   "cell_type": "markdown",
   "id": "b04f0306",
   "metadata": {},
   "source": [
    "            # STRATEGY: Analyze immediately after capture, before any system interference"
   ]
  },
  {
   "cell_type": "code",
   "execution_count": null,
   "id": "fcfda323",
   "metadata": {},
   "outputs": [],
   "source": [
    "            start_time = time.time()\n",
    "            "
   ]
  },
  {
   "cell_type": "markdown",
   "id": "7ca25a51",
   "metadata": {},
   "source": [
    "            # Perform VisionAI analysis immediately (no foreground checks during analysis)"
   ]
  },
  {
   "cell_type": "code",
   "execution_count": null,
   "id": "240caceb",
   "metadata": {},
   "outputs": [],
   "source": [
    "            elements = self.vision_engine.analyze(screenshot_path)\n",
    "            \n",
    "            analysis_time = time.time() - start_time\n",
    "            "
   ]
  },
  {
   "cell_type": "markdown",
   "id": "81c95b52",
   "metadata": {},
   "source": [
    "            # Only check foreground after analysis is complete (but don't fail if it's not in foreground)"
   ]
  },
  {
   "cell_type": "code",
   "execution_count": null,
   "id": "a4f9059e",
   "metadata": {},
   "outputs": [],
   "source": [
    "            if not self.check_app_foreground():\n",
    "                logger.debug(f\"App not in foreground after VisionAI analysis (took {analysis_time:.2f}s)\")"
   ]
  },
  {
   "cell_type": "markdown",
   "id": "cc5f90a7",
   "metadata": {},
   "source": [
    "                # Don't try to recover here - let the main action loop handle foreground management"
   ]
  },
  {
   "cell_type": "code",
   "execution_count": null,
   "id": "e6edb695",
   "metadata": {},
   "outputs": [],
   "source": [
    "                "
   ]
  },
  {
   "cell_type": "markdown",
   "id": "ae92f7c8",
   "metadata": {},
   "source": [
    "            # Log performance"
   ]
  },
  {
   "cell_type": "markdown",
   "id": "9a5713bc",
   "metadata": {},
   "source": [
    "Analyze screenshot with optimized timing for frequent actions.\n",
    "        \n",
    "        Parameters\n",
    "        ----------\n",
    "        screenshot_path : str\n",
    "            Path to screenshot\n",
    "            \n",
    "        Returns\n",
    "        -------\n",
    "        List[Dict]\n",
    "            List of detected elements\n"
   ]
  },
  {
   "cell_type": "code",
   "execution_count": null,
   "id": "8c8a6c05",
   "metadata": {},
   "outputs": [],
   "source": [
    "            if analysis_time > 1.0:\n",
    "                logger.info(f\"VisionAI analysis took {analysis_time:.2f}s\")\n",
    "            \n",
    "            return [\n",
    "                {\n",
    "                    \"text\": element.text,\n",
    "                    \"confidence\": element.confidence,\n",
    "                    \"element_type\": element.element_type,\n",
    "                    \"bbox\": element.bbox.as_tuple()\n",
    "                }\n",
    "                for element in elements\n",
    "            ]\n",
    "        except Exception as e:\n",
    "            logger.warning(f\"Vision analysis failed: {e}\")\n",
    "            return []\n",
    "    \n",
    "    def analyze_screenshot_with_foreground_management(self, screenshot_path: str) -> List[Dict]:\n",
    "        try:"
   ]
  },
  {
   "cell_type": "markdown",
   "id": "14c94afe",
   "metadata": {},
   "source": [
    "            # OPTIMIZATION 1: Skip foreground check for analysis (already done before capture)"
   ]
  },
  {
   "cell_type": "code",
   "execution_count": null,
   "id": "72a98029",
   "metadata": {},
   "outputs": [],
   "source": [
    "            start_time = time.time()\n",
    "            "
   ]
  },
  {
   "cell_type": "markdown",
   "id": "ac103a56",
   "metadata": {},
   "source": [
    "            # OPTIMIZATION 2: Perform VisionAI analysis immediately"
   ]
  },
  {
   "cell_type": "code",
   "execution_count": null,
   "id": "c56821be",
   "metadata": {},
   "outputs": [],
   "source": [
    "            if self.vision_engine is None:\n",
    "                logger.warning(\"Vision engine not initialized, skipping analysis\")\n",
    "                return []\n",
    "                \n",
    "            elements = self.vision_engine.analyze(screenshot_path)\n",
    "            analysis_time = time.time() - start_time\n",
    "            "
   ]
  },
  {
   "cell_type": "markdown",
   "id": "db2dca67",
   "metadata": {},
   "source": [
    "            # OPTIMIZATION 3: Log performance only if analysis is slow"
   ]
  },
  {
   "cell_type": "markdown",
   "id": "fca50bc0",
   "metadata": {},
   "source": [
    "Create an LLM event for the action.\n",
    "        \n",
    "        Parameters\n",
    "        ----------\n",
    "        action_type : str\n",
    "            Type of action performed\n",
    "        description : str\n",
    "            Description of the action\n",
    "        element_id : str\n",
    "            ID of the element interacted with\n",
    "        screenshot_path : str\n",
    "            Path to the screenshot\n",
    "        reasoning : str\n",
    "            Reasoning for the action\n",
    "            \n",
    "        Returns\n",
    "        -------\n",
    "        LLMEvent\n",
    "            Created LLM event\n"
   ]
  },
  {
   "cell_type": "code",
   "execution_count": null,
   "id": "696895f8",
   "metadata": {},
   "outputs": [],
   "source": [
    "            if analysis_time > 0.5:  # Reduced threshold from 1.0s\n",
    "                logger.info(f\"VisionAI analysis took {analysis_time:.2f}s\")\n",
    "            \n",
    "            return [\n",
    "                {\n",
    "                    \"text\": element.text,\n",
    "                    \"confidence\": element.confidence,\n",
    "                    \"element_type\": element.element_type,\n",
    "                    \"bbox\": element.bbox.as_tuple()\n",
    "                }\n",
    "                for element in elements\n",
    "            ]\n",
    "        except Exception as e:\n",
    "            logger.warning(f\"Vision analysis failed: {e}\")\n",
    "            return []\n",
    "    \n",
    "    def create_llm_event(self, action_type: str, description: str, element_id: str, \n",
    "                        screenshot_path: str, reasoning: str = \"\") -> LLMEvent:\n",
    "        next_state_id = f\"state_{self.action_count + 1}\"\n",
    "        \n",
    "        event = LLMEvent(\n",
    "            timestamp=datetime.now().isoformat(),\n",
    "            state_id=self.current_state_id,\n",
    "            element_id=element_id,\n",
    "            action=action_type,\n",
    "            reasoning=reasoning or f\"Performed {description} during automated testing\",\n",
    "            resulting_state_id=next_state_id,\n",
    "            screenshot_path=screenshot_path\n",
    "        )\n",
    "        "
   ]
  },
  {
   "cell_type": "markdown",
   "id": "3bfc9cfd",
   "metadata": {},
   "source": [
    "        # Persist reasoning to a plain-text log for external review"
   ]
  },
  {
   "cell_type": "markdown",
   "id": "9de521b4",
   "metadata": {},
   "source": [
    "Create an app state.\n",
    "        \n",
    "        Parameters\n",
    "        ----------\n",
    "        state_id : str\n",
    "            State ID\n",
    "        screenshot_path : str\n",
    "            Path to screenshot\n",
    "        elements : List[Dict]\n",
    "            List of detected elements\n",
    "            \n",
    "        Returns\n",
    "        -------\n",
    "        AppState\n",
    "            Created app state\n"
   ]
  },
  {
   "cell_type": "markdown",
   "id": "1cd2b37e",
   "metadata": {},
   "source": [
    "Optimize device settings to reduce app focus loss during automation."
   ]
  },
  {
   "cell_type": "code",
   "execution_count": null,
   "id": "4f2a0747",
   "metadata": {},
   "outputs": [],
   "source": [
    "        try:\n",
    "            llm_log = self.output_dir / \"LLM_logs.txt\"\n",
    "            with open(llm_log, \"a\", encoding=\"utf-8\") as fp:\n",
    "                fp.write(f\"[{event.timestamp}] {event.action} -> {event.reasoning}\\n\")\n",
    "        except Exception as log_err:\n",
    "            logger.debug(f\"Could not write LLM log: {log_err}\")\n",
    "        \n",
    "        return event\n",
    "    \n",
    "    def create_app_state(self, state_id: str, screenshot_path: str, elements: List[Dict]) -> AppState:\n",
    "        state = AppState(\n",
    "            state_id=state_id,\n",
    "            activity_name=f\"{self.package_name}.MainActivity\",\n",
    "            description=f\"App state after action {self.action_count}\",\n",
    "            screenshot_path=screenshot_path,\n",
    "            elements=elements\n",
    "        )\n",
    "        \n",
    "        return state\n",
    "    \n",
    "    def optimize_device_for_automation(self) -> None:\n",
    "        logger.info(\"Optimizing device settings for automation...\")\n",
    "        \n",
    "        try:"
   ]
  },
  {
   "cell_type": "markdown",
   "id": "995d5bf5",
   "metadata": {},
   "source": [
    "            # Disable animations for faster and more stable automation"
   ]
  },
  {
   "cell_type": "code",
   "execution_count": null,
   "id": "98366560",
   "metadata": {},
   "outputs": [],
   "source": [
    "            subprocess.run(\n",
    "                [\"adb\", \"shell\", \"settings\", \"put\", \"global\", \"window_animation_scale\", \"0.0\"],\n",
    "                capture_output=True,\n",
    "                check=False\n",
    "            )\n",
    "            subprocess.run(\n",
    "                [\"adb\", \"shell\", \"settings\", \"put\", \"global\", \"transition_animation_scale\", \"0.0\"],\n",
    "                capture_output=True,\n",
    "                check=False\n",
    "            )\n",
    "            subprocess.run(\n",
    "                [\"adb\", \"shell\", \"settings\", \"put\", \"global\", \"animator_duration_scale\", \"0.0\"],\n",
    "                capture_output=True,\n",
    "                check=False\n",
    "            )\n",
    "            "
   ]
  },
  {
   "cell_type": "markdown",
   "id": "b4231f44",
   "metadata": {},
   "source": [
    "            # Keep screen awake during automation"
   ]
  },
  {
   "cell_type": "code",
   "execution_count": null,
   "id": "29492da1",
   "metadata": {},
   "outputs": [],
   "source": [
    "            subprocess.run(\n",
    "                [\"adb\", \"shell\", \"settings\", \"put\", \"global\", \"stay_on_while_plugged_in\", \"3\"],\n",
    "                capture_output=True,\n",
    "                check=False\n",
    "            )\n",
    "            "
   ]
  },
  {
   "cell_type": "markdown",
   "id": "9e7437d2",
   "metadata": {},
   "source": [
    "            # Disable auto-brightness for consistent screenshots"
   ]
  },
  {
   "cell_type": "code",
   "execution_count": null,
   "id": "0ee04a55",
   "metadata": {},
   "outputs": [],
   "source": [
    "            subprocess.run(\n",
    "                [\"adb\", \"shell\", \"settings\", \"put\", \"system\", \"screen_brightness_mode\", \"0\"],\n",
    "                capture_output=True,\n",
    "                check=False\n",
    "            )\n",
    "            "
   ]
  },
  {
   "cell_type": "markdown",
   "id": "d63929f2",
   "metadata": {},
   "source": [
    "            # Set fixed brightness"
   ]
  },
  {
   "cell_type": "code",
   "execution_count": null,
   "id": "eb976706",
   "metadata": {},
   "outputs": [],
   "source": [
    "            subprocess.run(\n",
    "                [\"adb\", \"shell\", \"settings\", \"put\", \"system\", \"screen_brightness\", \"128\"],\n",
    "                capture_output=True,\n",
    "                check=False\n",
    "            )\n",
    "            "
   ]
  },
  {
   "cell_type": "markdown",
   "id": "858cad60",
   "metadata": {},
   "source": [
    "            # Disable system UI overlays that might interfere"
   ]
  },
  {
   "cell_type": "markdown",
   "id": "82e27778",
   "metadata": {},
   "source": [
    "Run the complete testing pipeline.\n",
    "        \n",
    "        Returns\n",
    "        -------\n",
    "        bool\n",
    "            True if testing completed successfully\n"
   ]
  },
  {
   "cell_type": "code",
   "execution_count": null,
   "id": "0b2efd6e",
   "metadata": {},
   "outputs": [],
   "source": [
    "            subprocess.run(\n",
    "                [\"adb\", \"shell\", \"settings\", \"put\", \"secure\", \"overlay_enabled\", \"0\"],\n",
    "                capture_output=True,\n",
    "                check=False\n",
    "            )\n",
    "            \n",
    "            logger.info(\"✓ Device settings optimized for automation\")\n",
    "            \n",
    "        except Exception as e:\n",
    "            logger.warning(f\"Device optimization warning: {e}\")\n",
    "    \n",
    "    def run_testing_pipeline(self) -> bool:\n",
    "        logger.info(\"=\" * 70)\n",
    "        logger.info(f\"STARTING UNIVERSAL APK TESTING: {self.app_name}\")\n",
    "        logger.info(\"=\" * 70)\n",
    "        "
   ]
  },
  {
   "cell_type": "markdown",
   "id": "1da9b972",
   "metadata": {},
   "source": [
    "        # Record test start time"
   ]
  },
  {
   "cell_type": "code",
   "execution_count": null,
   "id": "dcba7794",
   "metadata": {},
   "outputs": [],
   "source": [
    "        self.test_start_time = datetime.now()\n",
    "        logger.info(f\"Test started at: {self.test_start_time}\")\n",
    "        \n",
    "        try:"
   ]
  },
  {
   "cell_type": "markdown",
   "id": "f56d33a2",
   "metadata": {},
   "source": [
    "            # Step 1: Environment check"
   ]
  },
  {
   "cell_type": "code",
   "execution_count": null,
   "id": "13685b24",
   "metadata": {},
   "outputs": [],
   "source": [
    "            if not self.check_environment():\n",
    "                return False\n",
    "            "
   ]
  },
  {
   "cell_type": "markdown",
   "id": "9f215eb4",
   "metadata": {},
   "source": [
    "            # Step 1.5: Optimize device settings"
   ]
  },
  {
   "cell_type": "code",
   "execution_count": null,
   "id": "3df77421",
   "metadata": {},
   "outputs": [],
   "source": [
    "            self.optimize_device_for_automation()\n",
    "            "
   ]
  },
  {
   "cell_type": "markdown",
   "id": "94ed2d09",
   "metadata": {},
   "source": [
    "            # Step 2: Install APK"
   ]
  },
  {
   "cell_type": "code",
   "execution_count": null,
   "id": "de8404f0",
   "metadata": {},
   "outputs": [],
   "source": [
    "            if not self.install_apk():\n",
    "                return False\n",
    "            "
   ]
  },
  {
   "cell_type": "markdown",
   "id": "28c37938",
   "metadata": {},
   "source": [
    "            # Step 3: Launch app"
   ]
  },
  {
   "cell_type": "code",
   "execution_count": null,
   "id": "b79583fe",
   "metadata": {},
   "outputs": [],
   "source": [
    "            if not self.launch_app():\n",
    "                return False\n",
    "            "
   ]
  },
  {
   "cell_type": "markdown",
   "id": "ad0f96db",
   "metadata": {},
   "source": [
    "            # Step 4: Wait for app to fully stabilize and ensure it's in foreground"
   ]
  },
  {
   "cell_type": "code",
   "execution_count": null,
   "id": "1c76addb",
   "metadata": {},
   "outputs": [],
   "source": [
    "            logger.info(\"Step 4: Ensuring app is fully launched and in foreground...\")\n",
    "            time.sleep(2)  # Additional stabilization time\n",
    "            "
   ]
  },
  {
   "cell_type": "markdown",
   "id": "e5794554",
   "metadata": {},
   "source": [
    "            # Try to bring app to foreground if needed (after launch sequence)"
   ]
  },
  {
   "cell_type": "code",
   "execution_count": null,
   "id": "f9d4c0cd",
   "metadata": {},
   "outputs": [],
   "source": [
    "            if not self.check_app_foreground():\n",
    "                logger.info(\"App not in foreground after launch, attempting to bring to front...\")\n",
    "                if not self.enhanced_foreground_recovery():\n",
    "                    logger.warning(\"Failed to bring app to foreground after launch\")\n",
    "                else:\n",
    "                    logger.info(\"✓ App successfully brought to foreground after launch\")\n",
    "            "
   ]
  },
  {
   "cell_type": "markdown",
   "id": "086b3057",
   "metadata": {},
   "source": [
    "            # Step 5: Capture initial screenshot (only after app is stable)"
   ]
  },
  {
   "cell_type": "code",
   "execution_count": null,
   "id": "67259fc1",
   "metadata": {},
   "outputs": [],
   "source": [
    "            logger.info(\"Step 5: Capturing initial screenshot...\")\n",
    "            initial_screenshot = self.capture_screenshot(\"initial\")\n",
    "            if initial_screenshot:"
   ]
  },
  {
   "cell_type": "markdown",
   "id": "2ade4811",
   "metadata": {},
   "source": [
    "                # Analyze initial state"
   ]
  },
  {
   "cell_type": "code",
   "execution_count": null,
   "id": "a2927452",
   "metadata": {},
   "outputs": [],
   "source": [
    "                elements = self.analyze_screenshot_with_optimized_timing(initial_screenshot)\n",
    "                initial_state = self.create_app_state(\"state_0\", initial_screenshot, elements)\n",
    "                self.app_states[\"state_0\"] = initial_state\n",
    "            "
   ]
  },
  {
   "cell_type": "markdown",
   "id": "6e83b08b",
   "metadata": {},
   "source": [
    "            # Step 6: Perform actions and capture screenshots"
   ]
  },
  {
   "cell_type": "code",
   "execution_count": null,
   "id": "20d50a84",
   "metadata": {},
   "outputs": [],
   "source": [
    "            logger.info(f\"Performing {self.num_actions} actions...\")\n",
    "            \n",
    "            for action_num in range(1, self.num_actions + 1):\n",
    "                logger.info(f\"Action {action_num}/{self.num_actions}\")\n",
    "                "
   ]
  },
  {
   "cell_type": "markdown",
   "id": "4edb1fce",
   "metadata": {},
   "source": [
    "                # Ensure app is in foreground before each action (only after launch sequence is complete)"
   ]
  },
  {
   "cell_type": "code",
   "execution_count": null,
   "id": "5cfc9546",
   "metadata": {},
   "outputs": [],
   "source": [
    "                if not self.check_app_foreground():\n",
    "                    logger.info(\"App not in foreground, attempting enhanced recovery...\")\n",
    "                    if not self.enhanced_foreground_recovery():\n",
    "                        logger.error(\"Failed to recover app to foreground\")\n",
    "                        continue  # Skip this action if recovery fails\n",
    "                "
   ]
  },
  {
   "cell_type": "markdown",
   "id": "ef1f0dc6",
   "metadata": {},
   "source": [
    "                # Perform random action with enhanced monitoring"
   ]
  },
  {
   "cell_type": "code",
   "execution_count": null,
   "id": "feab812f",
   "metadata": {},
   "outputs": [],
   "source": [
    "                action_type, description, element_id, screenshot_paths = self.perform_random_action_with_foreground_management()\n",
    "                "
   ]
  },
  {
   "cell_type": "markdown",
   "id": "9bdc5baa",
   "metadata": {},
   "source": [
    "                # Process all captured screenshots"
   ]
  },
  {
   "cell_type": "code",
   "execution_count": null,
   "id": "5a75975a",
   "metadata": {},
   "outputs": [],
   "source": [
    "                if screenshot_paths:\n",
    "                    logger.info(f\"Processing {len(screenshot_paths)} screenshots for action {action_num}...\")\n",
    "                    \n",
    "                    for i, screenshot_path in enumerate(screenshot_paths):"
   ]
  },
  {
   "cell_type": "markdown",
   "id": "1c309a2f",
   "metadata": {},
   "source": [
    "                        # Analyze screenshot with VisionAI"
   ]
  },
  {
   "cell_type": "code",
   "execution_count": null,
   "id": "b2c9f397",
   "metadata": {},
   "outputs": [],
   "source": [
    "                        logger.info(f\"Running VisionAI analysis for screenshot {i+1}/{len(screenshot_paths)}...\")\n",
    "                        elements = self.analyze_screenshot_with_foreground_management(screenshot_path)\n",
    "                        "
   ]
  },
  {
   "cell_type": "markdown",
   "id": "0eb1d1d7",
   "metadata": {},
   "source": [
    "                        # Create app state with step information"
   ]
  },
  {
   "cell_type": "code",
   "execution_count": null,
   "id": "22c95398",
   "metadata": {},
   "outputs": [],
   "source": [
    "                        step_suffix = f\"_{i+1}\" if len(screenshot_paths) > 1 else \"\"\n",
    "                        state_id = f\"state_{action_num}{step_suffix}\"\n",
    "                        state = self.create_app_state(state_id, screenshot_path, elements)\n",
    "                        self.app_states[state_id] = state\n",
    "                        "
   ]
  },
  {
   "cell_type": "markdown",
   "id": "8e5b945d",
   "metadata": {},
   "source": [
    "                        # Create LLM event for each screenshot"
   ]
  },
  {
   "cell_type": "code",
   "execution_count": null,
   "id": "64255e5d",
   "metadata": {},
   "outputs": [],
   "source": [
    "                        event = self.create_llm_event(\n",
    "                            action_type, description, element_id, screenshot_path\n",
    "                        )\n",
    "                        self.llm_events.append(event)\n",
    "                        "
   ]
  },
  {
   "cell_type": "markdown",
   "id": "bfc87a09",
   "metadata": {},
   "source": [
    "                        # Update current state"
   ]
  },
  {
   "cell_type": "code",
   "execution_count": null,
   "id": "e5111d72",
   "metadata": {},
   "outputs": [],
   "source": [
    "                        self.current_state_id = state_id\n",
    "                        \n",
    "                        logger.info(f\"  ✓ {description} (step {i+1}) -> {len(elements)} elements detected\")\n",
    "                    "
   ]
  },
  {
   "cell_type": "markdown",
   "id": "ee921f2a",
   "metadata": {},
   "source": [
    "                    # Update action count"
   ]
  },
  {
   "cell_type": "code",
   "execution_count": null,
   "id": "4758d84a",
   "metadata": {},
   "outputs": [],
   "source": [
    "                    if screenshot_paths:\n",
    "                        last_screenshot = screenshot_paths[-1]\n",
    "                        try:\n",
    "                            new_hash = self._compute_screenshot_hash(last_screenshot)\n",
    "                        except Exception as hash_err:\n",
    "                            logger.debug(f\"Could not hash screenshot: {hash_err}\")\n",
    "                            new_hash = None\n",
    "\n",
    "                        if new_hash and (self._last_screenshot_hash is None or new_hash != self._last_screenshot_hash):"
   ]
  },
  {
   "cell_type": "markdown",
   "id": "8ff751bf",
   "metadata": {},
   "source": [
    "                            # State has changed → count this action"
   ]
  },
  {
   "cell_type": "code",
   "execution_count": null,
   "id": "a035f906",
   "metadata": {},
   "outputs": [],
   "source": [
    "                            self.action_count += 1\n",
    "                            self._last_screenshot_hash = new_hash\n",
    "                        else:\n",
    "                            logger.info(\"State unchanged after action; not counting towards total actions\")\n",
    "                else:\n",
    "                    logger.warning(f\"No screenshots captured for action {action_num}\")\n",
    "                "
   ]
  },
  {
   "cell_type": "markdown",
   "id": "48c14f16",
   "metadata": {},
   "source": [
    "                # Small delay between actions"
   ]
  },
  {
   "cell_type": "code",
   "execution_count": null,
   "id": "ec82c2ed",
   "metadata": {},
   "outputs": [],
   "source": [
    "                time.sleep(0.2)  # Reduced from 1s - just enough for UI to settle\n",
    "            "
   ]
  },
  {
   "cell_type": "markdown",
   "id": "2f30e8ab",
   "metadata": {},
   "source": [
    "            # Step 6: Save analysis data / reports (optional)"
   ]
  },
  {
   "cell_type": "code",
   "execution_count": null,
   "id": "9ba92f00",
   "metadata": {},
   "outputs": [],
   "source": [
    "            if self.generate_reports:\n",
    "                self.save_analysis_data()\n",
    "            "
   ]
  },
  {
   "cell_type": "markdown",
   "id": "e4cee5d4",
   "metadata": {},
   "source": [
    "            # Step 7: Cleanup and uninstall the app after testing"
   ]
  },
  {
   "cell_type": "code",
   "execution_count": null,
   "id": "a3a1149c",
   "metadata": {},
   "outputs": [],
   "source": [
    "            logger.info(\"Cleaning up after testing...\")\n",
    "            self.cleanup_after_testing()\n",
    "            \n",
    "            logger.info(\"Uninstalling app...\")\n",
    "            self.uninstall_app()\n",
    "            "
   ]
  },
  {
   "cell_type": "markdown",
   "id": "79f2d5fc",
   "metadata": {},
   "source": [
    "            # Record test end time"
   ]
  },
  {
   "cell_type": "code",
   "execution_count": null,
   "id": "56b42841",
   "metadata": {},
   "outputs": [],
   "source": [
    "            self.test_end_time = datetime.now()\n",
    "            logger.info(f\"Test ended at: {self.test_end_time}\")\n",
    "            "
   ]
  },
  {
   "cell_type": "markdown",
   "id": "f4793510",
   "metadata": {},
   "source": [
    "            # Mark testing as completed"
   ]
  },
  {
   "cell_type": "code",
   "execution_count": null,
   "id": "f33f51f8",
   "metadata": {},
   "outputs": [],
   "source": [
    "            self.testing_completed = True\n",
    "            \n",
    "            logger.info(\"=\" * 70)\n",
    "            logger.info(\"TESTING PIPELINE COMPLETED SUCCESSFULLY\")\n",
    "            logger.info(\"=\" * 70)\n",
    "            logger.info(f\"Actions causing state change: {self.changed_action_count}\")\n",
    "            if self.generate_reports:\n",
    "                logger.info(f\"States captured: {len(self.app_states)}\")\n",
    "                logger.info(f\"LLM events recorded: {len(self.llm_events)}\")\n",
    "            \n",
    "            return True\n",
    "            \n",
    "        except Exception as e:\n",
    "            logger.error(f\"Testing pipeline failed: {e}\")"
   ]
  },
  {
   "cell_type": "markdown",
   "id": "e5e3cd0c",
   "metadata": {},
   "source": [
    "            # Record test end time even if testing failed"
   ]
  },
  {
   "cell_type": "markdown",
   "id": "c8bfc0ce",
   "metadata": {},
   "source": [
    "Save analysis data for final report generation."
   ]
  },
  {
   "cell_type": "code",
   "execution_count": null,
   "id": "cafdc194",
   "metadata": {},
   "outputs": [],
   "source": [
    "            self.test_end_time = datetime.now()\n",
    "            logger.info(f\"Test ended at: {self.test_end_time} (after failure)\")\n",
    "            return False\n",
    "    \n",
    "    def save_analysis_data(self) -> None:\n",
    "        logger.info(\"Saving analysis data...\")\n",
    "        \n",
    "        analysis_data = {\n",
    "            \"metadata\": {\n",
    "                \"app_name\": self.app_name,\n",
    "                \"package_name\": self.package_name,\n",
    "                \"apk_path\": str(self.apk_path),\n",
    "                \"num_actions\": self.num_actions,\n",
    "                \"timestamp\": datetime.now().isoformat(),\n",
    "                \"total_states\": len(self.app_states),\n",
    "                \"total_events\": len(self.llm_events)\n",
    "            },\n",
    "            \"vision_analysis\": {\n",
    "                \"screenshots\": [\n",
    "                    {\n",
    "                        \"filename\": os.path.basename(state.screenshot_path),\n",
    "                        \"path\": state.screenshot_path,\n",
    "                        \"elements_count\": len(state.elements),\n",
    "                        \"elements\": state.elements\n",
    "                    }\n",
    "                    for state in self.app_states.values()\n",
    "                ]\n",
    "            },\n",
    "            \"llm_events\": [\n",
    "                {\n",
    "                    \"timestamp\": event.timestamp,\n",
    "                    \"state_id\": event.state_id,\n",
    "                    \"element_id\": event.element_id,\n",
    "                    \"action\": event.action,\n",
    "                    \"reasoning\": event.reasoning,\n",
    "                    \"resulting_state_id\": event.resulting_state_id,\n",
    "                    \"screenshot_path\": event.screenshot_path\n",
    "                }\n",
    "                for event in self.llm_events\n",
    "            ]\n",
    "        }\n",
    "        "
   ]
  },
  {
   "cell_type": "markdown",
   "id": "42cb2b3c",
   "metadata": {},
   "source": [
    "        # Save to file"
   ]
  },
  {
   "cell_type": "markdown",
   "id": "7e0e4f75",
   "metadata": {},
   "source": [
    "Generate the final comprehensive report.\n",
    "        \n",
    "        Returns\n",
    "        -------\n",
    "        str\n",
    "            Path to the generated report\n"
   ]
  },
  {
   "cell_type": "code",
   "execution_count": null,
   "id": "17f05100",
   "metadata": {},
   "outputs": [],
   "source": [
    "        data_path = self.output_dir / \"analysis_data.json\"\n",
    "        with open(data_path, 'w') as f:\n",
    "            json.dump(analysis_data, f, indent=2)\n",
    "        \n",
    "        logger.info(f\"✓ Analysis data saved: {data_path}\")\n",
    "    \n",
    "    def generate_final_report(self) -> str:\n",
    "        logger.info(\"Generating final comprehensive report...\")\n",
    "        "
   ]
  },
  {
   "cell_type": "markdown",
   "id": "eede13db",
   "metadata": {},
   "source": [
    "        # Initialize final report generator"
   ]
  },
  {
   "cell_type": "code",
   "execution_count": null,
   "id": "96c73115",
   "metadata": {},
   "outputs": [],
   "source": [
    "        generator = FinalReportGenerator(\n",
    "            str(self.output_dir / \"final_report\"),\n",
    "            app_name=self.app_name,\n",
    "            package_name=self.package_name\n",
    "        )\n",
    "        "
   ]
  },
  {
   "cell_type": "markdown",
   "id": "2824a9fa",
   "metadata": {},
   "source": [
    "        # Set test start and end times if available"
   ]
  },
  {
   "cell_type": "code",
   "execution_count": null,
   "id": "885c2b6d",
   "metadata": {},
   "outputs": [],
   "source": [
    "        if hasattr(self, 'test_start_time') and self.test_start_time:\n",
    "            generator.set_test_start_time(self.test_start_time)\n",
    "        if hasattr(self, 'test_end_time') and self.test_end_time:\n",
    "            generator.set_test_end_time(self.test_end_time)\n",
    "        "
   ]
  },
  {
   "cell_type": "markdown",
   "id": "e3f6d911",
   "metadata": {},
   "source": [
    "        # Add LLM events"
   ]
  },
  {
   "cell_type": "code",
   "execution_count": null,
   "id": "c14d36e7",
   "metadata": {},
   "outputs": [],
   "source": [
    "        for event in self.llm_events:\n",
    "            generator.add_llm_event(event)\n",
    "        "
   ]
  },
  {
   "cell_type": "markdown",
   "id": "c13cbf6c",
   "metadata": {},
   "source": [
    "        # Add app states"
   ]
  },
  {
   "cell_type": "code",
   "execution_count": null,
   "id": "67f0234b",
   "metadata": {},
   "outputs": [],
   "source": [
    "        for state in self.app_states.values():\n",
    "            generator.add_app_state(state)\n",
    "        "
   ]
  },
  {
   "cell_type": "markdown",
   "id": "69d665dd",
   "metadata": {},
   "source": [
    "        # Skip if report generation disabled"
   ]
  },
  {
   "cell_type": "code",
   "execution_count": null,
   "id": "47db37b7",
   "metadata": {},
   "outputs": [],
   "source": [
    "        if not self.generate_reports:\n",
    "            return \"\"\n"
   ]
  },
  {
   "cell_type": "markdown",
   "id": "a7cccdb3",
   "metadata": {},
   "source": [
    "        # Generate the comprehensive report"
   ]
  },
  {
   "cell_type": "code",
   "execution_count": null,
   "id": "f99ff95b",
   "metadata": {},
   "outputs": [],
   "source": [
    "        report_path = generator.generate_comprehensive_report()\n",
    "        \n",
    "        return report_path\n"
   ]
  },
  {
   "cell_type": "markdown",
   "id": "db85bb97",
   "metadata": {},
   "source": [
    "    # Utility: Detect if keyboard is visible (text input active)"
   ]
  },
  {
   "cell_type": "code",
   "execution_count": null,
   "id": "5268890a",
   "metadata": {},
   "outputs": [],
   "source": [
    "    def is_keyboard_visible(self):\n",
    "        result = subprocess.run([\"adb\", \"shell\", \"dumpsys\", \"input_method\"], capture_output=True, text=True, check=False)\n",
    "        return \"mInputShown=true\" in result.stdout or \"mIsInputViewShown=true\" in result.stdout\n"
   ]
  },
  {
   "cell_type": "markdown",
   "id": "c583d9dc",
   "metadata": {},
   "source": [
    "    # Utility: Find and select an empty text field before sending clipboard text"
   ]
  },
  {
   "cell_type": "code",
   "execution_count": null,
   "id": "ed5687ab",
   "metadata": {},
   "outputs": [],
   "source": [
    "    def select_empty_text_field(self):\n",
    "        import re\n",
    "        import xml.etree.ElementTree as ET\n",
    "        subprocess.run([\"adb\", \"shell\", \"uiautomator\", \"dump\"], capture_output=True, check=False)\n",
    "        xml = subprocess.run([\"adb\", \"shell\", \"cat\", \"/sdcard/window_dump.xml\"], capture_output=True, text=True, check=False).stdout\n",
    "        try:\n",
    "            root = ET.fromstring(xml)\n",
    "            for node in root.iter(\"node\"):\n",
    "                if node.attrib.get(\"class\") == \"android.widget.EditText\" and not node.attrib.get(\"text\"):"
   ]
  },
  {
   "cell_type": "markdown",
   "id": "e0744959",
   "metadata": {},
   "source": [
    "                    # Tap the center of the empty EditText"
   ]
  },
  {
   "cell_type": "code",
   "execution_count": null,
   "id": "4bf0f23b",
   "metadata": {},
   "outputs": [],
   "source": [
    "                    bounds = node.attrib[\"bounds\"]\n",
    "                    m = re.match(r\"\\[(\\d+),(\\d+)]\\[(\\d+),(\\d+)]\", bounds)\n",
    "                    if m:\n",
    "                        x = (int(m.group(1)) + int(m.group(3))) // 2\n",
    "                        y = (int(m.group(2)) + int(m.group(4))) // 2\n",
    "                        self._tap(x, y)\n",
    "                        return True\n",
    "        except Exception as e:\n",
    "            logger.warning(f\"Error selecting empty text field: {e}\")\n",
    "        return False\n"
   ]
  },
  {
   "cell_type": "markdown",
   "id": "fdc4547a",
   "metadata": {},
   "source": [
    "    # Example usage before sending clipboard text:\n",
    "    # if not self.is_keyboard_visible():\n",
    "    #     logger.info(\"Keyboard not visible, selecting empty text field before input.\")\n",
    "    #     if not self.select_empty_text_field():\n",
    "    #         logger.warning(\"No empty text field found, consider tapping a known input element.\")\n",
    "    # else:\n",
    "    #     logger.info(\"Keyboard is visible, ready for text input.\")"
   ]
  },
  {
   "cell_type": "code",
   "execution_count": null,
   "id": "ae1351b4",
   "metadata": {},
   "outputs": [],
   "source": []
  },
  {
   "cell_type": "markdown",
   "id": "4a3c55b9",
   "metadata": {},
   "source": [
    "    # ---------------------------------------------------------------------\n",
    "    # Helper utilities\n",
    "    # ---------------------------------------------------------------------"
   ]
  },
  {
   "cell_type": "markdown",
   "id": "8da0ca67",
   "metadata": {},
   "source": [
    "Return (width, height) of the connected device. Defaults to 1080x1920."
   ]
  },
  {
   "cell_type": "code",
   "execution_count": null,
   "id": "caffad61",
   "metadata": {},
   "outputs": [],
   "source": [
    "\n",
    "    def _get_screen_size(self) -> Tuple[int, int]:\n",
    "        try:\n",
    "            result = subprocess.run(\n",
    "                [\"adb\", \"shell\", \"wm\", \"size\"], capture_output=True, text=True, check=False\n",
    "            )\n",
    "            m = re.search(r\"(\\d+)x(\\d+)\", result.stdout)\n",
    "            if m:\n",
    "                return int(m.group(1)), int(m.group(2))\n",
    "        except Exception:\n",
    "            pass"
   ]
  },
  {
   "cell_type": "markdown",
   "id": "41ba71c0",
   "metadata": {},
   "source": [
    "        # Fallback to common portrait resolution"
   ]
  },
  {
   "cell_type": "markdown",
   "id": "f93eff54",
   "metadata": {},
   "source": [
    "Scale hard-coded 1080x1920 coordinates to current device size."
   ]
  },
  {
   "cell_type": "markdown",
   "id": "32471933",
   "metadata": {},
   "source": [
    "Convenience wrapper around ADB tap with scaled coordinates."
   ]
  },
  {
   "cell_type": "code",
   "execution_count": null,
   "id": "cdda6a85",
   "metadata": {},
   "outputs": [],
   "source": [
    "        return 1080, 1920\n",
    "\n",
    "    def _scale(self, x: int, y: int) -> Tuple[int, int]:\n",
    "        sx = int(x * self.screen_width / 1080)\n",
    "        sy = int(y * self.screen_height / 1920)\n",
    "        return sx, sy\n",
    "\n",
    "    def _tap(self, x: int, y: int) -> None:\n",
    "        sx, sy = self._scale(x, y)\n",
    "        subprocess.run([\"adb\", \"shell\", \"input\", \"tap\", str(sx), str(sy)], capture_output=True, check=False)\n"
   ]
  },
  {
   "cell_type": "markdown",
   "id": "81ff3ca2",
   "metadata": {},
   "source": [
    "    # ------------------------------\n",
    "    # Text-field autofill helpers\n",
    "    # ------------------------------"
   ]
  },
  {
   "cell_type": "markdown",
   "id": "d4b1bd86",
   "metadata": {},
   "source": [
    "Type text into the focused field via adb; handles spaces."
   ]
  },
  {
   "cell_type": "markdown",
   "id": "faaf5b29",
   "metadata": {},
   "source": [
    "If keyboard is visible, insert mock data in round-robin order."
   ]
  },
  {
   "cell_type": "code",
   "execution_count": null,
   "id": "1ac480cd",
   "metadata": {},
   "outputs": [],
   "source": [
    "\n",
    "    def _input_text(self, text: str) -> None:\n",
    "        escaped = text.replace(\" \", \"%s\")  # adb input text uses %s for space\n",
    "        subprocess.run([\"adb\", \"shell\", \"input\", \"text\", escaped], capture_output=True, check=False)\n",
    "\n",
    "    def _maybe_fill_text_field(self) -> None:\n",
    "        try:\n",
    "            if not self.is_keyboard_visible():\n",
    "                return\n",
    "            order = [\"name\", \"mobile\", \"location\", \"password\"]\n",
    "            key = order[self._text_fill_index % len(order)]\n",
    "            value = self.mock_data.get(key, \"test\")\n",
    "            logger.info(f\"Autofilling text field with mock {key}: {value}\")\n",
    "            self._input_text(value)\n",
    "            self._text_fill_index += 1\n",
    "        except Exception as e:\n",
    "            logger.debug(f\"Autofill failed: {e}\")\n"
   ]
  },
  {
   "cell_type": "markdown",
   "id": "a9637ba6",
   "metadata": {},
   "source": [
    "    # ---------------------------------------------------------------------\n",
    "    # Precision-tap helper\n",
    "    # ---------------------------------------------------------------------"
   ]
  },
  {
   "cell_type": "markdown",
   "id": "a1115f5c",
   "metadata": {},
   "source": [
    "Return center (x, y) of a high-priority element from the latest screenshot.\n",
    "\n",
    "        If VisionEngine or a screenshot is unavailable, returns (None, None)."
   ]
  },
  {
   "cell_type": "code",
   "execution_count": null,
   "id": "872953c8",
   "metadata": {},
   "outputs": [],
   "source": [
    "\n",
    "    def _get_precision_tap_coordinates(self) -> Tuple[int | None, int | None]:\n",
    "        if not self.vision_engine:\n",
    "            return (None, None)\n"
   ]
  },
  {
   "cell_type": "markdown",
   "id": "6075b6d8",
   "metadata": {},
   "source": [
    "        # Capture a quick screenshot to analyze"
   ]
  },
  {
   "cell_type": "code",
   "execution_count": null,
   "id": "d9681f19",
   "metadata": {},
   "outputs": [],
   "source": [
    "        screenshot_path = self.capture_screenshot_optimized(\"precision_probe\", \"after\", immediate=True)\n",
    "        if not screenshot_path:\n",
    "            return (None, None)\n",
    "\n",
    "        elements = self.vision_engine.analyze(screenshot_path)\n",
    "        if not elements:\n",
    "            return (None, None)\n"
   ]
  },
  {
   "cell_type": "markdown",
   "id": "3fbe45d0",
   "metadata": {},
   "source": [
    "        # Filter out social-login buttons"
   ]
  },
  {
   "cell_type": "code",
   "execution_count": null,
   "id": "470665db",
   "metadata": {},
   "outputs": [],
   "source": [
    "        social_keywords = [\n",
    "            \"google\", \"facebook\", \"apple\", \"twitter\", \"linkedin\", \"microsoft\"\n",
    "        ]\n",
    "        from src.core.element_tracker import get_element_tracker\n",
    "        tracker = get_element_tracker()\n",
    "        elements = [\n",
    "            e for e in elements if not any(sk in e.text.lower() for sk in social_keywords)\n",
    "            and not tracker.is_element_explored(e)\n",
    "        ]\n",
    "        if not elements:\n",
    "            return (None, None)\n"
   ]
  },
  {
   "cell_type": "markdown",
   "id": "384bb1c7",
   "metadata": {},
   "source": [
    "        # Simple priority: prefer button-like elements with highest confidence"
   ]
  },
  {
   "cell_type": "code",
   "execution_count": null,
   "id": "ea5dc67a",
   "metadata": {},
   "outputs": [],
   "source": [
    "        elements = sorted(\n",
    "            elements,\n",
    "            key=lambda e: (\n",
    "                0 if e.element_type in [\"button\", \"colored_button\", \"template\"] else 1,\n",
    "                -e.confidence,\n",
    "            ),\n",
    "        )\n",
    "\n",
    "        top_el = elements[0]\n",
    "        bbox = top_el.bbox.as_tuple()\n",
    "        x_c = (bbox[0] + bbox[2]) // 2\n",
    "        y_c = (bbox[1] + bbox[3]) // 2\n",
    "        return (x_c, y_c)\n"
   ]
  },
  {
   "cell_type": "markdown",
   "id": "ecb3b848",
   "metadata": {},
   "source": [
    "    # ------------------------------------------------------------------\n",
    "    # State-change utilities\n",
    "    # ------------------------------------------------------------------"
   ]
  },
  {
   "cell_type": "markdown",
   "id": "49d07f93",
   "metadata": {},
   "source": [
    "Return an MD5 hash of the screenshot contents.\n",
    "\n",
    "        A cheap way to detect whether the UI truly changed between actions.\n",
    "        If hashing fails, an empty string is returned so callers can handle it."
   ]
  },
  {
   "cell_type": "markdown",
   "id": "13b17d2b",
   "metadata": {},
   "source": [
    "Main function to run universal APK testing."
   ]
  },
  {
   "cell_type": "code",
   "execution_count": null,
   "id": "b054a335",
   "metadata": {},
   "outputs": [],
   "source": [
    "\n",
    "    def _compute_screenshot_hash(self, path: str) -> str:\n",
    "        try:\n",
    "            with open(path, \"rb\") as fp:\n",
    "                return hashlib.md5(fp.read()).hexdigest()\n",
    "        except Exception:\n",
    "            return \"\"\n",
    "\n",
    "\n",
    "def main():\n",
    "    import argparse\n",
    "    \n",
    "    parser = argparse.ArgumentParser(description=\"Universal APK Tester with DroidBot-GPT + VisionAI\")\n",
    "    parser.add_argument(\"apk_path\", help=\"Path to the APK file\")\n",
    "    parser.add_argument(\"--actions\", \"-a\", type=int, default=10,\n",
    "                       help=\"Number of actions to perform (default: 10)\")\n",
    "    parser.add_argument(\"--output-dir\", \"-o\", default=\"universal_reports\",\n",
    "                       help=\"Output directory for reports\")\n",
    "    parser.add_argument(\"--no-report\", action=\"store_true\",\n",
    "                       help=\"Skip analysis JSON and HTML/PDF report generation for faster runs\")\n",
    "    \n",
    "    args = parser.parse_args()\n",
    "    "
   ]
  },
  {
   "cell_type": "markdown",
   "id": "ad28b590",
   "metadata": {},
   "source": [
    "    # Check if APK exists"
   ]
  },
  {
   "cell_type": "code",
   "execution_count": null,
   "id": "63e5b7dd",
   "metadata": {},
   "outputs": [],
   "source": [
    "    if not Path(args.apk_path).exists():\n",
    "        logger.error(f\"APK not found: {args.apk_path}\")\n",
    "        sys.exit(1)\n",
    "    "
   ]
  },
  {
   "cell_type": "markdown",
   "id": "2af436b5",
   "metadata": {},
   "source": [
    "    # Initialize tester"
   ]
  },
  {
   "cell_type": "code",
   "execution_count": null,
   "id": "6cf3713f",
   "metadata": {},
   "outputs": [],
   "source": [
    "    tester = UniversalAPKTester(\n",
    "        args.apk_path,\n",
    "        args.actions,\n",
    "        args.output_dir,\n",
    "        generate_reports=not args.no_report\n",
    "    )\n",
    "    "
   ]
  },
  {
   "cell_type": "markdown",
   "id": "76c32bf2",
   "metadata": {},
   "source": [
    "    # Run testing pipeline"
   ]
  },
  {
   "cell_type": "code",
   "execution_count": null,
   "id": "a229b17d",
   "metadata": {},
   "outputs": [],
   "source": [
    "    success = tester.run_testing_pipeline()\n",
    "    \n",
    "    if success:\n",
    "        if tester.generate_reports:\n",
    "            report_path = tester.generate_final_report()\n",
    "            logger.info(\"🎉 Universal APK testing completed successfully!\")\n",
    "            logger.info(f\"📊 Final report available at: {report_path}\")\n",
    "            logger.info(f\"📋 Analysis data: {tester.output_dir}/analysis_data.json\")\n",
    "        else:\n",
    "            logger.info(\"🎉 Universal APK testing completed successfully (report generation disabled)!\")\n",
    "        logger.info(f\"📸 Screenshots: {tester.screenshots_dir}\")\n",
    "        logger.info(\"🧹 App has been uninstalled and cleaned up\")\n",
    "        logger.info(\"🔍 VisionAI analysis completed with app foreground management\")\n",
    "    else:\n",
    "        logger.error(\"❌ Universal APK testing failed!\")"
   ]
  },
  {
   "cell_type": "markdown",
   "id": "40cfbaca",
   "metadata": {},
   "source": [
    "        # Attempt cleanup even if testing failed"
   ]
  },
  {
   "cell_type": "code",
   "execution_count": null,
   "id": "985729a5",
   "metadata": {},
   "outputs": [],
   "source": [
    "        try:\n",
    "            tester.cleanup_after_testing()\n",
    "            tester.uninstall_app()\n",
    "            logger.info(\"🧹 Cleanup performed despite test failure\")\n",
    "        except Exception as e:\n",
    "            logger.warning(f\"Cleanup failed after test failure: {e}\")\n",
    "        sys.exit(1)\n",
    "\n",
    "\n",
    "if __name__ == \"__main__\":\n",
    "    main() "
   ]
  }
 ],
 "metadata": {
  "kernelspec": {
   "display_name": "Python 3",
   "language": "python",
   "name": "python3"
  },
  "language_info": {
   "codemirror_mode": {
    "name": "ipython",
    "version": 3
   },
   "file_extension": ".py",
   "mimetype": "text/x-python",
   "name": "python",
   "nbconvert_exporter": "python",
   "pygments_lexer": "ipython3",
   "version": "3.10.0"
  }
 },
 "nbformat": 4,
 "nbformat_minor": 5
}
