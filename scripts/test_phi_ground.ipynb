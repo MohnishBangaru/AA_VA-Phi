{
 "cells": [
  {
   "cell_type": "markdown",
   "id": "92437924",
   "metadata": {},
   "source": [
    "Test script for Phi Ground integration.\n",
    "\n",
    "This script tests the Phi Ground integration with AA_VA to ensure it works correctly\n",
    "for generating touch actions instead of mouse actions."
   ]
  },
  {
   "cell_type": "markdown",
   "id": "eb0179c2",
   "metadata": {},
   "source": [
    "#!/usr/bin/env python3"
   ]
  },
  {
   "cell_type": "code",
   "execution_count": null,
   "id": "5219213d",
   "metadata": {},
   "outputs": [],
   "source": [
    "\n",
    "import asyncio\n",
    "import os\n",
    "import sys\n",
    "from pathlib import Path\n"
   ]
  },
  {
   "cell_type": "markdown",
   "id": "ab8200aa",
   "metadata": {},
   "source": [
    "# Add the project root to the Python path"
   ]
  },
  {
   "cell_type": "markdown",
   "id": "b8548bd0",
   "metadata": {},
   "source": [
    "Test Phi Ground integration with a sample screenshot."
   ]
  },
  {
   "cell_type": "code",
   "execution_count": null,
   "id": "532a1f14",
   "metadata": {},
   "outputs": [],
   "source": [
    "project_root = Path(__file__).parent.parent\n",
    "sys.path.insert(0, str(project_root))\n",
    "\n",
    "from loguru import logger\n",
    "from src.ai.phi_ground import get_phi_ground_generator\n",
    "from src.vision.models import UIElement, BoundingBox\n",
    "from src.core.config import config\n",
    "\n",
    "\n",
    "async def test_phi_ground_integration():\n",
    "    \n",
    "    logger.info(\"Testing Phi Ground integration...\")\n",
    "    "
   ]
  },
  {
   "cell_type": "markdown",
   "id": "29284a1a",
   "metadata": {},
   "source": [
    "    # Check if Phi Ground is enabled"
   ]
  },
  {
   "cell_type": "code",
   "execution_count": null,
   "id": "a22e0da1",
   "metadata": {},
   "outputs": [],
   "source": [
    "    if not config.use_phi_ground:\n",
    "        logger.warning(\"Phi Ground is disabled in configuration\")\n",
    "        return\n",
    "    \n",
    "    try:"
   ]
  },
  {
   "cell_type": "markdown",
   "id": "9b910348",
   "metadata": {},
   "source": [
    "        # Initialize Phi Ground generator"
   ]
  },
  {
   "cell_type": "code",
   "execution_count": null,
   "id": "a9deb601",
   "metadata": {},
   "outputs": [],
   "source": [
    "        phi_ground = get_phi_ground_generator()\n",
    "        await phi_ground.initialize()\n",
    "        \n",
    "        logger.info(\"✓ Phi Ground initialized successfully\")\n",
    "        "
   ]
  },
  {
   "cell_type": "markdown",
   "id": "53656071",
   "metadata": {},
   "source": [
    "        # Create sample UI elements for testing"
   ]
  },
  {
   "cell_type": "code",
   "execution_count": null,
   "id": "8f4e84f1",
   "metadata": {},
   "outputs": [],
   "source": [
    "        sample_elements = [\n",
    "            UIElement(\n",
    "                bbox=BoundingBox(100, 200, 300, 250),\n",
    "                text=\"Login\",\n",
    "                confidence=0.9,\n",
    "                element_type=\"button\"\n",
    "            ),\n",
    "            UIElement(\n",
    "                bbox=BoundingBox(100, 300, 400, 350),\n",
    "                text=\"Email\",\n",
    "                confidence=0.8,\n",
    "                element_type=\"input\"\n",
    "            ),\n",
    "            UIElement(\n",
    "                bbox=BoundingBox(100, 400, 400, 450),\n",
    "                text=\"Password\",\n",
    "                confidence=0.8,\n",
    "                element_type=\"input\"\n",
    "            )\n",
    "        ]\n",
    "        "
   ]
  },
  {
   "cell_type": "markdown",
   "id": "71a23284",
   "metadata": {},
   "source": [
    "        # Sample task and action history"
   ]
  },
  {
   "cell_type": "code",
   "execution_count": null,
   "id": "f8d85811",
   "metadata": {},
   "outputs": [],
   "source": [
    "        task_description = \"Login to the application\"\n",
    "        action_history = [\n",
    "            {\"type\": \"tap\", \"element_text\": \"Login\", \"x\": 200, \"y\": 225}\n",
    "        ]\n",
    "        "
   ]
  },
  {
   "cell_type": "markdown",
   "id": "6eb8165a",
   "metadata": {},
   "source": [
    "        # Test with a sample screenshot (if available)"
   ]
  },
  {
   "cell_type": "code",
   "execution_count": null,
   "id": "3037a62e",
   "metadata": {},
   "outputs": [],
   "source": [
    "        screenshot_path = \"test_screenshot.png\"\n",
    "        if os.path.exists(screenshot_path):\n",
    "            logger.info(f\"Testing with screenshot: {screenshot_path}\")\n",
    "            "
   ]
  },
  {
   "cell_type": "markdown",
   "id": "589ebecb",
   "metadata": {},
   "source": [
    "            # Generate action using Phi Ground"
   ]
  },
  {
   "cell_type": "code",
   "execution_count": null,
   "id": "e7c93173",
   "metadata": {},
   "outputs": [],
   "source": [
    "            action = await phi_ground.generate_touch_action(\n",
    "                screenshot_path, task_description, action_history, sample_elements\n",
    "            )\n",
    "            \n",
    "            if action:\n",
    "                logger.info(\"✓ Phi Ground generated action successfully\")\n",
    "                logger.info(f\"Action type: {action.get('type')}\")\n",
    "                logger.info(f\"Reasoning: {action.get('reasoning')}\")\n",
    "                logger.info(f\"Confidence: {action.get('confidence', 0.5):.2f}\")\n",
    "                "
   ]
  },
  {
   "cell_type": "markdown",
   "id": "752144d3",
   "metadata": {},
   "source": [
    "                # Validate coordinates"
   ]
  },
  {
   "cell_type": "code",
   "execution_count": null,
   "id": "324f7a45",
   "metadata": {},
   "outputs": [],
   "source": [
    "                if phi_ground.validate_action_coordinates(action):\n",
    "                    logger.info(\"✓ Action coordinates are valid\")\n",
    "                else:\n",
    "                    logger.warning(\"⚠ Action coordinates are invalid\")\n",
    "            else:\n",
    "                logger.warning(\"⚠ Phi Ground did not generate an action\")\n",
    "        else:\n",
    "            logger.info(\"No test screenshot found, testing without image...\")\n",
    "            "
   ]
  },
  {
   "cell_type": "markdown",
   "id": "3eafa4cf",
   "metadata": {},
   "source": [
    "            # Test without screenshot (should fall back gracefully)"
   ]
  },
  {
   "cell_type": "markdown",
   "id": "8ceb0ebf",
   "metadata": {},
   "source": [
    "Test Phi Ground integration with action prioritizer."
   ]
  },
  {
   "cell_type": "code",
   "execution_count": null,
   "id": "3a6ebf28",
   "metadata": {},
   "outputs": [],
   "source": [
    "            action = await phi_ground.generate_touch_action(\n",
    "                \"\", task_description, action_history, sample_elements\n",
    "            )\n",
    "            \n",
    "            if action is None:\n",
    "                logger.info(\"✓ Phi Ground correctly returned None when no screenshot available\")\n",
    "            else:\n",
    "                logger.warning(\"⚠ Phi Ground generated action without screenshot (unexpected)\")\n",
    "        \n",
    "        logger.info(\"✓ Phi Ground integration test completed\")\n",
    "        \n",
    "    except Exception as e:\n",
    "        logger.error(f\"❌ Phi Ground integration test failed: {e}\")\n",
    "        raise\n",
    "\n",
    "\n",
    "async def test_action_prioritizer_integration():\n",
    "    \n",
    "    logger.info(\"Testing Phi Ground integration with action prioritizer...\")\n",
    "    \n",
    "    try:\n",
    "        from src.core.action_prioritizer import get_action_prioritizer\n",
    "        \n",
    "        prioritizer = get_action_prioritizer()\n",
    "        "
   ]
  },
  {
   "cell_type": "markdown",
   "id": "6cdff319",
   "metadata": {},
   "source": [
    "        # Sample UI elements in dictionary format"
   ]
  },
  {
   "cell_type": "code",
   "execution_count": null,
   "id": "95b037a7",
   "metadata": {},
   "outputs": [],
   "source": [
    "        ui_elements = [\n",
    "            {\n",
    "                \"text\": \"Login\",\n",
    "                \"element_type\": \"button\",\n",
    "                \"confidence\": 0.9,\n",
    "                \"bounds\": {\"x\": 100, \"y\": 200, \"x2\": 300, \"y2\": 250}\n",
    "            },\n",
    "            {\n",
    "                \"text\": \"Email\",\n",
    "                \"element_type\": \"input\",\n",
    "                \"confidence\": 0.8,\n",
    "                \"bounds\": {\"x\": 100, \"y\": 300, \"x2\": 400, \"y2\": 350}\n",
    "            }\n",
    "        ]\n",
    "        \n",
    "        task_description = \"Login to the application\"\n",
    "        action_history = []\n",
    "        "
   ]
  },
  {
   "cell_type": "markdown",
   "id": "b5114498",
   "metadata": {},
   "source": [
    "        # Test with screenshot path"
   ]
  },
  {
   "cell_type": "markdown",
   "id": "e09ad6d8",
   "metadata": {},
   "source": [
    "Main test function."
   ]
  },
  {
   "cell_type": "code",
   "execution_count": null,
   "id": "b0141a89",
   "metadata": {},
   "outputs": [],
   "source": [
    "        screenshot_path = \"test_screenshot.png\"\n",
    "        if os.path.exists(screenshot_path):\n",
    "            logger.info(f\"Testing action prioritizer with screenshot: {screenshot_path}\")\n",
    "            \n",
    "            optimal_action = prioritizer.get_optimal_action(\n",
    "                ui_elements=ui_elements,\n",
    "                task_description=task_description,\n",
    "                action_history=action_history,\n",
    "                screenshot_path=screenshot_path\n",
    "            )\n",
    "            \n",
    "            if optimal_action:\n",
    "                logger.info(\"✓ Action prioritizer with Phi Ground worked\")\n",
    "                logger.info(f\"Action type: {optimal_action.action_type.name}\")\n",
    "                logger.info(f\"Score: {optimal_action.score:.2f}\")\n",
    "                logger.info(f\"Reasoning: {optimal_action.reasoning}\")\n",
    "            else:\n",
    "                logger.warning(\"⚠ Action prioritizer did not find optimal action\")\n",
    "        else:\n",
    "            logger.info(\"No test screenshot found, testing without Phi Ground...\")\n",
    "            \n",
    "            optimal_action = prioritizer.get_optimal_action(\n",
    "                ui_elements=ui_elements,\n",
    "                task_description=task_description,\n",
    "                action_history=action_history\n",
    "            )\n",
    "            \n",
    "            if optimal_action:\n",
    "                logger.info(\"✓ Action prioritizer worked without Phi Ground\")\n",
    "            else:\n",
    "                logger.warning(\"⚠ Action prioritizer did not find optimal action\")\n",
    "        \n",
    "        logger.info(\"✓ Action prioritizer integration test completed\")\n",
    "        \n",
    "    except Exception as e:\n",
    "        logger.error(f\"❌ Action prioritizer integration test failed: {e}\")\n",
    "        raise\n",
    "\n",
    "\n",
    "async def main():\n",
    "    logger.info(\"Starting Phi Ground integration tests...\")\n",
    "    "
   ]
  },
  {
   "cell_type": "markdown",
   "id": "7c1fa710",
   "metadata": {},
   "source": [
    "    # Test basic Phi Ground functionality"
   ]
  },
  {
   "cell_type": "code",
   "execution_count": null,
   "id": "b310bd5a",
   "metadata": {},
   "outputs": [],
   "source": [
    "    await test_phi_ground_integration()\n",
    "    "
   ]
  },
  {
   "cell_type": "markdown",
   "id": "740fb84e",
   "metadata": {},
   "source": [
    "    # Test integration with action prioritizer"
   ]
  },
  {
   "cell_type": "code",
   "execution_count": null,
   "id": "60f8d09d",
   "metadata": {},
   "outputs": [],
   "source": [
    "    await test_action_prioritizer_integration()\n",
    "    \n",
    "    logger.info(\"All Phi Ground integration tests completed!\")\n",
    "\n",
    "\n",
    "if __name__ == \"__main__\":\n",
    "    asyncio.run(main())\n"
   ]
  }
 ],
 "metadata": {
  "kernelspec": {
   "display_name": "Python 3",
   "language": "python",
   "name": "python3"
  },
  "language_info": {
   "codemirror_mode": {
    "name": "ipython",
    "version": 3
   },
   "file_extension": ".py",
   "mimetype": "text/x-python",
   "name": "python",
   "nbconvert_exporter": "python",
   "pygments_lexer": "ipython3",
   "version": "3.10.0"
  }
 },
 "nbformat": 4,
 "nbformat_minor": 5
}
