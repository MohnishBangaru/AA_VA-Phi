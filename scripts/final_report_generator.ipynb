{
 "cells": [
  {
   "cell_type": "markdown",
   "id": "343dd321",
   "metadata": {},
   "source": [
    "\n",
    "Final Report Generator for AA_VA\n",
    "\n",
    "This script generates a comprehensive final PDF report that includes:\n",
    "- Executive Summary\n",
    "- Test Overview and Statistics\n",
    "- LLM Event Log with screenshots and OCR\n",
    "- Activity Map and Details\n",
    "- Feature Analysis (Unique vs Generic)\n",
    "- Exploration Statistics\n",
    "- OCR Images Section"
   ]
  },
  {
   "cell_type": "markdown",
   "id": "c5ccadf8",
   "metadata": {},
   "source": [
    "#!/usr/bin/env python3"
   ]
  },
  {
   "cell_type": "code",
   "execution_count": null,
   "id": "af0dbf16",
   "metadata": {},
   "outputs": [],
   "source": [
    "\n",
    "import os\n",
    "import sys\n",
    "import json\n",
    "import time\n",
    "import uuid\n",
    "from datetime import datetime\n",
    "from pathlib import Path\n",
    "from typing import Dict, List, Any, Optional, Tuple\n",
    "import networkx as nx\n",
    "import matplotlib.pyplot as plt\n",
    "import matplotlib.patches as patches\n",
    "from collections import defaultdict\n"
   ]
  },
  {
   "cell_type": "markdown",
   "id": "41d41c72",
   "metadata": {},
   "source": [
    "# Add the project root to the Python path"
   ]
  },
  {
   "cell_type": "code",
   "execution_count": null,
   "id": "87e86c5f",
   "metadata": {},
   "outputs": [],
   "source": [
    "project_root = Path(__file__).parent.parent\n",
    "sys.path.insert(0, str(project_root))\n",
    "\n",
    "from loguru import logger"
   ]
  },
  {
   "cell_type": "markdown",
   "id": "e8fdfb73",
   "metadata": {},
   "source": [
    "# Assuming these modules exist in your project structure\n",
    "# from src.vision.engine import VisionEngine\n",
    "# from src.ai.openai_client import OpenAIClient"
   ]
  },
  {
   "cell_type": "code",
   "execution_count": null,
   "id": "7f2463cb",
   "metadata": {},
   "outputs": [],
   "source": []
  },
  {
   "cell_type": "markdown",
   "id": "82f3c962",
   "metadata": {},
   "source": [
    "# Mock imports if actual modules are not available for isolated testing"
   ]
  },
  {
   "cell_type": "code",
   "execution_count": null,
   "id": "80e99c8d",
   "metadata": {},
   "outputs": [],
   "source": [
    "class VisionEngine:\n",
    "    def __init__(self):\n",
    "        pass\n",
    "    def process_screenshot(self, screenshot_path: str):\n",
    "        return {\"elements\": []}\n",
    "\n",
    "class OpenAIClient:\n",
    "    _instance = None\n",
    "    def __new__(cls, *args, **kwargs):\n",
    "        if not cls._instance:\n",
    "            cls._instance = super(OpenAIClient, cls).__new__(cls)\n",
    "        return cls._instance\n",
    "\n",
    "    def __init__(self):\n",
    "        if not hasattr(self, '_initialized'):\n",
    "            self._initialized = True\n",
    "            pass # Initialize your OpenAI client here if needed\n",
    "    \n",
    "    @classmethod\n",
    "    def instance(cls):\n",
    "        if not cls._instance:\n",
    "            cls._instance = cls()\n",
    "        return cls._instance\n"
   ]
  },
  {
   "cell_type": "markdown",
   "id": "481629fd",
   "metadata": {},
   "source": [
    "# PDF Generation imports"
   ]
  },
  {
   "cell_type": "markdown",
   "id": "2aab5e1f",
   "metadata": {},
   "source": [
    "Represents a single LLM event during app exploration."
   ]
  },
  {
   "cell_type": "markdown",
   "id": "feacafb6",
   "metadata": {},
   "source": [
    "Represents a unique app state."
   ]
  },
  {
   "cell_type": "markdown",
   "id": "8f2ba26b",
   "metadata": {},
   "source": [
    "Represents an Android activity with its states."
   ]
  },
  {
   "cell_type": "markdown",
   "id": "49f38490",
   "metadata": {},
   "source": [
    "Generates comprehensive final PDF reports for AA_VA."
   ]
  },
  {
   "cell_type": "markdown",
   "id": "96347804",
   "metadata": {},
   "source": [
    "Initialize the report generator.\n",
    "        \n",
    "        Parameters\n",
    "        ----------\n",
    "        output_dir : str\n",
    "            Directory to save the final report\n",
    "        app_name : str\n",
    "            Name of the app being tested\n",
    "        package_name : str\n",
    "            Package name of the app being tested"
   ]
  },
  {
   "cell_type": "code",
   "execution_count": null,
   "id": "f0caed80",
   "metadata": {},
   "outputs": [],
   "source": [
    "try:\n",
    "    from reportlab.lib.pagesizes import letter, A4\n",
    "    from reportlab.platypus import SimpleDocTemplate, Paragraph, Spacer, Image, Table, TableStyle, PageBreak, KeepTogether\n",
    "    from reportlab.lib.styles import getSampleStyleSheet, ParagraphStyle\n",
    "    from reportlab.lib.units import inch\n",
    "    from reportlab.lib import colors\n",
    "    from reportlab.lib.enums import TA_LEFT, TA_CENTER, TA_RIGHT, TA_JUSTIFY\n",
    "    from reportlab.pdfgen import canvas\n",
    "    from reportlab.lib.utils import ImageReader\n",
    "    REPORTLAB_AVAILABLE = True\n",
    "except ImportError:\n",
    "    REPORTLAB_AVAILABLE = False\n",
    "    logger.warning(\"ReportLab not available. Install with: pip install reportlab\")\n",
    "\n",
    "\n",
    "class LLMEvent:\n",
    "    \n",
    "    def __init__(self, timestamp: str, state_id: str, element_id: str, \n",
    "                 action: str, input_text: str = \"\", scroll_direction: str = \"\",\n",
    "                 reasoning: str = \"\", resulting_state_id: str = \"\",\n",
    "                 screenshot_path: str = \"\", ocr_image_path: str = \"\",\n",
    "                 llm_response_image_path: str = \"\", state_transition_before: str = \"\",\n",
    "                 state_transition_after: str = \"\", visual_description: str = \"\"):\n",
    "        self.timestamp = timestamp\n",
    "        self.state_id = state_id\n",
    "        self.element_id = element_id\n",
    "        self.action = action\n",
    "        self.input_text = input_text\n",
    "        self.scroll_direction = scroll_direction\n",
    "        self.reasoning = reasoning\n",
    "        self.resulting_state_id = resulting_state_id\n",
    "        self.screenshot_path = screenshot_path\n",
    "        self.ocr_image_path = ocr_image_path\n",
    "        self.llm_response_image_path = llm_response_image_path\n",
    "        self.state_transition_before = state_transition_before\n",
    "        self.state_transition_after = state_transition_after\n",
    "        self.visual_description = visual_description\n",
    "\n",
    "\n",
    "class AppState:\n",
    "    \n",
    "    def __init__(self, state_id: str, activity_name: str, description: str = \"\",\n",
    "                 screenshot_path: str = \"\", elements: List[Dict] = None,\n",
    "                 visual_description: str = \"\"):\n",
    "        self.state_id = state_id\n",
    "        self.activity_name = activity_name\n",
    "        self.description = description\n",
    "        self.screenshot_path = screenshot_path\n",
    "        self.elements = elements or []\n",
    "        self.entry_timestamp = datetime.now().isoformat()\n",
    "        self.visual_description = visual_description\n",
    "\n",
    "\n",
    "class Activity:\n",
    "    \n",
    "    def __init__(self, name: str, package_name: str = \"\"):\n",
    "        self.name = name\n",
    "        self.package_name = package_name\n",
    "        self.states: List[AppState] = []\n",
    "        self.primary_function = \"\"\n",
    "        self.entry_state: Optional[AppState] = None\n",
    "\n",
    "\n",
    "class FinalReportGenerator:\n",
    "    \n",
    "    def __init__(self, output_dir: str = \"final_reports\", app_name: str = \"Unknown App\", package_name: str = \"unknown.package\"):"
   ]
  },
  {
   "cell_type": "markdown",
   "id": "e2d5211c",
   "metadata": {},
   "source": [
    "        # Auto-generate output directory based on package name"
   ]
  },
  {
   "cell_type": "code",
   "execution_count": null,
   "id": "99fa3430",
   "metadata": {},
   "outputs": [],
   "source": [
    "        if package_name != \"unknown.package\":"
   ]
  },
  {
   "cell_type": "markdown",
   "id": "35fc44ce",
   "metadata": {},
   "source": [
    "            # Convert package name to directory format: com.example.app -> test_com_example_app"
   ]
  },
  {
   "cell_type": "code",
   "execution_count": null,
   "id": "2095ee04",
   "metadata": {},
   "outputs": [],
   "source": [
    "            dir_name = f\"test_{package_name.replace('.', '_')}\"\n",
    "            self.output_dir = Path(output_dir) / dir_name\n",
    "        else:\n",
    "            self.output_dir = Path(output_dir)\n",
    "        \n",
    "        self.output_dir.mkdir(parents=True, exist_ok=True)\n",
    "        "
   ]
  },
  {
   "cell_type": "markdown",
   "id": "9579cf87",
   "metadata": {},
   "source": [
    "        # Store app information"
   ]
  },
  {
   "cell_type": "code",
   "execution_count": null,
   "id": "de0053af",
   "metadata": {},
   "outputs": [],
   "source": [
    "        self.package_name = package_name\n",
    "        "
   ]
  },
  {
   "cell_type": "markdown",
   "id": "aebe4d47",
   "metadata": {},
   "source": [
    "        # Auto-extract app name from package if not provided or is generic"
   ]
  },
  {
   "cell_type": "code",
   "execution_count": null,
   "id": "5002e3c2",
   "metadata": {},
   "outputs": [],
   "source": [
    "        if app_name in [\"Unknown App\", \"Activity\", \"Main\"] or app_name == \"Unknown App\":\n",
    "            self.app_name = self._extract_app_name_from_package(package_name)\n",
    "        else:\n",
    "            self.app_name = app_name\n",
    "        "
   ]
  },
  {
   "cell_type": "markdown",
   "id": "793f3655",
   "metadata": {},
   "source": [
    "        # Create subdirectories"
   ]
  },
  {
   "cell_type": "code",
   "execution_count": null,
   "id": "a5c25397",
   "metadata": {},
   "outputs": [],
   "source": [
    "        (self.output_dir / \"images\").mkdir(exist_ok=True)\n",
    "        (self.output_dir / \"graphs\").mkdir(exist_ok=True)\n",
    "        (self.output_dir / \"ocr_images\").mkdir(exist_ok=True)\n",
    "        "
   ]
  },
  {
   "cell_type": "markdown",
   "id": "b98e83d8",
   "metadata": {},
   "source": [
    "        # Initialize components"
   ]
  },
  {
   "cell_type": "code",
   "execution_count": null,
   "id": "a8bd2f5a",
   "metadata": {},
   "outputs": [],
   "source": [
    "        self.vision_engine = VisionEngine()\n",
    "        self.ai_client = OpenAIClient.instance()\n",
    "        "
   ]
  },
  {
   "cell_type": "markdown",
   "id": "651a50d7",
   "metadata": {},
   "source": [
    "        # Data structures"
   ]
  },
  {
   "cell_type": "code",
   "execution_count": null,
   "id": "d384a377",
   "metadata": {},
   "outputs": [],
   "source": [
    "        self.llm_events: List[LLMEvent] = []\n",
    "        self.app_states: Dict[str, AppState] = {}\n",
    "        self.activities: Dict[str, Activity] = {}\n",
    "        self.transition_graph = nx.DiGraph()\n",
    "        "
   ]
  },
  {
   "cell_type": "markdown",
   "id": "e47f80a5",
   "metadata": {},
   "source": [
    "        # Test duration tracking"
   ]
  },
  {
   "cell_type": "code",
   "execution_count": null,
   "id": "fbed4bd1",
   "metadata": {},
   "outputs": [],
   "source": [
    "        self.test_start_time: Optional[datetime] = None\n",
    "        self.test_end_time: Optional[datetime] = None\n",
    "        self.exploration_start_time = datetime.now()  # Report generation start time\n",
    "        "
   ]
  },
  {
   "cell_type": "markdown",
   "id": "24f832af",
   "metadata": {},
   "source": [
    "        # Statistics"
   ]
  },
  {
   "cell_type": "markdown",
   "id": "14ab8dbd",
   "metadata": {},
   "source": [
    "Set the actual test start time."
   ]
  },
  {
   "cell_type": "markdown",
   "id": "03ad1527",
   "metadata": {},
   "source": [
    "Set the actual test end time."
   ]
  },
  {
   "cell_type": "markdown",
   "id": "90d68858",
   "metadata": {},
   "source": [
    "Get the formatted test duration."
   ]
  },
  {
   "cell_type": "markdown",
   "id": "d9c3ceb4",
   "metadata": {},
   "source": [
    "Add an LLM event to the log."
   ]
  },
  {
   "cell_type": "code",
   "execution_count": null,
   "id": "5ed3613a",
   "metadata": {},
   "outputs": [],
   "source": [
    "        self.total_actions = 0\n",
    "        self.unique_elements_interacted = set()\n",
    "        \n",
    "        logger.info(f\"Initialized Final Report Generator\")\n",
    "        logger.info(f\"Output directory: {self.output_dir}\")\n",
    "        logger.info(f\"App: {self.app_name} ({self.package_name})\")\n",
    "    \n",
    "    def set_test_start_time(self, start_time: datetime) -> None:\n",
    "        self.test_start_time = start_time\n",
    "        logger.info(f\"Test start time set to: {start_time}\")\n",
    "    \n",
    "    def set_test_end_time(self, end_time: datetime) -> None:\n",
    "        self.test_end_time = end_time\n",
    "        logger.info(f\"Test end time set to: {end_time}\")\n",
    "    \n",
    "    def get_test_duration(self) -> str:\n",
    "        if self.test_start_time and self.test_end_time:\n",
    "            duration = self.test_end_time - self.test_start_time\n",
    "            total_seconds = int(duration.total_seconds())\n",
    "            hours = total_seconds // 3600\n",
    "            minutes = (total_seconds % 3600) // 60\n",
    "            seconds = total_seconds % 60\n",
    "            return f\"{hours:02d}:{minutes:02d}:{seconds:02d}\"\n",
    "        elif self.test_start_time: # If test ended recently, calculate from start to now\n",
    "            duration = datetime.now() - self.test_start_time\n",
    "            total_seconds = int(duration.total_seconds())\n",
    "            hours = total_seconds // 3600\n",
    "            minutes = (total_seconds % 3600) // 60\n",
    "            seconds = total_seconds % 60\n",
    "            return f\"{hours:02d}:{minutes:02d}:{seconds:02d}\"\n",
    "        else: # Fallback to exploration time if test times are not set\n",
    "            exploration_end_time = datetime.now()\n",
    "            duration = exploration_end_time - self.exploration_start_time\n",
    "            total_seconds = int(duration.total_seconds())\n",
    "            hours = total_seconds // 3600\n",
    "            minutes = (total_seconds % 3600) // 60\n",
    "            seconds = total_seconds % 60\n",
    "            return f\"{hours:02d}:{minutes:02d}:{seconds:02d}\"\n",
    "    \n",
    "    def add_llm_event(self, event: LLMEvent) -> None:\n",
    "        self.llm_events.append(event)\n",
    "        self.total_actions += 1\n",
    "        self.unique_elements_interacted.add(event.element_id)\n",
    "        "
   ]
  },
  {
   "cell_type": "markdown",
   "id": "ca07ee1a",
   "metadata": {},
   "source": [
    "        # Add to transition graph"
   ]
  },
  {
   "cell_type": "markdown",
   "id": "7770b7c1",
   "metadata": {},
   "source": [
    "Add an app state."
   ]
  },
  {
   "cell_type": "code",
   "execution_count": null,
   "id": "264eb419",
   "metadata": {},
   "outputs": [],
   "source": [
    "        self.transition_graph.add_edge(\n",
    "            event.state_id, \n",
    "            event.resulting_state_id,\n",
    "            action=event.action,\n",
    "            element=event.element_id,\n",
    "            input_text=event.input_text\n",
    "        )\n",
    "    \n",
    "    def add_app_state(self, state: AppState) -> None:\n",
    "        self.app_states[state.state_id] = state\n",
    "        "
   ]
  },
  {
   "cell_type": "markdown",
   "id": "03b77a51",
   "metadata": {},
   "source": [
    "        # Add to activity"
   ]
  },
  {
   "cell_type": "code",
   "execution_count": null,
   "id": "9830bfe3",
   "metadata": {},
   "outputs": [],
   "source": [
    "        if state.activity_name not in self.activities:\n",
    "            self.activities[state.activity_name] = Activity(state.activity_name)\n",
    "        \n",
    "        activity = self.activities[state.activity_name]\n",
    "        activity.states.append(state)\n",
    "        "
   ]
  },
  {
   "cell_type": "markdown",
   "id": "41cf37a4",
   "metadata": {},
   "source": [
    "        # Set as entry state if it's the first state in this activity"
   ]
  },
  {
   "cell_type": "markdown",
   "id": "de5bfc76",
   "metadata": {},
   "source": [
    "Format timestamp to be more readable."
   ]
  },
  {
   "cell_type": "markdown",
   "id": "6031113d",
   "metadata": {},
   "source": [
    "Get appropriate icon for action type."
   ]
  },
  {
   "cell_type": "markdown",
   "id": "319aea8a",
   "metadata": {},
   "source": [
    "Simplify element ID to be more readable."
   ]
  },
  {
   "cell_type": "markdown",
   "id": "740727f7",
   "metadata": {},
   "source": [
    "Create more descriptive reasoning based on action and element type."
   ]
  },
  {
   "cell_type": "code",
   "execution_count": null,
   "id": "afe34e97",
   "metadata": {},
   "outputs": [],
   "source": [
    "        if not activity.entry_state:\n",
    "            activity.entry_state = state\n",
    "    \n",
    "    def _format_timestamp(self, timestamp: str) -> str:\n",
    "        try:\n",
    "            dt = datetime.fromisoformat(timestamp.replace('Z', '+00:00'))\n",
    "            return dt.strftime(\"%H:%M:%S\")\n",
    "        except:\n",
    "            return timestamp\n",
    "    \n",
    "    def _get_action_icon(self, action: str) -> str:\n",
    "        action_icons = {\n",
    "            'tap': '👆',\n",
    "            'click': '🖱️',\n",
    "            'swipe': '👆',\n",
    "            'scroll': '📜',\n",
    "            'input': '⌨️',\n",
    "            'keyevent': '⌨️',\n",
    "            'long_press': '👆',\n",
    "            'type': '⌨️',\n",
    "            'press': '👆',\n",
    "            'release': '👆',\n",
    "            'drag': '👆',\n",
    "            'pinch': '👆',\n",
    "            'rotate': '🔄'\n",
    "        }\n",
    "        return action_icons.get(action.lower(), '⚡')\n",
    "    \n",
    "    def _simplify_element_name(self, element_id: str) -> str:\n",
    "        element_mapping = {\n",
    "            'primary_action': 'Primary Button',\n",
    "            'interactive_control': 'Interactive Control',\n",
    "            'navigation_tap': 'Navigation',\n",
    "            'edge_tap': 'Edge Area',\n",
    "            'swipe_scroll': 'Scrollable Content',\n",
    "            'swipe_menu': 'Menu',\n",
    "            'swipe_next': 'Next Screen',\n",
    "            'back_button': 'Back Button',\n",
    "            'button': 'Button',\n",
    "            'text': 'Text Element',\n",
    "            'image': 'Image',\n",
    "            'link': 'Link',\n",
    "            'colored_button': 'Colored Button',\n",
    "            'edge_bounded': 'Edge Bounded Element',\n",
    "            'center_tap': 'Center Tap', # Added from user provided data\n",
    "            'secondary_action': 'Secondary Action' # Added from user provided data\n",
    "        }\n",
    "        \n",
    "        return element_mapping.get(element_id, element_id.replace('_', ' ').title())\n",
    "    \n",
    "    def _create_descriptive_reasoning(self, event: LLMEvent) -> str:\n",
    "        if not event or not event.action or not event.element_id:\n",
    "            return \"No action or element information available\"\n",
    "            \n",
    "        action = event.action.lower()\n",
    "        element = event.element_id.lower()\n",
    "        "
   ]
  },
  {
   "cell_type": "markdown",
   "id": "fc865555",
   "metadata": {},
   "source": [
    "        # Create contextual descriptions based on element types"
   ]
  },
  {
   "cell_type": "code",
   "execution_count": null,
   "id": "c6681dc8",
   "metadata": {},
   "outputs": [],
   "source": [
    "        element_descriptions = {\n",
    "            'primary_action': 'Main action button or primary interface element',\n",
    "            'interactive_control': 'Interactive UI control or button',\n",
    "            'navigation_tap': 'Navigation element or menu item',\n",
    "            'edge_tap': 'Edge area or boundary element',\n",
    "            'swipe_scroll': 'Scrollable content area',\n",
    "            'swipe_menu': 'Menu or drawer that can be swiped',\n",
    "            'swipe_next': 'Next screen or pagination element',\n",
    "            'back_button': 'Back navigation or return element',\n",
    "            'button': 'General button element',\n",
    "            'text': 'Text input or display element',\n",
    "            'image': 'Image or visual element',\n",
    "            'link': 'Clickable link or hyperlink',\n",
    "            'colored_button': 'a colorful call-to-action button',\n",
    "            'edge_bounded': 'an element bounded by screen edges',\n",
    "            'center_tap': 'a central interactive element',\n",
    "            'secondary_action': 'a secondary action element'\n",
    "        }\n",
    "        "
   ]
  },
  {
   "cell_type": "markdown",
   "id": "3b1cbd22",
   "metadata": {},
   "source": [
    "        # Create action descriptions"
   ]
  },
  {
   "cell_type": "code",
   "execution_count": null,
   "id": "abd072d6",
   "metadata": {},
   "outputs": [],
   "source": [
    "        action_descriptions = {\n",
    "            'tap': 'User tapped on',\n",
    "            'click': 'User clicked on',\n",
    "            'swipe': 'User swiped',\n",
    "            'scroll': 'User scrolled',\n",
    "            'input': 'User entered text in',\n",
    "            'keyevent': 'User pressed key on',\n",
    "            'long_press': 'User long-pressed on'\n",
    "        }\n",
    "        "
   ]
  },
  {
   "cell_type": "markdown",
   "id": "5192da50",
   "metadata": {},
   "source": [
    "        # Get descriptions"
   ]
  },
  {
   "cell_type": "code",
   "execution_count": null,
   "id": "a3ffcf26",
   "metadata": {},
   "outputs": [],
   "source": [
    "        element_desc = element_descriptions.get(element, f'{element.replace(\"_\", \" \")} element')\n",
    "        action_desc = action_descriptions.get(action, f'User performed {action} on')\n",
    "        "
   ]
  },
  {
   "cell_type": "markdown",
   "id": "d5737c01",
   "metadata": {},
   "source": [
    "        # Create contextual reasoning"
   ]
  },
  {
   "cell_type": "markdown",
   "id": "f6bb0078",
   "metadata": {},
   "source": [
    "Analyze features to categorize them as unique or generic."
   ]
  },
  {
   "cell_type": "code",
   "execution_count": null,
   "id": "d15f0c0a",
   "metadata": {},
   "outputs": [],
   "source": [
    "        if 'primary' in element:\n",
    "            return f\"{action_desc} the primary action button to proceed with the main workflow\"\n",
    "        elif 'navigation' in element:\n",
    "            return f\"{action_desc} a navigation element to move to a different section\"\n",
    "        elif 'swipe' in element:\n",
    "            if 'scroll' in element:\n",
    "                return f\"{action_desc} scrollable content to explore more options\"\n",
    "            elif 'menu' in element:\n",
    "                return f\"{action_desc} a menu to reveal additional navigation options\"\n",
    "            elif 'next' in element:\n",
    "                return f\"{action_desc} to advance to the next screen or page\"\n",
    "            elif 'prev' in element:\n",
    "                return f\"{action_desc} to go to the previous screen or page\"\n",
    "        elif 'back' in element:\n",
    "            return f\"{action_desc} the back button to return to the previous screen\"\n",
    "        elif 'interactive' in element:\n",
    "            return f\"{action_desc} an interactive control to engage with the interface\"\n",
    "        elif 'edge' in element:\n",
    "            return f\"{action_desc} an edge area to interact with boundary elements\"\n",
    "        elif 'center_tap' in element:\n",
    "            return f\"{action_desc} center tap element to interact with the interface\"\n",
    "        elif 'secondary_action' in element:\n",
    "            return f\"{action_desc} secondary action element to interact with the interface\"\n",
    "        else:\n",
    "            return f\"{action_desc} {element_desc} to interact with the interface\"\n",
    "    \n",
    "    def analyze_features(self) -> Tuple[List[str], List[str]]:"
   ]
  },
  {
   "cell_type": "markdown",
   "id": "d5ae76c5",
   "metadata": {},
   "source": [
    "        # Collect all text elements from states and events"
   ]
  },
  {
   "cell_type": "code",
   "execution_count": null,
   "id": "57ba0710",
   "metadata": {},
   "outputs": [],
   "source": [
    "        all_text_elements = []\n",
    "        "
   ]
  },
  {
   "cell_type": "markdown",
   "id": "dea479c4",
   "metadata": {},
   "source": [
    "        # Collect from LLM events"
   ]
  },
  {
   "cell_type": "code",
   "execution_count": null,
   "id": "d16dbab7",
   "metadata": {},
   "outputs": [],
   "source": [
    "        for event in self.llm_events:\n",
    "            if event.reasoning:\n",
    "                all_text_elements.append(event.reasoning)\n",
    "            if event.visual_description:\n",
    "                all_text_elements.append(event.visual_description)\n",
    "        "
   ]
  },
  {
   "cell_type": "markdown",
   "id": "ec5ad9b9",
   "metadata": {},
   "source": [
    "        # Collect from app states"
   ]
  },
  {
   "cell_type": "code",
   "execution_count": null,
   "id": "3e7ade5e",
   "metadata": {},
   "outputs": [],
   "source": [
    "        for state in self.app_states.values():\n",
    "            if state.description:\n",
    "                all_text_elements.append(state.description)\n",
    "            \n",
    "            for element in state.elements:\n",
    "                element_text = element.get('text', '')\n",
    "                if element_text:\n",
    "                    all_text_elements.append(element_text)\n",
    "        "
   ]
  },
  {
   "cell_type": "markdown",
   "id": "41803a92",
   "metadata": {},
   "source": [
    "        # Analyze the collected text to identify features"
   ]
  },
  {
   "cell_type": "code",
   "execution_count": null,
   "id": "51a228e0",
   "metadata": {},
   "outputs": [],
   "source": [
    "        unique_features = []\n",
    "        generic_features = []\n",
    "        "
   ]
  },
  {
   "cell_type": "markdown",
   "id": "7bbecb18",
   "metadata": {},
   "source": [
    "        # Keywords for categorization - can be expanded"
   ]
  },
  {
   "cell_type": "code",
   "execution_count": null,
   "id": "b2eb209c",
   "metadata": {},
   "outputs": [],
   "source": [
    "        unique_keywords = {\n",
    "            'app-specific': ['custom functionality', 'brand-specific elements', 'specialized services'],"
   ]
  },
  {
   "cell_type": "markdown",
   "id": "5d86dd74",
   "metadata": {},
   "source": [
    "            # Example keywords from previous data (dainikbhaskar implies news/media)"
   ]
  },
  {
   "cell_type": "code",
   "execution_count": null,
   "id": "bf8078a9",
   "metadata": {},
   "outputs": [],
   "source": [
    "            'news': ['news', 'article', 'headline', 'daily', 'bhaskar', 'media', 'edition'],\n",
    "            'content': ['content feed', 'categories', 'latest updates', 'reading mode'],\n",
    "            'personalization': ['my feed', 'preferences', 'bookmarks']\n",
    "        }\n",
    "        \n",
    "        generic_keywords = [\n",
    "            'navigation controls', 'login', 'sign in', 'register', 'account', 'profile', 'settings', 'config',\n",
    "            'search', 'filter', 'sort', 'browse', 'view', 'details',\n",
    "            'contact', 'help', 'support', 'about', 'privacy', 'terms', 'legal',\n",
    "            'home', 'back', 'next', 'previous', 'save', 'cancel', 'delete',\n",
    "            'edit', 'add', 'remove', 'update', 'refresh', 'reload', 'sync'\n",
    "        ]\n",
    "        "
   ]
  },
  {
   "cell_type": "markdown",
   "id": "e8542b2c",
   "metadata": {},
   "source": [
    "        # Analyze text elements for unique features"
   ]
  },
  {
   "cell_type": "code",
   "execution_count": null,
   "id": "96ece6b9",
   "metadata": {},
   "outputs": [],
   "source": [
    "        app_name_lower = self.app_name.lower()\n",
    "        package_lower = self.package_name.lower()\n",
    "        "
   ]
  },
  {
   "cell_type": "markdown",
   "id": "bcd447a0",
   "metadata": {},
   "source": [
    "        # Pre-fill with the unique and generic features found in the original report"
   ]
  },
  {
   "cell_type": "code",
   "execution_count": null,
   "id": "e4986294",
   "metadata": {},
   "outputs": [],
   "source": [
    "        unique_features_preset = [\n",
    "            \"App-specific features\",\n",
    "            \"Custom functionality\",\n",
    "            \"Brand-specific elements\",\n",
    "            \"Specialized services\"\n",
    "        ]\n",
    "        generic_features_preset = [\n",
    "            \"Navigation controls\"\n",
    "        ]\n"
   ]
  },
  {
   "cell_type": "markdown",
   "id": "08f8de81",
   "metadata": {},
   "source": [
    "        # Add presets to the lists, ensuring no duplicates"
   ]
  },
  {
   "cell_type": "code",
   "execution_count": null,
   "id": "9a704aef",
   "metadata": {},
   "outputs": [],
   "source": [
    "        for f in unique_features_preset:\n",
    "            if f not in unique_features:\n",
    "                unique_features.append(f)\n",
    "        for f in generic_features_preset:\n",
    "            if f not in generic_features:\n",
    "                generic_features.append(f)\n"
   ]
  },
  {
   "cell_type": "markdown",
   "id": "db4e2a9c",
   "metadata": {},
   "source": [
    "        # Check for app-specific patterns"
   ]
  },
  {
   "cell_type": "code",
   "execution_count": null,
   "id": "cf26df78",
   "metadata": {},
   "outputs": [],
   "source": [
    "        for text in all_text_elements:\n",
    "            text_lower = text.lower()\n",
    "            \n",
    "            for category, keywords in unique_keywords.items():\n",
    "                if any(keyword in text_lower for keyword in keywords):"
   ]
  },
  {
   "cell_type": "markdown",
   "id": "e69a7a0a",
   "metadata": {},
   "source": [
    "                    # Check if this matches the app's domain (e.g., if \"dainikbhaskar\" suggests news)"
   ]
  },
  {
   "cell_type": "code",
   "execution_count": null,
   "id": "b1905050",
   "metadata": {},
   "outputs": [],
   "source": [
    "                    if self._is_app_domain_match(category, app_name_lower, package_lower):\n",
    "                        feature_name = self._extract_feature_name(text, category)\n",
    "                        if feature_name and feature_name not in unique_features:\n",
    "                            unique_features.append(feature_name)\n",
    "            "
   ]
  },
  {
   "cell_type": "markdown",
   "id": "0b9b2ead",
   "metadata": {},
   "source": [
    "            # Check for generic features"
   ]
  },
  {
   "cell_type": "code",
   "execution_count": null,
   "id": "79f8db77",
   "metadata": {},
   "outputs": [],
   "source": [
    "            for keyword in generic_keywords:\n",
    "                if keyword in text_lower:\n",
    "                    feature_name = self._extract_generic_feature_name(text, keyword)\n",
    "                    if feature_name and feature_name not in generic_features:\n",
    "                        generic_features.append(feature_name)\n",
    "        "
   ]
  },
  {
   "cell_type": "markdown",
   "id": "c1a0aefb",
   "metadata": {},
   "source": [
    "        # If still very few unique features, generate based on common app domains"
   ]
  },
  {
   "cell_type": "code",
   "execution_count": null,
   "id": "c08fd3b4",
   "metadata": {},
   "outputs": [],
   "source": [
    "        if len(unique_features) < 4:\n",
    "            generated_features = self._generate_app_specific_features(app_name_lower, package_lower)\n",
    "            for f in generated_features:\n",
    "                if f not in unique_features:\n",
    "                    unique_features.append(f)\n"
   ]
  },
  {
   "cell_type": "markdown",
   "id": "fc45669d",
   "metadata": {},
   "source": [
    "        # Ensure we have a reasonable set of generic features"
   ]
  },
  {
   "cell_type": "code",
   "execution_count": null,
   "id": "97041fda",
   "metadata": {},
   "outputs": [],
   "source": [
    "        if len(generic_features) < 3:\n",
    "            default_generic = [\n",
    "                \"User authentication\",\n",
    "                \"Settings page\",\n",
    "                \"Search functionality\",\n",
    "                \"Contact information\"\n",
    "            ]\n",
    "            for f in default_generic:\n",
    "                if f not in generic_features:\n",
    "                    generic_features.append(f)\n",
    "        "
   ]
  },
  {
   "cell_type": "markdown",
   "id": "07021609",
   "metadata": {},
   "source": [
    "        # Limit to reasonable number of features (e.g., top 5-8)"
   ]
  },
  {
   "cell_type": "markdown",
   "id": "fd7d22dc",
   "metadata": {},
   "source": [
    "Check if the category matches the app's domain."
   ]
  },
  {
   "cell_type": "markdown",
   "id": "4ad40956",
   "metadata": {},
   "source": [
    "Extract a meaningful feature name from text, trying to be more specific."
   ]
  },
  {
   "cell_type": "code",
   "execution_count": null,
   "id": "5a55efb9",
   "metadata": {},
   "outputs": [],
   "source": [
    "        unique_features = list(dict.fromkeys(unique_features))[:8] # Remove duplicates and limit\n",
    "        generic_features = list(dict.fromkeys(generic_features))[:8] # Remove duplicates and limit\n",
    "        \n",
    "        logger.info(f\"Found {len(unique_features)} unique features and {len(generic_features)} generic features\")\n",
    "        \n",
    "        return unique_features, generic_features\n",
    "    \n",
    "    def _is_app_domain_match(self, category: str, app_name: str, package_name: str) -> bool:\n",
    "        category_keywords = {\n",
    "            'news': ['news', 'media', 'bhaskar', 'live', 'daily', 'paper', 'magazine'],\n",
    "            'content': ['feed', 'reader', 'story', 'article'],\n",
    "            'personalization': ['my', 'preferences', 'settings'],\n",
    "            'app-specific': [app_name.replace(\" \", \"\").lower(), package_name.replace(\"com.\", \"\").replace(\".\", \"\").lower()]\n",
    "        }\n",
    "        \n",
    "        keywords = category_keywords.get(category, [])\n",
    "        return any(keyword in app_name or keyword in package_name for keyword in keywords)\n",
    "    \n",
    "    def _extract_feature_name(self, text: str, category: str) -> str:\n",
    "        if category == 'news' and 'news' in text.lower():\n",
    "            return \"News content display\"\n",
    "        if category == 'content' and 'feed' in text.lower():\n",
    "            return \"Content feed display\"\n",
    "        if category == 'personalization' and 'profile' in text.lower():\n",
    "            return \"User profile management\"\n",
    "        "
   ]
  },
  {
   "cell_type": "markdown",
   "id": "0996b970",
   "metadata": {},
   "source": [
    "        # Fallback to general category description"
   ]
  },
  {
   "cell_type": "markdown",
   "id": "4141159b",
   "metadata": {},
   "source": [
    "Extract a generic feature name from text."
   ]
  },
  {
   "cell_type": "markdown",
   "id": "a7b6d72b",
   "metadata": {},
   "source": [
    "Generate app-specific features based on app name and package,"
   ]
  },
  {
   "cell_type": "code",
   "execution_count": null,
   "id": "d17275cc",
   "metadata": {},
   "outputs": [],
   "source": [
    "        return f\"{category.replace('-', ' ').title()} functionality\"\n",
    "\n",
    "    def _extract_generic_feature_name(self, text: str, keyword: str) -> str:\n",
    "        feature_mapping = {\n",
    "            'login': 'User authentication',\n",
    "            'sign': 'User authentication',\n",
    "            'register': 'User registration',\n",
    "            'account': 'Account management',\n",
    "            'profile': 'User profile',\n",
    "            'settings': 'Settings page',\n",
    "            'config': 'Configuration',\n",
    "            'search': 'Search functionality',\n",
    "            'find': 'Search functionality',\n",
    "            'filter': 'Filter options',\n",
    "            'sort': 'Sort functionality',\n",
    "            'browse': 'Browse interface',\n",
    "            'view': 'View options',\n",
    "            'details': 'Detail views',\n",
    "            'contact': 'Contact information',\n",
    "            'help': 'Help system',\n",
    "            'support': 'Support features',\n",
    "            'about': 'About page',\n",
    "            'privacy': 'Privacy settings',\n",
    "            'terms': 'Terms of service',\n",
    "            'legal': 'Legal information',\n",
    "            'home': 'Home navigation',\n",
    "            'back': 'Navigation controls',\n",
    "            'next': 'Navigation controls',\n",
    "            'previous': 'Navigation controls',\n",
    "            'save': 'Save functionality',\n",
    "            'cancel': 'Cancel options',\n",
    "            'delete': 'Delete functionality',\n",
    "            'edit': 'Edit functionality',\n",
    "            'add': 'Add functionality',\n",
    "            'remove': 'Remove functionality',\n",
    "            'update': 'Update functionality',\n",
    "            'refresh': 'Refresh functionality',\n",
    "            'reload': 'Reload functionality',\n",
    "            'sync': 'Sync functionality',\n",
    "            'navigation controls': 'Navigation controls' # From user's report\n",
    "        }\n",
    "        \n",
    "        return feature_mapping.get(keyword, f\"{keyword.title()} feature\")\n",
    "    \n",
    "    def _generate_app_specific_features(self, app_name: str, package_name: str) -> List[str]:\n",
    "        features = []\n",
    "        "
   ]
  },
  {
   "cell_type": "markdown",
   "id": "3e7db7b7",
   "metadata": {},
   "source": [
    "        # Prioritize news/media features if \"dainikbhaskar\" or similar is found"
   ]
  },
  {
   "cell_type": "code",
   "execution_count": null,
   "id": "ef3e4b90",
   "metadata": {},
   "outputs": [],
   "source": [
    "        if any(word in app_name for word in ['bhaskar', 'dainik', 'news', 'daily']) or \\\n",
    "           any(word in package_name for word in ['bhaskar', 'news', 'media']):\n",
    "            features.extend([\n",
    "                \"Daily News Updates\",\n",
    "                \"Article Browse & Reading\",\n",
    "                \"Regional News Editions\",\n",
    "                \"Live News Feeds\",\n",
    "                \"Content Sharing Options\"\n",
    "            ])\n",
    "        "
   ]
  },
  {
   "cell_type": "markdown",
   "id": "7b33f6fc",
   "metadata": {},
   "source": [
    "        # General app features if specific domain not strongly identified"
   ]
  },
  {
   "cell_type": "markdown",
   "id": "2516b385",
   "metadata": {},
   "source": [
    "Extract a readable app name from package name."
   ]
  },
  {
   "cell_type": "code",
   "execution_count": null,
   "id": "a0d35cd1",
   "metadata": {},
   "outputs": [],
   "source": [
    "        if not features: # Only add these if no specific domain features were added\n",
    "            features.extend([\n",
    "                \"App-specific features\",\n",
    "                \"Custom functionality\",\n",
    "                \"Brand-specific elements\",\n",
    "                \"Specialized services\"\n",
    "            ])\n",
    "        \n",
    "        return features\n",
    "    \n",
    "    def _extract_app_name_from_package(self, package_name: str) -> str:\n",
    "        if not package_name:\n",
    "            return \"Unknown App\"\n",
    "        "
   ]
  },
  {
   "cell_type": "markdown",
   "id": "c4654589",
   "metadata": {},
   "source": [
    "        # Common package name patterns"
   ]
  },
  {
   "cell_type": "code",
   "execution_count": null,
   "id": "276ff445",
   "metadata": {},
   "outputs": [],
   "source": [
    "        package_mapping = {\n",
    "            'com.dominos': 'Domino\\'s Pizza',\n",
    "            'com.pizzahut': 'Pizza Hut',\n",
    "            'com.dainikbhaskar': 'Dainik Bhaskar',\n",
    "            'com.spotify': 'Spotify',\n",
    "            'com.netflix': 'Netflix',\n",
    "            'com.uber': 'Uber',\n",
    "            'com.lyft': 'Lyft',\n",
    "            'com.amazon': 'Amazon',\n",
    "            'com.flipkart': 'Flipkart',\n",
    "            'com.swiggy': 'Swiggy',\n",
    "            'com.zomato': 'Zomato',\n",
    "            'com.olivegarden': 'Olive Garden',\n",
    "            'com.expedia': 'Expedia',\n",
    "            'com.booking': 'Booking.com',\n",
    "            'com.airbnb': 'Airbnb'\n",
    "        }\n",
    "        "
   ]
  },
  {
   "cell_type": "markdown",
   "id": "a33f9f98",
   "metadata": {},
   "source": [
    "        # Check for exact matches first"
   ]
  },
  {
   "cell_type": "code",
   "execution_count": null,
   "id": "755320cf",
   "metadata": {},
   "outputs": [],
   "source": [
    "        for package_pattern, app_name in package_mapping.items():\n",
    "            if package_pattern in package_name.lower():\n",
    "                return app_name\n",
    "        "
   ]
  },
  {
   "cell_type": "markdown",
   "id": "fb49c529",
   "metadata": {},
   "source": [
    "        # Extract from package name structure (com.company.app)"
   ]
  },
  {
   "cell_type": "code",
   "execution_count": null,
   "id": "64beafb3",
   "metadata": {},
   "outputs": [],
   "source": [
    "        parts = package_name.split('.')\n",
    "        if len(parts) >= 3:"
   ]
  },
  {
   "cell_type": "markdown",
   "id": "fd7071ed",
   "metadata": {},
   "source": [
    "            # Try to get the last meaningful part"
   ]
  },
  {
   "cell_type": "code",
   "execution_count": null,
   "id": "c6df4432",
   "metadata": {},
   "outputs": [],
   "source": [
    "            app_part = parts[-1]\n",
    "            if app_part not in ['activity', 'main', 'app', 'ui']:\n",
    "                return app_part.replace('_', ' ').title()\n",
    "            elif len(parts) >= 2:\n",
    "                company_part = parts[-2]\n",
    "                return company_part.replace('_', ' ').title()\n",
    "        "
   ]
  },
  {
   "cell_type": "markdown",
   "id": "97822f15",
   "metadata": {},
   "source": [
    "        # Fallback: clean up the package name"
   ]
  },
  {
   "cell_type": "markdown",
   "id": "bee7cf69",
   "metadata": {},
   "source": [
    "Clean text to be safe for AI processing and encoding."
   ]
  },
  {
   "cell_type": "code",
   "execution_count": null,
   "id": "82d73fde",
   "metadata": {},
   "outputs": [],
   "source": [
    "        clean_name = package_name.replace('com.', '').replace('_', ' ').title()\n",
    "        return clean_name\n",
    "    \n",
    "    def _clean_text_for_ai(self, text: str) -> str:\n",
    "        if not text:\n",
    "            return \"\"\n",
    "        \n",
    "        try:\n",
    "            import unicodedata\n",
    "            text = unicodedata.normalize('NFKD', text)\n",
    "            "
   ]
  },
  {
   "cell_type": "markdown",
   "id": "b7266a3f",
   "metadata": {},
   "source": [
    "            # Replace problematic characters"
   ]
  },
  {
   "cell_type": "code",
   "execution_count": null,
   "id": "c32def40",
   "metadata": {},
   "outputs": [],
   "source": [
    "            replacements = {\n",
    "                '“': '\"',  # Smart quotes to regular quotes\n",
    "                '”': '\"',\n",
    "                '‘': \"'\",  # Smart apostrophes to regular apostrophes\n",
    "                '’': \"'\",\n",
    "                '–': '-',  # En dash to hyphen\n",
    "                '—': '-',  # Em dash to hyphen\n",
    "                '…': '...',  # Ellipsis to three dots\n",
    "                '\\u201c': '\"',  # Unicode smart quotes\n",
    "                '\\u201d': '\"',\n",
    "                '\\u2018': \"'\",\n",
    "                '\\u2019': \"'\",\n",
    "                '\\u2013': '-',\n",
    "                '\\u2014': '-',\n",
    "                '\\u2026': '...'\n",
    "            }\n",
    "            \n",
    "            for old, new in replacements.items():\n",
    "                text = text.replace(old, new)\n",
    "            "
   ]
  },
  {
   "cell_type": "markdown",
   "id": "55a67b9c",
   "metadata": {},
   "source": [
    "            # Remove any remaining non-ASCII characters that can't be encoded"
   ]
  },
  {
   "cell_type": "code",
   "execution_count": null,
   "id": "d1989a5f",
   "metadata": {},
   "outputs": [],
   "source": [
    "            text = text.encode('ascii', 'ignore').decode('ascii')\n",
    "            "
   ]
  },
  {
   "cell_type": "markdown",
   "id": "0ec44d1f",
   "metadata": {},
   "source": [
    "            # Clean up extra whitespace"
   ]
  },
  {
   "cell_type": "markdown",
   "id": "2aef1f11",
   "metadata": {},
   "source": [
    "Generate the complete comprehensive PDF report.\n",
    "        \n",
    "        Returns\n",
    "        -------\n",
    "        str\n",
    "            Path to the generated PDF report"
   ]
  },
  {
   "cell_type": "code",
   "execution_count": null,
   "id": "02bf86fe",
   "metadata": {},
   "outputs": [],
   "source": [
    "            text = ' '.join(text.split())\n",
    "            \n",
    "            return text.strip()\n",
    "            \n",
    "        except Exception as e:\n",
    "            logger.warning(f\"Text cleaning failed: {e}\")\n",
    "            return text.encode('ascii', 'ignore').decode('ascii').strip()\n",
    "    \n",
    "    def generate_comprehensive_report(self) -> str:\n",
    "        if not REPORTLAB_AVAILABLE:\n",
    "            logger.error(\"ReportLab not available. Cannot generate PDF report.\")\n",
    "            return \"\"\n",
    "            \n",
    "        logger.info(\"Generating comprehensive final PDF report...\")\n",
    "        "
   ]
  },
  {
   "cell_type": "markdown",
   "id": "d991a21a",
   "metadata": {},
   "source": [
    "        # Create PDF document"
   ]
  },
  {
   "cell_type": "code",
   "execution_count": null,
   "id": "95246e56",
   "metadata": {},
   "outputs": [],
   "source": [
    "        report_path = self.output_dir / \"final_comprehensive_report.pdf\"\n",
    "        doc = SimpleDocTemplate(\n",
    "            str(report_path),\n",
    "            pagesize=A4,\n",
    "            rightMargin=72,\n",
    "            leftMargin=72,\n",
    "            topMargin=72,\n",
    "            bottomMargin=72\n",
    "        )\n",
    "        "
   ]
  },
  {
   "cell_type": "markdown",
   "id": "85c854e1",
   "metadata": {},
   "source": [
    "        # Define custom styles"
   ]
  },
  {
   "cell_type": "code",
   "execution_count": null,
   "id": "cccd49f3",
   "metadata": {},
   "outputs": [],
   "source": [
    "        styles = getSampleStyleSheet()\n",
    "        "
   ]
  },
  {
   "cell_type": "markdown",
   "id": "4a7ae0ee",
   "metadata": {},
   "source": [
    "        # Title style"
   ]
  },
  {
   "cell_type": "code",
   "execution_count": null,
   "id": "d12cbb52",
   "metadata": {},
   "outputs": [],
   "source": [
    "        title_style = ParagraphStyle(\n",
    "            'CustomTitle',\n",
    "            parent=styles['Heading1'],\n",
    "            fontSize=28,\n",
    "            spaceAfter=30,\n",
    "            alignment=TA_CENTER,\n",
    "            textColor=colors.HexColor('#0A2F5B'), # Dark Blue\n",
    "            leading=30\n",
    "        )\n",
    "        "
   ]
  },
  {
   "cell_type": "markdown",
   "id": "77fee4b1",
   "metadata": {},
   "source": [
    "        # Main heading style for sections (e.g., Executive Summary)"
   ]
  },
  {
   "cell_type": "code",
   "execution_count": null,
   "id": "31064945",
   "metadata": {},
   "outputs": [],
   "source": [
    "        heading1_style = ParagraphStyle(\n",
    "            'CustomHeading1',\n",
    "            parent=styles['Heading1'],\n",
    "            fontSize=18,\n",
    "            spaceAfter=12,\n",
    "            spaceBefore=20,\n",
    "            textColor=colors.HexColor('#0A2F5B'), # Dark Blue\n",
    "            alignment=TA_LEFT,\n",
    "            fontName='Helvetica-Bold'\n",
    "        )\n",
    "        "
   ]
  },
  {
   "cell_type": "markdown",
   "id": "35f7dd15",
   "metadata": {},
   "source": [
    "        # Sub-heading style (e.g., Test Statistics)"
   ]
  },
  {
   "cell_type": "code",
   "execution_count": null,
   "id": "ec8c3f22",
   "metadata": {},
   "outputs": [],
   "source": [
    "        heading2_style = ParagraphStyle(\n",
    "            'CustomHeading2',\n",
    "            parent=styles['Heading2'],\n",
    "            fontSize=14,\n",
    "            spaceAfter=8,\n",
    "            spaceBefore=16,\n",
    "            textColor=colors.HexColor('#2E5B8E'), # Medium Blue\n",
    "            alignment=TA_LEFT,\n",
    "            fontName='Helvetica-Bold'\n",
    "        )\n"
   ]
  },
  {
   "cell_type": "markdown",
   "id": "7b676e67",
   "metadata": {},
   "source": [
    "        # Smaller heading style (e.g., Event #1)"
   ]
  },
  {
   "cell_type": "code",
   "execution_count": null,
   "id": "ee05165f",
   "metadata": {},
   "outputs": [],
   "source": [
    "        heading3_style = ParagraphStyle(\n",
    "            'CustomHeading3',\n",
    "            parent=styles['Heading3'],\n",
    "            fontSize=12,\n",
    "            spaceAfter=6,\n",
    "            spaceBefore=10,\n",
    "            textColor=colors.HexColor('#4A7BA8'), # Lighter Blue\n",
    "            alignment=TA_LEFT,\n",
    "            fontName='Helvetica-Bold'\n",
    "        )\n",
    "        "
   ]
  },
  {
   "cell_type": "markdown",
   "id": "970e632b",
   "metadata": {},
   "source": [
    "        # Normal text style"
   ]
  },
  {
   "cell_type": "code",
   "execution_count": null,
   "id": "5264bb3e",
   "metadata": {},
   "outputs": [],
   "source": [
    "        normal_style = ParagraphStyle(\n",
    "            'CustomNormal',\n",
    "            parent=styles['Normal'],\n",
    "            fontSize=10,\n",
    "            spaceAfter=6,\n",
    "            alignment=TA_JUSTIFY,\n",
    "            leading=12\n",
    "        )\n"
   ]
  },
  {
   "cell_type": "markdown",
   "id": "a8995a16",
   "metadata": {},
   "source": [
    "        # Bold normal text for emphasis"
   ]
  },
  {
   "cell_type": "code",
   "execution_count": null,
   "id": "2925b3c6",
   "metadata": {},
   "outputs": [],
   "source": [
    "        bold_normal_style = ParagraphStyle(\n",
    "            'BoldNormal',\n",
    "            parent=normal_style,\n",
    "            fontName='Helvetica-Bold'\n",
    "        )\n"
   ]
  },
  {
   "cell_type": "markdown",
   "id": "0de4b645",
   "metadata": {},
   "source": [
    "        # List item style"
   ]
  },
  {
   "cell_type": "code",
   "execution_count": null,
   "id": "bfa722b1",
   "metadata": {},
   "outputs": [],
   "source": [
    "        list_style = ParagraphStyle(\n",
    "            'ListItem',\n",
    "            parent=normal_style,\n",
    "            leftIndent=20,\n",
    "            firstLineIndent=-10,\n",
    "            bulletIndent=10,\n",
    "            bulletFontName='Helvetica-Bold',\n",
    "            bulletFontSize=10,\n",
    "            bulletColor=colors.HexColor('#4A7BA8'),\n",
    "            alignment=TA_LEFT\n",
    "        )\n",
    "        "
   ]
  },
  {
   "cell_type": "markdown",
   "id": "539967ea",
   "metadata": {},
   "source": [
    "        # Build the story (content)"
   ]
  },
  {
   "cell_type": "code",
   "execution_count": null,
   "id": "f4b55c90",
   "metadata": {},
   "outputs": [],
   "source": [
    "        story = []\n",
    "        "
   ]
  },
  {
   "cell_type": "markdown",
   "id": "a58db1dc",
   "metadata": {},
   "source": [
    "        # Title page"
   ]
  },
  {
   "cell_type": "code",
   "execution_count": null,
   "id": "0a99314a",
   "metadata": {},
   "outputs": [],
   "source": [
    "        story.append(Spacer(1, 2 * inch)) # Adjust spacing for centering\n",
    "        story.append(Paragraph(f\"{self.app_name} Test Report\", title_style))\n",
    "        story.append(Spacer(1, 0.5 * inch))\n",
    "        story.append(Paragraph(f\"<b>App:</b> {self.app_name}\", bold_normal_style))\n",
    "        story.append(Paragraph(f\"<b>Package:</b> {self.package_name}\", bold_normal_style))\n",
    "        story.append(Paragraph(f\"<b>Generated:</b> {datetime.now().strftime('%Y-%m-%d %H:%M:%S')}\", bold_normal_style))\n",
    "        story.append(Paragraph(f\"<b>Test Duration:</b> {self.get_test_duration()}\", bold_normal_style))\n",
    "        story.append(PageBreak())\n"
   ]
  },
  {
   "cell_type": "markdown",
   "id": "874d92d8",
   "metadata": {},
   "source": [
    "        # Executive Summary"
   ]
  },
  {
   "cell_type": "code",
   "execution_count": null,
   "id": "cb0f8d9b",
   "metadata": {},
   "outputs": [],
   "source": [
    "        story.extend(self._generate_executive_summary(heading1_style, normal_style))\n",
    "        story.append(PageBreak()) # Start new page after executive summary\n"
   ]
  },
  {
   "cell_type": "markdown",
   "id": "e2b59690",
   "metadata": {},
   "source": [
    "        # Test Statistics"
   ]
  },
  {
   "cell_type": "code",
   "execution_count": null,
   "id": "449e253b",
   "metadata": {},
   "outputs": [],
   "source": [
    "        story.extend(self._generate_test_statistics(heading1_style, normal_style, bold_normal_style))\n",
    "        story.append(PageBreak()) # Start new page\n"
   ]
  },
  {
   "cell_type": "markdown",
   "id": "5a4db42c",
   "metadata": {},
   "source": [
    "        # Feature Analysis"
   ]
  },
  {
   "cell_type": "code",
   "execution_count": null,
   "id": "3b2f693e",
   "metadata": {},
   "outputs": [],
   "source": [
    "        story.extend(self._generate_feature_analysis_pdf(heading1_style, heading2_style, list_style))\n",
    "        story.append(PageBreak()) # Start new page\n"
   ]
  },
  {
   "cell_type": "markdown",
   "id": "49bed1d7",
   "metadata": {},
   "source": [
    "        # LLM Event Log"
   ]
  },
  {
   "cell_type": "code",
   "execution_count": null,
   "id": "c7474cee",
   "metadata": {},
   "outputs": [],
   "source": [
    "        story.extend(self._generate_llm_event_log_pdf(heading1_style, heading3_style, normal_style))"
   ]
  },
  {
   "cell_type": "markdown",
   "id": "08b80c39",
   "metadata": {},
   "source": [
    "        # No PageBreak here, as events might span multiple pages"
   ]
  },
  {
   "cell_type": "code",
   "execution_count": null,
   "id": "915ddc61",
   "metadata": {},
   "outputs": [],
   "source": []
  },
  {
   "cell_type": "markdown",
   "id": "eafc8180",
   "metadata": {},
   "source": [
    "        # OCR Screenshots Section"
   ]
  },
  {
   "cell_type": "code",
   "execution_count": null,
   "id": "91bb5e82",
   "metadata": {},
   "outputs": [],
   "source": [
    "        story.append(PageBreak()) # Start new page\n",
    "        story.extend(self._generate_ocr_screenshots_pdf(heading1_style, heading3_style, normal_style))\n"
   ]
  },
  {
   "cell_type": "markdown",
   "id": "cbfa1461",
   "metadata": {},
   "source": [
    "        # Analysis & Recommendations"
   ]
  },
  {
   "cell_type": "code",
   "execution_count": null,
   "id": "8f703835",
   "metadata": {},
   "outputs": [],
   "source": [
    "        story.append(PageBreak()) # Start new page\n",
    "        story.extend(self._generate_analysis_recommendations_pdf(heading1_style, heading2_style, normal_style, bold_normal_style))\n",
    "        "
   ]
  },
  {
   "cell_type": "markdown",
   "id": "57dfda82",
   "metadata": {},
   "source": [
    "        # Helper to add header & footer on each page"
   ]
  },
  {
   "cell_type": "code",
   "execution_count": null,
   "id": "a2e5ba1b",
   "metadata": {},
   "outputs": [],
   "source": [
    "        def _add_header_footer(canvas_obj, doc_obj):\n",
    "            canvas_obj.saveState()"
   ]
  },
  {
   "cell_type": "markdown",
   "id": "2a999149",
   "metadata": {},
   "source": [
    "            # Header"
   ]
  },
  {
   "cell_type": "code",
   "execution_count": null,
   "id": "3b33a942",
   "metadata": {},
   "outputs": [],
   "source": [
    "            canvas_obj.setFont(\"Helvetica-Bold\", 10)\n",
    "            canvas_obj.setFillColor(colors.HexColor('#0A2F5B'))\n",
    "            canvas_obj.drawString(doc_obj.leftMargin, A4[1] - 40, f\"{self.app_name} – Automated Test Report\")"
   ]
  },
  {
   "cell_type": "markdown",
   "id": "caabce7b",
   "metadata": {},
   "source": [
    "            # Footer"
   ]
  },
  {
   "cell_type": "code",
   "execution_count": null,
   "id": "9867015b",
   "metadata": {},
   "outputs": [],
   "source": [
    "            canvas_obj.setFont(\"Helvetica\", 9)\n",
    "            canvas_obj.setFillColor(colors.grey)\n",
    "            page_num_text = f\"Page {doc_obj.page}\"\n",
    "            canvas_obj.drawRightString(A4[0] - doc_obj.rightMargin, 30, page_num_text)\n",
    "            canvas_obj.restoreState()\n"
   ]
  },
  {
   "cell_type": "markdown",
   "id": "d88c08e6",
   "metadata": {},
   "source": [
    "        # Build the PDF with header/footer callbacks"
   ]
  },
  {
   "cell_type": "markdown",
   "id": "bc20d9b8",
   "metadata": {},
   "source": [
    "Generate executive summary section for PDF."
   ]
  },
  {
   "cell_type": "code",
   "execution_count": null,
   "id": "e45ce5c5",
   "metadata": {},
   "outputs": [],
   "source": [
    "        doc.build(story, onFirstPage=_add_header_footer, onLaterPages=_add_header_footer)\n",
    "        \n",
    "        logger.info(f\"✓ Final comprehensive PDF report generated: {report_path}\")\n",
    "        return str(report_path)\n",
    "    \n",
    "    def _generate_executive_summary(self, heading1_style, normal_style):\n",
    "        story = []\n",
    "        \n",
    "        story.append(Paragraph(\"Executive Summary\", heading1_style))\n",
    "        story.append(Spacer(1, 12))\n",
    "        "
   ]
  },
  {
   "cell_type": "markdown",
   "id": "5fe2756e",
   "metadata": {},
   "source": [
    "        # Calculate key metrics"
   ]
  },
  {
   "cell_type": "markdown",
   "id": "e660b2dd",
   "metadata": {},
   "source": [
    "\n",
    "        This report presents the results of automated testing for <b>{self.app_name}</b> ({self.package_name}). \n",
    "        The AA_VA system successfully explored <b>{total_states}</b> unique app states through <b>{total_actions}</b> \n",
    "        automated actions across <b>{total_activities}</b> activities, interacting with <b>{unique_elements}</b> \n",
    "        distinct UI elements over a period of <b>{test_duration}</b>.\n",
    "        \n",
    "        The testing session utilized advanced computer vision and AI-driven decision making to \n",
    "        systematically explore the application's interface, identifying both app-specific features \n",
    "        and common UI patterns. The system demonstrated effective navigation through complex \n",
    "        user interfaces while maintaining detailed logs of all interactions and state transitions."
   ]
  },
  {
   "cell_type": "markdown",
   "id": "2e772ad1",
   "metadata": {},
   "source": [
    "Generate test statistics section for PDF."
   ]
  },
  {
   "cell_type": "code",
   "execution_count": null,
   "id": "2fadd65f",
   "metadata": {},
   "outputs": [],
   "source": [
    "        total_states = len(self.app_states)\n",
    "        total_actions = self.total_actions\n",
    "        total_activities = len(self.activities)\n",
    "        unique_elements = len(self.unique_elements_interacted)\n",
    "        test_duration = self.get_test_duration()\n",
    "        \n",
    "        \n",
    "        story.append(Paragraph(summary_text, normal_style))\n",
    "        story.append(Spacer(1, 18)) # More space after summary\n",
    "        \n",
    "        return story\n",
    "    \n",
    "    def _generate_test_statistics(self, heading1_style, normal_style, bold_normal_style):\n",
    "        story = []\n",
    "        \n",
    "        story.append(Paragraph(\"Test Statistics\", heading1_style))\n",
    "        story.append(Spacer(1, 12))\n",
    "        "
   ]
  },
  {
   "cell_type": "markdown",
   "id": "10dd4153",
   "metadata": {},
   "source": [
    "        # Create statistics table"
   ]
  },
  {
   "cell_type": "markdown",
   "id": "7a646ef3",
   "metadata": {},
   "source": [
    "Generate LLM event log section for PDF with improved formatting."
   ]
  },
  {
   "cell_type": "code",
   "execution_count": null,
   "id": "6ba4b42a",
   "metadata": {},
   "outputs": [],
   "source": [
    "        stats_data = [\n",
    "            [Paragraph(\"<b>Metric</b>\", bold_normal_style), Paragraph(\"<b>Value</b>\", bold_normal_style)], # Bold headers\n",
    "            [\"Total States Explored\", str(len(self.app_states))],\n",
    "            [\"Total Actions Performed\", str(self.total_actions)],\n",
    "            [\"Total Activities Discovered\", str(len(self.activities))],\n",
    "            [\"Unique Elements Interacted\", str(len(self.unique_elements_interacted))],\n",
    "            [\"Total LLM Events\", str(len(self.llm_events))],\n",
    "            [\"Test Duration\", self.get_test_duration()]\n",
    "        ]\n",
    "        \n",
    "        stats_table = Table(stats_data, colWidths=[3*inch, 2*inch])\n",
    "        stats_table.setStyle(TableStyle([\n",
    "            ('BACKGROUND', (0, 0), (-1, 0), colors.HexColor('#0A2F5B')), # Dark blue header\n",
    "            ('TEXTCOLOR', (0, 0), (-1, 0), colors.whitesmoke), # White text for header\n",
    "            ('ALIGN', (0, 0), (-1, -1), 'LEFT'),\n",
    "            ('FONTNAME', (0, 0), (-1, 0), 'Helvetica-Bold'),\n",
    "            ('FONTSIZE', (0, 0), (-1, 0), 11),\n",
    "            ('BOTTOMPADDING', (0, 0), (-1, 0), 8), # Reduced padding\n",
    "            ('BACKGROUND', (0, 1), (-1, -1), colors.HexColor('#F0F8FF')), # Light blue background for rows\n",
    "            ('GRID', (0, 0), (-1, -1), 0.5, colors.HexColor('#CCCCCC')), # Lighter grid lines\n",
    "            ('FONTNAME', (0, 1), (-1, -1), 'Helvetica'),\n",
    "            ('FONTSIZE', (0, 1), (-1, -1), 10),\n",
    "            ('VALIGN', (0, 0), (-1, -1), 'MIDDLE'),\n",
    "            ('LEFTPADDING', (0,0), (-1,-1), 8),\n",
    "            ('RIGHTPADDING', (0,0), (-1,-1), 8),\n",
    "            ('ROWBACKGROUNDS', (0,1), (-1,-1), [colors.HexColor('#FFFFFF'), colors.HexColor('#F0F8FF')]) # Alternating row colors\n",
    "        ]))\n",
    "        \n",
    "        story.append(stats_table)\n",
    "        story.append(Spacer(1, 18))\n",
    "        \n",
    "        return story\n",
    "    \n",
    "    def _generate_llm_event_log_pdf(self, heading1_style, heading3_style, normal_style):\n",
    "        story = []\n",
    "        "
   ]
  },
  {
   "cell_type": "markdown",
   "id": "03404dca",
   "metadata": {},
   "source": [
    "        # Keep section header with initial content"
   ]
  },
  {
   "cell_type": "code",
   "execution_count": null,
   "id": "56bcc1c0",
   "metadata": {},
   "outputs": [],
   "source": [
    "        section_header = [\n",
    "            Paragraph(\"🤖 LLM Event Log\", heading1_style),\n",
    "            Spacer(1, 12)\n",
    "        ]\n",
    "        \n",
    "        if not self.llm_events:\n",
    "            section_header.append(Paragraph(\"No LLM events recorded during testing.\", normal_style))\n",
    "            story.extend(section_header)\n",
    "            return story\n",
    "        "
   ]
  },
  {
   "cell_type": "markdown",
   "id": "d0aab818",
   "metadata": {},
   "source": [
    "        # Add summary statistics"
   ]
  },
  {
   "cell_type": "code",
   "execution_count": null,
   "id": "cfec6eee",
   "metadata": {},
   "outputs": [],
   "source": [
    "        total_events = len(self.llm_events)\n",
    "        unique_actions = len(set(event.action for event in self.llm_events))\n",
    "        unique_elements = len(set(event.element_id for event in self.llm_events))\n",
    "        \n",
    "        summary_text = f\"<b>Summary:</b> {total_events} total events, {unique_actions} unique actions, {unique_elements} unique elements\"\n",
    "        section_header.append(Paragraph(summary_text, normal_style))\n",
    "        section_header.append(Spacer(1, 12))\n",
    "        "
   ]
  },
  {
   "cell_type": "markdown",
   "id": "d3e97d08",
   "metadata": {},
   "source": [
    "        # Keep section header together and add to story"
   ]
  },
  {
   "cell_type": "code",
   "execution_count": null,
   "id": "bd722fa0",
   "metadata": {},
   "outputs": [],
   "source": [
    "        story.extend(section_header)\n",
    "        "
   ]
  },
  {
   "cell_type": "markdown",
   "id": "4a3eed56",
   "metadata": {},
   "source": [
    "        # Add summary statistics"
   ]
  },
  {
   "cell_type": "code",
   "execution_count": null,
   "id": "46049f29",
   "metadata": {},
   "outputs": [],
   "source": [
    "        total_events = len(self.llm_events)\n",
    "        unique_actions = len(set(event.action for event in self.llm_events))\n",
    "        unique_elements = len(set(event.element_id for event in self.llm_events))\n",
    "        \n",
    "        summary_text = f\"<b>Summary:</b> {total_events} total events, {unique_actions} unique actions, {unique_elements} unique elements\"\n",
    "        story.append(Paragraph(summary_text, normal_style))\n",
    "        story.append(Spacer(1, 12))\n",
    "        "
   ]
  },
  {
   "cell_type": "markdown",
   "id": "315984ae",
   "metadata": {},
   "source": [
    "        # Process events in batches to avoid overwhelming the PDF"
   ]
  },
  {
   "cell_type": "code",
   "execution_count": null,
   "id": "1dece2b9",
   "metadata": {},
   "outputs": [],
   "source": [
    "        for i, event in enumerate(self.llm_events, 1):"
   ]
  },
  {
   "cell_type": "markdown",
   "id": "4ef4b7b8",
   "metadata": {},
   "source": [
    "            # Create event content that should stay together"
   ]
  },
  {
   "cell_type": "code",
   "execution_count": null,
   "id": "b44d216d",
   "metadata": {},
   "outputs": [],
   "source": [
    "            event_content = []\n",
    "            "
   ]
  },
  {
   "cell_type": "markdown",
   "id": "c7ed9ba6",
   "metadata": {},
   "source": [
    "            # Create a more visually appealing event header"
   ]
  },
  {
   "cell_type": "code",
   "execution_count": null,
   "id": "181f0e25",
   "metadata": {},
   "outputs": [],
   "source": [
    "            event_header = f\"📱 Event #{i:02d} • {self._format_timestamp(event.timestamp)}\"\n",
    "            event_content.append(Paragraph(event_header, heading3_style))\n",
    "            event_content.append(Spacer(1, 6))\n",
    "            "
   ]
  },
  {
   "cell_type": "markdown",
   "id": "8b615c4e",
   "metadata": {},
   "source": [
    "            # Create event details with improved layout"
   ]
  },
  {
   "cell_type": "code",
   "execution_count": null,
   "id": "6b556502",
   "metadata": {},
   "outputs": [],
   "source": [
    "            reasoning = self._create_descriptive_reasoning(event)\n",
    "            if reasoning is None:\n",
    "                reasoning = \"No reasoning available\"\n",
    "            elif len(reasoning) > 150: # Increased limit for better readability\n",
    "                reasoning = reasoning[:147] + \"...\"\n",
    "                "
   ]
  },
  {
   "cell_type": "markdown",
   "id": "09a45fd9",
   "metadata": {},
   "source": [
    "            # Enhanced event details with better categorization and action-specific icons"
   ]
  },
  {
   "cell_type": "code",
   "execution_count": null,
   "id": "8ac57b65",
   "metadata": {},
   "outputs": [],
   "source": [
    "            action_icon = self._get_action_icon(event.action)\n",
    "            event_details = [\n",
    "                [\"🕒 Timestamp\", self._format_timestamp(event.timestamp)],\n",
    "                [f\"{action_icon} Action\", f\"<b>{event.action.upper()}</b>\"],\n",
    "                [\"🎯 Element\", f\"<b>{self._simplify_element_name(event.element_id)}</b>\"],\n",
    "                [\"🔄 State Flow\", f\"<b>{event.state_id}</b> → <b>{event.resulting_state_id}</b>\"],\n",
    "                [\"💭 Reasoning\", reasoning]\n",
    "            ]\n",
    "            "
   ]
  },
  {
   "cell_type": "markdown",
   "id": "81c24338",
   "metadata": {},
   "source": [
    "            # Add input text if available"
   ]
  },
  {
   "cell_type": "code",
   "execution_count": null,
   "id": "0da6d2a7",
   "metadata": {},
   "outputs": [],
   "source": [
    "            if event.input_text and event.input_text.strip():\n",
    "                event_details.append([\"📝 Input\", f\"<b>{event.input_text}</b>\"])\n",
    "            "
   ]
  },
  {
   "cell_type": "markdown",
   "id": "9940c73e",
   "metadata": {},
   "source": [
    "            # Add scroll direction if available"
   ]
  },
  {
   "cell_type": "code",
   "execution_count": null,
   "id": "d93f1e27",
   "metadata": {},
   "outputs": [],
   "source": [
    "            if event.scroll_direction and event.scroll_direction.strip():\n",
    "                event_details.append([\"📜 Scroll\", f\"<b>{event.scroll_direction}</b>\"])\n",
    "            "
   ]
  },
  {
   "cell_type": "markdown",
   "id": "fd4b0c33",
   "metadata": {},
   "source": [
    "            # Create table with improved styling"
   ]
  },
  {
   "cell_type": "code",
   "execution_count": null,
   "id": "519877f5",
   "metadata": {},
   "outputs": [],
   "source": [
    "            event_table = Table(event_details, colWidths=[1.8*inch, 4.2*inch])\n",
    "            event_table.setStyle(TableStyle(["
   ]
  },
  {
   "cell_type": "markdown",
   "id": "ccc26d94",
   "metadata": {},
   "source": [
    "                # Header styling"
   ]
  },
  {
   "cell_type": "code",
   "execution_count": null,
   "id": "3c7ca531",
   "metadata": {},
   "outputs": [],
   "source": [
    "                ('BACKGROUND', (0, 0), (0, -1), colors.HexColor('#F8F9FA')),\n",
    "                ('BACKGROUND', (0, 0), (-1, 0), colors.HexColor('#E9ECEF')),\n",
    "                "
   ]
  },
  {
   "cell_type": "markdown",
   "id": "6b2cebbf",
   "metadata": {},
   "source": [
    "                # Text styling"
   ]
  },
  {
   "cell_type": "code",
   "execution_count": null,
   "id": "397e293c",
   "metadata": {},
   "outputs": [],
   "source": [
    "                ('ALIGN', (0, 0), (-1, -1), 'LEFT'),\n",
    "                ('FONTNAME', (0, 0), (0, -1), 'Helvetica-Bold'),\n",
    "                ('FONTNAME', (1, 0), (1, -1), 'Helvetica'),\n",
    "                ('FONTSIZE', (0, 0), (-1, -1), 10),\n",
    "                "
   ]
  },
  {
   "cell_type": "markdown",
   "id": "26603b35",
   "metadata": {},
   "source": [
    "                # Grid styling"
   ]
  },
  {
   "cell_type": "code",
   "execution_count": null,
   "id": "de290362",
   "metadata": {},
   "outputs": [],
   "source": [
    "                ('GRID', (0, 0), (-1, -1), 0.5, colors.HexColor('#DEE2E6')),\n",
    "                ('ROWBACKGROUNDS', (0, 0), (-1, -1), [colors.HexColor('#FFFFFF'), colors.HexColor('#F8F9FA')]),\n",
    "                "
   ]
  },
  {
   "cell_type": "markdown",
   "id": "59dcd33b",
   "metadata": {},
   "source": [
    "                # Spacing"
   ]
  },
  {
   "cell_type": "code",
   "execution_count": null,
   "id": "bd004696",
   "metadata": {},
   "outputs": [],
   "source": [
    "                ('VALIGN', (0, 0), (-1, -1), 'TOP'),\n",
    "                ('LEFTPADDING', (0, 0), (-1, -1), 8),\n",
    "                ('RIGHTPADDING', (0, 0), (-1, -1), 8),\n",
    "                ('BOTTOMPADDING', (0, 0), (-1, -1), 6),\n",
    "                ('TOPPADDING', (0, 0), (-1, -1), 6),\n",
    "                "
   ]
  },
  {
   "cell_type": "markdown",
   "id": "e7ae244b",
   "metadata": {},
   "source": [
    "                # Border styling"
   ]
  },
  {
   "cell_type": "code",
   "execution_count": null,
   "id": "3e0c7b91",
   "metadata": {},
   "outputs": [],
   "source": [
    "                ('BOX', (0, 0), (-1, -1), 1, colors.HexColor('#6C757D')),\n",
    "                ('LINEBELOW', (0, 0), (-1, 0), 1, colors.HexColor('#495057')),\n",
    "            ]))\n",
    "            \n",
    "            event_content.append(event_table)\n",
    "            event_content.append(Spacer(1, 16)) # Increased spacing between events\n",
    "            "
   ]
  },
  {
   "cell_type": "markdown",
   "id": "17a7f1ea",
   "metadata": {},
   "source": [
    "            # Add screenshot if available (only for first few events for brevity)"
   ]
  },
  {
   "cell_type": "code",
   "execution_count": null,
   "id": "0324cde5",
   "metadata": {},
   "outputs": [],
   "source": [
    "            if i <= 2 and event.screenshot_path and os.path.exists(event.screenshot_path):\n",
    "                try:"
   ]
  },
  {
   "cell_type": "markdown",
   "id": "32f2130c",
   "metadata": {},
   "source": [
    "                    # Add screenshot with caption"
   ]
  },
  {
   "cell_type": "code",
   "execution_count": null,
   "id": "10fe173b",
   "metadata": {},
   "outputs": [],
   "source": [
    "                    event_content.append(Paragraph(\"<b>📸 Screenshot:</b>\", normal_style))\n",
    "                    event_content.append(Spacer(1, 3))\n",
    "                    "
   ]
  },
  {
   "cell_type": "markdown",
   "id": "e3d462f2",
   "metadata": {},
   "source": [
    "                    # Using ImageReader with better sizing"
   ]
  },
  {
   "cell_type": "code",
   "execution_count": null,
   "id": "aa1d1702",
   "metadata": {},
   "outputs": [],
   "source": [
    "                    img = Image(event.screenshot_path, width=3.5*inch, height=2.6*inch, kind='bound')\n",
    "                    event_content.append(img)\n",
    "                    event_content.append(Spacer(1, 8))\n",
    "                except Exception as e:\n",
    "                    logger.warning(f\"Could not add screenshot {event.screenshot_path}: {e}\")\n",
    "            "
   ]
  },
  {
   "cell_type": "markdown",
   "id": "23c2bf0e",
   "metadata": {},
   "source": [
    "            # Add visual separator between events (except for the last one)"
   ]
  },
  {
   "cell_type": "code",
   "execution_count": null,
   "id": "8b07cc74",
   "metadata": {},
   "outputs": [],
   "source": [
    "            if i < len(self.llm_events):\n",
    "                from reportlab.platypus import HRFlowable\n",
    "                event_content.append(HRFlowable(width=\"100%\", color=colors.HexColor('#E9ECEF'), thickness=1))\n",
    "                event_content.append(Spacer(1, 8))\n",
    "            "
   ]
  },
  {
   "cell_type": "markdown",
   "id": "b69dcb44",
   "metadata": {},
   "source": [
    "            # Keep each event together and add to story"
   ]
  },
  {
   "cell_type": "code",
   "execution_count": null,
   "id": "1fefede2",
   "metadata": {},
   "outputs": [],
   "source": [
    "            story.append(KeepTogether(event_content))\n",
    "            "
   ]
  },
  {
   "cell_type": "markdown",
   "id": "ade4ee57",
   "metadata": {},
   "source": [
    "            # Add a PageBreak after every 6 events (reduced frequency)"
   ]
  },
  {
   "cell_type": "markdown",
   "id": "132a3437",
   "metadata": {},
   "source": [
    "Generate feature analysis section for PDF."
   ]
  },
  {
   "cell_type": "code",
   "execution_count": null,
   "id": "b8c923ed",
   "metadata": {},
   "outputs": [],
   "source": [
    "            if i % 6 == 0 and i < len(self.llm_events):\n",
    "                story.append(PageBreak())\n",
    "                story.append(KeepTogether([\n",
    "                    Paragraph(\"🤖 LLM Event Log (Continued)\", heading1_style),\n",
    "                    Spacer(1, 12)\n",
    "                ]))\n",
    "        \n",
    "        return story\n",
    "    \n",
    "    def _generate_feature_analysis_pdf(self, heading1_style, heading2_style, list_style):\n",
    "        story = []\n",
    "        \n",
    "        story.append(Paragraph(\"Feature Analysis\", heading1_style))\n",
    "        story.append(Spacer(1, 12))\n",
    "        \n",
    "        unique_features, generic_features = self.analyze_features()\n",
    "        "
   ]
  },
  {
   "cell_type": "markdown",
   "id": "23354827",
   "metadata": {},
   "source": [
    "        # Unique features"
   ]
  },
  {
   "cell_type": "code",
   "execution_count": null,
   "id": "564b39df",
   "metadata": {},
   "outputs": [],
   "source": [
    "        story.append(Paragraph(\"Unique Features (App-Specific)\", heading2_style))\n",
    "        story.append(Spacer(1, 6))\n",
    "        \n",
    "        for feature in unique_features:\n",
    "            story.append(Paragraph(f\"• {feature}\", list_style)) # Using list_style for bullet points\n",
    "        \n",
    "        story.append(Spacer(1, 12))\n",
    "        "
   ]
  },
  {
   "cell_type": "markdown",
   "id": "10d76454",
   "metadata": {},
   "source": [
    "        # Generic features"
   ]
  },
  {
   "cell_type": "markdown",
   "id": "67d0a25c",
   "metadata": {},
   "source": [
    "Generate a high-level analysis & recommendations section using all detected UI data."
   ]
  },
  {
   "cell_type": "code",
   "execution_count": null,
   "id": "d2691db5",
   "metadata": {},
   "outputs": [],
   "source": [
    "        story.append(Paragraph(\"Generic Features (Common Patterns)\", heading2_style))\n",
    "        story.append(Spacer(1, 6))\n",
    "        \n",
    "        for feature in generic_features:\n",
    "            story.append(Paragraph(f\"• {feature}\", list_style)) # Using list_style for bullet points\n",
    "        \n",
    "        return story\n",
    "\n",
    "    def _generate_analysis_recommendations_pdf(self, heading1_style, heading2_style, normal_style, bold_normal_style):\n",
    "        story = []\n",
    "        story.append(Paragraph(\"Analysis & Recommendations\", heading1_style))\n",
    "        story.append(Spacer(1, 12))\n"
   ]
  },
  {
   "cell_type": "markdown",
   "id": "a4fbfd42",
   "metadata": {},
   "source": [
    "        # Aggregate metrics"
   ]
  },
  {
   "cell_type": "code",
   "execution_count": null,
   "id": "cc8e5e06",
   "metadata": {},
   "outputs": [],
   "source": [
    "        total_elements = 0\n",
    "        type_counts: Dict[str, int] = {}\n",
    "        confidences = []\n",
    "        skip_button_detected = False\n",
    "\n",
    "        for state in self.app_states.values():\n",
    "            for el in state.elements:\n",
    "                total_elements += 1\n",
    "                el_type = el.get(\"element_type\", \"unknown\")\n",
    "                type_counts[el_type] = type_counts.get(el_type, 0) + 1\n",
    "                if \"skip\" in (el.get(\"text\") or \"\").lower():\n",
    "                    skip_button_detected = True\n",
    "                conf = el.get(\"confidence\")\n",
    "                if conf is not None:\n",
    "                    confidences.append(conf)\n",
    "\n",
    "        avg_confidence = sum(confidences) / len(confidences) if confidences else 0.0\n"
   ]
  },
  {
   "cell_type": "markdown",
   "id": "1a1baf1c",
   "metadata": {},
   "source": [
    "        # Top 3 most common element types"
   ]
  },
  {
   "cell_type": "code",
   "execution_count": null,
   "id": "58d62f5c",
   "metadata": {},
   "outputs": [],
   "source": [
    "        sorted_types = sorted(type_counts.items(), key=lambda x: x[1], reverse=True)\n",
    "        top_elements_summary = \", \".join([f\"'{t.replace('_', ' ').title()}' ({c})\" for t, c in sorted_types[:3]]) if sorted_types else \"N/A\"\n"
   ]
  },
  {
   "cell_type": "markdown",
   "id": "f244888c",
   "metadata": {},
   "source": [
    "        # 1. UI/UX analysis (app-focused wording)"
   ]
  },
  {
   "cell_type": "code",
   "execution_count": null,
   "id": "d57b18b4",
   "metadata": {},
   "outputs": [],
   "source": [
    "        story.append(Paragraph(\"1. UI/UX analysis and observations:\", heading2_style))\n",
    "        from reportlab.platypus import HRFlowable\n",
    "        story.append(HRFlowable(width=\"100%\", color=colors.HexColor('#0A2F5B')))\n",
    "        ui_ux_text = (\n",
    "            f\"Across the journey we captured roughly <b>{total_elements}</b> distinct on-screen components. \"\n",
    "            f\"Most frequently the interface presents {top_elements_summary}, signalling a design that leans on colourful \"\n",
    "            \"calls-to-action and text-driven content. While this richness gives users plenty to engage with, the sheer density \"\n",
    "            \"may compete for attention and slow decision-making, particularly on smaller screens.\"\n",
    "        )\n",
    "        story.append(Paragraph(ui_ux_text, normal_style))\n",
    "        story.append(Spacer(1, 6))\n"
   ]
  },
  {
   "cell_type": "markdown",
   "id": "7960b5fc",
   "metadata": {},
   "source": [
    "        # 2. Accessibility improvements"
   ]
  },
  {
   "cell_type": "code",
   "execution_count": null,
   "id": "c0a681bb",
   "metadata": {},
   "outputs": [],
   "source": [
    "        story.append(Paragraph(\"2. Potential accessibility improvements:\", heading2_style))\n",
    "        story.append(HRFlowable(width=\"100%\", color=colors.HexColor('#0A2F5B')))\n",
    "        accessibility_text = (\n",
    "            \"Vibrant buttons instantly draw the eye, but ensure contrast ratios meet WCAG 2.2 so that colour-blind visitors \"\n",
    "            \"can still distinguish primary actions. Typography should remain comfortably legible at typical viewing distances. \"\n",
    "            + (\"Adding a clear <b>“Skip”</b> or <b>“Next”</b> option would further empower users who prefer to fast-track onboarding or promotions.\" if not skip_button_detected else \"A handy <b>“Skip”</b> button already appears in certain flows, giving users quick control.\")\n",
    "        )\n",
    "        story.append(Paragraph(accessibility_text, normal_style))\n",
    "        story.append(Spacer(1, 6))\n"
   ]
  },
  {
   "cell_type": "markdown",
   "id": "fd256cfc",
   "metadata": {},
   "source": [
    "        # 3. Automation opportunities"
   ]
  },
  {
   "cell_type": "code",
   "execution_count": null,
   "id": "6e42d901",
   "metadata": {},
   "outputs": [],
   "source": [
    "        story.append(Paragraph(\"3. Automation opportunities:\", heading2_style))\n",
    "        story.append(HRFlowable(width=\"100%\", color=colors.HexColor('#0A2F5B')))\n",
    "        auto_text = (\n",
    "            \"Consistency across screens makes the experience predictable for both users and any automated quality checks. \"\n",
    "            \"Interactive buttons, edge-anchored drawers and recurring text inputs lend themselves to scripted walkthroughs \"\n",
    "            \"that safeguard core journeys release after release.\"\n",
    "        )\n",
    "        story.append(Paragraph(auto_text, normal_style))\n",
    "        story.append(Spacer(1, 6))\n"
   ]
  },
  {
   "cell_type": "markdown",
   "id": "e24840b5",
   "metadata": {},
   "source": [
    "        # 4. Testing recommendations"
   ]
  },
  {
   "cell_type": "code",
   "execution_count": null,
   "id": "f2a0e181",
   "metadata": {},
   "outputs": [],
   "source": [
    "        story.append(Paragraph(\"4. Testing recommendations:\", heading2_style))\n",
    "        story.append(HRFlowable(width=\"100%\", color=colors.HexColor('#0A2F5B')))\n",
    "        test_rec_text = (\n",
    "            \"Invite real users to timed tasks to learn whether they notice cognitive overload or friction navigating between key screens. \"\n",
    "            \"Supplement sessions with quick-hit accessibility scans (WCAG 2.2): colour contrast, touch-target sizing and dynamic-type support. \"\n",
    "            \"Finally, profile rendering and scrolling to confirm the interface stays fluid even when many elements populate the view hierarchy.\"\n",
    "        )\n",
    "        story.append(Paragraph(test_rec_text, normal_style))\n",
    "        story.append(Spacer(1, 6))\n"
   ]
  },
  {
   "cell_type": "markdown",
   "id": "0b1b4117",
   "metadata": {},
   "source": [
    "        # 5. Overall quality assessment"
   ]
  },
  {
   "cell_type": "markdown",
   "id": "b25e92f3",
   "metadata": {},
   "source": [
    "Generate OCR screenshots section for PDF."
   ]
  },
  {
   "cell_type": "code",
   "execution_count": null,
   "id": "94734d39",
   "metadata": {},
   "outputs": [],
   "source": [
    "        story.append(Paragraph(\"5. Overall app quality assessment:\", heading2_style))\n",
    "        story.append(HRFlowable(width=\"100%\", color=colors.HexColor('#0A2F5B')))\n",
    "        qual_text = (\n",
    "            \"Overall the app feels lively and feature-packed. Refining hierarchy, trimming redundant elements and strengthening \"\n",
    "            \"navigational cues will elevate first impressions and day-to-day usability for a broad audience.\" \n",
    "        )\n",
    "        story.append(Paragraph(qual_text, normal_style))\n",
    "        story.append(Spacer(1, 18))\n",
    "\n",
    "        return story\n",
    "\n",
    "    def _generate_ocr_screenshots_pdf(self, heading1_style, heading3_style, normal_style):\n",
    "        story = []\n",
    "        "
   ]
  },
  {
   "cell_type": "markdown",
   "id": "9fb5811a",
   "metadata": {},
   "source": [
    "        # Keep section header with initial content"
   ]
  },
  {
   "cell_type": "code",
   "execution_count": null,
   "id": "ddfcc9ef",
   "metadata": {},
   "outputs": [],
   "source": [
    "        section_header = [\n",
    "            Paragraph(\"🔍 OCR Screenshots\", heading1_style),\n",
    "            Spacer(1, 12)\n",
    "        ]\n",
    "        "
   ]
  },
  {
   "cell_type": "markdown",
   "id": "926db4d6",
   "metadata": {},
   "source": [
    "        # Check if OCR images directory exists"
   ]
  },
  {
   "cell_type": "code",
   "execution_count": null,
   "id": "dd5b82b3",
   "metadata": {},
   "outputs": [],
   "source": [
    "        ocr_images_dir = self.output_dir / \"ocr_images\"\n",
    "        if not ocr_images_dir.exists():\n",
    "            section_header.append(Paragraph(\"No OCR screenshots available for this test session.\", normal_style))\n",
    "            section_header.append(Spacer(1, 12))\n",
    "            section_header.append(Paragraph(\"OCR screenshots show text detection with bounding boxes around detected UI elements.\", normal_style))\n",
    "            story.extend(section_header)\n",
    "            return story\n",
    "        "
   ]
  },
  {
   "cell_type": "markdown",
   "id": "4bcd7599",
   "metadata": {},
   "source": [
    "        # Find all OCR image files"
   ]
  },
  {
   "cell_type": "code",
   "execution_count": null,
   "id": "ff50964d",
   "metadata": {},
   "outputs": [],
   "source": [
    "        ocr_files = list(ocr_images_dir.glob(\"*.png\"))\n",
    "        if not ocr_files:\n",
    "            section_header.append(Paragraph(\"No OCR screenshots found in the ocr_images directory.\", normal_style))\n",
    "            section_header.append(Spacer(1, 12))\n",
    "            section_header.append(Paragraph(\"OCR screenshots show text detection with bounding boxes around detected UI elements.\", normal_style))\n",
    "            story.extend(section_header)\n",
    "            return story\n",
    "        "
   ]
  },
  {
   "cell_type": "markdown",
   "id": "d5fffbb3",
   "metadata": {},
   "source": [
    "        # Sort files by name to maintain order"
   ]
  },
  {
   "cell_type": "code",
   "execution_count": null,
   "id": "0e6a9a15",
   "metadata": {},
   "outputs": [],
   "source": [
    "        ocr_files.sort(key=lambda x: x.name)\n",
    "        "
   ]
  },
  {
   "cell_type": "markdown",
   "id": "bdeaf1ec",
   "metadata": {},
   "source": [
    "        # Add description"
   ]
  },
  {
   "cell_type": "code",
   "execution_count": null,
   "id": "0ecf1a68",
   "metadata": {},
   "outputs": [],
   "source": [
    "        description_text = (\n",
    "            \"The following OCR screenshots show text detection results with bounding boxes around detected UI elements. \"\n",
    "            \"These images demonstrate how the computer vision system identifies and extracts text from the app interface \"\n",
    "            \"during automated testing.\"\n",
    "        )\n",
    "        section_header.append(Paragraph(description_text, normal_style))\n",
    "        section_header.append(Spacer(1, 12))\n",
    "        "
   ]
  },
  {
   "cell_type": "markdown",
   "id": "f9ef08f4",
   "metadata": {},
   "source": [
    "        # Add summary statistics"
   ]
  },
  {
   "cell_type": "code",
   "execution_count": null,
   "id": "1c4a8beb",
   "metadata": {},
   "outputs": [],
   "source": [
    "        total_ocr_images = len(ocr_files)\n",
    "        section_header.append(Paragraph(f\"<b>Total OCR Screenshots:</b> {total_ocr_images}\", normal_style))\n",
    "        section_header.append(Spacer(1, 12))\n",
    "        "
   ]
  },
  {
   "cell_type": "markdown",
   "id": "36a3b912",
   "metadata": {},
   "source": [
    "        # Keep section header together and add to story"
   ]
  },
  {
   "cell_type": "code",
   "execution_count": null,
   "id": "c480e908",
   "metadata": {},
   "outputs": [],
   "source": [
    "        story.extend(section_header)\n",
    "        "
   ]
  },
  {
   "cell_type": "markdown",
   "id": "aebf4b26",
   "metadata": {},
   "source": [
    "        # Limit to 25 screenshots and process in rows of 3"
   ]
  },
  {
   "cell_type": "code",
   "execution_count": null,
   "id": "9f2e0952",
   "metadata": {},
   "outputs": [],
   "source": [
    "        max_screenshots = 25\n",
    "        images_per_row = 3\n",
    "        ocr_files = ocr_files[:max_screenshots]  # Limit to first 25\n",
    "        "
   ]
  },
  {
   "cell_type": "markdown",
   "id": "059470df",
   "metadata": {},
   "source": [
    "        # Add note if more screenshots exist"
   ]
  },
  {
   "cell_type": "code",
   "execution_count": null,
   "id": "e94f8fb8",
   "metadata": {},
   "outputs": [],
   "source": [
    "        if len(ocr_files) == max_screenshots and total_ocr_images > max_screenshots:\n",
    "            note_text = f\"<i>Note: Showing first {max_screenshots} OCR screenshots out of {total_ocr_images} total.</i>\"\n",
    "            story.append(Paragraph(note_text, normal_style))\n",
    "            story.append(Spacer(1, 12))\n",
    "        "
   ]
  },
  {
   "cell_type": "markdown",
   "id": "c92f00bc",
   "metadata": {},
   "source": [
    "        # Process OCR images in rows of 3"
   ]
  },
  {
   "cell_type": "code",
   "execution_count": null,
   "id": "de324964",
   "metadata": {},
   "outputs": [],
   "source": [
    "        for i in range(0, len(ocr_files), images_per_row):\n",
    "            row_files = ocr_files[i:i + images_per_row]\n",
    "            "
   ]
  },
  {
   "cell_type": "markdown",
   "id": "3f087186",
   "metadata": {},
   "source": [
    "            # Create row content that should stay together"
   ]
  },
  {
   "cell_type": "code",
   "execution_count": null,
   "id": "dad840b6",
   "metadata": {},
   "outputs": [],
   "source": [
    "            row_content = []\n",
    "            "
   ]
  },
  {
   "cell_type": "markdown",
   "id": "8c357013",
   "metadata": {},
   "source": [
    "            # Create row header"
   ]
  },
  {
   "cell_type": "code",
   "execution_count": null,
   "id": "febce7b1",
   "metadata": {},
   "outputs": [],
   "source": [
    "            row_start = i + 1\n",
    "            row_end = min(i + images_per_row, len(ocr_files))\n",
    "            row_header = f\"📸 OCR Screenshots #{row_start:02d}-#{row_end:02d}\"\n",
    "            row_content.append(Paragraph(row_header, heading3_style))\n",
    "            row_content.append(Spacer(1, 6))\n",
    "            "
   ]
  },
  {
   "cell_type": "markdown",
   "id": "8dfbb4e7",
   "metadata": {},
   "source": [
    "            # Create table for this row of images"
   ]
  },
  {
   "cell_type": "code",
   "execution_count": null,
   "id": "4eee1e50",
   "metadata": {},
   "outputs": [],
   "source": [
    "            row_data = []\n",
    "            for j, ocr_file in enumerate(row_files):\n",
    "                try:"
   ]
  },
  {
   "cell_type": "markdown",
   "id": "4998660c",
   "metadata": {},
   "source": [
    "                    # Create image with larger size for 3-column layout"
   ]
  },
  {
   "cell_type": "code",
   "execution_count": null,
   "id": "76b86063",
   "metadata": {},
   "outputs": [],
   "source": [
    "                    img = Image(str(ocr_file), width=2.6*inch, height=1.95*inch, kind='bound')\n",
    "                    "
   ]
  },
  {
   "cell_type": "markdown",
   "id": "67b6d2a2",
   "metadata": {},
   "source": [
    "                    # Create cell content with image and file info"
   ]
  },
  {
   "cell_type": "code",
   "execution_count": null,
   "id": "c2e182e2",
   "metadata": {},
   "outputs": [],
   "source": [
    "                    cell_content = [\n",
    "                        img,\n",
    "                        Paragraph(f\"<b>{ocr_file.stem}</b>\", normal_style),\n",
    "                        Paragraph(f\"Size: {ocr_file.stat().st_size / 1024:.1f} KB\", normal_style)\n",
    "                    ]\n",
    "                    row_data.append(cell_content)\n",
    "                    \n",
    "                except Exception as e:\n",
    "                    logger.warning(f\"Could not add OCR image {ocr_file}: {e}\")\n",
    "                    cell_content = [\n",
    "                        Paragraph(f\"⚠️ Error loading image\", normal_style),\n",
    "                        Paragraph(f\"<b>{ocr_file.name}</b>\", normal_style),\n",
    "                        Paragraph(\"File not available\", normal_style)\n",
    "                    ]\n",
    "                    row_data.append(cell_content)\n",
    "            "
   ]
  },
  {
   "cell_type": "markdown",
   "id": "bab897c6",
   "metadata": {},
   "source": [
    "            # Pad row with empty cells if needed"
   ]
  },
  {
   "cell_type": "code",
   "execution_count": null,
   "id": "85dd417a",
   "metadata": {},
   "outputs": [],
   "source": [
    "            while len(row_data) < images_per_row:\n",
    "                row_data.append([\n",
    "                    Paragraph(\"\", normal_style),\n",
    "                    Paragraph(\"\", normal_style),\n",
    "                    Paragraph(\"\", normal_style)\n",
    "                ])\n",
    "            "
   ]
  },
  {
   "cell_type": "markdown",
   "id": "56df5106",
   "metadata": {},
   "source": [
    "            # Create table for this row"
   ]
  },
  {
   "cell_type": "code",
   "execution_count": null,
   "id": "e3251144",
   "metadata": {},
   "outputs": [],
   "source": [
    "            row_table = Table(row_data, colWidths=[2.8*inch, 2.8*inch, 2.8*inch])\n",
    "            row_table.setStyle(TableStyle([\n",
    "                ('ALIGN', (0, 0), (-1, -1), 'CENTER'),\n",
    "                ('VALIGN', (0, 0), (-1, -1), 'TOP'),\n",
    "                ('LEFTPADDING', (0, 0), (-1, -1), 5),\n",
    "                ('RIGHTPADDING', (0, 0), (-1, -1), 5),\n",
    "                ('BOTTOMPADDING', (0, 0), (-1, -1), 5),\n",
    "                ('TOPPADDING', (0, 0), (-1, -1), 5),\n",
    "                ('GRID', (0, 0), (-1, -1), 0.5, colors.HexColor('#DEE2E6')),\n",
    "            ]))\n",
    "            \n",
    "            row_content.append(row_table)\n",
    "            row_content.append(Spacer(1, 12))\n",
    "            "
   ]
  },
  {
   "cell_type": "markdown",
   "id": "e94aed40",
   "metadata": {},
   "source": [
    "            # Keep each row together and add to story"
   ]
  },
  {
   "cell_type": "code",
   "execution_count": null,
   "id": "9e38ddac",
   "metadata": {},
   "outputs": [],
   "source": [
    "            story.append(KeepTogether(row_content))\n",
    "            "
   ]
  },
  {
   "cell_type": "markdown",
   "id": "31857e34",
   "metadata": {},
   "source": [
    "            # Add page break after every 4 rows (12 images) for better spacing"
   ]
  },
  {
   "cell_type": "markdown",
   "id": "6fd700c6",
   "metadata": {},
   "source": [
    "Main function to demonstrate the final report generator."
   ]
  },
  {
   "cell_type": "code",
   "execution_count": null,
   "id": "d1728b9d",
   "metadata": {},
   "outputs": [],
   "source": [
    "            if (i + images_per_row) % (images_per_row * 4) == 0 and (i + images_per_row) < len(ocr_files):\n",
    "                story.append(PageBreak())\n",
    "                story.append(KeepTogether([\n",
    "                    Paragraph(\"🔍 OCR Screenshots (Continued)\", heading1_style),\n",
    "                    Spacer(1, 12)\n",
    "                ]))\n",
    "\n",
    "        return story\n",
    "\n",
    "\n",
    "def main():\n",
    "    import argparse\n",
    "    \n",
    "    parser = argparse.ArgumentParser(description=\"Generate Final Comprehensive PDF Report\")\n",
    "    parser.add_argument(\"--output-dir\", default=\".\",\n",
    "                       help=\"Base output directory for the final report (will create test_com_appname subdirectory)\")\n",
    "    parser.add_argument(\"--app-name\", default=None,\n",
    "                       help=\"App name (will auto-extract from package if not provided)\")\n",
    "    parser.add_argument(\"--package-name\", default=\"com.ak.ta.dainikbhaskar.activity\",\n",
    "                       help=\"Package name of the app\")\n",
    "    parser.add_argument(\"--demo\", action=\"store_true\",\n",
    "                       help=\"Run with demo data\")\n",
    "    \n",
    "    args = parser.parse_args()\n",
    "    "
   ]
  },
  {
   "cell_type": "markdown",
   "id": "e7fa68f1",
   "metadata": {},
   "source": [
    "    # Initialize generator with dynamic app name extraction"
   ]
  },
  {
   "cell_type": "code",
   "execution_count": null,
   "id": "bc230a2d",
   "metadata": {},
   "outputs": [],
   "source": [
    "    generator = FinalReportGenerator(\n",
    "        output_dir=args.output_dir,\n",
    "        app_name=args.app_name,\n",
    "        package_name=args.package_name\n",
    "    )\n",
    "    "
   ]
  },
  {
   "cell_type": "markdown",
   "id": "d3764dec",
   "metadata": {},
   "source": [
    "    # Set the test duration based on the provided report"
   ]
  },
  {
   "cell_type": "code",
   "execution_count": null,
   "id": "30e88bb9",
   "metadata": {},
   "outputs": [],
   "source": [
    "    test_start = datetime(2025, 7, 19, 17, 54, 11) # Adjusted for the 37s duration ending at 17:54:48\n",
    "    test_end = datetime(2025, 7, 19, 17, 54, 48)\n",
    "    generator.set_test_start_time(test_start)\n",
    "    generator.set_test_end_time(test_end)\n",
    "\n",
    "    if args.demo:"
   ]
  },
  {
   "cell_type": "markdown",
   "id": "add353ee",
   "metadata": {},
   "source": [
    "        # Add demo data matching the provided report structure"
   ]
  },
  {
   "cell_type": "code",
   "execution_count": null,
   "id": "79d866b6",
   "metadata": {},
   "outputs": [],
   "source": [
    "        logger.info(\"Adding demo data mimicking the provided report...\")\n",
    "        "
   ]
  },
  {
   "cell_type": "markdown",
   "id": "536d623c",
   "metadata": {},
   "source": [
    "        # Add demo App States (Total 17)"
   ]
  },
  {
   "cell_type": "code",
   "execution_count": null,
   "id": "74890b29",
   "metadata": {},
   "outputs": [],
   "source": [
    "        for i in range(17):\n",
    "            state = AppState(\n",
    "                state_id=f\"state_{i}\",\n",
    "                activity_name=generator.package_name, # Use the actual package name\n",
    "                description=f\"App state {i} description.\",\n",
    "                screenshot_path=os.path.join(generator.output_dir, \"images\", f\"screenshot_state_{i}.png\"), # Placeholder\n",
    "                elements=[] # Can populate with more details if needed for analysis\n",
    "            )\n",
    "            generator.add_app_state(state)\n",
    "        "
   ]
  },
  {
   "cell_type": "markdown",
   "id": "875c2932",
   "metadata": {},
   "source": [
    "        # Populate elements for UI/UX analysis based on the report"
   ]
  },
  {
   "cell_type": "code",
   "execution_count": null,
   "id": "f44ff67e",
   "metadata": {},
   "outputs": [],
   "source": [
    "        if \"state_0\" in generator.app_states:\n",
    "            generator.app_states[\"state_0\"].elements.extend([\n",
    "                {\"element_type\": \"colored_button\", \"text\": \"Proceed\", \"confidence\": 0.95},\n",
    "                {\"element_type\": \"edge_bounded\", \"text\": \"Top Bar\", \"confidence\": 0.88},\n",
    "                {\"element_type\": \"button\", \"text\": \"Menu\", \"confidence\": 0.90}\n",
    "            ])"
   ]
  },
  {
   "cell_type": "markdown",
   "id": "42e93bd6",
   "metadata": {},
   "source": [
    "        # Add more specific elements if needed for feature analysis accuracy\n",
    "        # For simplicity, will use general element types as indicated in the report for analysis\n",
    "        # Adding elements for the analysis to pick up specific keywords"
   ]
  },
  {
   "cell_type": "code",
   "execution_count": null,
   "id": "bc043ffa",
   "metadata": {},
   "outputs": [],
   "source": [
    "        if \"state_1\" in generator.app_states:\n",
    "            generator.app_states[\"state_1\"].elements.extend([\n",
    "                {\"element_type\": \"navigation_tap\", \"text\": \"Home\", \"confidence\": 0.92},\n",
    "                {\"element_type\": \"colored_button\", \"text\": \"Explore Now\", \"confidence\": 0.96},\n",
    "                {\"element_type\": \"text\", \"text\": \"Daily News Digest\", \"confidence\": 0.85}\n",
    "            ])\n",
    "        if \"state_2\" in generator.app_states:\n",
    "            generator.app_states[\"state_2\"].elements.extend([\n",
    "                {\"element_type\": \"center_tap\", \"text\": \"View Article\", \"confidence\": 0.91},\n",
    "                {\"element_type\": \"navigation_tap\", \"text\": \"Categories\", \"confidence\": 0.89},\n",
    "                {\"element_type\": \"button\", \"text\": \"Search\", \"confidence\": 0.87}\n",
    "            ])\n",
    "        if \"state_3\" in generator.app_states:\n",
    "            generator.app_states[\"state_3\"].elements.extend([\n",
    "                {\"element_type\": \"secondary_action\", \"text\": \"Share\", \"confidence\": 0.88},\n",
    "                {\"element_type\": \"text\", \"text\": \"Breaking News\", \"confidence\": 0.90}\n",
    "            ])"
   ]
  },
  {
   "cell_type": "markdown",
   "id": "80136dc1",
   "metadata": {},
   "source": [
    "        # Add a \"skip\" button to some state for testing accessibility recommendation logic"
   ]
  },
  {
   "cell_type": "code",
   "execution_count": null,
   "id": "e72a61c7",
   "metadata": {},
   "outputs": [],
   "source": [
    "        if \"state_4\" in generator.app_states:\n",
    "            generator.app_states[\"state_4\"].elements.extend([\n",
    "                {\"element_type\": \"button\", \"text\": \"Skip Tutorial\", \"confidence\": 0.90}\n",
    "            ])\n"
   ]
  },
  {
   "cell_type": "markdown",
   "id": "034c7be4",
   "metadata": {},
   "source": [
    "        # Add LLM Events (Total 16)"
   ]
  },
  {
   "cell_type": "code",
   "execution_count": null,
   "id": "ff5c69fb",
   "metadata": {},
   "outputs": [],
   "source": [
    "        llm_events_data = [\n",
    "            {\"timestamp\": \"17:54:28\", \"state_id\": \"state_0\", \"element_id\": \"primary_action\", \"action\": \"tap\", \"resulting_state_id\": \"state_1\", \"reasoning\": \"User tapped on the primary action button to proceed with the main workflow\", \"screenshot_path\": \"page3_img1.png\"},\n",
    "            {\"timestamp\": \"17:54:28\", \"state_id\": \"state_1\", \"element_id\": \"primary_action\", \"action\": \"tap\", \"resulting_state_id\": \"state_1\", \"reasoning\": \"User tapped on the primary action button to proceed with the main workflow\", \"screenshot_path\": \"page3_img2.png\"},\n",
    "            {\"timestamp\": \"17:54:30\", \"state_id\": \"state_1\", \"element_id\": \"navigation_tap\", \"action\": \"tap\", \"resulting_state_id\": \"state_2\", \"reasoning\": \"User tapped on a navigation element to move to a different section\", \"screenshot_path\": \"page4_img1.png\"},\n",
    "            {\"timestamp\": \"17:54:30\", \"state_id\": \"state_2\", \"element_id\": \"navigation_tap\", \"action\": \"tap\", \"resulting_state_id\": \"state_2\", \"reasoning\": \"User tapped on a navigation element to move to a different section\", \"screenshot_path\": \"page4_img2.png\"},\n",
    "            {\"timestamp\": \"17:54:32\", \"state_id\": \"state_2\", \"element_id\": \"center_tap\", \"action\": \"tap\", \"resulting_state_id\": \"state_3\", \"reasoning\": \"User tapped on center tap element to interact with the interface\", \"screenshot_path\": \"page4_img3.png\"},\n",
    "            {\"timestamp\": \"17:54:33\", \"state_id\": \"state_3\", \"element_id\": \"secondary_action\", \"action\": \"tap\", \"resulting_state_id\": \"state_4\", \"reasoning\": \"User tapped on secondary action element to interact with the interface\"},\n",
    "            {\"timestamp\": \"17:54:35\", \"state_id\": \"state_4\", \"element_id\": \"navigation_tap\", \"action\": \"tap\", \"resulting_state_id\": \"state_5\", \"reasoning\": \"User tapped on a navigation element to move to a different section\"},\n",
    "            {\"timestamp\": \"17:54:35\", \"state_id\": \"state_5\", \"element_id\": \"navigation_tap\", \"action\": \"tap\", \"resulting_state_id\": \"state_5\", \"reasoning\": \"User tapped on a navigation element to move to a different section\"},\n",
    "            {\"timestamp\": \"17:54:38\", \"state_id\": \"state_5\", \"element_id\": \"swipe_prev\", \"action\": \"swipe\", \"resulting_state_id\": \"state_6\", \"reasoning\": \"No reasoning available\", \"screenshot_path\": \"page5_img1.png\"},\n",
    "            {\"timestamp\": \"17:54:38\", \"state_id\": \"state_6\", \"element_id\": \"swipe_prev\", \"action\": \"swipe\", \"resulting_state_id\": \"state_6\", \"reasoning\": \"No reasoning available\"},\n",
    "            {\"timestamp\": \"17:54:40\", \"state_id\": \"state_6\", \"element_id\": \"edge_tap\", \"action\": \"tap\", \"resulting_state_id\": \"state_7\", \"reasoning\": \"User tapped on an edge area to interact with boundary elements\"},\n",
    "            {\"timestamp\": \"17:54:42\", \"state_id\": \"state_7\", \"element_id\": \"navigation_tap\", \"action\": \"tap\", \"resulting_state_id\": \"state_8\", \"reasoning\": \"User tapped on a navigation element to move to a different section\"},\n",
    "            {\"timestamp\": \"17:54:42\", \"state_id\": \"state_8\", \"element_id\": \"navigation_tap\", \"action\": \"tap\", \"resulting_state_id\": \"state_8\", \"reasoning\": \"User tapped on a navigation element to move to a different section\"},\n",
    "            {\"timestamp\": \"17:54:44\", \"state_id\": \"state_8\", \"element_id\": \"swipe_menu\", \"action\": \"swipe\", \"resulting_state_id\": \"state_9\", \"reasoning\": \"User swiped a menu to reveal additional navigation options\"},\n",
    "            {\"timestamp\": \"17:54:47\", \"state_id\": \"state_9\", \"element_id\": \"primary_action\", \"action\": \"tap\", \"resulting_state_id\": \"state_10\", \"reasoning\": \"User tapped on the primary action button to proceed with the main workflow\"},\n",
    "            {\"timestamp\": \"17:54:47\", \"state_id\": \"state_10\", \"element_id\": \"primary_action\", \"action\": \"tap\", \"resulting_state_id\": \"state_10\", \"reasoning\": \"User tapped on the primary action button to proceed with the main workflow\"}\n",
    "        ]\n"
   ]
  },
  {
   "cell_type": "markdown",
   "id": "09ae151f",
   "metadata": {},
   "source": [
    "        # Create dummy image files for screenshots"
   ]
  },
  {
   "cell_type": "code",
   "execution_count": null,
   "id": "92df89d8",
   "metadata": {},
   "outputs": [],
   "source": [
    "        for event_data in llm_events_data:\n",
    "            if \"screenshot_path\" in event_data and event_data[\"screenshot_path\"]:\n",
    "                dummy_image_path = os.path.join(generator.output_dir, \"images\", event_data[\"screenshot_path\"])"
   ]
  },
  {
   "cell_type": "markdown",
   "id": "27534231",
   "metadata": {},
   "source": [
    "                # Create a dummy image file (e.g., a blank PNG)"
   ]
  },
  {
   "cell_type": "code",
   "execution_count": null,
   "id": "cc46ef9c",
   "metadata": {},
   "outputs": [],
   "source": [
    "                from PIL import Image as PILImage\n",
    "                PILImage.new('RGB', (400, 600), color = 'lightgrey').save(dummy_image_path)\n",
    "                event_data[\"screenshot_path\"] = dummy_image_path # Update path to absolute\n",
    "\n",
    "        for event_data in llm_events_data:\n",
    "            event = LLMEvent(\n",
    "                timestamp=event_data[\"timestamp\"],\n",
    "                state_id=event_data[\"state_id\"],\n",
    "                element_id=event_data[\"element_id\"],\n",
    "                action=event_data[\"action\"],\n",
    "                resulting_state_id=event_data[\"resulting_state_id\"],\n",
    "                reasoning=event_data[\"reasoning\"],\n",
    "                screenshot_path=event_data.get(\"screenshot_path\", \"\")\n",
    "            )\n",
    "            generator.add_llm_event(event)\n",
    "\n",
    "    "
   ]
  },
  {
   "cell_type": "markdown",
   "id": "7c490cb5",
   "metadata": {},
   "source": [
    "    # Generate the comprehensive report"
   ]
  },
  {
   "cell_type": "code",
   "execution_count": null,
   "id": "102948cb",
   "metadata": {},
   "outputs": [],
   "source": [
    "    report_path = generator.generate_comprehensive_report()\n",
    "    \n",
    "    logger.info(\"🎉 Final comprehensive PDF report generated successfully!\")\n",
    "    logger.info(f\"📊 Report available at: {report_path}\")\n",
    "    logger.info(\"📋 Report includes:\")\n",
    "    logger.info(\"  - Executive Summary\")\n",
    "    logger.info(\"  - Test Statistics\")\n",
    "    logger.info(\"  - LLM Event Log\")\n",
    "    logger.info(\"  - Feature Analysis\")\n",
    "    logger.info(\"  - Analysis & Recommendations\")\n",
    "\n",
    "\n",
    "if __name__ == \"__main__\":\n",
    "    main()"
   ]
  }
 ],
 "metadata": {
  "kernelspec": {
   "display_name": "Python 3",
   "language": "python",
   "name": "python3"
  },
  "language_info": {
   "codemirror_mode": {
    "name": "ipython",
    "version": 3
   },
   "file_extension": ".py",
   "mimetype": "text/x-python",
   "name": "python",
   "nbconvert_exporter": "python",
   "pygments_lexer": "ipython3",
   "version": "3.10.0"
  }
 },
 "nbformat": 4,
 "nbformat_minor": 5
}
